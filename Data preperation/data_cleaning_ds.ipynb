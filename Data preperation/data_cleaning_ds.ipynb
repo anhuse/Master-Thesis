{
 "cells": [
  {
   "cell_type": "markdown",
   "id": "satisfied-belle",
   "metadata": {},
   "source": [
    "# Cleaning data\n",
    ">This file contains functionality for writing data (timeseries and curreny-mappings) to the desired format to fasilitate further exploration and analysis. The *'data.xlsx'* file refers to the file where all the raw data gathered from datastream is stored.\n",
    ">> Interest rates are gathered from Norges Bank\n",
    "\n",
    "### Overview\n",
    "* [Equities](#Equities)\n",
    "    * [Currencies](Currencies)\n",
    "    * [Data for a single country](#Data-for-a-single-country)\n",
    "    * [Data for multiple contries](#Data-for-multiple-contries)\n",
    "* [Exchange_rate_NO](#Exchange_rate_NO)\n",
    "    \n",
    "* [Factors](#Factors)\n",
    "    * [ISM-PMI](#ISM-PMI)\n",
    "* [Indices](#Indices)"
   ]
  },
  {
   "cell_type": "code",
   "execution_count": 15,
   "id": "genuine-conversation",
   "metadata": {},
   "outputs": [],
   "source": [
    "import pandas as pd\n",
    "import numpy as np\n",
    "from datetime import datetime\n",
    "from progress.bar import Bar"
   ]
  },
  {
   "cell_type": "code",
   "execution_count": 47,
   "id": "several-dress",
   "metadata": {},
   "outputs": [],
   "source": [
    "### GLOBAL VARIABLES\n",
    "\n",
    "PERIOD_START = '2013-01-01'\n",
    "\n",
    "indices = ['Norway', 'France', 'US', 'UK', 'Italy', 'Canada',\n",
    "           'Australia', 'Austria', 'Hong Kong', 'Japan', 'Sweden', 'Chile',\n",
    "           'Denmark', 'Finland', 'China']\n",
    "\n",
    "indices2 = ['Germany', 'Spain']"
   ]
  },
  {
   "cell_type": "markdown",
   "id": "optimum-match",
   "metadata": {},
   "source": [
    "### Equities"
   ]
  },
  {
   "cell_type": "markdown",
   "id": "satellite-mileage",
   "metadata": {},
   "source": [
    "#### Currencies"
   ]
  },
  {
   "cell_type": "code",
   "execution_count": 9,
   "id": "australian-spanking",
   "metadata": {},
   "outputs": [],
   "source": [
    "def curr_mapping(countries: list, skiprows:int = 3) -> dict:\n",
    "    \"\"\"\n",
    "    Extracts the currencies of each of the equties in each country\n",
    "    Return a nested dictionary, with countries at the top level,\n",
    "    and equties at the second\n",
    "    \"\"\"\n",
    "    \n",
    "    all = {}\n",
    "    \n",
    "    for c in countries:\n",
    "        \n",
    "        try:\n",
    "            df = pd.read_excel('data.xlsx',\n",
    "                               sheet_name=c,\n",
    "                               skiprows=skiprows,\n",
    "                               index_col='Name')\n",
    "        except:\n",
    "            print(\"An error occured when reading the file\")\n",
    "            \n",
    "        single = {}\n",
    "        \n",
    "        for e in df.columns:\n",
    "            try:\n",
    "                curr = df[e].loc['CURRENCY']\n",
    "                single[e] = curr\n",
    "            except:\n",
    "                print(\"An error occured when fetching the currencies\")\n",
    "            \n",
    "        all[c] = single\n",
    "        \n",
    "    return all\n",
    "        \n",
    "def curr_mapping_country(countries: list, skiprows:int = 3) -> dict:\n",
    "    \n",
    "    curr = {}\n",
    "    \n",
    "    for c in countries:\n",
    "        \n",
    "        try:\n",
    "            df = pd.read_excel('data.xlsx',\n",
    "                               sheet_name=c,\n",
    "                               skiprows=skiprows,\n",
    "                               index_col='Name')\n",
    "        except:\n",
    "            print(\"An error occured when reading the file\")\n",
    "            \n",
    "        curr[c] = df.iloc[0,0]\n",
    "        \n",
    "    return curr\n",
    "        "
   ]
  },
  {
   "cell_type": "code",
   "execution_count": 10,
   "id": "attractive-athletics",
   "metadata": {},
   "outputs": [
    {
     "data": {
      "application/javascript": [
       "\n",
       "        if (window._pyforest_update_imports_cell) { window._pyforest_update_imports_cell('import pandas as pd'); }\n",
       "    "
      ],
      "text/plain": [
       "<IPython.core.display.Javascript object>"
      ]
     },
     "metadata": {},
     "output_type": "display_data"
    },
    {
     "data": {
      "application/javascript": [
       "\n",
       "        if (window._pyforest_update_imports_cell) { window._pyforest_update_imports_cell('import pandas as pd'); }\n",
       "    "
      ],
      "text/plain": [
       "<IPython.core.display.Javascript object>"
      ]
     },
     "metadata": {},
     "output_type": "display_data"
    },
    {
     "data": {
      "application/javascript": [
       "\n",
       "        if (window._pyforest_update_imports_cell) { window._pyforest_update_imports_cell('import pandas as pd'); }\n",
       "    "
      ],
      "text/plain": [
       "<IPython.core.display.Javascript object>"
      ]
     },
     "metadata": {},
     "output_type": "display_data"
    },
    {
     "data": {
      "application/javascript": [
       "\n",
       "        if (window._pyforest_update_imports_cell) { window._pyforest_update_imports_cell('import pandas as pd'); }\n",
       "    "
      ],
      "text/plain": [
       "<IPython.core.display.Javascript object>"
      ]
     },
     "metadata": {},
     "output_type": "display_data"
    },
    {
     "data": {
      "application/javascript": [
       "\n",
       "        if (window._pyforest_update_imports_cell) { window._pyforest_update_imports_cell('import pandas as pd'); }\n",
       "    "
      ],
      "text/plain": [
       "<IPython.core.display.Javascript object>"
      ]
     },
     "metadata": {},
     "output_type": "display_data"
    },
    {
     "data": {
      "application/javascript": [
       "\n",
       "        if (window._pyforest_update_imports_cell) { window._pyforest_update_imports_cell('import pandas as pd'); }\n",
       "    "
      ],
      "text/plain": [
       "<IPython.core.display.Javascript object>"
      ]
     },
     "metadata": {},
     "output_type": "display_data"
    },
    {
     "data": {
      "application/javascript": [
       "\n",
       "        if (window._pyforest_update_imports_cell) { window._pyforest_update_imports_cell('import pandas as pd'); }\n",
       "    "
      ],
      "text/plain": [
       "<IPython.core.display.Javascript object>"
      ]
     },
     "metadata": {},
     "output_type": "display_data"
    },
    {
     "data": {
      "application/javascript": [
       "\n",
       "        if (window._pyforest_update_imports_cell) { window._pyforest_update_imports_cell('import pandas as pd'); }\n",
       "    "
      ],
      "text/plain": [
       "<IPython.core.display.Javascript object>"
      ]
     },
     "metadata": {},
     "output_type": "display_data"
    },
    {
     "data": {
      "application/javascript": [
       "\n",
       "        if (window._pyforest_update_imports_cell) { window._pyforest_update_imports_cell('import pandas as pd'); }\n",
       "    "
      ],
      "text/plain": [
       "<IPython.core.display.Javascript object>"
      ]
     },
     "metadata": {},
     "output_type": "display_data"
    },
    {
     "data": {
      "application/javascript": [
       "\n",
       "        if (window._pyforest_update_imports_cell) { window._pyforest_update_imports_cell('import pandas as pd'); }\n",
       "    "
      ],
      "text/plain": [
       "<IPython.core.display.Javascript object>"
      ]
     },
     "metadata": {},
     "output_type": "display_data"
    },
    {
     "data": {
      "application/javascript": [
       "\n",
       "        if (window._pyforest_update_imports_cell) { window._pyforest_update_imports_cell('import pandas as pd'); }\n",
       "    "
      ],
      "text/plain": [
       "<IPython.core.display.Javascript object>"
      ]
     },
     "metadata": {},
     "output_type": "display_data"
    },
    {
     "data": {
      "application/javascript": [
       "\n",
       "        if (window._pyforest_update_imports_cell) { window._pyforest_update_imports_cell('import pandas as pd'); }\n",
       "    "
      ],
      "text/plain": [
       "<IPython.core.display.Javascript object>"
      ]
     },
     "metadata": {},
     "output_type": "display_data"
    },
    {
     "data": {
      "application/javascript": [
       "\n",
       "        if (window._pyforest_update_imports_cell) { window._pyforest_update_imports_cell('import pandas as pd'); }\n",
       "    "
      ],
      "text/plain": [
       "<IPython.core.display.Javascript object>"
      ]
     },
     "metadata": {},
     "output_type": "display_data"
    },
    {
     "data": {
      "application/javascript": [
       "\n",
       "        if (window._pyforest_update_imports_cell) { window._pyforest_update_imports_cell('import pandas as pd'); }\n",
       "    "
      ],
      "text/plain": [
       "<IPython.core.display.Javascript object>"
      ]
     },
     "metadata": {},
     "output_type": "display_data"
    },
    {
     "data": {
      "application/javascript": [
       "\n",
       "        if (window._pyforest_update_imports_cell) { window._pyforest_update_imports_cell('import pandas as pd'); }\n",
       "    "
      ],
      "text/plain": [
       "<IPython.core.display.Javascript object>"
      ]
     },
     "metadata": {},
     "output_type": "display_data"
    },
    {
     "data": {
      "text/plain": [
       "{'France': 'E',\n",
       " 'USA': 'U$',\n",
       " 'UK': '£',\n",
       " 'Germany': 'E',\n",
       " 'Spain': 'E',\n",
       " 'Italy': 'E',\n",
       " 'Canada': 'C$',\n",
       " 'Australia': 'A$',\n",
       " 'Hong Kong': 'K$',\n",
       " 'Japan': 'Y',\n",
       " 'Swiss': 'SF',\n",
       " 'Russia': 'UR',\n",
       " 'Sweden': 'SK',\n",
       " 'Denmark': 'DK',\n",
       " 'Finland': 'SK'}"
      ]
     },
     "execution_count": 10,
     "metadata": {},
     "output_type": "execute_result"
    }
   ],
   "source": [
    "m = curr_mapping_country(indices)\n",
    "m"
   ]
  },
  {
   "cell_type": "code",
   "execution_count": 5,
   "id": "olympic-attitude",
   "metadata": {},
   "outputs": [
    {
     "data": {
      "text/plain": [
       "{'LVMH': 'E',\n",
       " \"L'OREAL\": 'E',\n",
       " 'TOTALENERGIES': 'E',\n",
       " 'HERMES INTL.': 'E',\n",
       " 'SANOFI': 'E',\n",
       " 'CHRISTIAN DIOR': 'E',\n",
       " 'AIRBUS': 'E',\n",
       " 'KERING': 'E',\n",
       " 'SCHNEIDER ELECTRIC': 'E',\n",
       " 'BNP PARIBAS': 'E',\n",
       " 'ESSILORLUXOTTICA': 'E',\n",
       " 'L AIR LQE.SC.ANYME. POUR L ETUDE ET L EPXTN.': 'E',\n",
       " 'AXA': 'E',\n",
       " 'DASSAULT SYSTEMES': 'E',\n",
       " 'VINCI': 'E',\n",
       " 'PERNOD-RICARD': 'E',\n",
       " 'DANONE': 'E',\n",
       " 'SAFRAN': 'E',\n",
       " 'CREDIT AGRICOLE': 'E',\n",
       " 'SOCIETE GENERALE': 'E',\n",
       " 'STMICROELECTRONICS': 'E',\n",
       " 'CAPGEMINI': 'E',\n",
       " 'EDF': 'E',\n",
       " 'ENGIE': 'E',\n",
       " 'ORANGE': 'E',\n",
       " 'SAINT GOBAIN': 'E',\n",
       " 'SARTORIUS STEDIM BIOTECH': 'E',\n",
       " 'CARREFOUR': 'E',\n",
       " 'CMPG.DES ETS.MICH.': 'E',\n",
       " 'LEGRAND': 'E'}"
      ]
     },
     "execution_count": 5,
     "metadata": {},
     "output_type": "execute_result"
    }
   ],
   "source": [
    "a = curr_mapping(['USA', 'France'])\n",
    "a['France']"
   ]
  },
  {
   "cell_type": "markdown",
   "id": "optical-negotiation",
   "metadata": {},
   "source": [
    "#### Data for a single country"
   ]
  },
  {
   "cell_type": "code",
   "execution_count": 5,
   "id": "neutral-hypothetical",
   "metadata": {},
   "outputs": [
    {
     "data": {
      "application/javascript": [
       "\n",
       "        if (window._pyforest_update_imports_cell) { window._pyforest_update_imports_cell('import pandas as pd'); }\n",
       "    "
      ],
      "text/plain": [
       "<IPython.core.display.Javascript object>"
      ]
     },
     "metadata": {},
     "output_type": "display_data"
    }
   ],
   "source": [
    "def get_contry_eq_curr(country:  str,\n",
    "                       filename: str,\n",
    "                       skiprows: int = 3,\n",
    "                       start:    str ='2013-01-01') -> (pd.DataFrame, str):\n",
    "    \"\"\"\n",
    "    Reads and cleans data the equties of the specified country,\n",
    "    and returns a dataframe with each equity as a sepreate column\n",
    "    \"\"\"\n",
    "    try:\n",
    "        df = pd.read_excel(filename,\n",
    "                           sheet_name=country,\n",
    "                           skiprows=skiprows,\n",
    "#                            index_col='Name'\n",
    "                          )\n",
    "    except:\n",
    "        print(\"An error occured when reading the file\")\n",
    "        \n",
    "    curr = df.iloc[0,0]\n",
    "    df = df.drop('CURRENCY')\n",
    "    \n",
    "    df.index = df.index.astype(str).str[:-9]\n",
    "    assert type(df.index[0]) == str, \"Wrong index type\"\n",
    "    \n",
    "    df = df[start:]\n",
    "    \n",
    "    df.dropna(axis=1, inplace=True)\n",
    "    assert df.isnull().sum().sum() == 0, \"Null values still exist\"\n",
    "\n",
    "    \n",
    "    return df, curr"
   ]
  },
  {
   "cell_type": "code",
   "execution_count": null,
   "id": "compact-asian",
   "metadata": {},
   "outputs": [],
   "source": [
    "df_canada, curr_canada = get_contry_eq_curr('Canada')"
   ]
  },
  {
   "cell_type": "code",
   "execution_count": 7,
   "id": "optical-probe",
   "metadata": {},
   "outputs": [
    {
     "name": "stdout",
     "output_type": "stream",
     "text": [
      "C$\n"
     ]
    },
    {
     "data": {
      "text/html": [
       "<div>\n",
       "<style scoped>\n",
       "    .dataframe tbody tr th:only-of-type {\n",
       "        vertical-align: middle;\n",
       "    }\n",
       "\n",
       "    .dataframe tbody tr th {\n",
       "        vertical-align: top;\n",
       "    }\n",
       "\n",
       "    .dataframe thead th {\n",
       "        text-align: right;\n",
       "    }\n",
       "</style>\n",
       "<table border=\"1\" class=\"dataframe\">\n",
       "  <thead>\n",
       "    <tr style=\"text-align: right;\">\n",
       "      <th></th>\n",
       "      <th>ROYAL BANK OF CANADA</th>\n",
       "      <th>TORONTO-DOMINION BANK</th>\n",
       "      <th>ENBRIDGE</th>\n",
       "      <th>BK.OF NOVA SCOTIA</th>\n",
       "      <th>CANADIAN NATIONAL RY.</th>\n",
       "      <th>BROOKFIELD ASSET MAN.'A' (NYS)</th>\n",
       "      <th>BANK OF MONTREAL</th>\n",
       "      <th>CANADIAN NATURAL RES.</th>\n",
       "      <th>THOMSON REUTERS (NYS)</th>\n",
       "      <th>CANADIAN IMP.BK.COM.</th>\n",
       "      <th>...</th>\n",
       "      <th>TELUS</th>\n",
       "      <th>CENOVUS ENERGY</th>\n",
       "      <th>GREAT WEST LIFECO</th>\n",
       "      <th>IMPERIAL OIL</th>\n",
       "      <th>SUN LIFE FINL.</th>\n",
       "      <th>WASTE CONNECTIONS</th>\n",
       "      <th>FRANCO-NEVADA</th>\n",
       "      <th>LOBLAW</th>\n",
       "      <th>NATIONAL BANK OF CANADA</th>\n",
       "      <th>FORTIS</th>\n",
       "    </tr>\n",
       "    <tr>\n",
       "      <th>Name</th>\n",
       "      <th></th>\n",
       "      <th></th>\n",
       "      <th></th>\n",
       "      <th></th>\n",
       "      <th></th>\n",
       "      <th></th>\n",
       "      <th></th>\n",
       "      <th></th>\n",
       "      <th></th>\n",
       "      <th></th>\n",
       "      <th></th>\n",
       "      <th></th>\n",
       "      <th></th>\n",
       "      <th></th>\n",
       "      <th></th>\n",
       "      <th></th>\n",
       "      <th></th>\n",
       "      <th></th>\n",
       "      <th></th>\n",
       "      <th></th>\n",
       "      <th></th>\n",
       "    </tr>\n",
       "  </thead>\n",
       "  <tbody>\n",
       "    <tr>\n",
       "      <th>2013-01-01</th>\n",
       "      <td>59.88</td>\n",
       "      <td>41.87</td>\n",
       "      <td>43.02</td>\n",
       "      <td>57.46</td>\n",
       "      <td>45.16</td>\n",
       "      <td>15.4505</td>\n",
       "      <td>60.86</td>\n",
       "      <td>28.27</td>\n",
       "      <td>29.06</td>\n",
       "      <td>79.97</td>\n",
       "      <td>...</td>\n",
       "      <td>16.27</td>\n",
       "      <td>33.29</td>\n",
       "      <td>24.35</td>\n",
       "      <td>42.73</td>\n",
       "      <td>26.37</td>\n",
       "      <td>29.74</td>\n",
       "      <td>56.78</td>\n",
       "      <td>33.68</td>\n",
       "      <td>38.62</td>\n",
       "      <td>34.22</td>\n",
       "    </tr>\n",
       "    <tr>\n",
       "      <th>2013-01-02</th>\n",
       "      <td>60.5</td>\n",
       "      <td>41.59</td>\n",
       "      <td>43.07</td>\n",
       "      <td>57.5</td>\n",
       "      <td>45.38</td>\n",
       "      <td>15.6487</td>\n",
       "      <td>61.19</td>\n",
       "      <td>28.83</td>\n",
       "      <td>29.46</td>\n",
       "      <td>80.12</td>\n",
       "      <td>...</td>\n",
       "      <td>16.3</td>\n",
       "      <td>33.67</td>\n",
       "      <td>24.2</td>\n",
       "      <td>42.44</td>\n",
       "      <td>26.75</td>\n",
       "      <td>30.07</td>\n",
       "      <td>57.4</td>\n",
       "      <td>33.74</td>\n",
       "      <td>38.69</td>\n",
       "      <td>34.43</td>\n",
       "    </tr>\n",
       "    <tr>\n",
       "      <th>2013-01-03</th>\n",
       "      <td>60.7</td>\n",
       "      <td>41.18</td>\n",
       "      <td>43.02</td>\n",
       "      <td>57.34</td>\n",
       "      <td>45.31</td>\n",
       "      <td>15.6023</td>\n",
       "      <td>61.38</td>\n",
       "      <td>29.16</td>\n",
       "      <td>29.3</td>\n",
       "      <td>80.8</td>\n",
       "      <td>...</td>\n",
       "      <td>16.27</td>\n",
       "      <td>33.48</td>\n",
       "      <td>24.53</td>\n",
       "      <td>42.43</td>\n",
       "      <td>27.01</td>\n",
       "      <td>30.14</td>\n",
       "      <td>55.73</td>\n",
       "      <td>33.45</td>\n",
       "      <td>38.66</td>\n",
       "      <td>34.58</td>\n",
       "    </tr>\n",
       "    <tr>\n",
       "      <th>2013-01-04</th>\n",
       "      <td>61.07</td>\n",
       "      <td>41.4</td>\n",
       "      <td>43.16</td>\n",
       "      <td>57.59</td>\n",
       "      <td>45.28</td>\n",
       "      <td>15.8089</td>\n",
       "      <td>61.63</td>\n",
       "      <td>29.76</td>\n",
       "      <td>29.42</td>\n",
       "      <td>81.16</td>\n",
       "      <td>...</td>\n",
       "      <td>16.3</td>\n",
       "      <td>33.78</td>\n",
       "      <td>24.78</td>\n",
       "      <td>43.05</td>\n",
       "      <td>27.14</td>\n",
       "      <td>29.77</td>\n",
       "      <td>56</td>\n",
       "      <td>33.39</td>\n",
       "      <td>38.76</td>\n",
       "      <td>34.51</td>\n",
       "    </tr>\n",
       "    <tr>\n",
       "      <th>2013-01-07</th>\n",
       "      <td>60.81</td>\n",
       "      <td>41.28</td>\n",
       "      <td>43.01</td>\n",
       "      <td>57.65</td>\n",
       "      <td>45.32</td>\n",
       "      <td>15.8552</td>\n",
       "      <td>61.77</td>\n",
       "      <td>29.39</td>\n",
       "      <td>29.29</td>\n",
       "      <td>81.05</td>\n",
       "      <td>...</td>\n",
       "      <td>16.1</td>\n",
       "      <td>33.53</td>\n",
       "      <td>24.86</td>\n",
       "      <td>43.19</td>\n",
       "      <td>27.39</td>\n",
       "      <td>29.66</td>\n",
       "      <td>55.45</td>\n",
       "      <td>32.58</td>\n",
       "      <td>38.63</td>\n",
       "      <td>34.52</td>\n",
       "    </tr>\n",
       "  </tbody>\n",
       "</table>\n",
       "<p>5 rows × 28 columns</p>\n",
       "</div>"
      ],
      "text/plain": [
       "           ROYAL BANK OF CANADA TORONTO-DOMINION BANK ENBRIDGE  \\\n",
       "Name                                                             \n",
       "2013-01-01                59.88                 41.87    43.02   \n",
       "2013-01-02                 60.5                 41.59    43.07   \n",
       "2013-01-03                 60.7                 41.18    43.02   \n",
       "2013-01-04                61.07                  41.4    43.16   \n",
       "2013-01-07                60.81                 41.28    43.01   \n",
       "\n",
       "           BK.OF NOVA SCOTIA CANADIAN NATIONAL RY.  \\\n",
       "Name                                                 \n",
       "2013-01-01             57.46                 45.16   \n",
       "2013-01-02              57.5                 45.38   \n",
       "2013-01-03             57.34                 45.31   \n",
       "2013-01-04             57.59                 45.28   \n",
       "2013-01-07             57.65                 45.32   \n",
       "\n",
       "           BROOKFIELD ASSET MAN.'A' (NYS) BANK OF MONTREAL  \\\n",
       "Name                                                         \n",
       "2013-01-01                        15.4505            60.86   \n",
       "2013-01-02                        15.6487            61.19   \n",
       "2013-01-03                        15.6023            61.38   \n",
       "2013-01-04                        15.8089            61.63   \n",
       "2013-01-07                        15.8552            61.77   \n",
       "\n",
       "           CANADIAN NATURAL RES. THOMSON REUTERS (NYS) CANADIAN IMP.BK.COM.  \\\n",
       "Name                                                                          \n",
       "2013-01-01                 28.27                 29.06                79.97   \n",
       "2013-01-02                 28.83                 29.46                80.12   \n",
       "2013-01-03                 29.16                  29.3                 80.8   \n",
       "2013-01-04                 29.76                 29.42                81.16   \n",
       "2013-01-07                 29.39                 29.29                81.05   \n",
       "\n",
       "            ...  TELUS CENOVUS ENERGY GREAT WEST LIFECO IMPERIAL OIL  \\\n",
       "Name        ...                                                        \n",
       "2013-01-01  ...  16.27          33.29             24.35        42.73   \n",
       "2013-01-02  ...   16.3          33.67              24.2        42.44   \n",
       "2013-01-03  ...  16.27          33.48             24.53        42.43   \n",
       "2013-01-04  ...   16.3          33.78             24.78        43.05   \n",
       "2013-01-07  ...   16.1          33.53             24.86        43.19   \n",
       "\n",
       "           SUN LIFE FINL. WASTE CONNECTIONS FRANCO-NEVADA LOBLAW  \\\n",
       "Name                                                               \n",
       "2013-01-01          26.37             29.74         56.78  33.68   \n",
       "2013-01-02          26.75             30.07          57.4  33.74   \n",
       "2013-01-03          27.01             30.14         55.73  33.45   \n",
       "2013-01-04          27.14             29.77            56  33.39   \n",
       "2013-01-07          27.39             29.66         55.45  32.58   \n",
       "\n",
       "           NATIONAL BANK OF CANADA FORTIS  \n",
       "Name                                       \n",
       "2013-01-01                   38.62  34.22  \n",
       "2013-01-02                   38.69  34.43  \n",
       "2013-01-03                   38.66  34.58  \n",
       "2013-01-04                   38.76  34.51  \n",
       "2013-01-07                   38.63  34.52  \n",
       "\n",
       "[5 rows x 28 columns]"
      ]
     },
     "execution_count": 7,
     "metadata": {},
     "output_type": "execute_result"
    }
   ],
   "source": [
    "### Canada\n",
    "\n",
    "df_canada, curr_canada = get_contry_eq_curr('Canada')\n",
    "print(curr_canada)\n",
    "df_canada.head()"
   ]
  },
  {
   "cell_type": "code",
   "execution_count": 8,
   "id": "continued-professional",
   "metadata": {},
   "outputs": [
    {
     "data": {
      "text/plain": [
       "0"
      ]
     },
     "execution_count": 8,
     "metadata": {},
     "output_type": "execute_result"
    }
   ],
   "source": [
    "df_canada.isnull().sum().sum()"
   ]
  },
  {
   "cell_type": "markdown",
   "id": "primary-draft",
   "metadata": {},
   "source": [
    "#### Data for multiple contries"
   ]
  },
  {
   "cell_type": "code",
   "execution_count": 41,
   "id": "temporal-fifth",
   "metadata": {},
   "outputs": [],
   "source": [
    "def get_eqt_mult(contries: list,\n",
    "                 filename: str,\n",
    "                 skiprows: int = 0,\n",
    "                 start:    str = '2013-01-01',\n",
    "                 write_to_excel = False) -> dict:\n",
    "    \"\"\"\n",
    "    Reads and cleans data for the equties for the specified countries.\n",
    "    Returns a dictionary with the countries as keys, and the corrsponding\n",
    "    dataframe of equities as values\n",
    "    \"\"\"\n",
    "    \n",
    "    d = {}\n",
    "    \n",
    "    for c in contries:\n",
    "        df = pd.read_excel(filename,\n",
    "                           sheet_name=c,\n",
    "                           skiprows=skiprows,\n",
    "                           index_col='Name'\n",
    "                          )\n",
    "        df = df.drop('CURRENCY')\n",
    "        \n",
    "        df.index = df.index.astype(str).str[:-9]\n",
    "        assert type(df.index[0]) == str, \"Wrong index type\"\n",
    "        \n",
    "        df = df[start:]\n",
    "        \n",
    "        df.dropna(axis=1, inplace=True)\n",
    "        assert df.isnull().sum().sum() == 0, \"Null values still exist\"\n",
    "        \n",
    "        \n",
    "        if write_to_excel:\n",
    "            df.to_excel(c + '.xlsx')\n",
    "            print(f'{c} has been written to Excel')\n",
    "        \n",
    "        d[c] = df\n",
    "        print(f'{c} successfully')\n",
    "        \n",
    "        \n",
    "\n",
    "    return d"
   ]
  },
  {
   "cell_type": "code",
   "execution_count": 10,
   "id": "vital-cartoon",
   "metadata": {},
   "outputs": [
    {
     "name": "stdout",
     "output_type": "stream",
     "text": [
      "France has been written to Excel\n",
      "USA has been written to Excel\n",
      "UK has been written to Excel\n",
      "Germany has been written to Excel\n",
      "Spain has been written to Excel\n",
      "Italy has been written to Excel\n",
      "Canada has been written to Excel\n",
      "Australia has been written to Excel\n",
      "Hong Kong has been written to Excel\n",
      "Japan has been written to Excel\n",
      "Swiss has been written to Excel\n",
      "Russia has been written to Excel\n",
      "Sweden has been written to Excel\n",
      "Denmark has been written to Excel\n",
      "Finland has been written to Excel\n"
     ]
    },
    {
     "data": {
      "text/plain": [
       "dict_keys(['France', 'USA', 'UK', 'Germany', 'Spain', 'Italy', 'Canada', 'Australia', 'Hong Kong', 'Japan', 'Swiss', 'Russia', 'Sweden', 'Denmark', 'Finland'])"
      ]
     },
     "execution_count": 10,
     "metadata": {},
     "output_type": "execute_result"
    }
   ],
   "source": [
    "all_eq_data = get_eqt_mult(indices, filename='data.xlsx', write_to_excel=True)\n",
    "all_eq_data.keys()"
   ]
  },
  {
   "cell_type": "markdown",
   "id": "ongoing-praise",
   "metadata": {},
   "source": [
    "### 03/02/02 - More data"
   ]
  },
  {
   "cell_type": "code",
   "execution_count": 33,
   "id": "enclosed-england",
   "metadata": {},
   "outputs": [
    {
     "data": {
      "application/javascript": [
       "\n",
       "        if (window._pyforest_update_imports_cell) { window._pyforest_update_imports_cell('import pandas as pd'); }\n",
       "    "
      ],
      "text/plain": [
       "<IPython.core.display.Javascript object>"
      ]
     },
     "metadata": {},
     "output_type": "display_data"
    },
    {
     "data": {
      "text/html": [
       "<div>\n",
       "<style scoped>\n",
       "    .dataframe tbody tr th:only-of-type {\n",
       "        vertical-align: middle;\n",
       "    }\n",
       "\n",
       "    .dataframe tbody tr th {\n",
       "        vertical-align: top;\n",
       "    }\n",
       "\n",
       "    .dataframe thead th {\n",
       "        text-align: right;\n",
       "    }\n",
       "</style>\n",
       "<table border=\"1\" class=\"dataframe\">\n",
       "  <thead>\n",
       "    <tr style=\"text-align: right;\">\n",
       "      <th></th>\n",
       "      <th>Name</th>\n",
       "      <th>KWEICHOW MOUTAI 'A' - TOT RETURN IND</th>\n",
       "      <th>ALIBABA GROUP HOLDING ADR 1:8 - TOT RETURN IND</th>\n",
       "      <th>INDUSTRIAL &amp; COML.BK.OF CHINA 'A' - TOT RETURN IND</th>\n",
       "      <th>CONTEMPORARY AMPEREX TECHNOLOGY 'A' - TOT RETURN IND</th>\n",
       "      <th>CHINA CON.BANK 'H' - TOT RETURN IND</th>\n",
       "      <th>CHINA MERCHANTS BANK 'A' - TOT RETURN IND</th>\n",
       "      <th>AGRICULTURAL BANK OF CHINA 'A' - TOT RETURN IND</th>\n",
       "      <th>PETROCHINA 'A' - TOT RETURN IND</th>\n",
       "      <th>BANK OF CHINA 'A' - TOT RETURN IND</th>\n",
       "      <th>...</th>\n",
       "      <th>SAIC MOTOR 'A' - TOT RETURN IND</th>\n",
       "      <th>WILL SEMICONDUCTOR 'A' - TOT RETURN IND</th>\n",
       "      <th>ZHANGZHOU PIENTZEHUANG PHARMS.'A' - TOT RETURN IND</th>\n",
       "      <th>ZIJIN MINING GROUP 'A' - TOT RETURN IND</th>\n",
       "      <th>AIER EYE HOSPITAL GP.'A' - TOT RETURN IND</th>\n",
       "      <th>BOE TECH.GP.'A' - TOT RETURN IND</th>\n",
       "      <th>CHINA PAC.IN.(GROUP) 'A' - TOT RETURN IND</th>\n",
       "      <th>CHINA THREE GORGES RENEWABLES(GROUP) 'A' - TOT RETURN IND</th>\n",
       "      <th>CHINA VANKE 'A' - TOT RETURN IND</th>\n",
       "      <th>CHONGQING ZHIFEI BILG. PRDS.'A' - TOT RETURN IND</th>\n",
       "    </tr>\n",
       "  </thead>\n",
       "  <tbody>\n",
       "    <tr>\n",
       "      <th>0</th>\n",
       "      <td>CURRENCY</td>\n",
       "      <td>CH</td>\n",
       "      <td>U$</td>\n",
       "      <td>CH</td>\n",
       "      <td>CH</td>\n",
       "      <td>K$</td>\n",
       "      <td>CH</td>\n",
       "      <td>CH</td>\n",
       "      <td>CH</td>\n",
       "      <td>CH</td>\n",
       "      <td>...</td>\n",
       "      <td>CH</td>\n",
       "      <td>CH</td>\n",
       "      <td>CH</td>\n",
       "      <td>CH</td>\n",
       "      <td>CH</td>\n",
       "      <td>CH</td>\n",
       "      <td>CH</td>\n",
       "      <td>CH</td>\n",
       "      <td>CH</td>\n",
       "      <td>CH</td>\n",
       "    </tr>\n",
       "    <tr>\n",
       "      <th>1</th>\n",
       "      <td>2012-03-01 00:00:00</td>\n",
       "      <td>2615.12</td>\n",
       "      <td>NaN</td>\n",
       "      <td>158.08</td>\n",
       "      <td>NaN</td>\n",
       "      <td>339.4</td>\n",
       "      <td>365.55</td>\n",
       "      <td>103.56</td>\n",
       "      <td>26.29</td>\n",
       "      <td>96.14</td>\n",
       "      <td>...</td>\n",
       "      <td>557.07</td>\n",
       "      <td>NaN</td>\n",
       "      <td>500.82</td>\n",
       "      <td>52.53</td>\n",
       "      <td>134.44</td>\n",
       "      <td>28.3</td>\n",
       "      <td>46.13</td>\n",
       "      <td>NaN</td>\n",
       "      <td>12433.16</td>\n",
       "      <td>62.84</td>\n",
       "    </tr>\n",
       "    <tr>\n",
       "      <th>2</th>\n",
       "      <td>2012-03-02 00:00:00</td>\n",
       "      <td>2593.43</td>\n",
       "      <td>NaN</td>\n",
       "      <td>158.8</td>\n",
       "      <td>NaN</td>\n",
       "      <td>343.59</td>\n",
       "      <td>369.23</td>\n",
       "      <td>103.56</td>\n",
       "      <td>26.67</td>\n",
       "      <td>96.46</td>\n",
       "      <td>...</td>\n",
       "      <td>576.78</td>\n",
       "      <td>NaN</td>\n",
       "      <td>503.07</td>\n",
       "      <td>52.87</td>\n",
       "      <td>136.18</td>\n",
       "      <td>28.87</td>\n",
       "      <td>46.81</td>\n",
       "      <td>NaN</td>\n",
       "      <td>12927.48</td>\n",
       "      <td>63.65</td>\n",
       "    </tr>\n",
       "    <tr>\n",
       "      <th>3</th>\n",
       "      <td>2012-03-05 00:00:00</td>\n",
       "      <td>2579.74</td>\n",
       "      <td>NaN</td>\n",
       "      <td>157.01</td>\n",
       "      <td>NaN</td>\n",
       "      <td>336.78</td>\n",
       "      <td>364.42</td>\n",
       "      <td>103.18</td>\n",
       "      <td>26.36</td>\n",
       "      <td>95.51</td>\n",
       "      <td>...</td>\n",
       "      <td>563.4</td>\n",
       "      <td>NaN</td>\n",
       "      <td>498.64</td>\n",
       "      <td>52.42</td>\n",
       "      <td>136.86</td>\n",
       "      <td>28.58</td>\n",
       "      <td>45.73</td>\n",
       "      <td>NaN</td>\n",
       "      <td>12747.73</td>\n",
       "      <td>63.1</td>\n",
       "    </tr>\n",
       "    <tr>\n",
       "      <th>4</th>\n",
       "      <td>2012-03-06 00:00:00</td>\n",
       "      <td>2530.82</td>\n",
       "      <td>NaN</td>\n",
       "      <td>155.57</td>\n",
       "      <td>NaN</td>\n",
       "      <td>326.31</td>\n",
       "      <td>356.21</td>\n",
       "      <td>102.42</td>\n",
       "      <td>25.99</td>\n",
       "      <td>94.89</td>\n",
       "      <td>...</td>\n",
       "      <td>564.81</td>\n",
       "      <td>NaN</td>\n",
       "      <td>493.55</td>\n",
       "      <td>51.18</td>\n",
       "      <td>135.93</td>\n",
       "      <td>28.01</td>\n",
       "      <td>44.61</td>\n",
       "      <td>NaN</td>\n",
       "      <td>12627.89</td>\n",
       "      <td>62.32</td>\n",
       "    </tr>\n",
       "  </tbody>\n",
       "</table>\n",
       "<p>5 rows × 61 columns</p>\n",
       "</div>"
      ],
      "text/plain": [
       "                  Name KWEICHOW MOUTAI 'A' - TOT RETURN IND  \\\n",
       "0             CURRENCY                                   CH   \n",
       "1  2012-03-01 00:00:00                              2615.12   \n",
       "2  2012-03-02 00:00:00                              2593.43   \n",
       "3  2012-03-05 00:00:00                              2579.74   \n",
       "4  2012-03-06 00:00:00                              2530.82   \n",
       "\n",
       "  ALIBABA GROUP HOLDING ADR 1:8 - TOT RETURN IND  \\\n",
       "0                                             U$   \n",
       "1                                            NaN   \n",
       "2                                            NaN   \n",
       "3                                            NaN   \n",
       "4                                            NaN   \n",
       "\n",
       "  INDUSTRIAL & COML.BK.OF CHINA 'A' - TOT RETURN IND  \\\n",
       "0                                                 CH   \n",
       "1                                             158.08   \n",
       "2                                              158.8   \n",
       "3                                             157.01   \n",
       "4                                             155.57   \n",
       "\n",
       "  CONTEMPORARY AMPEREX TECHNOLOGY 'A' - TOT RETURN IND  \\\n",
       "0                                                 CH     \n",
       "1                                                NaN     \n",
       "2                                                NaN     \n",
       "3                                                NaN     \n",
       "4                                                NaN     \n",
       "\n",
       "  CHINA CON.BANK 'H' - TOT RETURN IND  \\\n",
       "0                                  K$   \n",
       "1                               339.4   \n",
       "2                              343.59   \n",
       "3                              336.78   \n",
       "4                              326.31   \n",
       "\n",
       "  CHINA MERCHANTS BANK 'A' - TOT RETURN IND  \\\n",
       "0                                        CH   \n",
       "1                                    365.55   \n",
       "2                                    369.23   \n",
       "3                                    364.42   \n",
       "4                                    356.21   \n",
       "\n",
       "  AGRICULTURAL BANK OF CHINA 'A' - TOT RETURN IND  \\\n",
       "0                                              CH   \n",
       "1                                          103.56   \n",
       "2                                          103.56   \n",
       "3                                          103.18   \n",
       "4                                          102.42   \n",
       "\n",
       "  PETROCHINA 'A' - TOT RETURN IND BANK OF CHINA 'A' - TOT RETURN IND  ...  \\\n",
       "0                              CH                                 CH  ...   \n",
       "1                           26.29                              96.14  ...   \n",
       "2                           26.67                              96.46  ...   \n",
       "3                           26.36                              95.51  ...   \n",
       "4                           25.99                              94.89  ...   \n",
       "\n",
       "  SAIC MOTOR 'A' - TOT RETURN IND WILL SEMICONDUCTOR 'A' - TOT RETURN IND  \\\n",
       "0                              CH                                      CH   \n",
       "1                          557.07                                     NaN   \n",
       "2                          576.78                                     NaN   \n",
       "3                           563.4                                     NaN   \n",
       "4                          564.81                                     NaN   \n",
       "\n",
       "  ZHANGZHOU PIENTZEHUANG PHARMS.'A' - TOT RETURN IND  \\\n",
       "0                                                 CH   \n",
       "1                                             500.82   \n",
       "2                                             503.07   \n",
       "3                                             498.64   \n",
       "4                                             493.55   \n",
       "\n",
       "  ZIJIN MINING GROUP 'A' - TOT RETURN IND  \\\n",
       "0                                      CH   \n",
       "1                                   52.53   \n",
       "2                                   52.87   \n",
       "3                                   52.42   \n",
       "4                                   51.18   \n",
       "\n",
       "  AIER EYE HOSPITAL GP.'A' - TOT RETURN IND BOE TECH.GP.'A' - TOT RETURN IND  \\\n",
       "0                                        CH                               CH   \n",
       "1                                    134.44                             28.3   \n",
       "2                                    136.18                            28.87   \n",
       "3                                    136.86                            28.58   \n",
       "4                                    135.93                            28.01   \n",
       "\n",
       "  CHINA PAC.IN.(GROUP) 'A' - TOT RETURN IND  \\\n",
       "0                                        CH   \n",
       "1                                     46.13   \n",
       "2                                     46.81   \n",
       "3                                     45.73   \n",
       "4                                     44.61   \n",
       "\n",
       "  CHINA THREE GORGES RENEWABLES(GROUP) 'A' - TOT RETURN IND  \\\n",
       "0                                                 CH          \n",
       "1                                                NaN          \n",
       "2                                                NaN          \n",
       "3                                                NaN          \n",
       "4                                                NaN          \n",
       "\n",
       "  CHINA VANKE 'A' - TOT RETURN IND  \\\n",
       "0                               CH   \n",
       "1                         12433.16   \n",
       "2                         12927.48   \n",
       "3                         12747.73   \n",
       "4                         12627.89   \n",
       "\n",
       "  CHONGQING ZHIFEI BILG. PRDS.'A' - TOT RETURN IND  \n",
       "0                                               CH  \n",
       "1                                            62.84  \n",
       "2                                            63.65  \n",
       "3                                             63.1  \n",
       "4                                            62.32  \n",
       "\n",
       "[5 rows x 61 columns]"
      ]
     },
     "execution_count": 33,
     "metadata": {},
     "output_type": "execute_result"
    }
   ],
   "source": [
    "d = pd.read_excel('MASTER_A.xlsx', sheet_name='China')\n",
    "d.head()"
   ]
  },
  {
   "cell_type": "code",
   "execution_count": 42,
   "id": "instant-queue",
   "metadata": {},
   "outputs": [
    {
     "data": {
      "application/javascript": [
       "\n",
       "        if (window._pyforest_update_imports_cell) { window._pyforest_update_imports_cell('import pandas as pd'); }\n",
       "    "
      ],
      "text/plain": [
       "<IPython.core.display.Javascript object>"
      ]
     },
     "metadata": {},
     "output_type": "display_data"
    },
    {
     "name": "stdout",
     "output_type": "stream",
     "text": [
      "Norway successfully\n"
     ]
    },
    {
     "data": {
      "application/javascript": [
       "\n",
       "        if (window._pyforest_update_imports_cell) { window._pyforest_update_imports_cell('import pandas as pd'); }\n",
       "    "
      ],
      "text/plain": [
       "<IPython.core.display.Javascript object>"
      ]
     },
     "metadata": {},
     "output_type": "display_data"
    },
    {
     "name": "stdout",
     "output_type": "stream",
     "text": [
      "France successfully\n"
     ]
    },
    {
     "data": {
      "application/javascript": [
       "\n",
       "        if (window._pyforest_update_imports_cell) { window._pyforest_update_imports_cell('import pandas as pd'); }\n",
       "    "
      ],
      "text/plain": [
       "<IPython.core.display.Javascript object>"
      ]
     },
     "metadata": {},
     "output_type": "display_data"
    },
    {
     "name": "stdout",
     "output_type": "stream",
     "text": [
      "US successfully\n"
     ]
    },
    {
     "data": {
      "application/javascript": [
       "\n",
       "        if (window._pyforest_update_imports_cell) { window._pyforest_update_imports_cell('import pandas as pd'); }\n",
       "    "
      ],
      "text/plain": [
       "<IPython.core.display.Javascript object>"
      ]
     },
     "metadata": {},
     "output_type": "display_data"
    },
    {
     "name": "stdout",
     "output_type": "stream",
     "text": [
      "UK successfully\n"
     ]
    },
    {
     "data": {
      "application/javascript": [
       "\n",
       "        if (window._pyforest_update_imports_cell) { window._pyforest_update_imports_cell('import pandas as pd'); }\n",
       "    "
      ],
      "text/plain": [
       "<IPython.core.display.Javascript object>"
      ]
     },
     "metadata": {},
     "output_type": "display_data"
    },
    {
     "name": "stdout",
     "output_type": "stream",
     "text": [
      "Italy successfully\n"
     ]
    },
    {
     "data": {
      "application/javascript": [
       "\n",
       "        if (window._pyforest_update_imports_cell) { window._pyforest_update_imports_cell('import pandas as pd'); }\n",
       "    "
      ],
      "text/plain": [
       "<IPython.core.display.Javascript object>"
      ]
     },
     "metadata": {},
     "output_type": "display_data"
    },
    {
     "name": "stdout",
     "output_type": "stream",
     "text": [
      "Canada successfully\n"
     ]
    },
    {
     "data": {
      "application/javascript": [
       "\n",
       "        if (window._pyforest_update_imports_cell) { window._pyforest_update_imports_cell('import pandas as pd'); }\n",
       "    "
      ],
      "text/plain": [
       "<IPython.core.display.Javascript object>"
      ]
     },
     "metadata": {},
     "output_type": "display_data"
    },
    {
     "name": "stdout",
     "output_type": "stream",
     "text": [
      "Australia successfully\n"
     ]
    },
    {
     "data": {
      "application/javascript": [
       "\n",
       "        if (window._pyforest_update_imports_cell) { window._pyforest_update_imports_cell('import pandas as pd'); }\n",
       "    "
      ],
      "text/plain": [
       "<IPython.core.display.Javascript object>"
      ]
     },
     "metadata": {},
     "output_type": "display_data"
    },
    {
     "name": "stdout",
     "output_type": "stream",
     "text": [
      "Hong Kong successfully\n"
     ]
    },
    {
     "data": {
      "application/javascript": [
       "\n",
       "        if (window._pyforest_update_imports_cell) { window._pyforest_update_imports_cell('import pandas as pd'); }\n",
       "    "
      ],
      "text/plain": [
       "<IPython.core.display.Javascript object>"
      ]
     },
     "metadata": {},
     "output_type": "display_data"
    },
    {
     "name": "stdout",
     "output_type": "stream",
     "text": [
      "Japan successfully\n"
     ]
    },
    {
     "data": {
      "application/javascript": [
       "\n",
       "        if (window._pyforest_update_imports_cell) { window._pyforest_update_imports_cell('import pandas as pd'); }\n",
       "    "
      ],
      "text/plain": [
       "<IPython.core.display.Javascript object>"
      ]
     },
     "metadata": {},
     "output_type": "display_data"
    },
    {
     "name": "stdout",
     "output_type": "stream",
     "text": [
      "Sweden successfully\n"
     ]
    },
    {
     "data": {
      "application/javascript": [
       "\n",
       "        if (window._pyforest_update_imports_cell) { window._pyforest_update_imports_cell('import pandas as pd'); }\n",
       "    "
      ],
      "text/plain": [
       "<IPython.core.display.Javascript object>"
      ]
     },
     "metadata": {},
     "output_type": "display_data"
    },
    {
     "name": "stdout",
     "output_type": "stream",
     "text": [
      "Chile successfully\n"
     ]
    },
    {
     "data": {
      "application/javascript": [
       "\n",
       "        if (window._pyforest_update_imports_cell) { window._pyforest_update_imports_cell('import pandas as pd'); }\n",
       "    "
      ],
      "text/plain": [
       "<IPython.core.display.Javascript object>"
      ]
     },
     "metadata": {},
     "output_type": "display_data"
    },
    {
     "name": "stdout",
     "output_type": "stream",
     "text": [
      "Denmark successfully\n"
     ]
    },
    {
     "data": {
      "application/javascript": [
       "\n",
       "        if (window._pyforest_update_imports_cell) { window._pyforest_update_imports_cell('import pandas as pd'); }\n",
       "    "
      ],
      "text/plain": [
       "<IPython.core.display.Javascript object>"
      ]
     },
     "metadata": {},
     "output_type": "display_data"
    },
    {
     "name": "stdout",
     "output_type": "stream",
     "text": [
      "Finland successfully\n"
     ]
    },
    {
     "data": {
      "application/javascript": [
       "\n",
       "        if (window._pyforest_update_imports_cell) { window._pyforest_update_imports_cell('import pandas as pd'); }\n",
       "    "
      ],
      "text/plain": [
       "<IPython.core.display.Javascript object>"
      ]
     },
     "metadata": {},
     "output_type": "display_data"
    },
    {
     "name": "stdout",
     "output_type": "stream",
     "text": [
      "China successfully\n"
     ]
    }
   ],
   "source": [
    "data_equity_all = get_eqt_mult(indices, filename='MASTER_A.xlsx', write_to_excel=False)"
   ]
  },
  {
   "cell_type": "code",
   "execution_count": 52,
   "id": "blocked-developer",
   "metadata": {},
   "outputs": [
    {
     "data": {
      "text/html": [
       "<div>\n",
       "<style scoped>\n",
       "    .dataframe tbody tr th:only-of-type {\n",
       "        vertical-align: middle;\n",
       "    }\n",
       "\n",
       "    .dataframe tbody tr th {\n",
       "        vertical-align: top;\n",
       "    }\n",
       "\n",
       "    .dataframe thead th {\n",
       "        text-align: right;\n",
       "    }\n",
       "</style>\n",
       "<table border=\"1\" class=\"dataframe\">\n",
       "  <thead>\n",
       "    <tr style=\"text-align: right;\">\n",
       "      <th></th>\n",
       "      <th>TOYOTA MOTOR - TOT RETURN IND</th>\n",
       "      <th>SONY GROUP - TOT RETURN IND</th>\n",
       "      <th>KEYENCE - TOT RETURN IND</th>\n",
       "      <th>NIPPON TELG. &amp; TEL. - TOT RETURN IND</th>\n",
       "      <th>MITSUBISHI UFJ FINL.GP. - TOT RETURN IND</th>\n",
       "      <th>KDDI - TOT RETURN IND</th>\n",
       "      <th>SOFTBANK GROUP - TOT RETURN IND</th>\n",
       "      <th>TOKYO ELECTRON - TOT RETURN IND</th>\n",
       "      <th>NINTENDO - TOT RETURN IND</th>\n",
       "      <th>ORIENTAL LAND - TOT RETURN IND</th>\n",
       "      <th>...</th>\n",
       "      <th>ORIX - TOT RETURN IND</th>\n",
       "      <th>TOYOTA INDS. - TOT RETURN IND</th>\n",
       "      <th>AEON - TOT RETURN IND</th>\n",
       "      <th>ASAHI GROUP HOLDINGS - TOT RETURN IND</th>\n",
       "      <th>DAI-ICHI LIFE HOLDINGS - TOT RETURN IND</th>\n",
       "      <th>EAST JAPAN RAILWAY - TOT RETURN IND</th>\n",
       "      <th>KAO - TOT RETURN IND</th>\n",
       "      <th>KOMATSU - TOT RETURN IND</th>\n",
       "      <th>KUBOTA - TOT RETURN IND</th>\n",
       "      <th>KYOCERA - TOT RETURN IND</th>\n",
       "    </tr>\n",
       "    <tr>\n",
       "      <th>Name</th>\n",
       "      <th></th>\n",
       "      <th></th>\n",
       "      <th></th>\n",
       "      <th></th>\n",
       "      <th></th>\n",
       "      <th></th>\n",
       "      <th></th>\n",
       "      <th></th>\n",
       "      <th></th>\n",
       "      <th></th>\n",
       "      <th></th>\n",
       "      <th></th>\n",
       "      <th></th>\n",
       "      <th></th>\n",
       "      <th></th>\n",
       "      <th></th>\n",
       "      <th></th>\n",
       "      <th></th>\n",
       "      <th></th>\n",
       "      <th></th>\n",
       "      <th></th>\n",
       "    </tr>\n",
       "  </thead>\n",
       "  <tbody>\n",
       "    <tr>\n",
       "      <th>2013-01-01</th>\n",
       "      <td>2814.63</td>\n",
       "      <td>95.57</td>\n",
       "      <td>931.9</td>\n",
       "      <td>42.09</td>\n",
       "      <td>44.64</td>\n",
       "      <td>152.47</td>\n",
       "      <td>790.55</td>\n",
       "      <td>1284.23</td>\n",
       "      <td>7391.14</td>\n",
       "      <td>132.38</td>\n",
       "      <td>...</td>\n",
       "      <td>1740.06</td>\n",
       "      <td>2844.43</td>\n",
       "      <td>713.79</td>\n",
       "      <td>1726.35</td>\n",
       "      <td>77.49</td>\n",
       "      <td>117.65</td>\n",
       "      <td>3221.48</td>\n",
       "      <td>1385.82</td>\n",
       "      <td>570.43</td>\n",
       "      <td>2769.77</td>\n",
       "    </tr>\n",
       "    <tr>\n",
       "      <th>2013-01-02</th>\n",
       "      <td>2814.63</td>\n",
       "      <td>95.57</td>\n",
       "      <td>931.9</td>\n",
       "      <td>42.09</td>\n",
       "      <td>44.64</td>\n",
       "      <td>152.47</td>\n",
       "      <td>790.55</td>\n",
       "      <td>1284.23</td>\n",
       "      <td>7391.14</td>\n",
       "      <td>132.38</td>\n",
       "      <td>...</td>\n",
       "      <td>1740.06</td>\n",
       "      <td>2844.43</td>\n",
       "      <td>713.79</td>\n",
       "      <td>1726.35</td>\n",
       "      <td>77.49</td>\n",
       "      <td>117.65</td>\n",
       "      <td>3221.48</td>\n",
       "      <td>1385.82</td>\n",
       "      <td>570.43</td>\n",
       "      <td>2769.77</td>\n",
       "    </tr>\n",
       "    <tr>\n",
       "      <th>2013-01-03</th>\n",
       "      <td>2814.63</td>\n",
       "      <td>95.57</td>\n",
       "      <td>931.9</td>\n",
       "      <td>42.09</td>\n",
       "      <td>44.64</td>\n",
       "      <td>152.47</td>\n",
       "      <td>790.55</td>\n",
       "      <td>1284.23</td>\n",
       "      <td>7391.14</td>\n",
       "      <td>132.38</td>\n",
       "      <td>...</td>\n",
       "      <td>1740.06</td>\n",
       "      <td>2844.43</td>\n",
       "      <td>713.79</td>\n",
       "      <td>1726.35</td>\n",
       "      <td>77.49</td>\n",
       "      <td>117.65</td>\n",
       "      <td>3221.48</td>\n",
       "      <td>1385.82</td>\n",
       "      <td>570.43</td>\n",
       "      <td>2769.77</td>\n",
       "    </tr>\n",
       "    <tr>\n",
       "      <th>2013-01-04</th>\n",
       "      <td>2993.84</td>\n",
       "      <td>96.56</td>\n",
       "      <td>978.36</td>\n",
       "      <td>42.72</td>\n",
       "      <td>46.87</td>\n",
       "      <td>154.98</td>\n",
       "      <td>786.77</td>\n",
       "      <td>1316.87</td>\n",
       "      <td>7480.78</td>\n",
       "      <td>132.5</td>\n",
       "      <td>...</td>\n",
       "      <td>1770.59</td>\n",
       "      <td>2961.08</td>\n",
       "      <td>718.86</td>\n",
       "      <td>1741.39</td>\n",
       "      <td>82.79</td>\n",
       "      <td>118.07</td>\n",
       "      <td>3280.21</td>\n",
       "      <td>1453.08</td>\n",
       "      <td>594.72</td>\n",
       "      <td>2873.14</td>\n",
       "    </tr>\n",
       "    <tr>\n",
       "      <th>2013-01-07</th>\n",
       "      <td>2941.13</td>\n",
       "      <td>95.47</td>\n",
       "      <td>940.49</td>\n",
       "      <td>43.01</td>\n",
       "      <td>46.09</td>\n",
       "      <td>154.48</td>\n",
       "      <td>771.66</td>\n",
       "      <td>1303.81</td>\n",
       "      <td>7293.36</td>\n",
       "      <td>134.53</td>\n",
       "      <td>...</td>\n",
       "      <td>1756.23</td>\n",
       "      <td>2951.7</td>\n",
       "      <td>717.41</td>\n",
       "      <td>1753.6</td>\n",
       "      <td>81.17</td>\n",
       "      <td>119.13</td>\n",
       "      <td>3327.48</td>\n",
       "      <td>1473.38</td>\n",
       "      <td>590.67</td>\n",
       "      <td>2823.24</td>\n",
       "    </tr>\n",
       "  </tbody>\n",
       "</table>\n",
       "<p>5 rows × 56 columns</p>\n",
       "</div>"
      ],
      "text/plain": [
       "           TOYOTA MOTOR - TOT RETURN IND SONY GROUP - TOT RETURN IND  \\\n",
       "Name                                                                   \n",
       "2013-01-01                       2814.63                       95.57   \n",
       "2013-01-02                       2814.63                       95.57   \n",
       "2013-01-03                       2814.63                       95.57   \n",
       "2013-01-04                       2993.84                       96.56   \n",
       "2013-01-07                       2941.13                       95.47   \n",
       "\n",
       "           KEYENCE - TOT RETURN IND NIPPON TELG. & TEL. - TOT RETURN IND  \\\n",
       "Name                                                                       \n",
       "2013-01-01                    931.9                                42.09   \n",
       "2013-01-02                    931.9                                42.09   \n",
       "2013-01-03                    931.9                                42.09   \n",
       "2013-01-04                   978.36                                42.72   \n",
       "2013-01-07                   940.49                                43.01   \n",
       "\n",
       "           MITSUBISHI UFJ FINL.GP. - TOT RETURN IND KDDI - TOT RETURN IND  \\\n",
       "Name                                                                        \n",
       "2013-01-01                                    44.64                152.47   \n",
       "2013-01-02                                    44.64                152.47   \n",
       "2013-01-03                                    44.64                152.47   \n",
       "2013-01-04                                    46.87                154.98   \n",
       "2013-01-07                                    46.09                154.48   \n",
       "\n",
       "           SOFTBANK GROUP - TOT RETURN IND TOKYO ELECTRON - TOT RETURN IND  \\\n",
       "Name                                                                         \n",
       "2013-01-01                          790.55                         1284.23   \n",
       "2013-01-02                          790.55                         1284.23   \n",
       "2013-01-03                          790.55                         1284.23   \n",
       "2013-01-04                          786.77                         1316.87   \n",
       "2013-01-07                          771.66                         1303.81   \n",
       "\n",
       "           NINTENDO - TOT RETURN IND ORIENTAL LAND - TOT RETURN IND  ...  \\\n",
       "Name                                                                 ...   \n",
       "2013-01-01                   7391.14                         132.38  ...   \n",
       "2013-01-02                   7391.14                         132.38  ...   \n",
       "2013-01-03                   7391.14                         132.38  ...   \n",
       "2013-01-04                   7480.78                          132.5  ...   \n",
       "2013-01-07                   7293.36                         134.53  ...   \n",
       "\n",
       "           ORIX - TOT RETURN IND TOYOTA INDS. - TOT RETURN IND  \\\n",
       "Name                                                             \n",
       "2013-01-01               1740.06                       2844.43   \n",
       "2013-01-02               1740.06                       2844.43   \n",
       "2013-01-03               1740.06                       2844.43   \n",
       "2013-01-04               1770.59                       2961.08   \n",
       "2013-01-07               1756.23                        2951.7   \n",
       "\n",
       "           AEON - TOT RETURN IND ASAHI GROUP HOLDINGS - TOT RETURN IND  \\\n",
       "Name                                                                     \n",
       "2013-01-01                713.79                               1726.35   \n",
       "2013-01-02                713.79                               1726.35   \n",
       "2013-01-03                713.79                               1726.35   \n",
       "2013-01-04                718.86                               1741.39   \n",
       "2013-01-07                717.41                                1753.6   \n",
       "\n",
       "           DAI-ICHI LIFE HOLDINGS - TOT RETURN IND  \\\n",
       "Name                                                 \n",
       "2013-01-01                                   77.49   \n",
       "2013-01-02                                   77.49   \n",
       "2013-01-03                                   77.49   \n",
       "2013-01-04                                   82.79   \n",
       "2013-01-07                                   81.17   \n",
       "\n",
       "           EAST JAPAN RAILWAY - TOT RETURN IND KAO - TOT RETURN IND  \\\n",
       "Name                                                                  \n",
       "2013-01-01                              117.65              3221.48   \n",
       "2013-01-02                              117.65              3221.48   \n",
       "2013-01-03                              117.65              3221.48   \n",
       "2013-01-04                              118.07              3280.21   \n",
       "2013-01-07                              119.13              3327.48   \n",
       "\n",
       "           KOMATSU - TOT RETURN IND KUBOTA - TOT RETURN IND  \\\n",
       "Name                                                          \n",
       "2013-01-01                  1385.82                  570.43   \n",
       "2013-01-02                  1385.82                  570.43   \n",
       "2013-01-03                  1385.82                  570.43   \n",
       "2013-01-04                  1453.08                  594.72   \n",
       "2013-01-07                  1473.38                  590.67   \n",
       "\n",
       "           KYOCERA - TOT RETURN IND  \n",
       "Name                                 \n",
       "2013-01-01                  2769.77  \n",
       "2013-01-02                  2769.77  \n",
       "2013-01-03                  2769.77  \n",
       "2013-01-04                  2873.14  \n",
       "2013-01-07                  2823.24  \n",
       "\n",
       "[5 rows x 56 columns]"
      ]
     },
     "execution_count": 52,
     "metadata": {},
     "output_type": "execute_result"
    }
   ],
   "source": [
    "japan = data_equity_all['Japan']\n",
    "japan.head()"
   ]
  },
  {
   "cell_type": "markdown",
   "id": "meaningful-moderator",
   "metadata": {},
   "source": [
    "### Valuta"
   ]
  },
  {
   "cell_type": "code",
   "execution_count": 59,
   "id": "global-creator",
   "metadata": {},
   "outputs": [
    {
     "data": {
      "application/javascript": [
       "\n",
       "        if (window._pyforest_update_imports_cell) { window._pyforest_update_imports_cell('import pandas as pd'); }\n",
       "    "
      ],
      "text/plain": [
       "<IPython.core.display.Javascript object>"
      ]
     },
     "metadata": {},
     "output_type": "display_data"
    },
    {
     "data": {
      "text/html": [
       "<div>\n",
       "<style scoped>\n",
       "    .dataframe tbody tr th:only-of-type {\n",
       "        vertical-align: middle;\n",
       "    }\n",
       "\n",
       "    .dataframe tbody tr th {\n",
       "        vertical-align: top;\n",
       "    }\n",
       "\n",
       "    .dataframe thead th {\n",
       "        text-align: right;\n",
       "    }\n",
       "</style>\n",
       "<table border=\"1\" class=\"dataframe\">\n",
       "  <thead>\n",
       "    <tr style=\"text-align: right;\">\n",
       "      <th></th>\n",
       "      <th>AUD</th>\n",
       "      <th>BDT</th>\n",
       "      <th>BGN</th>\n",
       "      <th>BRL</th>\n",
       "      <th>BYN</th>\n",
       "      <th>CAD</th>\n",
       "      <th>CHF</th>\n",
       "      <th>CNY</th>\n",
       "      <th>CZK</th>\n",
       "      <th>DKK</th>\n",
       "      <th>...</th>\n",
       "      <th>SEK</th>\n",
       "      <th>SGD</th>\n",
       "      <th>THB</th>\n",
       "      <th>TRY</th>\n",
       "      <th>TWD</th>\n",
       "      <th>TWI</th>\n",
       "      <th>USD</th>\n",
       "      <th>VND</th>\n",
       "      <th>XDR</th>\n",
       "      <th>ZAR</th>\n",
       "    </tr>\n",
       "    <tr>\n",
       "      <th>Name</th>\n",
       "      <th></th>\n",
       "      <th></th>\n",
       "      <th></th>\n",
       "      <th></th>\n",
       "      <th></th>\n",
       "      <th></th>\n",
       "      <th></th>\n",
       "      <th></th>\n",
       "      <th></th>\n",
       "      <th></th>\n",
       "      <th></th>\n",
       "      <th></th>\n",
       "      <th></th>\n",
       "      <th></th>\n",
       "      <th></th>\n",
       "      <th></th>\n",
       "      <th></th>\n",
       "      <th></th>\n",
       "      <th></th>\n",
       "      <th></th>\n",
       "      <th></th>\n",
       "    </tr>\n",
       "  </thead>\n",
       "  <tbody>\n",
       "    <tr>\n",
       "      <th>2013-01-01</th>\n",
       "      <td>NaN</td>\n",
       "      <td>NaN</td>\n",
       "      <td>NaN</td>\n",
       "      <td>NaN</td>\n",
       "      <td>NaN</td>\n",
       "      <td>NaN</td>\n",
       "      <td>NaN</td>\n",
       "      <td>NaN</td>\n",
       "      <td>NaN</td>\n",
       "      <td>NaN</td>\n",
       "      <td>...</td>\n",
       "      <td>NaN</td>\n",
       "      <td>NaN</td>\n",
       "      <td>NaN</td>\n",
       "      <td>NaN</td>\n",
       "      <td>NaN</td>\n",
       "      <td>NaN</td>\n",
       "      <td>NaN</td>\n",
       "      <td>NaN</td>\n",
       "      <td>NaN</td>\n",
       "      <td>NaN</td>\n",
       "    </tr>\n",
       "    <tr>\n",
       "      <th>2013-01-02</th>\n",
       "      <td>5.7905</td>\n",
       "      <td>NaN</td>\n",
       "      <td>3.7414</td>\n",
       "      <td>2.7032</td>\n",
       "      <td>NaN</td>\n",
       "      <td>5.6030</td>\n",
       "      <td>6.0525</td>\n",
       "      <td>0.8852</td>\n",
       "      <td>0.29017</td>\n",
       "      <td>0.9809</td>\n",
       "      <td>...</td>\n",
       "      <td>0.8538</td>\n",
       "      <td>4.5214</td>\n",
       "      <td>0.18186</td>\n",
       "      <td>3.1014</td>\n",
       "      <td>0.19021</td>\n",
       "      <td>90.22</td>\n",
       "      <td>5.5176</td>\n",
       "      <td>NaN</td>\n",
       "      <td>8.49825</td>\n",
       "      <td>0.6511</td>\n",
       "    </tr>\n",
       "    <tr>\n",
       "      <th>2013-01-03</th>\n",
       "      <td>5.8468</td>\n",
       "      <td>NaN</td>\n",
       "      <td>3.7281</td>\n",
       "      <td>2.7179</td>\n",
       "      <td>NaN</td>\n",
       "      <td>5.6423</td>\n",
       "      <td>6.0310</td>\n",
       "      <td>0.8924</td>\n",
       "      <td>0.28866</td>\n",
       "      <td>0.9774</td>\n",
       "      <td>...</td>\n",
       "      <td>0.8538</td>\n",
       "      <td>4.5518</td>\n",
       "      <td>0.18324</td>\n",
       "      <td>3.1222</td>\n",
       "      <td>0.19198</td>\n",
       "      <td>90.16</td>\n",
       "      <td>5.5652</td>\n",
       "      <td>NaN</td>\n",
       "      <td>8.53470</td>\n",
       "      <td>0.6481</td>\n",
       "    </tr>\n",
       "    <tr>\n",
       "      <th>2013-01-04</th>\n",
       "      <td>5.8420</td>\n",
       "      <td>NaN</td>\n",
       "      <td>3.7320</td>\n",
       "      <td>2.7445</td>\n",
       "      <td>NaN</td>\n",
       "      <td>5.6595</td>\n",
       "      <td>6.0362</td>\n",
       "      <td>0.9003</td>\n",
       "      <td>0.28787</td>\n",
       "      <td>0.9785</td>\n",
       "      <td>...</td>\n",
       "      <td>0.8556</td>\n",
       "      <td>4.5579</td>\n",
       "      <td>0.18385</td>\n",
       "      <td>3.1344</td>\n",
       "      <td>0.19318</td>\n",
       "      <td>90.30</td>\n",
       "      <td>5.6094</td>\n",
       "      <td>NaN</td>\n",
       "      <td>8.55374</td>\n",
       "      <td>0.6482</td>\n",
       "    </tr>\n",
       "    <tr>\n",
       "      <th>2013-01-07</th>\n",
       "      <td>5.8820</td>\n",
       "      <td>NaN</td>\n",
       "      <td>3.7356</td>\n",
       "      <td>2.7598</td>\n",
       "      <td>NaN</td>\n",
       "      <td>5.6763</td>\n",
       "      <td>6.0445</td>\n",
       "      <td>0.8993</td>\n",
       "      <td>0.28607</td>\n",
       "      <td>0.9794</td>\n",
       "      <td>...</td>\n",
       "      <td>0.8581</td>\n",
       "      <td>4.5563</td>\n",
       "      <td>0.18407</td>\n",
       "      <td>3.1439</td>\n",
       "      <td>0.19311</td>\n",
       "      <td>90.40</td>\n",
       "      <td>5.6032</td>\n",
       "      <td>NaN</td>\n",
       "      <td>8.55760</td>\n",
       "      <td>0.6519</td>\n",
       "    </tr>\n",
       "    <tr>\n",
       "      <th>...</th>\n",
       "      <td>...</td>\n",
       "      <td>...</td>\n",
       "      <td>...</td>\n",
       "      <td>...</td>\n",
       "      <td>...</td>\n",
       "      <td>...</td>\n",
       "      <td>...</td>\n",
       "      <td>...</td>\n",
       "      <td>...</td>\n",
       "      <td>...</td>\n",
       "      <td>...</td>\n",
       "      <td>...</td>\n",
       "      <td>...</td>\n",
       "      <td>...</td>\n",
       "      <td>...</td>\n",
       "      <td>...</td>\n",
       "      <td>...</td>\n",
       "      <td>...</td>\n",
       "      <td>...</td>\n",
       "      <td>...</td>\n",
       "      <td>...</td>\n",
       "    </tr>\n",
       "    <tr>\n",
       "      <th>2022-02-23</th>\n",
       "      <td>6.4350</td>\n",
       "      <td>0.1027</td>\n",
       "      <td>5.1301</td>\n",
       "      <td>1.7662</td>\n",
       "      <td>3.3355</td>\n",
       "      <td>6.9706</td>\n",
       "      <td>9.6189</td>\n",
       "      <td>1.4000</td>\n",
       "      <td>0.40998</td>\n",
       "      <td>1.3488</td>\n",
       "      <td>...</td>\n",
       "      <td>0.9496</td>\n",
       "      <td>6.5781</td>\n",
       "      <td>0.27413</td>\n",
       "      <td>0.6396</td>\n",
       "      <td>0.31722</td>\n",
       "      <td>118.26</td>\n",
       "      <td>8.8448</td>\n",
       "      <td>0.000387</td>\n",
       "      <td>12.34618</td>\n",
       "      <td>0.5884</td>\n",
       "    </tr>\n",
       "    <tr>\n",
       "      <th>2022-02-24</th>\n",
       "      <td>6.4694</td>\n",
       "      <td>0.1051</td>\n",
       "      <td>5.1579</td>\n",
       "      <td>1.7737</td>\n",
       "      <td>3.2577</td>\n",
       "      <td>7.0465</td>\n",
       "      <td>9.7750</td>\n",
       "      <td>1.4288</td>\n",
       "      <td>0.40206</td>\n",
       "      <td>1.3558</td>\n",
       "      <td>...</td>\n",
       "      <td>0.9398</td>\n",
       "      <td>6.6696</td>\n",
       "      <td>0.27627</td>\n",
       "      <td>0.6284</td>\n",
       "      <td>0.32196</td>\n",
       "      <td>118.56</td>\n",
       "      <td>9.0368</td>\n",
       "      <td>0.000396</td>\n",
       "      <td>12.52437</td>\n",
       "      <td>0.5878</td>\n",
       "    </tr>\n",
       "    <tr>\n",
       "      <th>2022-02-25</th>\n",
       "      <td>6.4189</td>\n",
       "      <td>0.1034</td>\n",
       "      <td>5.1005</td>\n",
       "      <td>1.7385</td>\n",
       "      <td>3.2252</td>\n",
       "      <td>6.9638</td>\n",
       "      <td>9.5938</td>\n",
       "      <td>1.4084</td>\n",
       "      <td>0.40453</td>\n",
       "      <td>1.3405</td>\n",
       "      <td>...</td>\n",
       "      <td>0.9424</td>\n",
       "      <td>6.5733</td>\n",
       "      <td>0.27375</td>\n",
       "      <td>0.6444</td>\n",
       "      <td>0.31792</td>\n",
       "      <td>117.58</td>\n",
       "      <td>8.8941</td>\n",
       "      <td>0.000390</td>\n",
       "      <td>12.34317</td>\n",
       "      <td>0.5857</td>\n",
       "    </tr>\n",
       "    <tr>\n",
       "      <th>2022-02-28</th>\n",
       "      <td>6.4138</td>\n",
       "      <td>0.1032</td>\n",
       "      <td>5.0856</td>\n",
       "      <td>1.7200</td>\n",
       "      <td>2.8535</td>\n",
       "      <td>6.9731</td>\n",
       "      <td>9.6232</td>\n",
       "      <td>1.4075</td>\n",
       "      <td>0.39791</td>\n",
       "      <td>1.3368</td>\n",
       "      <td>...</td>\n",
       "      <td>0.9379</td>\n",
       "      <td>6.5433</td>\n",
       "      <td>0.27181</td>\n",
       "      <td>0.6437</td>\n",
       "      <td>0.31651</td>\n",
       "      <td>116.90</td>\n",
       "      <td>8.8816</td>\n",
       "      <td>0.000389</td>\n",
       "      <td>12.32105</td>\n",
       "      <td>0.5754</td>\n",
       "    </tr>\n",
       "    <tr>\n",
       "      <th>2022-03-01</th>\n",
       "      <td>6.4171</td>\n",
       "      <td>0.1028</td>\n",
       "      <td>5.0413</td>\n",
       "      <td>1.7118</td>\n",
       "      <td>2.9583</td>\n",
       "      <td>6.9641</td>\n",
       "      <td>9.6221</td>\n",
       "      <td>1.3993</td>\n",
       "      <td>0.38719</td>\n",
       "      <td>1.3257</td>\n",
       "      <td>...</td>\n",
       "      <td>0.9224</td>\n",
       "      <td>6.5081</td>\n",
       "      <td>0.27009</td>\n",
       "      <td>0.6340</td>\n",
       "      <td>0.31472</td>\n",
       "      <td>115.68</td>\n",
       "      <td>8.8334</td>\n",
       "      <td>0.000387</td>\n",
       "      <td>12.24541</td>\n",
       "      <td>0.5728</td>\n",
       "    </tr>\n",
       "  </tbody>\n",
       "</table>\n",
       "<p>2391 rows × 41 columns</p>\n",
       "</div>"
      ],
      "text/plain": [
       "               AUD     BDT     BGN     BRL     BYN     CAD     CHF     CNY  \\\n",
       "Name                                                                         \n",
       "2013-01-01     NaN     NaN     NaN     NaN     NaN     NaN     NaN     NaN   \n",
       "2013-01-02  5.7905     NaN  3.7414  2.7032     NaN  5.6030  6.0525  0.8852   \n",
       "2013-01-03  5.8468     NaN  3.7281  2.7179     NaN  5.6423  6.0310  0.8924   \n",
       "2013-01-04  5.8420     NaN  3.7320  2.7445     NaN  5.6595  6.0362  0.9003   \n",
       "2013-01-07  5.8820     NaN  3.7356  2.7598     NaN  5.6763  6.0445  0.8993   \n",
       "...            ...     ...     ...     ...     ...     ...     ...     ...   \n",
       "2022-02-23  6.4350  0.1027  5.1301  1.7662  3.3355  6.9706  9.6189  1.4000   \n",
       "2022-02-24  6.4694  0.1051  5.1579  1.7737  3.2577  7.0465  9.7750  1.4288   \n",
       "2022-02-25  6.4189  0.1034  5.1005  1.7385  3.2252  6.9638  9.5938  1.4084   \n",
       "2022-02-28  6.4138  0.1032  5.0856  1.7200  2.8535  6.9731  9.6232  1.4075   \n",
       "2022-03-01  6.4171  0.1028  5.0413  1.7118  2.9583  6.9641  9.6221  1.3993   \n",
       "\n",
       "                CZK     DKK  ...     SEK     SGD      THB     TRY      TWD  \\\n",
       "Name                         ...                                             \n",
       "2013-01-01      NaN     NaN  ...     NaN     NaN      NaN     NaN      NaN   \n",
       "2013-01-02  0.29017  0.9809  ...  0.8538  4.5214  0.18186  3.1014  0.19021   \n",
       "2013-01-03  0.28866  0.9774  ...  0.8538  4.5518  0.18324  3.1222  0.19198   \n",
       "2013-01-04  0.28787  0.9785  ...  0.8556  4.5579  0.18385  3.1344  0.19318   \n",
       "2013-01-07  0.28607  0.9794  ...  0.8581  4.5563  0.18407  3.1439  0.19311   \n",
       "...             ...     ...  ...     ...     ...      ...     ...      ...   \n",
       "2022-02-23  0.40998  1.3488  ...  0.9496  6.5781  0.27413  0.6396  0.31722   \n",
       "2022-02-24  0.40206  1.3558  ...  0.9398  6.6696  0.27627  0.6284  0.32196   \n",
       "2022-02-25  0.40453  1.3405  ...  0.9424  6.5733  0.27375  0.6444  0.31792   \n",
       "2022-02-28  0.39791  1.3368  ...  0.9379  6.5433  0.27181  0.6437  0.31651   \n",
       "2022-03-01  0.38719  1.3257  ...  0.9224  6.5081  0.27009  0.6340  0.31472   \n",
       "\n",
       "               TWI     USD       VND       XDR     ZAR  \n",
       "Name                                                    \n",
       "2013-01-01     NaN     NaN       NaN       NaN     NaN  \n",
       "2013-01-02   90.22  5.5176       NaN   8.49825  0.6511  \n",
       "2013-01-03   90.16  5.5652       NaN   8.53470  0.6481  \n",
       "2013-01-04   90.30  5.6094       NaN   8.55374  0.6482  \n",
       "2013-01-07   90.40  5.6032       NaN   8.55760  0.6519  \n",
       "...            ...     ...       ...       ...     ...  \n",
       "2022-02-23  118.26  8.8448  0.000387  12.34618  0.5884  \n",
       "2022-02-24  118.56  9.0368  0.000396  12.52437  0.5878  \n",
       "2022-02-25  117.58  8.8941  0.000390  12.34317  0.5857  \n",
       "2022-02-28  116.90  8.8816  0.000389  12.32105  0.5754  \n",
       "2022-03-01  115.68  8.8334  0.000387  12.24541  0.5728  \n",
       "\n",
       "[2391 rows x 41 columns]"
      ]
     },
     "execution_count": 59,
     "metadata": {},
     "output_type": "execute_result"
    }
   ],
   "source": [
    "valuta = pd.read_excel('VALUTA_CLEAN.xlsx', index_col='Unnamed: 0')\n",
    "valuta.index = valuta.index.astype(str)\n",
    "valuta.reindex(japan.index, axis = 'index')"
   ]
  },
  {
   "cell_type": "code",
   "execution_count": 57,
   "id": "geographic-crash",
   "metadata": {},
   "outputs": [
    {
     "data": {
      "text/plain": [
       "Index(['2013-01-01', '2013-01-02', '2013-01-03', '2013-01-04', '2013-01-07',\n",
       "       '2013-01-08', '2013-01-09', '2013-01-10', '2013-01-11', '2013-01-14',\n",
       "       ...\n",
       "       '2022-02-16', '2022-02-17', '2022-02-18', '2022-02-21', '2022-02-22',\n",
       "       '2022-02-23', '2022-02-24', '2022-02-25', '2022-02-28', '2022-03-01'],\n",
       "      dtype='object', name='Name', length=2391)"
      ]
     },
     "execution_count": 57,
     "metadata": {},
     "output_type": "execute_result"
    }
   ],
   "source": [
    "japan.index"
   ]
  },
  {
   "cell_type": "code",
   "execution_count": 58,
   "id": "latest-forwarding",
   "metadata": {},
   "outputs": [
    {
     "data": {
      "text/plain": [
       "Index(['2012-03-02', '2012-03-05', '2012-03-06', '2012-03-07', '2012-03-08',\n",
       "       '2012-03-09', '2012-03-12', '2012-03-13', '2012-03-14', '2012-03-15',\n",
       "       ...\n",
       "       '2022-02-16', '2022-02-17', '2022-02-18', '2022-02-21', '2022-02-22',\n",
       "       '2022-02-23', '2022-02-24', '2022-02-25', '2022-02-28', '2022-03-01'],\n",
       "      dtype='object', length=2513)"
      ]
     },
     "execution_count": 58,
     "metadata": {},
     "output_type": "execute_result"
    }
   ],
   "source": [
    "valuta.index"
   ]
  },
  {
   "cell_type": "code",
   "execution_count": null,
   "id": "essential-stereo",
   "metadata": {},
   "outputs": [],
   "source": [
    "for eqts in data_equity_all:\n",
    "    eqts.apply(lambda : x * forex, axis=0)"
   ]
  },
  {
   "cell_type": "markdown",
   "id": "simplified-movie",
   "metadata": {},
   "source": [
    "### Exchange_rate_NO\n",
    "Leser inn data fra Norges bank her"
   ]
  },
  {
   "cell_type": "markdown",
   "id": "pretty-benefit",
   "metadata": {},
   "source": [
    "### Factors"
   ]
  },
  {
   "cell_type": "code",
   "execution_count": 11,
   "id": "individual-batman",
   "metadata": {},
   "outputs": [],
   "source": [
    "def get_factors_or_indices_curr(filename: str, sheet_name: str) -> dict:\n",
    "    \"\"\"\n",
    "    Gets the traded currencies for the given factors\n",
    "    Returns a dictionary with the factors as keys, and\n",
    "    corresponding currency as values\n",
    "    \"\"\"\n",
    "    \n",
    "    d = {}\n",
    "    \n",
    "    df = pd.read_excel(filename+'.xlsx',\n",
    "                       skiprows=3,\n",
    "                       index_col='Name',\n",
    "                       sheet_name=sheet_name)\n",
    "    \n",
    "    for c in df.columns:\n",
    "        d[c] = df[c]['CURRENCY']\n",
    "        \n",
    "    return d\n",
    "\n",
    "\n",
    "def get_factors_or_indices(filename,\n",
    "                sheet_name,\n",
    "                skiprows: int = 3,\n",
    "                start:    str ='2013-01-01') -> pd.DataFrame:\n",
    "    \"\"\"\n",
    "    Reads and cleans data for the \"factors\".\n",
    "    Returns a dataframe with each factors as a sepreate column\n",
    "    \"\"\"\n",
    "    \n",
    "    df = pd.read_excel(filename + '.xlsx',\n",
    "                         sheet_name=sheet_name,\n",
    "                         skiprows=skiprows,\n",
    "                         index_col='Name')\n",
    "    \n",
    "    df = df.drop('CURRENCY')\n",
    "    \n",
    "    df.index = df.index.astype(str).str[:-9]\n",
    "    assert type(df.index[0]) == str, \"Wrong index type\"\n",
    "    \n",
    "    df = df[start:]\n",
    "#     df.dropna(axis=1, inplace=True)\n",
    "    df = df[start:]\n",
    "    \n",
    "    return df"
   ]
  },
  {
   "cell_type": "code",
   "execution_count": 12,
   "id": "natural-washer",
   "metadata": {},
   "outputs": [
    {
     "data": {
      "text/plain": [
       "{'Crude Oil-WTI Spot Cushing U$/BBL': 'U$',\n",
       " 'Europe Brent Spot FOB U$/BBL Daily': 'U$',\n",
       " 'LME-Copper Grade A Cash U$/MT': 'U$',\n",
       " 'Baltic Exchange Dry Index (BDI) - PRICE INDEX': 'U$',\n",
       " 'LME-Aluminium 99.7% Cash U$/MT': 'U$',\n",
       " 'Gold Bullion LBM $/t oz DELAY': 'U$',\n",
       " 'Crude Oil BFO M1 Europe FOB $/BBl': 'U$',\n",
       " 'RFV Natural Gas TTF NL 1st Fut. Day - SETT. PRICE': 'E',\n",
       " 'NYMEX Natural Gas Henry Hub C1': 'U$',\n",
       " 'ICE Natural Gas 1 Mth.Fwd. P/Therm': 'SP',\n",
       " 'RFV Natural Gas TTF NL 1st Fut. Mth - SETT. PRICE': 'E',\n",
       " 'Salmon Frozen Export': 'NK',\n",
       " 'Salmon Fresh or Chilled Export': 'NK',\n",
       " 'Fish Pool Salmon TRc1 NOK/KG - SETT. PRICE': 'NK',\n",
       " 'Fish Pool Index Spot Salmon NOK/KG': 'NK',\n",
       " 'LME-Nickel Cash U$/MT': 'U$',\n",
       " 'LME-Cobalt 3 Month': 'U$',\n",
       " 'Raw Sugar-ISA Daily Price c/lb': 'UC',\n",
       " 'Soyabeans, No.1 Yellow $/Bushel': 'U$'}"
      ]
     },
     "execution_count": 12,
     "metadata": {},
     "output_type": "execute_result"
    }
   ],
   "source": [
    "get_factors_or_indices_curr('data', 'Factors')"
   ]
  },
  {
   "cell_type": "code",
   "execution_count": 13,
   "id": "controversial-onion",
   "metadata": {},
   "outputs": [
    {
     "data": {
      "text/html": [
       "<div>\n",
       "<style scoped>\n",
       "    .dataframe tbody tr th:only-of-type {\n",
       "        vertical-align: middle;\n",
       "    }\n",
       "\n",
       "    .dataframe tbody tr th {\n",
       "        vertical-align: top;\n",
       "    }\n",
       "\n",
       "    .dataframe thead th {\n",
       "        text-align: right;\n",
       "    }\n",
       "</style>\n",
       "<table border=\"1\" class=\"dataframe\">\n",
       "  <thead>\n",
       "    <tr style=\"text-align: right;\">\n",
       "      <th></th>\n",
       "      <th>Crude Oil-WTI Spot Cushing U$/BBL</th>\n",
       "      <th>Europe Brent Spot FOB U$/BBL Daily</th>\n",
       "      <th>LME-Copper Grade A Cash U$/MT</th>\n",
       "      <th>Baltic Exchange Dry Index (BDI) - PRICE INDEX</th>\n",
       "      <th>LME-Aluminium 99.7% Cash U$/MT</th>\n",
       "      <th>Gold Bullion LBM $/t oz DELAY</th>\n",
       "      <th>Crude Oil BFO M1 Europe FOB $/BBl</th>\n",
       "      <th>RFV Natural Gas TTF NL 1st Fut. Day - SETT. PRICE</th>\n",
       "      <th>NYMEX Natural Gas Henry Hub C1</th>\n",
       "      <th>ICE Natural Gas 1 Mth.Fwd. P/Therm</th>\n",
       "      <th>RFV Natural Gas TTF NL 1st Fut. Mth - SETT. PRICE</th>\n",
       "      <th>Salmon Frozen Export</th>\n",
       "      <th>Salmon Fresh or Chilled Export</th>\n",
       "      <th>Fish Pool Salmon TRc1 NOK/KG - SETT. PRICE</th>\n",
       "      <th>Fish Pool Index Spot Salmon NOK/KG</th>\n",
       "      <th>LME-Nickel Cash U$/MT</th>\n",
       "      <th>LME-Cobalt 3 Month</th>\n",
       "      <th>Raw Sugar-ISA Daily Price c/lb</th>\n",
       "      <th>Soyabeans, No.1 Yellow $/Bushel</th>\n",
       "    </tr>\n",
       "    <tr>\n",
       "      <th>Name</th>\n",
       "      <th></th>\n",
       "      <th></th>\n",
       "      <th></th>\n",
       "      <th></th>\n",
       "      <th></th>\n",
       "      <th></th>\n",
       "      <th></th>\n",
       "      <th></th>\n",
       "      <th></th>\n",
       "      <th></th>\n",
       "      <th></th>\n",
       "      <th></th>\n",
       "      <th></th>\n",
       "      <th></th>\n",
       "      <th></th>\n",
       "      <th></th>\n",
       "      <th></th>\n",
       "      <th></th>\n",
       "      <th></th>\n",
       "    </tr>\n",
       "  </thead>\n",
       "  <tbody>\n",
       "    <tr>\n",
       "      <th>2013-01-01</th>\n",
       "      <td>91.82</td>\n",
       "      <td>110.8</td>\n",
       "      <td>7907</td>\n",
       "      <td>699</td>\n",
       "      <td>2041</td>\n",
       "      <td>1662.41</td>\n",
       "      <td>110.36</td>\n",
       "      <td>26.2</td>\n",
       "      <td>NaN</td>\n",
       "      <td>64.51</td>\n",
       "      <td>26.35</td>\n",
       "      <td>27.16</td>\n",
       "      <td>26.9</td>\n",
       "      <td>29.86</td>\n",
       "      <td>32.48</td>\n",
       "      <td>16998</td>\n",
       "      <td>25500</td>\n",
       "      <td>19.62</td>\n",
       "      <td>14.2</td>\n",
       "    </tr>\n",
       "    <tr>\n",
       "      <th>2013-01-02</th>\n",
       "      <td>93.12</td>\n",
       "      <td>112.98</td>\n",
       "      <td>8183.5</td>\n",
       "      <td>698</td>\n",
       "      <td>2127.25</td>\n",
       "      <td>1690.15</td>\n",
       "      <td>113.21</td>\n",
       "      <td>26</td>\n",
       "      <td>NaN</td>\n",
       "      <td>64.69</td>\n",
       "      <td>26.6</td>\n",
       "      <td>27.16</td>\n",
       "      <td>26.9</td>\n",
       "      <td>29.86</td>\n",
       "      <td>32.48</td>\n",
       "      <td>17644</td>\n",
       "      <td>25000</td>\n",
       "      <td>19.78</td>\n",
       "      <td>13.99</td>\n",
       "    </tr>\n",
       "    <tr>\n",
       "      <th>2013-01-03</th>\n",
       "      <td>92.92</td>\n",
       "      <td>113.03</td>\n",
       "      <td>8136.5</td>\n",
       "      <td>700</td>\n",
       "      <td>2082.5</td>\n",
       "      <td>1679.57</td>\n",
       "      <td>113.16</td>\n",
       "      <td>26.35</td>\n",
       "      <td>NaN</td>\n",
       "      <td>66.16</td>\n",
       "      <td>27.1</td>\n",
       "      <td>27.16</td>\n",
       "      <td>26.9</td>\n",
       "      <td>29.86</td>\n",
       "      <td>32.48</td>\n",
       "      <td>17446</td>\n",
       "      <td>25000</td>\n",
       "      <td>19.24</td>\n",
       "      <td>13.92</td>\n",
       "    </tr>\n",
       "    <tr>\n",
       "      <th>2013-01-04</th>\n",
       "      <td>93.09</td>\n",
       "      <td>112.58</td>\n",
       "      <td>8055</td>\n",
       "      <td>706</td>\n",
       "      <td>2027.25</td>\n",
       "      <td>1647.64</td>\n",
       "      <td>111.32</td>\n",
       "      <td>26.5</td>\n",
       "      <td>NaN</td>\n",
       "      <td>66.65</td>\n",
       "      <td>27.23</td>\n",
       "      <td>27.16</td>\n",
       "      <td>26.9</td>\n",
       "      <td>29.86</td>\n",
       "      <td>32.33</td>\n",
       "      <td>17294</td>\n",
       "      <td>25000</td>\n",
       "      <td>19.01</td>\n",
       "      <td>13.76</td>\n",
       "    </tr>\n",
       "    <tr>\n",
       "      <th>2013-01-07</th>\n",
       "      <td>93.19</td>\n",
       "      <td>112.49</td>\n",
       "      <td>8037.5</td>\n",
       "      <td>712</td>\n",
       "      <td>2029.25</td>\n",
       "      <td>1650.08</td>\n",
       "      <td>111.37</td>\n",
       "      <td>26.95</td>\n",
       "      <td>NaN</td>\n",
       "      <td>68.09</td>\n",
       "      <td>27.7</td>\n",
       "      <td>30.22</td>\n",
       "      <td>33.35</td>\n",
       "      <td>29.86</td>\n",
       "      <td>32.33</td>\n",
       "      <td>17145</td>\n",
       "      <td>25000</td>\n",
       "      <td>19.08</td>\n",
       "      <td>13.98</td>\n",
       "    </tr>\n",
       "  </tbody>\n",
       "</table>\n",
       "</div>"
      ],
      "text/plain": [
       "           Crude Oil-WTI Spot Cushing U$/BBL  \\\n",
       "Name                                           \n",
       "2013-01-01                             91.82   \n",
       "2013-01-02                             93.12   \n",
       "2013-01-03                             92.92   \n",
       "2013-01-04                             93.09   \n",
       "2013-01-07                             93.19   \n",
       "\n",
       "           Europe Brent Spot FOB U$/BBL Daily LME-Copper Grade A Cash U$/MT  \\\n",
       "Name                                                                          \n",
       "2013-01-01                              110.8                          7907   \n",
       "2013-01-02                             112.98                        8183.5   \n",
       "2013-01-03                             113.03                        8136.5   \n",
       "2013-01-04                             112.58                          8055   \n",
       "2013-01-07                             112.49                        8037.5   \n",
       "\n",
       "           Baltic Exchange Dry Index (BDI) - PRICE INDEX  \\\n",
       "Name                                                       \n",
       "2013-01-01                                           699   \n",
       "2013-01-02                                           698   \n",
       "2013-01-03                                           700   \n",
       "2013-01-04                                           706   \n",
       "2013-01-07                                           712   \n",
       "\n",
       "           LME-Aluminium 99.7% Cash U$/MT Gold Bullion LBM $/t oz DELAY  \\\n",
       "Name                                                                      \n",
       "2013-01-01                           2041                       1662.41   \n",
       "2013-01-02                        2127.25                       1690.15   \n",
       "2013-01-03                         2082.5                       1679.57   \n",
       "2013-01-04                        2027.25                       1647.64   \n",
       "2013-01-07                        2029.25                       1650.08   \n",
       "\n",
       "           Crude Oil BFO M1 Europe FOB $/BBl  \\\n",
       "Name                                           \n",
       "2013-01-01                            110.36   \n",
       "2013-01-02                            113.21   \n",
       "2013-01-03                            113.16   \n",
       "2013-01-04                            111.32   \n",
       "2013-01-07                            111.37   \n",
       "\n",
       "           RFV Natural Gas TTF NL 1st Fut. Day - SETT. PRICE  \\\n",
       "Name                                                           \n",
       "2013-01-01                                              26.2   \n",
       "2013-01-02                                                26   \n",
       "2013-01-03                                             26.35   \n",
       "2013-01-04                                              26.5   \n",
       "2013-01-07                                             26.95   \n",
       "\n",
       "           NYMEX Natural Gas Henry Hub C1 ICE Natural Gas 1 Mth.Fwd. P/Therm  \\\n",
       "Name                                                                           \n",
       "2013-01-01                            NaN                              64.51   \n",
       "2013-01-02                            NaN                              64.69   \n",
       "2013-01-03                            NaN                              66.16   \n",
       "2013-01-04                            NaN                              66.65   \n",
       "2013-01-07                            NaN                              68.09   \n",
       "\n",
       "           RFV Natural Gas TTF NL 1st Fut. Mth - SETT. PRICE  \\\n",
       "Name                                                           \n",
       "2013-01-01                                             26.35   \n",
       "2013-01-02                                              26.6   \n",
       "2013-01-03                                              27.1   \n",
       "2013-01-04                                             27.23   \n",
       "2013-01-07                                              27.7   \n",
       "\n",
       "           Salmon Frozen Export Salmon Fresh or Chilled Export  \\\n",
       "Name                                                             \n",
       "2013-01-01                27.16                           26.9   \n",
       "2013-01-02                27.16                           26.9   \n",
       "2013-01-03                27.16                           26.9   \n",
       "2013-01-04                27.16                           26.9   \n",
       "2013-01-07                30.22                          33.35   \n",
       "\n",
       "           Fish Pool Salmon TRc1 NOK/KG - SETT. PRICE  \\\n",
       "Name                                                    \n",
       "2013-01-01                                      29.86   \n",
       "2013-01-02                                      29.86   \n",
       "2013-01-03                                      29.86   \n",
       "2013-01-04                                      29.86   \n",
       "2013-01-07                                      29.86   \n",
       "\n",
       "           Fish Pool Index Spot Salmon NOK/KG LME-Nickel Cash U$/MT  \\\n",
       "Name                                                                  \n",
       "2013-01-01                              32.48                 16998   \n",
       "2013-01-02                              32.48                 17644   \n",
       "2013-01-03                              32.48                 17446   \n",
       "2013-01-04                              32.33                 17294   \n",
       "2013-01-07                              32.33                 17145   \n",
       "\n",
       "           LME-Cobalt 3 Month Raw Sugar-ISA Daily Price c/lb  \\\n",
       "Name                                                           \n",
       "2013-01-01              25500                          19.62   \n",
       "2013-01-02              25000                          19.78   \n",
       "2013-01-03              25000                          19.24   \n",
       "2013-01-04              25000                          19.01   \n",
       "2013-01-07              25000                          19.08   \n",
       "\n",
       "           Soyabeans, No.1 Yellow $/Bushel  \n",
       "Name                                        \n",
       "2013-01-01                            14.2  \n",
       "2013-01-02                           13.99  \n",
       "2013-01-03                           13.92  \n",
       "2013-01-04                           13.76  \n",
       "2013-01-07                           13.98  "
      ]
     },
     "execution_count": 13,
     "metadata": {},
     "output_type": "execute_result"
    }
   ],
   "source": [
    "factor_frame = get_factors_or_indices('data', 'Factors')\n",
    "factor_frame.head()"
   ]
  },
  {
   "cell_type": "markdown",
   "id": "liked-amber",
   "metadata": {},
   "source": [
    "#### Writing factors to excel"
   ]
  },
  {
   "cell_type": "code",
   "execution_count": 22,
   "id": "expressed-winner",
   "metadata": {},
   "outputs": [],
   "source": [
    "factor_frame.to_excel('factors' + '.xlsx')"
   ]
  },
  {
   "cell_type": "markdown",
   "id": "modified-doctrine",
   "metadata": {},
   "source": [
    "#### ISM-PMI\n",
    "These factors are only reported on a monthly basis"
   ]
  },
  {
   "cell_type": "code",
   "execution_count": 16,
   "id": "automatic-merchant",
   "metadata": {},
   "outputs": [
    {
     "data": {
      "text/html": [
       "<div>\n",
       "<style scoped>\n",
       "    .dataframe tbody tr th:only-of-type {\n",
       "        vertical-align: middle;\n",
       "    }\n",
       "\n",
       "    .dataframe tbody tr th {\n",
       "        vertical-align: top;\n",
       "    }\n",
       "\n",
       "    .dataframe thead th {\n",
       "        text-align: right;\n",
       "    }\n",
       "</style>\n",
       "<table border=\"1\" class=\"dataframe\">\n",
       "  <thead>\n",
       "    <tr style=\"text-align: right;\">\n",
       "      <th></th>\n",
       "      <th>US ISM PURCHASING MANAGERS INDEX (MFG SURVEY) SADJ</th>\n",
       "      <th>US ISM NONMANUFACTURERS SURVEY INDEX: COMPOSITE SADJ</th>\n",
       "      <th>US CHICAGO PURCHASING MANAGER BUSINESS BAROMETER (SA) SADJ</th>\n",
       "    </tr>\n",
       "    <tr>\n",
       "      <th>Name</th>\n",
       "      <th></th>\n",
       "      <th></th>\n",
       "      <th></th>\n",
       "    </tr>\n",
       "  </thead>\n",
       "  <tbody>\n",
       "    <tr>\n",
       "      <th>2013-01-15</th>\n",
       "      <td>53.3</td>\n",
       "      <td>55.9</td>\n",
       "      <td>53.5</td>\n",
       "    </tr>\n",
       "    <tr>\n",
       "      <th>2013-02-15</th>\n",
       "      <td>54.2</td>\n",
       "      <td>56.6</td>\n",
       "      <td>55.9</td>\n",
       "    </tr>\n",
       "    <tr>\n",
       "      <th>2013-03-15</th>\n",
       "      <td>51.9</td>\n",
       "      <td>55.9</td>\n",
       "      <td>55.5</td>\n",
       "    </tr>\n",
       "    <tr>\n",
       "      <th>2013-04-15</th>\n",
       "      <td>51</td>\n",
       "      <td>54.3</td>\n",
       "      <td>50.3</td>\n",
       "    </tr>\n",
       "    <tr>\n",
       "      <th>2013-05-15</th>\n",
       "      <td>50.8</td>\n",
       "      <td>54.8</td>\n",
       "      <td>57.4</td>\n",
       "    </tr>\n",
       "  </tbody>\n",
       "</table>\n",
       "</div>"
      ],
      "text/plain": [
       "           US ISM PURCHASING MANAGERS INDEX (MFG SURVEY) SADJ  \\\n",
       "Name                                                            \n",
       "2013-01-15                                               53.3   \n",
       "2013-02-15                                               54.2   \n",
       "2013-03-15                                               51.9   \n",
       "2013-04-15                                                 51   \n",
       "2013-05-15                                               50.8   \n",
       "\n",
       "           US ISM NONMANUFACTURERS SURVEY INDEX: COMPOSITE SADJ  \\\n",
       "Name                                                              \n",
       "2013-01-15                                               55.9     \n",
       "2013-02-15                                               56.6     \n",
       "2013-03-15                                               55.9     \n",
       "2013-04-15                                               54.3     \n",
       "2013-05-15                                               54.8     \n",
       "\n",
       "           US CHICAGO PURCHASING MANAGER BUSINESS BAROMETER (SA) SADJ  \n",
       "Name                                                                   \n",
       "2013-01-15                                               53.5          \n",
       "2013-02-15                                               55.9          \n",
       "2013-03-15                                               55.5          \n",
       "2013-04-15                                               50.3          \n",
       "2013-05-15                                               57.4          "
      ]
     },
     "execution_count": 16,
     "metadata": {},
     "output_type": "execute_result"
    }
   ],
   "source": [
    "ism = get_factors_or_indices('data', 'ISM-PMI')\n",
    "ism.head()"
   ]
  },
  {
   "cell_type": "code",
   "execution_count": 17,
   "id": "prospective-court",
   "metadata": {},
   "outputs": [],
   "source": [
    "factor_frame.isnull().sum();"
   ]
  },
  {
   "cell_type": "code",
   "execution_count": null,
   "id": "prostate-hunger",
   "metadata": {},
   "outputs": [],
   "source": []
  },
  {
   "cell_type": "markdown",
   "id": "protecting-latter",
   "metadata": {},
   "source": [
    "### Indices\n",
    "Use the functions: \n",
    "* *get_factors_or_indices_curr*\n",
    "* *get_factors_or_indices*\n"
   ]
  },
  {
   "cell_type": "code",
   "execution_count": 18,
   "id": "spoken-vatican",
   "metadata": {},
   "outputs": [
    {
     "data": {
      "text/plain": [
       "{'MSCI WORLD U$ - PRICE INDEX': 'U$',\n",
       " 'MSCI EUROPE U$ - PRICE INDEX': 'U$',\n",
       " 'S&P 500 COMPOSITE - PRICE INDEX': 'U$',\n",
       " 'NASDAQ COMPOSITE - PRICE INDEX': 'U$',\n",
       " 'FTSE 100 - PRICE INDEX': '£',\n",
       " 'STOXX EUROPE 600 E - PRICE INDEX': 'E',\n",
       " 'FRANCE CAC 40 - PRICE INDEX': 'E',\n",
       " 'TOPIX - PRICE INDEX': 'Y',\n",
       " 'FTSE ALL SHARE - PRICE INDEX': '£',\n",
       " 'FTSE MIB INDEX - PRICE INDEX': 'E',\n",
       " 'S&P/ASX 200 - PRICE INDEX': 'A$',\n",
       " 'FTSE 250 - PRICE INDEX': '£',\n",
       " 'HANG SENG - PRICE INDEX': 'K$',\n",
       " 'IBEX 35 - PRICE INDEX': 'E',\n",
       " 'EURO STOXX - PRICE INDEX': 'E',\n",
       " 'S&P/TSX COMPOSITE INDEX - PRICE INDEX': 'C$',\n",
       " 'SHANGHAI SE A SHARE - PRICE INDEX': 'CH',\n",
       " 'SWISS MARKET (SMI) - PRICE INDEX': 'SF',\n",
       " 'AEX INDEX (AEX) - PRICE INDEX': 'E',\n",
       " 'AUSTRIAN TRADED INDEX - PRICE INDEX': 'E',\n",
       " 'OMX STOCKHOLM 30 (OMXS30) - PRICE INDEX': 'SK',\n",
       " 'TAIWAN SE WEIGHED TAIEX - PRICE INDEX': 'TW',\n",
       " 'OMX COPENHAGEN (OMXC) - PRICE INDEX': 'DK',\n",
       " 'OMX HELSINKI (OMXH) - PRICE INDEX': 'E',\n",
       " 'OMX STOCKHOLM (OMXS) - PRICE INDEX': 'SK',\n",
       " 'STRAITS TIMES INDEX L - PRICE INDEX': 'S$',\n",
       " 'RUSSIA RTS INDEX - PRICE INDEX': 'U$',\n",
       " 'MOEX RUSSIA INDEX - PRICE INDEX': 'UR'}"
      ]
     },
     "execution_count": 18,
     "metadata": {},
     "output_type": "execute_result"
    }
   ],
   "source": [
    "### Currencies\n",
    "get_factors_or_indices_curr('data', 'Indices')"
   ]
  },
  {
   "cell_type": "code",
   "execution_count": 25,
   "id": "under-hollow",
   "metadata": {},
   "outputs": [],
   "source": [
    "### Data\n",
    "indices = get_factors_or_indices('data', 'Indices')"
   ]
  },
  {
   "cell_type": "markdown",
   "id": "framed-colon",
   "metadata": {},
   "source": [
    "#### Writing indices to excel"
   ]
  },
  {
   "cell_type": "code",
   "execution_count": 26,
   "id": "protective-cancellation",
   "metadata": {},
   "outputs": [],
   "source": [
    "indices.to_excel('indices.xlsx')"
   ]
  },
  {
   "cell_type": "code",
   "execution_count": null,
   "id": "scientific-character",
   "metadata": {},
   "outputs": [],
   "source": []
  }
 ],
 "metadata": {
  "kernelspec": {
   "display_name": "Python 3",
   "language": "python",
   "name": "python3"
  },
  "language_info": {
   "codemirror_mode": {
    "name": "ipython",
    "version": 3
   },
   "file_extension": ".py",
   "mimetype": "text/x-python",
   "name": "python",
   "nbconvert_exporter": "python",
   "pygments_lexer": "ipython3",
   "version": "3.8.5"
  }
 },
 "nbformat": 4,
 "nbformat_minor": 5
}
