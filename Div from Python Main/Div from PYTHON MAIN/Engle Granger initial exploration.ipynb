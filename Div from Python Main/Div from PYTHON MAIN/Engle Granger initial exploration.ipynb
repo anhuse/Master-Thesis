{
 "cells": [
  {
   "cell_type": "markdown",
   "id": "collaborative-sister",
   "metadata": {},
   "source": [
    "# Engle Granger for cointegration\n",
    "Link to statsmodels documentation: https://www.statsmodels.org/dev/generated/statsmodels.tsa.stattools.coint.html\n",
    "\n",
    "**Short description**\n",
    "* Test for no-cointegration\n",
    "* The null hypothesis is no cointegration. Variables in y0 and y1 are assumed to be integratd of order 1, I(0)\n",
    "* The function uses the augmented Engle-Granger two-step cointegration test. Constant or trend is included in 1st stage regression, i.e. in cointegration equation.\n",
    "\n",
    "**Returns**\n",
    "\n",
    "*coint_t* : float\n",
    "\n",
    "* The t-statistic of unit-root test on residuals\n",
    "     \n",
    "*pvalue* : float\n",
    "* corresponding pvalue\n",
    "\n",
    "\n",
    "*crit_value* : dict\n",
    "* Critical values for the test statistic at the 1%, 5% and 10% levels based on regression curve. This depends on the number of observations"
   ]
  },
  {
   "cell_type": "code",
   "execution_count": 5,
   "id": "modified-tennessee",
   "metadata": {},
   "outputs": [],
   "source": [
    "import yfinance as yf\n",
    "import pandas as pd\n",
    "from statsmodels.tsa.stattools import coint"
   ]
  },
  {
   "cell_type": "code",
   "execution_count": 16,
   "id": "nuclear-radical",
   "metadata": {},
   "outputs": [
    {
     "name": "stdout",
     "output_type": "stream",
     "text": [
      "[*********************100%***********************]  1 of 1 completed\n",
      "[*********************100%***********************]  1 of 1 completed\n"
     ]
    }
   ],
   "source": [
    "### Data\n",
    "s1 = yf.download('EQNR.OL')['Close']['2020-01-01':]\n",
    "s2 = yf.download('AKRBP.OL')['Close']['2020-01-01':]"
   ]
  },
  {
   "cell_type": "code",
   "execution_count": 20,
   "id": "tender-headset",
   "metadata": {},
   "outputs": [
    {
     "name": "stdout",
     "output_type": "stream",
     "text": [
      "Test Statistic                                                       -2.023986\n",
      "p-value                                                               0.516089\n",
      "Critical Values 1%,5%,10%    [-3.9180432141484047, -3.3481368204536714, -3....\n",
      "dtype: object\n"
     ]
    }
   ],
   "source": [
    "eg = coint(y0 = s1,\n",
    "           y1 = s2,\n",
    "           trend = 'c',   # 'c' = constant. alternative: 'ct' --> constant and linear trend\n",
    "           method='aeg'   # augmented Engle Granger, only available\n",
    "          )\n",
    "eg_output = pd.Series(eg[0:3], index=['Test Statistic','p-value','Critical Values 1%,5%,10%'])\n",
    "print(eg_output)"
   ]
  },
  {
   "cell_type": "code",
   "execution_count": null,
   "id": "practical-region",
   "metadata": {},
   "outputs": [],
   "source": []
  }
 ],
 "metadata": {
  "kernelspec": {
   "display_name": "Python 3",
   "language": "python",
   "name": "python3"
  },
  "language_info": {
   "codemirror_mode": {
    "name": "ipython",
    "version": 3
   },
   "file_extension": ".py",
   "mimetype": "text/x-python",
   "name": "python",
   "nbconvert_exporter": "python",
   "pygments_lexer": "ipython3",
   "version": "3.8.5"
  }
 },
 "nbformat": 4,
 "nbformat_minor": 5
}
