{
 "cells": [
  {
   "cell_type": "markdown",
   "id": "utility-integration",
   "metadata": {},
   "source": [
    "# Pairs exploration\n",
    "Preparing data and performing cluster analysis\n",
    "\n",
    "**NOTES**\n",
    "* Decide the train/test spilt &rarr; what is the formation period, on which the pairs are formed/detected\n",
    "* This approach will only detectd pairs within the clustering/cointegration framework. May find useful pairs outside this framework\n",
    "***\n",
    "**Part1**\n",
    "\n",
    " 1. Reading data for securities from the OBX index\n",
    " 2. Reading preaviously made data for the securities from foreign exchanges\n",
    " 3. Concatenating the data from OBX with the data from foreign exchanges\n",
    "\n",
    "\n",
    "**Part2**\n",
    " 1. Performing PCA and scaling on the desired DataFrame\n",
    " 2. Instantiate clustering models\n",
    " 3. Plotting the detected pairs\n",
    " 4. Check the pairs for cointegration\n",
    " \n",
    " ***\n",
    "\n",
    "#### Preparing data\n",
    "* [Reading in Currencies](#Reading-in-Currencies)\n",
    "* [Getting data from the OBX](#Getting-data-from-the-OBX)\n",
    "* [Reading in foreign exchanges](#Reading-in-foreign-exchanges)\n",
    "* [Concatenating foreign securities to df_obx](#Concatenating-foreign-securities-to-df_obx)\n",
    "* [Reindexing currencies](#Reindexing-currencies)\n",
    "\n",
    "#### Exploring pairs\n",
    "* [PCA](#PCA)\n",
    "* [Scaling](#Scaling)\n",
    "* [DBSCAN](#DBSCAN)\n",
    "* [OPTICS](#OPTICS)\n",
    "* [Making series](#Making-series)\n",
    "* [Plotting, T-SNE](#Plotting,-T-SNE)\n",
    "    * [matplotlib](#matplotlib)\n",
    "    * [plotly](#plotly)\n",
    "* [Get pairs](#Get-pairs)\n",
    "* [Cointegration test](#Cointegration-test)"
   ]
  },
  {
   "cell_type": "code",
   "execution_count": 1,
   "id": "vietnamese-advantage",
   "metadata": {},
   "outputs": [],
   "source": [
    "import pandas as pd\n",
    "import numpy as np\n",
    "import yfinance as yf\n",
    "from progress.bar import Bar\n",
    "\n",
    "import matplotlib.pyplot as plt\n",
    "import matplotlib.cm as cm\n",
    "\n",
    "import plotly.express as px\n",
    "import plotly.graph_objects as go\n",
    "\n",
    "from sklearn.cluster import DBSCAN\n",
    "from sklearn.decomposition import PCA\n",
    "from sklearn.manifold import TSNE\n",
    "from sklearn import preprocessing"
   ]
  },
  {
   "cell_type": "markdown",
   "id": "nonprofit-yesterday",
   "metadata": {},
   "source": [
    "## Preparing data"
   ]
  },
  {
   "cell_type": "code",
   "execution_count": 35,
   "id": "purple-graduate",
   "metadata": {},
   "outputs": [],
   "source": [
    "### GLOBAL VARIABLES\n",
    "\n",
    "indices = ['France', 'USA', 'UK', 'Germany',  'Spain', 'Italy', 'Canada',\n",
    "           'Australia', 'Hong Kong', 'Japan', 'Swiss', 'Russia', 'Sweden',\n",
    "           'Denmark', 'Finland']\n",
    "\n",
    "OBX_tickers = ['ADE', 'AKER', 'AKRBP', 'BAKKA', 'DNB', 'EQNR', 'FRO',\n",
    "               'GJF', 'GOGL', 'KAHOT', 'MOWI', 'MPCC', 'NEL', 'NOD', 'NHY',\n",
    "               'ORK', 'RECSI', 'SALM', 'SCATC', 'SCHA', 'STB', 'SUBC', 'TEL',\n",
    "               'TOM', 'YAR']\n",
    "\n",
    "START = '2013-01-01'\n",
    "END = '2022-01-06'\n",
    "CLUSTERING_MODEL = 'OPTICS'\n",
    "\n",
    "\n",
    "\n",
    "assert len(OBX_tickers) == 25, \"Wrong number of instruments\"\n"
   ]
  },
  {
   "cell_type": "markdown",
   "id": "cardiac-citation",
   "metadata": {},
   "source": [
    "### Reading in Currencies"
   ]
  },
  {
   "cell_type": "code",
   "execution_count": 3,
   "id": "forward-count",
   "metadata": {},
   "outputs": [
    {
     "data": {
      "text/plain": [
       "Index(['AUD', 'BDT', 'BGN', 'BRL', 'BYN', 'CAD', 'CHF', 'CNY', 'CZK', 'DKK',\n",
       "       'EUR', 'GBP', 'HKD', 'HRK', 'HUF', 'I44', 'IDR', 'ILS', 'INR', 'ISK',\n",
       "       'JPY', 'KRW', 'MMK', 'MXN', 'MYR', 'NZD', 'PHP', 'PKR', 'PLN', 'RON',\n",
       "       'RUB', 'SEK', 'SGD', 'THB', 'TRY', 'TWD', 'TWI', 'USD', 'VND', 'XDR',\n",
       "       'ZAR'],\n",
       "      dtype='object')"
      ]
     },
     "execution_count": 3,
     "metadata": {},
     "output_type": "execute_result"
    }
   ],
   "source": [
    "df_forex = pd.read_excel('Valuta.xlsx', index_col='Date')\n",
    "df_forex.columns"
   ]
  },
  {
   "cell_type": "code",
   "execution_count": 4,
   "id": "amino-lounge",
   "metadata": {},
   "outputs": [
    {
     "data": {
      "text/plain": [
       "Index(['A$', 'BDT', 'BGN', 'BRL', 'BYN', 'C$', 'CHF', 'CNY', 'CZK', 'DK', 'E',\n",
       "       '£', 'HKD', 'HRK', 'HUF', 'I44', 'IDR', 'ILS', 'INR', 'ISK', 'Y', 'KRW',\n",
       "       'MMK', 'MXN', 'MYR', 'NZD', 'PHP', 'PKR', 'PLN', 'RON', 'UR', 'SK',\n",
       "       'SGD', 'THB', 'TRY', 'TWD', 'TWI', 'U$', 'VND', 'XDR', 'ZAR'],\n",
       "      dtype='object')"
      ]
     },
     "execution_count": 4,
     "metadata": {},
     "output_type": "execute_result"
    }
   ],
   "source": [
    "df_forex.rename(columns={'EUR': 'E',\n",
    "                          'USD': 'U$',\n",
    "                          'GBP': '£',\n",
    "                          'CAD': 'C$',\n",
    "                          'AUD': 'A$',\n",
    "                          'JPY': 'Y',\n",
    "                          'SEK': 'SK',\n",
    "                          'DKK': 'DK',\n",
    "                          'RUB': 'UR'}, inplace=True)\n",
    "df_forex.columns"
   ]
  },
  {
   "cell_type": "markdown",
   "id": "functioning-screw",
   "metadata": {},
   "source": [
    "### Getting data from the OBX"
   ]
  },
  {
   "cell_type": "code",
   "execution_count": 6,
   "id": "growing-pierce",
   "metadata": {},
   "outputs": [
    {
     "name": "stdout",
     "output_type": "stream",
     "text": [
      "[*********************100%***********************]  25 of 25 completed\n"
     ]
    },
    {
     "data": {
      "text/html": [
       "<div>\n",
       "<style scoped>\n",
       "    .dataframe tbody tr th:only-of-type {\n",
       "        vertical-align: middle;\n",
       "    }\n",
       "\n",
       "    .dataframe tbody tr th {\n",
       "        vertical-align: top;\n",
       "    }\n",
       "\n",
       "    .dataframe thead th {\n",
       "        text-align: right;\n",
       "    }\n",
       "</style>\n",
       "<table border=\"1\" class=\"dataframe\">\n",
       "  <thead>\n",
       "    <tr style=\"text-align: right;\">\n",
       "      <th></th>\n",
       "      <th>AKER</th>\n",
       "      <th>AKRBP</th>\n",
       "      <th>BAKKA</th>\n",
       "      <th>EQNR</th>\n",
       "      <th>FRO</th>\n",
       "      <th>GJF</th>\n",
       "      <th>GOGL</th>\n",
       "      <th>MOWI</th>\n",
       "      <th>NEL</th>\n",
       "      <th>NOD</th>\n",
       "      <th>NHY</th>\n",
       "      <th>ORK</th>\n",
       "      <th>RECSI</th>\n",
       "      <th>SALM</th>\n",
       "      <th>SCHA</th>\n",
       "      <th>STB</th>\n",
       "      <th>SUBC</th>\n",
       "      <th>TEL</th>\n",
       "      <th>TOM</th>\n",
       "      <th>YAR</th>\n",
       "    </tr>\n",
       "    <tr>\n",
       "      <th>Date</th>\n",
       "      <th></th>\n",
       "      <th></th>\n",
       "      <th></th>\n",
       "      <th></th>\n",
       "      <th></th>\n",
       "      <th></th>\n",
       "      <th></th>\n",
       "      <th></th>\n",
       "      <th></th>\n",
       "      <th></th>\n",
       "      <th></th>\n",
       "      <th></th>\n",
       "      <th></th>\n",
       "      <th></th>\n",
       "      <th></th>\n",
       "      <th></th>\n",
       "      <th></th>\n",
       "      <th></th>\n",
       "      <th></th>\n",
       "      <th></th>\n",
       "    </tr>\n",
       "  </thead>\n",
       "  <tbody>\n",
       "    <tr>\n",
       "      <th>2021-12-29</th>\n",
       "      <td>822.0</td>\n",
       "      <td>269.813904</td>\n",
       "      <td>583.400024</td>\n",
       "      <td>238.688751</td>\n",
       "      <td>62.180000</td>\n",
       "      <td>213.600006</td>\n",
       "      <td>78.099998</td>\n",
       "      <td>208.600006</td>\n",
       "      <td>14.895000</td>\n",
       "      <td>68.900002</td>\n",
       "      <td>293.600006</td>\n",
       "      <td>88.279999</td>\n",
       "      <td>17.500000</td>\n",
       "      <td>608.000000</td>\n",
       "      <td>338.899994</td>\n",
       "      <td>87.620003</td>\n",
       "      <td>62.580002</td>\n",
       "      <td>138.949997</td>\n",
       "      <td>630.200012</td>\n",
       "      <td>449.600006</td>\n",
       "    </tr>\n",
       "    <tr>\n",
       "      <th>2021-12-30</th>\n",
       "      <td>825.0</td>\n",
       "      <td>267.352997</td>\n",
       "      <td>583.599976</td>\n",
       "      <td>235.740723</td>\n",
       "      <td>62.799999</td>\n",
       "      <td>214.000000</td>\n",
       "      <td>79.550003</td>\n",
       "      <td>208.699997</td>\n",
       "      <td>15.210000</td>\n",
       "      <td>69.519997</td>\n",
       "      <td>297.600006</td>\n",
       "      <td>88.360001</td>\n",
       "      <td>17.930000</td>\n",
       "      <td>608.000000</td>\n",
       "      <td>340.100006</td>\n",
       "      <td>88.519997</td>\n",
       "      <td>63.180000</td>\n",
       "      <td>138.600006</td>\n",
       "      <td>631.000000</td>\n",
       "      <td>445.000000</td>\n",
       "    </tr>\n",
       "    <tr>\n",
       "      <th>2022-01-03</th>\n",
       "      <td>839.0</td>\n",
       "      <td>276.802887</td>\n",
       "      <td>585.000000</td>\n",
       "      <td>235.341003</td>\n",
       "      <td>67.419998</td>\n",
       "      <td>211.100006</td>\n",
       "      <td>86.400002</td>\n",
       "      <td>210.699997</td>\n",
       "      <td>16.370001</td>\n",
       "      <td>69.300003</td>\n",
       "      <td>296.200012</td>\n",
       "      <td>86.900002</td>\n",
       "      <td>17.790001</td>\n",
       "      <td>611.400024</td>\n",
       "      <td>347.399994</td>\n",
       "      <td>88.000000</td>\n",
       "      <td>65.680000</td>\n",
       "      <td>139.649994</td>\n",
       "      <td>630.000000</td>\n",
       "      <td>468.000000</td>\n",
       "    </tr>\n",
       "    <tr>\n",
       "      <th>2022-01-04</th>\n",
       "      <td>837.5</td>\n",
       "      <td>275.720093</td>\n",
       "      <td>579.599976</td>\n",
       "      <td>240.487518</td>\n",
       "      <td>66.959999</td>\n",
       "      <td>211.300003</td>\n",
       "      <td>86.949997</td>\n",
       "      <td>209.500000</td>\n",
       "      <td>15.655000</td>\n",
       "      <td>70.919998</td>\n",
       "      <td>287.200012</td>\n",
       "      <td>88.099998</td>\n",
       "      <td>18.440001</td>\n",
       "      <td>606.400024</td>\n",
       "      <td>340.700012</td>\n",
       "      <td>89.879997</td>\n",
       "      <td>67.000000</td>\n",
       "      <td>140.600006</td>\n",
       "      <td>620.599976</td>\n",
       "      <td>463.000000</td>\n",
       "    </tr>\n",
       "    <tr>\n",
       "      <th>2022-01-05</th>\n",
       "      <td>849.0</td>\n",
       "      <td>285.268402</td>\n",
       "      <td>579.200012</td>\n",
       "      <td>245.733978</td>\n",
       "      <td>66.239998</td>\n",
       "      <td>213.300003</td>\n",
       "      <td>86.500000</td>\n",
       "      <td>211.500000</td>\n",
       "      <td>15.650000</td>\n",
       "      <td>70.760002</td>\n",
       "      <td>287.399994</td>\n",
       "      <td>87.500000</td>\n",
       "      <td>18.330000</td>\n",
       "      <td>612.000000</td>\n",
       "      <td>338.100006</td>\n",
       "      <td>91.860001</td>\n",
       "      <td>67.279999</td>\n",
       "      <td>140.899994</td>\n",
       "      <td>610.000000</td>\n",
       "      <td>476.600006</td>\n",
       "    </tr>\n",
       "  </tbody>\n",
       "</table>\n",
       "</div>"
      ],
      "text/plain": [
       "             AKER       AKRBP       BAKKA        EQNR        FRO         GJF  \\\n",
       "Date                                                                           \n",
       "2021-12-29  822.0  269.813904  583.400024  238.688751  62.180000  213.600006   \n",
       "2021-12-30  825.0  267.352997  583.599976  235.740723  62.799999  214.000000   \n",
       "2022-01-03  839.0  276.802887  585.000000  235.341003  67.419998  211.100006   \n",
       "2022-01-04  837.5  275.720093  579.599976  240.487518  66.959999  211.300003   \n",
       "2022-01-05  849.0  285.268402  579.200012  245.733978  66.239998  213.300003   \n",
       "\n",
       "                 GOGL        MOWI        NEL        NOD         NHY  \\\n",
       "Date                                                                  \n",
       "2021-12-29  78.099998  208.600006  14.895000  68.900002  293.600006   \n",
       "2021-12-30  79.550003  208.699997  15.210000  69.519997  297.600006   \n",
       "2022-01-03  86.400002  210.699997  16.370001  69.300003  296.200012   \n",
       "2022-01-04  86.949997  209.500000  15.655000  70.919998  287.200012   \n",
       "2022-01-05  86.500000  211.500000  15.650000  70.760002  287.399994   \n",
       "\n",
       "                  ORK      RECSI        SALM        SCHA        STB  \\\n",
       "Date                                                                  \n",
       "2021-12-29  88.279999  17.500000  608.000000  338.899994  87.620003   \n",
       "2021-12-30  88.360001  17.930000  608.000000  340.100006  88.519997   \n",
       "2022-01-03  86.900002  17.790001  611.400024  347.399994  88.000000   \n",
       "2022-01-04  88.099998  18.440001  606.400024  340.700012  89.879997   \n",
       "2022-01-05  87.500000  18.330000  612.000000  338.100006  91.860001   \n",
       "\n",
       "                 SUBC         TEL         TOM         YAR  \n",
       "Date                                                       \n",
       "2021-12-29  62.580002  138.949997  630.200012  449.600006  \n",
       "2021-12-30  63.180000  138.600006  631.000000  445.000000  \n",
       "2022-01-03  65.680000  139.649994  630.000000  468.000000  \n",
       "2022-01-04  67.000000  140.600006  620.599976  463.000000  \n",
       "2022-01-05  67.279999  140.899994  610.000000  476.600006  "
      ]
     },
     "execution_count": 6,
     "metadata": {},
     "output_type": "execute_result"
    }
   ],
   "source": [
    "df_obx = yf.download([s + '.ol' for s in OBX_tickers],\n",
    "                 start = START,\n",
    "                 end   = END)['Adj Close']\n",
    "\n",
    "df_obx.columns = OBX_tickers\n",
    "df_obx.index = df_obx.index.astype(str)\n",
    "df_obx.dropna(axis=1, how='any', inplace=True)\n",
    "# df_obx = df_obx.pct_change()[1:]\n",
    "df_obx.tail()"
   ]
  },
  {
   "cell_type": "code",
   "execution_count": 7,
   "id": "coupled-syracuse",
   "metadata": {},
   "outputs": [
    {
     "data": {
      "text/plain": [
       "2260"
      ]
     },
     "execution_count": 7,
     "metadata": {},
     "output_type": "execute_result"
    }
   ],
   "source": [
    "df_obx.shape[0]"
   ]
  },
  {
   "cell_type": "markdown",
   "id": "decent-nebraska",
   "metadata": {},
   "source": [
    "#### Securities not included in final DataFrame, due to null values"
   ]
  },
  {
   "cell_type": "code",
   "execution_count": 8,
   "id": "norman-holmes",
   "metadata": {},
   "outputs": [
    {
     "data": {
      "text/plain": [
       "['ADE', 'DNB', 'KAHOT', 'MPCC', 'SCATC']"
      ]
     },
     "execution_count": 8,
     "metadata": {},
     "output_type": "execute_result"
    }
   ],
   "source": [
    "not_included = [sec for sec in OBX_tickers if sec not in df_obx.columns]\n",
    "not_included"
   ]
  },
  {
   "cell_type": "markdown",
   "id": "covered-paintball",
   "metadata": {},
   "source": [
    "### Reading in foreign exchanges\n",
    "* Reading data previously written to excel\n",
    "* Reindexing (as df_obx) to fasilitate easier future concatenation of frames"
   ]
  },
  {
   "cell_type": "code",
   "execution_count": 9,
   "id": "explicit-talent",
   "metadata": {},
   "outputs": [],
   "source": [
    "all = {}\n",
    "\n",
    "for ind in indices:\n",
    "    df = pd.read_excel(ind + '.xlsx', index_col='Name')\n",
    "#     df = df.pct_change()[1:]\n",
    "\n",
    "    assert df.isnull().sum().sum() == 0, f\"Null values present in {ind}\"\n",
    "\n",
    "    df = df.reindex(df_obx.index, axis='index')\n",
    "    all[ind] = df\n",
    "    \n",
    "#     print(f'{ind} successfully read to \"all\"')\n",
    "#     print(f'{df.shape[0]: >50}')\n",
    "    "
   ]
  },
  {
   "cell_type": "code",
   "execution_count": 12,
   "id": "close-latter",
   "metadata": {},
   "outputs": [
    {
     "data": {
      "text/plain": [
       "True"
      ]
     },
     "execution_count": 12,
     "metadata": {},
     "output_type": "execute_result"
    }
   ],
   "source": [
    "### Checking for equal df-indices\n",
    "\n",
    "(all['USA'].index == df_obx.index).sum() == len(df_obx.index)"
   ]
  },
  {
   "cell_type": "markdown",
   "id": "medieval-budget",
   "metadata": {},
   "source": [
    "### Concatenating foreign securities to df_obx\n",
    "> To explore the possible pairs between the OBX and the securities in  each foreign country, the DataFrame containing the securities for each foreign country is cancatenated to \"df_obx\" once at a time"
   ]
  },
  {
   "cell_type": "code",
   "execution_count": 13,
   "id": "constant-position",
   "metadata": {},
   "outputs": [],
   "source": [
    "def concat_to_obx(country):\n",
    "    return pd.concat([df_obx, all[country]], axis=1)"
   ]
  },
  {
   "cell_type": "markdown",
   "id": "cooked-draft",
   "metadata": {},
   "source": [
    "### Canada"
   ]
  },
  {
   "cell_type": "code",
   "execution_count": 14,
   "id": "embedded-michigan",
   "metadata": {},
   "outputs": [
    {
     "data": {
      "text/html": [
       "<div>\n",
       "<style scoped>\n",
       "    .dataframe tbody tr th:only-of-type {\n",
       "        vertical-align: middle;\n",
       "    }\n",
       "\n",
       "    .dataframe tbody tr th {\n",
       "        vertical-align: top;\n",
       "    }\n",
       "\n",
       "    .dataframe thead th {\n",
       "        text-align: right;\n",
       "    }\n",
       "</style>\n",
       "<table border=\"1\" class=\"dataframe\">\n",
       "  <thead>\n",
       "    <tr style=\"text-align: right;\">\n",
       "      <th></th>\n",
       "      <th>AKER</th>\n",
       "      <th>AKRBP</th>\n",
       "      <th>BAKKA</th>\n",
       "      <th>EQNR</th>\n",
       "      <th>FRO</th>\n",
       "      <th>GJF</th>\n",
       "      <th>GOGL</th>\n",
       "      <th>MOWI</th>\n",
       "      <th>NEL</th>\n",
       "      <th>NOD</th>\n",
       "      <th>...</th>\n",
       "      <th>TELUS</th>\n",
       "      <th>CENOVUS ENERGY</th>\n",
       "      <th>GREAT WEST LIFECO</th>\n",
       "      <th>IMPERIAL OIL</th>\n",
       "      <th>SUN LIFE FINL.</th>\n",
       "      <th>WASTE CONNECTIONS</th>\n",
       "      <th>FRANCO-NEVADA</th>\n",
       "      <th>LOBLAW</th>\n",
       "      <th>NATIONAL BANK OF CANADA</th>\n",
       "      <th>FORTIS</th>\n",
       "    </tr>\n",
       "    <tr>\n",
       "      <th>Date</th>\n",
       "      <th></th>\n",
       "      <th></th>\n",
       "      <th></th>\n",
       "      <th></th>\n",
       "      <th></th>\n",
       "      <th></th>\n",
       "      <th></th>\n",
       "      <th></th>\n",
       "      <th></th>\n",
       "      <th></th>\n",
       "      <th></th>\n",
       "      <th></th>\n",
       "      <th></th>\n",
       "      <th></th>\n",
       "      <th></th>\n",
       "      <th></th>\n",
       "      <th></th>\n",
       "      <th></th>\n",
       "      <th></th>\n",
       "      <th></th>\n",
       "      <th></th>\n",
       "    </tr>\n",
       "  </thead>\n",
       "  <tbody>\n",
       "    <tr>\n",
       "      <th>2013-01-02</th>\n",
       "      <td>124.708305</td>\n",
       "      <td>61.480129</td>\n",
       "      <td>47.115044</td>\n",
       "      <td>93.815178</td>\n",
       "      <td>90.541641</td>\n",
       "      <td>46.678467</td>\n",
       "      <td>95.666061</td>\n",
       "      <td>34.952297</td>\n",
       "      <td>3.108494</td>\n",
       "      <td>20.936569</td>\n",
       "      <td>...</td>\n",
       "      <td>16.30</td>\n",
       "      <td>33.67</td>\n",
       "      <td>24.20</td>\n",
       "      <td>42.44</td>\n",
       "      <td>26.75</td>\n",
       "      <td>30.07</td>\n",
       "      <td>57.40</td>\n",
       "      <td>33.74</td>\n",
       "      <td>38.69</td>\n",
       "      <td>34.43</td>\n",
       "    </tr>\n",
       "    <tr>\n",
       "      <th>2013-01-03</th>\n",
       "      <td>125.849785</td>\n",
       "      <td>61.695229</td>\n",
       "      <td>46.145603</td>\n",
       "      <td>93.749046</td>\n",
       "      <td>92.936935</td>\n",
       "      <td>46.678467</td>\n",
       "      <td>95.019676</td>\n",
       "      <td>34.783604</td>\n",
       "      <td>3.077777</td>\n",
       "      <td>21.059639</td>\n",
       "      <td>...</td>\n",
       "      <td>16.27</td>\n",
       "      <td>33.48</td>\n",
       "      <td>24.53</td>\n",
       "      <td>42.43</td>\n",
       "      <td>27.01</td>\n",
       "      <td>30.14</td>\n",
       "      <td>55.73</td>\n",
       "      <td>33.45</td>\n",
       "      <td>38.66</td>\n",
       "      <td>34.58</td>\n",
       "    </tr>\n",
       "    <tr>\n",
       "      <th>2013-01-04</th>\n",
       "      <td>125.564415</td>\n",
       "      <td>60.225441</td>\n",
       "      <td>46.339489</td>\n",
       "      <td>94.079605</td>\n",
       "      <td>98.685593</td>\n",
       "      <td>46.337540</td>\n",
       "      <td>104.069168</td>\n",
       "      <td>34.378750</td>\n",
       "      <td>3.053204</td>\n",
       "      <td>20.849697</td>\n",
       "      <td>...</td>\n",
       "      <td>16.30</td>\n",
       "      <td>33.78</td>\n",
       "      <td>24.78</td>\n",
       "      <td>43.05</td>\n",
       "      <td>27.14</td>\n",
       "      <td>29.77</td>\n",
       "      <td>56.00</td>\n",
       "      <td>33.39</td>\n",
       "      <td>38.76</td>\n",
       "      <td>34.51</td>\n",
       "    </tr>\n",
       "    <tr>\n",
       "      <th>2013-01-07</th>\n",
       "      <td>125.564415</td>\n",
       "      <td>60.225441</td>\n",
       "      <td>45.370041</td>\n",
       "      <td>93.286247</td>\n",
       "      <td>95.332214</td>\n",
       "      <td>46.110260</td>\n",
       "      <td>108.593941</td>\n",
       "      <td>33.872692</td>\n",
       "      <td>3.108494</td>\n",
       "      <td>20.668709</td>\n",
       "      <td>...</td>\n",
       "      <td>16.10</td>\n",
       "      <td>33.53</td>\n",
       "      <td>24.86</td>\n",
       "      <td>43.19</td>\n",
       "      <td>27.39</td>\n",
       "      <td>29.66</td>\n",
       "      <td>55.45</td>\n",
       "      <td>32.58</td>\n",
       "      <td>38.63</td>\n",
       "      <td>34.52</td>\n",
       "    </tr>\n",
       "    <tr>\n",
       "      <th>2013-01-08</th>\n",
       "      <td>125.564415</td>\n",
       "      <td>60.404682</td>\n",
       "      <td>44.982269</td>\n",
       "      <td>93.220169</td>\n",
       "      <td>94.853149</td>\n",
       "      <td>46.536419</td>\n",
       "      <td>110.964020</td>\n",
       "      <td>33.973896</td>\n",
       "      <td>3.219072</td>\n",
       "      <td>20.603554</td>\n",
       "      <td>...</td>\n",
       "      <td>16.10</td>\n",
       "      <td>33.52</td>\n",
       "      <td>24.80</td>\n",
       "      <td>43.23</td>\n",
       "      <td>27.55</td>\n",
       "      <td>29.70</td>\n",
       "      <td>55.95</td>\n",
       "      <td>32.70</td>\n",
       "      <td>38.65</td>\n",
       "      <td>34.18</td>\n",
       "    </tr>\n",
       "  </tbody>\n",
       "</table>\n",
       "<p>5 rows × 48 columns</p>\n",
       "</div>"
      ],
      "text/plain": [
       "                  AKER      AKRBP      BAKKA       EQNR        FRO        GJF  \\\n",
       "Date                                                                            \n",
       "2013-01-02  124.708305  61.480129  47.115044  93.815178  90.541641  46.678467   \n",
       "2013-01-03  125.849785  61.695229  46.145603  93.749046  92.936935  46.678467   \n",
       "2013-01-04  125.564415  60.225441  46.339489  94.079605  98.685593  46.337540   \n",
       "2013-01-07  125.564415  60.225441  45.370041  93.286247  95.332214  46.110260   \n",
       "2013-01-08  125.564415  60.404682  44.982269  93.220169  94.853149  46.536419   \n",
       "\n",
       "                  GOGL       MOWI       NEL        NOD  ...  TELUS  \\\n",
       "Date                                                    ...          \n",
       "2013-01-02   95.666061  34.952297  3.108494  20.936569  ...  16.30   \n",
       "2013-01-03   95.019676  34.783604  3.077777  21.059639  ...  16.27   \n",
       "2013-01-04  104.069168  34.378750  3.053204  20.849697  ...  16.30   \n",
       "2013-01-07  108.593941  33.872692  3.108494  20.668709  ...  16.10   \n",
       "2013-01-08  110.964020  33.973896  3.219072  20.603554  ...  16.10   \n",
       "\n",
       "            CENOVUS ENERGY  GREAT WEST LIFECO  IMPERIAL OIL  SUN LIFE FINL.  \\\n",
       "Date                                                                          \n",
       "2013-01-02           33.67              24.20         42.44           26.75   \n",
       "2013-01-03           33.48              24.53         42.43           27.01   \n",
       "2013-01-04           33.78              24.78         43.05           27.14   \n",
       "2013-01-07           33.53              24.86         43.19           27.39   \n",
       "2013-01-08           33.52              24.80         43.23           27.55   \n",
       "\n",
       "            WASTE CONNECTIONS  FRANCO-NEVADA  LOBLAW  NATIONAL BANK OF CANADA  \\\n",
       "Date                                                                            \n",
       "2013-01-02              30.07          57.40   33.74                    38.69   \n",
       "2013-01-03              30.14          55.73   33.45                    38.66   \n",
       "2013-01-04              29.77          56.00   33.39                    38.76   \n",
       "2013-01-07              29.66          55.45   32.58                    38.63   \n",
       "2013-01-08              29.70          55.95   32.70                    38.65   \n",
       "\n",
       "            FORTIS  \n",
       "Date                \n",
       "2013-01-02   34.43  \n",
       "2013-01-03   34.58  \n",
       "2013-01-04   34.51  \n",
       "2013-01-07   34.52  \n",
       "2013-01-08   34.18  \n",
       "\n",
       "[5 rows x 48 columns]"
      ]
     },
     "execution_count": 14,
     "metadata": {},
     "output_type": "execute_result"
    }
   ],
   "source": [
    "obx_canada = concat_to_obx('Canada')\n",
    "obx_canada.head()"
   ]
  },
  {
   "cell_type": "markdown",
   "id": "collected-cache",
   "metadata": {},
   "source": [
    "### USA"
   ]
  },
  {
   "cell_type": "code",
   "execution_count": 15,
   "id": "taken-consciousness",
   "metadata": {},
   "outputs": [
    {
     "data": {
      "text/html": [
       "<div>\n",
       "<style scoped>\n",
       "    .dataframe tbody tr th:only-of-type {\n",
       "        vertical-align: middle;\n",
       "    }\n",
       "\n",
       "    .dataframe tbody tr th {\n",
       "        vertical-align: top;\n",
       "    }\n",
       "\n",
       "    .dataframe thead th {\n",
       "        text-align: right;\n",
       "    }\n",
       "</style>\n",
       "<table border=\"1\" class=\"dataframe\">\n",
       "  <thead>\n",
       "    <tr style=\"text-align: right;\">\n",
       "      <th></th>\n",
       "      <th>AKER</th>\n",
       "      <th>AKRBP</th>\n",
       "      <th>BAKKA</th>\n",
       "      <th>EQNR</th>\n",
       "      <th>FRO</th>\n",
       "      <th>GJF</th>\n",
       "      <th>GOGL</th>\n",
       "      <th>MOWI</th>\n",
       "      <th>NEL</th>\n",
       "      <th>NOD</th>\n",
       "      <th>...</th>\n",
       "      <th>DEERE</th>\n",
       "      <th>CATERPILLAR</th>\n",
       "      <th>GENERAL ELECTRIC</th>\n",
       "      <th>TARGET</th>\n",
       "      <th>LOCKHEED MARTIN</th>\n",
       "      <th>FORD MOTOR</th>\n",
       "      <th>CHARTER COMMS.CL.A</th>\n",
       "      <th>ANTHEM</th>\n",
       "      <th>3M</th>\n",
       "      <th>SERVICENOW</th>\n",
       "    </tr>\n",
       "    <tr>\n",
       "      <th>Date</th>\n",
       "      <th></th>\n",
       "      <th></th>\n",
       "      <th></th>\n",
       "      <th></th>\n",
       "      <th></th>\n",
       "      <th></th>\n",
       "      <th></th>\n",
       "      <th></th>\n",
       "      <th></th>\n",
       "      <th></th>\n",
       "      <th></th>\n",
       "      <th></th>\n",
       "      <th></th>\n",
       "      <th></th>\n",
       "      <th></th>\n",
       "      <th></th>\n",
       "      <th></th>\n",
       "      <th></th>\n",
       "      <th></th>\n",
       "      <th></th>\n",
       "      <th></th>\n",
       "    </tr>\n",
       "  </thead>\n",
       "  <tbody>\n",
       "    <tr>\n",
       "      <th>2013-01-02</th>\n",
       "      <td>124.708305</td>\n",
       "      <td>61.480129</td>\n",
       "      <td>47.115044</td>\n",
       "      <td>93.815178</td>\n",
       "      <td>90.541641</td>\n",
       "      <td>46.678467</td>\n",
       "      <td>95.666061</td>\n",
       "      <td>34.952297</td>\n",
       "      <td>3.108494</td>\n",
       "      <td>20.936569</td>\n",
       "      <td>...</td>\n",
       "      <td>87.99</td>\n",
       "      <td>93.50</td>\n",
       "      <td>164.1046</td>\n",
       "      <td>58.82</td>\n",
       "      <td>93.27</td>\n",
       "      <td>13.20</td>\n",
       "      <td>86.3746</td>\n",
       "      <td>60.92</td>\n",
       "      <td>94.78</td>\n",
       "      <td>30.20</td>\n",
       "    </tr>\n",
       "    <tr>\n",
       "      <th>2013-01-03</th>\n",
       "      <td>125.849785</td>\n",
       "      <td>61.695229</td>\n",
       "      <td>46.145603</td>\n",
       "      <td>93.749046</td>\n",
       "      <td>92.936935</td>\n",
       "      <td>46.678467</td>\n",
       "      <td>95.019676</td>\n",
       "      <td>34.783604</td>\n",
       "      <td>3.077777</td>\n",
       "      <td>21.059639</td>\n",
       "      <td>...</td>\n",
       "      <td>87.77</td>\n",
       "      <td>94.40</td>\n",
       "      <td>162.2589</td>\n",
       "      <td>60.16</td>\n",
       "      <td>93.55</td>\n",
       "      <td>13.46</td>\n",
       "      <td>86.2419</td>\n",
       "      <td>58.93</td>\n",
       "      <td>94.67</td>\n",
       "      <td>29.69</td>\n",
       "    </tr>\n",
       "    <tr>\n",
       "      <th>2013-01-04</th>\n",
       "      <td>125.564415</td>\n",
       "      <td>60.225441</td>\n",
       "      <td>46.339489</td>\n",
       "      <td>94.079605</td>\n",
       "      <td>98.685593</td>\n",
       "      <td>46.337540</td>\n",
       "      <td>104.069168</td>\n",
       "      <td>34.378750</td>\n",
       "      <td>3.053204</td>\n",
       "      <td>20.849697</td>\n",
       "      <td>...</td>\n",
       "      <td>88.67</td>\n",
       "      <td>94.92</td>\n",
       "      <td>163.0279</td>\n",
       "      <td>60.58</td>\n",
       "      <td>93.90</td>\n",
       "      <td>13.57</td>\n",
       "      <td>85.8217</td>\n",
       "      <td>59.29</td>\n",
       "      <td>95.37</td>\n",
       "      <td>29.02</td>\n",
       "    </tr>\n",
       "    <tr>\n",
       "      <th>2013-01-07</th>\n",
       "      <td>125.564415</td>\n",
       "      <td>60.225441</td>\n",
       "      <td>45.370041</td>\n",
       "      <td>93.286247</td>\n",
       "      <td>95.332214</td>\n",
       "      <td>46.110260</td>\n",
       "      <td>108.593941</td>\n",
       "      <td>33.872692</td>\n",
       "      <td>3.108494</td>\n",
       "      <td>20.668709</td>\n",
       "      <td>...</td>\n",
       "      <td>88.60</td>\n",
       "      <td>95.21</td>\n",
       "      <td>162.4896</td>\n",
       "      <td>61.30</td>\n",
       "      <td>94.22</td>\n",
       "      <td>13.43</td>\n",
       "      <td>85.6005</td>\n",
       "      <td>59.74</td>\n",
       "      <td>95.49</td>\n",
       "      <td>27.36</td>\n",
       "    </tr>\n",
       "    <tr>\n",
       "      <th>2013-01-08</th>\n",
       "      <td>125.564415</td>\n",
       "      <td>60.404682</td>\n",
       "      <td>44.982269</td>\n",
       "      <td>93.220169</td>\n",
       "      <td>94.853149</td>\n",
       "      <td>46.536419</td>\n",
       "      <td>110.964020</td>\n",
       "      <td>33.973896</td>\n",
       "      <td>3.219072</td>\n",
       "      <td>20.603554</td>\n",
       "      <td>...</td>\n",
       "      <td>87.68</td>\n",
       "      <td>94.00</td>\n",
       "      <td>160.7209</td>\n",
       "      <td>60.64</td>\n",
       "      <td>92.96</td>\n",
       "      <td>13.35</td>\n",
       "      <td>85.3793</td>\n",
       "      <td>60.07</td>\n",
       "      <td>95.50</td>\n",
       "      <td>26.20</td>\n",
       "    </tr>\n",
       "  </tbody>\n",
       "</table>\n",
       "<p>5 rows × 106 columns</p>\n",
       "</div>"
      ],
      "text/plain": [
       "                  AKER      AKRBP      BAKKA       EQNR        FRO        GJF  \\\n",
       "Date                                                                            \n",
       "2013-01-02  124.708305  61.480129  47.115044  93.815178  90.541641  46.678467   \n",
       "2013-01-03  125.849785  61.695229  46.145603  93.749046  92.936935  46.678467   \n",
       "2013-01-04  125.564415  60.225441  46.339489  94.079605  98.685593  46.337540   \n",
       "2013-01-07  125.564415  60.225441  45.370041  93.286247  95.332214  46.110260   \n",
       "2013-01-08  125.564415  60.404682  44.982269  93.220169  94.853149  46.536419   \n",
       "\n",
       "                  GOGL       MOWI       NEL        NOD  ...  DEERE  \\\n",
       "Date                                                    ...          \n",
       "2013-01-02   95.666061  34.952297  3.108494  20.936569  ...  87.99   \n",
       "2013-01-03   95.019676  34.783604  3.077777  21.059639  ...  87.77   \n",
       "2013-01-04  104.069168  34.378750  3.053204  20.849697  ...  88.67   \n",
       "2013-01-07  108.593941  33.872692  3.108494  20.668709  ...  88.60   \n",
       "2013-01-08  110.964020  33.973896  3.219072  20.603554  ...  87.68   \n",
       "\n",
       "            CATERPILLAR  GENERAL ELECTRIC  TARGET  LOCKHEED MARTIN  \\\n",
       "Date                                                                 \n",
       "2013-01-02        93.50          164.1046   58.82            93.27   \n",
       "2013-01-03        94.40          162.2589   60.16            93.55   \n",
       "2013-01-04        94.92          163.0279   60.58            93.90   \n",
       "2013-01-07        95.21          162.4896   61.30            94.22   \n",
       "2013-01-08        94.00          160.7209   60.64            92.96   \n",
       "\n",
       "            FORD MOTOR  CHARTER COMMS.CL.A  ANTHEM     3M  SERVICENOW  \n",
       "Date                                                                   \n",
       "2013-01-02       13.20             86.3746   60.92  94.78       30.20  \n",
       "2013-01-03       13.46             86.2419   58.93  94.67       29.69  \n",
       "2013-01-04       13.57             85.8217   59.29  95.37       29.02  \n",
       "2013-01-07       13.43             85.6005   59.74  95.49       27.36  \n",
       "2013-01-08       13.35             85.3793   60.07  95.50       26.20  \n",
       "\n",
       "[5 rows x 106 columns]"
      ]
     },
     "execution_count": 15,
     "metadata": {},
     "output_type": "execute_result"
    }
   ],
   "source": [
    "obx_USA = concat_to_obx('USA')\n",
    "obx_USA.head()"
   ]
  },
  {
   "cell_type": "markdown",
   "id": "insured-april",
   "metadata": {},
   "source": [
    "### France"
   ]
  },
  {
   "cell_type": "code",
   "execution_count": 16,
   "id": "alert-orlando",
   "metadata": {},
   "outputs": [
    {
     "data": {
      "text/html": [
       "<div>\n",
       "<style scoped>\n",
       "    .dataframe tbody tr th:only-of-type {\n",
       "        vertical-align: middle;\n",
       "    }\n",
       "\n",
       "    .dataframe tbody tr th {\n",
       "        vertical-align: top;\n",
       "    }\n",
       "\n",
       "    .dataframe thead th {\n",
       "        text-align: right;\n",
       "    }\n",
       "</style>\n",
       "<table border=\"1\" class=\"dataframe\">\n",
       "  <thead>\n",
       "    <tr style=\"text-align: right;\">\n",
       "      <th></th>\n",
       "      <th>AKER</th>\n",
       "      <th>AKRBP</th>\n",
       "      <th>BAKKA</th>\n",
       "      <th>EQNR</th>\n",
       "      <th>FRO</th>\n",
       "      <th>GJF</th>\n",
       "      <th>GOGL</th>\n",
       "      <th>MOWI</th>\n",
       "      <th>NEL</th>\n",
       "      <th>NOD</th>\n",
       "      <th>...</th>\n",
       "      <th>STMICROELECTRONICS</th>\n",
       "      <th>CAPGEMINI</th>\n",
       "      <th>EDF</th>\n",
       "      <th>ENGIE</th>\n",
       "      <th>ORANGE</th>\n",
       "      <th>SAINT GOBAIN</th>\n",
       "      <th>SARTORIUS STEDIM BIOTECH</th>\n",
       "      <th>CARREFOUR</th>\n",
       "      <th>CMPG.DES ETS.MICH.</th>\n",
       "      <th>LEGRAND</th>\n",
       "    </tr>\n",
       "    <tr>\n",
       "      <th>Date</th>\n",
       "      <th></th>\n",
       "      <th></th>\n",
       "      <th></th>\n",
       "      <th></th>\n",
       "      <th></th>\n",
       "      <th></th>\n",
       "      <th></th>\n",
       "      <th></th>\n",
       "      <th></th>\n",
       "      <th></th>\n",
       "      <th></th>\n",
       "      <th></th>\n",
       "      <th></th>\n",
       "      <th></th>\n",
       "      <th></th>\n",
       "      <th></th>\n",
       "      <th></th>\n",
       "      <th></th>\n",
       "      <th></th>\n",
       "      <th></th>\n",
       "      <th></th>\n",
       "    </tr>\n",
       "  </thead>\n",
       "  <tbody>\n",
       "    <tr>\n",
       "      <th>2013-01-02</th>\n",
       "      <td>124.708305</td>\n",
       "      <td>61.480129</td>\n",
       "      <td>47.115044</td>\n",
       "      <td>93.815178</td>\n",
       "      <td>90.541641</td>\n",
       "      <td>46.678467</td>\n",
       "      <td>95.666061</td>\n",
       "      <td>34.952297</td>\n",
       "      <td>3.108494</td>\n",
       "      <td>20.936569</td>\n",
       "      <td>...</td>\n",
       "      <td>5.588</td>\n",
       "      <td>33.710</td>\n",
       "      <td>13.1854</td>\n",
       "      <td>15.815</td>\n",
       "      <td>8.506</td>\n",
       "      <td>33.500</td>\n",
       "      <td>12.5702</td>\n",
       "      <td>19.995</td>\n",
       "      <td>73.60</td>\n",
       "      <td>32.480</td>\n",
       "    </tr>\n",
       "    <tr>\n",
       "      <th>2013-01-03</th>\n",
       "      <td>125.849785</td>\n",
       "      <td>61.695229</td>\n",
       "      <td>46.145603</td>\n",
       "      <td>93.749046</td>\n",
       "      <td>92.936935</td>\n",
       "      <td>46.678467</td>\n",
       "      <td>95.019676</td>\n",
       "      <td>34.783604</td>\n",
       "      <td>3.077777</td>\n",
       "      <td>21.059639</td>\n",
       "      <td>...</td>\n",
       "      <td>5.660</td>\n",
       "      <td>33.280</td>\n",
       "      <td>13.1529</td>\n",
       "      <td>15.940</td>\n",
       "      <td>8.467</td>\n",
       "      <td>33.305</td>\n",
       "      <td>12.5586</td>\n",
       "      <td>20.150</td>\n",
       "      <td>73.62</td>\n",
       "      <td>32.715</td>\n",
       "    </tr>\n",
       "    <tr>\n",
       "      <th>2013-01-04</th>\n",
       "      <td>125.564415</td>\n",
       "      <td>60.225441</td>\n",
       "      <td>46.339489</td>\n",
       "      <td>94.079605</td>\n",
       "      <td>98.685593</td>\n",
       "      <td>46.337540</td>\n",
       "      <td>104.069168</td>\n",
       "      <td>34.378750</td>\n",
       "      <td>3.053204</td>\n",
       "      <td>20.849697</td>\n",
       "      <td>...</td>\n",
       "      <td>5.579</td>\n",
       "      <td>32.945</td>\n",
       "      <td>13.3847</td>\n",
       "      <td>15.995</td>\n",
       "      <td>8.507</td>\n",
       "      <td>33.405</td>\n",
       "      <td>12.6569</td>\n",
       "      <td>20.530</td>\n",
       "      <td>73.89</td>\n",
       "      <td>33.095</td>\n",
       "    </tr>\n",
       "    <tr>\n",
       "      <th>2013-01-07</th>\n",
       "      <td>125.564415</td>\n",
       "      <td>60.225441</td>\n",
       "      <td>45.370041</td>\n",
       "      <td>93.286247</td>\n",
       "      <td>95.332214</td>\n",
       "      <td>46.110260</td>\n",
       "      <td>108.593941</td>\n",
       "      <td>33.872692</td>\n",
       "      <td>3.108494</td>\n",
       "      <td>20.668709</td>\n",
       "      <td>...</td>\n",
       "      <td>5.715</td>\n",
       "      <td>33.475</td>\n",
       "      <td>13.0416</td>\n",
       "      <td>15.690</td>\n",
       "      <td>8.415</td>\n",
       "      <td>33.075</td>\n",
       "      <td>13.0436</td>\n",
       "      <td>20.145</td>\n",
       "      <td>72.90</td>\n",
       "      <td>32.770</td>\n",
       "    </tr>\n",
       "    <tr>\n",
       "      <th>2013-01-08</th>\n",
       "      <td>125.564415</td>\n",
       "      <td>60.404682</td>\n",
       "      <td>44.982269</td>\n",
       "      <td>93.220169</td>\n",
       "      <td>94.853149</td>\n",
       "      <td>46.536419</td>\n",
       "      <td>110.964020</td>\n",
       "      <td>33.973896</td>\n",
       "      <td>3.219072</td>\n",
       "      <td>20.603554</td>\n",
       "      <td>...</td>\n",
       "      <td>5.850</td>\n",
       "      <td>33.030</td>\n",
       "      <td>13.1019</td>\n",
       "      <td>15.820</td>\n",
       "      <td>8.390</td>\n",
       "      <td>32.155</td>\n",
       "      <td>13.4136</td>\n",
       "      <td>20.100</td>\n",
       "      <td>72.00</td>\n",
       "      <td>32.595</td>\n",
       "    </tr>\n",
       "  </tbody>\n",
       "</table>\n",
       "<p>5 rows × 50 columns</p>\n",
       "</div>"
      ],
      "text/plain": [
       "                  AKER      AKRBP      BAKKA       EQNR        FRO        GJF  \\\n",
       "Date                                                                            \n",
       "2013-01-02  124.708305  61.480129  47.115044  93.815178  90.541641  46.678467   \n",
       "2013-01-03  125.849785  61.695229  46.145603  93.749046  92.936935  46.678467   \n",
       "2013-01-04  125.564415  60.225441  46.339489  94.079605  98.685593  46.337540   \n",
       "2013-01-07  125.564415  60.225441  45.370041  93.286247  95.332214  46.110260   \n",
       "2013-01-08  125.564415  60.404682  44.982269  93.220169  94.853149  46.536419   \n",
       "\n",
       "                  GOGL       MOWI       NEL        NOD  ...  \\\n",
       "Date                                                    ...   \n",
       "2013-01-02   95.666061  34.952297  3.108494  20.936569  ...   \n",
       "2013-01-03   95.019676  34.783604  3.077777  21.059639  ...   \n",
       "2013-01-04  104.069168  34.378750  3.053204  20.849697  ...   \n",
       "2013-01-07  108.593941  33.872692  3.108494  20.668709  ...   \n",
       "2013-01-08  110.964020  33.973896  3.219072  20.603554  ...   \n",
       "\n",
       "            STMICROELECTRONICS  CAPGEMINI      EDF   ENGIE  ORANGE  \\\n",
       "Date                                                                 \n",
       "2013-01-02               5.588     33.710  13.1854  15.815   8.506   \n",
       "2013-01-03               5.660     33.280  13.1529  15.940   8.467   \n",
       "2013-01-04               5.579     32.945  13.3847  15.995   8.507   \n",
       "2013-01-07               5.715     33.475  13.0416  15.690   8.415   \n",
       "2013-01-08               5.850     33.030  13.1019  15.820   8.390   \n",
       "\n",
       "            SAINT GOBAIN  SARTORIUS STEDIM BIOTECH  CARREFOUR  \\\n",
       "Date                                                            \n",
       "2013-01-02        33.500                   12.5702     19.995   \n",
       "2013-01-03        33.305                   12.5586     20.150   \n",
       "2013-01-04        33.405                   12.6569     20.530   \n",
       "2013-01-07        33.075                   13.0436     20.145   \n",
       "2013-01-08        32.155                   13.4136     20.100   \n",
       "\n",
       "            CMPG.DES ETS.MICH.  LEGRAND  \n",
       "Date                                     \n",
       "2013-01-02               73.60   32.480  \n",
       "2013-01-03               73.62   32.715  \n",
       "2013-01-04               73.89   33.095  \n",
       "2013-01-07               72.90   32.770  \n",
       "2013-01-08               72.00   32.595  \n",
       "\n",
       "[5 rows x 50 columns]"
      ]
     },
     "execution_count": 16,
     "metadata": {},
     "output_type": "execute_result"
    }
   ],
   "source": [
    "obx_france = concat_to_obx('France')\n",
    "obx_france.head()"
   ]
  },
  {
   "cell_type": "markdown",
   "id": "moral-shopping",
   "metadata": {},
   "source": [
    "### Reindexing currencies"
   ]
  },
  {
   "cell_type": "code",
   "execution_count": 17,
   "id": "inside-measure",
   "metadata": {},
   "outputs": [
    {
     "data": {
      "text/plain": [
       "Index(['A$', 'BDT', 'BGN', 'BRL', 'BYN', 'C$', 'CHF', 'CNY', 'CZK', 'DK', 'E',\n",
       "       '£', 'HKD', 'HRK', 'HUF', 'I44', 'IDR', 'ILS', 'INR', 'ISK', 'Y', 'KRW',\n",
       "       'MMK', 'MXN', 'MYR', 'NZD', 'PHP', 'PKR', 'PLN', 'RON', 'UR', 'SK',\n",
       "       'SGD', 'THB', 'TRY', 'TWD', 'TWI', 'U$', 'VND', 'XDR', 'ZAR'],\n",
       "      dtype='object')"
      ]
     },
     "execution_count": 17,
     "metadata": {},
     "output_type": "execute_result"
    }
   ],
   "source": [
    "df_forex.columns"
   ]
  },
  {
   "cell_type": "code",
   "execution_count": 18,
   "id": "ethical-pasta",
   "metadata": {},
   "outputs": [
    {
     "data": {
      "text/plain": [
       "2260"
      ]
     },
     "execution_count": 18,
     "metadata": {},
     "output_type": "execute_result"
    }
   ],
   "source": [
    "df_forex = df_forex.reindex(df_obx.index, axis='index')\n",
    "df_forex.fillna(method = 'ffill')\n",
    "df_forex.shape[0]"
   ]
  },
  {
   "cell_type": "code",
   "execution_count": 19,
   "id": "interesting-memphis",
   "metadata": {},
   "outputs": [],
   "source": [
    "def curr_mapping_country(countries: list, skiprows:int = 3) -> dict:\n",
    "    \n",
    "    curr = {}\n",
    "    \n",
    "    for c in countries:\n",
    "        \n",
    "        try:\n",
    "            data = pd.read_excel('data.xlsx',\n",
    "                               sheet_name=c,\n",
    "                               skiprows=skiprows,\n",
    "                               index_col='Name')\n",
    "        except:\n",
    "            print(\"An error occured when reading the file\")\n",
    "            \n",
    "        curr[c] = data.iloc[0,0]\n",
    "        \n",
    "    return curr\n"
   ]
  },
  {
   "cell_type": "code",
   "execution_count": 20,
   "id": "complimentary-basin",
   "metadata": {},
   "outputs": [
    {
     "data": {
      "text/plain": [
       "{'France': 'E',\n",
       " 'USA': 'U$',\n",
       " 'UK': '£',\n",
       " 'Germany': 'E',\n",
       " 'Spain': 'E',\n",
       " 'Italy': 'E',\n",
       " 'Canada': 'C$',\n",
       " 'Australia': 'A$',\n",
       " 'Hong Kong': 'K$',\n",
       " 'Japan': 'Y',\n",
       " 'Swiss': 'SF',\n",
       " 'Russia': 'UR',\n",
       " 'Sweden': 'SK',\n",
       " 'Denmark': 'DK',\n",
       " 'Finland': 'SK'}"
      ]
     },
     "execution_count": 20,
     "metadata": {},
     "output_type": "execute_result"
    }
   ],
   "source": [
    "curr_mapping = curr_mapping_country(indices, 3)\n",
    "curr_mapping"
   ]
  },
  {
   "cell_type": "markdown",
   "id": "double-telephone",
   "metadata": {},
   "source": [
    "## Exploring Pairs"
   ]
  },
  {
   "cell_type": "code",
   "execution_count": 21,
   "id": "commercial-perry",
   "metadata": {},
   "outputs": [
    {
     "name": "stdout",
     "output_type": "stream",
     "text": [
      "currency used: SK\n"
     ]
    },
    {
     "data": {
      "text/plain": [
       "(2259, 42)"
      ]
     },
     "execution_count": 21,
     "metadata": {},
     "output_type": "execute_result"
    }
   ],
   "source": [
    "### Concatenating and getting the currency right\n",
    "### All timeseries are converted to NOK\n",
    "\n",
    "COUNTRY = 'Sweden'\n",
    "\n",
    "curr = curr_mapping[COUNTRY]   # currency symbol\n",
    "forex = df_forex[curr]     # currency time series\n",
    "print(f'currency used: {curr}')\n",
    "\n",
    "df_foreign = all[COUNTRY]\n",
    "df_foreign.apply(lambda x : x * forex, axis=0)  # Converting to NOK\n",
    "\n",
    "returns = pd.concat([df_obx, df_foreign], axis=1).pct_change()[1:]\n",
    "returns.shape"
   ]
  },
  {
   "cell_type": "markdown",
   "id": "absolute-mobility",
   "metadata": {},
   "source": [
    "### PCA"
   ]
  },
  {
   "cell_type": "code",
   "execution_count": 22,
   "id": "handled-lebanon",
   "metadata": {},
   "outputs": [
    {
     "data": {
      "text/plain": [
       "PCA(n_components=15)"
      ]
     },
     "execution_count": 22,
     "metadata": {},
     "output_type": "execute_result"
    }
   ],
   "source": [
    "N_PRIN_COMPONENTS = 15\n",
    "pca = PCA(n_components=N_PRIN_COMPONENTS)\n",
    "pca.fit(returns)"
   ]
  },
  {
   "cell_type": "markdown",
   "id": "binary-advocacy",
   "metadata": {},
   "source": [
    "### Scaling"
   ]
  },
  {
   "cell_type": "code",
   "execution_count": 23,
   "id": "narrow-queue",
   "metadata": {},
   "outputs": [],
   "source": [
    "X = pca.components_.T\n",
    "X = preprocessing.StandardScaler().fit_transform(X)"
   ]
  },
  {
   "cell_type": "markdown",
   "id": "collaborative-underwear",
   "metadata": {},
   "source": [
    "### DBSCAN"
   ]
  },
  {
   "cell_type": "markdown",
   "id": "acceptable-heavy",
   "metadata": {},
   "source": [
    "#### Instantiating DBSCAN"
   ]
  },
  {
   "cell_type": "code",
   "execution_count": 24,
   "id": "portable-ordering",
   "metadata": {},
   "outputs": [
    {
     "name": "stdout",
     "output_type": "stream",
     "text": [
      "\n",
      "Clusters discovered: 4\n"
     ]
    }
   ],
   "source": [
    "clf = DBSCAN(eps=1.2, min_samples=2)\n",
    "clf.fit(X)\n",
    "\n",
    "labels_dbscan = clf.labels_\n",
    "\n",
    "n_clusters_ = len(set(labels_dbscan)) - (1 if -1 in labels_dbscan else 0)\n",
    "print (\"\\nClusters discovered: %d\" % n_clusters_)\n"
   ]
  },
  {
   "cell_type": "code",
   "execution_count": 25,
   "id": "looking-present",
   "metadata": {},
   "outputs": [
    {
     "data": {
      "text/plain": [
       "-1    22\n",
       " 2    11\n",
       " 0     3\n",
       " 1     3\n",
       " 3     3\n",
       "dtype: int64"
      ]
     },
     "execution_count": 25,
     "metadata": {},
     "output_type": "execute_result"
    }
   ],
   "source": [
    "### Labels DBSCAN\n",
    "pd.Series(labels_dbscan).value_counts()"
   ]
  },
  {
   "cell_type": "markdown",
   "id": "considered-patch",
   "metadata": {},
   "source": [
    "### Instantiating OPTICS\n",
    "#### Instantiating OPTICS"
   ]
  },
  {
   "cell_type": "code",
   "execution_count": 26,
   "id": "known-checklist",
   "metadata": {},
   "outputs": [],
   "source": [
    "from sklearn.cluster import OPTICS\n",
    "\n",
    "\n",
    "\n",
    "MIN_SAMPLE = 2                   # DEFAULT: 5\n",
    "XI = 0.05                        # DEFAULT: \n",
    "MIN_CLUSTER_SIZE = None          # DEFAULT: None \n",
    "P = 2                            # DEFAULT: 2\n",
    "METRIC = 'minowski'              # DEFAULT: 'minowski'\n",
    " \n",
    "clust = OPTICS(min_samples      = MIN_SAMPLE,\n",
    "               xi               = XI,\n",
    "               min_cluster_size = MIN_CLUSTER_SIZE,\n",
    "               p                = P\n",
    "              )\n",
    "clust.fit(X)\n",
    "\n",
    "reachability = clust.reachability_[clust.ordering_]\n",
    "labels_optics = clust.labels_[clust.ordering_]\n"
   ]
  },
  {
   "cell_type": "code",
   "execution_count": 49,
   "id": "peripheral-scholar",
   "metadata": {},
   "outputs": [
    {
     "data": {
      "text/plain": [
       "array([       inf, 2.40587624, 3.16742599, 2.24614143, 1.20643857,\n",
       "       0.92796696, 1.06300355, 1.22560779, 1.19770394, 0.65294324,\n",
       "       0.78120736, 0.73035854, 0.99040823, 1.11474073, 1.18320517,\n",
       "       0.82171036, 0.77625389, 0.95176543, 1.34721424, 2.0668229 ,\n",
       "       2.11663582, 0.34834616, 0.7043417 , 2.18408572, 2.49658128,\n",
       "       2.60759314, 2.72082888, 0.9890325 , 0.90719918, 2.91759503,\n",
       "       3.00932583, 3.2019138 , 3.83729608, 4.18105512, 5.19143078,\n",
       "       5.75996984, 6.1320921 , 6.42143426, 6.66349983, 6.80983302,\n",
       "       7.3423236 , 7.70168087])"
      ]
     },
     "execution_count": 49,
     "metadata": {},
     "output_type": "execute_result"
    },
    {
     "data": {
      "image/png": "[encoded data removed]",
      "text/plain": [
       "<Figure size 432x288 with 1 Axes>"
      ]
     },
     "metadata": {
      "needs_background": "light"
     },
     "output_type": "display_data"
    }
   ],
   "source": [
    "plt.plot(reachability)\n",
    "reachability"
   ]
  },
  {
   "cell_type": "code",
   "execution_count": 27,
   "id": "federal-manual",
   "metadata": {},
   "outputs": [
    {
     "data": {
      "text/plain": [
       "-1    22\n",
       " 1     4\n",
       " 4     4\n",
       " 5     3\n",
       " 6     3\n",
       " 0     2\n",
       " 2     2\n",
       " 3     2\n",
       "dtype: int64"
      ]
     },
     "execution_count": 27,
     "metadata": {},
     "output_type": "execute_result"
    }
   ],
   "source": [
    "### Labels OPTICS\n",
    "pd.Series(labels_optics).value_counts()"
   ]
  },
  {
   "cell_type": "markdown",
   "id": "urban-america",
   "metadata": {},
   "source": [
    "### Making series"
   ]
  },
  {
   "cell_type": "code",
   "execution_count": 36,
   "id": "solid-reminder",
   "metadata": {},
   "outputs": [],
   "source": [
    "### Setting the labels -> DBASCAN / OPTICS\n",
    "if CLUSTERING_MODEL == 'DBSCAN':\n",
    "    labels = labels_dbscan\n",
    "else:\n",
    "    labels = labels_optics"
   ]
  },
  {
   "cell_type": "code",
   "execution_count": 37,
   "id": "difficult-watershed",
   "metadata": {},
   "outputs": [
    {
     "name": "stdout",
     "output_type": "stream",
     "text": [
      "Clusters formed:     7\n",
      "Pairs to evaluate:  55\n"
     ]
    }
   ],
   "source": [
    "label_series_all = pd.Series(index = returns.columns,\n",
    "                         data = labels.flatten())\n",
    "label_series = label_series_all[label_series_all != -1]\n",
    "\n",
    "counts = label_series.value_counts()\n",
    "counts_above_1 = counts[counts>1]\n",
    "\n",
    "print(f\"Clusters formed: {len(counts): >5}\")\n",
    "print(f\"Pairs to evaluate: {(counts_above_1 * (counts_above_1) - 1).sum(): >3}\")"
   ]
  },
  {
   "cell_type": "code",
   "execution_count": 38,
   "id": "second-separate",
   "metadata": {},
   "outputs": [],
   "source": [
    "counts[counts>1];"
   ]
  },
  {
   "cell_type": "markdown",
   "id": "fundamental-productivity",
   "metadata": {},
   "source": [
    "### Plotting, T-SNE"
   ]
  },
  {
   "cell_type": "code",
   "execution_count": 39,
   "id": "aboriginal-rogers",
   "metadata": {},
   "outputs": [
    {
     "data": {
      "text/plain": [
       "AKER                               0\n",
       "AKRBP                              0\n",
       "EQNR                               1\n",
       "FRO                                1\n",
       "GJF                                1\n",
       "GOGL                               1\n",
       "NEL                                2\n",
       "NOD                                2\n",
       "NHY                                3\n",
       "ORK                                3\n",
       "SCHA                               4\n",
       "STB                                4\n",
       "SUBC                               4\n",
       "TEL                                4\n",
       "ATLAS COPCO A                      5\n",
       "ERICSSON B                         5\n",
       "VOLVO B                            5\n",
       "SANDVIK                            6\n",
       "ASSA ABLOY B                       6\n",
       "SKANDINAVISKA ENSKILDA BANKEN A    6\n",
       "dtype: int32"
      ]
     },
     "execution_count": 39,
     "metadata": {},
     "output_type": "execute_result"
    }
   ],
   "source": [
    "label_series"
   ]
  },
  {
   "cell_type": "markdown",
   "id": "deluxe-thumbnail",
   "metadata": {},
   "source": [
    "#### matplotlib"
   ]
  },
  {
   "cell_type": "code",
   "execution_count": 40,
   "id": "handmade-ghana",
   "metadata": {},
   "outputs": [
    {
     "data": {
      "text/plain": [
       "(42, 2)"
      ]
     },
     "execution_count": 40,
     "metadata": {},
     "output_type": "execute_result"
    }
   ],
   "source": [
    "### Transforming data\n",
    "\n",
    "tsne = TSNE(learning_rate=10, perplexity=25, random_state=123)\n",
    "X_tsne = tsne.fit_transform(X)\n",
    "tsne.get_params()\n",
    "tsne.embedding_\n",
    "X_tsne.shape"
   ]
  },
  {
   "cell_type": "code",
   "execution_count": 58,
   "id": "destroyed-desktop",
   "metadata": {},
   "outputs": [
    {
     "data": {
      "text/plain": [
       "Text(0.5, 1.0, 'Rechability plot')"
      ]
     },
     "execution_count": 58,
     "metadata": {},
     "output_type": "execute_result"
    },
    {
     "data": {
      "image/png": "[encoded data removed]",
      "text/plain": [
       "<Figure size 432x288 with 1 Axes>"
      ]
     },
     "metadata": {
      "needs_background": "light"
     },
     "output_type": "display_data"
    }
   ],
   "source": [
    "fig, ax1 = plt.subplots()\n",
    "\n",
    "space = np.arange(len(X))\n",
    "\n",
    "# looping through all the clusters\n",
    "for klass in range(len(counts)):\n",
    "    Xk = space[labels == klass]\n",
    "    Rk = reachability[labels == klass]\n",
    "    ax1.plot(Xk, Rk, alpha=0.3)\n",
    "    \n",
    "# ax1.plot(space[labels == -1], reachability[labels == -1], 'k.', alpha=0.3) # labels = -1 --> not beeing a part of any cluster\n",
    "ax1.plot(space, np.full_like(space, 2.0, dtype=float), 'k-', alpha=0.5)    #hline1\n",
    "ax1.plot(space, np.full_like(space, 0.5, dtype=float), 'k-.', alpha=0.5)   #hline2\n",
    "ax1.set_ylabel('Reachability (epsilon distance)')\n",
    "ax1.set_title('Rechability plot')"
   ]
  },
  {
   "cell_type": "code",
   "execution_count": 85,
   "id": "comparable-grocery",
   "metadata": {},
   "outputs": [
    {
     "data": {
      "application/vnd.plotly.v1+json": {
       "config": {
        "plotlyServerURL": "https://plot.ly"
       },
       "data": [
        {
         "mode": "markers",
         "name": "0",
         "type": "scatter",
         "x": [
          0,
          1
         ],
         "y": [
          null,
          2.405876237743426
         ]
        },
        {
         "mode": "markers",
         "name": "1",
         "type": "scatter",
         "x": [
          3,
          4,
          5,
          6
         ],
         "y": [
          2.2461414331635687,
          1.206438572509856,
          0.9279669562643937,
          1.0630035501265864
         ]
        },
        {
         "mode": "markers",
         "name": "2",
         "type": "scatter",
         "x": [
          8,
          9
         ],
         "y": [
          1.1977039411042625,
          0.6529432410708069
         ]
        },
        {
         "mode": "markers",
         "name": "3",
         "type": "scatter",
         "x": [
          10,
          11
         ],
         "y": [
          0.7812073616680514,
          0.73035854150953
         ]
        },
        {
         "mode": "markers",
         "name": "4",
         "type": "scatter",
         "x": [
          14,
          15,
          16,
          17
         ],
         "y": [
          1.1832051654146265,
          0.82171036357643,
          0.7762538906503486,
          0.9517654333031027
         ]
        },
        {
         "mode": "markers",
         "name": "5",
         "type": "scatter",
         "x": [
          20,
          21,
          22
         ],
         "y": [
          2.116635819453137,
          0.34834616477994196,
          0.704341696404644
         ]
        },
        {
         "mode": "markers",
         "name": "6",
         "type": "scatter",
         "x": [
          26,
          27,
          28
         ],
         "y": [
          2.720828882629416,
          0.9890324974037468,
          0.9071991825307865
         ]
        }
       ],
       "layout": {
        "height": 400,
        "legend": {
         "title": {
          "text": " Possible clusters:"
         }
        },
        "shapes": [
         {
          "line": {
           "color": "black",
           "dash": "dashdot",
           "width": 1
          },
          "type": "line",
          "x0": 0,
          "x1": 1,
          "xref": "x domain",
          "y0": 0.5,
          "y1": 0.5,
          "yref": "y"
         },
         {
          "line": {
           "color": "black",
           "dash": "dash",
           "width": 1
          },
          "type": "line",
          "x0": 0,
          "x1": 1,
          "xref": "x domain",
          "y0": 2,
          "y1": 2,
          "yref": "y"
         }
        ],
        "template": {
         "data": {
          "bar": [
           {
            "error_x": {
             "color": "#2a3f5f"
            },
            "error_y": {
             "color": "#2a3f5f"
            },
            "marker": {
             "line": {
              "color": "#E5ECF6",
              "width": 0.5
             },
             "pattern": {
              "fillmode": "overlay",
              "size": 10,
              "solidity": 0.2
             }
            },
            "type": "bar"
           }
          ],
          "barpolar": [
           {
            "marker": {
             "line": {
              "color": "#E5ECF6",
              "width": 0.5
             },
             "pattern": {
              "fillmode": "overlay",
              "size": 10,
              "solidity": 0.2
             }
            },
            "type": "barpolar"
           }
          ],
          "carpet": [
           {
            "aaxis": {
             "endlinecolor": "#2a3f5f",
             "gridcolor": "white",
             "linecolor": "white",
             "minorgridcolor": "white",
             "startlinecolor": "#2a3f5f"
            },
            "baxis": {
             "endlinecolor": "#2a3f5f",
             "gridcolor": "white",
             "linecolor": "white",
             "minorgridcolor": "white",
             "startlinecolor": "#2a3f5f"
            },
            "type": "carpet"
           }
          ],
          "choropleth": [
           {
            "colorbar": {
             "outlinewidth": 0,
             "ticks": ""
            },
            "type": "choropleth"
           }
          ],
          "contour": [
           {
            "colorbar": {
             "outlinewidth": 0,
             "ticks": ""
            },
            "colorscale": [
             [
              0,
              "#0d0887"
             ],
             [
              0.1111111111111111,
              "#46039f"
             ],
             [
              0.2222222222222222,
              "#7201a8"
             ],
             [
              0.3333333333333333,
              "#9c179e"
             ],
             [
              0.4444444444444444,
              "#bd3786"
             ],
             [
              0.5555555555555556,
              "#d8576b"
             ],
             [
              0.6666666666666666,
              "#ed7953"
             ],
             [
              0.7777777777777778,
              "#fb9f3a"
             ],
             [
              0.8888888888888888,
              "#fdca26"
             ],
             [
              1,
              "#f0f921"
             ]
            ],
            "type": "contour"
           }
          ],
          "contourcarpet": [
           {
            "colorbar": {
             "outlinewidth": 0,
             "ticks": ""
            },
            "type": "contourcarpet"
           }
          ],
          "heatmap": [
           {
            "colorbar": {
             "outlinewidth": 0,
             "ticks": ""
            },
            "colorscale": [
             [
              0,
              "#0d0887"
             ],
             [
              0.1111111111111111,
              "#46039f"
             ],
             [
              0.2222222222222222,
              "#7201a8"
             ],
             [
              0.3333333333333333,
              "#9c179e"
             ],
             [
              0.4444444444444444,
              "#bd3786"
             ],
             [
              0.5555555555555556,
              "#d8576b"
             ],
             [
              0.6666666666666666,
              "#ed7953"
             ],
             [
              0.7777777777777778,
              "#fb9f3a"
             ],
             [
              0.8888888888888888,
              "#fdca26"
             ],
             [
              1,
              "#f0f921"
             ]
            ],
            "type": "heatmap"
           }
          ],
          "heatmapgl": [
           {
            "colorbar": {
             "outlinewidth": 0,
             "ticks": ""
            },
            "colorscale": [
             [
              0,
              "#0d0887"
             ],
             [
              0.1111111111111111,
              "#46039f"
             ],
             [
              0.2222222222222222,
              "#7201a8"
             ],
             [
              0.3333333333333333,
              "#9c179e"
             ],
             [
              0.4444444444444444,
              "#bd3786"
             ],
             [
              0.5555555555555556,
              "#d8576b"
             ],
             [
              0.6666666666666666,
              "#ed7953"
             ],
             [
              0.7777777777777778,
              "#fb9f3a"
             ],
             [
              0.8888888888888888,
              "#fdca26"
             ],
             [
              1,
              "#f0f921"
             ]
            ],
            "type": "heatmapgl"
           }
          ],
          "histogram": [
           {
            "marker": {
             "pattern": {
              "fillmode": "overlay",
              "size": 10,
              "solidity": 0.2
             }
            },
            "type": "histogram"
           }
          ],
          "histogram2d": [
           {
            "colorbar": {
             "outlinewidth": 0,
             "ticks": ""
            },
            "colorscale": [
             [
              0,
              "#0d0887"
             ],
             [
              0.1111111111111111,
              "#46039f"
             ],
             [
              0.2222222222222222,
              "#7201a8"
             ],
             [
              0.3333333333333333,
              "#9c179e"
             ],
             [
              0.4444444444444444,
              "#bd3786"
             ],
             [
              0.5555555555555556,
              "#d8576b"
             ],
             [
              0.6666666666666666,
              "#ed7953"
             ],
             [
              0.7777777777777778,
              "#fb9f3a"
             ],
             [
              0.8888888888888888,
              "#fdca26"
             ],
             [
              1,
              "#f0f921"
             ]
            ],
            "type": "histogram2d"
           }
          ],
          "histogram2dcontour": [
           {
            "colorbar": {
             "outlinewidth": 0,
             "ticks": ""
            },
            "colorscale": [
             [
              0,
              "#0d0887"
             ],
             [
              0.1111111111111111,
              "#46039f"
             ],
             [
              0.2222222222222222,
              "#7201a8"
             ],
             [
              0.3333333333333333,
              "#9c179e"
             ],
             [
              0.4444444444444444,
              "#bd3786"
             ],
             [
              0.5555555555555556,
              "#d8576b"
             ],
             [
              0.6666666666666666,
              "#ed7953"
             ],
             [
              0.7777777777777778,
              "#fb9f3a"
             ],
             [
              0.8888888888888888,
              "#fdca26"
             ],
             [
              1,
              "#f0f921"
             ]
            ],
            "type": "histogram2dcontour"
           }
          ],
          "mesh3d": [
           {
            "colorbar": {
             "outlinewidth": 0,
             "ticks": ""
            },
            "type": "mesh3d"
           }
          ],
          "parcoords": [
           {
            "line": {
             "colorbar": {
              "outlinewidth": 0,
              "ticks": ""
             }
            },
            "type": "parcoords"
           }
          ],
          "pie": [
           {
            "automargin": true,
            "type": "pie"
           }
          ],
          "scatter": [
           {
            "marker": {
             "colorbar": {
              "outlinewidth": 0,
              "ticks": ""
             }
            },
            "type": "scatter"
           }
          ],
          "scatter3d": [
           {
            "line": {
             "colorbar": {
              "outlinewidth": 0,
              "ticks": ""
             }
            },
            "marker": {
             "colorbar": {
              "outlinewidth": 0,
              "ticks": ""
             }
            },
            "type": "scatter3d"
           }
          ],
          "scattercarpet": [
           {
            "marker": {
             "colorbar": {
              "outlinewidth": 0,
              "ticks": ""
             }
            },
            "type": "scattercarpet"
           }
          ],
          "scattergeo": [
           {
            "marker": {
             "colorbar": {
              "outlinewidth": 0,
              "ticks": ""
             }
            },
            "type": "scattergeo"
           }
          ],
          "scattergl": [
           {
            "marker": {
             "colorbar": {
              "outlinewidth": 0,
              "ticks": ""
             }
            },
            "type": "scattergl"
           }
          ],
          "scattermapbox": [
           {
            "marker": {
             "colorbar": {
              "outlinewidth": 0,
              "ticks": ""
             }
            },
            "type": "scattermapbox"
           }
          ],
          "scatterpolar": [
           {
            "marker": {
             "colorbar": {
              "outlinewidth": 0,
              "ticks": ""
             }
            },
            "type": "scatterpolar"
           }
          ],
          "scatterpolargl": [
           {
            "marker": {
             "colorbar": {
              "outlinewidth": 0,
              "ticks": ""
             }
            },
            "type": "scatterpolargl"
           }
          ],
          "scatterternary": [
           {
            "marker": {
             "colorbar": {
              "outlinewidth": 0,
              "ticks": ""
             }
            },
            "type": "scatterternary"
           }
          ],
          "surface": [
           {
            "colorbar": {
             "outlinewidth": 0,
             "ticks": ""
            },
            "colorscale": [
             [
              0,
              "#0d0887"
             ],
             [
              0.1111111111111111,
              "#46039f"
             ],
             [
              0.2222222222222222,
              "#7201a8"
             ],
             [
              0.3333333333333333,
              "#9c179e"
             ],
             [
              0.4444444444444444,
              "#bd3786"
             ],
             [
              0.5555555555555556,
              "#d8576b"
             ],
             [
              0.6666666666666666,
              "#ed7953"
             ],
             [
              0.7777777777777778,
              "#fb9f3a"
             ],
             [
              0.8888888888888888,
              "#fdca26"
             ],
             [
              1,
              "#f0f921"
             ]
            ],
            "type": "surface"
           }
          ],
          "table": [
           {
            "cells": {
             "fill": {
              "color": "#EBF0F8"
             },
             "line": {
              "color": "white"
             }
            },
            "header": {
             "fill": {
              "color": "#C8D4E3"
             },
             "line": {
              "color": "white"
             }
            },
            "type": "table"
           }
          ]
         },
         "layout": {
          "annotationdefaults": {
           "arrowcolor": "#2a3f5f",
           "arrowhead": 0,
           "arrowwidth": 1
          },
          "autotypenumbers": "strict",
          "coloraxis": {
           "colorbar": {
            "outlinewidth": 0,
            "ticks": ""
           }
          },
          "colorscale": {
           "diverging": [
            [
             0,
             "#8e0152"
            ],
            [
             0.1,
             "#c51b7d"
            ],
            [
             0.2,
             "#de77ae"
            ],
            [
             0.3,
             "#f1b6da"
            ],
            [
             0.4,
             "#fde0ef"
            ],
            [
             0.5,
             "#f7f7f7"
            ],
            [
             0.6,
             "#e6f5d0"
            ],
            [
             0.7,
             "#b8e186"
            ],
            [
             0.8,
             "#7fbc41"
            ],
            [
             0.9,
             "#4d9221"
            ],
            [
             1,
             "#276419"
            ]
           ],
           "sequential": [
            [
             0,
             "#0d0887"
            ],
            [
             0.1111111111111111,
             "#46039f"
            ],
            [
             0.2222222222222222,
             "#7201a8"
            ],
            [
             0.3333333333333333,
             "#9c179e"
            ],
            [
             0.4444444444444444,
             "#bd3786"
            ],
            [
             0.5555555555555556,
             "#d8576b"
            ],
            [
             0.6666666666666666,
             "#ed7953"
            ],
            [
             0.7777777777777778,
             "#fb9f3a"
            ],
            [
             0.8888888888888888,
             "#fdca26"
            ],
            [
             1,
             "#f0f921"
            ]
           ],
           "sequentialminus": [
            [
             0,
             "#0d0887"
            ],
            [
             0.1111111111111111,
             "#46039f"
            ],
            [
             0.2222222222222222,
             "#7201a8"
            ],
            [
             0.3333333333333333,
             "#9c179e"
            ],
            [
             0.4444444444444444,
             "#bd3786"
            ],
            [
             0.5555555555555556,
             "#d8576b"
            ],
            [
             0.6666666666666666,
             "#ed7953"
            ],
            [
             0.7777777777777778,
             "#fb9f3a"
            ],
            [
             0.8888888888888888,
             "#fdca26"
            ],
            [
             1,
             "#f0f921"
            ]
           ]
          },
          "colorway": [
           "#636efa",
           "#EF553B",
           "#00cc96",
           "#ab63fa",
           "#FFA15A",
           "#19d3f3",
           "#FF6692",
           "#B6E880",
           "#FF97FF",
           "#FECB52"
          ],
          "font": {
           "color": "#2a3f5f"
          },
          "geo": {
           "bgcolor": "white",
           "lakecolor": "white",
           "landcolor": "#E5ECF6",
           "showlakes": true,
           "showland": true,
           "subunitcolor": "white"
          },
          "hoverlabel": {
           "align": "left"
          },
          "hovermode": "closest",
          "mapbox": {
           "style": "light"
          },
          "paper_bgcolor": "white",
          "plot_bgcolor": "#E5ECF6",
          "polar": {
           "angularaxis": {
            "gridcolor": "white",
            "linecolor": "white",
            "ticks": ""
           },
           "bgcolor": "#E5ECF6",
           "radialaxis": {
            "gridcolor": "white",
            "linecolor": "white",
            "ticks": ""
           }
          },
          "scene": {
           "xaxis": {
            "backgroundcolor": "#E5ECF6",
            "gridcolor": "white",
            "gridwidth": 2,
            "linecolor": "white",
            "showbackground": true,
            "ticks": "",
            "zerolinecolor": "white"
           },
           "yaxis": {
            "backgroundcolor": "#E5ECF6",
            "gridcolor": "white",
            "gridwidth": 2,
            "linecolor": "white",
            "showbackground": true,
            "ticks": "",
            "zerolinecolor": "white"
           },
           "zaxis": {
            "backgroundcolor": "#E5ECF6",
            "gridcolor": "white",
            "gridwidth": 2,
            "linecolor": "white",
            "showbackground": true,
            "ticks": "",
            "zerolinecolor": "white"
           }
          },
          "shapedefaults": {
           "line": {
            "color": "#2a3f5f"
           }
          },
          "ternary": {
           "aaxis": {
            "gridcolor": "white",
            "linecolor": "white",
            "ticks": ""
           },
           "baxis": {
            "gridcolor": "white",
            "linecolor": "white",
            "ticks": ""
           },
           "bgcolor": "#E5ECF6",
           "caxis": {
            "gridcolor": "white",
            "linecolor": "white",
            "ticks": ""
           }
          },
          "title": {
           "x": 0.05
          },
          "xaxis": {
           "automargin": true,
           "gridcolor": "white",
           "linecolor": "white",
           "ticks": "",
           "title": {
            "standoff": 15
           },
           "zerolinecolor": "white",
           "zerolinewidth": 2
          },
          "yaxis": {
           "automargin": true,
           "gridcolor": "white",
           "linecolor": "white",
           "ticks": "",
           "title": {
            "standoff": 15
           },
           "zerolinecolor": "white",
           "zerolinewidth": 2
          }
         }
        },
        "title": {
         "text": "Reachability plot OPTICS"
        },
        "width": 1000,
        "xaxis": {
         "showgrid": false,
         "showticklabels": false,
         "zeroline": false
        },
        "yaxis": {
         "showgrid": false,
         "title": {
          "text": "Reachability (epsilon distance)"
         },
         "zeroline": false
        }
       }
      },
      "text/html": [
       "<div>                            <div id=\"ecd77e55-fe08-46d5-b73d-2b04ec7f93a7\" class=\"plotly-graph-div\" style=\"height:400px; width:1000px;\"></div>            <script type=\"text/javascript\">                require([\"plotly\"], function(Plotly) {                    window.PLOTLYENV=window.PLOTLYENV || {};                                    if (document.getElementById(\"ecd77e55-fe08-46d5-b73d-2b04ec7f93a7\")) {                    Plotly.newPlot(                        \"ecd77e55-fe08-46d5-b73d-2b04ec7f93a7\",                        [{\"mode\":\"markers\",\"name\":\"0\",\"type\":\"scatter\",\"x\":[0,1],\"y\":[null,2.405876237743426]},{\"mode\":\"markers\",\"name\":\"1\",\"type\":\"scatter\",\"x\":[3,4,5,6],\"y\":[2.2461414331635687,1.206438572509856,0.9279669562643937,1.0630035501265864]},{\"mode\":\"markers\",\"name\":\"2\",\"type\":\"scatter\",\"x\":[8,9],\"y\":[1.1977039411042625,0.6529432410708069]},{\"mode\":\"markers\",\"name\":\"3\",\"type\":\"scatter\",\"x\":[10,11],\"y\":[0.7812073616680514,0.73035854150953]},{\"mode\":\"markers\",\"name\":\"4\",\"type\":\"scatter\",\"x\":[14,15,16,17],\"y\":[1.1832051654146265,0.82171036357643,0.7762538906503486,0.9517654333031027]},{\"mode\":\"markers\",\"name\":\"5\",\"type\":\"scatter\",\"x\":[20,21,22],\"y\":[2.116635819453137,0.34834616477994196,0.704341696404644]},{\"mode\":\"markers\",\"name\":\"6\",\"type\":\"scatter\",\"x\":[26,27,28],\"y\":[2.720828882629416,0.9890324974037468,0.9071991825307865]}],                        {\"height\":400,\"legend\":{\"title\":{\"text\":\" Possible clusters:\"}},\"shapes\":[{\"line\":{\"color\":\"black\",\"dash\":\"dashdot\",\"width\":1},\"type\":\"line\",\"x0\":0,\"x1\":1,\"xref\":\"x domain\",\"y0\":0.5,\"y1\":0.5,\"yref\":\"y\"},{\"line\":{\"color\":\"black\",\"dash\":\"dash\",\"width\":1},\"type\":\"line\",\"x0\":0,\"x1\":1,\"xref\":\"x domain\",\"y0\":2.0,\"y1\":2.0,\"yref\":\"y\"}],\"template\":{\"data\":{\"bar\":[{\"error_x\":{\"color\":\"#2a3f5f\"},\"error_y\":{\"color\":\"#2a3f5f\"},\"marker\":{\"line\":{\"color\":\"#E5ECF6\",\"width\":0.5},\"pattern\":{\"fillmode\":\"overlay\",\"size\":10,\"solidity\":0.2}},\"type\":\"bar\"}],\"barpolar\":[{\"marker\":{\"line\":{\"color\":\"#E5ECF6\",\"width\":0.5},\"pattern\":{\"fillmode\":\"overlay\",\"size\":10,\"solidity\":0.2}},\"type\":\"barpolar\"}],\"carpet\":[{\"aaxis\":{\"endlinecolor\":\"#2a3f5f\",\"gridcolor\":\"white\",\"linecolor\":\"white\",\"minorgridcolor\":\"white\",\"startlinecolor\":\"#2a3f5f\"},\"baxis\":{\"endlinecolor\":\"#2a3f5f\",\"gridcolor\":\"white\",\"linecolor\":\"white\",\"minorgridcolor\":\"white\",\"startlinecolor\":\"#2a3f5f\"},\"type\":\"carpet\"}],\"choropleth\":[{\"colorbar\":{\"outlinewidth\":0,\"ticks\":\"\"},\"type\":\"choropleth\"}],\"contour\":[{\"colorbar\":{\"outlinewidth\":0,\"ticks\":\"\"},\"colorscale\":[[0.0,\"#0d0887\"],[0.1111111111111111,\"#46039f\"],[0.2222222222222222,\"#7201a8\"],[0.3333333333333333,\"#9c179e\"],[0.4444444444444444,\"#bd3786\"],[0.5555555555555556,\"#d8576b\"],[0.6666666666666666,\"#ed7953\"],[0.7777777777777778,\"#fb9f3a\"],[0.8888888888888888,\"#fdca26\"],[1.0,\"#f0f921\"]],\"type\":\"contour\"}],\"contourcarpet\":[{\"colorbar\":{\"outlinewidth\":0,\"ticks\":\"\"},\"type\":\"contourcarpet\"}],\"heatmap\":[{\"colorbar\":{\"outlinewidth\":0,\"ticks\":\"\"},\"colorscale\":[[0.0,\"#0d0887\"],[0.1111111111111111,\"#46039f\"],[0.2222222222222222,\"#7201a8\"],[0.3333333333333333,\"#9c179e\"],[0.4444444444444444,\"#bd3786\"],[0.5555555555555556,\"#d8576b\"],[0.6666666666666666,\"#ed7953\"],[0.7777777777777778,\"#fb9f3a\"],[0.8888888888888888,\"#fdca26\"],[1.0,\"#f0f921\"]],\"type\":\"heatmap\"}],\"heatmapgl\":[{\"colorbar\":{\"outlinewidth\":0,\"ticks\":\"\"},\"colorscale\":[[0.0,\"#0d0887\"],[0.1111111111111111,\"#46039f\"],[0.2222222222222222,\"#7201a8\"],[0.3333333333333333,\"#9c179e\"],[0.4444444444444444,\"#bd3786\"],[0.5555555555555556,\"#d8576b\"],[0.6666666666666666,\"#ed7953\"],[0.7777777777777778,\"#fb9f3a\"],[0.8888888888888888,\"#fdca26\"],[1.0,\"#f0f921\"]],\"type\":\"heatmapgl\"}],\"histogram\":[{\"marker\":{\"pattern\":{\"fillmode\":\"overlay\",\"size\":10,\"solidity\":0.2}},\"type\":\"histogram\"}],\"histogram2d\":[{\"colorbar\":{\"outlinewidth\":0,\"ticks\":\"\"},\"colorscale\":[[0.0,\"#0d0887\"],[0.1111111111111111,\"#46039f\"],[0.2222222222222222,\"#7201a8\"],[0.3333333333333333,\"#9c179e\"],[0.4444444444444444,\"#bd3786\"],[0.5555555555555556,\"#d8576b\"],[0.6666666666666666,\"#ed7953\"],[0.7777777777777778,\"#fb9f3a\"],[0.8888888888888888,\"#fdca26\"],[1.0,\"#f0f921\"]],\"type\":\"histogram2d\"}],\"histogram2dcontour\":[{\"colorbar\":{\"outlinewidth\":0,\"ticks\":\"\"},\"colorscale\":[[0.0,\"#0d0887\"],[0.1111111111111111,\"#46039f\"],[0.2222222222222222,\"#7201a8\"],[0.3333333333333333,\"#9c179e\"],[0.4444444444444444,\"#bd3786\"],[0.5555555555555556,\"#d8576b\"],[0.6666666666666666,\"#ed7953\"],[0.7777777777777778,\"#fb9f3a\"],[0.8888888888888888,\"#fdca26\"],[1.0,\"#f0f921\"]],\"type\":\"histogram2dcontour\"}],\"mesh3d\":[{\"colorbar\":{\"outlinewidth\":0,\"ticks\":\"\"},\"type\":\"mesh3d\"}],\"parcoords\":[{\"line\":{\"colorbar\":{\"outlinewidth\":0,\"ticks\":\"\"}},\"type\":\"parcoords\"}],\"pie\":[{\"automargin\":true,\"type\":\"pie\"}],\"scatter\":[{\"marker\":{\"colorbar\":{\"outlinewidth\":0,\"ticks\":\"\"}},\"type\":\"scatter\"}],\"scatter3d\":[{\"line\":{\"colorbar\":{\"outlinewidth\":0,\"ticks\":\"\"}},\"marker\":{\"colorbar\":{\"outlinewidth\":0,\"ticks\":\"\"}},\"type\":\"scatter3d\"}],\"scattercarpet\":[{\"marker\":{\"colorbar\":{\"outlinewidth\":0,\"ticks\":\"\"}},\"type\":\"scattercarpet\"}],\"scattergeo\":[{\"marker\":{\"colorbar\":{\"outlinewidth\":0,\"ticks\":\"\"}},\"type\":\"scattergeo\"}],\"scattergl\":[{\"marker\":{\"colorbar\":{\"outlinewidth\":0,\"ticks\":\"\"}},\"type\":\"scattergl\"}],\"scattermapbox\":[{\"marker\":{\"colorbar\":{\"outlinewidth\":0,\"ticks\":\"\"}},\"type\":\"scattermapbox\"}],\"scatterpolar\":[{\"marker\":{\"colorbar\":{\"outlinewidth\":0,\"ticks\":\"\"}},\"type\":\"scatterpolar\"}],\"scatterpolargl\":[{\"marker\":{\"colorbar\":{\"outlinewidth\":0,\"ticks\":\"\"}},\"type\":\"scatterpolargl\"}],\"scatterternary\":[{\"marker\":{\"colorbar\":{\"outlinewidth\":0,\"ticks\":\"\"}},\"type\":\"scatterternary\"}],\"surface\":[{\"colorbar\":{\"outlinewidth\":0,\"ticks\":\"\"},\"colorscale\":[[0.0,\"#0d0887\"],[0.1111111111111111,\"#46039f\"],[0.2222222222222222,\"#7201a8\"],[0.3333333333333333,\"#9c179e\"],[0.4444444444444444,\"#bd3786\"],[0.5555555555555556,\"#d8576b\"],[0.6666666666666666,\"#ed7953\"],[0.7777777777777778,\"#fb9f3a\"],[0.8888888888888888,\"#fdca26\"],[1.0,\"#f0f921\"]],\"type\":\"surface\"}],\"table\":[{\"cells\":{\"fill\":{\"color\":\"#EBF0F8\"},\"line\":{\"color\":\"white\"}},\"header\":{\"fill\":{\"color\":\"#C8D4E3\"},\"line\":{\"color\":\"white\"}},\"type\":\"table\"}]},\"layout\":{\"annotationdefaults\":{\"arrowcolor\":\"#2a3f5f\",\"arrowhead\":0,\"arrowwidth\":1},\"autotypenumbers\":\"strict\",\"coloraxis\":{\"colorbar\":{\"outlinewidth\":0,\"ticks\":\"\"}},\"colorscale\":{\"diverging\":[[0,\"#8e0152\"],[0.1,\"#c51b7d\"],[0.2,\"#de77ae\"],[0.3,\"#f1b6da\"],[0.4,\"#fde0ef\"],[0.5,\"#f7f7f7\"],[0.6,\"#e6f5d0\"],[0.7,\"#b8e186\"],[0.8,\"#7fbc41\"],[0.9,\"#4d9221\"],[1,\"#276419\"]],\"sequential\":[[0.0,\"#0d0887\"],[0.1111111111111111,\"#46039f\"],[0.2222222222222222,\"#7201a8\"],[0.3333333333333333,\"#9c179e\"],[0.4444444444444444,\"#bd3786\"],[0.5555555555555556,\"#d8576b\"],[0.6666666666666666,\"#ed7953\"],[0.7777777777777778,\"#fb9f3a\"],[0.8888888888888888,\"#fdca26\"],[1.0,\"#f0f921\"]],\"sequentialminus\":[[0.0,\"#0d0887\"],[0.1111111111111111,\"#46039f\"],[0.2222222222222222,\"#7201a8\"],[0.3333333333333333,\"#9c179e\"],[0.4444444444444444,\"#bd3786\"],[0.5555555555555556,\"#d8576b\"],[0.6666666666666666,\"#ed7953\"],[0.7777777777777778,\"#fb9f3a\"],[0.8888888888888888,\"#fdca26\"],[1.0,\"#f0f921\"]]},\"colorway\":[\"#636efa\",\"#EF553B\",\"#00cc96\",\"#ab63fa\",\"#FFA15A\",\"#19d3f3\",\"#FF6692\",\"#B6E880\",\"#FF97FF\",\"#FECB52\"],\"font\":{\"color\":\"#2a3f5f\"},\"geo\":{\"bgcolor\":\"white\",\"lakecolor\":\"white\",\"landcolor\":\"#E5ECF6\",\"showlakes\":true,\"showland\":true,\"subunitcolor\":\"white\"},\"hoverlabel\":{\"align\":\"left\"},\"hovermode\":\"closest\",\"mapbox\":{\"style\":\"light\"},\"paper_bgcolor\":\"white\",\"plot_bgcolor\":\"#E5ECF6\",\"polar\":{\"angularaxis\":{\"gridcolor\":\"white\",\"linecolor\":\"white\",\"ticks\":\"\"},\"bgcolor\":\"#E5ECF6\",\"radialaxis\":{\"gridcolor\":\"white\",\"linecolor\":\"white\",\"ticks\":\"\"}},\"scene\":{\"xaxis\":{\"backgroundcolor\":\"#E5ECF6\",\"gridcolor\":\"white\",\"gridwidth\":2,\"linecolor\":\"white\",\"showbackground\":true,\"ticks\":\"\",\"zerolinecolor\":\"white\"},\"yaxis\":{\"backgroundcolor\":\"#E5ECF6\",\"gridcolor\":\"white\",\"gridwidth\":2,\"linecolor\":\"white\",\"showbackground\":true,\"ticks\":\"\",\"zerolinecolor\":\"white\"},\"zaxis\":{\"backgroundcolor\":\"#E5ECF6\",\"gridcolor\":\"white\",\"gridwidth\":2,\"linecolor\":\"white\",\"showbackground\":true,\"ticks\":\"\",\"zerolinecolor\":\"white\"}},\"shapedefaults\":{\"line\":{\"color\":\"#2a3f5f\"}},\"ternary\":{\"aaxis\":{\"gridcolor\":\"white\",\"linecolor\":\"white\",\"ticks\":\"\"},\"baxis\":{\"gridcolor\":\"white\",\"linecolor\":\"white\",\"ticks\":\"\"},\"bgcolor\":\"#E5ECF6\",\"caxis\":{\"gridcolor\":\"white\",\"linecolor\":\"white\",\"ticks\":\"\"}},\"title\":{\"x\":0.05},\"xaxis\":{\"automargin\":true,\"gridcolor\":\"white\",\"linecolor\":\"white\",\"ticks\":\"\",\"title\":{\"standoff\":15},\"zerolinecolor\":\"white\",\"zerolinewidth\":2},\"yaxis\":{\"automargin\":true,\"gridcolor\":\"white\",\"linecolor\":\"white\",\"ticks\":\"\",\"title\":{\"standoff\":15},\"zerolinecolor\":\"white\",\"zerolinewidth\":2}}},\"title\":{\"text\":\"Reachability plot OPTICS\"},\"width\":1000,\"xaxis\":{\"showgrid\":false,\"showticklabels\":false,\"zeroline\":false},\"yaxis\":{\"showgrid\":false,\"title\":{\"text\":\"Reachability (epsilon distance)\"},\"zeroline\":false}},                        {\"responsive\": true}                    ).then(function(){\n",
       "                            \n",
       "var gd = document.getElementById('ecd77e55-fe08-46d5-b73d-2b04ec7f93a7');\n",
       "var x = new MutationObserver(function (mutations, observer) {{\n",
       "        var display = window.getComputedStyle(gd).display;\n",
       "        if (!display || display === 'none') {{\n",
       "            console.log([gd, 'removed!']);\n",
       "            Plotly.purge(gd);\n",
       "            observer.disconnect();\n",
       "        }}\n",
       "}});\n",
       "\n",
       "// Listen for the removal of the full notebook cells\n",
       "var notebookContainer = gd.closest('#notebook-container');\n",
       "if (notebookContainer) {{\n",
       "    x.observe(notebookContainer, {childList: true});\n",
       "}}\n",
       "\n",
       "// Listen for the clearing of the current output cell\n",
       "var outputEl = gd.closest('.output');\n",
       "if (outputEl) {{\n",
       "    x.observe(outputEl, {childList: true});\n",
       "}}\n",
       "\n",
       "                        })                };                });            </script>        </div>"
      ]
     },
     "metadata": {},
     "output_type": "display_data"
    }
   ],
   "source": [
    "import plotly.express as px\n",
    "\n",
    "fig = go.Figure()\n",
    "\n",
    "# looping through all the clusters\n",
    "for klass in range(len(counts)):\n",
    "    Xk = space[labels == klass]\n",
    "    Rk = reachability[labels == klass]\n",
    "    \n",
    "    fig.add_trace(\n",
    "        go.Scatter(\n",
    "        x = Xk,\n",
    "        y = Rk,\n",
    "        mode = 'markers',\n",
    "        name= klass\n",
    "    ))\n",
    "    \n",
    "fig.add_hline(y=0.5,\n",
    "              line_width = 1,\n",
    "              line_dash = 'dashdot',\n",
    "              line_color = 'black')\n",
    "fig.add_hline(y=2.0,\n",
    "              line_width = 1,\n",
    "              line_dash = 'dash',\n",
    "              line_color = 'black')\n",
    "    \n",
    "fig.update_layout(title = f'Reachability plot {CLUSTERING_MODEL}',\n",
    "\n",
    "              width=1000,\n",
    "              height=400,\n",
    "\n",
    "              yaxis_zeroline=False,\n",
    "              yaxis=dict(showgrid=False,\n",
    "                         title='Reachability (epsilon distance)'),\n",
    "#                   yaxis_showticklabels = False,\n",
    "\n",
    "              xaxis_zeroline=False,\n",
    "              xaxis=dict(showgrid=False),\n",
    "                  xaxis_showticklabels = False,\n",
    "\n",
    "              legend_title_text = ' Possible clusters:',\n",
    "             )\n",
    "\n",
    "fig.show()\n",
    " "
   ]
  },
  {
   "cell_type": "code",
   "execution_count": 41,
   "id": "worse-edmonton",
   "metadata": {},
   "outputs": [
    {
     "data": {
      "image/png": "[encoded data removed]",
      "text/plain": [
       "<Figure size 864x864 with 1 Axes>"
      ]
     },
     "metadata": {
      "needs_background": "light"
     },
     "output_type": "display_data"
    }
   ],
   "source": [
    "### Plotting data\n",
    "\n",
    "plt.figure(figsize=(12,12))\n",
    "plt.clf()\n",
    "plt.axis('off')\n",
    "plt.scatter(\n",
    "    X_tsne[(labels!=-1), 0],\n",
    "    X_tsne[(labels!=-1), 1],\n",
    "    s=200,\n",
    "    alpha=0.85,\n",
    "    marker='o',\n",
    "    label = label_series[(label_series == clust)].index,\n",
    "    c=labels[labels!=-1],\n",
    "    cmap=cm.Paired\n",
    ")\n",
    "plt.scatter(\n",
    "    X_tsne[(label_series_all==-1).values, 0],\n",
    "    X_tsne[(label_series_all==-1).values, 1],\n",
    "    s=100,\n",
    "    alpha=0.05\n",
    ")\n",
    "plt.axhline(y=0, c='k', ls=':', alpha=0.4)\n",
    "plt.axvline(x=0, c='k', ls=':', alpha=0.4)\n",
    "plt.title(f'T-SNE of all Stocks - {CLUSTERING_MODEL}', loc='left', fontsize=16);\n",
    "plt.tight_layout()\n",
    "plt.show()"
   ]
  },
  {
   "cell_type": "markdown",
   "id": "composite-juvenile",
   "metadata": {},
   "source": [
    "#### plotly"
   ]
  },
  {
   "cell_type": "code",
   "execution_count": 42,
   "id": "transsexual-latex",
   "metadata": {},
   "outputs": [
    {
     "data": {
      "application/vnd.plotly.v1+json": {
       "config": {
        "plotlyServerURL": "https://plot.ly"
       },
       "data": [
        {
         "marker": {
          "color": 0,
          "size": 10
         },
         "mode": "markers+text",
         "name": "C0 -> 2 points",
         "opacity": 1,
         "text": [
          "AKER",
          "AKRBP"
         ],
         "type": "scatter",
         "x": [
          -1.8565362691879272,
          -1.620947241783142
         ],
         "y": [
          -0.7046961784362793,
          -0.8527757525444031
         ]
        },
        {
         "marker": {
          "color": 1,
          "size": 10
         },
         "mode": "markers+text",
         "name": "C1 -> 4 points",
         "opacity": 1,
         "text": [
          "EQNR",
          "FRO",
          "GJF",
          "GOGL"
         ],
         "type": "scatter",
         "x": [
          -2.327263355255127,
          -4.647899150848389,
          -2.7175378799438477,
          -3.704630136489868
         ],
         "y": [
          -0.0622594952583313,
          -0.813723087310791,
          -0.16636039316654205,
          1.750542402267456
         ]
        },
        {
         "marker": {
          "color": 2,
          "size": 10
         },
         "mode": "markers+text",
         "name": "C2 -> 2 points",
         "opacity": 1,
         "text": [
          "NEL",
          "NOD"
         ],
         "type": "scatter",
         "x": [
          -4.9272780418396,
          -1.7607645988464355
         ],
         "y": [
          0.04409532621502876,
          0.33412930369377136
         ]
        },
        {
         "marker": {
          "color": 3,
          "size": 10
         },
         "mode": "markers+text",
         "name": "C3 -> 2 points",
         "opacity": 1,
         "text": [
          "NHY",
          "ORK"
         ],
         "type": "scatter",
         "x": [
          -2.7053115367889404,
          -2.9513096809387207
         ],
         "y": [
          -1.8663902282714844,
          -0.39618948101997375
         ]
        },
        {
         "marker": {
          "color": 4,
          "size": 10
         },
         "mode": "markers+text",
         "name": "C4 -> 4 points",
         "opacity": 1,
         "text": [
          "SCHA",
          "STB",
          "SUBC",
          "TEL"
         ],
         "type": "scatter",
         "x": [
          -1.0526872873306274,
          -1.899683952331543,
          -1.5844266414642334,
          -2.7602458000183105
         ],
         "y": [
          -0.19501875340938568,
          0.4486055076122284,
          1.307160496711731,
          -0.19871792197227478
         ]
        },
        {
         "marker": {
          "color": 5,
          "size": 10
         },
         "mode": "markers+text",
         "name": "C5 -> 3 points",
         "opacity": 1,
         "text": [
          "ATLAS COPCO A",
          "ERICSSON B",
          "VOLVO B"
         ],
         "type": "scatter",
         "x": [
          -3.7478058338165283,
          -4.028833389282227,
          -3.523353338241577
         ],
         "y": [
          0.33461031317710876,
          -0.6541391015052795,
          0.5722845196723938
         ]
        },
        {
         "marker": {
          "color": 6,
          "size": 10
         },
         "mode": "markers+text",
         "name": "C6 -> 3 points",
         "opacity": 1,
         "text": [
          "SANDVIK",
          "ASSA ABLOY B",
          "SKANDINAVISKA ENSKILDA BANKEN A"
         ],
         "type": "scatter",
         "x": [
          -3.7398083209991455,
          -3.2710354328155518,
          -2.3834924697875977
         ],
         "y": [
          0.43944963812828064,
          0.13889943063259125,
          0.6487670540809631
         ]
        }
       ],
       "layout": {
        "height": 800,
        "legend": {
         "title": {
          "text": "Clusters:"
         }
        },
        "template": {
         "data": {
          "bar": [
           {
            "error_x": {
             "color": "#2a3f5f"
            },
            "error_y": {
             "color": "#2a3f5f"
            },
            "marker": {
             "line": {
              "color": "#E5ECF6",
              "width": 0.5
             },
             "pattern": {
              "fillmode": "overlay",
              "size": 10,
              "solidity": 0.2
             }
            },
            "type": "bar"
           }
          ],
          "barpolar": [
           {
            "marker": {
             "line": {
              "color": "#E5ECF6",
              "width": 0.5
             },
             "pattern": {
              "fillmode": "overlay",
              "size": 10,
              "solidity": 0.2
             }
            },
            "type": "barpolar"
           }
          ],
          "carpet": [
           {
            "aaxis": {
             "endlinecolor": "#2a3f5f",
             "gridcolor": "white",
             "linecolor": "white",
             "minorgridcolor": "white",
             "startlinecolor": "#2a3f5f"
            },
            "baxis": {
             "endlinecolor": "#2a3f5f",
             "gridcolor": "white",
             "linecolor": "white",
             "minorgridcolor": "white",
             "startlinecolor": "#2a3f5f"
            },
            "type": "carpet"
           }
          ],
          "choropleth": [
           {
            "colorbar": {
             "outlinewidth": 0,
             "ticks": ""
            },
            "type": "choropleth"
           }
          ],
          "contour": [
           {
            "colorbar": {
             "outlinewidth": 0,
             "ticks": ""
            },
            "colorscale": [
             [
              0,
              "#0d0887"
             ],
             [
              0.1111111111111111,
              "#46039f"
             ],
             [
              0.2222222222222222,
              "#7201a8"
             ],
             [
              0.3333333333333333,
              "#9c179e"
             ],
             [
              0.4444444444444444,
              "#bd3786"
             ],
             [
              0.5555555555555556,
              "#d8576b"
             ],
             [
              0.6666666666666666,
              "#ed7953"
             ],
             [
              0.7777777777777778,
              "#fb9f3a"
             ],
             [
              0.8888888888888888,
              "#fdca26"
             ],
             [
              1,
              "#f0f921"
             ]
            ],
            "type": "contour"
           }
          ],
          "contourcarpet": [
           {
            "colorbar": {
             "outlinewidth": 0,
             "ticks": ""
            },
            "type": "contourcarpet"
           }
          ],
          "heatmap": [
           {
            "colorbar": {
             "outlinewidth": 0,
             "ticks": ""
            },
            "colorscale": [
             [
              0,
              "#0d0887"
             ],
             [
              0.1111111111111111,
              "#46039f"
             ],
             [
              0.2222222222222222,
              "#7201a8"
             ],
             [
              0.3333333333333333,
              "#9c179e"
             ],
             [
              0.4444444444444444,
              "#bd3786"
             ],
             [
              0.5555555555555556,
              "#d8576b"
             ],
             [
              0.6666666666666666,
              "#ed7953"
             ],
             [
              0.7777777777777778,
              "#fb9f3a"
             ],
             [
              0.8888888888888888,
              "#fdca26"
             ],
             [
              1,
              "#f0f921"
             ]
            ],
            "type": "heatmap"
           }
          ],
          "heatmapgl": [
           {
            "colorbar": {
             "outlinewidth": 0,
             "ticks": ""
            },
            "colorscale": [
             [
              0,
              "#0d0887"
             ],
             [
              0.1111111111111111,
              "#46039f"
             ],
             [
              0.2222222222222222,
              "#7201a8"
             ],
             [
              0.3333333333333333,
              "#9c179e"
             ],
             [
              0.4444444444444444,
              "#bd3786"
             ],
             [
              0.5555555555555556,
              "#d8576b"
             ],
             [
              0.6666666666666666,
              "#ed7953"
             ],
             [
              0.7777777777777778,
              "#fb9f3a"
             ],
             [
              0.8888888888888888,
              "#fdca26"
             ],
             [
              1,
              "#f0f921"
             ]
            ],
            "type": "heatmapgl"
           }
          ],
          "histogram": [
           {
            "marker": {
             "pattern": {
              "fillmode": "overlay",
              "size": 10,
              "solidity": 0.2
             }
            },
            "type": "histogram"
           }
          ],
          "histogram2d": [
           {
            "colorbar": {
             "outlinewidth": 0,
             "ticks": ""
            },
            "colorscale": [
             [
              0,
              "#0d0887"
             ],
             [
              0.1111111111111111,
              "#46039f"
             ],
             [
              0.2222222222222222,
              "#7201a8"
             ],
             [
              0.3333333333333333,
              "#9c179e"
             ],
             [
              0.4444444444444444,
              "#bd3786"
             ],
             [
              0.5555555555555556,
              "#d8576b"
             ],
             [
              0.6666666666666666,
              "#ed7953"
             ],
             [
              0.7777777777777778,
              "#fb9f3a"
             ],
             [
              0.8888888888888888,
              "#fdca26"
             ],
             [
              1,
              "#f0f921"
             ]
            ],
            "type": "histogram2d"
           }
          ],
          "histogram2dcontour": [
           {
            "colorbar": {
             "outlinewidth": 0,
             "ticks": ""
            },
            "colorscale": [
             [
              0,
              "#0d0887"
             ],
             [
              0.1111111111111111,
              "#46039f"
             ],
             [
              0.2222222222222222,
              "#7201a8"
             ],
             [
              0.3333333333333333,
              "#9c179e"
             ],
             [
              0.4444444444444444,
              "#bd3786"
             ],
             [
              0.5555555555555556,
              "#d8576b"
             ],
             [
              0.6666666666666666,
              "#ed7953"
             ],
             [
              0.7777777777777778,
              "#fb9f3a"
             ],
             [
              0.8888888888888888,
              "#fdca26"
             ],
             [
              1,
              "#f0f921"
             ]
            ],
            "type": "histogram2dcontour"
           }
          ],
          "mesh3d": [
           {
            "colorbar": {
             "outlinewidth": 0,
             "ticks": ""
            },
            "type": "mesh3d"
           }
          ],
          "parcoords": [
           {
            "line": {
             "colorbar": {
              "outlinewidth": 0,
              "ticks": ""
             }
            },
            "type": "parcoords"
           }
          ],
          "pie": [
           {
            "automargin": true,
            "type": "pie"
           }
          ],
          "scatter": [
           {
            "marker": {
             "colorbar": {
              "outlinewidth": 0,
              "ticks": ""
             }
            },
            "type": "scatter"
           }
          ],
          "scatter3d": [
           {
            "line": {
             "colorbar": {
              "outlinewidth": 0,
              "ticks": ""
             }
            },
            "marker": {
             "colorbar": {
              "outlinewidth": 0,
              "ticks": ""
             }
            },
            "type": "scatter3d"
           }
          ],
          "scattercarpet": [
           {
            "marker": {
             "colorbar": {
              "outlinewidth": 0,
              "ticks": ""
             }
            },
            "type": "scattercarpet"
           }
          ],
          "scattergeo": [
           {
            "marker": {
             "colorbar": {
              "outlinewidth": 0,
              "ticks": ""
             }
            },
            "type": "scattergeo"
           }
          ],
          "scattergl": [
           {
            "marker": {
             "colorbar": {
              "outlinewidth": 0,
              "ticks": ""
             }
            },
            "type": "scattergl"
           }
          ],
          "scattermapbox": [
           {
            "marker": {
             "colorbar": {
              "outlinewidth": 0,
              "ticks": ""
             }
            },
            "type": "scattermapbox"
           }
          ],
          "scatterpolar": [
           {
            "marker": {
             "colorbar": {
              "outlinewidth": 0,
              "ticks": ""
             }
            },
            "type": "scatterpolar"
           }
          ],
          "scatterpolargl": [
           {
            "marker": {
             "colorbar": {
              "outlinewidth": 0,
              "ticks": ""
             }
            },
            "type": "scatterpolargl"
           }
          ],
          "scatterternary": [
           {
            "marker": {
             "colorbar": {
              "outlinewidth": 0,
              "ticks": ""
             }
            },
            "type": "scatterternary"
           }
          ],
          "surface": [
           {
            "colorbar": {
             "outlinewidth": 0,
             "ticks": ""
            },
            "colorscale": [
             [
              0,
              "#0d0887"
             ],
             [
              0.1111111111111111,
              "#46039f"
             ],
             [
              0.2222222222222222,
              "#7201a8"
             ],
             [
              0.3333333333333333,
              "#9c179e"
             ],
             [
              0.4444444444444444,
              "#bd3786"
             ],
             [
              0.5555555555555556,
              "#d8576b"
             ],
             [
              0.6666666666666666,
              "#ed7953"
             ],
             [
              0.7777777777777778,
              "#fb9f3a"
             ],
             [
              0.8888888888888888,
              "#fdca26"
             ],
             [
              1,
              "#f0f921"
             ]
            ],
            "type": "surface"
           }
          ],
          "table": [
           {
            "cells": {
             "fill": {
              "color": "#EBF0F8"
             },
             "line": {
              "color": "white"
             }
            },
            "header": {
             "fill": {
              "color": "#C8D4E3"
             },
             "line": {
              "color": "white"
             }
            },
            "type": "table"
           }
          ]
         },
         "layout": {
          "annotationdefaults": {
           "arrowcolor": "#2a3f5f",
           "arrowhead": 0,
           "arrowwidth": 1
          },
          "autotypenumbers": "strict",
          "coloraxis": {
           "colorbar": {
            "outlinewidth": 0,
            "ticks": ""
           }
          },
          "colorscale": {
           "diverging": [
            [
             0,
             "#8e0152"
            ],
            [
             0.1,
             "#c51b7d"
            ],
            [
             0.2,
             "#de77ae"
            ],
            [
             0.3,
             "#f1b6da"
            ],
            [
             0.4,
             "#fde0ef"
            ],
            [
             0.5,
             "#f7f7f7"
            ],
            [
             0.6,
             "#e6f5d0"
            ],
            [
             0.7,
             "#b8e186"
            ],
            [
             0.8,
             "#7fbc41"
            ],
            [
             0.9,
             "#4d9221"
            ],
            [
             1,
             "#276419"
            ]
           ],
           "sequential": [
            [
             0,
             "#0d0887"
            ],
            [
             0.1111111111111111,
             "#46039f"
            ],
            [
             0.2222222222222222,
             "#7201a8"
            ],
            [
             0.3333333333333333,
             "#9c179e"
            ],
            [
             0.4444444444444444,
             "#bd3786"
            ],
            [
             0.5555555555555556,
             "#d8576b"
            ],
            [
             0.6666666666666666,
             "#ed7953"
            ],
            [
             0.7777777777777778,
             "#fb9f3a"
            ],
            [
             0.8888888888888888,
             "#fdca26"
            ],
            [
             1,
             "#f0f921"
            ]
           ],
           "sequentialminus": [
            [
             0,
             "#0d0887"
            ],
            [
             0.1111111111111111,
             "#46039f"
            ],
            [
             0.2222222222222222,
             "#7201a8"
            ],
            [
             0.3333333333333333,
             "#9c179e"
            ],
            [
             0.4444444444444444,
             "#bd3786"
            ],
            [
             0.5555555555555556,
             "#d8576b"
            ],
            [
             0.6666666666666666,
             "#ed7953"
            ],
            [
             0.7777777777777778,
             "#fb9f3a"
            ],
            [
             0.8888888888888888,
             "#fdca26"
            ],
            [
             1,
             "#f0f921"
            ]
           ]
          },
          "colorway": [
           "#636efa",
           "#EF553B",
           "#00cc96",
           "#ab63fa",
           "#FFA15A",
           "#19d3f3",
           "#FF6692",
           "#B6E880",
           "#FF97FF",
           "#FECB52"
          ],
          "font": {
           "color": "#2a3f5f"
          },
          "geo": {
           "bgcolor": "white",
           "lakecolor": "white",
           "landcolor": "#E5ECF6",
           "showlakes": true,
           "showland": true,
           "subunitcolor": "white"
          },
          "hoverlabel": {
           "align": "left"
          },
          "hovermode": "closest",
          "mapbox": {
           "style": "light"
          },
          "paper_bgcolor": "white",
          "plot_bgcolor": "#E5ECF6",
          "polar": {
           "angularaxis": {
            "gridcolor": "white",
            "linecolor": "white",
            "ticks": ""
           },
           "bgcolor": "#E5ECF6",
           "radialaxis": {
            "gridcolor": "white",
            "linecolor": "white",
            "ticks": ""
           }
          },
          "scene": {
           "xaxis": {
            "backgroundcolor": "#E5ECF6",
            "gridcolor": "white",
            "gridwidth": 2,
            "linecolor": "white",
            "showbackground": true,
            "ticks": "",
            "zerolinecolor": "white"
           },
           "yaxis": {
            "backgroundcolor": "#E5ECF6",
            "gridcolor": "white",
            "gridwidth": 2,
            "linecolor": "white",
            "showbackground": true,
            "ticks": "",
            "zerolinecolor": "white"
           },
           "zaxis": {
            "backgroundcolor": "#E5ECF6",
            "gridcolor": "white",
            "gridwidth": 2,
            "linecolor": "white",
            "showbackground": true,
            "ticks": "",
            "zerolinecolor": "white"
           }
          },
          "shapedefaults": {
           "line": {
            "color": "#2a3f5f"
           }
          },
          "ternary": {
           "aaxis": {
            "gridcolor": "white",
            "linecolor": "white",
            "ticks": ""
           },
           "baxis": {
            "gridcolor": "white",
            "linecolor": "white",
            "ticks": ""
           },
           "bgcolor": "#E5ECF6",
           "caxis": {
            "gridcolor": "white",
            "linecolor": "white",
            "ticks": ""
           }
          },
          "title": {
           "x": 0.05
          },
          "xaxis": {
           "automargin": true,
           "gridcolor": "white",
           "linecolor": "white",
           "ticks": "",
           "title": {
            "standoff": 15
           },
           "zerolinecolor": "white",
           "zerolinewidth": 2
          },
          "yaxis": {
           "automargin": true,
           "gridcolor": "white",
           "linecolor": "white",
           "ticks": "",
           "title": {
            "standoff": 15
           },
           "zerolinecolor": "white",
           "zerolinewidth": 2
          }
         }
        },
        "title": {
         "text": "Automatic Clustering OPTICS"
        },
        "width": 1000,
        "xaxis": {
         "showgrid": false,
         "zeroline": false
        },
        "yaxis": {
         "showgrid": false,
         "zeroline": false
        }
       }
      },
      "text/html": [
       "<div>                            <div id=\"66ee0659-0068-49c9-80dc-7358acd6b4be\" class=\"plotly-graph-div\" style=\"height:800px; width:1000px;\"></div>            <script type=\"text/javascript\">                require([\"plotly\"], function(Plotly) {                    window.PLOTLYENV=window.PLOTLYENV || {};                                    if (document.getElementById(\"66ee0659-0068-49c9-80dc-7358acd6b4be\")) {                    Plotly.newPlot(                        \"66ee0659-0068-49c9-80dc-7358acd6b4be\",                        [{\"marker\":{\"color\":0,\"size\":10},\"mode\":\"markers+text\",\"name\":\"C0 -> 2 points\",\"opacity\":1,\"text\":[\"AKER\",\"AKRBP\"],\"type\":\"scatter\",\"x\":[-1.8565362691879272,-1.620947241783142],\"y\":[-0.7046961784362793,-0.8527757525444031]},{\"marker\":{\"color\":1,\"size\":10},\"mode\":\"markers+text\",\"name\":\"C1 -> 4 points\",\"opacity\":1,\"text\":[\"EQNR\",\"FRO\",\"GJF\",\"GOGL\"],\"type\":\"scatter\",\"x\":[-2.327263355255127,-4.647899150848389,-2.7175378799438477,-3.704630136489868],\"y\":[-0.0622594952583313,-0.813723087310791,-0.16636039316654205,1.750542402267456]},{\"marker\":{\"color\":2,\"size\":10},\"mode\":\"markers+text\",\"name\":\"C2 -> 2 points\",\"opacity\":1,\"text\":[\"NEL\",\"NOD\"],\"type\":\"scatter\",\"x\":[-4.9272780418396,-1.7607645988464355],\"y\":[0.04409532621502876,0.33412930369377136]},{\"marker\":{\"color\":3,\"size\":10},\"mode\":\"markers+text\",\"name\":\"C3 -> 2 points\",\"opacity\":1,\"text\":[\"NHY\",\"ORK\"],\"type\":\"scatter\",\"x\":[-2.7053115367889404,-2.9513096809387207],\"y\":[-1.8663902282714844,-0.39618948101997375]},{\"marker\":{\"color\":4,\"size\":10},\"mode\":\"markers+text\",\"name\":\"C4 -> 4 points\",\"opacity\":1,\"text\":[\"SCHA\",\"STB\",\"SUBC\",\"TEL\"],\"type\":\"scatter\",\"x\":[-1.0526872873306274,-1.899683952331543,-1.5844266414642334,-2.7602458000183105],\"y\":[-0.19501875340938568,0.4486055076122284,1.307160496711731,-0.19871792197227478]},{\"marker\":{\"color\":5,\"size\":10},\"mode\":\"markers+text\",\"name\":\"C5 -> 3 points\",\"opacity\":1,\"text\":[\"ATLAS COPCO A\",\"ERICSSON B\",\"VOLVO B\"],\"type\":\"scatter\",\"x\":[-3.7478058338165283,-4.028833389282227,-3.523353338241577],\"y\":[0.33461031317710876,-0.6541391015052795,0.5722845196723938]},{\"marker\":{\"color\":6,\"size\":10},\"mode\":\"markers+text\",\"name\":\"C6 -> 3 points\",\"opacity\":1,\"text\":[\"SANDVIK\",\"ASSA ABLOY B\",\"SKANDINAVISKA ENSKILDA BANKEN A\"],\"type\":\"scatter\",\"x\":[-3.7398083209991455,-3.2710354328155518,-2.3834924697875977],\"y\":[0.43944963812828064,0.13889943063259125,0.6487670540809631]}],                        {\"height\":800,\"legend\":{\"title\":{\"text\":\"Clusters:\"}},\"template\":{\"data\":{\"bar\":[{\"error_x\":{\"color\":\"#2a3f5f\"},\"error_y\":{\"color\":\"#2a3f5f\"},\"marker\":{\"line\":{\"color\":\"#E5ECF6\",\"width\":0.5},\"pattern\":{\"fillmode\":\"overlay\",\"size\":10,\"solidity\":0.2}},\"type\":\"bar\"}],\"barpolar\":[{\"marker\":{\"line\":{\"color\":\"#E5ECF6\",\"width\":0.5},\"pattern\":{\"fillmode\":\"overlay\",\"size\":10,\"solidity\":0.2}},\"type\":\"barpolar\"}],\"carpet\":[{\"aaxis\":{\"endlinecolor\":\"#2a3f5f\",\"gridcolor\":\"white\",\"linecolor\":\"white\",\"minorgridcolor\":\"white\",\"startlinecolor\":\"#2a3f5f\"},\"baxis\":{\"endlinecolor\":\"#2a3f5f\",\"gridcolor\":\"white\",\"linecolor\":\"white\",\"minorgridcolor\":\"white\",\"startlinecolor\":\"#2a3f5f\"},\"type\":\"carpet\"}],\"choropleth\":[{\"colorbar\":{\"outlinewidth\":0,\"ticks\":\"\"},\"type\":\"choropleth\"}],\"contour\":[{\"colorbar\":{\"outlinewidth\":0,\"ticks\":\"\"},\"colorscale\":[[0.0,\"#0d0887\"],[0.1111111111111111,\"#46039f\"],[0.2222222222222222,\"#7201a8\"],[0.3333333333333333,\"#9c179e\"],[0.4444444444444444,\"#bd3786\"],[0.5555555555555556,\"#d8576b\"],[0.6666666666666666,\"#ed7953\"],[0.7777777777777778,\"#fb9f3a\"],[0.8888888888888888,\"#fdca26\"],[1.0,\"#f0f921\"]],\"type\":\"contour\"}],\"contourcarpet\":[{\"colorbar\":{\"outlinewidth\":0,\"ticks\":\"\"},\"type\":\"contourcarpet\"}],\"heatmap\":[{\"colorbar\":{\"outlinewidth\":0,\"ticks\":\"\"},\"colorscale\":[[0.0,\"#0d0887\"],[0.1111111111111111,\"#46039f\"],[0.2222222222222222,\"#7201a8\"],[0.3333333333333333,\"#9c179e\"],[0.4444444444444444,\"#bd3786\"],[0.5555555555555556,\"#d8576b\"],[0.6666666666666666,\"#ed7953\"],[0.7777777777777778,\"#fb9f3a\"],[0.8888888888888888,\"#fdca26\"],[1.0,\"#f0f921\"]],\"type\":\"heatmap\"}],\"heatmapgl\":[{\"colorbar\":{\"outlinewidth\":0,\"ticks\":\"\"},\"colorscale\":[[0.0,\"#0d0887\"],[0.1111111111111111,\"#46039f\"],[0.2222222222222222,\"#7201a8\"],[0.3333333333333333,\"#9c179e\"],[0.4444444444444444,\"#bd3786\"],[0.5555555555555556,\"#d8576b\"],[0.6666666666666666,\"#ed7953\"],[0.7777777777777778,\"#fb9f3a\"],[0.8888888888888888,\"#fdca26\"],[1.0,\"#f0f921\"]],\"type\":\"heatmapgl\"}],\"histogram\":[{\"marker\":{\"pattern\":{\"fillmode\":\"overlay\",\"size\":10,\"solidity\":0.2}},\"type\":\"histogram\"}],\"histogram2d\":[{\"colorbar\":{\"outlinewidth\":0,\"ticks\":\"\"},\"colorscale\":[[0.0,\"#0d0887\"],[0.1111111111111111,\"#46039f\"],[0.2222222222222222,\"#7201a8\"],[0.3333333333333333,\"#9c179e\"],[0.4444444444444444,\"#bd3786\"],[0.5555555555555556,\"#d8576b\"],[0.6666666666666666,\"#ed7953\"],[0.7777777777777778,\"#fb9f3a\"],[0.8888888888888888,\"#fdca26\"],[1.0,\"#f0f921\"]],\"type\":\"histogram2d\"}],\"histogram2dcontour\":[{\"colorbar\":{\"outlinewidth\":0,\"ticks\":\"\"},\"colorscale\":[[0.0,\"#0d0887\"],[0.1111111111111111,\"#46039f\"],[0.2222222222222222,\"#7201a8\"],[0.3333333333333333,\"#9c179e\"],[0.4444444444444444,\"#bd3786\"],[0.5555555555555556,\"#d8576b\"],[0.6666666666666666,\"#ed7953\"],[0.7777777777777778,\"#fb9f3a\"],[0.8888888888888888,\"#fdca26\"],[1.0,\"#f0f921\"]],\"type\":\"histogram2dcontour\"}],\"mesh3d\":[{\"colorbar\":{\"outlinewidth\":0,\"ticks\":\"\"},\"type\":\"mesh3d\"}],\"parcoords\":[{\"line\":{\"colorbar\":{\"outlinewidth\":0,\"ticks\":\"\"}},\"type\":\"parcoords\"}],\"pie\":[{\"automargin\":true,\"type\":\"pie\"}],\"scatter\":[{\"marker\":{\"colorbar\":{\"outlinewidth\":0,\"ticks\":\"\"}},\"type\":\"scatter\"}],\"scatter3d\":[{\"line\":{\"colorbar\":{\"outlinewidth\":0,\"ticks\":\"\"}},\"marker\":{\"colorbar\":{\"outlinewidth\":0,\"ticks\":\"\"}},\"type\":\"scatter3d\"}],\"scattercarpet\":[{\"marker\":{\"colorbar\":{\"outlinewidth\":0,\"ticks\":\"\"}},\"type\":\"scattercarpet\"}],\"scattergeo\":[{\"marker\":{\"colorbar\":{\"outlinewidth\":0,\"ticks\":\"\"}},\"type\":\"scattergeo\"}],\"scattergl\":[{\"marker\":{\"colorbar\":{\"outlinewidth\":0,\"ticks\":\"\"}},\"type\":\"scattergl\"}],\"scattermapbox\":[{\"marker\":{\"colorbar\":{\"outlinewidth\":0,\"ticks\":\"\"}},\"type\":\"scattermapbox\"}],\"scatterpolar\":[{\"marker\":{\"colorbar\":{\"outlinewidth\":0,\"ticks\":\"\"}},\"type\":\"scatterpolar\"}],\"scatterpolargl\":[{\"marker\":{\"colorbar\":{\"outlinewidth\":0,\"ticks\":\"\"}},\"type\":\"scatterpolargl\"}],\"scatterternary\":[{\"marker\":{\"colorbar\":{\"outlinewidth\":0,\"ticks\":\"\"}},\"type\":\"scatterternary\"}],\"surface\":[{\"colorbar\":{\"outlinewidth\":0,\"ticks\":\"\"},\"colorscale\":[[0.0,\"#0d0887\"],[0.1111111111111111,\"#46039f\"],[0.2222222222222222,\"#7201a8\"],[0.3333333333333333,\"#9c179e\"],[0.4444444444444444,\"#bd3786\"],[0.5555555555555556,\"#d8576b\"],[0.6666666666666666,\"#ed7953\"],[0.7777777777777778,\"#fb9f3a\"],[0.8888888888888888,\"#fdca26\"],[1.0,\"#f0f921\"]],\"type\":\"surface\"}],\"table\":[{\"cells\":{\"fill\":{\"color\":\"#EBF0F8\"},\"line\":{\"color\":\"white\"}},\"header\":{\"fill\":{\"color\":\"#C8D4E3\"},\"line\":{\"color\":\"white\"}},\"type\":\"table\"}]},\"layout\":{\"annotationdefaults\":{\"arrowcolor\":\"#2a3f5f\",\"arrowhead\":0,\"arrowwidth\":1},\"autotypenumbers\":\"strict\",\"coloraxis\":{\"colorbar\":{\"outlinewidth\":0,\"ticks\":\"\"}},\"colorscale\":{\"diverging\":[[0,\"#8e0152\"],[0.1,\"#c51b7d\"],[0.2,\"#de77ae\"],[0.3,\"#f1b6da\"],[0.4,\"#fde0ef\"],[0.5,\"#f7f7f7\"],[0.6,\"#e6f5d0\"],[0.7,\"#b8e186\"],[0.8,\"#7fbc41\"],[0.9,\"#4d9221\"],[1,\"#276419\"]],\"sequential\":[[0.0,\"#0d0887\"],[0.1111111111111111,\"#46039f\"],[0.2222222222222222,\"#7201a8\"],[0.3333333333333333,\"#9c179e\"],[0.4444444444444444,\"#bd3786\"],[0.5555555555555556,\"#d8576b\"],[0.6666666666666666,\"#ed7953\"],[0.7777777777777778,\"#fb9f3a\"],[0.8888888888888888,\"#fdca26\"],[1.0,\"#f0f921\"]],\"sequentialminus\":[[0.0,\"#0d0887\"],[0.1111111111111111,\"#46039f\"],[0.2222222222222222,\"#7201a8\"],[0.3333333333333333,\"#9c179e\"],[0.4444444444444444,\"#bd3786\"],[0.5555555555555556,\"#d8576b\"],[0.6666666666666666,\"#ed7953\"],[0.7777777777777778,\"#fb9f3a\"],[0.8888888888888888,\"#fdca26\"],[1.0,\"#f0f921\"]]},\"colorway\":[\"#636efa\",\"#EF553B\",\"#00cc96\",\"#ab63fa\",\"#FFA15A\",\"#19d3f3\",\"#FF6692\",\"#B6E880\",\"#FF97FF\",\"#FECB52\"],\"font\":{\"color\":\"#2a3f5f\"},\"geo\":{\"bgcolor\":\"white\",\"lakecolor\":\"white\",\"landcolor\":\"#E5ECF6\",\"showlakes\":true,\"showland\":true,\"subunitcolor\":\"white\"},\"hoverlabel\":{\"align\":\"left\"},\"hovermode\":\"closest\",\"mapbox\":{\"style\":\"light\"},\"paper_bgcolor\":\"white\",\"plot_bgcolor\":\"#E5ECF6\",\"polar\":{\"angularaxis\":{\"gridcolor\":\"white\",\"linecolor\":\"white\",\"ticks\":\"\"},\"bgcolor\":\"#E5ECF6\",\"radialaxis\":{\"gridcolor\":\"white\",\"linecolor\":\"white\",\"ticks\":\"\"}},\"scene\":{\"xaxis\":{\"backgroundcolor\":\"#E5ECF6\",\"gridcolor\":\"white\",\"gridwidth\":2,\"linecolor\":\"white\",\"showbackground\":true,\"ticks\":\"\",\"zerolinecolor\":\"white\"},\"yaxis\":{\"backgroundcolor\":\"#E5ECF6\",\"gridcolor\":\"white\",\"gridwidth\":2,\"linecolor\":\"white\",\"showbackground\":true,\"ticks\":\"\",\"zerolinecolor\":\"white\"},\"zaxis\":{\"backgroundcolor\":\"#E5ECF6\",\"gridcolor\":\"white\",\"gridwidth\":2,\"linecolor\":\"white\",\"showbackground\":true,\"ticks\":\"\",\"zerolinecolor\":\"white\"}},\"shapedefaults\":{\"line\":{\"color\":\"#2a3f5f\"}},\"ternary\":{\"aaxis\":{\"gridcolor\":\"white\",\"linecolor\":\"white\",\"ticks\":\"\"},\"baxis\":{\"gridcolor\":\"white\",\"linecolor\":\"white\",\"ticks\":\"\"},\"bgcolor\":\"#E5ECF6\",\"caxis\":{\"gridcolor\":\"white\",\"linecolor\":\"white\",\"ticks\":\"\"}},\"title\":{\"x\":0.05},\"xaxis\":{\"automargin\":true,\"gridcolor\":\"white\",\"linecolor\":\"white\",\"ticks\":\"\",\"title\":{\"standoff\":15},\"zerolinecolor\":\"white\",\"zerolinewidth\":2},\"yaxis\":{\"automargin\":true,\"gridcolor\":\"white\",\"linecolor\":\"white\",\"ticks\":\"\",\"title\":{\"standoff\":15},\"zerolinecolor\":\"white\",\"zerolinewidth\":2}}},\"title\":{\"text\":\"Automatic Clustering OPTICS\"},\"width\":1000,\"xaxis\":{\"showgrid\":false,\"zeroline\":false},\"yaxis\":{\"showgrid\":false,\"zeroline\":false}},                        {\"responsive\": true}                    ).then(function(){\n",
       "                            \n",
       "var gd = document.getElementById('66ee0659-0068-49c9-80dc-7358acd6b4be');\n",
       "var x = new MutationObserver(function (mutations, observer) {{\n",
       "        var display = window.getComputedStyle(gd).display;\n",
       "        if (!display || display === 'none') {{\n",
       "            console.log([gd, 'removed!']);\n",
       "            Plotly.purge(gd);\n",
       "            observer.disconnect();\n",
       "        }}\n",
       "}});\n",
       "\n",
       "// Listen for the removal of the full notebook cells\n",
       "var notebookContainer = gd.closest('#notebook-container');\n",
       "if (notebookContainer) {{\n",
       "    x.observe(notebookContainer, {childList: true});\n",
       "}}\n",
       "\n",
       "// Listen for the clearing of the current output cell\n",
       "var outputEl = gd.closest('.output');\n",
       "if (outputEl) {{\n",
       "    x.observe(outputEl, {childList: true});\n",
       "}}\n",
       "\n",
       "                        })                };                });            </script>        </div>"
      ]
     },
     "metadata": {},
     "output_type": "display_data"
    }
   ],
   "source": [
    "fig = go.Figure()\n",
    "\n",
    "clusters = {}\n",
    "\n",
    "for clust in set(labels[labels!=-1]):\n",
    "    \n",
    "\n",
    "    fig.add_trace(go.Scatter(\n",
    "                        x = X_tsne[(labels==clust), 0],\n",
    "                        y = X_tsne[(labels==clust), 1],\n",
    "                        mode = 'markers+text',\n",
    "                        text = label_series[(label_series == clust)].index,\n",
    "                        marker = dict(color=clust,\n",
    "                                      size=10),\n",
    "                        name = f'C{clust} -> {len(X_tsne[(labels==clust)])} points',\n",
    "                        opacity = 1\n",
    "    ))\n",
    "    \n",
    "    ### Fasilitating adding of shapes later on\n",
    "    \n",
    "    x = X_tsne[(labels==clust), 0]\n",
    "    y = X_tsne[(labels==clust), 1]\n",
    "    \n",
    "    margin = 0.3\n",
    "    clusters[f'Cluster{clust}'] = [dict(type='circle',\n",
    "                                   xref='x', yref='y',\n",
    "                                   x0=min(x) - margin, y0=min(y) - margin,\n",
    "                                   x1=max(x) + margin, y1=max(y) + margin,\n",
    "                                   line=dict(color=clust))]\n",
    "\n",
    "### Noise points\n",
    "\n",
    "# fig.add_trace(go.Scatter(\n",
    "#                     x = X_tsne[(label_series_all ==-1), 0],\n",
    "#                     y = X_tsne[(label_series_all ==-1), 1],\n",
    "#                     mode = 'markers',\n",
    "#                     marker = dict(color='blue'),\n",
    "#                     name = 'non-cluster',\n",
    "#                     opacity = 0.1\n",
    "# ))\n",
    "\n",
    "### Making buttons\n",
    "\n",
    "buttons = {}\n",
    "for c, v in clusters.items():\n",
    "    buttons[c] = dict(label  = c,\n",
    "                      method = 'relayout',\n",
    "                      args   = ['shapes', v])\n",
    "    \n",
    "    \n",
    "    \n",
    "    \n",
    "\n",
    "\n",
    "\n",
    "fig.update_layout(title = f'Automatic Clustering {CLUSTERING_MODEL}',\n",
    "                  \n",
    "                  width=1000,\n",
    "                  height=800,\n",
    "                  \n",
    "                  yaxis_zeroline=False,\n",
    "                  yaxis=dict(showgrid=False),\n",
    "#                   yaxis_showticklabels = False,\n",
    "                  \n",
    "                  xaxis_zeroline=False,\n",
    "                  xaxis=dict(showgrid=False),\n",
    "#                   xaxis_showticklabels = False,\n",
    "                  \n",
    "                  legend_title_text = 'Clusters:',\n",
    "                  \n",
    "#                       updatemenus = [\n",
    "        \n",
    "#                         dict(buttons=list(buttons.values()))\n",
    "#                       ]\n",
    "                 )\n",
    "\n"
   ]
  },
  {
   "cell_type": "code",
   "execution_count": 113,
   "id": "gorgeous-gnome",
   "metadata": {},
   "outputs": [
    {
     "data": {
      "application/vnd.plotly.v1+json": {
       "config": {
        "plotlyServerURL": "https://plot.ly"
       },
       "data": [
        {
         "marker": {
          "color": "red",
          "size": 10
         },
         "mode": "markers+text",
         "opacity": 1,
         "text": [
          "AKER",
          "AKRBP"
         ],
         "type": "scatter",
         "x": [
          -1.8565362691879272,
          -1.620947241783142
         ],
         "xaxis": "x",
         "y": [
          -0.7046961784362793,
          -0.8527757525444031
         ],
         "yaxis": "y"
        },
        {
         "marker": {
          "color": "blue",
          "size": 10
         },
         "mode": "markers+text",
         "opacity": 1,
         "text": [
          "EQNR",
          "FRO",
          "GJF",
          "GOGL"
         ],
         "type": "scatter",
         "x": [
          -2.327263355255127,
          -4.647899150848389,
          -2.7175378799438477,
          -3.704630136489868
         ],
         "xaxis": "x",
         "y": [
          -0.0622594952583313,
          -0.813723087310791,
          -0.16636039316654205,
          1.750542402267456
         ],
         "yaxis": "y"
        },
        {
         "marker": {
          "color": "green",
          "size": 10
         },
         "mode": "markers+text",
         "opacity": 1,
         "text": [
          "NEL",
          "NOD"
         ],
         "type": "scatter",
         "x": [
          -4.9272780418396,
          -1.7607645988464355
         ],
         "xaxis": "x",
         "y": [
          0.04409532621502876,
          0.33412930369377136
         ],
         "yaxis": "y"
        },
        {
         "marker": {
          "color": "pink",
          "size": 10
         },
         "mode": "markers+text",
         "opacity": 1,
         "text": [
          "NHY",
          "ORK"
         ],
         "type": "scatter",
         "x": [
          -2.7053115367889404,
          -2.9513096809387207
         ],
         "xaxis": "x",
         "y": [
          -1.8663902282714844,
          -0.39618948101997375
         ],
         "yaxis": "y"
        },
        {
         "marker": {
          "color": "purple",
          "size": 10
         },
         "mode": "markers+text",
         "opacity": 1,
         "text": [
          "SCHA",
          "STB",
          "SUBC",
          "TEL"
         ],
         "type": "scatter",
         "x": [
          -1.0526872873306274,
          -1.899683952331543,
          -1.5844266414642334,
          -2.7602458000183105
         ],
         "xaxis": "x",
         "y": [
          -0.19501875340938568,
          0.4486055076122284,
          1.307160496711731,
          -0.19871792197227478
         ],
         "yaxis": "y"
        },
        {
         "marker": {
          "color": "grey",
          "size": 10
         },
         "mode": "markers+text",
         "opacity": 1,
         "text": [
          "ATLAS COPCO A",
          "ERICSSON B",
          "VOLVO B"
         ],
         "type": "scatter",
         "x": [
          -3.7478058338165283,
          -4.028833389282227,
          -3.523353338241577
         ],
         "xaxis": "x",
         "y": [
          0.33461031317710876,
          -0.6541391015052795,
          0.5722845196723938
         ],
         "yaxis": "y"
        },
        {
         "marker": {
          "color": "red",
          "size": 8
         },
         "mode": "markers",
         "name": "0",
         "type": "scatter",
         "x": [
          0,
          1
         ],
         "xaxis": "x2",
         "y": [
          null,
          2.405876237743426
         ],
         "yaxis": "y2"
        },
        {
         "marker": {
          "color": "blue",
          "size": 8
         },
         "mode": "markers",
         "name": "1",
         "type": "scatter",
         "x": [
          3,
          4,
          5,
          6
         ],
         "xaxis": "x2",
         "y": [
          2.2461414331635687,
          1.206438572509856,
          0.9279669562643937,
          1.0630035501265864
         ],
         "yaxis": "y2"
        },
        {
         "marker": {
          "color": "green",
          "size": 8
         },
         "mode": "markers",
         "name": "2",
         "type": "scatter",
         "x": [
          8,
          9
         ],
         "xaxis": "x2",
         "y": [
          1.1977039411042625,
          0.6529432410708069
         ],
         "yaxis": "y2"
        },
        {
         "marker": {
          "color": "pink",
          "size": 8
         },
         "mode": "markers",
         "name": "3",
         "type": "scatter",
         "x": [
          10,
          11
         ],
         "xaxis": "x2",
         "y": [
          0.7812073616680514,
          0.73035854150953
         ],
         "yaxis": "y2"
        },
        {
         "marker": {
          "color": "purple",
          "size": 8
         },
         "mode": "markers",
         "name": "4",
         "type": "scatter",
         "x": [
          14,
          15,
          16,
          17
         ],
         "xaxis": "x2",
         "y": [
          1.1832051654146265,
          0.82171036357643,
          0.7762538906503486,
          0.9517654333031027
         ],
         "yaxis": "y2"
        },
        {
         "marker": {
          "color": "grey",
          "size": 8
         },
         "mode": "markers",
         "name": "5",
         "type": "scatter",
         "x": [
          20,
          21,
          22
         ],
         "xaxis": "x2",
         "y": [
          2.116635819453137,
          0.34834616477994196,
          0.704341696404644
         ],
         "yaxis": "y2"
        }
       ],
       "layout": {
        "annotations": [
         {
          "font": {
           "size": 16
          },
          "showarrow": false,
          "text": "Reachability",
          "textangle": 90,
          "x": 0.98,
          "xanchor": "left",
          "xref": "paper",
          "y": 0.09000000000000001,
          "yanchor": "middle",
          "yref": "paper"
         }
        ],
        "height": 800,
        "legend": {
         "title": {
          "text": "Clusters:"
         }
        },
        "shapes": [
         {
          "line": {
           "color": "black",
           "dash": "dashdot",
           "width": 1
          },
          "type": "line",
          "x0": 0,
          "x1": 1,
          "xref": "x2 domain",
          "y0": 0.5,
          "y1": 0.5,
          "yref": "y2"
         },
         {
          "line": {
           "color": "black",
           "dash": "dash",
           "width": 1
          },
          "type": "line",
          "x0": 0,
          "x1": 1,
          "xref": "x2 domain",
          "y0": 2,
          "y1": 2,
          "yref": "y2"
         }
        ],
        "template": {
         "data": {
          "bar": [
           {
            "error_x": {
             "color": "#2a3f5f"
            },
            "error_y": {
             "color": "#2a3f5f"
            },
            "marker": {
             "line": {
              "color": "#E5ECF6",
              "width": 0.5
             },
             "pattern": {
              "fillmode": "overlay",
              "size": 10,
              "solidity": 0.2
             }
            },
            "type": "bar"
           }
          ],
          "barpolar": [
           {
            "marker": {
             "line": {
              "color": "#E5ECF6",
              "width": 0.5
             },
             "pattern": {
              "fillmode": "overlay",
              "size": 10,
              "solidity": 0.2
             }
            },
            "type": "barpolar"
           }
          ],
          "carpet": [
           {
            "aaxis": {
             "endlinecolor": "#2a3f5f",
             "gridcolor": "white",
             "linecolor": "white",
             "minorgridcolor": "white",
             "startlinecolor": "#2a3f5f"
            },
            "baxis": {
             "endlinecolor": "#2a3f5f",
             "gridcolor": "white",
             "linecolor": "white",
             "minorgridcolor": "white",
             "startlinecolor": "#2a3f5f"
            },
            "type": "carpet"
           }
          ],
          "choropleth": [
           {
            "colorbar": {
             "outlinewidth": 0,
             "ticks": ""
            },
            "type": "choropleth"
           }
          ],
          "contour": [
           {
            "colorbar": {
             "outlinewidth": 0,
             "ticks": ""
            },
            "colorscale": [
             [
              0,
              "#0d0887"
             ],
             [
              0.1111111111111111,
              "#46039f"
             ],
             [
              0.2222222222222222,
              "#7201a8"
             ],
             [
              0.3333333333333333,
              "#9c179e"
             ],
             [
              0.4444444444444444,
              "#bd3786"
             ],
             [
              0.5555555555555556,
              "#d8576b"
             ],
             [
              0.6666666666666666,
              "#ed7953"
             ],
             [
              0.7777777777777778,
              "#fb9f3a"
             ],
             [
              0.8888888888888888,
              "#fdca26"
             ],
             [
              1,
              "#f0f921"
             ]
            ],
            "type": "contour"
           }
          ],
          "contourcarpet": [
           {
            "colorbar": {
             "outlinewidth": 0,
             "ticks": ""
            },
            "type": "contourcarpet"
           }
          ],
          "heatmap": [
           {
            "colorbar": {
             "outlinewidth": 0,
             "ticks": ""
            },
            "colorscale": [
             [
              0,
              "#0d0887"
             ],
             [
              0.1111111111111111,
              "#46039f"
             ],
             [
              0.2222222222222222,
              "#7201a8"
             ],
             [
              0.3333333333333333,
              "#9c179e"
             ],
             [
              0.4444444444444444,
              "#bd3786"
             ],
             [
              0.5555555555555556,
              "#d8576b"
             ],
             [
              0.6666666666666666,
              "#ed7953"
             ],
             [
              0.7777777777777778,
              "#fb9f3a"
             ],
             [
              0.8888888888888888,
              "#fdca26"
             ],
             [
              1,
              "#f0f921"
             ]
            ],
            "type": "heatmap"
           }
          ],
          "heatmapgl": [
           {
            "colorbar": {
             "outlinewidth": 0,
             "ticks": ""
            },
            "colorscale": [
             [
              0,
              "#0d0887"
             ],
             [
              0.1111111111111111,
              "#46039f"
             ],
             [
              0.2222222222222222,
              "#7201a8"
             ],
             [
              0.3333333333333333,
              "#9c179e"
             ],
             [
              0.4444444444444444,
              "#bd3786"
             ],
             [
              0.5555555555555556,
              "#d8576b"
             ],
             [
              0.6666666666666666,
              "#ed7953"
             ],
             [
              0.7777777777777778,
              "#fb9f3a"
             ],
             [
              0.8888888888888888,
              "#fdca26"
             ],
             [
              1,
              "#f0f921"
             ]
            ],
            "type": "heatmapgl"
           }
          ],
          "histogram": [
           {
            "marker": {
             "pattern": {
              "fillmode": "overlay",
              "size": 10,
              "solidity": 0.2
             }
            },
            "type": "histogram"
           }
          ],
          "histogram2d": [
           {
            "colorbar": {
             "outlinewidth": 0,
             "ticks": ""
            },
            "colorscale": [
             [
              0,
              "#0d0887"
             ],
             [
              0.1111111111111111,
              "#46039f"
             ],
             [
              0.2222222222222222,
              "#7201a8"
             ],
             [
              0.3333333333333333,
              "#9c179e"
             ],
             [
              0.4444444444444444,
              "#bd3786"
             ],
             [
              0.5555555555555556,
              "#d8576b"
             ],
             [
              0.6666666666666666,
              "#ed7953"
             ],
             [
              0.7777777777777778,
              "#fb9f3a"
             ],
             [
              0.8888888888888888,
              "#fdca26"
             ],
             [
              1,
              "#f0f921"
             ]
            ],
            "type": "histogram2d"
           }
          ],
          "histogram2dcontour": [
           {
            "colorbar": {
             "outlinewidth": 0,
             "ticks": ""
            },
            "colorscale": [
             [
              0,
              "#0d0887"
             ],
             [
              0.1111111111111111,
              "#46039f"
             ],
             [
              0.2222222222222222,
              "#7201a8"
             ],
             [
              0.3333333333333333,
              "#9c179e"
             ],
             [
              0.4444444444444444,
              "#bd3786"
             ],
             [
              0.5555555555555556,
              "#d8576b"
             ],
             [
              0.6666666666666666,
              "#ed7953"
             ],
             [
              0.7777777777777778,
              "#fb9f3a"
             ],
             [
              0.8888888888888888,
              "#fdca26"
             ],
             [
              1,
              "#f0f921"
             ]
            ],
            "type": "histogram2dcontour"
           }
          ],
          "mesh3d": [
           {
            "colorbar": {
             "outlinewidth": 0,
             "ticks": ""
            },
            "type": "mesh3d"
           }
          ],
          "parcoords": [
           {
            "line": {
             "colorbar": {
              "outlinewidth": 0,
              "ticks": ""
             }
            },
            "type": "parcoords"
           }
          ],
          "pie": [
           {
            "automargin": true,
            "type": "pie"
           }
          ],
          "scatter": [
           {
            "marker": {
             "colorbar": {
              "outlinewidth": 0,
              "ticks": ""
             }
            },
            "type": "scatter"
           }
          ],
          "scatter3d": [
           {
            "line": {
             "colorbar": {
              "outlinewidth": 0,
              "ticks": ""
             }
            },
            "marker": {
             "colorbar": {
              "outlinewidth": 0,
              "ticks": ""
             }
            },
            "type": "scatter3d"
           }
          ],
          "scattercarpet": [
           {
            "marker": {
             "colorbar": {
              "outlinewidth": 0,
              "ticks": ""
             }
            },
            "type": "scattercarpet"
           }
          ],
          "scattergeo": [
           {
            "marker": {
             "colorbar": {
              "outlinewidth": 0,
              "ticks": ""
             }
            },
            "type": "scattergeo"
           }
          ],
          "scattergl": [
           {
            "marker": {
             "colorbar": {
              "outlinewidth": 0,
              "ticks": ""
             }
            },
            "type": "scattergl"
           }
          ],
          "scattermapbox": [
           {
            "marker": {
             "colorbar": {
              "outlinewidth": 0,
              "ticks": ""
             }
            },
            "type": "scattermapbox"
           }
          ],
          "scatterpolar": [
           {
            "marker": {
             "colorbar": {
              "outlinewidth": 0,
              "ticks": ""
             }
            },
            "type": "scatterpolar"
           }
          ],
          "scatterpolargl": [
           {
            "marker": {
             "colorbar": {
              "outlinewidth": 0,
              "ticks": ""
             }
            },
            "type": "scatterpolargl"
           }
          ],
          "scatterternary": [
           {
            "marker": {
             "colorbar": {
              "outlinewidth": 0,
              "ticks": ""
             }
            },
            "type": "scatterternary"
           }
          ],
          "surface": [
           {
            "colorbar": {
             "outlinewidth": 0,
             "ticks": ""
            },
            "colorscale": [
             [
              0,
              "#0d0887"
             ],
             [
              0.1111111111111111,
              "#46039f"
             ],
             [
              0.2222222222222222,
              "#7201a8"
             ],
             [
              0.3333333333333333,
              "#9c179e"
             ],
             [
              0.4444444444444444,
              "#bd3786"
             ],
             [
              0.5555555555555556,
              "#d8576b"
             ],
             [
              0.6666666666666666,
              "#ed7953"
             ],
             [
              0.7777777777777778,
              "#fb9f3a"
             ],
             [
              0.8888888888888888,
              "#fdca26"
             ],
             [
              1,
              "#f0f921"
             ]
            ],
            "type": "surface"
           }
          ],
          "table": [
           {
            "cells": {
             "fill": {
              "color": "#EBF0F8"
             },
             "line": {
              "color": "white"
             }
            },
            "header": {
             "fill": {
              "color": "#C8D4E3"
             },
             "line": {
              "color": "white"
             }
            },
            "type": "table"
           }
          ]
         },
         "layout": {
          "annotationdefaults": {
           "arrowcolor": "#2a3f5f",
           "arrowhead": 0,
           "arrowwidth": 1
          },
          "autotypenumbers": "strict",
          "coloraxis": {
           "colorbar": {
            "outlinewidth": 0,
            "ticks": ""
           }
          },
          "colorscale": {
           "diverging": [
            [
             0,
             "#8e0152"
            ],
            [
             0.1,
             "#c51b7d"
            ],
            [
             0.2,
             "#de77ae"
            ],
            [
             0.3,
             "#f1b6da"
            ],
            [
             0.4,
             "#fde0ef"
            ],
            [
             0.5,
             "#f7f7f7"
            ],
            [
             0.6,
             "#e6f5d0"
            ],
            [
             0.7,
             "#b8e186"
            ],
            [
             0.8,
             "#7fbc41"
            ],
            [
             0.9,
             "#4d9221"
            ],
            [
             1,
             "#276419"
            ]
           ],
           "sequential": [
            [
             0,
             "#0d0887"
            ],
            [
             0.1111111111111111,
             "#46039f"
            ],
            [
             0.2222222222222222,
             "#7201a8"
            ],
            [
             0.3333333333333333,
             "#9c179e"
            ],
            [
             0.4444444444444444,
             "#bd3786"
            ],
            [
             0.5555555555555556,
             "#d8576b"
            ],
            [
             0.6666666666666666,
             "#ed7953"
            ],
            [
             0.7777777777777778,
             "#fb9f3a"
            ],
            [
             0.8888888888888888,
             "#fdca26"
            ],
            [
             1,
             "#f0f921"
            ]
           ],
           "sequentialminus": [
            [
             0,
             "#0d0887"
            ],
            [
             0.1111111111111111,
             "#46039f"
            ],
            [
             0.2222222222222222,
             "#7201a8"
            ],
            [
             0.3333333333333333,
             "#9c179e"
            ],
            [
             0.4444444444444444,
             "#bd3786"
            ],
            [
             0.5555555555555556,
             "#d8576b"
            ],
            [
             0.6666666666666666,
             "#ed7953"
            ],
            [
             0.7777777777777778,
             "#fb9f3a"
            ],
            [
             0.8888888888888888,
             "#fdca26"
            ],
            [
             1,
             "#f0f921"
            ]
           ]
          },
          "colorway": [
           "#636efa",
           "#EF553B",
           "#00cc96",
           "#ab63fa",
           "#FFA15A",
           "#19d3f3",
           "#FF6692",
           "#B6E880",
           "#FF97FF",
           "#FECB52"
          ],
          "font": {
           "color": "#2a3f5f"
          },
          "geo": {
           "bgcolor": "white",
           "lakecolor": "white",
           "landcolor": "#E5ECF6",
           "showlakes": true,
           "showland": true,
           "subunitcolor": "white"
          },
          "hoverlabel": {
           "align": "left"
          },
          "hovermode": "closest",
          "mapbox": {
           "style": "light"
          },
          "paper_bgcolor": "white",
          "plot_bgcolor": "#E5ECF6",
          "polar": {
           "angularaxis": {
            "gridcolor": "white",
            "linecolor": "white",
            "ticks": ""
           },
           "bgcolor": "#E5ECF6",
           "radialaxis": {
            "gridcolor": "white",
            "linecolor": "white",
            "ticks": ""
           }
          },
          "scene": {
           "xaxis": {
            "backgroundcolor": "#E5ECF6",
            "gridcolor": "white",
            "gridwidth": 2,
            "linecolor": "white",
            "showbackground": true,
            "ticks": "",
            "zerolinecolor": "white"
           },
           "yaxis": {
            "backgroundcolor": "#E5ECF6",
            "gridcolor": "white",
            "gridwidth": 2,
            "linecolor": "white",
            "showbackground": true,
            "ticks": "",
            "zerolinecolor": "white"
           },
           "zaxis": {
            "backgroundcolor": "#E5ECF6",
            "gridcolor": "white",
            "gridwidth": 2,
            "linecolor": "white",
            "showbackground": true,
            "ticks": "",
            "zerolinecolor": "white"
           }
          },
          "shapedefaults": {
           "line": {
            "color": "#2a3f5f"
           }
          },
          "ternary": {
           "aaxis": {
            "gridcolor": "white",
            "linecolor": "white",
            "ticks": ""
           },
           "baxis": {
            "gridcolor": "white",
            "linecolor": "white",
            "ticks": ""
           },
           "bgcolor": "#E5ECF6",
           "caxis": {
            "gridcolor": "white",
            "linecolor": "white",
            "ticks": ""
           }
          },
          "title": {
           "x": 0.05
          },
          "xaxis": {
           "automargin": true,
           "gridcolor": "white",
           "linecolor": "white",
           "ticks": "",
           "title": {
            "standoff": 15
           },
           "zerolinecolor": "white",
           "zerolinewidth": 2
          },
          "yaxis": {
           "automargin": true,
           "gridcolor": "white",
           "linecolor": "white",
           "ticks": "",
           "title": {
            "standoff": 15
           },
           "zerolinecolor": "white",
           "zerolinewidth": 2
          }
         }
        },
        "title": {
         "text": "Automatic Clustering OPTICS"
        },
        "width": 1000,
        "xaxis": {
         "anchor": "y",
         "domain": [
          0,
          0.98
         ],
         "showgrid": false,
         "zeroline": false
        },
        "xaxis2": {
         "anchor": "y2",
         "domain": [
          0,
          0.98
         ]
        },
        "yaxis": {
         "anchor": "x",
         "domain": [
          0.28,
          1
         ],
         "showgrid": false,
         "zeroline": false
        },
        "yaxis2": {
         "anchor": "x2",
         "domain": [
          0,
          0.18000000000000002
         ]
        }
       }
      },
      "text/html": [
       "<div>                            <div id=\"c8544ca6-0167-47bd-8971-13bf3498eca0\" class=\"plotly-graph-div\" style=\"height:800px; width:1000px;\"></div>            <script type=\"text/javascript\">                require([\"plotly\"], function(Plotly) {                    window.PLOTLYENV=window.PLOTLYENV || {};                                    if (document.getElementById(\"c8544ca6-0167-47bd-8971-13bf3498eca0\")) {                    Plotly.newPlot(                        \"c8544ca6-0167-47bd-8971-13bf3498eca0\",                        [{\"marker\":{\"color\":\"red\",\"size\":10},\"mode\":\"markers+text\",\"opacity\":1,\"text\":[\"AKER\",\"AKRBP\"],\"type\":\"scatter\",\"x\":[-1.8565362691879272,-1.620947241783142],\"xaxis\":\"x\",\"y\":[-0.7046961784362793,-0.8527757525444031],\"yaxis\":\"y\"},{\"marker\":{\"color\":\"blue\",\"size\":10},\"mode\":\"markers+text\",\"opacity\":1,\"text\":[\"EQNR\",\"FRO\",\"GJF\",\"GOGL\"],\"type\":\"scatter\",\"x\":[-2.327263355255127,-4.647899150848389,-2.7175378799438477,-3.704630136489868],\"xaxis\":\"x\",\"y\":[-0.0622594952583313,-0.813723087310791,-0.16636039316654205,1.750542402267456],\"yaxis\":\"y\"},{\"marker\":{\"color\":\"green\",\"size\":10},\"mode\":\"markers+text\",\"opacity\":1,\"text\":[\"NEL\",\"NOD\"],\"type\":\"scatter\",\"x\":[-4.9272780418396,-1.7607645988464355],\"xaxis\":\"x\",\"y\":[0.04409532621502876,0.33412930369377136],\"yaxis\":\"y\"},{\"marker\":{\"color\":\"pink\",\"size\":10},\"mode\":\"markers+text\",\"opacity\":1,\"text\":[\"NHY\",\"ORK\"],\"type\":\"scatter\",\"x\":[-2.7053115367889404,-2.9513096809387207],\"xaxis\":\"x\",\"y\":[-1.8663902282714844,-0.39618948101997375],\"yaxis\":\"y\"},{\"marker\":{\"color\":\"purple\",\"size\":10},\"mode\":\"markers+text\",\"opacity\":1,\"text\":[\"SCHA\",\"STB\",\"SUBC\",\"TEL\"],\"type\":\"scatter\",\"x\":[-1.0526872873306274,-1.899683952331543,-1.5844266414642334,-2.7602458000183105],\"xaxis\":\"x\",\"y\":[-0.19501875340938568,0.4486055076122284,1.307160496711731,-0.19871792197227478],\"yaxis\":\"y\"},{\"marker\":{\"color\":\"grey\",\"size\":10},\"mode\":\"markers+text\",\"opacity\":1,\"text\":[\"ATLAS COPCO A\",\"ERICSSON B\",\"VOLVO B\"],\"type\":\"scatter\",\"x\":[-3.7478058338165283,-4.028833389282227,-3.523353338241577],\"xaxis\":\"x\",\"y\":[0.33461031317710876,-0.6541391015052795,0.5722845196723938],\"yaxis\":\"y\"},{\"marker\":{\"color\":\"red\",\"size\":8},\"mode\":\"markers\",\"name\":\"0\",\"type\":\"scatter\",\"x\":[0,1],\"xaxis\":\"x2\",\"y\":[null,2.405876237743426],\"yaxis\":\"y2\"},{\"marker\":{\"color\":\"blue\",\"size\":8},\"mode\":\"markers\",\"name\":\"1\",\"type\":\"scatter\",\"x\":[3,4,5,6],\"xaxis\":\"x2\",\"y\":[2.2461414331635687,1.206438572509856,0.9279669562643937,1.0630035501265864],\"yaxis\":\"y2\"},{\"marker\":{\"color\":\"green\",\"size\":8},\"mode\":\"markers\",\"name\":\"2\",\"type\":\"scatter\",\"x\":[8,9],\"xaxis\":\"x2\",\"y\":[1.1977039411042625,0.6529432410708069],\"yaxis\":\"y2\"},{\"marker\":{\"color\":\"pink\",\"size\":8},\"mode\":\"markers\",\"name\":\"3\",\"type\":\"scatter\",\"x\":[10,11],\"xaxis\":\"x2\",\"y\":[0.7812073616680514,0.73035854150953],\"yaxis\":\"y2\"},{\"marker\":{\"color\":\"purple\",\"size\":8},\"mode\":\"markers\",\"name\":\"4\",\"type\":\"scatter\",\"x\":[14,15,16,17],\"xaxis\":\"x2\",\"y\":[1.1832051654146265,0.82171036357643,0.7762538906503486,0.9517654333031027],\"yaxis\":\"y2\"},{\"marker\":{\"color\":\"grey\",\"size\":8},\"mode\":\"markers\",\"name\":\"5\",\"type\":\"scatter\",\"x\":[20,21,22],\"xaxis\":\"x2\",\"y\":[2.116635819453137,0.34834616477994196,0.704341696404644],\"yaxis\":\"y2\"}],                        {\"annotations\":[{\"font\":{\"size\":16},\"showarrow\":false,\"text\":\"Reachability\",\"textangle\":90,\"x\":0.98,\"xanchor\":\"left\",\"xref\":\"paper\",\"y\":0.09000000000000001,\"yanchor\":\"middle\",\"yref\":\"paper\"}],\"height\":800,\"legend\":{\"title\":{\"text\":\"Clusters:\"}},\"shapes\":[{\"line\":{\"color\":\"black\",\"dash\":\"dashdot\",\"width\":1},\"type\":\"line\",\"x0\":0,\"x1\":1,\"xref\":\"x2 domain\",\"y0\":0.5,\"y1\":0.5,\"yref\":\"y2\"},{\"line\":{\"color\":\"black\",\"dash\":\"dash\",\"width\":1},\"type\":\"line\",\"x0\":0,\"x1\":1,\"xref\":\"x2 domain\",\"y0\":2.0,\"y1\":2.0,\"yref\":\"y2\"}],\"template\":{\"data\":{\"bar\":[{\"error_x\":{\"color\":\"#2a3f5f\"},\"error_y\":{\"color\":\"#2a3f5f\"},\"marker\":{\"line\":{\"color\":\"#E5ECF6\",\"width\":0.5},\"pattern\":{\"fillmode\":\"overlay\",\"size\":10,\"solidity\":0.2}},\"type\":\"bar\"}],\"barpolar\":[{\"marker\":{\"line\":{\"color\":\"#E5ECF6\",\"width\":0.5},\"pattern\":{\"fillmode\":\"overlay\",\"size\":10,\"solidity\":0.2}},\"type\":\"barpolar\"}],\"carpet\":[{\"aaxis\":{\"endlinecolor\":\"#2a3f5f\",\"gridcolor\":\"white\",\"linecolor\":\"white\",\"minorgridcolor\":\"white\",\"startlinecolor\":\"#2a3f5f\"},\"baxis\":{\"endlinecolor\":\"#2a3f5f\",\"gridcolor\":\"white\",\"linecolor\":\"white\",\"minorgridcolor\":\"white\",\"startlinecolor\":\"#2a3f5f\"},\"type\":\"carpet\"}],\"choropleth\":[{\"colorbar\":{\"outlinewidth\":0,\"ticks\":\"\"},\"type\":\"choropleth\"}],\"contour\":[{\"colorbar\":{\"outlinewidth\":0,\"ticks\":\"\"},\"colorscale\":[[0.0,\"#0d0887\"],[0.1111111111111111,\"#46039f\"],[0.2222222222222222,\"#7201a8\"],[0.3333333333333333,\"#9c179e\"],[0.4444444444444444,\"#bd3786\"],[0.5555555555555556,\"#d8576b\"],[0.6666666666666666,\"#ed7953\"],[0.7777777777777778,\"#fb9f3a\"],[0.8888888888888888,\"#fdca26\"],[1.0,\"#f0f921\"]],\"type\":\"contour\"}],\"contourcarpet\":[{\"colorbar\":{\"outlinewidth\":0,\"ticks\":\"\"},\"type\":\"contourcarpet\"}],\"heatmap\":[{\"colorbar\":{\"outlinewidth\":0,\"ticks\":\"\"},\"colorscale\":[[0.0,\"#0d0887\"],[0.1111111111111111,\"#46039f\"],[0.2222222222222222,\"#7201a8\"],[0.3333333333333333,\"#9c179e\"],[0.4444444444444444,\"#bd3786\"],[0.5555555555555556,\"#d8576b\"],[0.6666666666666666,\"#ed7953\"],[0.7777777777777778,\"#fb9f3a\"],[0.8888888888888888,\"#fdca26\"],[1.0,\"#f0f921\"]],\"type\":\"heatmap\"}],\"heatmapgl\":[{\"colorbar\":{\"outlinewidth\":0,\"ticks\":\"\"},\"colorscale\":[[0.0,\"#0d0887\"],[0.1111111111111111,\"#46039f\"],[0.2222222222222222,\"#7201a8\"],[0.3333333333333333,\"#9c179e\"],[0.4444444444444444,\"#bd3786\"],[0.5555555555555556,\"#d8576b\"],[0.6666666666666666,\"#ed7953\"],[0.7777777777777778,\"#fb9f3a\"],[0.8888888888888888,\"#fdca26\"],[1.0,\"#f0f921\"]],\"type\":\"heatmapgl\"}],\"histogram\":[{\"marker\":{\"pattern\":{\"fillmode\":\"overlay\",\"size\":10,\"solidity\":0.2}},\"type\":\"histogram\"}],\"histogram2d\":[{\"colorbar\":{\"outlinewidth\":0,\"ticks\":\"\"},\"colorscale\":[[0.0,\"#0d0887\"],[0.1111111111111111,\"#46039f\"],[0.2222222222222222,\"#7201a8\"],[0.3333333333333333,\"#9c179e\"],[0.4444444444444444,\"#bd3786\"],[0.5555555555555556,\"#d8576b\"],[0.6666666666666666,\"#ed7953\"],[0.7777777777777778,\"#fb9f3a\"],[0.8888888888888888,\"#fdca26\"],[1.0,\"#f0f921\"]],\"type\":\"histogram2d\"}],\"histogram2dcontour\":[{\"colorbar\":{\"outlinewidth\":0,\"ticks\":\"\"},\"colorscale\":[[0.0,\"#0d0887\"],[0.1111111111111111,\"#46039f\"],[0.2222222222222222,\"#7201a8\"],[0.3333333333333333,\"#9c179e\"],[0.4444444444444444,\"#bd3786\"],[0.5555555555555556,\"#d8576b\"],[0.6666666666666666,\"#ed7953\"],[0.7777777777777778,\"#fb9f3a\"],[0.8888888888888888,\"#fdca26\"],[1.0,\"#f0f921\"]],\"type\":\"histogram2dcontour\"}],\"mesh3d\":[{\"colorbar\":{\"outlinewidth\":0,\"ticks\":\"\"},\"type\":\"mesh3d\"}],\"parcoords\":[{\"line\":{\"colorbar\":{\"outlinewidth\":0,\"ticks\":\"\"}},\"type\":\"parcoords\"}],\"pie\":[{\"automargin\":true,\"type\":\"pie\"}],\"scatter\":[{\"marker\":{\"colorbar\":{\"outlinewidth\":0,\"ticks\":\"\"}},\"type\":\"scatter\"}],\"scatter3d\":[{\"line\":{\"colorbar\":{\"outlinewidth\":0,\"ticks\":\"\"}},\"marker\":{\"colorbar\":{\"outlinewidth\":0,\"ticks\":\"\"}},\"type\":\"scatter3d\"}],\"scattercarpet\":[{\"marker\":{\"colorbar\":{\"outlinewidth\":0,\"ticks\":\"\"}},\"type\":\"scattercarpet\"}],\"scattergeo\":[{\"marker\":{\"colorbar\":{\"outlinewidth\":0,\"ticks\":\"\"}},\"type\":\"scattergeo\"}],\"scattergl\":[{\"marker\":{\"colorbar\":{\"outlinewidth\":0,\"ticks\":\"\"}},\"type\":\"scattergl\"}],\"scattermapbox\":[{\"marker\":{\"colorbar\":{\"outlinewidth\":0,\"ticks\":\"\"}},\"type\":\"scattermapbox\"}],\"scatterpolar\":[{\"marker\":{\"colorbar\":{\"outlinewidth\":0,\"ticks\":\"\"}},\"type\":\"scatterpolar\"}],\"scatterpolargl\":[{\"marker\":{\"colorbar\":{\"outlinewidth\":0,\"ticks\":\"\"}},\"type\":\"scatterpolargl\"}],\"scatterternary\":[{\"marker\":{\"colorbar\":{\"outlinewidth\":0,\"ticks\":\"\"}},\"type\":\"scatterternary\"}],\"surface\":[{\"colorbar\":{\"outlinewidth\":0,\"ticks\":\"\"},\"colorscale\":[[0.0,\"#0d0887\"],[0.1111111111111111,\"#46039f\"],[0.2222222222222222,\"#7201a8\"],[0.3333333333333333,\"#9c179e\"],[0.4444444444444444,\"#bd3786\"],[0.5555555555555556,\"#d8576b\"],[0.6666666666666666,\"#ed7953\"],[0.7777777777777778,\"#fb9f3a\"],[0.8888888888888888,\"#fdca26\"],[1.0,\"#f0f921\"]],\"type\":\"surface\"}],\"table\":[{\"cells\":{\"fill\":{\"color\":\"#EBF0F8\"},\"line\":{\"color\":\"white\"}},\"header\":{\"fill\":{\"color\":\"#C8D4E3\"},\"line\":{\"color\":\"white\"}},\"type\":\"table\"}]},\"layout\":{\"annotationdefaults\":{\"arrowcolor\":\"#2a3f5f\",\"arrowhead\":0,\"arrowwidth\":1},\"autotypenumbers\":\"strict\",\"coloraxis\":{\"colorbar\":{\"outlinewidth\":0,\"ticks\":\"\"}},\"colorscale\":{\"diverging\":[[0,\"#8e0152\"],[0.1,\"#c51b7d\"],[0.2,\"#de77ae\"],[0.3,\"#f1b6da\"],[0.4,\"#fde0ef\"],[0.5,\"#f7f7f7\"],[0.6,\"#e6f5d0\"],[0.7,\"#b8e186\"],[0.8,\"#7fbc41\"],[0.9,\"#4d9221\"],[1,\"#276419\"]],\"sequential\":[[0.0,\"#0d0887\"],[0.1111111111111111,\"#46039f\"],[0.2222222222222222,\"#7201a8\"],[0.3333333333333333,\"#9c179e\"],[0.4444444444444444,\"#bd3786\"],[0.5555555555555556,\"#d8576b\"],[0.6666666666666666,\"#ed7953\"],[0.7777777777777778,\"#fb9f3a\"],[0.8888888888888888,\"#fdca26\"],[1.0,\"#f0f921\"]],\"sequentialminus\":[[0.0,\"#0d0887\"],[0.1111111111111111,\"#46039f\"],[0.2222222222222222,\"#7201a8\"],[0.3333333333333333,\"#9c179e\"],[0.4444444444444444,\"#bd3786\"],[0.5555555555555556,\"#d8576b\"],[0.6666666666666666,\"#ed7953\"],[0.7777777777777778,\"#fb9f3a\"],[0.8888888888888888,\"#fdca26\"],[1.0,\"#f0f921\"]]},\"colorway\":[\"#636efa\",\"#EF553B\",\"#00cc96\",\"#ab63fa\",\"#FFA15A\",\"#19d3f3\",\"#FF6692\",\"#B6E880\",\"#FF97FF\",\"#FECB52\"],\"font\":{\"color\":\"#2a3f5f\"},\"geo\":{\"bgcolor\":\"white\",\"lakecolor\":\"white\",\"landcolor\":\"#E5ECF6\",\"showlakes\":true,\"showland\":true,\"subunitcolor\":\"white\"},\"hoverlabel\":{\"align\":\"left\"},\"hovermode\":\"closest\",\"mapbox\":{\"style\":\"light\"},\"paper_bgcolor\":\"white\",\"plot_bgcolor\":\"#E5ECF6\",\"polar\":{\"angularaxis\":{\"gridcolor\":\"white\",\"linecolor\":\"white\",\"ticks\":\"\"},\"bgcolor\":\"#E5ECF6\",\"radialaxis\":{\"gridcolor\":\"white\",\"linecolor\":\"white\",\"ticks\":\"\"}},\"scene\":{\"xaxis\":{\"backgroundcolor\":\"#E5ECF6\",\"gridcolor\":\"white\",\"gridwidth\":2,\"linecolor\":\"white\",\"showbackground\":true,\"ticks\":\"\",\"zerolinecolor\":\"white\"},\"yaxis\":{\"backgroundcolor\":\"#E5ECF6\",\"gridcolor\":\"white\",\"gridwidth\":2,\"linecolor\":\"white\",\"showbackground\":true,\"ticks\":\"\",\"zerolinecolor\":\"white\"},\"zaxis\":{\"backgroundcolor\":\"#E5ECF6\",\"gridcolor\":\"white\",\"gridwidth\":2,\"linecolor\":\"white\",\"showbackground\":true,\"ticks\":\"\",\"zerolinecolor\":\"white\"}},\"shapedefaults\":{\"line\":{\"color\":\"#2a3f5f\"}},\"ternary\":{\"aaxis\":{\"gridcolor\":\"white\",\"linecolor\":\"white\",\"ticks\":\"\"},\"baxis\":{\"gridcolor\":\"white\",\"linecolor\":\"white\",\"ticks\":\"\"},\"bgcolor\":\"#E5ECF6\",\"caxis\":{\"gridcolor\":\"white\",\"linecolor\":\"white\",\"ticks\":\"\"}},\"title\":{\"x\":0.05},\"xaxis\":{\"automargin\":true,\"gridcolor\":\"white\",\"linecolor\":\"white\",\"ticks\":\"\",\"title\":{\"standoff\":15},\"zerolinecolor\":\"white\",\"zerolinewidth\":2},\"yaxis\":{\"automargin\":true,\"gridcolor\":\"white\",\"linecolor\":\"white\",\"ticks\":\"\",\"title\":{\"standoff\":15},\"zerolinecolor\":\"white\",\"zerolinewidth\":2}}},\"title\":{\"text\":\"Automatic Clustering OPTICS\"},\"width\":1000,\"xaxis\":{\"anchor\":\"y\",\"domain\":[0.0,0.98],\"showgrid\":false,\"zeroline\":false},\"xaxis2\":{\"anchor\":\"y2\",\"domain\":[0.0,0.98]},\"yaxis\":{\"anchor\":\"x\",\"domain\":[0.28,1.0],\"showgrid\":false,\"zeroline\":false},\"yaxis2\":{\"anchor\":\"x2\",\"domain\":[0.0,0.18000000000000002]}},                        {\"responsive\": true}                    ).then(function(){\n",
       "                            \n",
       "var gd = document.getElementById('c8544ca6-0167-47bd-8971-13bf3498eca0');\n",
       "var x = new MutationObserver(function (mutations, observer) {{\n",
       "        var display = window.getComputedStyle(gd).display;\n",
       "        if (!display || display === 'none') {{\n",
       "            console.log([gd, 'removed!']);\n",
       "            Plotly.purge(gd);\n",
       "            observer.disconnect();\n",
       "        }}\n",
       "}});\n",
       "\n",
       "// Listen for the removal of the full notebook cells\n",
       "var notebookContainer = gd.closest('#notebook-container');\n",
       "if (notebookContainer) {{\n",
       "    x.observe(notebookContainer, {childList: true});\n",
       "}}\n",
       "\n",
       "// Listen for the clearing of the current output cell\n",
       "var outputEl = gd.closest('.output');\n",
       "if (outputEl) {{\n",
       "    x.observe(outputEl, {childList: true});\n",
       "}}\n",
       "\n",
       "                        })                };                });            </script>        </div>"
      ]
     },
     "metadata": {},
     "output_type": "display_data"
    }
   ],
   "source": [
    "from plotly.subplots import make_subplots\n",
    "\n",
    "colors = ['red', 'blue', 'green', 'pink', 'purple', 'grey']\n",
    "\n",
    "fig = make_subplots(rows=2,\n",
    "                    cols=1,\n",
    "                    row_heights=[0.8,0.2],\n",
    "                    vertical_spacing=0.1,\n",
    "                    row_titles=['', 'Reachability']\n",
    "                   )\n",
    "\n",
    "clusters = {}\n",
    "for clust, c in zip(set(labels[labels!=-1]), colors):\n",
    "    fig.add_trace(go.Scatter(\n",
    "                        x = X_tsne[(labels==clust), 0],\n",
    "                        y = X_tsne[(labels==clust), 1],\n",
    "                        mode = 'markers+text',\n",
    "                        text = label_series[(label_series == clust)].index,\n",
    "                        marker = dict(color=c,\n",
    "                                      size=10),\n",
    "#                         name = f'C{clust} -> {len(X_tsne[(labels==clust)])} points',\n",
    "                        opacity = 1\n",
    "    ), row=1,col=1)\n",
    "    \n",
    "for klass, c in zip(range(len(counts)), colors):\n",
    "    Xk = space[labels == klass]\n",
    "    Rk = reachability[labels == klass]\n",
    "    \n",
    "    fig.add_trace(\n",
    "        go.Scatter(\n",
    "        x = Xk,\n",
    "        y = Rk,\n",
    "        mode = 'markers',\n",
    "        name= klass,\n",
    "        marker = dict(color=c,size=8),\n",
    "    ), row=2, col=1)\n",
    "    \n",
    "fig.add_hline(y=0.5,\n",
    "              line_width = 1,\n",
    "              line_dash = 'dashdot',\n",
    "              line_color = 'black', row=2,col=1)\n",
    "fig.add_hline(y=2.0,\n",
    "              line_width = 1,\n",
    "              line_dash = 'dash',\n",
    "              line_color = 'black', row=2,col=1)\n",
    "\n",
    "\n",
    "fig.update_layout(title = f'Automatic Clustering {CLUSTERING_MODEL}',\n",
    "                  \n",
    "                  width=1000,\n",
    "                  height=800,\n",
    "                  \n",
    "                  yaxis_zeroline=False,\n",
    "                  yaxis=dict(showgrid=False),\n",
    "#                   yaxis_showticklabels = False,\n",
    "                  \n",
    "                  xaxis_zeroline=False,\n",
    "                  xaxis=dict(showgrid=False),\n",
    "#                   xaxis_showticklabels = False,\n",
    "                  \n",
    "                  legend_title_text = 'Clusters:',\n",
    "#                   showlegend=False\n",
    "                  \n",
    "#                       updatemenus = [\n",
    "        \n",
    "#                         dict(buttons=list(buttons.values()))\n",
    "#                       ]\n",
    "                 )\n",
    "\n",
    "fig.update_yaxes(title_text='hell', row=1, col=2)\n",
    "\n",
    "\n"
   ]
  },
  {
   "cell_type": "markdown",
   "id": "arbitrary-dressing",
   "metadata": {},
   "source": [
    "### Get pairs"
   ]
  },
  {
   "cell_type": "code",
   "execution_count": 184,
   "id": "gorgeous-catch",
   "metadata": {},
   "outputs": [
    {
     "data": {
      "text/plain": [
       "BAKKA                              0\n",
       "GJF                                1\n",
       "MOWI                               0\n",
       "ORK                                1\n",
       "SALM                               0\n",
       "TEL                                1\n",
       "ATLAS COPCO A                      2\n",
       "VOLVO B                            2\n",
       "HEXAGON B                          2\n",
       "INVESTOR B                         2\n",
       "SANDVIK                            2\n",
       "ASSA ABLOY B                       2\n",
       "SKANDINAVISKA ENSKILDA BANKEN A    3\n",
       "SVENSKA HANDELSBANKEN A            3\n",
       "SWEDBANK A                         3\n",
       "ALFA LAVAL                         2\n",
       "TELIA COMPANY                      2\n",
       "LATOUR INVESTMENT B                2\n",
       "NIBE INDUSTRIER                    2\n",
       "dtype: int64"
      ]
     },
     "execution_count": 184,
     "metadata": {},
     "output_type": "execute_result"
    }
   ],
   "source": [
    "label_series"
   ]
  },
  {
   "cell_type": "code",
   "execution_count": 166,
   "id": "short-robertson",
   "metadata": {},
   "outputs": [
    {
     "data": {
      "text/plain": [
       "[['ATLAS COPCO A',\n",
       "  'VOLVO B',\n",
       "  'HEXAGON B',\n",
       "  'INVESTOR B',\n",
       "  'SANDVIK',\n",
       "  'ASSA ABLOY B',\n",
       "  'ALFA LAVAL',\n",
       "  'TELIA COMPANY',\n",
       "  'LATOUR INVESTMENT B',\n",
       "  'NIBE INDUSTRIER'],\n",
       " ['BAKKA', 'MOWI', 'SALM'],\n",
       " ['GJF', 'ORK', 'TEL'],\n",
       " ['SKANDINAVISKA ENSKILDA BANKEN A', 'SVENSKA HANDELSBANKEN A', 'SWEDBANK A']]"
      ]
     },
     "execution_count": 166,
     "metadata": {},
     "output_type": "execute_result"
    }
   ],
   "source": [
    "cluster_list = list(counts_above_1.index)\n",
    "\n",
    "all_clusters = []\n",
    "\n",
    "for clust in cluster_list:\n",
    "    all_clusters.append(list(label_series[label_series==clust].index))\n",
    "\n",
    "all_clusters"
   ]
  },
  {
   "cell_type": "markdown",
   "id": "coordinated-softball",
   "metadata": {},
   "source": [
    "### Cointegration test"
   ]
  },
  {
   "cell_type": "code",
   "execution_count": 338,
   "id": "quantitative-advancement",
   "metadata": {},
   "outputs": [],
   "source": [
    "\n",
    "\n",
    "def find_cointegrated_pairs(data: pd.DataFrame,\n",
    "                            significance: float = 0.05) -> tuple:\n",
    "    \"\"\"Function calculating cointegration measures for the given data\"\"\"\n",
    "    \n",
    "    n = data.shape[1]\n",
    "    score_matrix = np.zeros((n, n))\n",
    "    pvalue_matrix = np.ones((n, n))\n",
    "    keys = data.keys()\n",
    "    pairs = []\n",
    "    \n",
    "    for i in range(n):\n",
    "        \n",
    "        for j in range(i+1, n):\n",
    "            \n",
    "            S1 = data[keys[i]]\n",
    "            S2 = data[keys[j]]\n",
    "            result = coint(S1, S2)\n",
    "            score = result[0]\n",
    "            pvalue = result[1]\n",
    "            score_matrix[i, j] = score\n",
    "            pvalue_matrix[i, j] = pvalue\n",
    "            \n",
    "            if pvalue < significance:\n",
    "                pairs.append((keys[i], keys[j]))\n",
    "                \n",
    "    return score_matrix, pvalue_matrix, pairs\n"
   ]
  },
  {
   "cell_type": "code",
   "execution_count": 339,
   "id": "exempt-refund",
   "metadata": {},
   "outputs": [],
   "source": [
    "cluster_dict = {}\n",
    "data = returns\n",
    "\n",
    "for i, which_clust in enumerate(counts_above_1.index):\n",
    "    tickers = label_series[label_series == which_clust].index\n",
    "    \n",
    "    ### Calling function\n",
    "    score_matrix, pvalue_matrix, pairs = find_cointegrated_pairs(\n",
    "        data[tickers]\n",
    "    )\n",
    "    \n",
    "    cluster_dict[which_clust] = {}\n",
    "    cluster_dict[which_clust]['score_matrix'] = score_matrix\n",
    "    cluster_dict[which_clust]['pvalue_matrix'] = pvalue_matrix\n",
    "    cluster_dict[which_clust]['pairs'] = pairs\n",
    "    \n",
    "pairs = []\n",
    "\n",
    "for clust in cluster_dict.keys():\n",
    "    pairs.extend(cluster_dict[clust]['pairs'])\n",
    "    "
   ]
  },
  {
   "cell_type": "code",
   "execution_count": 340,
   "id": "similar-square",
   "metadata": {},
   "outputs": [
    {
     "data": {
      "text/plain": [
       "[('LVMH', 'CHRISTIAN DIOR'), ('LVMH', 'KERING'), ('CHRISTIAN DIOR', 'KERING')]"
      ]
     },
     "execution_count": 340,
     "metadata": {},
     "output_type": "execute_result"
    }
   ],
   "source": [
    "### Example of pairs being added to the \"pairs\" list\n",
    "\n",
    "cluster_dict[2]['pairs']"
   ]
  },
  {
   "cell_type": "code",
   "execution_count": 341,
   "id": "computational-spank",
   "metadata": {},
   "outputs": [
    {
     "data": {
      "text/plain": [
       "89"
      ]
     },
     "execution_count": 341,
     "metadata": {},
     "output_type": "execute_result"
    }
   ],
   "source": [
    "len(pairs)"
   ]
  },
  {
   "cell_type": "code",
   "execution_count": 342,
   "id": "played-north",
   "metadata": {},
   "outputs": [
    {
     "data": {
      "text/plain": [
       "[(\"L'OREAL\", 'SANOFI'),\n",
       " (\"L'OREAL\", 'SCHNEIDER ELECTRIC'),\n",
       " (\"L'OREAL\", 'ESSILORLUXOTTICA'),\n",
       " (\"L'OREAL\", 'L AIR LQE.SC.ANYME. POUR L ETUDE ET L EPXTN.'),\n",
       " (\"L'OREAL\", 'AXA'),\n",
       " (\"L'OREAL\", 'PERNOD-RICARD'),\n",
       " (\"L'OREAL\", 'DANONE'),\n",
       " (\"L'OREAL\", 'ORANGE'),\n",
       " (\"L'OREAL\", 'SAINT GOBAIN'),\n",
       " (\"L'OREAL\", 'CARREFOUR'),\n",
       " (\"L'OREAL\", 'CMPG.DES ETS.MICH.'),\n",
       " (\"L'OREAL\", 'LEGRAND'),\n",
       " ('SANOFI', 'SCHNEIDER ELECTRIC'),\n",
       " ('SANOFI', 'ESSILORLUXOTTICA'),\n",
       " ('SANOFI', 'L AIR LQE.SC.ANYME. POUR L ETUDE ET L EPXTN.'),\n",
       " ('SANOFI', 'AXA'),\n",
       " ('SANOFI', 'PERNOD-RICARD'),\n",
       " ('SANOFI', 'DANONE'),\n",
       " ('SANOFI', 'ORANGE'),\n",
       " ('SANOFI', 'SAINT GOBAIN'),\n",
       " ('SANOFI', 'CARREFOUR'),\n",
       " ('SANOFI', 'CMPG.DES ETS.MICH.'),\n",
       " ('SANOFI', 'LEGRAND'),\n",
       " ('SCHNEIDER ELECTRIC', 'ESSILORLUXOTTICA'),\n",
       " ('SCHNEIDER ELECTRIC', 'L AIR LQE.SC.ANYME. POUR L ETUDE ET L EPXTN.'),\n",
       " ('SCHNEIDER ELECTRIC', 'AXA'),\n",
       " ('SCHNEIDER ELECTRIC', 'PERNOD-RICARD'),\n",
       " ('SCHNEIDER ELECTRIC', 'DANONE'),\n",
       " ('SCHNEIDER ELECTRIC', 'ORANGE'),\n",
       " ('SCHNEIDER ELECTRIC', 'SAINT GOBAIN'),\n",
       " ('SCHNEIDER ELECTRIC', 'CARREFOUR'),\n",
       " ('SCHNEIDER ELECTRIC', 'CMPG.DES ETS.MICH.'),\n",
       " ('SCHNEIDER ELECTRIC', 'LEGRAND'),\n",
       " ('ESSILORLUXOTTICA', 'L AIR LQE.SC.ANYME. POUR L ETUDE ET L EPXTN.'),\n",
       " ('ESSILORLUXOTTICA', 'AXA'),\n",
       " ('ESSILORLUXOTTICA', 'PERNOD-RICARD'),\n",
       " ('ESSILORLUXOTTICA', 'DANONE'),\n",
       " ('ESSILORLUXOTTICA', 'ORANGE'),\n",
       " ('ESSILORLUXOTTICA', 'SAINT GOBAIN'),\n",
       " ('ESSILORLUXOTTICA', 'CARREFOUR'),\n",
       " ('ESSILORLUXOTTICA', 'CMPG.DES ETS.MICH.'),\n",
       " ('ESSILORLUXOTTICA', 'LEGRAND'),\n",
       " ('L AIR LQE.SC.ANYME. POUR L ETUDE ET L EPXTN.', 'AXA'),\n",
       " ('L AIR LQE.SC.ANYME. POUR L ETUDE ET L EPXTN.', 'PERNOD-RICARD'),\n",
       " ('L AIR LQE.SC.ANYME. POUR L ETUDE ET L EPXTN.', 'DANONE'),\n",
       " ('L AIR LQE.SC.ANYME. POUR L ETUDE ET L EPXTN.', 'ORANGE'),\n",
       " ('L AIR LQE.SC.ANYME. POUR L ETUDE ET L EPXTN.', 'SAINT GOBAIN'),\n",
       " ('L AIR LQE.SC.ANYME. POUR L ETUDE ET L EPXTN.', 'CARREFOUR'),\n",
       " ('L AIR LQE.SC.ANYME. POUR L ETUDE ET L EPXTN.', 'CMPG.DES ETS.MICH.'),\n",
       " ('L AIR LQE.SC.ANYME. POUR L ETUDE ET L EPXTN.', 'LEGRAND'),\n",
       " ('AXA', 'PERNOD-RICARD'),\n",
       " ('AXA', 'DANONE'),\n",
       " ('AXA', 'ORANGE'),\n",
       " ('AXA', 'SAINT GOBAIN'),\n",
       " ('AXA', 'CARREFOUR'),\n",
       " ('AXA', 'CMPG.DES ETS.MICH.'),\n",
       " ('AXA', 'LEGRAND'),\n",
       " ('PERNOD-RICARD', 'DANONE'),\n",
       " ('PERNOD-RICARD', 'ORANGE'),\n",
       " ('PERNOD-RICARD', 'SAINT GOBAIN'),\n",
       " ('PERNOD-RICARD', 'CARREFOUR'),\n",
       " ('PERNOD-RICARD', 'CMPG.DES ETS.MICH.'),\n",
       " ('PERNOD-RICARD', 'LEGRAND'),\n",
       " ('DANONE', 'ORANGE'),\n",
       " ('DANONE', 'SAINT GOBAIN'),\n",
       " ('DANONE', 'CARREFOUR'),\n",
       " ('DANONE', 'CMPG.DES ETS.MICH.'),\n",
       " ('DANONE', 'LEGRAND'),\n",
       " ('ORANGE', 'SAINT GOBAIN'),\n",
       " ('ORANGE', 'CARREFOUR'),\n",
       " ('ORANGE', 'CMPG.DES ETS.MICH.'),\n",
       " ('ORANGE', 'LEGRAND'),\n",
       " ('SAINT GOBAIN', 'CARREFOUR'),\n",
       " ('SAINT GOBAIN', 'CMPG.DES ETS.MICH.'),\n",
       " ('SAINT GOBAIN', 'LEGRAND'),\n",
       " ('CARREFOUR', 'CMPG.DES ETS.MICH.'),\n",
       " ('CARREFOUR', 'LEGRAND'),\n",
       " ('CMPG.DES ETS.MICH.', 'LEGRAND'),\n",
       " ('GJF', 'ORK'),\n",
       " ('GJF', 'TEL'),\n",
       " ('ORK', 'TEL'),\n",
       " ('LVMH', 'CHRISTIAN DIOR'),\n",
       " ('LVMH', 'KERING'),\n",
       " ('CHRISTIAN DIOR', 'KERING'),\n",
       " ('BNP PARIBAS', 'CREDIT AGRICOLE'),\n",
       " ('BNP PARIBAS', 'SOCIETE GENERALE'),\n",
       " ('CREDIT AGRICOLE', 'SOCIETE GENERALE'),\n",
       " ('BAKKA', 'SALM'),\n",
       " ('AIRBUS', 'SAFRAN')]"
      ]
     },
     "execution_count": 342,
     "metadata": {},
     "output_type": "execute_result"
    }
   ],
   "source": [
    "pairs\n",
    "# pairs[2]"
   ]
  },
  {
   "cell_type": "code",
   "execution_count": null,
   "id": "finnish-running",
   "metadata": {},
   "outputs": [],
   "source": []
  }
 ],
 "metadata": {
  "kernelspec": {
   "display_name": "Python 3",
   "language": "python",
   "name": "python3"
  },
  "language_info": {
   "codemirror_mode": {
    "name": "ipython",
    "version": 3
   },
   "file_extension": ".py",
   "mimetype": "text/x-python",
   "name": "python",
   "nbconvert_exporter": "python",
   "pygments_lexer": "ipython3",
   "version": "3.8.5"
  }
 },
 "nbformat": 4,
 "nbformat_minor": 5
}
