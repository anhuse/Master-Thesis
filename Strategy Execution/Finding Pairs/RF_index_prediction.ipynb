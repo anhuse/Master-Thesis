{
 "cells": [
  {
   "cell_type": "markdown",
   "metadata": {
    "id": "UMhzRHceJV0O"
   },
   "source": [
    "# Predicting OSEBX returns using Random Forest\n",
    "\n",
    "\n",
    "### Overview\n"
   ]
  },
  {
   "cell_type": "code",
   "execution_count": 26,
   "metadata": {
    "colab": {
     "base_uri": "https://localhost:8080/"
    },
    "id": "DPu3lU21JSBb",
    "outputId": "dd5cd92b-dfa8-4b68-c2ce-96f9c13f19a2"
   },
   "outputs": [
    {
     "name": "stdout",
     "output_type": "stream",
     "text": [
      "0.23.2\n"
     ]
    }
   ],
   "source": [
    "import pandas as pd\n",
    "import numpy as np\n",
    "import yfinance as yf\n",
    "import matplotlib.pyplot as plt\n",
    "import seaborn as sns\n",
    "\n",
    "import sklearn\n",
    "print(sklearn.__version__)\n",
    "\n",
    "from sklearn.ensemble import RandomForestClassifier\n",
    "\n",
    "from sklearn.metrics import roc_auc_score\n",
    "from sklearn import metrics"
   ]
  },
  {
   "cell_type": "markdown",
   "metadata": {},
   "source": [
    "### Indices"
   ]
  },
  {
   "cell_type": "code",
   "execution_count": 73,
   "metadata": {},
   "outputs": [
    {
     "data": {
      "text/html": [
       "<div>\n",
       "<style scoped>\n",
       "    .dataframe tbody tr th:only-of-type {\n",
       "        vertical-align: middle;\n",
       "    }\n",
       "\n",
       "    .dataframe tbody tr th {\n",
       "        vertical-align: top;\n",
       "    }\n",
       "\n",
       "    .dataframe thead th {\n",
       "        text-align: right;\n",
       "    }\n",
       "</style>\n",
       "<table border=\"1\" class=\"dataframe\">\n",
       "  <thead>\n",
       "    <tr style=\"text-align: right;\">\n",
       "      <th></th>\n",
       "      <th>OSEBX</th>\n",
       "      <th>S&amp;P 500</th>\n",
       "      <th>NYSE</th>\n",
       "      <th>FTSE 100</th>\n",
       "      <th>MSCI CANADA</th>\n",
       "      <th>MSCI AUSTRALIA</th>\n",
       "      <th>CAC 40</th>\n",
       "      <th>HANG SENG</th>\n",
       "      <th>TOPIX</th>\n",
       "    </tr>\n",
       "    <tr>\n",
       "      <th>Date</th>\n",
       "      <th></th>\n",
       "      <th></th>\n",
       "      <th></th>\n",
       "      <th></th>\n",
       "      <th></th>\n",
       "      <th></th>\n",
       "      <th></th>\n",
       "      <th></th>\n",
       "      <th></th>\n",
       "    </tr>\n",
       "  </thead>\n",
       "  <tbody>\n",
       "    <tr>\n",
       "      <th>2012-03-02</th>\n",
       "      <td>0.001704</td>\n",
       "      <td>-0.003205</td>\n",
       "      <td>-0.006075</td>\n",
       "      <td>-0.003392</td>\n",
       "      <td>-0.007050</td>\n",
       "      <td>0.003848</td>\n",
       "      <td>0.000411</td>\n",
       "      <td>0.008203</td>\n",
       "      <td>0.007553</td>\n",
       "    </tr>\n",
       "    <tr>\n",
       "      <th>2012-03-05</th>\n",
       "      <td>-0.013377</td>\n",
       "      <td>-0.003813</td>\n",
       "      <td>-0.004118</td>\n",
       "      <td>-0.006144</td>\n",
       "      <td>-0.009166</td>\n",
       "      <td>-0.000987</td>\n",
       "      <td>-0.003894</td>\n",
       "      <td>-0.013772</td>\n",
       "      <td>-0.005917</td>\n",
       "    </tr>\n",
       "    <tr>\n",
       "      <th>2012-03-06</th>\n",
       "      <td>-0.029738</td>\n",
       "      <td>-0.015341</td>\n",
       "      <td>-0.021120</td>\n",
       "      <td>-0.018556</td>\n",
       "      <td>-0.018658</td>\n",
       "      <td>-0.013369</td>\n",
       "      <td>-0.035836</td>\n",
       "      <td>-0.021587</td>\n",
       "      <td>-0.006616</td>\n",
       "    </tr>\n",
       "    <tr>\n",
       "      <th>2012-03-07</th>\n",
       "      <td>0.012440</td>\n",
       "      <td>0.007205</td>\n",
       "      <td>0.007798</td>\n",
       "      <td>0.006370</td>\n",
       "      <td>0.002698</td>\n",
       "      <td>-0.013842</td>\n",
       "      <td>0.008853</td>\n",
       "      <td>-0.008578</td>\n",
       "      <td>-0.005588</td>\n",
       "    </tr>\n",
       "    <tr>\n",
       "      <th>2012-03-08</th>\n",
       "      <td>0.018467</td>\n",
       "      <td>0.009915</td>\n",
       "      <td>0.012935</td>\n",
       "      <td>0.011797</td>\n",
       "      <td>0.009545</td>\n",
       "      <td>0.006234</td>\n",
       "      <td>0.025361</td>\n",
       "      <td>0.013232</td>\n",
       "      <td>0.016347</td>\n",
       "    </tr>\n",
       "  </tbody>\n",
       "</table>\n",
       "</div>"
      ],
      "text/plain": [
       "               OSEBX   S&P 500      NYSE  FTSE 100  MSCI CANADA  \\\n",
       "Date                                                              \n",
       "2012-03-02  0.001704 -0.003205 -0.006075 -0.003392    -0.007050   \n",
       "2012-03-05 -0.013377 -0.003813 -0.004118 -0.006144    -0.009166   \n",
       "2012-03-06 -0.029738 -0.015341 -0.021120 -0.018556    -0.018658   \n",
       "2012-03-07  0.012440  0.007205  0.007798  0.006370     0.002698   \n",
       "2012-03-08  0.018467  0.009915  0.012935  0.011797     0.009545   \n",
       "\n",
       "            MSCI AUSTRALIA    CAC 40  HANG SENG     TOPIX  \n",
       "Date                                                       \n",
       "2012-03-02        0.003848  0.000411   0.008203  0.007553  \n",
       "2012-03-05       -0.000987 -0.003894  -0.013772 -0.005917  \n",
       "2012-03-06       -0.013369 -0.035836  -0.021587 -0.006616  \n",
       "2012-03-07       -0.013842  0.008853  -0.008578 -0.005588  \n",
       "2012-03-08        0.006234  0.025361   0.013232  0.016347  "
      ]
     },
     "execution_count": 73,
     "metadata": {},
     "output_type": "execute_result"
    }
   ],
   "source": [
    "indices = pd.read_excel('MASTER_A.xlsx',\n",
    "                        sheet_name = 'Indices2',\n",
    "                        usecols=['Date', 'OSEBX', 'S&P 500', 'NYSE', 'FTSE 100',\n",
    "                                 'MSCI CANADA','MSCI AUSTRALIA', 'CAC 40',\n",
    "                                 'HANG SENG', 'TOPIX',\n",
    "                                 ],\n",
    "                        index_col = 'Date')\n",
    "indices = indices[1:]\n",
    "indices_returns = indices.pct_change()[1:]\n",
    "indices_returns.index = indices_returns.index.astype(str) \n",
    "indices_returns.head()"
   ]
  },
  {
   "cell_type": "markdown",
   "metadata": {},
   "source": [
    "### Factors"
   ]
  },
  {
   "cell_type": "code",
   "execution_count": 74,
   "metadata": {},
   "outputs": [
    {
     "data": {
      "text/html": [
       "<div>\n",
       "<style scoped>\n",
       "    .dataframe tbody tr th:only-of-type {\n",
       "        vertical-align: middle;\n",
       "    }\n",
       "\n",
       "    .dataframe tbody tr th {\n",
       "        vertical-align: top;\n",
       "    }\n",
       "\n",
       "    .dataframe thead th {\n",
       "        text-align: right;\n",
       "    }\n",
       "</style>\n",
       "<table border=\"1\" class=\"dataframe\">\n",
       "  <thead>\n",
       "    <tr style=\"text-align: right;\">\n",
       "      <th></th>\n",
       "      <th>WTI Crude Oil</th>\n",
       "      <th>Aluminium</th>\n",
       "      <th>Natural Gas - RFV</th>\n",
       "      <th>10Y NO</th>\n",
       "      <th>10Y US</th>\n",
       "      <th>10Y UK</th>\n",
       "    </tr>\n",
       "    <tr>\n",
       "      <th>Date</th>\n",
       "      <th></th>\n",
       "      <th></th>\n",
       "      <th></th>\n",
       "      <th></th>\n",
       "      <th></th>\n",
       "      <th></th>\n",
       "    </tr>\n",
       "  </thead>\n",
       "  <tbody>\n",
       "    <tr>\n",
       "      <th>2012-03-02</th>\n",
       "      <td>-0.018941</td>\n",
       "      <td>-0.011461</td>\n",
       "      <td>0.025806</td>\n",
       "      <td>0.0425</td>\n",
       "      <td>-0.4335</td>\n",
       "      <td>-0.5525</td>\n",
       "    </tr>\n",
       "    <tr>\n",
       "      <th>2012-03-05</th>\n",
       "      <td>0.000187</td>\n",
       "      <td>-0.018375</td>\n",
       "      <td>0.002096</td>\n",
       "      <td>-0.0510</td>\n",
       "      <td>0.2380</td>\n",
       "      <td>0.2125</td>\n",
       "    </tr>\n",
       "    <tr>\n",
       "      <th>2012-03-06</th>\n",
       "      <td>-0.018928</td>\n",
       "      <td>-0.023064</td>\n",
       "      <td>-0.014644</td>\n",
       "      <td>-0.0255</td>\n",
       "      <td>-0.4845</td>\n",
       "      <td>-0.3825</td>\n",
       "    </tr>\n",
       "    <tr>\n",
       "      <th>2012-03-07</th>\n",
       "      <td>0.013945</td>\n",
       "      <td>-0.012203</td>\n",
       "      <td>0.006369</td>\n",
       "      <td>-0.0170</td>\n",
       "      <td>0.1870</td>\n",
       "      <td>-0.0085</td>\n",
       "    </tr>\n",
       "    <tr>\n",
       "      <th>2012-03-08</th>\n",
       "      <td>0.003956</td>\n",
       "      <td>-0.001386</td>\n",
       "      <td>0.021097</td>\n",
       "      <td>0.2720</td>\n",
       "      <td>0.3740</td>\n",
       "      <td>0.1190</td>\n",
       "    </tr>\n",
       "  </tbody>\n",
       "</table>\n",
       "</div>"
      ],
      "text/plain": [
       "            WTI Crude Oil  Aluminium  Natural Gas - RFV  10Y NO  10Y US  \\\n",
       "Date                                                                      \n",
       "2012-03-02      -0.018941  -0.011461           0.025806  0.0425 -0.4335   \n",
       "2012-03-05       0.000187  -0.018375           0.002096 -0.0510  0.2380   \n",
       "2012-03-06      -0.018928  -0.023064          -0.014644 -0.0255 -0.4845   \n",
       "2012-03-07       0.013945  -0.012203           0.006369 -0.0170  0.1870   \n",
       "2012-03-08       0.003956  -0.001386           0.021097  0.2720  0.3740   \n",
       "\n",
       "            10Y UK  \n",
       "Date                \n",
       "2012-03-02 -0.5525  \n",
       "2012-03-05  0.2125  \n",
       "2012-03-06 -0.3825  \n",
       "2012-03-07 -0.0085  \n",
       "2012-03-08  0.1190  "
      ]
     },
     "execution_count": 74,
     "metadata": {},
     "output_type": "execute_result"
    }
   ],
   "source": [
    "factor_returns = pd.read_excel('FACTOR_RETURNS.xlsx',\n",
    "                               index_col='Date')\n",
    "factor_returns.index = factor_returns.index.astype(str)\n",
    "factor_returns = factor_returns[['WTI Crude Oil', 'Aluminium',\n",
    "                                 'Natural Gas - RFV', '10Y NO',\n",
    "                                 '10Y US', '10Y UK']]\n",
    "factor_returns.head()"
   ]
  },
  {
   "cell_type": "markdown",
   "metadata": {},
   "source": [
    "### Concatenating"
   ]
  },
  {
   "cell_type": "code",
   "execution_count": 34,
   "metadata": {},
   "outputs": [
    {
     "data": {
      "text/html": [
       "<div>\n",
       "<style scoped>\n",
       "    .dataframe tbody tr th:only-of-type {\n",
       "        vertical-align: middle;\n",
       "    }\n",
       "\n",
       "    .dataframe tbody tr th {\n",
       "        vertical-align: top;\n",
       "    }\n",
       "\n",
       "    .dataframe thead th {\n",
       "        text-align: right;\n",
       "    }\n",
       "</style>\n",
       "<table border=\"1\" class=\"dataframe\">\n",
       "  <thead>\n",
       "    <tr style=\"text-align: right;\">\n",
       "      <th></th>\n",
       "      <th>OSEBX</th>\n",
       "      <th>S&amp;P 500</th>\n",
       "      <th>NYSE</th>\n",
       "      <th>FTSE 100</th>\n",
       "      <th>MSCI CANADA</th>\n",
       "      <th>MSCI AUSTRALIA</th>\n",
       "      <th>CAC 40</th>\n",
       "      <th>HANG SENG</th>\n",
       "      <th>TOPIX</th>\n",
       "      <th>WTI Crude Oil</th>\n",
       "      <th>Aluminium</th>\n",
       "      <th>Natural Gas - RFV</th>\n",
       "      <th>10Y NO</th>\n",
       "      <th>10Y US</th>\n",
       "      <th>10Y UK</th>\n",
       "    </tr>\n",
       "  </thead>\n",
       "  <tbody>\n",
       "    <tr>\n",
       "      <th>0</th>\n",
       "      <td>0.001704</td>\n",
       "      <td>-0.003205</td>\n",
       "      <td>-0.006075</td>\n",
       "      <td>-0.003392</td>\n",
       "      <td>-0.007050</td>\n",
       "      <td>0.003848</td>\n",
       "      <td>0.000411</td>\n",
       "      <td>0.008203</td>\n",
       "      <td>0.007553</td>\n",
       "      <td>-0.018941</td>\n",
       "      <td>-0.011461</td>\n",
       "      <td>0.025806</td>\n",
       "      <td>0.0425</td>\n",
       "      <td>-0.4335</td>\n",
       "      <td>-0.5525</td>\n",
       "    </tr>\n",
       "    <tr>\n",
       "      <th>1</th>\n",
       "      <td>-0.013377</td>\n",
       "      <td>-0.003813</td>\n",
       "      <td>-0.004118</td>\n",
       "      <td>-0.006144</td>\n",
       "      <td>-0.009166</td>\n",
       "      <td>-0.000987</td>\n",
       "      <td>-0.003894</td>\n",
       "      <td>-0.013772</td>\n",
       "      <td>-0.005917</td>\n",
       "      <td>0.000187</td>\n",
       "      <td>-0.018375</td>\n",
       "      <td>0.002096</td>\n",
       "      <td>-0.0510</td>\n",
       "      <td>0.2380</td>\n",
       "      <td>0.2125</td>\n",
       "    </tr>\n",
       "    <tr>\n",
       "      <th>2</th>\n",
       "      <td>-0.029738</td>\n",
       "      <td>-0.015341</td>\n",
       "      <td>-0.021120</td>\n",
       "      <td>-0.018556</td>\n",
       "      <td>-0.018658</td>\n",
       "      <td>-0.013369</td>\n",
       "      <td>-0.035836</td>\n",
       "      <td>-0.021587</td>\n",
       "      <td>-0.006616</td>\n",
       "      <td>-0.018928</td>\n",
       "      <td>-0.023064</td>\n",
       "      <td>-0.014644</td>\n",
       "      <td>-0.0255</td>\n",
       "      <td>-0.4845</td>\n",
       "      <td>-0.3825</td>\n",
       "    </tr>\n",
       "    <tr>\n",
       "      <th>3</th>\n",
       "      <td>0.012440</td>\n",
       "      <td>0.007205</td>\n",
       "      <td>0.007798</td>\n",
       "      <td>0.006370</td>\n",
       "      <td>0.002698</td>\n",
       "      <td>-0.013842</td>\n",
       "      <td>0.008853</td>\n",
       "      <td>-0.008578</td>\n",
       "      <td>-0.005588</td>\n",
       "      <td>0.013945</td>\n",
       "      <td>-0.012203</td>\n",
       "      <td>0.006369</td>\n",
       "      <td>-0.0170</td>\n",
       "      <td>0.1870</td>\n",
       "      <td>-0.0085</td>\n",
       "    </tr>\n",
       "    <tr>\n",
       "      <th>4</th>\n",
       "      <td>0.018467</td>\n",
       "      <td>0.009915</td>\n",
       "      <td>0.012935</td>\n",
       "      <td>0.011797</td>\n",
       "      <td>0.009545</td>\n",
       "      <td>0.006234</td>\n",
       "      <td>0.025361</td>\n",
       "      <td>0.013232</td>\n",
       "      <td>0.016347</td>\n",
       "      <td>0.003956</td>\n",
       "      <td>-0.001386</td>\n",
       "      <td>0.021097</td>\n",
       "      <td>0.2720</td>\n",
       "      <td>0.3740</td>\n",
       "      <td>0.1190</td>\n",
       "    </tr>\n",
       "  </tbody>\n",
       "</table>\n",
       "</div>"
      ],
      "text/plain": [
       "      OSEBX   S&P 500      NYSE  FTSE 100  MSCI CANADA  MSCI AUSTRALIA  \\\n",
       "0  0.001704 -0.003205 -0.006075 -0.003392    -0.007050        0.003848   \n",
       "1 -0.013377 -0.003813 -0.004118 -0.006144    -0.009166       -0.000987   \n",
       "2 -0.029738 -0.015341 -0.021120 -0.018556    -0.018658       -0.013369   \n",
       "3  0.012440  0.007205  0.007798  0.006370     0.002698       -0.013842   \n",
       "4  0.018467  0.009915  0.012935  0.011797     0.009545        0.006234   \n",
       "\n",
       "     CAC 40  HANG SENG     TOPIX  WTI Crude Oil  Aluminium  Natural Gas - RFV  \\\n",
       "0  0.000411   0.008203  0.007553      -0.018941  -0.011461           0.025806   \n",
       "1 -0.003894  -0.013772 -0.005917       0.000187  -0.018375           0.002096   \n",
       "2 -0.035836  -0.021587 -0.006616      -0.018928  -0.023064          -0.014644   \n",
       "3  0.008853  -0.008578 -0.005588       0.013945  -0.012203           0.006369   \n",
       "4  0.025361   0.013232  0.016347       0.003956  -0.001386           0.021097   \n",
       "\n",
       "   10Y NO  10Y US  10Y UK  \n",
       "0  0.0425 -0.4335 -0.5525  \n",
       "1 -0.0510  0.2380  0.2125  \n",
       "2 -0.0255 -0.4845 -0.3825  \n",
       "3 -0.0170  0.1870 -0.0085  \n",
       "4  0.2720  0.3740  0.1190  "
      ]
     },
     "execution_count": 34,
     "metadata": {},
     "output_type": "execute_result"
    }
   ],
   "source": [
    "data = pd.concat([indices_returns, factor_returns], axis=1)\n",
    "assert data.isnull().sum().sum() == 0, \"nul values present in data\"\n",
    "data.reset_index(drop=True, inplace=True)\n",
    "data = data.astype(float)\n",
    "data.head()"
   ]
  },
  {
   "cell_type": "markdown",
   "metadata": {},
   "source": [
    "### Preparing data"
   ]
  },
  {
   "cell_type": "code",
   "execution_count": 46,
   "metadata": {},
   "outputs": [
    {
     "name": "stdout",
     "output_type": "stream",
     "text": [
      "(2608, 14)\n",
      "(2608,)\n"
     ]
    }
   ],
   "source": [
    "X = data.iloc[:, 1:]\n",
    "y = data['OSEBX']\n",
    "\n",
    "y = y.map(lambda x : 'Up' if x > 0 else 'down') # categoriacal y\n",
    "\n",
    "print(X.shape)\n",
    "print(y.shape)"
   ]
  },
  {
   "cell_type": "code",
   "execution_count": 47,
   "metadata": {},
   "outputs": [
    {
     "data": {
      "text/plain": [
       "0         Up\n",
       "1       down\n",
       "2       down\n",
       "3         Up\n",
       "4         Up\n",
       "        ... \n",
       "2603      Up\n",
       "2604    down\n",
       "2605      Up\n",
       "2606      Up\n",
       "2607      Up\n",
       "Name: OSEBX, Length: 2608, dtype: object"
      ]
     },
     "execution_count": 47,
     "metadata": {},
     "output_type": "execute_result"
    }
   ],
   "source": [
    "y"
   ]
  },
  {
   "cell_type": "markdown",
   "metadata": {
    "colab": {
     "base_uri": "https://localhost:8080/"
    },
    "id": "O3vwQUVaY3JN",
    "outputId": "181745c8-0968-4ac5-b0fb-da7820730389"
   },
   "source": [
    "#### Splitting"
   ]
  },
  {
   "cell_type": "code",
   "execution_count": 63,
   "metadata": {
    "colab": {
     "base_uri": "https://localhost:8080/"
    },
    "id": "O3vwQUVaY3JN",
    "outputId": "181745c8-0968-4ac5-b0fb-da7820730389"
   },
   "outputs": [
    {
     "name": "stdout",
     "output_type": "stream",
     "text": [
      "train split 1825\n"
     ]
    }
   ],
   "source": [
    "train_split = int(0.7 * int(data.shape[0]))\n",
    "print(f'train split {train_split}')\n",
    "\n",
    "X_train = X.iloc[:train_split]\n",
    "y_train = y.iloc[:train_split]\n",
    "\n",
    "X_test = X.iloc[:train_split][:5]\n",
    "y_test = y.iloc[:train_split][:5]\n",
    "\n",
    "X_train_sc = (X_train - X_train.mean()) / X_train.std()\n",
    "X_test_sc = (X_test - X_train.mean()) / X_train.std()"
   ]
  },
  {
   "cell_type": "code",
   "execution_count": 64,
   "metadata": {
    "colab": {
     "base_uri": "https://localhost:8080/"
    },
    "id": "5CjHjgILYsnD",
    "outputId": "22a8b8a0-6169-4e2c-8d94-e6efe502ac5c"
   },
   "outputs": [
    {
     "name": "stdout",
     "output_type": "stream",
     "text": [
      "Shape of X_train scaled: (1825, 14)\n",
      "Shape of X_test scaled: (5, 14)\n",
      "Shape of y_train: (1825,)\n",
      "Shape of y_test: (5,)\n"
     ]
    }
   ],
   "source": [
    "### Checking dimensions -> appropriate shape\n",
    "\n",
    "print(f'Shape of X_train scaled: {X_train_sc.shape}')\n",
    "print(f'Shape of X_test scaled: {X_test_sc.shape}')\n",
    "print(f'Shape of y_train: {y_train.shape}')\n",
    "print(f'Shape of y_test: {y_test.shape}')\n"
   ]
  },
  {
   "cell_type": "markdown",
   "metadata": {
    "id": "Fzk43WBPbUET"
   },
   "source": [
    "### Assembling the model - fitting"
   ]
  },
  {
   "cell_type": "code",
   "execution_count": 65,
   "metadata": {},
   "outputs": [
    {
     "data": {
      "text/plain": [
       "0         Up\n",
       "1       down\n",
       "2       down\n",
       "3         Up\n",
       "4         Up\n",
       "        ... \n",
       "1820      Up\n",
       "1821      Up\n",
       "1822    down\n",
       "1823    down\n",
       "1824    down\n",
       "Name: OSEBX, Length: 1825, dtype: object"
      ]
     },
     "execution_count": 65,
     "metadata": {},
     "output_type": "execute_result"
    }
   ],
   "source": [
    "y_train"
   ]
  },
  {
   "cell_type": "code",
   "execution_count": 66,
   "metadata": {
    "id": "ZJ-N7qj0aswQ"
   },
   "outputs": [
    {
     "data": {
      "text/plain": [
       "{'bootstrap': True,\n",
       " 'ccp_alpha': 0.0,\n",
       " 'class_weight': None,\n",
       " 'criterion': 'gini',\n",
       " 'max_depth': None,\n",
       " 'max_features': 'sqrt',\n",
       " 'max_leaf_nodes': None,\n",
       " 'max_samples': None,\n",
       " 'min_impurity_decrease': 0.0,\n",
       " 'min_impurity_split': None,\n",
       " 'min_samples_leaf': 1,\n",
       " 'min_samples_split': 2,\n",
       " 'min_weight_fraction_leaf': 0.0,\n",
       " 'n_estimators': 200,\n",
       " 'n_jobs': None,\n",
       " 'oob_score': False,\n",
       " 'random_state': None,\n",
       " 'verbose': 0,\n",
       " 'warm_start': False}"
      ]
     },
     "execution_count": 66,
     "metadata": {},
     "output_type": "execute_result"
    }
   ],
   "source": [
    "model = RandomForestClassifier(\n",
    "  n_estimators = 200,\n",
    "  bootstrap    = True,\n",
    "  max_features = 'sqrt'\n",
    ")\n",
    "\n",
    "model.fit(X_train_sc, y_train)\n",
    "    \n",
    "model.get_params()"
   ]
  },
  {
   "cell_type": "markdown",
   "metadata": {
    "id": "0ZgwmjL5cDT0"
   },
   "source": [
    "### Predictions"
   ]
  },
  {
   "cell_type": "code",
   "execution_count": 67,
   "metadata": {},
   "outputs": [],
   "source": [
    "from sklearn.metrics import accuracy_score, confusion_matrix, classification_report"
   ]
  },
  {
   "cell_type": "code",
   "execution_count": 68,
   "metadata": {
    "colab": {
     "base_uri": "https://localhost:8080/"
    },
    "id": "LikcCFICbxEs",
    "outputId": "859010a8-c63c-4b90-eb59-a4e887dbafc9"
   },
   "outputs": [
    {
     "data": {
      "text/plain": [
       "array(['down', 'down', 'down', 'down', 'down'], dtype=object)"
      ]
     },
     "execution_count": 68,
     "metadata": {},
     "output_type": "execute_result"
    }
   ],
   "source": [
    "rf_pred = model.predict(X_test)\n",
    "rf_prob = model.predict_proba(X_test)[:, 1]\n",
    "\n",
    "# roc_value_pred = roc_auc_score(y_test, rf_pred)\n",
    "# roc_value_prob = roc_auc_score(y_test, rf_prob)\n",
    "\n",
    "# print(f'Accuracy Score: {accuracy_score(y_test, rf_pred):>5.2f}')\n",
    "# print(f'ROC-value: {roc_value_pred:>12.2%}')\n",
    "# print(f'MAE is : {metrics.mean_absolute_error(y_test, rf_pred):>13.3f}')\n",
    "# print(f'RMSE is : {np.sqrt(metrics.mean_squared_error(y_test, rf_pred)):>12.3f}')\n",
    "# print(f'R2 is : {metrics.r2_score(y_test, rf_pred):>14.3f}',end='\\n\\n')\n",
    "rf_pred"
   ]
  },
  {
   "cell_type": "code",
   "execution_count": 72,
   "metadata": {},
   "outputs": [
    {
     "data": {
      "text/plain": [
       "array(['down', 'down', 'down', 'down', 'down'], dtype=object)"
      ]
     },
     "execution_count": 72,
     "metadata": {},
     "output_type": "execute_result"
    }
   ],
   "source": [
    "model.predict(X_test)"
   ]
  },
  {
   "cell_type": "code",
   "execution_count": 71,
   "metadata": {},
   "outputs": [
    {
     "data": {
      "text/plain": [
       "0      Up\n",
       "1    down\n",
       "2    down\n",
       "3      Up\n",
       "4      Up\n",
       "Name: OSEBX, dtype: object"
      ]
     },
     "execution_count": 71,
     "metadata": {},
     "output_type": "execute_result"
    }
   ],
   "source": [
    "y_test"
   ]
  },
  {
   "cell_type": "markdown",
   "metadata": {},
   "source": [
    "#### Confusion matrix"
   ]
  },
  {
   "cell_type": "code",
   "execution_count": 637,
   "metadata": {},
   "outputs": [
    {
     "data": {
      "text/plain": [
       "array([[558,   4],\n",
       "       [101,  12]], dtype=int64)"
      ]
     },
     "execution_count": 637,
     "metadata": {},
     "output_type": "execute_result"
    }
   ],
   "source": [
    "confusion_matrix(y_test, rf_pred)"
   ]
  },
  {
   "cell_type": "markdown",
   "metadata": {},
   "source": [
    "#### View the classification report for test data and predictions"
   ]
  },
  {
   "cell_type": "code",
   "execution_count": 638,
   "metadata": {},
   "outputs": [
    {
     "name": "stdout",
     "output_type": "stream",
     "text": [
      "              precision    recall  f1-score   support\n",
      "\n",
      "           0       0.85      0.99      0.91       562\n",
      "           1       0.75      0.11      0.19       113\n",
      "\n",
      "    accuracy                           0.84       675\n",
      "   macro avg       0.80      0.55      0.55       675\n",
      "weighted avg       0.83      0.84      0.79       675\n",
      "\n"
     ]
    }
   ],
   "source": [
    "print(classification_report(y_test, rf_pred))"
   ]
  },
  {
   "cell_type": "markdown",
   "metadata": {
    "id": "QLMhDigAcz-U"
   },
   "source": [
    "### Feature Importance"
   ]
  },
  {
   "cell_type": "code",
   "execution_count": 619,
   "metadata": {
    "colab": {
     "base_uri": "https://localhost:8080/",
     "height": 362
    },
    "id": "h-P09EZYcMd9",
    "outputId": "2e286e7d-d3bb-4796-d384-c013cf15cb2e"
   },
   "outputs": [
    {
     "data": {
      "text/html": [
       "<style type=\"text/css\">\n",
       "#T_7bd25_row0_col1 {\n",
       "  background-color: #023858;\n",
       "  color: #f1f1f1;\n",
       "}\n",
       "#T_7bd25_row1_col1 {\n",
       "  background-color: #b5c4df;\n",
       "  color: #000000;\n",
       "}\n",
       "#T_7bd25_row2_col1 {\n",
       "  background-color: #bfc9e1;\n",
       "  color: #000000;\n",
       "}\n",
       "#T_7bd25_row3_col1 {\n",
       "  background-color: #d1d2e6;\n",
       "  color: #000000;\n",
       "}\n",
       "#T_7bd25_row4_col1 {\n",
       "  background-color: #d3d4e7;\n",
       "  color: #000000;\n",
       "}\n",
       "#T_7bd25_row5_col1 {\n",
       "  background-color: #e9e5f1;\n",
       "  color: #000000;\n",
       "}\n",
       "#T_7bd25_row6_col1 {\n",
       "  background-color: #f0eaf4;\n",
       "  color: #000000;\n",
       "}\n",
       "#T_7bd25_row7_col1 {\n",
       "  background-color: #fbf3f9;\n",
       "  color: #000000;\n",
       "}\n",
       "#T_7bd25_row8_col1 {\n",
       "  background-color: #fff7fb;\n",
       "  color: #000000;\n",
       "}\n",
       "</style>\n",
       "<table id=\"T_7bd25_\">\n",
       "  <thead>\n",
       "    <tr>\n",
       "      <th class=\"col_heading level0 col0\" >feature</th>\n",
       "      <th class=\"col_heading level0 col1\" >importance</th>\n",
       "    </tr>\n",
       "  </thead>\n",
       "  <tbody>\n",
       "    <tr>\n",
       "      <td id=\"T_7bd25_row0_col0\" class=\"data row0 col0\" >z_score</td>\n",
       "      <td id=\"T_7bd25_row0_col1\" class=\"data row0 col1\" >16.8%</td>\n",
       "    </tr>\n",
       "    <tr>\n",
       "      <td id=\"T_7bd25_row1_col0\" class=\"data row1 col0\" >Crude Oil WTI</td>\n",
       "      <td id=\"T_7bd25_row1_col1\" class=\"data row1 col1\" >11.6%</td>\n",
       "    </tr>\n",
       "    <tr>\n",
       "      <td id=\"T_7bd25_row2_col0\" class=\"data row2 col0\" >forex</td>\n",
       "      <td id=\"T_7bd25_row2_col1\" class=\"data row2 col1\" >11.4%</td>\n",
       "    </tr>\n",
       "    <tr>\n",
       "      <td id=\"T_7bd25_row3_col0\" class=\"data row3 col0\" >LME - Aluminium</td>\n",
       "      <td id=\"T_7bd25_row3_col1\" class=\"data row3 col1\" >11.0%</td>\n",
       "    </tr>\n",
       "    <tr>\n",
       "      <td id=\"T_7bd25_row4_col0\" class=\"data row4 col0\" >Baltic Dry (BDI)</td>\n",
       "      <td id=\"T_7bd25_row4_col1\" class=\"data row4 col1\" >10.9%</td>\n",
       "    </tr>\n",
       "    <tr>\n",
       "      <td id=\"T_7bd25_row5_col0\" class=\"data row5 col0\" >Gold</td>\n",
       "      <td id=\"T_7bd25_row5_col1\" class=\"data row5 col1\" >10.1%</td>\n",
       "    </tr>\n",
       "    <tr>\n",
       "      <td id=\"T_7bd25_row6_col0\" class=\"data row6 col0\" >Brent Spot Europe</td>\n",
       "      <td id=\"T_7bd25_row6_col1\" class=\"data row6 col1\" >9.8%</td>\n",
       "    </tr>\n",
       "    <tr>\n",
       "      <td id=\"T_7bd25_row7_col0\" class=\"data row7 col0\" >Crude Oil Europe</td>\n",
       "      <td id=\"T_7bd25_row7_col1\" class=\"data row7 col1\" >9.3%</td>\n",
       "    </tr>\n",
       "    <tr>\n",
       "      <td id=\"T_7bd25_row8_col0\" class=\"data row8 col0\" >RFV Natural Gas1</td>\n",
       "      <td id=\"T_7bd25_row8_col1\" class=\"data row8 col1\" >9.0%</td>\n",
       "    </tr>\n",
       "  </tbody>\n",
       "</table>\n"
      ],
      "text/plain": [
       "<pandas.io.formats.style.Styler at 0x1b8978943a0>"
      ]
     },
     "execution_count": 619,
     "metadata": {},
     "output_type": "execute_result"
    }
   ],
   "source": [
    "cm = sns.light_palette(\"blue\", as_cmap=True)\n",
    "\n",
    "FI = pd.DataFrame({'feature': list(X_train.columns),\n",
    "                   'importance': model.feature_importances_}).\\\n",
    "                    sort_values('importance', ascending = False)\\\n",
    "                    .style.format({'importance': '{:.1%}'})\\\n",
    "                    .hide_index()\\\n",
    "                    .background_gradient()\n",
    "FI"
   ]
  },
  {
   "cell_type": "code",
   "execution_count": 621,
   "metadata": {},
   "outputs": [
    {
     "data": {
      "text/plain": [
       "0.845"
      ]
     },
     "execution_count": 621,
     "metadata": {},
     "output_type": "execute_result"
    }
   ],
   "source": [
    "rf_prob.max()"
   ]
  },
  {
   "cell_type": "markdown",
   "metadata": {},
   "source": [
    "## NOTES\n",
    "* Hard to predict \"Good Points\" with a simple Random Forest model\n",
    "    * The confusion matrix displays this well\n",
    "* Lundin & Equinor most promising pair so far.\n",
    "* Excluding the z-score does not give better results than 50% (equals random guessing)\n",
    "\n",
    "Is there really any valid reason for developing the \"Good points\", that corresponds to the goal goal of the thesis?\n",
    "* Foreigners on Oslo Børs"
   ]
  },
  {
   "cell_type": "code",
   "execution_count": null,
   "metadata": {},
   "outputs": [],
   "source": []
  }
 ],
 "metadata": {
  "colab": {
   "collapsed_sections": [],
   "name": "Predicting \"Good points\" using Random Forest.ipynb",
   "provenance": []
  },
  "kernelspec": {
   "display_name": "Python 3",
   "language": "python",
   "name": "python3"
  },
  "language_info": {
   "codemirror_mode": {
    "name": "ipython",
    "version": 3
   },
   "file_extension": ".py",
   "mimetype": "text/x-python",
   "name": "python",
   "nbconvert_exporter": "python",
   "pygments_lexer": "ipython3",
   "version": "3.8.5"
  }
 },
 "nbformat": 4,
 "nbformat_minor": 1
}
