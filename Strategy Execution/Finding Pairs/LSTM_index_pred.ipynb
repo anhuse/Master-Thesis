{
 "cells": [
  {
   "cell_type": "markdown",
   "metadata": {
    "id": "tyPfhD6tY_LS"
   },
   "source": [
    "# Multivariate Forecasting LSTM - 03.02 (OWN)\n",
    "> Predicting a single point in the future\n",
    "### Overview\n",
    "* [Functionality](#Functionality)\n",
    "* [Data - Factors and pairs](#Data---Factors-and-pairs)\n",
    "    * [Valuta](#Valuta)\n",
    "    * [Pairs](#Pairs)\n",
    "    * [Factors](#Factors)\n",
    "* [Preparing data](#Preparing-data)\n",
    "    * [Normalizing](#Normalizing)\n",
    "    * [Adding Features](#Adding-Features)\n",
    "    * [Splitting](#Splitting)\n",
    "* [Training dataset](#Training-dataset)\n",
    "* [Validation dataset](#Validation-dataset)\n",
    "* [Training](#Training)\n",
    "    * [Model Architecture](#Model-Architecture)\n",
    "    * [Callbacks and compiling](#Callbacks-and-compiling)\n",
    "* [Prediction](#Prediction)"
   ]
  },
  {
   "cell_type": "code",
   "execution_count": 31,
   "metadata": {},
   "outputs": [],
   "source": [
    "def normalize(data, train_split):\n",
    "    data_mean = data[:train_split].mean(axis=0)\n",
    "    data_std = data[:train_split].std(axis=0)\n",
    "    return (data - data_mean) / data_std\n"
   ]
  },
  {
   "cell_type": "code",
   "execution_count": 6,
   "metadata": {
    "colab": {
     "base_uri": "https://localhost:8080/",
     "height": 661
    },
    "id": "4WNYEhkBY_LT",
    "outputId": "255aef84-44b5-40b2-981e-0913c6d9bf4e"
   },
   "outputs": [],
   "source": [
    "import pandas as pd\n",
    "import matplotlib.pyplot as plt\n",
    "import tensorflow as tf\n",
    "from tensorflow import keras\n",
    "import yfinance as yf\n",
    "\n",
    "### Variables\n",
    "\n",
    "split_fraction = 0.715\n",
    "learning_rate = 0.001\n",
    "past = 100\n",
    "future = 2\n",
    "\n",
    "START = '2013-01-01'\n",
    "END = '2022-01-01'\n",
    "\n",
    "days_to_pred = 5\n",
    "tt_split = 0.7"
   ]
  },
  {
   "cell_type": "markdown",
   "metadata": {},
   "source": [
    "### Indices"
   ]
  },
  {
   "cell_type": "code",
   "execution_count": 1,
   "metadata": {},
   "outputs": [
    {
     "data": {
      "application/javascript": [
       "\n",
       "        if (window._pyforest_update_imports_cell) { window._pyforest_update_imports_cell('import pandas as pd'); }\n",
       "    "
      ],
      "text/plain": [
       "<IPython.core.display.Javascript object>"
      ]
     },
     "metadata": {},
     "output_type": "display_data"
    },
    {
     "data": {
      "text/html": [
       "<div>\n",
       "<style scoped>\n",
       "    .dataframe tbody tr th:only-of-type {\n",
       "        vertical-align: middle;\n",
       "    }\n",
       "\n",
       "    .dataframe tbody tr th {\n",
       "        vertical-align: top;\n",
       "    }\n",
       "\n",
       "    .dataframe thead th {\n",
       "        text-align: right;\n",
       "    }\n",
       "</style>\n",
       "<table border=\"1\" class=\"dataframe\">\n",
       "  <thead>\n",
       "    <tr style=\"text-align: right;\">\n",
       "      <th></th>\n",
       "      <th>OSEBX</th>\n",
       "      <th>S&amp;P 500</th>\n",
       "      <th>NYSE</th>\n",
       "      <th>FTSE 100</th>\n",
       "      <th>MSCI CANADA</th>\n",
       "      <th>MSCI AUSTRALIA</th>\n",
       "      <th>CAC 40</th>\n",
       "      <th>HANG SENG</th>\n",
       "      <th>TOPIX</th>\n",
       "    </tr>\n",
       "    <tr>\n",
       "      <th>Date</th>\n",
       "      <th></th>\n",
       "      <th></th>\n",
       "      <th></th>\n",
       "      <th></th>\n",
       "      <th></th>\n",
       "      <th></th>\n",
       "      <th></th>\n",
       "      <th></th>\n",
       "      <th></th>\n",
       "    </tr>\n",
       "  </thead>\n",
       "  <tbody>\n",
       "    <tr>\n",
       "      <th>2012-03-02</th>\n",
       "      <td>0.001704</td>\n",
       "      <td>-0.003205</td>\n",
       "      <td>-0.006075</td>\n",
       "      <td>-0.003392</td>\n",
       "      <td>-0.007050</td>\n",
       "      <td>0.003848</td>\n",
       "      <td>0.000411</td>\n",
       "      <td>0.008203</td>\n",
       "      <td>0.007553</td>\n",
       "    </tr>\n",
       "    <tr>\n",
       "      <th>2012-03-05</th>\n",
       "      <td>-0.013377</td>\n",
       "      <td>-0.003813</td>\n",
       "      <td>-0.004118</td>\n",
       "      <td>-0.006144</td>\n",
       "      <td>-0.009166</td>\n",
       "      <td>-0.000987</td>\n",
       "      <td>-0.003894</td>\n",
       "      <td>-0.013772</td>\n",
       "      <td>-0.005917</td>\n",
       "    </tr>\n",
       "    <tr>\n",
       "      <th>2012-03-06</th>\n",
       "      <td>-0.029738</td>\n",
       "      <td>-0.015341</td>\n",
       "      <td>-0.021120</td>\n",
       "      <td>-0.018556</td>\n",
       "      <td>-0.018658</td>\n",
       "      <td>-0.013369</td>\n",
       "      <td>-0.035836</td>\n",
       "      <td>-0.021587</td>\n",
       "      <td>-0.006616</td>\n",
       "    </tr>\n",
       "    <tr>\n",
       "      <th>2012-03-07</th>\n",
       "      <td>0.012440</td>\n",
       "      <td>0.007205</td>\n",
       "      <td>0.007798</td>\n",
       "      <td>0.006370</td>\n",
       "      <td>0.002698</td>\n",
       "      <td>-0.013842</td>\n",
       "      <td>0.008853</td>\n",
       "      <td>-0.008578</td>\n",
       "      <td>-0.005588</td>\n",
       "    </tr>\n",
       "    <tr>\n",
       "      <th>2012-03-08</th>\n",
       "      <td>0.018467</td>\n",
       "      <td>0.009915</td>\n",
       "      <td>0.012935</td>\n",
       "      <td>0.011797</td>\n",
       "      <td>0.009545</td>\n",
       "      <td>0.006234</td>\n",
       "      <td>0.025361</td>\n",
       "      <td>0.013232</td>\n",
       "      <td>0.016347</td>\n",
       "    </tr>\n",
       "  </tbody>\n",
       "</table>\n",
       "</div>"
      ],
      "text/plain": [
       "               OSEBX   S&P 500      NYSE  FTSE 100  MSCI CANADA  \\\n",
       "Date                                                              \n",
       "2012-03-02  0.001704 -0.003205 -0.006075 -0.003392    -0.007050   \n",
       "2012-03-05 -0.013377 -0.003813 -0.004118 -0.006144    -0.009166   \n",
       "2012-03-06 -0.029738 -0.015341 -0.021120 -0.018556    -0.018658   \n",
       "2012-03-07  0.012440  0.007205  0.007798  0.006370     0.002698   \n",
       "2012-03-08  0.018467  0.009915  0.012935  0.011797     0.009545   \n",
       "\n",
       "            MSCI AUSTRALIA    CAC 40  HANG SENG     TOPIX  \n",
       "Date                                                       \n",
       "2012-03-02        0.003848  0.000411   0.008203  0.007553  \n",
       "2012-03-05       -0.000987 -0.003894  -0.013772 -0.005917  \n",
       "2012-03-06       -0.013369 -0.035836  -0.021587 -0.006616  \n",
       "2012-03-07       -0.013842  0.008853  -0.008578 -0.005588  \n",
       "2012-03-08        0.006234  0.025361   0.013232  0.016347  "
      ]
     },
     "execution_count": 1,
     "metadata": {},
     "output_type": "execute_result"
    }
   ],
   "source": [
    "indices = pd.read_excel('MASTER_A.xlsx',\n",
    "                        sheet_name = 'Indices2',\n",
    "                        usecols=['Date', 'OSEBX', 'S&P 500', 'NYSE', 'FTSE 100',\n",
    "                                 'MSCI CANADA','MSCI AUSTRALIA', 'CAC 40',\n",
    "                                 'HANG SENG', 'TOPIX',\n",
    "                                 ],\n",
    "                        index_col = 'Date')\n",
    "indices = indices[1:]\n",
    "indices_returns = indices.pct_change()[1:]\n",
    "indices_returns.index = indices_returns.index.astype(str) \n",
    "indices_returns.head()"
   ]
  },
  {
   "cell_type": "markdown",
   "metadata": {},
   "source": [
    "### Factors"
   ]
  },
  {
   "cell_type": "code",
   "execution_count": 11,
   "metadata": {},
   "outputs": [
    {
     "data": {
      "text/html": [
       "<div>\n",
       "<style scoped>\n",
       "    .dataframe tbody tr th:only-of-type {\n",
       "        vertical-align: middle;\n",
       "    }\n",
       "\n",
       "    .dataframe tbody tr th {\n",
       "        vertical-align: top;\n",
       "    }\n",
       "\n",
       "    .dataframe thead th {\n",
       "        text-align: right;\n",
       "    }\n",
       "</style>\n",
       "<table border=\"1\" class=\"dataframe\">\n",
       "  <thead>\n",
       "    <tr style=\"text-align: right;\">\n",
       "      <th></th>\n",
       "      <th>WTI Crude Oil</th>\n",
       "      <th>Aluminium</th>\n",
       "      <th>Natural Gas - RFV</th>\n",
       "      <th>10Y NO</th>\n",
       "      <th>10Y US</th>\n",
       "      <th>10Y UK</th>\n",
       "    </tr>\n",
       "    <tr>\n",
       "      <th>Date</th>\n",
       "      <th></th>\n",
       "      <th></th>\n",
       "      <th></th>\n",
       "      <th></th>\n",
       "      <th></th>\n",
       "      <th></th>\n",
       "    </tr>\n",
       "  </thead>\n",
       "  <tbody>\n",
       "    <tr>\n",
       "      <th>2012-03-02</th>\n",
       "      <td>-0.018941</td>\n",
       "      <td>-0.011461</td>\n",
       "      <td>0.025806</td>\n",
       "      <td>0.0425</td>\n",
       "      <td>-0.4335</td>\n",
       "      <td>-0.5525</td>\n",
       "    </tr>\n",
       "    <tr>\n",
       "      <th>2012-03-05</th>\n",
       "      <td>0.000187</td>\n",
       "      <td>-0.018375</td>\n",
       "      <td>0.002096</td>\n",
       "      <td>-0.0510</td>\n",
       "      <td>0.2380</td>\n",
       "      <td>0.2125</td>\n",
       "    </tr>\n",
       "    <tr>\n",
       "      <th>2012-03-06</th>\n",
       "      <td>-0.018928</td>\n",
       "      <td>-0.023064</td>\n",
       "      <td>-0.014644</td>\n",
       "      <td>-0.0255</td>\n",
       "      <td>-0.4845</td>\n",
       "      <td>-0.3825</td>\n",
       "    </tr>\n",
       "    <tr>\n",
       "      <th>2012-03-07</th>\n",
       "      <td>0.013945</td>\n",
       "      <td>-0.012203</td>\n",
       "      <td>0.006369</td>\n",
       "      <td>-0.0170</td>\n",
       "      <td>0.1870</td>\n",
       "      <td>-0.0085</td>\n",
       "    </tr>\n",
       "    <tr>\n",
       "      <th>2012-03-08</th>\n",
       "      <td>0.003956</td>\n",
       "      <td>-0.001386</td>\n",
       "      <td>0.021097</td>\n",
       "      <td>0.2720</td>\n",
       "      <td>0.3740</td>\n",
       "      <td>0.1190</td>\n",
       "    </tr>\n",
       "  </tbody>\n",
       "</table>\n",
       "</div>"
      ],
      "text/plain": [
       "            WTI Crude Oil  Aluminium  Natural Gas - RFV  10Y NO  10Y US  \\\n",
       "Date                                                                      \n",
       "2012-03-02      -0.018941  -0.011461           0.025806  0.0425 -0.4335   \n",
       "2012-03-05       0.000187  -0.018375           0.002096 -0.0510  0.2380   \n",
       "2012-03-06      -0.018928  -0.023064          -0.014644 -0.0255 -0.4845   \n",
       "2012-03-07       0.013945  -0.012203           0.006369 -0.0170  0.1870   \n",
       "2012-03-08       0.003956  -0.001386           0.021097  0.2720  0.3740   \n",
       "\n",
       "            10Y UK  \n",
       "Date                \n",
       "2012-03-02 -0.5525  \n",
       "2012-03-05  0.2125  \n",
       "2012-03-06 -0.3825  \n",
       "2012-03-07 -0.0085  \n",
       "2012-03-08  0.1190  "
      ]
     },
     "execution_count": 11,
     "metadata": {},
     "output_type": "execute_result"
    }
   ],
   "source": [
    "factor_returns = pd.read_excel('FACTOR_RETURNS.xlsx',\n",
    "                               index_col='Date')\n",
    "factor_returns = factor_returns[['WTI Crude Oil', 'Aluminium',\n",
    "                                 'Natural Gas - RFV', '10Y NO',\n",
    "                                 '10Y US', '10Y UK']]\n",
    "factor_returns.head()"
   ]
  },
  {
   "cell_type": "markdown",
   "metadata": {},
   "source": [
    "### Concatenating"
   ]
  },
  {
   "cell_type": "code",
   "execution_count": 12,
   "metadata": {},
   "outputs": [
    {
     "data": {
      "text/html": [
       "<div>\n",
       "<style scoped>\n",
       "    .dataframe tbody tr th:only-of-type {\n",
       "        vertical-align: middle;\n",
       "    }\n",
       "\n",
       "    .dataframe tbody tr th {\n",
       "        vertical-align: top;\n",
       "    }\n",
       "\n",
       "    .dataframe thead th {\n",
       "        text-align: right;\n",
       "    }\n",
       "</style>\n",
       "<table border=\"1\" class=\"dataframe\">\n",
       "  <thead>\n",
       "    <tr style=\"text-align: right;\">\n",
       "      <th></th>\n",
       "      <th>OSEBX</th>\n",
       "      <th>S&amp;P 500</th>\n",
       "      <th>NYSE</th>\n",
       "      <th>FTSE 100</th>\n",
       "      <th>MSCI CANADA</th>\n",
       "      <th>MSCI AUSTRALIA</th>\n",
       "      <th>CAC 40</th>\n",
       "      <th>HANG SENG</th>\n",
       "      <th>TOPIX</th>\n",
       "      <th>WTI Crude Oil</th>\n",
       "      <th>Aluminium</th>\n",
       "      <th>Natural Gas - RFV</th>\n",
       "      <th>10Y NO</th>\n",
       "      <th>10Y US</th>\n",
       "      <th>10Y UK</th>\n",
       "    </tr>\n",
       "    <tr>\n",
       "      <th>Date</th>\n",
       "      <th></th>\n",
       "      <th></th>\n",
       "      <th></th>\n",
       "      <th></th>\n",
       "      <th></th>\n",
       "      <th></th>\n",
       "      <th></th>\n",
       "      <th></th>\n",
       "      <th></th>\n",
       "      <th></th>\n",
       "      <th></th>\n",
       "      <th></th>\n",
       "      <th></th>\n",
       "      <th></th>\n",
       "      <th></th>\n",
       "    </tr>\n",
       "  </thead>\n",
       "  <tbody>\n",
       "    <tr>\n",
       "      <th>2012-03-02</th>\n",
       "      <td>0.001704</td>\n",
       "      <td>-0.003205</td>\n",
       "      <td>-0.006075</td>\n",
       "      <td>-0.003392</td>\n",
       "      <td>-0.007050</td>\n",
       "      <td>0.003848</td>\n",
       "      <td>0.000411</td>\n",
       "      <td>0.008203</td>\n",
       "      <td>0.007553</td>\n",
       "      <td>-0.018941</td>\n",
       "      <td>-0.011461</td>\n",
       "      <td>0.025806</td>\n",
       "      <td>0.0425</td>\n",
       "      <td>-0.4335</td>\n",
       "      <td>-0.5525</td>\n",
       "    </tr>\n",
       "    <tr>\n",
       "      <th>2012-03-05</th>\n",
       "      <td>-0.013377</td>\n",
       "      <td>-0.003813</td>\n",
       "      <td>-0.004118</td>\n",
       "      <td>-0.006144</td>\n",
       "      <td>-0.009166</td>\n",
       "      <td>-0.000987</td>\n",
       "      <td>-0.003894</td>\n",
       "      <td>-0.013772</td>\n",
       "      <td>-0.005917</td>\n",
       "      <td>0.000187</td>\n",
       "      <td>-0.018375</td>\n",
       "      <td>0.002096</td>\n",
       "      <td>-0.0510</td>\n",
       "      <td>0.2380</td>\n",
       "      <td>0.2125</td>\n",
       "    </tr>\n",
       "    <tr>\n",
       "      <th>2012-03-06</th>\n",
       "      <td>-0.029738</td>\n",
       "      <td>-0.015341</td>\n",
       "      <td>-0.021120</td>\n",
       "      <td>-0.018556</td>\n",
       "      <td>-0.018658</td>\n",
       "      <td>-0.013369</td>\n",
       "      <td>-0.035836</td>\n",
       "      <td>-0.021587</td>\n",
       "      <td>-0.006616</td>\n",
       "      <td>-0.018928</td>\n",
       "      <td>-0.023064</td>\n",
       "      <td>-0.014644</td>\n",
       "      <td>-0.0255</td>\n",
       "      <td>-0.4845</td>\n",
       "      <td>-0.3825</td>\n",
       "    </tr>\n",
       "    <tr>\n",
       "      <th>2012-03-07</th>\n",
       "      <td>0.012440</td>\n",
       "      <td>0.007205</td>\n",
       "      <td>0.007798</td>\n",
       "      <td>0.006370</td>\n",
       "      <td>0.002698</td>\n",
       "      <td>-0.013842</td>\n",
       "      <td>0.008853</td>\n",
       "      <td>-0.008578</td>\n",
       "      <td>-0.005588</td>\n",
       "      <td>0.013945</td>\n",
       "      <td>-0.012203</td>\n",
       "      <td>0.006369</td>\n",
       "      <td>-0.0170</td>\n",
       "      <td>0.1870</td>\n",
       "      <td>-0.0085</td>\n",
       "    </tr>\n",
       "    <tr>\n",
       "      <th>2012-03-08</th>\n",
       "      <td>0.018467</td>\n",
       "      <td>0.009915</td>\n",
       "      <td>0.012935</td>\n",
       "      <td>0.011797</td>\n",
       "      <td>0.009545</td>\n",
       "      <td>0.006234</td>\n",
       "      <td>0.025361</td>\n",
       "      <td>0.013232</td>\n",
       "      <td>0.016347</td>\n",
       "      <td>0.003956</td>\n",
       "      <td>-0.001386</td>\n",
       "      <td>0.021097</td>\n",
       "      <td>0.2720</td>\n",
       "      <td>0.3740</td>\n",
       "      <td>0.1190</td>\n",
       "    </tr>\n",
       "  </tbody>\n",
       "</table>\n",
       "</div>"
      ],
      "text/plain": [
       "               OSEBX   S&P 500      NYSE  FTSE 100  MSCI CANADA  \\\n",
       "Date                                                              \n",
       "2012-03-02  0.001704 -0.003205 -0.006075 -0.003392    -0.007050   \n",
       "2012-03-05 -0.013377 -0.003813 -0.004118 -0.006144    -0.009166   \n",
       "2012-03-06 -0.029738 -0.015341 -0.021120 -0.018556    -0.018658   \n",
       "2012-03-07  0.012440  0.007205  0.007798  0.006370     0.002698   \n",
       "2012-03-08  0.018467  0.009915  0.012935  0.011797     0.009545   \n",
       "\n",
       "            MSCI AUSTRALIA    CAC 40  HANG SENG     TOPIX  WTI Crude Oil  \\\n",
       "Date                                                                       \n",
       "2012-03-02        0.003848  0.000411   0.008203  0.007553      -0.018941   \n",
       "2012-03-05       -0.000987 -0.003894  -0.013772 -0.005917       0.000187   \n",
       "2012-03-06       -0.013369 -0.035836  -0.021587 -0.006616      -0.018928   \n",
       "2012-03-07       -0.013842  0.008853  -0.008578 -0.005588       0.013945   \n",
       "2012-03-08        0.006234  0.025361   0.013232  0.016347       0.003956   \n",
       "\n",
       "            Aluminium  Natural Gas - RFV  10Y NO  10Y US  10Y UK  \n",
       "Date                                                              \n",
       "2012-03-02  -0.011461           0.025806  0.0425 -0.4335 -0.5525  \n",
       "2012-03-05  -0.018375           0.002096 -0.0510  0.2380  0.2125  \n",
       "2012-03-06  -0.023064          -0.014644 -0.0255 -0.4845 -0.3825  \n",
       "2012-03-07  -0.012203           0.006369 -0.0170  0.1870 -0.0085  \n",
       "2012-03-08  -0.001386           0.021097  0.2720  0.3740  0.1190  "
      ]
     },
     "execution_count": 12,
     "metadata": {},
     "output_type": "execute_result"
    }
   ],
   "source": [
    "data = pd.concat([indices_returns, factor_returns], axis=1)\n",
    "assert data.isnull().sum().sum() == 0, \"nul values present in data\"\n",
    "data = data.astype(float)\n",
    "data.head()"
   ]
  },
  {
   "cell_type": "markdown",
   "metadata": {},
   "source": [
    "### Preparing data"
   ]
  },
  {
   "cell_type": "markdown",
   "metadata": {},
   "source": [
    "#### Normalizing"
   ]
  },
  {
   "cell_type": "code",
   "execution_count": 58,
   "metadata": {},
   "outputs": [
    {
     "data": {
      "text/html": [
       "<div>\n",
       "<style scoped>\n",
       "    .dataframe tbody tr th:only-of-type {\n",
       "        vertical-align: middle;\n",
       "    }\n",
       "\n",
       "    .dataframe tbody tr th {\n",
       "        vertical-align: top;\n",
       "    }\n",
       "\n",
       "    .dataframe thead th {\n",
       "        text-align: right;\n",
       "    }\n",
       "</style>\n",
       "<table border=\"1\" class=\"dataframe\">\n",
       "  <thead>\n",
       "    <tr style=\"text-align: right;\">\n",
       "      <th></th>\n",
       "      <th>0</th>\n",
       "      <th>1</th>\n",
       "      <th>2</th>\n",
       "      <th>3</th>\n",
       "      <th>4</th>\n",
       "      <th>5</th>\n",
       "      <th>6</th>\n",
       "      <th>7</th>\n",
       "      <th>8</th>\n",
       "      <th>9</th>\n",
       "      <th>10</th>\n",
       "      <th>11</th>\n",
       "      <th>12</th>\n",
       "      <th>13</th>\n",
       "      <th>14</th>\n",
       "    </tr>\n",
       "  </thead>\n",
       "  <tbody>\n",
       "    <tr>\n",
       "      <th>0</th>\n",
       "      <td>0.131100</td>\n",
       "      <td>-0.460861</td>\n",
       "      <td>-0.817185</td>\n",
       "      <td>-0.437407</td>\n",
       "      <td>-1.028524</td>\n",
       "      <td>0.429606</td>\n",
       "      <td>-0.000345</td>\n",
       "      <td>0.757540</td>\n",
       "      <td>0.584403</td>\n",
       "      <td>-0.888361</td>\n",
       "      <td>-0.981306</td>\n",
       "      <td>0.685174</td>\n",
       "      <td>0.149445</td>\n",
       "      <td>-1.195765</td>\n",
       "      <td>-1.401811</td>\n",
       "    </tr>\n",
       "    <tr>\n",
       "      <th>1</th>\n",
       "      <td>-1.423564</td>\n",
       "      <td>-0.536446</td>\n",
       "      <td>-0.568938</td>\n",
       "      <td>-0.765235</td>\n",
       "      <td>-1.325640</td>\n",
       "      <td>-0.174842</td>\n",
       "      <td>-0.393129</td>\n",
       "      <td>-1.364037</td>\n",
       "      <td>-0.534042</td>\n",
       "      <td>0.014905</td>\n",
       "      <td>-1.575543</td>\n",
       "      <td>0.041539</td>\n",
       "      <td>-0.158543</td>\n",
       "      <td>0.643045</td>\n",
       "      <td>0.554163</td>\n",
       "    </tr>\n",
       "    <tr>\n",
       "      <th>2</th>\n",
       "      <td>-3.110231</td>\n",
       "      <td>-1.970231</td>\n",
       "      <td>-2.725823</td>\n",
       "      <td>-2.243860</td>\n",
       "      <td>-2.658727</td>\n",
       "      <td>-1.722722</td>\n",
       "      <td>-3.307671</td>\n",
       "      <td>-2.118592</td>\n",
       "      <td>-0.592054</td>\n",
       "      <td>-0.887759</td>\n",
       "      <td>-1.978579</td>\n",
       "      <td>-0.412908</td>\n",
       "      <td>-0.074546</td>\n",
       "      <td>-1.335422</td>\n",
       "      <td>-0.967150</td>\n",
       "    </tr>\n",
       "    <tr>\n",
       "      <th>3</th>\n",
       "      <td>1.237842</td>\n",
       "      <td>0.833925</td>\n",
       "      <td>0.942694</td>\n",
       "      <td>0.725569</td>\n",
       "      <td>0.340504</td>\n",
       "      <td>-1.781897</td>\n",
       "      <td>0.769923</td>\n",
       "      <td>-0.862548</td>\n",
       "      <td>-0.506673</td>\n",
       "      <td>0.664541</td>\n",
       "      <td>-1.045144</td>\n",
       "      <td>0.157534</td>\n",
       "      <td>-0.046547</td>\n",
       "      <td>0.503388</td>\n",
       "      <td>-0.010896</td>\n",
       "    </tr>\n",
       "    <tr>\n",
       "      <th>4</th>\n",
       "      <td>1.859134</td>\n",
       "      <td>1.171016</td>\n",
       "      <td>1.594372</td>\n",
       "      <td>1.372022</td>\n",
       "      <td>1.302175</td>\n",
       "      <td>0.727871</td>\n",
       "      <td>2.276128</td>\n",
       "      <td>1.243096</td>\n",
       "      <td>1.314508</td>\n",
       "      <td>0.192877</td>\n",
       "      <td>-0.115376</td>\n",
       "      <td>0.557332</td>\n",
       "      <td>0.905417</td>\n",
       "      <td>1.015462</td>\n",
       "      <td>0.315099</td>\n",
       "    </tr>\n",
       "    <tr>\n",
       "      <th>...</th>\n",
       "      <td>...</td>\n",
       "      <td>...</td>\n",
       "      <td>...</td>\n",
       "      <td>...</td>\n",
       "      <td>...</td>\n",
       "      <td>...</td>\n",
       "      <td>...</td>\n",
       "      <td>...</td>\n",
       "      <td>...</td>\n",
       "      <td>...</td>\n",
       "      <td>...</td>\n",
       "      <td>...</td>\n",
       "      <td>...</td>\n",
       "      <td>...</td>\n",
       "      <td>...</td>\n",
       "    </tr>\n",
       "    <tr>\n",
       "      <th>2603</th>\n",
       "      <td>0.699854</td>\n",
       "      <td>-2.351654</td>\n",
       "      <td>-1.579614</td>\n",
       "      <td>0.029666</td>\n",
       "      <td>-1.229092</td>\n",
       "      <td>0.464584</td>\n",
       "      <td>-0.131091</td>\n",
       "      <td>0.541466</td>\n",
       "      <td>-0.042730</td>\n",
       "      <td>0.103672</td>\n",
       "      <td>-0.561904</td>\n",
       "      <td>2.993351</td>\n",
       "      <td>0.709424</td>\n",
       "      <td>0.666321</td>\n",
       "      <td>0.054303</td>\n",
       "    </tr>\n",
       "    <tr>\n",
       "      <th>2604</th>\n",
       "      <td>-1.260782</td>\n",
       "      <td>1.808301</td>\n",
       "      <td>-0.181274</td>\n",
       "      <td>-4.352462</td>\n",
       "      <td>-0.010706</td>\n",
       "      <td>-2.793608</td>\n",
       "      <td>-3.531386</td>\n",
       "      <td>-3.130420</td>\n",
       "      <td>-1.080136</td>\n",
       "      <td>0.370086</td>\n",
       "      <td>2.954003</td>\n",
       "      <td>14.385458</td>\n",
       "      <td>-1.138507</td>\n",
       "      <td>-0.125066</td>\n",
       "      <td>-0.597689</td>\n",
       "    </tr>\n",
       "    <tr>\n",
       "      <th>2605</th>\n",
       "      <td>0.971081</td>\n",
       "      <td>2.734428</td>\n",
       "      <td>3.395957</td>\n",
       "      <td>4.629131</td>\n",
       "      <td>2.478999</td>\n",
       "      <td>-0.517400</td>\n",
       "      <td>3.199631</td>\n",
       "      <td>-0.600928</td>\n",
       "      <td>0.814837</td>\n",
       "      <td>-0.309401</td>\n",
       "      <td>-1.209809</td>\n",
       "      <td>-9.275511</td>\n",
       "      <td>2.025375</td>\n",
       "      <td>0.270627</td>\n",
       "      <td>0.293366</td>\n",
       "    </tr>\n",
       "    <tr>\n",
       "      <th>2606</th>\n",
       "      <td>1.368861</td>\n",
       "      <td>-0.352325</td>\n",
       "      <td>-0.910016</td>\n",
       "      <td>-0.529675</td>\n",
       "      <td>0.084169</td>\n",
       "      <td>1.043868</td>\n",
       "      <td>-1.302674</td>\n",
       "      <td>-0.264078</td>\n",
       "      <td>0.439883</td>\n",
       "      <td>1.814193</td>\n",
       "      <td>0.041774</td>\n",
       "      <td>3.358654</td>\n",
       "      <td>-3.182430</td>\n",
       "      <td>-3.383716</td>\n",
       "      <td>-1.054083</td>\n",
       "    </tr>\n",
       "    <tr>\n",
       "      <th>2607</th>\n",
       "      <td>1.721904</td>\n",
       "      <td>-1.983442</td>\n",
       "      <td>-1.944847</td>\n",
       "      <td>-2.078637</td>\n",
       "      <td>-1.157070</td>\n",
       "      <td>0.491325</td>\n",
       "      <td>-3.632576</td>\n",
       "      <td>0.172542</td>\n",
       "      <td>0.407605</td>\n",
       "      <td>3.794835</td>\n",
       "      <td>2.870291</td>\n",
       "      <td>4.445900</td>\n",
       "      <td>-3.294426</td>\n",
       "      <td>-2.988023</td>\n",
       "      <td>-6.552543</td>\n",
       "    </tr>\n",
       "  </tbody>\n",
       "</table>\n",
       "<p>2608 rows × 15 columns</p>\n",
       "</div>"
      ],
      "text/plain": [
       "            0         1         2         3         4         5         6   \\\n",
       "0     0.131100 -0.460861 -0.817185 -0.437407 -1.028524  0.429606 -0.000345   \n",
       "1    -1.423564 -0.536446 -0.568938 -0.765235 -1.325640 -0.174842 -0.393129   \n",
       "2    -3.110231 -1.970231 -2.725823 -2.243860 -2.658727 -1.722722 -3.307671   \n",
       "3     1.237842  0.833925  0.942694  0.725569  0.340504 -1.781897  0.769923   \n",
       "4     1.859134  1.171016  1.594372  1.372022  1.302175  0.727871  2.276128   \n",
       "...        ...       ...       ...       ...       ...       ...       ...   \n",
       "2603  0.699854 -2.351654 -1.579614  0.029666 -1.229092  0.464584 -0.131091   \n",
       "2604 -1.260782  1.808301 -0.181274 -4.352462 -0.010706 -2.793608 -3.531386   \n",
       "2605  0.971081  2.734428  3.395957  4.629131  2.478999 -0.517400  3.199631   \n",
       "2606  1.368861 -0.352325 -0.910016 -0.529675  0.084169  1.043868 -1.302674   \n",
       "2607  1.721904 -1.983442 -1.944847 -2.078637 -1.157070  0.491325 -3.632576   \n",
       "\n",
       "            7         8         9         10         11        12        13  \\\n",
       "0     0.757540  0.584403 -0.888361 -0.981306   0.685174  0.149445 -1.195765   \n",
       "1    -1.364037 -0.534042  0.014905 -1.575543   0.041539 -0.158543  0.643045   \n",
       "2    -2.118592 -0.592054 -0.887759 -1.978579  -0.412908 -0.074546 -1.335422   \n",
       "3    -0.862548 -0.506673  0.664541 -1.045144   0.157534 -0.046547  0.503388   \n",
       "4     1.243096  1.314508  0.192877 -0.115376   0.557332  0.905417  1.015462   \n",
       "...        ...       ...       ...       ...        ...       ...       ...   \n",
       "2603  0.541466 -0.042730  0.103672 -0.561904   2.993351  0.709424  0.666321   \n",
       "2604 -3.130420 -1.080136  0.370086  2.954003  14.385458 -1.138507 -0.125066   \n",
       "2605 -0.600928  0.814837 -0.309401 -1.209809  -9.275511  2.025375  0.270627   \n",
       "2606 -0.264078  0.439883  1.814193  0.041774   3.358654 -3.182430 -3.383716   \n",
       "2607  0.172542  0.407605  3.794835  2.870291   4.445900 -3.294426 -2.988023   \n",
       "\n",
       "            14  \n",
       "0    -1.401811  \n",
       "1     0.554163  \n",
       "2    -0.967150  \n",
       "3    -0.010896  \n",
       "4     0.315099  \n",
       "...        ...  \n",
       "2603  0.054303  \n",
       "2604 -0.597689  \n",
       "2605  0.293366  \n",
       "2606 -1.054083  \n",
       "2607 -6.552543  \n",
       "\n",
       "[2608 rows x 15 columns]"
      ]
     },
     "execution_count": 58,
     "metadata": {},
     "output_type": "execute_result"
    }
   ],
   "source": [
    "data_norm = normalize(data.values, train_split)\n",
    "data_norm = pd.DataFrame(data_norm)\n",
    "data_norm.head()\n",
    "\n",
    "data_norm"
   ]
  },
  {
   "cell_type": "code",
   "execution_count": 34,
   "metadata": {},
   "outputs": [
    {
     "name": "stdout",
     "output_type": "stream",
     "text": [
      "(1825, 15)\n",
      "(783, 15)\n"
     ]
    }
   ],
   "source": [
    "train_data = data_norm.iloc[:train_split]\n",
    "val_data = data_norm.iloc[train_split:]\n",
    "\n",
    "print(train_data.shape)\n",
    "print(val_data.shape)"
   ]
  },
  {
   "cell_type": "markdown",
   "metadata": {},
   "source": [
    "### Training dataset"
   ]
  },
  {
   "cell_type": "code",
   "execution_count": 59,
   "metadata": {},
   "outputs": [
    {
     "name": "stdout",
     "output_type": "stream",
     "text": [
      "(1825, 14)\n",
      "(1825, 1)\n"
     ]
    }
   ],
   "source": [
    "start = past + future\n",
    "end = start + train_split\n",
    "\n",
    "x_train = train_data.iloc[:,1:].values\n",
    "y_train = data_norm.iloc[start:end][[0]]\n",
    "\n",
    "sequence_length = past\n",
    "\n",
    "print(x_train.shape)\n",
    "print(y_train.shape)"
   ]
  },
  {
   "cell_type": "code",
   "execution_count": 60,
   "metadata": {},
   "outputs": [
    {
     "data": {
      "text/plain": [
       "<BatchDataset shapes: ((None, None, 14), (None, 1)), types: (tf.float64, tf.float64)>"
      ]
     },
     "execution_count": 60,
     "metadata": {},
     "output_type": "execute_result"
    }
   ],
   "source": [
    "dataset_train = keras.preprocessing.timeseries_dataset_from_array(\n",
    "    x_train,\n",
    "    y_train,\n",
    "    sequence_length=sequence_length,\n",
    "    batch_size=batch_size,\n",
    ")\n",
    "dataset_train"
   ]
  },
  {
   "cell_type": "markdown",
   "metadata": {
    "id": "gpn-7DTfY_Le"
   },
   "source": [
    "### Validation dataset\n"
   ]
  },
  {
   "cell_type": "code",
   "execution_count": 61,
   "metadata": {
    "colab": {
     "base_uri": "https://localhost:8080/"
    },
    "id": "ovdmjDqZik81",
    "outputId": "c00297f6-8905-4d71-d310-758e1d0c5e9a"
   },
   "outputs": [
    {
     "name": "stdout",
     "output_type": "stream",
     "text": [
      "Input shape: (20, 100, 14)\n",
      "Target shape: (20, 1)\n"
     ]
    }
   ],
   "source": [
    "batch_size = 20\n",
    "\n",
    "x_end = len(val_data) - past - future\n",
    "\n",
    "label_start = train_split + past + future\n",
    "\n",
    "x_val = train_data.iloc[:x_end,1:].values\n",
    "y_val = data_norm.iloc[label_start][[0]]\n",
    "\n",
    "dataset_val = keras.preprocessing.timeseries_dataset_from_array(\n",
    "    x_val,\n",
    "    y_val,\n",
    "    sequence_length=sequence_length,\n",
    "    batch_size=batch_size,\n",
    ")\n",
    "\n",
    "\n",
    "for batch in dataset_train.take(1):\n",
    "    inputs, targets = batch\n",
    "\n",
    "print(\"Input shape:\", inputs.numpy().shape)\n",
    "print(\"Target shape:\", targets.numpy().shape)"
   ]
  },
  {
   "cell_type": "markdown",
   "metadata": {
    "id": "FQIcpVvfY_Lf"
   },
   "source": [
    "## Training"
   ]
  },
  {
   "cell_type": "markdown",
   "metadata": {
    "id": "FpMflIk_tojR"
   },
   "source": [
    "#### Model Architecture"
   ]
  },
  {
   "cell_type": "code",
   "execution_count": 63,
   "metadata": {
    "colab": {
     "base_uri": "https://localhost:8080/"
    },
    "id": "DyucUbDwjSrB",
    "outputId": "1a2ddbd1-4e3b-438a-e333-abd259e74818"
   },
   "outputs": [
    {
     "name": "stdout",
     "output_type": "stream",
     "text": [
      "Model: \"model_3\"\n",
      "_________________________________________________________________\n",
      "Layer (type)                 Output Shape              Param #   \n",
      "=================================================================\n",
      "input_4 (InputLayer)         [(None, 100, 14)]         0         \n",
      "_________________________________________________________________\n",
      "lstm_6 (LSTM)                (None, 100, 100)          46000     \n",
      "_________________________________________________________________\n",
      "bidirectional (Bidirectional (None, 200)               160800    \n",
      "_________________________________________________________________\n",
      "dense_3 (Dense)              (None, 1)                 201       \n",
      "=================================================================\n",
      "Total params: 207,001\n",
      "Trainable params: 207,001\n",
      "Non-trainable params: 0\n",
      "_________________________________________________________________\n"
     ]
    }
   ],
   "source": [
    "inputs = keras.layers.Input(shape=(inputs.shape[1], inputs.shape[2]))\n",
    "lstm_1 = keras.layers.LSTM(100, return_sequences=True)(inputs)\n",
    "lstm_2 = keras.layers.Bidirectional(keras.layers.LSTM(100))(lstm_1)\n",
    "outputs = keras.layers.Dense(1)(lstm_2)\n",
    "\n",
    "model = keras.Model(inputs=inputs, outputs=outputs)\n",
    "model.compile(optimizer=keras.optimizers.Adam(learning_rate=learning_rate), loss=\"mse\")\n",
    "model.summary()\n"
   ]
  },
  {
   "cell_type": "markdown",
   "metadata": {
    "id": "aik5utRdY_Lg"
   },
   "source": [
    "We'll use the `ModelCheckpoint` callback to regularly save checkpoints, and\n",
    "the `EarlyStopping` callback to interrupt training when the validation loss\n",
    "is not longer improving."
   ]
  },
  {
   "cell_type": "markdown",
   "metadata": {
    "id": "wzM56B68ts28"
   },
   "source": [
    "#### Callbacks and compiling"
   ]
  },
  {
   "cell_type": "code",
   "execution_count": 66,
   "metadata": {},
   "outputs": [],
   "source": [
    "epochs = 6"
   ]
  },
  {
   "cell_type": "code",
   "execution_count": 68,
   "metadata": {
    "colab": {
     "base_uri": "https://localhost:8080/"
    },
    "id": "-ypGfCe1Y_Lg",
    "outputId": "ef6eb7d2-9d92-49ed-d782-5c9b20bdab28"
   },
   "outputs": [
    {
     "name": "stdout",
     "output_type": "stream",
     "text": [
      "Epoch 1/6\n",
      "87/87 [==============================] - 8s 97ms/step - loss: 0.4908 - val_loss: 4.1366\n",
      "Epoch 2/6\n",
      "87/87 [==============================] - 8s 97ms/step - loss: 0.4263 - val_loss: 2.8428\n",
      "Epoch 3/6\n",
      "87/87 [==============================] - 8s 96ms/step - loss: 0.3655 - val_loss: 7.2856\n",
      "Epoch 4/6\n",
      "87/87 [==============================] - 8s 96ms/step - loss: 0.3226 - val_loss: 1.8506\n",
      "Epoch 5/6\n",
      "87/87 [==============================] - 8s 96ms/step - loss: 0.2820 - val_loss: 3.8348\n",
      "Epoch 6/6\n",
      "87/87 [==============================] - 8s 97ms/step - loss: 0.2595 - val_loss: 3.7292\n"
     ]
    }
   ],
   "source": [
    "# es_callback = keras.callbacks.EarlyStopping(monitor=\"val_loss\", min_delta=0, patience=5)\n",
    "\n",
    "# modelckpt_callback = keras.callbacks.ModelCheckpoint(\n",
    "#     monitor=\"val_loss\",\n",
    "#     filepath=path_checkpoint,\n",
    "#     verbose=0,\n",
    "#     save_weights_only=True,\n",
    "#     save_best_only=True,\n",
    "# )\n",
    "\n",
    "history = model.fit(\n",
    "    dataset_train,\n",
    "    epochs=epochs,\n",
    "    validation_data=dataset_val,\n",
    "#     callbacks=[es_callback, modelckpt_callback],\n",
    ")"
   ]
  },
  {
   "cell_type": "markdown",
   "metadata": {
    "id": "EDAFWs5qY_Lg"
   },
   "source": [
    "We can visualize the loss with the function below. After one point, the loss stops\n",
    "decreasing."
   ]
  },
  {
   "cell_type": "code",
   "execution_count": 69,
   "metadata": {
    "colab": {
     "base_uri": "https://localhost:8080/",
     "height": 513
    },
    "id": "1PM8wFkrY_Lg",
    "outputId": "a4a45bdc-c707-4682-bd18-f353e92fc4f3"
   },
   "outputs": [
    {
     "data": {
      "image/png": "[encoded data removed]",
      "text/plain": [
       "<Figure size 1152x576 with 1 Axes>"
      ]
     },
     "metadata": {
      "needs_background": "light"
     },
     "output_type": "display_data"
    }
   ],
   "source": [
    "def visualize_loss(history: keras.callbacks.History, title: str) -> plt.figure:\n",
    "    \"\"\"\n",
    "    Visualizing the training and validation loss\n",
    "    \"\"\"\n",
    "\n",
    "    loss = history.history[\"loss\"]\n",
    "    val_loss = history.history[\"val_loss\"]\n",
    "    epochs = range(len(loss))\n",
    "\n",
    "    plt.figure(figsize=(16,8))\n",
    "    plt.plot(epochs, loss, \"b\", label=\"Training loss\")\n",
    "    plt.plot(epochs, val_loss, \"r\", label=\"Validation loss\")\n",
    "    plt.title(title)\n",
    "    plt.xlabel(\"Epochs\")\n",
    "    plt.ylabel(\"Loss\")\n",
    "    plt.legend()\n",
    "    plt.show()\n",
    "\n",
    "\n",
    "visualize_loss(history, \"Training and Validation Loss\")"
   ]
  },
  {
   "cell_type": "markdown",
   "metadata": {
    "id": "3nCV6ceAY_Lh"
   },
   "source": [
    "## Prediction\n",
    "\n",
    "The trained model above is now able to make predictions for 5 sets of values from\n",
    "validation set."
   ]
  },
  {
   "cell_type": "code",
   "execution_count": 70,
   "metadata": {
    "colab": {
     "base_uri": "https://localhost:8080/",
     "height": 513
    },
    "id": "8qcW6MljY_Lh",
    "outputId": "65c112f3-f2a1-4e63-b5ca-e40e4c9cd60b"
   },
   "outputs": [
    {
     "data": {
      "image/png": "[encoded data removed]",
      "text/plain": [
       "<Figure size 1152x576 with 1 Axes>"
      ]
     },
     "metadata": {
      "needs_background": "light"
     },
     "output_type": "display_data"
    }
   ],
   "source": [
    "\n",
    "def show_plot(plot_data, delta, title):\n",
    "    labels = [\"History\", \"True Future\", \"Model Prediction\"]\n",
    "    marker = [\".-\", \"rx\", \"go\"]\n",
    "    time_steps = list(range(-(plot_data[0].shape[0]), 0))\n",
    "    if delta:\n",
    "        future = delta\n",
    "    else:\n",
    "        future = 0\n",
    "\n",
    "    plt.figure(figsize=(16,8))\n",
    "    plt.title(title)\n",
    "    for i, val in enumerate(plot_data):\n",
    "        if i:\n",
    "            plt.plot(future, plot_data[i], marker[i], markersize=10, label=labels[i])\n",
    "        else:\n",
    "            plt.plot(time_steps, plot_data[i].flatten(), marker[i], label=labels[i])\n",
    "    plt.legend()\n",
    "    plt.xlim([time_steps[0], (future + 5) * 2])\n",
    "    plt.xlabel(\"Time-Step\")\n",
    "    plt.show()\n",
    "    return\n",
    "\n",
    "\n",
    "for x, y in dataset_val.take(5):\n",
    "    show_plot(\n",
    "        [x[0][:, 1].numpy(), y[0].numpy(), model.predict(x)[0]],\n",
    "        12,\n",
    "        \"Single Step Prediction\",\n",
    "    )"
   ]
  },
  {
   "cell_type": "code",
   "execution_count": 16,
   "metadata": {
    "id": "D7AwyjnnuSSy"
   },
   "outputs": [],
   "source": []
  }
 ],
 "metadata": {
  "accelerator": "GPU",
  "colab": {
   "collapsed_sections": [],
   "name": "Copy of timeseries_weather_forecasting",
   "provenance": [],
   "toc_visible": true
  },
  "kernelspec": {
   "display_name": "Python 3",
   "language": "python",
   "name": "python3"
  },
  "language_info": {
   "codemirror_mode": {
    "name": "ipython",
    "version": 3
   },
   "file_extension": ".py",
   "mimetype": "text/x-python",
   "name": "python",
   "nbconvert_exporter": "python",
   "pygments_lexer": "ipython3",
   "version": "3.8.5"
  }
 },
 "nbformat": 4,
 "nbformat_minor": 1
}
