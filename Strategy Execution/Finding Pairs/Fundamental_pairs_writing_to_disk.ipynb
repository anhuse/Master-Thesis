{
 "cells": [
  {
   "cell_type": "markdown",
   "id": "wireless-implement",
   "metadata": {},
   "source": [
    "## Writing fundamrntal pairs to disk\n",
    "* [DNB](#DNB)\n",
    "* [Equinor](#Equinor)\n",
    "* [Telenor](#Telenor)\n",
    "* [Hydro](#Hydro)\n",
    "* [Aker BP](#Aker-BP)\n",
    "* [Yara](#Yara)\n",
    "* [Gjensidige](#Gjensidige)\n",
    "* [Orkla](#Orkla)\n",
    "* [Schibsted A](#Schibsted-A)\n",
    "* [AF Gruppen A](#AF-Gruppen-A)\n",
    "* [Arendals fossekompani](#Arendals-fossekompani)\n",
    "* [Atea](#Atea)\n",
    "* [Borregaard](#Borregaard)\n",
    "* [Bouvet](#Bouvet)\n",
    "* [Frontline](#Frontline)\n",
    "* [Kongsberg gruppen](#Kongsberg-gruppen)\n",
    "* [Nordic Semiconductor](#Nordic-Semiconductor)\n",
    "* [Subsea 7](#Subsea-7)\n",
    "* [Walenius Wilhelmsen](#Walenius-Wilhelmsen)\n",
    "* [DNO](#DNO)\n",
    "* [Protector](#Protector)\n",
    "* [Storebrand](#Storebrand)\n",
    "* [Veidekke](#Veidekke)"
   ]
  },
  {
   "cell_type": "markdown",
   "id": "official-geology",
   "metadata": {},
   "source": [
    "### Equity data"
   ]
  },
  {
   "cell_type": "code",
   "execution_count": 79,
   "id": "decreased-increase",
   "metadata": {},
   "outputs": [
    {
     "data": {
      "application/javascript": [
       "\n",
       "        if (window._pyforest_update_imports_cell) { window._pyforest_update_imports_cell('import pandas as pd'); }\n",
       "    "
      ],
      "text/plain": [
       "<IPython.core.display.Javascript object>"
      ]
     },
     "metadata": {},
     "output_type": "display_data"
    },
    {
     "data": {
      "text/html": [
       "<div>\n",
       "<style scoped>\n",
       "    .dataframe tbody tr th:only-of-type {\n",
       "        vertical-align: middle;\n",
       "    }\n",
       "\n",
       "    .dataframe tbody tr th {\n",
       "        vertical-align: top;\n",
       "    }\n",
       "\n",
       "    .dataframe thead th {\n",
       "        text-align: right;\n",
       "    }\n",
       "</style>\n",
       "<table border=\"1\" class=\"dataframe\">\n",
       "  <thead>\n",
       "    <tr style=\"text-align: right;\">\n",
       "      <th></th>\n",
       "      <th>EQUINOR</th>\n",
       "      <th>DNB BANK</th>\n",
       "      <th>TELENOR</th>\n",
       "      <th>NORSK HYDRO</th>\n",
       "      <th>AKER BP</th>\n",
       "      <th>ADEVINTA</th>\n",
       "      <th>MOWI</th>\n",
       "      <th>YARA INTERNATIONAL</th>\n",
       "      <th>AKER</th>\n",
       "      <th>AKER SOLUTIONS</th>\n",
       "      <th>...</th>\n",
       "      <th>NORWAY ROYAL SALMON</th>\n",
       "      <th>NORWEGIAN AIR SHUTTLE</th>\n",
       "      <th>SBANKEN</th>\n",
       "      <th>PROTECTOR FORSIKRING</th>\n",
       "      <th>SCATEC</th>\n",
       "      <th>STOREBRAND</th>\n",
       "      <th>SUBSEA 7</th>\n",
       "      <th>VEIDEKKE</th>\n",
       "      <th>WALLENIUS WILHELMSEN</th>\n",
       "      <th>XXL</th>\n",
       "    </tr>\n",
       "    <tr>\n",
       "      <th>Name</th>\n",
       "      <th></th>\n",
       "      <th></th>\n",
       "      <th></th>\n",
       "      <th></th>\n",
       "      <th></th>\n",
       "      <th></th>\n",
       "      <th></th>\n",
       "      <th></th>\n",
       "      <th></th>\n",
       "      <th></th>\n",
       "      <th></th>\n",
       "      <th></th>\n",
       "      <th></th>\n",
       "      <th></th>\n",
       "      <th></th>\n",
       "      <th></th>\n",
       "      <th></th>\n",
       "      <th></th>\n",
       "      <th></th>\n",
       "      <th></th>\n",
       "      <th></th>\n",
       "    </tr>\n",
       "  </thead>\n",
       "  <tbody>\n",
       "    <tr>\n",
       "      <th>2012-03-01</th>\n",
       "      <td>365.9</td>\n",
       "      <td>1809.89</td>\n",
       "      <td>327.88</td>\n",
       "      <td>12108.06</td>\n",
       "      <td>162.5</td>\n",
       "      <td>NaN</td>\n",
       "      <td>2.03</td>\n",
       "      <td>610.79</td>\n",
       "      <td>410.22</td>\n",
       "      <td>NaN</td>\n",
       "      <td>...</td>\n",
       "      <td>39.86</td>\n",
       "      <td>277.36</td>\n",
       "      <td>NaN</td>\n",
       "      <td>103.08</td>\n",
       "      <td>NaN</td>\n",
       "      <td>511.87</td>\n",
       "      <td>241.24</td>\n",
       "      <td>4830.77</td>\n",
       "      <td>171.23</td>\n",
       "      <td>NaN</td>\n",
       "    </tr>\n",
       "    <tr>\n",
       "      <th>2012-03-02</th>\n",
       "      <td>366.13</td>\n",
       "      <td>1827.65</td>\n",
       "      <td>327.88</td>\n",
       "      <td>12136.91</td>\n",
       "      <td>162.5</td>\n",
       "      <td>NaN</td>\n",
       "      <td>1.99</td>\n",
       "      <td>602.92</td>\n",
       "      <td>415.87</td>\n",
       "      <td>NaN</td>\n",
       "      <td>...</td>\n",
       "      <td>39.86</td>\n",
       "      <td>278.21</td>\n",
       "      <td>NaN</td>\n",
       "      <td>103.08</td>\n",
       "      <td>NaN</td>\n",
       "      <td>517.77</td>\n",
       "      <td>243.04</td>\n",
       "      <td>4746.39</td>\n",
       "      <td>177.08</td>\n",
       "      <td>NaN</td>\n",
       "    </tr>\n",
       "    <tr>\n",
       "      <th>2012-03-05</th>\n",
       "      <td>363.39</td>\n",
       "      <td>1795.92</td>\n",
       "      <td>331.36</td>\n",
       "      <td>11769.02</td>\n",
       "      <td>159.37</td>\n",
       "      <td>NaN</td>\n",
       "      <td>1.9</td>\n",
       "      <td>582.69</td>\n",
       "      <td>411.35</td>\n",
       "      <td>NaN</td>\n",
       "      <td>...</td>\n",
       "      <td>39.86</td>\n",
       "      <td>279.9</td>\n",
       "      <td>NaN</td>\n",
       "      <td>103.08</td>\n",
       "      <td>NaN</td>\n",
       "      <td>510.15</td>\n",
       "      <td>236.75</td>\n",
       "      <td>4756.94</td>\n",
       "      <td>177.08</td>\n",
       "      <td>NaN</td>\n",
       "    </tr>\n",
       "    <tr>\n",
       "      <th>2012-03-06</th>\n",
       "      <td>355.87</td>\n",
       "      <td>1721.04</td>\n",
       "      <td>324.08</td>\n",
       "      <td>11246.03</td>\n",
       "      <td>155.8</td>\n",
       "      <td>NaN</td>\n",
       "      <td>1.8</td>\n",
       "      <td>567.63</td>\n",
       "      <td>405.7</td>\n",
       "      <td>NaN</td>\n",
       "      <td>...</td>\n",
       "      <td>39.86</td>\n",
       "      <td>278.21</td>\n",
       "      <td>NaN</td>\n",
       "      <td>103.08</td>\n",
       "      <td>NaN</td>\n",
       "      <td>488.26</td>\n",
       "      <td>226.15</td>\n",
       "      <td>4640.92</td>\n",
       "      <td>171.68</td>\n",
       "      <td>NaN</td>\n",
       "    </tr>\n",
       "    <tr>\n",
       "      <th>2012-03-07</th>\n",
       "      <td>359.29</td>\n",
       "      <td>1752.77</td>\n",
       "      <td>325.66</td>\n",
       "      <td>11404.73</td>\n",
       "      <td>155.36</td>\n",
       "      <td>NaN</td>\n",
       "      <td>1.94</td>\n",
       "      <td>577.07</td>\n",
       "      <td>411.35</td>\n",
       "      <td>NaN</td>\n",
       "      <td>...</td>\n",
       "      <td>44.42</td>\n",
       "      <td>271.44</td>\n",
       "      <td>NaN</td>\n",
       "      <td>103.08</td>\n",
       "      <td>NaN</td>\n",
       "      <td>500.64</td>\n",
       "      <td>229.38</td>\n",
       "      <td>4630.37</td>\n",
       "      <td>168.07</td>\n",
       "      <td>NaN</td>\n",
       "    </tr>\n",
       "  </tbody>\n",
       "</table>\n",
       "<p>5 rows × 53 columns</p>\n",
       "</div>"
      ],
      "text/plain": [
       "           EQUINOR DNB BANK TELENOR NORSK HYDRO AKER BP ADEVINTA  MOWI  \\\n",
       "Name                                                                     \n",
       "2012-03-01   365.9  1809.89  327.88    12108.06   162.5      NaN  2.03   \n",
       "2012-03-02  366.13  1827.65  327.88    12136.91   162.5      NaN  1.99   \n",
       "2012-03-05  363.39  1795.92  331.36    11769.02  159.37      NaN   1.9   \n",
       "2012-03-06  355.87  1721.04  324.08    11246.03   155.8      NaN   1.8   \n",
       "2012-03-07  359.29  1752.77  325.66    11404.73  155.36      NaN  1.94   \n",
       "\n",
       "           YARA INTERNATIONAL    AKER AKER SOLUTIONS  ... NORWAY ROYAL SALMON  \\\n",
       "Name                                                  ...                       \n",
       "2012-03-01             610.79  410.22            NaN  ...               39.86   \n",
       "2012-03-02             602.92  415.87            NaN  ...               39.86   \n",
       "2012-03-05             582.69  411.35            NaN  ...               39.86   \n",
       "2012-03-06             567.63   405.7            NaN  ...               39.86   \n",
       "2012-03-07             577.07  411.35            NaN  ...               44.42   \n",
       "\n",
       "           NORWEGIAN AIR SHUTTLE SBANKEN PROTECTOR FORSIKRING SCATEC  \\\n",
       "Name                                                                   \n",
       "2012-03-01                277.36     NaN               103.08    NaN   \n",
       "2012-03-02                278.21     NaN               103.08    NaN   \n",
       "2012-03-05                 279.9     NaN               103.08    NaN   \n",
       "2012-03-06                278.21     NaN               103.08    NaN   \n",
       "2012-03-07                271.44     NaN               103.08    NaN   \n",
       "\n",
       "           STOREBRAND SUBSEA 7 VEIDEKKE WALLENIUS WILHELMSEN  XXL  \n",
       "Name                                                               \n",
       "2012-03-01     511.87   241.24  4830.77               171.23  NaN  \n",
       "2012-03-02     517.77   243.04  4746.39               177.08  NaN  \n",
       "2012-03-05     510.15   236.75  4756.94               177.08  NaN  \n",
       "2012-03-06     488.26   226.15  4640.92               171.68  NaN  \n",
       "2012-03-07     500.64   229.38  4630.37               168.07  NaN  \n",
       "\n",
       "[5 rows x 53 columns]"
      ]
     },
     "execution_count": 79,
     "metadata": {},
     "output_type": "execute_result"
    }
   ],
   "source": [
    "eqt_NO = pd.read_excel('MASTER_A.xlsx',\n",
    "                   sheet_name='Norway',\n",
    "                   index_col='Name')\n",
    "eqt_NO.drop('CURRENCY', inplace=True)\n",
    "eqt_NO.index = eqt_NO.index.astype(str).str[:-9]\n",
    "eqt_NO.rename(columns = lambda x : x.replace(' - TOT RETURN IND', ''),\n",
    "          inplace=True)\n",
    "eqt_NO.head()"
   ]
  },
  {
   "cell_type": "code",
   "execution_count": 1,
   "id": "featured-september",
   "metadata": {},
   "outputs": [
    {
     "data": {
      "application/javascript": [
       "\n",
       "        if (window._pyforest_update_imports_cell) { window._pyforest_update_imports_cell('import pandas as pd'); }\n",
       "    "
      ],
      "text/plain": [
       "<IPython.core.display.Javascript object>"
      ]
     },
     "metadata": {},
     "output_type": "display_data"
    },
    {
     "data": {
      "text/html": [
       "<div>\n",
       "<style scoped>\n",
       "    .dataframe tbody tr th:only-of-type {\n",
       "        vertical-align: middle;\n",
       "    }\n",
       "\n",
       "    .dataframe tbody tr th {\n",
       "        vertical-align: top;\n",
       "    }\n",
       "\n",
       "    .dataframe thead th {\n",
       "        text-align: right;\n",
       "    }\n",
       "</style>\n",
       "<table border=\"1\" class=\"dataframe\">\n",
       "  <thead>\n",
       "    <tr style=\"text-align: right;\">\n",
       "      <th></th>\n",
       "      <th>EQUINOR</th>\n",
       "      <th>DNB BANK</th>\n",
       "      <th>MOWI</th>\n",
       "      <th>TELENOR</th>\n",
       "      <th>DNO</th>\n",
       "      <th>FRONTLINE</th>\n",
       "      <th>GAMING INNOVATION GROUP</th>\n",
       "      <th>GJENSIDIGE FORSIKRING</th>\n",
       "      <th>NORSK HYDRO</th>\n",
       "      <th>SCHIBSTED A</th>\n",
       "      <th>...</th>\n",
       "      <th>STRONGPOINT</th>\n",
       "      <th>SUBSEA 7</th>\n",
       "      <th>TECHSTEP</th>\n",
       "      <th>TGS</th>\n",
       "      <th>TOMRA SYSTEMS</th>\n",
       "      <th>TOTENS SPAREBANK</th>\n",
       "      <th>VEIDEKKE</th>\n",
       "      <th>VOSS VEKSEL- OG LANDMANDSBANK</th>\n",
       "      <th>WALLENIUS WILHELMSEN</th>\n",
       "      <th>WILSON</th>\n",
       "    </tr>\n",
       "    <tr>\n",
       "      <th>Name</th>\n",
       "      <th></th>\n",
       "      <th></th>\n",
       "      <th></th>\n",
       "      <th></th>\n",
       "      <th></th>\n",
       "      <th></th>\n",
       "      <th></th>\n",
       "      <th></th>\n",
       "      <th></th>\n",
       "      <th></th>\n",
       "      <th></th>\n",
       "      <th></th>\n",
       "      <th></th>\n",
       "      <th></th>\n",
       "      <th></th>\n",
       "      <th></th>\n",
       "      <th></th>\n",
       "      <th></th>\n",
       "      <th></th>\n",
       "      <th></th>\n",
       "      <th></th>\n",
       "    </tr>\n",
       "  </thead>\n",
       "  <tbody>\n",
       "    <tr>\n",
       "      <th>2022-02-23</th>\n",
       "      <td>1020.70</td>\n",
       "      <td>7691.81</td>\n",
       "      <td>25.22</td>\n",
       "      <td>728.17</td>\n",
       "      <td>230.25</td>\n",
       "      <td>284.40</td>\n",
       "      <td>4.25</td>\n",
       "      <td>779.39</td>\n",
       "      <td>38774.35</td>\n",
       "      <td>3940.76</td>\n",
       "      <td>...</td>\n",
       "      <td>343.04</td>\n",
       "      <td>142.13</td>\n",
       "      <td>2.19</td>\n",
       "      <td>663.23</td>\n",
       "      <td>3545.35</td>\n",
       "      <td>2491.74</td>\n",
       "      <td>25555.25</td>\n",
       "      <td>4915.64</td>\n",
       "      <td>714.66</td>\n",
       "      <td>701.16</td>\n",
       "    </tr>\n",
       "    <tr>\n",
       "      <th>2022-02-24</th>\n",
       "      <td>1063.49</td>\n",
       "      <td>7150.63</td>\n",
       "      <td>24.12</td>\n",
       "      <td>693.82</td>\n",
       "      <td>236.51</td>\n",
       "      <td>291.11</td>\n",
       "      <td>4.09</td>\n",
       "      <td>761.55</td>\n",
       "      <td>40036.73</td>\n",
       "      <td>3893.30</td>\n",
       "      <td>...</td>\n",
       "      <td>326.44</td>\n",
       "      <td>137.65</td>\n",
       "      <td>2.19</td>\n",
       "      <td>659.79</td>\n",
       "      <td>3455.58</td>\n",
       "      <td>2430.97</td>\n",
       "      <td>25009.86</td>\n",
       "      <td>4873.26</td>\n",
       "      <td>687.13</td>\n",
       "      <td>596.39</td>\n",
       "    </tr>\n",
       "    <tr>\n",
       "      <th>2022-02-25</th>\n",
       "      <td>1005.63</td>\n",
       "      <td>7364.50</td>\n",
       "      <td>25.13</td>\n",
       "      <td>707.07</td>\n",
       "      <td>234.71</td>\n",
       "      <td>294.05</td>\n",
       "      <td>4.33</td>\n",
       "      <td>787.03</td>\n",
       "      <td>40531.96</td>\n",
       "      <td>4139.07</td>\n",
       "      <td>...</td>\n",
       "      <td>329.21</td>\n",
       "      <td>140.51</td>\n",
       "      <td>2.15</td>\n",
       "      <td>673.02</td>\n",
       "      <td>3629.09</td>\n",
       "      <td>2471.49</td>\n",
       "      <td>25204.64</td>\n",
       "      <td>4873.26</td>\n",
       "      <td>709.90</td>\n",
       "      <td>701.16</td>\n",
       "    </tr>\n",
       "    <tr>\n",
       "      <th>2022-02-28</th>\n",
       "      <td>1022.90</td>\n",
       "      <td>7331.02</td>\n",
       "      <td>25.20</td>\n",
       "      <td>705.72</td>\n",
       "      <td>235.35</td>\n",
       "      <td>318.79</td>\n",
       "      <td>4.30</td>\n",
       "      <td>793.22</td>\n",
       "      <td>40570.80</td>\n",
       "      <td>4291.62</td>\n",
       "      <td>...</td>\n",
       "      <td>336.12</td>\n",
       "      <td>138.94</td>\n",
       "      <td>2.18</td>\n",
       "      <td>678.12</td>\n",
       "      <td>3584.20</td>\n",
       "      <td>2471.49</td>\n",
       "      <td>26529.16</td>\n",
       "      <td>4873.26</td>\n",
       "      <td>706.19</td>\n",
       "      <td>648.78</td>\n",
       "    </tr>\n",
       "    <tr>\n",
       "      <th>2022-03-01</th>\n",
       "      <td>1100.41</td>\n",
       "      <td>7152.49</td>\n",
       "      <td>25.90</td>\n",
       "      <td>706.53</td>\n",
       "      <td>247.12</td>\n",
       "      <td>323.61</td>\n",
       "      <td>4.25</td>\n",
       "      <td>793.59</td>\n",
       "      <td>42007.98</td>\n",
       "      <td>4200.09</td>\n",
       "      <td>...</td>\n",
       "      <td>331.97</td>\n",
       "      <td>143.80</td>\n",
       "      <td>2.11</td>\n",
       "      <td>723.60</td>\n",
       "      <td>3614.41</td>\n",
       "      <td>2451.23</td>\n",
       "      <td>26412.29</td>\n",
       "      <td>5000.39</td>\n",
       "      <td>673.37</td>\n",
       "      <td>685.05</td>\n",
       "    </tr>\n",
       "  </tbody>\n",
       "</table>\n",
       "<p>5 rows × 101 columns</p>\n",
       "</div>"
      ],
      "text/plain": [
       "            EQUINOR  DNB BANK   MOWI  TELENOR     DNO  FRONTLINE  \\\n",
       "Name                                                               \n",
       "2022-02-23  1020.70   7691.81  25.22   728.17  230.25     284.40   \n",
       "2022-02-24  1063.49   7150.63  24.12   693.82  236.51     291.11   \n",
       "2022-02-25  1005.63   7364.50  25.13   707.07  234.71     294.05   \n",
       "2022-02-28  1022.90   7331.02  25.20   705.72  235.35     318.79   \n",
       "2022-03-01  1100.41   7152.49  25.90   706.53  247.12     323.61   \n",
       "\n",
       "            GAMING INNOVATION GROUP  GJENSIDIGE FORSIKRING  NORSK HYDRO  \\\n",
       "Name                                                                      \n",
       "2022-02-23                     4.25                 779.39     38774.35   \n",
       "2022-02-24                     4.09                 761.55     40036.73   \n",
       "2022-02-25                     4.33                 787.03     40531.96   \n",
       "2022-02-28                     4.30                 793.22     40570.80   \n",
       "2022-03-01                     4.25                 793.59     42007.98   \n",
       "\n",
       "            SCHIBSTED A  ...  STRONGPOINT  SUBSEA 7  TECHSTEP     TGS  \\\n",
       "Name                     ...                                            \n",
       "2022-02-23      3940.76  ...       343.04    142.13      2.19  663.23   \n",
       "2022-02-24      3893.30  ...       326.44    137.65      2.19  659.79   \n",
       "2022-02-25      4139.07  ...       329.21    140.51      2.15  673.02   \n",
       "2022-02-28      4291.62  ...       336.12    138.94      2.18  678.12   \n",
       "2022-03-01      4200.09  ...       331.97    143.80      2.11  723.60   \n",
       "\n",
       "            TOMRA SYSTEMS  TOTENS SPAREBANK  VEIDEKKE  \\\n",
       "Name                                                    \n",
       "2022-02-23        3545.35           2491.74  25555.25   \n",
       "2022-02-24        3455.58           2430.97  25009.86   \n",
       "2022-02-25        3629.09           2471.49  25204.64   \n",
       "2022-02-28        3584.20           2471.49  26529.16   \n",
       "2022-03-01        3614.41           2451.23  26412.29   \n",
       "\n",
       "            VOSS VEKSEL- OG LANDMANDSBANK  WALLENIUS WILHELMSEN  WILSON  \n",
       "Name                                                                     \n",
       "2022-02-23                        4915.64                714.66  701.16  \n",
       "2022-02-24                        4873.26                687.13  596.39  \n",
       "2022-02-25                        4873.26                709.90  701.16  \n",
       "2022-02-28                        4873.26                706.19  648.78  \n",
       "2022-03-01                        5000.39                673.37  685.05  \n",
       "\n",
       "[5 rows x 101 columns]"
      ]
     },
     "execution_count": 1,
     "metadata": {},
     "output_type": "execute_result"
    }
   ],
   "source": [
    "equities_obx_100 = pd.read_excel('CLEANED_DATA_2.xlsx', sheet_name='NO_EQ_200', index_col='Name')\n",
    "equities_obx_100 = equities_obx_100[:'2022-03-01']\n",
    "equities_obx_100.tail()"
   ]
  },
  {
   "cell_type": "code",
   "execution_count": 2,
   "id": "ideal-archive",
   "metadata": {},
   "outputs": [
    {
     "data": {
      "text/plain": [
       "Index(['EQUINOR', 'DNB BANK', 'MOWI', 'TELENOR', 'DNO', 'FRONTLINE',\n",
       "       'GAMING INNOVATION GROUP', 'GJENSIDIGE FORSIKRING', 'NORSK HYDRO',\n",
       "       'SCHIBSTED A',\n",
       "       ...\n",
       "       'STRONGPOINT', 'SUBSEA 7', 'TECHSTEP', 'TGS', 'TOMRA SYSTEMS',\n",
       "       'TOTENS SPAREBANK', 'VEIDEKKE', 'VOSS VEKSEL- OG LANDMANDSBANK',\n",
       "       'WALLENIUS WILHELMSEN', 'WILSON'],\n",
       "      dtype='object', length=101)"
      ]
     },
     "execution_count": 2,
     "metadata": {},
     "output_type": "execute_result"
    }
   ],
   "source": [
    "equities_obx_100.columns"
   ]
  },
  {
   "cell_type": "markdown",
   "id": "polish-moscow",
   "metadata": {},
   "source": [
    "#### DNB"
   ]
  },
  {
   "cell_type": "code",
   "execution_count": 9,
   "id": "respective-tracy",
   "metadata": {},
   "outputs": [
    {
     "data": {
      "application/javascript": [
       "\n",
       "        if (window._pyforest_update_imports_cell) { window._pyforest_update_imports_cell('import pandas as pd'); }\n",
       "    "
      ],
      "text/plain": [
       "<IPython.core.display.Javascript object>"
      ]
     },
     "metadata": {},
     "output_type": "display_data"
    }
   ],
   "source": [
    "dnb_fund = pd.read_excel('FUND_PAIRS_CLEAN.xlsx',\n",
    "                         sheet_name = 'DNB',\n",
    "                         index_col='Name')\n",
    "dnb_fund = dnb_fund[:'2022-03-01']\n",
    "dnb_eqt = equities_obx_100['DNB BANK']"
   ]
  },
  {
   "cell_type": "code",
   "execution_count": 11,
   "id": "satellite-beach",
   "metadata": {},
   "outputs": [
    {
     "data": {
      "application/javascript": [
       "\n",
       "        if (window._pyforest_update_imports_cell) { window._pyforest_update_imports_cell('import pandas as pd'); }\n",
       "    "
      ],
      "text/plain": [
       "<IPython.core.display.Javascript object>"
      ]
     },
     "metadata": {},
     "output_type": "display_data"
    },
    {
     "data": {
      "text/plain": [
       "NORDEA BANK                        0\n",
       "SVENSKA HANDELSBANKEN A            0\n",
       "DANSKE BANK                        0\n",
       "SKANDINAVISKA ENSKILDA BANKEN A    0\n",
       "BNP PARIBAS                        0\n",
       "LLOYDS BANKING GROUP               0\n",
       "BARCLAYS                           0\n",
       "DNB BANK                           0\n",
       "dtype: int64"
      ]
     },
     "execution_count": 11,
     "metadata": {},
     "output_type": "execute_result"
    }
   ],
   "source": [
    "pd.concat([dnb_fund, dnb_eqt], axis=1).isna().sum()"
   ]
  },
  {
   "cell_type": "code",
   "execution_count": 22,
   "id": "isolated-enterprise",
   "metadata": {},
   "outputs": [
    {
     "data": {
      "application/javascript": [
       "\n",
       "        if (window._pyforest_update_imports_cell) { window._pyforest_update_imports_cell('import pandas as pd'); }\n",
       "    "
      ],
      "text/plain": [
       "<IPython.core.display.Javascript object>"
      ]
     },
     "metadata": {},
     "output_type": "display_data"
    },
    {
     "data": {
      "application/javascript": [
       "\n",
       "        if (window._pyforest_update_imports_cell) { window._pyforest_update_imports_cell('import pandas as pd'); }\n",
       "    "
      ],
      "text/plain": [
       "<IPython.core.display.Javascript object>"
      ]
     },
     "metadata": {},
     "output_type": "display_data"
    },
    {
     "name": "stdout",
     "output_type": "stream",
     "text": [
      "            NORDEA BANK  DNB BANK\n",
      "Name                             \n",
      "2013-01-02   934.680474   1879.65\n",
      "2013-01-03   933.220476   1879.65\n",
      "2013-01-04   944.702184   1905.76\n",
      "2013-01-07   947.462534   1905.76\n",
      "2013-01-08   942.311448   1909.67\n",
      "...                 ...       ...\n",
      "2022-02-23  2907.428304   7691.81\n",
      "2022-02-24  2783.142516   7150.63\n",
      "2022-02-25  2844.257440   7364.50\n",
      "2022-02-28  2808.879194   7331.02\n",
      "2022-03-01  2683.519872   7152.49\n",
      "\n",
      "[2390 rows x 2 columns] written to disk\n"
     ]
    },
    {
     "data": {
      "application/javascript": [
       "\n",
       "        if (window._pyforest_update_imports_cell) { window._pyforest_update_imports_cell('import pandas as pd'); }\n",
       "    "
      ],
      "text/plain": [
       "<IPython.core.display.Javascript object>"
      ]
     },
     "metadata": {},
     "output_type": "display_data"
    },
    {
     "name": "stdout",
     "output_type": "stream",
     "text": [
      "            SVENSKA HANDELSBANKEN A  DNB BANK\n",
      "Name                                         \n",
      "2013-01-02              8891.541504   1879.65\n",
      "2013-01-03              8943.998976   1879.65\n",
      "2013-01-04              9064.243512   1905.76\n",
      "2013-01-07              9105.788217   1905.76\n",
      "2013-01-08              9044.602983   1909.67\n",
      "...                             ...       ...\n",
      "2022-02-23             18030.852864   7691.81\n",
      "2022-02-24             16912.236686   7150.63\n",
      "2022-02-25             17528.564608   7364.50\n",
      "2022-02-28             17387.418593   7331.02\n",
      "2022-03-01             16633.021192   7152.49\n",
      "\n",
      "[2390 rows x 2 columns] written to disk\n"
     ]
    },
    {
     "data": {
      "application/javascript": [
       "\n",
       "        if (window._pyforest_update_imports_cell) { window._pyforest_update_imports_cell('import pandas as pd'); }\n",
       "    "
      ],
      "text/plain": [
       "<IPython.core.display.Javascript object>"
      ]
     },
     "metadata": {},
     "output_type": "display_data"
    },
    {
     "name": "stdout",
     "output_type": "stream",
     "text": [
      "             DANSKE BANK  DNB BANK\n",
      "Name                              \n",
      "2013-01-02  12064.716876   1879.65\n",
      "2013-01-03  12107.806398   1879.65\n",
      "2013-01-04  12275.409705   1905.76\n",
      "2013-01-07  12539.463874   1905.76\n",
      "2013-01-08  12781.608318   1909.67\n",
      "...                  ...       ...\n",
      "2022-02-23  25986.722640   7691.81\n",
      "2022-02-24  24208.920756   7150.63\n",
      "2022-02-25  24811.032995   7364.50\n",
      "2022-02-28  24289.936728   7331.02\n",
      "2022-03-01  23382.908712   7152.49\n",
      "\n",
      "[2390 rows x 2 columns] written to disk\n"
     ]
    },
    {
     "data": {
      "application/javascript": [
       "\n",
       "        if (window._pyforest_update_imports_cell) { window._pyforest_update_imports_cell('import pandas as pd'); }\n",
       "    "
      ],
      "text/plain": [
       "<IPython.core.display.Javascript object>"
      ]
     },
     "metadata": {},
     "output_type": "display_data"
    },
    {
     "name": "stdout",
     "output_type": "stream",
     "text": [
      "            SKANDINAVISKA ENSKILDA BANKEN A  DNB BANK\n",
      "Name                                                 \n",
      "2013-01-02                      2990.562570   1879.65\n",
      "2013-01-03                      2982.656382   1879.65\n",
      "2013-01-04                      3028.550208   1905.76\n",
      "2013-01-07                      3058.585897   1905.76\n",
      "2013-01-08                      3057.507180   1909.67\n",
      "...                                     ...       ...\n",
      "2022-02-23                     10551.736792   7691.81\n",
      "2022-02-24                      9765.734342   7150.63\n",
      "2022-02-25                     10093.509232   7364.50\n",
      "2022-02-28                      9950.077931   7331.02\n",
      "2022-03-01                      9451.122552   7152.49\n",
      "\n",
      "[2390 rows x 2 columns] written to disk\n"
     ]
    },
    {
     "data": {
      "application/javascript": [
       "\n",
       "        if (window._pyforest_update_imports_cell) { window._pyforest_update_imports_cell('import pandas as pd'); }\n",
       "    "
      ],
      "text/plain": [
       "<IPython.core.display.Javascript object>"
      ]
     },
     "metadata": {},
     "output_type": "display_data"
    },
    {
     "name": "stdout",
     "output_type": "stream",
     "text": [
      "            BNP PARIBAS  DNB BANK\n",
      "Name                             \n",
      "2013-01-02  2893.851725   1879.65\n",
      "2013-01-03  2883.569505   1879.65\n",
      "2013-01-04  2881.645200   1905.76\n",
      "2013-01-07  2938.034840   1905.76\n",
      "2013-01-08  2977.449475   1909.67\n",
      "...                 ...       ...\n",
      "2022-02-23  7530.643425   7691.81\n",
      "2022-02-24  7004.363052   7150.63\n",
      "2022-02-25  7135.147656   7364.50\n",
      "2022-02-28  6582.792630   7331.02\n",
      "2022-03-01  6081.130248   7152.49\n",
      "\n",
      "[2390 rows x 2 columns] written to disk\n"
     ]
    },
    {
     "data": {
      "application/javascript": [
       "\n",
       "        if (window._pyforest_update_imports_cell) { window._pyforest_update_imports_cell('import pandas as pd'); }\n",
       "    "
      ],
      "text/plain": [
       "<IPython.core.display.Javascript object>"
      ]
     },
     "metadata": {},
     "output_type": "display_data"
    },
    {
     "name": "stdout",
     "output_type": "stream",
     "text": [
      "            LLOYDS BANKING GROUP  DNB BANK\n",
      "Name                                      \n",
      "2013-01-02            567.063968   1879.65\n",
      "2013-01-03            567.489850   1879.65\n",
      "2013-01-04            568.788480   1905.76\n",
      "2013-01-07            577.047699   1905.76\n",
      "2013-01-08            580.736123   1909.67\n",
      "...                          ...       ...\n",
      "2022-02-23           1018.341265   7691.81\n",
      "2022-02-24            913.021764   7150.63\n",
      "2022-02-25            960.393812   7364.50\n",
      "2022-02-28            935.717280   7331.02\n",
      "2022-03-01            879.555970   7152.49\n",
      "\n",
      "[2390 rows x 2 columns] written to disk\n"
     ]
    },
    {
     "data": {
      "application/javascript": [
       "\n",
       "        if (window._pyforest_update_imports_cell) { window._pyforest_update_imports_cell('import pandas as pd'); }\n",
       "    "
      ],
      "text/plain": [
       "<IPython.core.display.Javascript object>"
      ]
     },
     "metadata": {},
     "output_type": "display_data"
    },
    {
     "name": "stdout",
     "output_type": "stream",
     "text": [
      "                 BARCLAYS  DNB BANK\n",
      "Name                               \n",
      "2013-01-02  260072.004672   1879.65\n",
      "2013-01-03  260562.380050   1879.65\n",
      "2013-01-04  260993.850624   1905.76\n",
      "2013-01-07  271359.133200   1905.76\n",
      "2013-01-08  271148.097200   1909.67\n",
      "...                   ...       ...\n",
      "2022-02-23  326613.936725   7691.81\n",
      "2022-02-24  300601.235692   7150.63\n",
      "2022-02-25  311962.761138   7364.50\n",
      "2022-02-28  301823.227736   7331.02\n",
      "2022-03-01  284273.910052   7152.49\n",
      "\n",
      "[2390 rows x 2 columns] written to disk\n"
     ]
    }
   ],
   "source": [
    "with pd.ExcelWriter('DNB_PAIRS_F.xlsx') as writer:\n",
    "    \n",
    "    for eqt_name in dnb_fund.columns:\n",
    "        eqt_for = dnb_fund[eqt_name]\n",
    "        pair = pd.concat([eqt_for, dnb_eqt], axis=1)\n",
    "\n",
    "        pair.to_excel(writer, sheet_name= f'{eqt_name.split(\" \")[0]} - DNB')\n",
    "        print(f'{eqt_name} written to disk')"
   ]
  },
  {
   "cell_type": "markdown",
   "id": "intensive-appearance",
   "metadata": {},
   "source": [
    "#### Equinor"
   ]
  },
  {
   "cell_type": "code",
   "execution_count": 23,
   "id": "attractive-irrigation",
   "metadata": {},
   "outputs": [
    {
     "data": {
      "application/javascript": [
       "\n",
       "        if (window._pyforest_update_imports_cell) { window._pyforest_update_imports_cell('import pandas as pd'); }\n",
       "    "
      ],
      "text/plain": [
       "<IPython.core.display.Javascript object>"
      ]
     },
     "metadata": {},
     "output_type": "display_data"
    },
    {
     "data": {
      "application/javascript": [
       "\n",
       "        if (window._pyforest_update_imports_cell) { window._pyforest_update_imports_cell('import pandas as pd'); }\n",
       "    "
      ],
      "text/plain": [
       "<IPython.core.display.Javascript object>"
      ]
     },
     "metadata": {},
     "output_type": "display_data"
    },
    {
     "data": {
      "text/plain": [
       "BP               0\n",
       "SHELL            0\n",
       "ENI              0\n",
       "TOTALENERGIES    0\n",
       "EXXON MOBIL      0\n",
       "CHEVRON          0\n",
       "EQUINOR          0\n",
       "dtype: int64"
      ]
     },
     "execution_count": 23,
     "metadata": {},
     "output_type": "execute_result"
    }
   ],
   "source": [
    "equinor_fund = pd.read_excel('FUND_PAIRS_CLEAN.xlsx',\n",
    "                         sheet_name = 'Equinor',\n",
    "                         index_col='Name')\n",
    "equinor_fund = equinor_fund[:'2022-03-01']\n",
    "equinor_eqt = equities_obx_100['EQUINOR']\n",
    "pd.concat([equinor_fund, equinor_eqt], axis=1).isna().sum()"
   ]
  },
  {
   "cell_type": "code",
   "execution_count": 24,
   "id": "specific-bouquet",
   "metadata": {},
   "outputs": [
    {
     "data": {
      "application/javascript": [
       "\n",
       "        if (window._pyforest_update_imports_cell) { window._pyforest_update_imports_cell('import pandas as pd'); }\n",
       "    "
      ],
      "text/plain": [
       "<IPython.core.display.Javascript object>"
      ]
     },
     "metadata": {},
     "output_type": "display_data"
    },
    {
     "data": {
      "application/javascript": [
       "\n",
       "        if (window._pyforest_update_imports_cell) { window._pyforest_update_imports_cell('import pandas as pd'); }\n",
       "    "
      ],
      "text/plain": [
       "<IPython.core.display.Javascript object>"
      ]
     },
     "metadata": {},
     "output_type": "display_data"
    },
    {
     "name": "stdout",
     "output_type": "stream",
     "text": [
      "BP written to disk\n"
     ]
    },
    {
     "data": {
      "application/javascript": [
       "\n",
       "        if (window._pyforest_update_imports_cell) { window._pyforest_update_imports_cell('import pandas as pd'); }\n",
       "    "
      ],
      "text/plain": [
       "<IPython.core.display.Javascript object>"
      ]
     },
     "metadata": {},
     "output_type": "display_data"
    },
    {
     "name": "stdout",
     "output_type": "stream",
     "text": [
      "SHELL written to disk\n"
     ]
    },
    {
     "data": {
      "application/javascript": [
       "\n",
       "        if (window._pyforest_update_imports_cell) { window._pyforest_update_imports_cell('import pandas as pd'); }\n",
       "    "
      ],
      "text/plain": [
       "<IPython.core.display.Javascript object>"
      ]
     },
     "metadata": {},
     "output_type": "display_data"
    },
    {
     "name": "stdout",
     "output_type": "stream",
     "text": [
      "ENI written to disk\n"
     ]
    },
    {
     "data": {
      "application/javascript": [
       "\n",
       "        if (window._pyforest_update_imports_cell) { window._pyforest_update_imports_cell('import pandas as pd'); }\n",
       "    "
      ],
      "text/plain": [
       "<IPython.core.display.Javascript object>"
      ]
     },
     "metadata": {},
     "output_type": "display_data"
    },
    {
     "name": "stdout",
     "output_type": "stream",
     "text": [
      "TOTALENERGIES written to disk\n"
     ]
    },
    {
     "data": {
      "application/javascript": [
       "\n",
       "        if (window._pyforest_update_imports_cell) { window._pyforest_update_imports_cell('import pandas as pd'); }\n",
       "    "
      ],
      "text/plain": [
       "<IPython.core.display.Javascript object>"
      ]
     },
     "metadata": {},
     "output_type": "display_data"
    },
    {
     "name": "stdout",
     "output_type": "stream",
     "text": [
      "EXXON MOBIL written to disk\n"
     ]
    },
    {
     "data": {
      "application/javascript": [
       "\n",
       "        if (window._pyforest_update_imports_cell) { window._pyforest_update_imports_cell('import pandas as pd'); }\n",
       "    "
      ],
      "text/plain": [
       "<IPython.core.display.Javascript object>"
      ]
     },
     "metadata": {},
     "output_type": "display_data"
    },
    {
     "name": "stdout",
     "output_type": "stream",
     "text": [
      "CHEVRON written to disk\n"
     ]
    }
   ],
   "source": [
    "with pd.ExcelWriter('EQUINOR_PAIRS_F.xlsx') as writer:\n",
    "    \n",
    "    for eqt_name in equinor_fund.columns:\n",
    "        eqt_for = equinor_fund[eqt_name]\n",
    "        pair = pd.concat([eqt_for, equinor_eqt], axis=1)\n",
    "\n",
    "        pair.to_excel(writer, sheet_name= f'{eqt_name.split(\" \")[0]} - EQUINOR')\n",
    "        print(f'{eqt_name} written to disk')"
   ]
  },
  {
   "cell_type": "markdown",
   "id": "trying-biodiversity",
   "metadata": {},
   "source": [
    "#### Telenor"
   ]
  },
  {
   "cell_type": "code",
   "execution_count": 32,
   "id": "indie-decrease",
   "metadata": {},
   "outputs": [
    {
     "data": {
      "application/javascript": [
       "\n",
       "        if (window._pyforest_update_imports_cell) { window._pyforest_update_imports_cell('import pandas as pd'); }\n",
       "    "
      ],
      "text/plain": [
       "<IPython.core.display.Javascript object>"
      ]
     },
     "metadata": {},
     "output_type": "display_data"
    },
    {
     "data": {
      "application/javascript": [
       "\n",
       "        if (window._pyforest_update_imports_cell) { window._pyforest_update_imports_cell('import pandas as pd'); }\n",
       "    "
      ],
      "text/plain": [
       "<IPython.core.display.Javascript object>"
      ]
     },
     "metadata": {},
     "output_type": "display_data"
    },
    {
     "data": {
      "text/plain": [
       "TELE2 B             0\n",
       "TELIA COMPANY       0\n",
       "DEUTSCHE TELEKOM    0\n",
       "TELEFONICA          0\n",
       "TELEKOM AUSTRIA     0\n",
       "VODAFONE GROUP      0\n",
       "SWISSCOM 'R'        0\n",
       "BT GROUP            0\n",
       "TELENOR             0\n",
       "dtype: int64"
      ]
     },
     "execution_count": 32,
     "metadata": {},
     "output_type": "execute_result"
    }
   ],
   "source": [
    "telenor_fund = pd.read_excel('FUND_PAIRS_CLEAN.xlsx',\n",
    "                         sheet_name = 'Telenor',\n",
    "                         index_col='Name')\n",
    "telenor_fund = telenor_fund[:'2022-03-01']\n",
    "telenor_eqt = equities_obx_100['TELENOR']\n",
    "pd.concat([telenor_fund, telenor_eqt], axis=1).isna().sum()"
   ]
  },
  {
   "cell_type": "code",
   "execution_count": 33,
   "id": "injured-retro",
   "metadata": {},
   "outputs": [
    {
     "data": {
      "application/javascript": [
       "\n",
       "        if (window._pyforest_update_imports_cell) { window._pyforest_update_imports_cell('import pandas as pd'); }\n",
       "    "
      ],
      "text/plain": [
       "<IPython.core.display.Javascript object>"
      ]
     },
     "metadata": {},
     "output_type": "display_data"
    },
    {
     "data": {
      "application/javascript": [
       "\n",
       "        if (window._pyforest_update_imports_cell) { window._pyforest_update_imports_cell('import pandas as pd'); }\n",
       "    "
      ],
      "text/plain": [
       "<IPython.core.display.Javascript object>"
      ]
     },
     "metadata": {},
     "output_type": "display_data"
    },
    {
     "name": "stdout",
     "output_type": "stream",
     "text": [
      "TELE2 B written to disk\n"
     ]
    },
    {
     "data": {
      "application/javascript": [
       "\n",
       "        if (window._pyforest_update_imports_cell) { window._pyforest_update_imports_cell('import pandas as pd'); }\n",
       "    "
      ],
      "text/plain": [
       "<IPython.core.display.Javascript object>"
      ]
     },
     "metadata": {},
     "output_type": "display_data"
    },
    {
     "name": "stdout",
     "output_type": "stream",
     "text": [
      "TELIA COMPANY written to disk\n"
     ]
    },
    {
     "data": {
      "application/javascript": [
       "\n",
       "        if (window._pyforest_update_imports_cell) { window._pyforest_update_imports_cell('import pandas as pd'); }\n",
       "    "
      ],
      "text/plain": [
       "<IPython.core.display.Javascript object>"
      ]
     },
     "metadata": {},
     "output_type": "display_data"
    },
    {
     "name": "stdout",
     "output_type": "stream",
     "text": [
      "DEUTSCHE TELEKOM written to disk\n"
     ]
    },
    {
     "data": {
      "application/javascript": [
       "\n",
       "        if (window._pyforest_update_imports_cell) { window._pyforest_update_imports_cell('import pandas as pd'); }\n",
       "    "
      ],
      "text/plain": [
       "<IPython.core.display.Javascript object>"
      ]
     },
     "metadata": {},
     "output_type": "display_data"
    },
    {
     "name": "stdout",
     "output_type": "stream",
     "text": [
      "TELEFONICA written to disk\n"
     ]
    },
    {
     "data": {
      "application/javascript": [
       "\n",
       "        if (window._pyforest_update_imports_cell) { window._pyforest_update_imports_cell('import pandas as pd'); }\n",
       "    "
      ],
      "text/plain": [
       "<IPython.core.display.Javascript object>"
      ]
     },
     "metadata": {},
     "output_type": "display_data"
    },
    {
     "name": "stdout",
     "output_type": "stream",
     "text": [
      "TELEKOM AUSTRIA written to disk\n"
     ]
    },
    {
     "data": {
      "application/javascript": [
       "\n",
       "        if (window._pyforest_update_imports_cell) { window._pyforest_update_imports_cell('import pandas as pd'); }\n",
       "    "
      ],
      "text/plain": [
       "<IPython.core.display.Javascript object>"
      ]
     },
     "metadata": {},
     "output_type": "display_data"
    },
    {
     "name": "stdout",
     "output_type": "stream",
     "text": [
      "VODAFONE GROUP written to disk\n"
     ]
    },
    {
     "data": {
      "application/javascript": [
       "\n",
       "        if (window._pyforest_update_imports_cell) { window._pyforest_update_imports_cell('import pandas as pd'); }\n",
       "    "
      ],
      "text/plain": [
       "<IPython.core.display.Javascript object>"
      ]
     },
     "metadata": {},
     "output_type": "display_data"
    },
    {
     "name": "stdout",
     "output_type": "stream",
     "text": [
      "SWISSCOM 'R' written to disk\n"
     ]
    },
    {
     "data": {
      "application/javascript": [
       "\n",
       "        if (window._pyforest_update_imports_cell) { window._pyforest_update_imports_cell('import pandas as pd'); }\n",
       "    "
      ],
      "text/plain": [
       "<IPython.core.display.Javascript object>"
      ]
     },
     "metadata": {},
     "output_type": "display_data"
    },
    {
     "name": "stdout",
     "output_type": "stream",
     "text": [
      "BT GROUP written to disk\n"
     ]
    }
   ],
   "source": [
    "with pd.ExcelWriter('TELENOR_PAIRS_F.xlsx') as writer:\n",
    "    \n",
    "    for eqt_name in telenor_fund.columns:\n",
    "        eqt_for = telenor_fund[eqt_name]\n",
    "        pair = pd.concat([eqt_for, telenor_eqt], axis=1)\n",
    "\n",
    "        pair.to_excel(writer, sheet_name= f'{eqt_name.split(\" \")[0]} - telenor')\n",
    "        print(f'{eqt_name} written to disk')"
   ]
  },
  {
   "cell_type": "markdown",
   "id": "written-justice",
   "metadata": {},
   "source": [
    "#### Hydro"
   ]
  },
  {
   "cell_type": "code",
   "execution_count": 37,
   "id": "accomplished-atlanta",
   "metadata": {
    "scrolled": true
   },
   "outputs": [
    {
     "data": {
      "application/javascript": [
       "\n",
       "        if (window._pyforest_update_imports_cell) { window._pyforest_update_imports_cell('import pandas as pd'); }\n",
       "    "
      ],
      "text/plain": [
       "<IPython.core.display.Javascript object>"
      ]
     },
     "metadata": {},
     "output_type": "display_data"
    },
    {
     "data": {
      "application/javascript": [
       "\n",
       "        if (window._pyforest_update_imports_cell) { window._pyforest_update_imports_cell('import pandas as pd'); }\n",
       "    "
      ],
      "text/plain": [
       "<IPython.core.display.Javascript object>"
      ]
     },
     "metadata": {},
     "output_type": "display_data"
    },
    {
     "data": {
      "text/plain": [
       "KAISER ALUMINUM    0\n",
       "NORSK HYDRO        0\n",
       "dtype: int64"
      ]
     },
     "execution_count": 37,
     "metadata": {},
     "output_type": "execute_result"
    }
   ],
   "source": [
    "hydro_fund = pd.read_excel('FUND_PAIRS_CLEAN.xlsx',\n",
    "                         sheet_name = 'Hydro',\n",
    "                         index_col='Name')\n",
    "hydro_fund = hydro_fund[:'2022-03-01']\n",
    "hydro_eqt = equities_obx_100['NORSK HYDRO']\n",
    "pd.concat([hydro_fund, hydro_eqt], axis=1).isna().sum()"
   ]
  },
  {
   "cell_type": "code",
   "execution_count": 38,
   "id": "responsible-colonial",
   "metadata": {},
   "outputs": [
    {
     "data": {
      "application/javascript": [
       "\n",
       "        if (window._pyforest_update_imports_cell) { window._pyforest_update_imports_cell('import pandas as pd'); }\n",
       "    "
      ],
      "text/plain": [
       "<IPython.core.display.Javascript object>"
      ]
     },
     "metadata": {},
     "output_type": "display_data"
    },
    {
     "data": {
      "application/javascript": [
       "\n",
       "        if (window._pyforest_update_imports_cell) { window._pyforest_update_imports_cell('import pandas as pd'); }\n",
       "    "
      ],
      "text/plain": [
       "<IPython.core.display.Javascript object>"
      ]
     },
     "metadata": {},
     "output_type": "display_data"
    },
    {
     "name": "stdout",
     "output_type": "stream",
     "text": [
      "KAISER ALUMINUM written to disk\n"
     ]
    }
   ],
   "source": [
    "with pd.ExcelWriter('HYDRO_PAIRS_F.xlsx') as writer:\n",
    "    \n",
    "    for eqt_name in hydro_fund.columns:\n",
    "        eqt_for = hydro_fund[eqt_name]\n",
    "        pair = pd.concat([eqt_for, hydro_eqt], axis=1)\n",
    "\n",
    "        pair.to_excel(writer, sheet_name= f'{eqt_name.split(\" \")[0]} - hydro')\n",
    "        print(f'{eqt_name} written to disk')"
   ]
  },
  {
   "cell_type": "markdown",
   "id": "natural-python",
   "metadata": {},
   "source": [
    "#### Aker BP"
   ]
  },
  {
   "cell_type": "code",
   "execution_count": 39,
   "id": "ideal-architect",
   "metadata": {
    "scrolled": true
   },
   "outputs": [
    {
     "data": {
      "application/javascript": [
       "\n",
       "        if (window._pyforest_update_imports_cell) { window._pyforest_update_imports_cell('import pandas as pd'); }\n",
       "    "
      ],
      "text/plain": [
       "<IPython.core.display.Javascript object>"
      ]
     },
     "metadata": {},
     "output_type": "display_data"
    },
    {
     "data": {
      "application/javascript": [
       "\n",
       "        if (window._pyforest_update_imports_cell) { window._pyforest_update_imports_cell('import pandas as pd'); }\n",
       "    "
      ],
      "text/plain": [
       "<IPython.core.display.Javascript object>"
      ]
     },
     "metadata": {},
     "output_type": "display_data"
    },
    {
     "data": {
      "text/plain": [
       "LUNDIN ENERGY     0\n",
       "HARBOUR ENERGY    0\n",
       "HESS              0\n",
       "MARATHON OIL      0\n",
       "MURPHY OIL        0\n",
       "MEG ENERGY        0\n",
       "AKER BP           0\n",
       "dtype: int64"
      ]
     },
     "execution_count": 39,
     "metadata": {},
     "output_type": "execute_result"
    }
   ],
   "source": [
    "akerbp_fund = pd.read_excel('FUND_PAIRS_CLEAN.xlsx',\n",
    "                         sheet_name = 'Aker BP',\n",
    "                         index_col='Name')\n",
    "akerbp_fund = akerbp_fund[:'2022-03-01']\n",
    "akerbp_eqt = equities_obx_100['AKER BP']\n",
    "pd.concat([akerbp_fund, akerbp_eqt], axis=1).isna().sum()"
   ]
  },
  {
   "cell_type": "code",
   "execution_count": 40,
   "id": "single-learning",
   "metadata": {},
   "outputs": [
    {
     "data": {
      "application/javascript": [
       "\n",
       "        if (window._pyforest_update_imports_cell) { window._pyforest_update_imports_cell('import pandas as pd'); }\n",
       "    "
      ],
      "text/plain": [
       "<IPython.core.display.Javascript object>"
      ]
     },
     "metadata": {},
     "output_type": "display_data"
    },
    {
     "data": {
      "application/javascript": [
       "\n",
       "        if (window._pyforest_update_imports_cell) { window._pyforest_update_imports_cell('import pandas as pd'); }\n",
       "    "
      ],
      "text/plain": [
       "<IPython.core.display.Javascript object>"
      ]
     },
     "metadata": {},
     "output_type": "display_data"
    },
    {
     "name": "stdout",
     "output_type": "stream",
     "text": [
      "LUNDIN ENERGY written to disk\n"
     ]
    },
    {
     "data": {
      "application/javascript": [
       "\n",
       "        if (window._pyforest_update_imports_cell) { window._pyforest_update_imports_cell('import pandas as pd'); }\n",
       "    "
      ],
      "text/plain": [
       "<IPython.core.display.Javascript object>"
      ]
     },
     "metadata": {},
     "output_type": "display_data"
    },
    {
     "name": "stdout",
     "output_type": "stream",
     "text": [
      "HARBOUR ENERGY written to disk\n"
     ]
    },
    {
     "data": {
      "application/javascript": [
       "\n",
       "        if (window._pyforest_update_imports_cell) { window._pyforest_update_imports_cell('import pandas as pd'); }\n",
       "    "
      ],
      "text/plain": [
       "<IPython.core.display.Javascript object>"
      ]
     },
     "metadata": {},
     "output_type": "display_data"
    },
    {
     "name": "stdout",
     "output_type": "stream",
     "text": [
      "HESS written to disk\n"
     ]
    },
    {
     "data": {
      "application/javascript": [
       "\n",
       "        if (window._pyforest_update_imports_cell) { window._pyforest_update_imports_cell('import pandas as pd'); }\n",
       "    "
      ],
      "text/plain": [
       "<IPython.core.display.Javascript object>"
      ]
     },
     "metadata": {},
     "output_type": "display_data"
    },
    {
     "name": "stdout",
     "output_type": "stream",
     "text": [
      "MARATHON OIL written to disk\n"
     ]
    },
    {
     "data": {
      "application/javascript": [
       "\n",
       "        if (window._pyforest_update_imports_cell) { window._pyforest_update_imports_cell('import pandas as pd'); }\n",
       "    "
      ],
      "text/plain": [
       "<IPython.core.display.Javascript object>"
      ]
     },
     "metadata": {},
     "output_type": "display_data"
    },
    {
     "name": "stdout",
     "output_type": "stream",
     "text": [
      "MURPHY OIL written to disk\n"
     ]
    },
    {
     "data": {
      "application/javascript": [
       "\n",
       "        if (window._pyforest_update_imports_cell) { window._pyforest_update_imports_cell('import pandas as pd'); }\n",
       "    "
      ],
      "text/plain": [
       "<IPython.core.display.Javascript object>"
      ]
     },
     "metadata": {},
     "output_type": "display_data"
    },
    {
     "name": "stdout",
     "output_type": "stream",
     "text": [
      "MEG ENERGY written to disk\n"
     ]
    }
   ],
   "source": [
    "with pd.ExcelWriter('AKERBP_PAIRS_F.xlsx') as writer:\n",
    "    \n",
    "    for eqt_name in akerbp_fund.columns:\n",
    "        eqt_for = akerbp_fund[eqt_name]\n",
    "        pair = pd.concat([eqt_for, akerbp_eqt], axis=1)\n",
    "\n",
    "        pair.to_excel(writer, sheet_name= f'{eqt_name.split(\" \")[0]} - akerbp')\n",
    "        print(f'{eqt_name} written to disk')"
   ]
  },
  {
   "cell_type": "markdown",
   "id": "advised-department",
   "metadata": {},
   "source": [
    "#### Yara"
   ]
  },
  {
   "cell_type": "code",
   "execution_count": 41,
   "id": "colonial-battle",
   "metadata": {
    "scrolled": false
   },
   "outputs": [
    {
     "data": {
      "application/javascript": [
       "\n",
       "        if (window._pyforest_update_imports_cell) { window._pyforest_update_imports_cell('import pandas as pd'); }\n",
       "    "
      ],
      "text/plain": [
       "<IPython.core.display.Javascript object>"
      ]
     },
     "metadata": {},
     "output_type": "display_data"
    },
    {
     "data": {
      "application/javascript": [
       "\n",
       "        if (window._pyforest_update_imports_cell) { window._pyforest_update_imports_cell('import pandas as pd'); }\n",
       "    "
      ],
      "text/plain": [
       "<IPython.core.display.Javascript object>"
      ]
     },
     "metadata": {},
     "output_type": "display_data"
    },
    {
     "data": {
      "text/plain": [
       "CF INDUSTRIES HDG.    0\n",
       "ICL GROUP             0\n",
       "MOSAIC                0\n",
       "YARA INTERNATIONAL    0\n",
       "dtype: int64"
      ]
     },
     "execution_count": 41,
     "metadata": {},
     "output_type": "execute_result"
    }
   ],
   "source": [
    "yara_fund = pd.read_excel('FUND_PAIRS_CLEAN.xlsx',\n",
    "                         sheet_name = 'Yara',\n",
    "                         index_col='Name')\n",
    "yara_fund = yara_fund[:'2022-03-01']\n",
    "yara_eqt = equities_obx_100['YARA INTERNATIONAL']\n",
    "pd.concat([yara_fund, yara_eqt], axis=1).isna().sum()"
   ]
  },
  {
   "cell_type": "code",
   "execution_count": 42,
   "id": "likely-provision",
   "metadata": {},
   "outputs": [
    {
     "data": {
      "application/javascript": [
       "\n",
       "        if (window._pyforest_update_imports_cell) { window._pyforest_update_imports_cell('import pandas as pd'); }\n",
       "    "
      ],
      "text/plain": [
       "<IPython.core.display.Javascript object>"
      ]
     },
     "metadata": {},
     "output_type": "display_data"
    },
    {
     "data": {
      "application/javascript": [
       "\n",
       "        if (window._pyforest_update_imports_cell) { window._pyforest_update_imports_cell('import pandas as pd'); }\n",
       "    "
      ],
      "text/plain": [
       "<IPython.core.display.Javascript object>"
      ]
     },
     "metadata": {},
     "output_type": "display_data"
    },
    {
     "name": "stdout",
     "output_type": "stream",
     "text": [
      "CF INDUSTRIES HDG. written to disk\n"
     ]
    },
    {
     "data": {
      "application/javascript": [
       "\n",
       "        if (window._pyforest_update_imports_cell) { window._pyforest_update_imports_cell('import pandas as pd'); }\n",
       "    "
      ],
      "text/plain": [
       "<IPython.core.display.Javascript object>"
      ]
     },
     "metadata": {},
     "output_type": "display_data"
    },
    {
     "name": "stdout",
     "output_type": "stream",
     "text": [
      "ICL GROUP written to disk\n"
     ]
    },
    {
     "data": {
      "application/javascript": [
       "\n",
       "        if (window._pyforest_update_imports_cell) { window._pyforest_update_imports_cell('import pandas as pd'); }\n",
       "    "
      ],
      "text/plain": [
       "<IPython.core.display.Javascript object>"
      ]
     },
     "metadata": {},
     "output_type": "display_data"
    },
    {
     "name": "stdout",
     "output_type": "stream",
     "text": [
      "MOSAIC written to disk\n"
     ]
    }
   ],
   "source": [
    "with pd.ExcelWriter('YARA_PAIRS_F.xlsx') as writer:\n",
    "    \n",
    "    for eqt_name in yara_fund.columns:\n",
    "        eqt_for = yara_fund[eqt_name]\n",
    "        pair = pd.concat([eqt_for, yara_eqt], axis=1)\n",
    "\n",
    "        pair.to_excel(writer, sheet_name= f'{eqt_name.split(\" \")[0]} - yara')\n",
    "        print(f'{eqt_name} written to disk')"
   ]
  },
  {
   "cell_type": "markdown",
   "id": "compliant-frost",
   "metadata": {},
   "source": [
    "#### Gjensidige"
   ]
  },
  {
   "cell_type": "code",
   "execution_count": 43,
   "id": "alternate-conspiracy",
   "metadata": {
    "scrolled": false
   },
   "outputs": [
    {
     "data": {
      "application/javascript": [
       "\n",
       "        if (window._pyforest_update_imports_cell) { window._pyforest_update_imports_cell('import pandas as pd'); }\n",
       "    "
      ],
      "text/plain": [
       "<IPython.core.display.Javascript object>"
      ]
     },
     "metadata": {},
     "output_type": "display_data"
    },
    {
     "data": {
      "application/javascript": [
       "\n",
       "        if (window._pyforest_update_imports_cell) { window._pyforest_update_imports_cell('import pandas as pd'); }\n",
       "    "
      ],
      "text/plain": [
       "<IPython.core.display.Javascript object>"
      ]
     },
     "metadata": {},
     "output_type": "display_data"
    },
    {
     "data": {
      "text/plain": [
       "TOPDANMARK                0\n",
       "SAMPO 'A'                 0\n",
       "TRYG                      0\n",
       "ALLIANZ                   0\n",
       "ZURICH INSURANCE GROUP    0\n",
       "ADMIRAL GROUP             0\n",
       "TALANX AKTGSF.            0\n",
       "GJENSIDIGE FORSIKRING     0\n",
       "dtype: int64"
      ]
     },
     "execution_count": 43,
     "metadata": {},
     "output_type": "execute_result"
    }
   ],
   "source": [
    "gjensidige_fund = pd.read_excel('FUND_PAIRS_CLEAN.xlsx',\n",
    "                         sheet_name = 'Gjensidige',\n",
    "                         index_col='Name')\n",
    "gjensidige_fund = gjensidige_fund[:'2022-03-01']\n",
    "gjensidige_eqt = equities_obx_100['GJENSIDIGE FORSIKRING']\n",
    "pd.concat([gjensidige_fund, gjensidige_eqt], axis=1).isna().sum()"
   ]
  },
  {
   "cell_type": "code",
   "execution_count": 44,
   "id": "explicit-malaysia",
   "metadata": {
    "scrolled": true
   },
   "outputs": [
    {
     "data": {
      "application/javascript": [
       "\n",
       "        if (window._pyforest_update_imports_cell) { window._pyforest_update_imports_cell('import pandas as pd'); }\n",
       "    "
      ],
      "text/plain": [
       "<IPython.core.display.Javascript object>"
      ]
     },
     "metadata": {},
     "output_type": "display_data"
    },
    {
     "data": {
      "application/javascript": [
       "\n",
       "        if (window._pyforest_update_imports_cell) { window._pyforest_update_imports_cell('import pandas as pd'); }\n",
       "    "
      ],
      "text/plain": [
       "<IPython.core.display.Javascript object>"
      ]
     },
     "metadata": {},
     "output_type": "display_data"
    },
    {
     "name": "stdout",
     "output_type": "stream",
     "text": [
      "TOPDANMARK written to disk\n"
     ]
    },
    {
     "data": {
      "application/javascript": [
       "\n",
       "        if (window._pyforest_update_imports_cell) { window._pyforest_update_imports_cell('import pandas as pd'); }\n",
       "    "
      ],
      "text/plain": [
       "<IPython.core.display.Javascript object>"
      ]
     },
     "metadata": {},
     "output_type": "display_data"
    },
    {
     "name": "stdout",
     "output_type": "stream",
     "text": [
      "SAMPO 'A' written to disk\n"
     ]
    },
    {
     "data": {
      "application/javascript": [
       "\n",
       "        if (window._pyforest_update_imports_cell) { window._pyforest_update_imports_cell('import pandas as pd'); }\n",
       "    "
      ],
      "text/plain": [
       "<IPython.core.display.Javascript object>"
      ]
     },
     "metadata": {},
     "output_type": "display_data"
    },
    {
     "name": "stdout",
     "output_type": "stream",
     "text": [
      "TRYG written to disk\n"
     ]
    },
    {
     "data": {
      "application/javascript": [
       "\n",
       "        if (window._pyforest_update_imports_cell) { window._pyforest_update_imports_cell('import pandas as pd'); }\n",
       "    "
      ],
      "text/plain": [
       "<IPython.core.display.Javascript object>"
      ]
     },
     "metadata": {},
     "output_type": "display_data"
    },
    {
     "name": "stdout",
     "output_type": "stream",
     "text": [
      "ALLIANZ written to disk\n"
     ]
    },
    {
     "data": {
      "application/javascript": [
       "\n",
       "        if (window._pyforest_update_imports_cell) { window._pyforest_update_imports_cell('import pandas as pd'); }\n",
       "    "
      ],
      "text/plain": [
       "<IPython.core.display.Javascript object>"
      ]
     },
     "metadata": {},
     "output_type": "display_data"
    },
    {
     "name": "stdout",
     "output_type": "stream",
     "text": [
      "ZURICH INSURANCE GROUP written to disk\n"
     ]
    },
    {
     "data": {
      "application/javascript": [
       "\n",
       "        if (window._pyforest_update_imports_cell) { window._pyforest_update_imports_cell('import pandas as pd'); }\n",
       "    "
      ],
      "text/plain": [
       "<IPython.core.display.Javascript object>"
      ]
     },
     "metadata": {},
     "output_type": "display_data"
    },
    {
     "name": "stdout",
     "output_type": "stream",
     "text": [
      "ADMIRAL GROUP written to disk\n"
     ]
    },
    {
     "data": {
      "application/javascript": [
       "\n",
       "        if (window._pyforest_update_imports_cell) { window._pyforest_update_imports_cell('import pandas as pd'); }\n",
       "    "
      ],
      "text/plain": [
       "<IPython.core.display.Javascript object>"
      ]
     },
     "metadata": {},
     "output_type": "display_data"
    },
    {
     "name": "stdout",
     "output_type": "stream",
     "text": [
      "TALANX AKTGSF. written to disk\n"
     ]
    }
   ],
   "source": [
    "with pd.ExcelWriter('GJENSIDIGE_PAIRS_F.xlsx') as writer:\n",
    "    \n",
    "    for eqt_name in gjensidige_fund.columns:\n",
    "        eqt_for = gjensidige_fund[eqt_name]\n",
    "        pair = pd.concat([eqt_for, gjensidige_eqt], axis=1)\n",
    "\n",
    "        pair.to_excel(writer, sheet_name= f'{eqt_name.split(\" \")[0]} - gjensidige')\n",
    "        print(f'{eqt_name} written to disk')"
   ]
  },
  {
   "cell_type": "markdown",
   "id": "composed-regular",
   "metadata": {},
   "source": [
    "#### Orkla"
   ]
  },
  {
   "cell_type": "code",
   "execution_count": 45,
   "id": "numerical-hometown",
   "metadata": {
    "scrolled": false
   },
   "outputs": [
    {
     "data": {
      "application/javascript": [
       "\n",
       "        if (window._pyforest_update_imports_cell) { window._pyforest_update_imports_cell('import pandas as pd'); }\n",
       "    "
      ],
      "text/plain": [
       "<IPython.core.display.Javascript object>"
      ]
     },
     "metadata": {},
     "output_type": "display_data"
    },
    {
     "data": {
      "application/javascript": [
       "\n",
       "        if (window._pyforest_update_imports_cell) { window._pyforest_update_imports_cell('import pandas as pd'); }\n",
       "    "
      ],
      "text/plain": [
       "<IPython.core.display.Javascript object>"
      ]
     },
     "metadata": {},
     "output_type": "display_data"
    },
    {
     "data": {
      "text/plain": [
       "DANONE                     0\n",
       "NESTLE 'N'                 0\n",
       "SUEDZUCKER                 0\n",
       "TATE & LYLE                0\n",
       "AAK                        0\n",
       "PREMIUM BRANDS HOLDINGS    0\n",
       "UNILEVER (UK)              0\n",
       "ORKLA                      0\n",
       "dtype: int64"
      ]
     },
     "execution_count": 45,
     "metadata": {},
     "output_type": "execute_result"
    }
   ],
   "source": [
    "orkla_fund = pd.read_excel('FUND_PAIRS_CLEAN.xlsx',\n",
    "                         sheet_name = 'Orkla',\n",
    "                         index_col='Name')\n",
    "orkla_fund = orkla_fund[:'2022-03-01']\n",
    "orkla_eqt = equities_obx_100['ORKLA']\n",
    "pd.concat([orkla_fund, orkla_eqt], axis=1).isna().sum()"
   ]
  },
  {
   "cell_type": "code",
   "execution_count": 46,
   "id": "interpreted-closer",
   "metadata": {
    "scrolled": true
   },
   "outputs": [
    {
     "data": {
      "application/javascript": [
       "\n",
       "        if (window._pyforest_update_imports_cell) { window._pyforest_update_imports_cell('import pandas as pd'); }\n",
       "    "
      ],
      "text/plain": [
       "<IPython.core.display.Javascript object>"
      ]
     },
     "metadata": {},
     "output_type": "display_data"
    },
    {
     "data": {
      "application/javascript": [
       "\n",
       "        if (window._pyforest_update_imports_cell) { window._pyforest_update_imports_cell('import pandas as pd'); }\n",
       "    "
      ],
      "text/plain": [
       "<IPython.core.display.Javascript object>"
      ]
     },
     "metadata": {},
     "output_type": "display_data"
    },
    {
     "name": "stdout",
     "output_type": "stream",
     "text": [
      "DANONE written to disk\n"
     ]
    },
    {
     "data": {
      "application/javascript": [
       "\n",
       "        if (window._pyforest_update_imports_cell) { window._pyforest_update_imports_cell('import pandas as pd'); }\n",
       "    "
      ],
      "text/plain": [
       "<IPython.core.display.Javascript object>"
      ]
     },
     "metadata": {},
     "output_type": "display_data"
    },
    {
     "name": "stdout",
     "output_type": "stream",
     "text": [
      "NESTLE 'N' written to disk\n"
     ]
    },
    {
     "data": {
      "application/javascript": [
       "\n",
       "        if (window._pyforest_update_imports_cell) { window._pyforest_update_imports_cell('import pandas as pd'); }\n",
       "    "
      ],
      "text/plain": [
       "<IPython.core.display.Javascript object>"
      ]
     },
     "metadata": {},
     "output_type": "display_data"
    },
    {
     "name": "stdout",
     "output_type": "stream",
     "text": [
      "SUEDZUCKER written to disk\n"
     ]
    },
    {
     "data": {
      "application/javascript": [
       "\n",
       "        if (window._pyforest_update_imports_cell) { window._pyforest_update_imports_cell('import pandas as pd'); }\n",
       "    "
      ],
      "text/plain": [
       "<IPython.core.display.Javascript object>"
      ]
     },
     "metadata": {},
     "output_type": "display_data"
    },
    {
     "name": "stdout",
     "output_type": "stream",
     "text": [
      "TATE & LYLE written to disk\n"
     ]
    },
    {
     "data": {
      "application/javascript": [
       "\n",
       "        if (window._pyforest_update_imports_cell) { window._pyforest_update_imports_cell('import pandas as pd'); }\n",
       "    "
      ],
      "text/plain": [
       "<IPython.core.display.Javascript object>"
      ]
     },
     "metadata": {},
     "output_type": "display_data"
    },
    {
     "name": "stdout",
     "output_type": "stream",
     "text": [
      "AAK written to disk\n"
     ]
    },
    {
     "data": {
      "application/javascript": [
       "\n",
       "        if (window._pyforest_update_imports_cell) { window._pyforest_update_imports_cell('import pandas as pd'); }\n",
       "    "
      ],
      "text/plain": [
       "<IPython.core.display.Javascript object>"
      ]
     },
     "metadata": {},
     "output_type": "display_data"
    },
    {
     "name": "stdout",
     "output_type": "stream",
     "text": [
      "PREMIUM BRANDS HOLDINGS written to disk\n"
     ]
    },
    {
     "data": {
      "application/javascript": [
       "\n",
       "        if (window._pyforest_update_imports_cell) { window._pyforest_update_imports_cell('import pandas as pd'); }\n",
       "    "
      ],
      "text/plain": [
       "<IPython.core.display.Javascript object>"
      ]
     },
     "metadata": {},
     "output_type": "display_data"
    },
    {
     "name": "stdout",
     "output_type": "stream",
     "text": [
      "UNILEVER (UK) written to disk\n"
     ]
    }
   ],
   "source": [
    "with pd.ExcelWriter('ORKLA_PAIRS_F.xlsx') as writer:\n",
    "    \n",
    "    for eqt_name in orkla_fund.columns:\n",
    "        eqt_for = orkla_fund[eqt_name]\n",
    "        pair = pd.concat([eqt_for, orkla_eqt], axis=1)\n",
    "\n",
    "        pair.to_excel(writer, sheet_name= f'{eqt_name.split(\" \")[0]} - orkla')\n",
    "        print(f'{eqt_name} written to disk')"
   ]
  },
  {
   "cell_type": "markdown",
   "id": "national-nothing",
   "metadata": {},
   "source": [
    "#### Schibsted A"
   ]
  },
  {
   "cell_type": "code",
   "execution_count": 47,
   "id": "industrial-auditor",
   "metadata": {
    "scrolled": false
   },
   "outputs": [
    {
     "data": {
      "application/javascript": [
       "\n",
       "        if (window._pyforest_update_imports_cell) { window._pyforest_update_imports_cell('import pandas as pd'); }\n",
       "    "
      ],
      "text/plain": [
       "<IPython.core.display.Javascript object>"
      ]
     },
     "metadata": {},
     "output_type": "display_data"
    },
    {
     "data": {
      "application/javascript": [
       "\n",
       "        if (window._pyforest_update_imports_cell) { window._pyforest_update_imports_cell('import pandas as pd'); }\n",
       "    "
      ],
      "text/plain": [
       "<IPython.core.display.Javascript object>"
      ]
     },
     "metadata": {},
     "output_type": "display_data"
    },
    {
     "data": {
      "text/plain": [
       "SANOMA              0\n",
       "INFORMA             0\n",
       "LAGARDERE GROUPE    0\n",
       "PEARSON             0\n",
       "JCDECAUX            0\n",
       "VIVENDI             0\n",
       "SCHIBSTED A         0\n",
       "dtype: int64"
      ]
     },
     "execution_count": 47,
     "metadata": {},
     "output_type": "execute_result"
    }
   ],
   "source": [
    "schibsted_a_fund = pd.read_excel('FUND_PAIRS_CLEAN.xlsx',\n",
    "                         sheet_name = 'Schibsted A',\n",
    "                         index_col='Name')\n",
    "schibsted_a_fund = schibsted_a_fund[:'2022-03-01']\n",
    "schibsted_a_eqt = equities_obx_100['SCHIBSTED A']\n",
    "pd.concat([schibsted_a_fund, schibsted_a_eqt], axis=1).isna().sum()"
   ]
  },
  {
   "cell_type": "code",
   "execution_count": 48,
   "id": "danish-buffalo",
   "metadata": {
    "scrolled": true
   },
   "outputs": [
    {
     "data": {
      "application/javascript": [
       "\n",
       "        if (window._pyforest_update_imports_cell) { window._pyforest_update_imports_cell('import pandas as pd'); }\n",
       "    "
      ],
      "text/plain": [
       "<IPython.core.display.Javascript object>"
      ]
     },
     "metadata": {},
     "output_type": "display_data"
    },
    {
     "data": {
      "application/javascript": [
       "\n",
       "        if (window._pyforest_update_imports_cell) { window._pyforest_update_imports_cell('import pandas as pd'); }\n",
       "    "
      ],
      "text/plain": [
       "<IPython.core.display.Javascript object>"
      ]
     },
     "metadata": {},
     "output_type": "display_data"
    },
    {
     "name": "stdout",
     "output_type": "stream",
     "text": [
      "SANOMA written to disk\n"
     ]
    },
    {
     "data": {
      "application/javascript": [
       "\n",
       "        if (window._pyforest_update_imports_cell) { window._pyforest_update_imports_cell('import pandas as pd'); }\n",
       "    "
      ],
      "text/plain": [
       "<IPython.core.display.Javascript object>"
      ]
     },
     "metadata": {},
     "output_type": "display_data"
    },
    {
     "name": "stdout",
     "output_type": "stream",
     "text": [
      "INFORMA written to disk\n"
     ]
    },
    {
     "data": {
      "application/javascript": [
       "\n",
       "        if (window._pyforest_update_imports_cell) { window._pyforest_update_imports_cell('import pandas as pd'); }\n",
       "    "
      ],
      "text/plain": [
       "<IPython.core.display.Javascript object>"
      ]
     },
     "metadata": {},
     "output_type": "display_data"
    },
    {
     "name": "stdout",
     "output_type": "stream",
     "text": [
      "LAGARDERE GROUPE written to disk\n"
     ]
    },
    {
     "data": {
      "application/javascript": [
       "\n",
       "        if (window._pyforest_update_imports_cell) { window._pyforest_update_imports_cell('import pandas as pd'); }\n",
       "    "
      ],
      "text/plain": [
       "<IPython.core.display.Javascript object>"
      ]
     },
     "metadata": {},
     "output_type": "display_data"
    },
    {
     "name": "stdout",
     "output_type": "stream",
     "text": [
      "PEARSON written to disk\n"
     ]
    },
    {
     "data": {
      "application/javascript": [
       "\n",
       "        if (window._pyforest_update_imports_cell) { window._pyforest_update_imports_cell('import pandas as pd'); }\n",
       "    "
      ],
      "text/plain": [
       "<IPython.core.display.Javascript object>"
      ]
     },
     "metadata": {},
     "output_type": "display_data"
    },
    {
     "name": "stdout",
     "output_type": "stream",
     "text": [
      "JCDECAUX written to disk\n"
     ]
    },
    {
     "data": {
      "application/javascript": [
       "\n",
       "        if (window._pyforest_update_imports_cell) { window._pyforest_update_imports_cell('import pandas as pd'); }\n",
       "    "
      ],
      "text/plain": [
       "<IPython.core.display.Javascript object>"
      ]
     },
     "metadata": {},
     "output_type": "display_data"
    },
    {
     "name": "stdout",
     "output_type": "stream",
     "text": [
      "VIVENDI written to disk\n"
     ]
    }
   ],
   "source": [
    "with pd.ExcelWriter('Schibsted_A_PAIRS_F.xlsx') as writer:\n",
    "    \n",
    "    for eqt_name in schibsted_a_fund.columns:\n",
    "        eqt_for = schibsted_a_fund[eqt_name]\n",
    "        pair = pd.concat([eqt_for, schibsted_a_eqt], axis=1)\n",
    "\n",
    "        pair.to_excel(writer, sheet_name= f'{eqt_name.split(\" \")[0]} - schibsted_a')\n",
    "        print(f'{eqt_name} written to disk')"
   ]
  },
  {
   "cell_type": "markdown",
   "id": "seeing-compact",
   "metadata": {},
   "source": [
    "#### AF Gruppen A"
   ]
  },
  {
   "cell_type": "code",
   "execution_count": 115,
   "id": "latter-norman",
   "metadata": {
    "scrolled": false
   },
   "outputs": [
    {
     "data": {
      "application/javascript": [
       "\n",
       "        if (window._pyforest_update_imports_cell) { window._pyforest_update_imports_cell('import pandas as pd\\nimport matplotlib.pyplot as plt'); }\n",
       "    "
      ],
      "text/plain": [
       "<IPython.core.display.Javascript object>"
      ]
     },
     "metadata": {},
     "output_type": "display_data"
    },
    {
     "data": {
      "application/javascript": [
       "\n",
       "        if (window._pyforest_update_imports_cell) { window._pyforest_update_imports_cell('import pandas as pd\\nimport matplotlib.pyplot as plt'); }\n",
       "    "
      ],
      "text/plain": [
       "<IPython.core.display.Javascript object>"
      ]
     },
     "metadata": {},
     "output_type": "display_data"
    },
    {
     "data": {
      "text/plain": [
       "SKANSKA B                   0\n",
       "BALFOUR BEATTY              0\n",
       "HOCHTIEF                    0\n",
       "NCC B                       0\n",
       "YIT                         0\n",
       "PEAB B                      0\n",
       "ACS ACTIV.CONSTR.Y SERV.    0\n",
       "VINCI                       0\n",
       "BOSKALIS WESTMINSTER        0\n",
       "AF GRUPPEN 'A'              0\n",
       "dtype: int64"
      ]
     },
     "execution_count": 115,
     "metadata": {},
     "output_type": "execute_result"
    }
   ],
   "source": [
    "af_gruppen_fund = pd.read_excel('FUND_PAIRS_CLEAN.xlsx',\n",
    "                         sheet_name = 'AF gruppen A',\n",
    "                         index_col='Name')\n",
    "af_gruppen_fund = af_gruppen_fund[:'2022-03-01']\n",
    "af_gruppen_eqt = eqt_NO[\"AF GRUPPEN 'A'\"]\n",
    "af_gruppen_eqt = af_gruppen_eqt.reindex(af_gruppen_fund.index, axis='index')\n",
    "pd.concat([af_gruppen_fund, af_gruppen_eqt], axis=1).isna().sum()"
   ]
  },
  {
   "cell_type": "code",
   "execution_count": 116,
   "id": "incorrect-turtle",
   "metadata": {
    "scrolled": true
   },
   "outputs": [
    {
     "data": {
      "application/javascript": [
       "\n",
       "        if (window._pyforest_update_imports_cell) { window._pyforest_update_imports_cell('import pandas as pd\\nimport matplotlib.pyplot as plt'); }\n",
       "    "
      ],
      "text/plain": [
       "<IPython.core.display.Javascript object>"
      ]
     },
     "metadata": {},
     "output_type": "display_data"
    },
    {
     "data": {
      "application/javascript": [
       "\n",
       "        if (window._pyforest_update_imports_cell) { window._pyforest_update_imports_cell('import pandas as pd\\nimport matplotlib.pyplot as plt'); }\n",
       "    "
      ],
      "text/plain": [
       "<IPython.core.display.Javascript object>"
      ]
     },
     "metadata": {},
     "output_type": "display_data"
    },
    {
     "name": "stdout",
     "output_type": "stream",
     "text": [
      "SKANSKA B written to disk\n"
     ]
    },
    {
     "data": {
      "application/javascript": [
       "\n",
       "        if (window._pyforest_update_imports_cell) { window._pyforest_update_imports_cell('import pandas as pd\\nimport matplotlib.pyplot as plt'); }\n",
       "    "
      ],
      "text/plain": [
       "<IPython.core.display.Javascript object>"
      ]
     },
     "metadata": {},
     "output_type": "display_data"
    },
    {
     "name": "stdout",
     "output_type": "stream",
     "text": [
      "BALFOUR BEATTY written to disk\n"
     ]
    },
    {
     "data": {
      "application/javascript": [
       "\n",
       "        if (window._pyforest_update_imports_cell) { window._pyforest_update_imports_cell('import pandas as pd\\nimport matplotlib.pyplot as plt'); }\n",
       "    "
      ],
      "text/plain": [
       "<IPython.core.display.Javascript object>"
      ]
     },
     "metadata": {},
     "output_type": "display_data"
    },
    {
     "name": "stdout",
     "output_type": "stream",
     "text": [
      "HOCHTIEF written to disk\n"
     ]
    },
    {
     "data": {
      "application/javascript": [
       "\n",
       "        if (window._pyforest_update_imports_cell) { window._pyforest_update_imports_cell('import pandas as pd\\nimport matplotlib.pyplot as plt'); }\n",
       "    "
      ],
      "text/plain": [
       "<IPython.core.display.Javascript object>"
      ]
     },
     "metadata": {},
     "output_type": "display_data"
    },
    {
     "name": "stdout",
     "output_type": "stream",
     "text": [
      "NCC B written to disk\n"
     ]
    },
    {
     "data": {
      "application/javascript": [
       "\n",
       "        if (window._pyforest_update_imports_cell) { window._pyforest_update_imports_cell('import pandas as pd\\nimport matplotlib.pyplot as plt'); }\n",
       "    "
      ],
      "text/plain": [
       "<IPython.core.display.Javascript object>"
      ]
     },
     "metadata": {},
     "output_type": "display_data"
    },
    {
     "name": "stdout",
     "output_type": "stream",
     "text": [
      "YIT written to disk\n"
     ]
    },
    {
     "data": {
      "application/javascript": [
       "\n",
       "        if (window._pyforest_update_imports_cell) { window._pyforest_update_imports_cell('import pandas as pd\\nimport matplotlib.pyplot as plt'); }\n",
       "    "
      ],
      "text/plain": [
       "<IPython.core.display.Javascript object>"
      ]
     },
     "metadata": {},
     "output_type": "display_data"
    },
    {
     "name": "stdout",
     "output_type": "stream",
     "text": [
      "PEAB B written to disk\n"
     ]
    },
    {
     "data": {
      "application/javascript": [
       "\n",
       "        if (window._pyforest_update_imports_cell) { window._pyforest_update_imports_cell('import pandas as pd\\nimport matplotlib.pyplot as plt'); }\n",
       "    "
      ],
      "text/plain": [
       "<IPython.core.display.Javascript object>"
      ]
     },
     "metadata": {},
     "output_type": "display_data"
    },
    {
     "name": "stdout",
     "output_type": "stream",
     "text": [
      "ACS ACTIV.CONSTR.Y SERV. written to disk\n"
     ]
    },
    {
     "data": {
      "application/javascript": [
       "\n",
       "        if (window._pyforest_update_imports_cell) { window._pyforest_update_imports_cell('import pandas as pd\\nimport matplotlib.pyplot as plt'); }\n",
       "    "
      ],
      "text/plain": [
       "<IPython.core.display.Javascript object>"
      ]
     },
     "metadata": {},
     "output_type": "display_data"
    },
    {
     "name": "stdout",
     "output_type": "stream",
     "text": [
      "VINCI written to disk\n"
     ]
    },
    {
     "data": {
      "application/javascript": [
       "\n",
       "        if (window._pyforest_update_imports_cell) { window._pyforest_update_imports_cell('import pandas as pd\\nimport matplotlib.pyplot as plt'); }\n",
       "    "
      ],
      "text/plain": [
       "<IPython.core.display.Javascript object>"
      ]
     },
     "metadata": {},
     "output_type": "display_data"
    },
    {
     "name": "stdout",
     "output_type": "stream",
     "text": [
      "BOSKALIS WESTMINSTER written to disk\n"
     ]
    }
   ],
   "source": [
    "with pd.ExcelWriter('AF_GRUPPEN_PAIRS_F.xlsx') as writer:\n",
    "    \n",
    "    for eqt_name in af_gruppen_fund.columns:\n",
    "        eqt_for = af_gruppen_fund[eqt_name]\n",
    "        pair = pd.concat([eqt_for, af_gruppen_eqt], axis=1)\n",
    "\n",
    "        pair.to_excel(writer, sheet_name= f'{eqt_name.split(\" \")[0]} - af_gruppen')\n",
    "        print(f'{eqt_name} written to disk')"
   ]
  },
  {
   "cell_type": "markdown",
   "id": "disabled-relationship",
   "metadata": {},
   "source": [
    "#### Arendals fossekompani"
   ]
  },
  {
   "cell_type": "code",
   "execution_count": 118,
   "id": "martial-beginning",
   "metadata": {},
   "outputs": [
    {
     "data": {
      "application/javascript": [
       "\n",
       "        if (window._pyforest_update_imports_cell) { window._pyforest_update_imports_cell('import pandas as pd\\nimport matplotlib.pyplot as plt'); }\n",
       "    "
      ],
      "text/plain": [
       "<IPython.core.display.Javascript object>"
      ]
     },
     "metadata": {},
     "output_type": "display_data"
    },
    {
     "data": {
      "application/javascript": [
       "\n",
       "        if (window._pyforest_update_imports_cell) { window._pyforest_update_imports_cell('import pandas as pd\\nimport matplotlib.pyplot as plt'); }\n",
       "    "
      ],
      "text/plain": [
       "<IPython.core.display.Javascript object>"
      ]
     },
     "metadata": {},
     "output_type": "display_data"
    },
    {
     "data": {
      "text/plain": [
       "VERBUND                  0\n",
       "ARENDALS FOSSEKOMPANI    0\n",
       "dtype: int64"
      ]
     },
     "execution_count": 118,
     "metadata": {},
     "output_type": "execute_result"
    }
   ],
   "source": [
    "AFK_fund = pd.read_excel('FUND_PAIRS_CLEAN.xlsx',\n",
    "                         sheet_name = 'Arendals fossekompani',\n",
    "                         index_col='Name')\n",
    "AFK_fund = AFK_fund[:'2022-03-01']\n",
    "AFK_eqt = equities_obx_100['ARENDALS FOSSEKOMPANI']\n",
    "AFK_eqt = AFK_eqt.reindex(AFK_fund.index, axis='index')\n",
    "pd.concat([AFK_fund, AFK_eqt], axis=1).isna().sum()"
   ]
  },
  {
   "cell_type": "code",
   "execution_count": 119,
   "id": "educated-effects",
   "metadata": {},
   "outputs": [
    {
     "data": {
      "application/javascript": [
       "\n",
       "        if (window._pyforest_update_imports_cell) { window._pyforest_update_imports_cell('import pandas as pd\\nimport matplotlib.pyplot as plt'); }\n",
       "    "
      ],
      "text/plain": [
       "<IPython.core.display.Javascript object>"
      ]
     },
     "metadata": {},
     "output_type": "display_data"
    },
    {
     "data": {
      "application/javascript": [
       "\n",
       "        if (window._pyforest_update_imports_cell) { window._pyforest_update_imports_cell('import pandas as pd\\nimport matplotlib.pyplot as plt'); }\n",
       "    "
      ],
      "text/plain": [
       "<IPython.core.display.Javascript object>"
      ]
     },
     "metadata": {},
     "output_type": "display_data"
    },
    {
     "name": "stdout",
     "output_type": "stream",
     "text": [
      "VERBUND written to disk\n"
     ]
    }
   ],
   "source": [
    "with pd.ExcelWriter('AFK_PAIRS_F.xlsx') as writer:\n",
    "    \n",
    "    for eqt_name in AFK_fund.columns:\n",
    "        eqt_for = AFK_fund[eqt_name]\n",
    "        pair = pd.concat([eqt_for, AFK_eqt], axis=1)\n",
    "\n",
    "        pair.to_excel(writer, sheet_name= f'{eqt_name.split(\" \")[0]} - AFK')\n",
    "        print(f'{eqt_name} written to disk')"
   ]
  },
  {
   "cell_type": "markdown",
   "id": "assured-indicator",
   "metadata": {},
   "source": [
    "#### Atea"
   ]
  },
  {
   "cell_type": "code",
   "execution_count": 121,
   "id": "innocent-triple",
   "metadata": {},
   "outputs": [
    {
     "data": {
      "application/javascript": [
       "\n",
       "        if (window._pyforest_update_imports_cell) { window._pyforest_update_imports_cell('import pandas as pd\\nimport matplotlib.pyplot as plt'); }\n",
       "    "
      ],
      "text/plain": [
       "<IPython.core.display.Javascript object>"
      ]
     },
     "metadata": {},
     "output_type": "display_data"
    },
    {
     "data": {
      "application/javascript": [
       "\n",
       "        if (window._pyforest_update_imports_cell) { window._pyforest_update_imports_cell('import pandas as pd\\nimport matplotlib.pyplot as plt'); }\n",
       "    "
      ],
      "text/plain": [
       "<IPython.core.display.Javascript object>"
      ]
     },
     "metadata": {},
     "output_type": "display_data"
    },
    {
     "data": {
      "text/plain": [
       "CAPGEMINI             0\n",
       "ATOS                  0\n",
       "SOPRA STERIA GROUP    0\n",
       "COMPUTACENTER         0\n",
       "TIETOEVRY             0\n",
       "ACCENTURE CLASS A     0\n",
       "ATEA                  0\n",
       "dtype: int64"
      ]
     },
     "execution_count": 121,
     "metadata": {},
     "output_type": "execute_result"
    }
   ],
   "source": [
    "Atea_fund = pd.read_excel('FUND_PAIRS_CLEAN.xlsx',\n",
    "                         sheet_name = 'Atea',\n",
    "                         index_col='Name')\n",
    "Atea_fund = Atea_fund[:'2022-03-01']\n",
    "Atea_eqt = equities_obx_100['ATEA']\n",
    "Atea_eqt = Atea_eqt.reindex(Atea_fund.index, axis='index')\n",
    "pd.concat([Atea_fund, Atea_eqt], axis=1).isna().sum()"
   ]
  },
  {
   "cell_type": "code",
   "execution_count": 122,
   "id": "virtual-sleep",
   "metadata": {},
   "outputs": [
    {
     "data": {
      "application/javascript": [
       "\n",
       "        if (window._pyforest_update_imports_cell) { window._pyforest_update_imports_cell('import pandas as pd\\nimport matplotlib.pyplot as plt'); }\n",
       "    "
      ],
      "text/plain": [
       "<IPython.core.display.Javascript object>"
      ]
     },
     "metadata": {},
     "output_type": "display_data"
    },
    {
     "data": {
      "application/javascript": [
       "\n",
       "        if (window._pyforest_update_imports_cell) { window._pyforest_update_imports_cell('import pandas as pd\\nimport matplotlib.pyplot as plt'); }\n",
       "    "
      ],
      "text/plain": [
       "<IPython.core.display.Javascript object>"
      ]
     },
     "metadata": {},
     "output_type": "display_data"
    },
    {
     "name": "stdout",
     "output_type": "stream",
     "text": [
      "CAPGEMINI written to disk\n"
     ]
    },
    {
     "data": {
      "application/javascript": [
       "\n",
       "        if (window._pyforest_update_imports_cell) { window._pyforest_update_imports_cell('import pandas as pd\\nimport matplotlib.pyplot as plt'); }\n",
       "    "
      ],
      "text/plain": [
       "<IPython.core.display.Javascript object>"
      ]
     },
     "metadata": {},
     "output_type": "display_data"
    },
    {
     "name": "stdout",
     "output_type": "stream",
     "text": [
      "ATOS written to disk\n"
     ]
    },
    {
     "data": {
      "application/javascript": [
       "\n",
       "        if (window._pyforest_update_imports_cell) { window._pyforest_update_imports_cell('import pandas as pd\\nimport matplotlib.pyplot as plt'); }\n",
       "    "
      ],
      "text/plain": [
       "<IPython.core.display.Javascript object>"
      ]
     },
     "metadata": {},
     "output_type": "display_data"
    },
    {
     "name": "stdout",
     "output_type": "stream",
     "text": [
      "SOPRA STERIA GROUP written to disk\n"
     ]
    },
    {
     "data": {
      "application/javascript": [
       "\n",
       "        if (window._pyforest_update_imports_cell) { window._pyforest_update_imports_cell('import pandas as pd\\nimport matplotlib.pyplot as plt'); }\n",
       "    "
      ],
      "text/plain": [
       "<IPython.core.display.Javascript object>"
      ]
     },
     "metadata": {},
     "output_type": "display_data"
    },
    {
     "name": "stdout",
     "output_type": "stream",
     "text": [
      "COMPUTACENTER written to disk\n"
     ]
    },
    {
     "data": {
      "application/javascript": [
       "\n",
       "        if (window._pyforest_update_imports_cell) { window._pyforest_update_imports_cell('import pandas as pd\\nimport matplotlib.pyplot as plt'); }\n",
       "    "
      ],
      "text/plain": [
       "<IPython.core.display.Javascript object>"
      ]
     },
     "metadata": {},
     "output_type": "display_data"
    },
    {
     "name": "stdout",
     "output_type": "stream",
     "text": [
      "TIETOEVRY written to disk\n"
     ]
    },
    {
     "data": {
      "application/javascript": [
       "\n",
       "        if (window._pyforest_update_imports_cell) { window._pyforest_update_imports_cell('import pandas as pd\\nimport matplotlib.pyplot as plt'); }\n",
       "    "
      ],
      "text/plain": [
       "<IPython.core.display.Javascript object>"
      ]
     },
     "metadata": {},
     "output_type": "display_data"
    },
    {
     "name": "stdout",
     "output_type": "stream",
     "text": [
      "ACCENTURE CLASS A written to disk\n"
     ]
    }
   ],
   "source": [
    "with pd.ExcelWriter('ATEA_PAIRS_F.xlsx') as writer:\n",
    "    \n",
    "    for eqt_name in Atea_fund.columns:\n",
    "        eqt_for = Atea_fund[eqt_name]\n",
    "        pair = pd.concat([eqt_for, Atea_eqt], axis=1)\n",
    "\n",
    "        pair.to_excel(writer, sheet_name= f'{eqt_name.split(\" \")[0]} - Atea')\n",
    "        print(f'{eqt_name} written to disk')"
   ]
  },
  {
   "cell_type": "markdown",
   "id": "complex-farmer",
   "metadata": {},
   "source": [
    "#### Borregaard"
   ]
  },
  {
   "cell_type": "code",
   "execution_count": 123,
   "id": "second-services",
   "metadata": {},
   "outputs": [
    {
     "data": {
      "application/javascript": [
       "\n",
       "        if (window._pyforest_update_imports_cell) { window._pyforest_update_imports_cell('import pandas as pd\\nimport matplotlib.pyplot as plt'); }\n",
       "    "
      ],
      "text/plain": [
       "<IPython.core.display.Javascript object>"
      ]
     },
     "metadata": {},
     "output_type": "display_data"
    },
    {
     "data": {
      "application/javascript": [
       "\n",
       "        if (window._pyforest_update_imports_cell) { window._pyforest_update_imports_cell('import pandas as pd\\nimport matplotlib.pyplot as plt'); }\n",
       "    "
      ],
      "text/plain": [
       "<IPython.core.display.Javascript object>"
      ]
     },
     "metadata": {},
     "output_type": "display_data"
    },
    {
     "data": {
      "text/plain": [
       "SOLVAY             0\n",
       "JOHNSON MATTHEY    0\n",
       "BORREGAARD         0\n",
       "dtype: int64"
      ]
     },
     "execution_count": 123,
     "metadata": {},
     "output_type": "execute_result"
    }
   ],
   "source": [
    "Borregaard_fund = pd.read_excel('FUND_PAIRS_CLEAN.xlsx',\n",
    "                         sheet_name = 'Borregaard',\n",
    "                         index_col='Name')\n",
    "Borregaard_fund = Borregaard_fund[:'2022-03-01']\n",
    "Borregaard_eqt = equities_obx_100['BORREGAARD']\n",
    "Borregaard_eqt = Borregaard_eqt.reindex(Borregaard_fund.index, axis='index')\n",
    "pd.concat([Borregaard_fund, Borregaard_eqt], axis=1).isna().sum()"
   ]
  },
  {
   "cell_type": "code",
   "execution_count": 125,
   "id": "stupid-traffic",
   "metadata": {},
   "outputs": [
    {
     "data": {
      "application/javascript": [
       "\n",
       "        if (window._pyforest_update_imports_cell) { window._pyforest_update_imports_cell('import pandas as pd\\nimport matplotlib.pyplot as plt'); }\n",
       "    "
      ],
      "text/plain": [
       "<IPython.core.display.Javascript object>"
      ]
     },
     "metadata": {},
     "output_type": "display_data"
    },
    {
     "data": {
      "application/javascript": [
       "\n",
       "        if (window._pyforest_update_imports_cell) { window._pyforest_update_imports_cell('import pandas as pd\\nimport matplotlib.pyplot as plt'); }\n",
       "    "
      ],
      "text/plain": [
       "<IPython.core.display.Javascript object>"
      ]
     },
     "metadata": {},
     "output_type": "display_data"
    },
    {
     "name": "stdout",
     "output_type": "stream",
     "text": [
      "SOLVAY written to disk\n"
     ]
    },
    {
     "data": {
      "application/javascript": [
       "\n",
       "        if (window._pyforest_update_imports_cell) { window._pyforest_update_imports_cell('import pandas as pd\\nimport matplotlib.pyplot as plt'); }\n",
       "    "
      ],
      "text/plain": [
       "<IPython.core.display.Javascript object>"
      ]
     },
     "metadata": {},
     "output_type": "display_data"
    },
    {
     "name": "stdout",
     "output_type": "stream",
     "text": [
      "JOHNSON MATTHEY written to disk\n"
     ]
    }
   ],
   "source": [
    "with pd.ExcelWriter('BORREGAARD_PAIRS_F.xlsx') as writer:\n",
    "    \n",
    "    for eqt_name in Borregaard_fund.columns:\n",
    "        eqt_for = Borregaard_fund[eqt_name]\n",
    "        pair = pd.concat([eqt_for, Borregaard_eqt], axis=1)\n",
    "\n",
    "        pair.to_excel(writer, sheet_name= f'{eqt_name.split(\" \")[0]} - Borregaard')\n",
    "        print(f'{eqt_name} written to disk')"
   ]
  },
  {
   "cell_type": "markdown",
   "id": "industrial-developer",
   "metadata": {},
   "source": [
    "#### Bouvet"
   ]
  },
  {
   "cell_type": "code",
   "execution_count": 127,
   "id": "later-incentive",
   "metadata": {},
   "outputs": [
    {
     "data": {
      "application/javascript": [
       "\n",
       "        if (window._pyforest_update_imports_cell) { window._pyforest_update_imports_cell('import pandas as pd\\nimport matplotlib.pyplot as plt'); }\n",
       "    "
      ],
      "text/plain": [
       "<IPython.core.display.Javascript object>"
      ]
     },
     "metadata": {},
     "output_type": "display_data"
    },
    {
     "data": {
      "application/javascript": [
       "\n",
       "        if (window._pyforest_update_imports_cell) { window._pyforest_update_imports_cell('import pandas as pd\\nimport matplotlib.pyplot as plt'); }\n",
       "    "
      ],
      "text/plain": [
       "<IPython.core.display.Javascript object>"
      ]
     },
     "metadata": {},
     "output_type": "display_data"
    },
    {
     "data": {
      "text/plain": [
       "CAPGEMINI             0\n",
       "ATOS                  0\n",
       "SOPRA STERIA GROUP    0\n",
       "COMPUTACENTER         0\n",
       "TIETOEVRY             0\n",
       "ACCENTURE CLASS A     0\n",
       "BOUVET                0\n",
       "dtype: int64"
      ]
     },
     "execution_count": 127,
     "metadata": {},
     "output_type": "execute_result"
    }
   ],
   "source": [
    "Bouvet_fund = pd.read_excel('FUND_PAIRS_CLEAN.xlsx',\n",
    "                         sheet_name = 'Atea',\n",
    "                         index_col='Name')\n",
    "Bouvet_fund = Bouvet_fund[:'2022-03-01']\n",
    "Bouvet_eqt = equities_obx_100['BOUVET']\n",
    "Bouvet_eqt = Bouvet_eqt.reindex(Bouvet_fund.index, axis='index')\n",
    "pd.concat([Bouvet_fund, Bouvet_eqt], axis=1).isna().sum()"
   ]
  },
  {
   "cell_type": "code",
   "execution_count": 128,
   "id": "congressional-condition",
   "metadata": {},
   "outputs": [
    {
     "data": {
      "application/javascript": [
       "\n",
       "        if (window._pyforest_update_imports_cell) { window._pyforest_update_imports_cell('import pandas as pd\\nimport matplotlib.pyplot as plt'); }\n",
       "    "
      ],
      "text/plain": [
       "<IPython.core.display.Javascript object>"
      ]
     },
     "metadata": {},
     "output_type": "display_data"
    },
    {
     "data": {
      "application/javascript": [
       "\n",
       "        if (window._pyforest_update_imports_cell) { window._pyforest_update_imports_cell('import pandas as pd\\nimport matplotlib.pyplot as plt'); }\n",
       "    "
      ],
      "text/plain": [
       "<IPython.core.display.Javascript object>"
      ]
     },
     "metadata": {},
     "output_type": "display_data"
    },
    {
     "name": "stdout",
     "output_type": "stream",
     "text": [
      "CAPGEMINI written to disk\n"
     ]
    },
    {
     "data": {
      "application/javascript": [
       "\n",
       "        if (window._pyforest_update_imports_cell) { window._pyforest_update_imports_cell('import pandas as pd\\nimport matplotlib.pyplot as plt'); }\n",
       "    "
      ],
      "text/plain": [
       "<IPython.core.display.Javascript object>"
      ]
     },
     "metadata": {},
     "output_type": "display_data"
    },
    {
     "name": "stdout",
     "output_type": "stream",
     "text": [
      "ATOS written to disk\n"
     ]
    },
    {
     "data": {
      "application/javascript": [
       "\n",
       "        if (window._pyforest_update_imports_cell) { window._pyforest_update_imports_cell('import pandas as pd\\nimport matplotlib.pyplot as plt'); }\n",
       "    "
      ],
      "text/plain": [
       "<IPython.core.display.Javascript object>"
      ]
     },
     "metadata": {},
     "output_type": "display_data"
    },
    {
     "name": "stdout",
     "output_type": "stream",
     "text": [
      "SOPRA STERIA GROUP written to disk\n"
     ]
    },
    {
     "data": {
      "application/javascript": [
       "\n",
       "        if (window._pyforest_update_imports_cell) { window._pyforest_update_imports_cell('import pandas as pd\\nimport matplotlib.pyplot as plt'); }\n",
       "    "
      ],
      "text/plain": [
       "<IPython.core.display.Javascript object>"
      ]
     },
     "metadata": {},
     "output_type": "display_data"
    },
    {
     "name": "stdout",
     "output_type": "stream",
     "text": [
      "COMPUTACENTER written to disk\n"
     ]
    },
    {
     "data": {
      "application/javascript": [
       "\n",
       "        if (window._pyforest_update_imports_cell) { window._pyforest_update_imports_cell('import pandas as pd\\nimport matplotlib.pyplot as plt'); }\n",
       "    "
      ],
      "text/plain": [
       "<IPython.core.display.Javascript object>"
      ]
     },
     "metadata": {},
     "output_type": "display_data"
    },
    {
     "name": "stdout",
     "output_type": "stream",
     "text": [
      "TIETOEVRY written to disk\n"
     ]
    },
    {
     "data": {
      "application/javascript": [
       "\n",
       "        if (window._pyforest_update_imports_cell) { window._pyforest_update_imports_cell('import pandas as pd\\nimport matplotlib.pyplot as plt'); }\n",
       "    "
      ],
      "text/plain": [
       "<IPython.core.display.Javascript object>"
      ]
     },
     "metadata": {},
     "output_type": "display_data"
    },
    {
     "name": "stdout",
     "output_type": "stream",
     "text": [
      "ACCENTURE CLASS A written to disk\n"
     ]
    }
   ],
   "source": [
    "with pd.ExcelWriter('BOUVET_PAIRS_F.xlsx') as writer:\n",
    "    \n",
    "    for eqt_name in Bouvet_fund.columns:\n",
    "        eqt_for = Bouvet_fund[eqt_name]\n",
    "        pair = pd.concat([eqt_for, Bouvet_eqt], axis=1)\n",
    "\n",
    "        pair.to_excel(writer, sheet_name= f'{eqt_name.split(\" \")[0]} - Bouvet')\n",
    "        print(f'{eqt_name} written to disk')"
   ]
  },
  {
   "cell_type": "markdown",
   "id": "convenient-death",
   "metadata": {},
   "source": [
    "#### Frontline"
   ]
  },
  {
   "cell_type": "code",
   "execution_count": 131,
   "id": "acting-correlation",
   "metadata": {},
   "outputs": [
    {
     "data": {
      "application/javascript": [
       "\n",
       "        if (window._pyforest_update_imports_cell) { window._pyforest_update_imports_cell('import pandas as pd\\nimport matplotlib.pyplot as plt'); }\n",
       "    "
      ],
      "text/plain": [
       "<IPython.core.display.Javascript object>"
      ]
     },
     "metadata": {},
     "output_type": "display_data"
    },
    {
     "data": {
      "application/javascript": [
       "\n",
       "        if (window._pyforest_update_imports_cell) { window._pyforest_update_imports_cell('import pandas as pd\\nimport matplotlib.pyplot as plt'); }\n",
       "    "
      ],
      "text/plain": [
       "<IPython.core.display.Javascript object>"
      ]
     },
     "metadata": {},
     "output_type": "display_data"
    },
    {
     "data": {
      "text/plain": [
       "TEEKAY       0\n",
       "FRONTLINE    0\n",
       "dtype: int64"
      ]
     },
     "execution_count": 131,
     "metadata": {},
     "output_type": "execute_result"
    }
   ],
   "source": [
    "Frontline_fund = pd.read_excel('FUND_PAIRS_CLEAN.xlsx',\n",
    "                         sheet_name = 'Frontline',\n",
    "                         usecols = ['TEEKAY', 'Name'],\n",
    "                         index_col='Name')\n",
    "Frontline_fund = Frontline_fund[:'2022-03-01']\n",
    "Frontline_eqt = equities_obx_100['FRONTLINE']\n",
    "Frontline_eqt = Frontline_eqt.reindex(Frontline_fund.index, axis='index')\n",
    "pd.concat([Frontline_fund, Frontline_eqt], axis=1).isna().sum()"
   ]
  },
  {
   "cell_type": "code",
   "execution_count": 135,
   "id": "numerous-privilege",
   "metadata": {},
   "outputs": [
    {
     "data": {
      "application/javascript": [
       "\n",
       "        if (window._pyforest_update_imports_cell) { window._pyforest_update_imports_cell('import pandas as pd\\nimport matplotlib.pyplot as plt'); }\n",
       "    "
      ],
      "text/plain": [
       "<IPython.core.display.Javascript object>"
      ]
     },
     "metadata": {},
     "output_type": "display_data"
    },
    {
     "data": {
      "application/javascript": [
       "\n",
       "        if (window._pyforest_update_imports_cell) { window._pyforest_update_imports_cell('import pandas as pd\\nimport matplotlib.pyplot as plt'); }\n",
       "    "
      ],
      "text/plain": [
       "<IPython.core.display.Javascript object>"
      ]
     },
     "metadata": {},
     "output_type": "display_data"
    },
    {
     "name": "stdout",
     "output_type": "stream",
     "text": [
      "TEEKAY written to disk\n"
     ]
    }
   ],
   "source": [
    "with pd.ExcelWriter('FRONLINE_PAIRS_F.xlsx') as writer:\n",
    "    \n",
    "    for eqt_name in Frontline_fund.columns:\n",
    "        eqt_for = Frontline_fund[eqt_name]\n",
    "        pair = pd.concat([eqt_for, Frontline_eqt], axis=1)\n",
    "\n",
    "        pair.to_excel(writer, sheet_name= f'{eqt_name.split(\" \")[0]} - Frontline')\n",
    "        print(f'{eqt_name} written to disk')"
   ]
  },
  {
   "cell_type": "markdown",
   "id": "frequent-rates",
   "metadata": {},
   "source": [
    "#### Kongsberg gruppen"
   ]
  },
  {
   "cell_type": "code",
   "execution_count": 133,
   "id": "electrical-fitting",
   "metadata": {
    "scrolled": true
   },
   "outputs": [
    {
     "data": {
      "application/javascript": [
       "\n",
       "        if (window._pyforest_update_imports_cell) { window._pyforest_update_imports_cell('import pandas as pd\\nimport matplotlib.pyplot as plt'); }\n",
       "    "
      ],
      "text/plain": [
       "<IPython.core.display.Javascript object>"
      ]
     },
     "metadata": {},
     "output_type": "display_data"
    },
    {
     "data": {
      "application/javascript": [
       "\n",
       "        if (window._pyforest_update_imports_cell) { window._pyforest_update_imports_cell('import pandas as pd\\nimport matplotlib.pyplot as plt'); }\n",
       "    "
      ],
      "text/plain": [
       "<IPython.core.display.Javascript object>"
      ]
     },
     "metadata": {},
     "output_type": "display_data"
    },
    {
     "data": {
      "text/plain": [
       "KONGSBERG GRUPPEN        0\n",
       "RHEINMETALL              0\n",
       "LEONARDO                 0\n",
       "GENERAL DYNAMICS         0\n",
       "LOCKHEED MARTIN          0\n",
       "NORTHROP GRUMMAN         0\n",
       "RAYTHEON TECHNOLOGIES    0\n",
       "BAE SYSTEMS              0\n",
       "THALES                   0\n",
       "KONGSBERG GRUPPEN        0\n",
       "dtype: int64"
      ]
     },
     "execution_count": 133,
     "metadata": {},
     "output_type": "execute_result"
    }
   ],
   "source": [
    "Kongsberg_gruppen_fund = pd.read_excel('FUND_PAIRS_CLEAN.xlsx',\n",
    "                         sheet_name = 'Kongsberg gruppen',\n",
    "                         index_col='Name')\n",
    "Kongsberg_gruppen_fund = Kongsberg_gruppen_fund[:'2022-03-01']\n",
    "Kongsberg_gruppen_eqt = equities_obx_100['KONGSBERG GRUPPEN']\n",
    "Kongsberg_gruppen_eqt = Kongsberg_gruppen_eqt.reindex(Kongsberg_gruppen_fund.index, axis='index')\n",
    "pd.concat([Kongsberg_gruppen_fund, Kongsberg_gruppen_eqt], axis=1).isna().sum()"
   ]
  },
  {
   "cell_type": "code",
   "execution_count": 136,
   "id": "static-shelf",
   "metadata": {},
   "outputs": [
    {
     "data": {
      "application/javascript": [
       "\n",
       "        if (window._pyforest_update_imports_cell) { window._pyforest_update_imports_cell('import pandas as pd\\nimport matplotlib.pyplot as plt'); }\n",
       "    "
      ],
      "text/plain": [
       "<IPython.core.display.Javascript object>"
      ]
     },
     "metadata": {},
     "output_type": "display_data"
    },
    {
     "data": {
      "application/javascript": [
       "\n",
       "        if (window._pyforest_update_imports_cell) { window._pyforest_update_imports_cell('import pandas as pd\\nimport matplotlib.pyplot as plt'); }\n",
       "    "
      ],
      "text/plain": [
       "<IPython.core.display.Javascript object>"
      ]
     },
     "metadata": {},
     "output_type": "display_data"
    },
    {
     "name": "stdout",
     "output_type": "stream",
     "text": [
      "KONGSBERG GRUPPEN written to disk\n"
     ]
    },
    {
     "data": {
      "application/javascript": [
       "\n",
       "        if (window._pyforest_update_imports_cell) { window._pyforest_update_imports_cell('import pandas as pd\\nimport matplotlib.pyplot as plt'); }\n",
       "    "
      ],
      "text/plain": [
       "<IPython.core.display.Javascript object>"
      ]
     },
     "metadata": {},
     "output_type": "display_data"
    },
    {
     "name": "stdout",
     "output_type": "stream",
     "text": [
      "RHEINMETALL written to disk\n"
     ]
    },
    {
     "data": {
      "application/javascript": [
       "\n",
       "        if (window._pyforest_update_imports_cell) { window._pyforest_update_imports_cell('import pandas as pd\\nimport matplotlib.pyplot as plt'); }\n",
       "    "
      ],
      "text/plain": [
       "<IPython.core.display.Javascript object>"
      ]
     },
     "metadata": {},
     "output_type": "display_data"
    },
    {
     "name": "stdout",
     "output_type": "stream",
     "text": [
      "LEONARDO written to disk\n"
     ]
    },
    {
     "data": {
      "application/javascript": [
       "\n",
       "        if (window._pyforest_update_imports_cell) { window._pyforest_update_imports_cell('import pandas as pd\\nimport matplotlib.pyplot as plt'); }\n",
       "    "
      ],
      "text/plain": [
       "<IPython.core.display.Javascript object>"
      ]
     },
     "metadata": {},
     "output_type": "display_data"
    },
    {
     "name": "stdout",
     "output_type": "stream",
     "text": [
      "GENERAL DYNAMICS written to disk\n"
     ]
    },
    {
     "data": {
      "application/javascript": [
       "\n",
       "        if (window._pyforest_update_imports_cell) { window._pyforest_update_imports_cell('import pandas as pd\\nimport matplotlib.pyplot as plt'); }\n",
       "    "
      ],
      "text/plain": [
       "<IPython.core.display.Javascript object>"
      ]
     },
     "metadata": {},
     "output_type": "display_data"
    },
    {
     "name": "stdout",
     "output_type": "stream",
     "text": [
      "LOCKHEED MARTIN written to disk\n"
     ]
    },
    {
     "data": {
      "application/javascript": [
       "\n",
       "        if (window._pyforest_update_imports_cell) { window._pyforest_update_imports_cell('import pandas as pd\\nimport matplotlib.pyplot as plt'); }\n",
       "    "
      ],
      "text/plain": [
       "<IPython.core.display.Javascript object>"
      ]
     },
     "metadata": {},
     "output_type": "display_data"
    },
    {
     "name": "stdout",
     "output_type": "stream",
     "text": [
      "NORTHROP GRUMMAN written to disk\n"
     ]
    },
    {
     "data": {
      "application/javascript": [
       "\n",
       "        if (window._pyforest_update_imports_cell) { window._pyforest_update_imports_cell('import pandas as pd\\nimport matplotlib.pyplot as plt'); }\n",
       "    "
      ],
      "text/plain": [
       "<IPython.core.display.Javascript object>"
      ]
     },
     "metadata": {},
     "output_type": "display_data"
    },
    {
     "name": "stdout",
     "output_type": "stream",
     "text": [
      "RAYTHEON TECHNOLOGIES written to disk\n"
     ]
    },
    {
     "data": {
      "application/javascript": [
       "\n",
       "        if (window._pyforest_update_imports_cell) { window._pyforest_update_imports_cell('import pandas as pd\\nimport matplotlib.pyplot as plt'); }\n",
       "    "
      ],
      "text/plain": [
       "<IPython.core.display.Javascript object>"
      ]
     },
     "metadata": {},
     "output_type": "display_data"
    },
    {
     "name": "stdout",
     "output_type": "stream",
     "text": [
      "BAE SYSTEMS written to disk\n"
     ]
    },
    {
     "data": {
      "application/javascript": [
       "\n",
       "        if (window._pyforest_update_imports_cell) { window._pyforest_update_imports_cell('import pandas as pd\\nimport matplotlib.pyplot as plt'); }\n",
       "    "
      ],
      "text/plain": [
       "<IPython.core.display.Javascript object>"
      ]
     },
     "metadata": {},
     "output_type": "display_data"
    },
    {
     "name": "stdout",
     "output_type": "stream",
     "text": [
      "THALES written to disk\n"
     ]
    }
   ],
   "source": [
    "with pd.ExcelWriter('KONGSBERGGRUPPEN_PAIRS_F.xlsx') as writer:\n",
    "    \n",
    "    for eqt_name in Kongsberg_gruppen_fund.columns:\n",
    "        eqt_for = Kongsberg_gruppen_fund[eqt_name]\n",
    "        pair = pd.concat([eqt_for, Kongsberg_gruppen_eqt], axis=1)\n",
    "\n",
    "        pair.to_excel(writer, sheet_name= f'{eqt_name.split(\" \")[0]} - KongsbGr')\n",
    "        print(f'{eqt_name} written to disk')"
   ]
  },
  {
   "cell_type": "markdown",
   "id": "supported-avatar",
   "metadata": {},
   "source": [
    "#### Nordic Semiconductor"
   ]
  },
  {
   "cell_type": "code",
   "execution_count": 139,
   "id": "surprised-distinction",
   "metadata": {
    "scrolled": false
   },
   "outputs": [
    {
     "data": {
      "application/javascript": [
       "\n",
       "        if (window._pyforest_update_imports_cell) { window._pyforest_update_imports_cell('import pandas as pd\\nimport matplotlib.pyplot as plt'); }\n",
       "    "
      ],
      "text/plain": [
       "<IPython.core.display.Javascript object>"
      ]
     },
     "metadata": {},
     "output_type": "display_data"
    },
    {
     "data": {
      "application/javascript": [
       "\n",
       "        if (window._pyforest_update_imports_cell) { window._pyforest_update_imports_cell('import pandas as pd\\nimport matplotlib.pyplot as plt'); }\n",
       "    "
      ],
      "text/plain": [
       "<IPython.core.display.Javascript object>"
      ]
     },
     "metadata": {},
     "output_type": "display_data"
    },
    {
     "data": {
      "text/plain": [
       "TAIWAN SEMICON.MNFG.      0\n",
       "STMICROELECTRONICS        0\n",
       "INTEL                     0\n",
       "QUALCOMM                  0\n",
       "BROADCOM                  0\n",
       "NVIDIA                    0\n",
       "ADVANCED MICRO DEVICES    0\n",
       "LATTICE SEMICONDUCTOR     0\n",
       "REALTEK SEMICON.          0\n",
       "NORDIC SEMICONDUCTOR      0\n",
       "dtype: int64"
      ]
     },
     "execution_count": 139,
     "metadata": {},
     "output_type": "execute_result"
    }
   ],
   "source": [
    "Nordic_Semiconductor_fund = pd.read_excel('FUND_PAIRS_CLEAN.xlsx',\n",
    "                         sheet_name = 'Nordic Semiconductor',\n",
    "                         index_col='Name')\n",
    "Nordic_Semiconductor_fund = Nordic_Semiconductor_fund[:'2022-03-01']\n",
    "Nordic_Semiconductor_eqt = equities_obx_100['NORDIC SEMICONDUCTOR']\n",
    "Nordic_Semiconductor_eqt = Nordic_Semiconductor_eqt.reindex(Nordic_Semiconductor_fund.index, axis='index')\n",
    "pd.concat([Nordic_Semiconductor_fund, Nordic_Semiconductor_eqt], axis=1).isna().sum()"
   ]
  },
  {
   "cell_type": "code",
   "execution_count": 140,
   "id": "legal-hostel",
   "metadata": {},
   "outputs": [
    {
     "data": {
      "application/javascript": [
       "\n",
       "        if (window._pyforest_update_imports_cell) { window._pyforest_update_imports_cell('import pandas as pd\\nimport matplotlib.pyplot as plt'); }\n",
       "    "
      ],
      "text/plain": [
       "<IPython.core.display.Javascript object>"
      ]
     },
     "metadata": {},
     "output_type": "display_data"
    },
    {
     "data": {
      "application/javascript": [
       "\n",
       "        if (window._pyforest_update_imports_cell) { window._pyforest_update_imports_cell('import pandas as pd\\nimport matplotlib.pyplot as plt'); }\n",
       "    "
      ],
      "text/plain": [
       "<IPython.core.display.Javascript object>"
      ]
     },
     "metadata": {},
     "output_type": "display_data"
    },
    {
     "name": "stdout",
     "output_type": "stream",
     "text": [
      "TAIWAN SEMICON.MNFG. written to disk\n"
     ]
    },
    {
     "data": {
      "application/javascript": [
       "\n",
       "        if (window._pyforest_update_imports_cell) { window._pyforest_update_imports_cell('import pandas as pd\\nimport matplotlib.pyplot as plt'); }\n",
       "    "
      ],
      "text/plain": [
       "<IPython.core.display.Javascript object>"
      ]
     },
     "metadata": {},
     "output_type": "display_data"
    },
    {
     "name": "stdout",
     "output_type": "stream",
     "text": [
      "STMICROELECTRONICS written to disk\n"
     ]
    },
    {
     "data": {
      "application/javascript": [
       "\n",
       "        if (window._pyforest_update_imports_cell) { window._pyforest_update_imports_cell('import pandas as pd\\nimport matplotlib.pyplot as plt'); }\n",
       "    "
      ],
      "text/plain": [
       "<IPython.core.display.Javascript object>"
      ]
     },
     "metadata": {},
     "output_type": "display_data"
    },
    {
     "name": "stdout",
     "output_type": "stream",
     "text": [
      "INTEL written to disk\n"
     ]
    },
    {
     "data": {
      "application/javascript": [
       "\n",
       "        if (window._pyforest_update_imports_cell) { window._pyforest_update_imports_cell('import pandas as pd\\nimport matplotlib.pyplot as plt'); }\n",
       "    "
      ],
      "text/plain": [
       "<IPython.core.display.Javascript object>"
      ]
     },
     "metadata": {},
     "output_type": "display_data"
    },
    {
     "name": "stdout",
     "output_type": "stream",
     "text": [
      "QUALCOMM written to disk\n"
     ]
    },
    {
     "data": {
      "application/javascript": [
       "\n",
       "        if (window._pyforest_update_imports_cell) { window._pyforest_update_imports_cell('import pandas as pd\\nimport matplotlib.pyplot as plt'); }\n",
       "    "
      ],
      "text/plain": [
       "<IPython.core.display.Javascript object>"
      ]
     },
     "metadata": {},
     "output_type": "display_data"
    },
    {
     "name": "stdout",
     "output_type": "stream",
     "text": [
      "BROADCOM written to disk\n"
     ]
    },
    {
     "data": {
      "application/javascript": [
       "\n",
       "        if (window._pyforest_update_imports_cell) { window._pyforest_update_imports_cell('import pandas as pd\\nimport matplotlib.pyplot as plt'); }\n",
       "    "
      ],
      "text/plain": [
       "<IPython.core.display.Javascript object>"
      ]
     },
     "metadata": {},
     "output_type": "display_data"
    },
    {
     "name": "stdout",
     "output_type": "stream",
     "text": [
      "NVIDIA written to disk\n"
     ]
    },
    {
     "data": {
      "application/javascript": [
       "\n",
       "        if (window._pyforest_update_imports_cell) { window._pyforest_update_imports_cell('import pandas as pd\\nimport matplotlib.pyplot as plt'); }\n",
       "    "
      ],
      "text/plain": [
       "<IPython.core.display.Javascript object>"
      ]
     },
     "metadata": {},
     "output_type": "display_data"
    },
    {
     "name": "stdout",
     "output_type": "stream",
     "text": [
      "ADVANCED MICRO DEVICES written to disk\n"
     ]
    },
    {
     "data": {
      "application/javascript": [
       "\n",
       "        if (window._pyforest_update_imports_cell) { window._pyforest_update_imports_cell('import pandas as pd\\nimport matplotlib.pyplot as plt'); }\n",
       "    "
      ],
      "text/plain": [
       "<IPython.core.display.Javascript object>"
      ]
     },
     "metadata": {},
     "output_type": "display_data"
    },
    {
     "name": "stdout",
     "output_type": "stream",
     "text": [
      "LATTICE SEMICONDUCTOR written to disk\n"
     ]
    },
    {
     "data": {
      "application/javascript": [
       "\n",
       "        if (window._pyforest_update_imports_cell) { window._pyforest_update_imports_cell('import pandas as pd\\nimport matplotlib.pyplot as plt'); }\n",
       "    "
      ],
      "text/plain": [
       "<IPython.core.display.Javascript object>"
      ]
     },
     "metadata": {},
     "output_type": "display_data"
    },
    {
     "name": "stdout",
     "output_type": "stream",
     "text": [
      "REALTEK SEMICON. written to disk\n"
     ]
    }
   ],
   "source": [
    "with pd.ExcelWriter('NORDIC_SEMI_F.xlsx') as writer:\n",
    "    \n",
    "    for eqt_name in Nordic_Semiconductor_fund.columns:\n",
    "        eqt_for = Nordic_Semiconductor_fund[eqt_name]\n",
    "        pair = pd.concat([eqt_for, Nordic_Semiconductor_eqt], axis=1)\n",
    "\n",
    "        pair.to_excel(writer, sheet_name= f'{eqt_name.split(\" \")[0]} - NordicSemi')\n",
    "        print(f'{eqt_name} written to disk')"
   ]
  },
  {
   "cell_type": "markdown",
   "id": "eligible-speaking",
   "metadata": {},
   "source": [
    "#### Subsea 7"
   ]
  },
  {
   "cell_type": "code",
   "execution_count": 141,
   "id": "blond-homework",
   "metadata": {},
   "outputs": [
    {
     "data": {
      "application/javascript": [
       "\n",
       "        if (window._pyforest_update_imports_cell) { window._pyforest_update_imports_cell('import pandas as pd\\nimport matplotlib.pyplot as plt'); }\n",
       "    "
      ],
      "text/plain": [
       "<IPython.core.display.Javascript object>"
      ]
     },
     "metadata": {},
     "output_type": "display_data"
    },
    {
     "data": {
      "application/javascript": [
       "\n",
       "        if (window._pyforest_update_imports_cell) { window._pyforest_update_imports_cell('import pandas as pd\\nimport matplotlib.pyplot as plt'); }\n",
       "    "
      ],
      "text/plain": [
       "<IPython.core.display.Javascript object>"
      ]
     },
     "metadata": {},
     "output_type": "display_data"
    },
    {
     "data": {
      "text/plain": [
       "SAIPEM                   0\n",
       "OCEANEERING              0\n",
       "HELIX ENERGY SLTN.GP.    0\n",
       "SCHLUMBERGER             0\n",
       "BAKER HUGHES A           0\n",
       "HALLIBURTON              0\n",
       "SUBSEA 7                 0\n",
       "SUBSEA 7                 0\n",
       "dtype: int64"
      ]
     },
     "execution_count": 141,
     "metadata": {},
     "output_type": "execute_result"
    }
   ],
   "source": [
    "Subsea_7_fund = pd.read_excel('FUND_PAIRS_CLEAN.xlsx',\n",
    "                         sheet_name = 'Subsea 7',\n",
    "                         index_col='Name')\n",
    "Subsea_7_fund = Subsea_7_fund[:'2022-03-01']\n",
    "Subsea_7_eqt = equities_obx_100['SUBSEA 7']\n",
    "Subsea_7_eqt = Subsea_7_eqt.reindex(Subsea_7_fund.index, axis='index')\n",
    "pd.concat([Subsea_7_fund, Subsea_7_eqt], axis=1).isna().sum()"
   ]
  },
  {
   "cell_type": "code",
   "execution_count": 142,
   "id": "coral-marker",
   "metadata": {},
   "outputs": [
    {
     "data": {
      "application/javascript": [
       "\n",
       "        if (window._pyforest_update_imports_cell) { window._pyforest_update_imports_cell('import pandas as pd\\nimport matplotlib.pyplot as plt'); }\n",
       "    "
      ],
      "text/plain": [
       "<IPython.core.display.Javascript object>"
      ]
     },
     "metadata": {},
     "output_type": "display_data"
    },
    {
     "data": {
      "application/javascript": [
       "\n",
       "        if (window._pyforest_update_imports_cell) { window._pyforest_update_imports_cell('import pandas as pd\\nimport matplotlib.pyplot as plt'); }\n",
       "    "
      ],
      "text/plain": [
       "<IPython.core.display.Javascript object>"
      ]
     },
     "metadata": {},
     "output_type": "display_data"
    },
    {
     "name": "stdout",
     "output_type": "stream",
     "text": [
      "SAIPEM written to disk\n"
     ]
    },
    {
     "data": {
      "application/javascript": [
       "\n",
       "        if (window._pyforest_update_imports_cell) { window._pyforest_update_imports_cell('import pandas as pd\\nimport matplotlib.pyplot as plt'); }\n",
       "    "
      ],
      "text/plain": [
       "<IPython.core.display.Javascript object>"
      ]
     },
     "metadata": {},
     "output_type": "display_data"
    },
    {
     "name": "stdout",
     "output_type": "stream",
     "text": [
      "OCEANEERING written to disk\n"
     ]
    },
    {
     "data": {
      "application/javascript": [
       "\n",
       "        if (window._pyforest_update_imports_cell) { window._pyforest_update_imports_cell('import pandas as pd\\nimport matplotlib.pyplot as plt'); }\n",
       "    "
      ],
      "text/plain": [
       "<IPython.core.display.Javascript object>"
      ]
     },
     "metadata": {},
     "output_type": "display_data"
    },
    {
     "name": "stdout",
     "output_type": "stream",
     "text": [
      "HELIX ENERGY SLTN.GP. written to disk\n"
     ]
    },
    {
     "data": {
      "application/javascript": [
       "\n",
       "        if (window._pyforest_update_imports_cell) { window._pyforest_update_imports_cell('import pandas as pd\\nimport matplotlib.pyplot as plt'); }\n",
       "    "
      ],
      "text/plain": [
       "<IPython.core.display.Javascript object>"
      ]
     },
     "metadata": {},
     "output_type": "display_data"
    },
    {
     "name": "stdout",
     "output_type": "stream",
     "text": [
      "SCHLUMBERGER written to disk\n"
     ]
    },
    {
     "data": {
      "application/javascript": [
       "\n",
       "        if (window._pyforest_update_imports_cell) { window._pyforest_update_imports_cell('import pandas as pd\\nimport matplotlib.pyplot as plt'); }\n",
       "    "
      ],
      "text/plain": [
       "<IPython.core.display.Javascript object>"
      ]
     },
     "metadata": {},
     "output_type": "display_data"
    },
    {
     "name": "stdout",
     "output_type": "stream",
     "text": [
      "BAKER HUGHES A written to disk\n"
     ]
    },
    {
     "data": {
      "application/javascript": [
       "\n",
       "        if (window._pyforest_update_imports_cell) { window._pyforest_update_imports_cell('import pandas as pd\\nimport matplotlib.pyplot as plt'); }\n",
       "    "
      ],
      "text/plain": [
       "<IPython.core.display.Javascript object>"
      ]
     },
     "metadata": {},
     "output_type": "display_data"
    },
    {
     "name": "stdout",
     "output_type": "stream",
     "text": [
      "HALLIBURTON written to disk\n"
     ]
    },
    {
     "data": {
      "application/javascript": [
       "\n",
       "        if (window._pyforest_update_imports_cell) { window._pyforest_update_imports_cell('import pandas as pd\\nimport matplotlib.pyplot as plt'); }\n",
       "    "
      ],
      "text/plain": [
       "<IPython.core.display.Javascript object>"
      ]
     },
     "metadata": {},
     "output_type": "display_data"
    },
    {
     "name": "stdout",
     "output_type": "stream",
     "text": [
      "SUBSEA 7 written to disk\n"
     ]
    }
   ],
   "source": [
    "with pd.ExcelWriter('SUBSEA_7_F.xlsx') as writer:\n",
    "    \n",
    "    for eqt_name in Subsea_7_fund.columns:\n",
    "        eqt_for = Subsea_7_fund[eqt_name]\n",
    "        pair = pd.concat([eqt_for, Subsea_7_eqt], axis=1)\n",
    "\n",
    "        pair.to_excel(writer, sheet_name= f'{eqt_name.split(\" \")[0]} - Subsea7')\n",
    "        print(f'{eqt_name} written to disk')"
   ]
  },
  {
   "cell_type": "markdown",
   "id": "cosmetic-transcript",
   "metadata": {},
   "source": [
    "#### Walenius Wilhelmsen"
   ]
  },
  {
   "cell_type": "code",
   "execution_count": 146,
   "id": "palestinian-skating",
   "metadata": {},
   "outputs": [
    {
     "data": {
      "application/javascript": [
       "\n",
       "        if (window._pyforest_update_imports_cell) { window._pyforest_update_imports_cell('import pandas as pd\\nimport matplotlib.pyplot as plt'); }\n",
       "    "
      ],
      "text/plain": [
       "<IPython.core.display.Javascript object>"
      ]
     },
     "metadata": {},
     "output_type": "display_data"
    },
    {
     "data": {
      "application/javascript": [
       "\n",
       "        if (window._pyforest_update_imports_cell) { window._pyforest_update_imports_cell('import pandas as pd\\nimport matplotlib.pyplot as plt'); }\n",
       "    "
      ],
      "text/plain": [
       "<IPython.core.display.Javascript object>"
      ]
     },
     "metadata": {},
     "output_type": "display_data"
    },
    {
     "data": {
      "text/plain": [
       "DFDS                    0\n",
       "WALLENIUS WILHELMSEN    0\n",
       "dtype: int64"
      ]
     },
     "execution_count": 146,
     "metadata": {},
     "output_type": "execute_result"
    }
   ],
   "source": [
    "Walenius_Wilhelmsen_fund = pd.read_excel('FUND_PAIRS_CLEAN.xlsx',\n",
    "                         sheet_name = 'Walenius Wilhelmsen',\n",
    "                         index_col='Name')\n",
    "Walenius_Wilhelmsen_fund = Walenius_Wilhelmsen_fund[:'2022-03-01']\n",
    "Walenius_Wilhelmsen_eqt = equities_obx_100['WALLENIUS WILHELMSEN']\n",
    "Walenius_Wilhelmsen_eqt = Walenius_Wilhelmsen_eqt.reindex(Walenius_Wilhelmsen_fund.index, axis='index')\n",
    "pd.concat([Walenius_Wilhelmsen_fund, Walenius_Wilhelmsen_eqt], axis=1).isna().sum()"
   ]
  },
  {
   "cell_type": "code",
   "execution_count": 147,
   "id": "breeding-kelly",
   "metadata": {},
   "outputs": [
    {
     "data": {
      "application/javascript": [
       "\n",
       "        if (window._pyforest_update_imports_cell) { window._pyforest_update_imports_cell('import pandas as pd\\nimport matplotlib.pyplot as plt'); }\n",
       "    "
      ],
      "text/plain": [
       "<IPython.core.display.Javascript object>"
      ]
     },
     "metadata": {},
     "output_type": "display_data"
    },
    {
     "data": {
      "application/javascript": [
       "\n",
       "        if (window._pyforest_update_imports_cell) { window._pyforest_update_imports_cell('import pandas as pd\\nimport matplotlib.pyplot as plt'); }\n",
       "    "
      ],
      "text/plain": [
       "<IPython.core.display.Javascript object>"
      ]
     },
     "metadata": {},
     "output_type": "display_data"
    },
    {
     "name": "stdout",
     "output_type": "stream",
     "text": [
      "DFDS written to disk\n"
     ]
    }
   ],
   "source": [
    "with pd.ExcelWriter('WAWI_PAIRS_F.xlsx') as writer:\n",
    "    \n",
    "    for eqt_name in Walenius_Wilhelmsen_fund.columns:\n",
    "        eqt_for = Walenius_Wilhelmsen_fund[eqt_name]\n",
    "        pair = pd.concat([eqt_for, Walenius_Wilhelmsen_eqt], axis=1)\n",
    "\n",
    "        pair.to_excel(writer, sheet_name= f'{eqt_name.split(\" \")[0]} - WAWI')\n",
    "        print(f'{eqt_name} written to disk')"
   ]
  },
  {
   "cell_type": "markdown",
   "id": "isolated-encyclopedia",
   "metadata": {},
   "source": [
    "#### DNO"
   ]
  },
  {
   "cell_type": "code",
   "execution_count": 148,
   "id": "coastal-liquid",
   "metadata": {},
   "outputs": [
    {
     "data": {
      "application/javascript": [
       "\n",
       "        if (window._pyforest_update_imports_cell) { window._pyforest_update_imports_cell('import pandas as pd\\nimport matplotlib.pyplot as plt'); }\n",
       "    "
      ],
      "text/plain": [
       "<IPython.core.display.Javascript object>"
      ]
     },
     "metadata": {},
     "output_type": "display_data"
    },
    {
     "data": {
      "application/javascript": [
       "\n",
       "        if (window._pyforest_update_imports_cell) { window._pyforest_update_imports_cell('import pandas as pd\\nimport matplotlib.pyplot as plt'); }\n",
       "    "
      ],
      "text/plain": [
       "<IPython.core.display.Javascript object>"
      ]
     },
     "metadata": {},
     "output_type": "display_data"
    },
    {
     "data": {
      "text/plain": [
       "DFDS    0\n",
       "DNO     0\n",
       "dtype: int64"
      ]
     },
     "execution_count": 148,
     "metadata": {},
     "output_type": "execute_result"
    }
   ],
   "source": [
    "DNO_fund = pd.read_excel('FUND_PAIRS_CLEAN.xlsx',\n",
    "                         sheet_name = 'Walenius Wilhelmsen',\n",
    "                         index_col='Name')\n",
    "DNO_fund = DNO_fund[:'2022-03-01']\n",
    "DNO_eqt = equities_obx_100['DNO']\n",
    "DNO_eqt = DNO_eqt.reindex(DNO_fund.index, axis='index')\n",
    "pd.concat([DNO_fund, DNO_eqt], axis=1).isna().sum()"
   ]
  },
  {
   "cell_type": "code",
   "execution_count": 149,
   "id": "secure-lodge",
   "metadata": {},
   "outputs": [
    {
     "data": {
      "application/javascript": [
       "\n",
       "        if (window._pyforest_update_imports_cell) { window._pyforest_update_imports_cell('import pandas as pd\\nimport matplotlib.pyplot as plt'); }\n",
       "    "
      ],
      "text/plain": [
       "<IPython.core.display.Javascript object>"
      ]
     },
     "metadata": {},
     "output_type": "display_data"
    },
    {
     "data": {
      "application/javascript": [
       "\n",
       "        if (window._pyforest_update_imports_cell) { window._pyforest_update_imports_cell('import pandas as pd\\nimport matplotlib.pyplot as plt'); }\n",
       "    "
      ],
      "text/plain": [
       "<IPython.core.display.Javascript object>"
      ]
     },
     "metadata": {},
     "output_type": "display_data"
    },
    {
     "name": "stdout",
     "output_type": "stream",
     "text": [
      "DFDS written to disk\n"
     ]
    }
   ],
   "source": [
    "with pd.ExcelWriter('DNO_PAIRS_F.xlsx') as writer:\n",
    "    \n",
    "    for eqt_name in DNO_fund.columns:\n",
    "        eqt_for = DNO_fund[eqt_name]\n",
    "        pair = pd.concat([eqt_for, DNO_eqt], axis=1)\n",
    "\n",
    "        pair.to_excel(writer, sheet_name= f'{eqt_name.split(\" \")[0]} - DNO')\n",
    "        print(f'{eqt_name} written to disk')"
   ]
  },
  {
   "cell_type": "markdown",
   "id": "optical-eligibility",
   "metadata": {},
   "source": [
    "#### Protector "
   ]
  },
  {
   "cell_type": "code",
   "execution_count": 150,
   "id": "optional-luther",
   "metadata": {},
   "outputs": [
    {
     "data": {
      "application/javascript": [
       "\n",
       "        if (window._pyforest_update_imports_cell) { window._pyforest_update_imports_cell('import pandas as pd\\nimport matplotlib.pyplot as plt'); }\n",
       "    "
      ],
      "text/plain": [
       "<IPython.core.display.Javascript object>"
      ]
     },
     "metadata": {},
     "output_type": "display_data"
    },
    {
     "data": {
      "application/javascript": [
       "\n",
       "        if (window._pyforest_update_imports_cell) { window._pyforest_update_imports_cell('import pandas as pd\\nimport matplotlib.pyplot as plt'); }\n",
       "    "
      ],
      "text/plain": [
       "<IPython.core.display.Javascript object>"
      ]
     },
     "metadata": {},
     "output_type": "display_data"
    },
    {
     "data": {
      "text/plain": [
       "TOPDANMARK                0\n",
       "SAMPO 'A'                 0\n",
       "TRYG                      0\n",
       "ALLIANZ                   0\n",
       "ZURICH INSURANCE GROUP    0\n",
       "ADMIRAL GROUP             0\n",
       "TALANX AKTGSF.            0\n",
       "PROTECTOR FORSIKRING      0\n",
       "dtype: int64"
      ]
     },
     "execution_count": 150,
     "metadata": {},
     "output_type": "execute_result"
    }
   ],
   "source": [
    "Protector_fund = pd.read_excel('FUND_PAIRS_CLEAN.xlsx',\n",
    "                         sheet_name = 'Gjensidige',\n",
    "                         index_col='Name')\n",
    "Protector_fund = Protector_fund[:'2022-03-01']\n",
    "Protector_eqt = equities_obx_100['PROTECTOR FORSIKRING']\n",
    "Protector_eqt = Protector_eqt.reindex(Protector_fund.index, axis='index')\n",
    "pd.concat([Protector_fund, Protector_eqt], axis=1).isna().sum()"
   ]
  },
  {
   "cell_type": "code",
   "execution_count": 151,
   "id": "religious-honor",
   "metadata": {},
   "outputs": [
    {
     "data": {
      "application/javascript": [
       "\n",
       "        if (window._pyforest_update_imports_cell) { window._pyforest_update_imports_cell('import pandas as pd\\nimport matplotlib.pyplot as plt'); }\n",
       "    "
      ],
      "text/plain": [
       "<IPython.core.display.Javascript object>"
      ]
     },
     "metadata": {},
     "output_type": "display_data"
    },
    {
     "data": {
      "application/javascript": [
       "\n",
       "        if (window._pyforest_update_imports_cell) { window._pyforest_update_imports_cell('import pandas as pd\\nimport matplotlib.pyplot as plt'); }\n",
       "    "
      ],
      "text/plain": [
       "<IPython.core.display.Javascript object>"
      ]
     },
     "metadata": {},
     "output_type": "display_data"
    },
    {
     "name": "stdout",
     "output_type": "stream",
     "text": [
      "TOPDANMARK written to disk\n"
     ]
    },
    {
     "data": {
      "application/javascript": [
       "\n",
       "        if (window._pyforest_update_imports_cell) { window._pyforest_update_imports_cell('import pandas as pd\\nimport matplotlib.pyplot as plt'); }\n",
       "    "
      ],
      "text/plain": [
       "<IPython.core.display.Javascript object>"
      ]
     },
     "metadata": {},
     "output_type": "display_data"
    },
    {
     "name": "stdout",
     "output_type": "stream",
     "text": [
      "SAMPO 'A' written to disk\n"
     ]
    },
    {
     "data": {
      "application/javascript": [
       "\n",
       "        if (window._pyforest_update_imports_cell) { window._pyforest_update_imports_cell('import pandas as pd\\nimport matplotlib.pyplot as plt'); }\n",
       "    "
      ],
      "text/plain": [
       "<IPython.core.display.Javascript object>"
      ]
     },
     "metadata": {},
     "output_type": "display_data"
    },
    {
     "name": "stdout",
     "output_type": "stream",
     "text": [
      "TRYG written to disk\n"
     ]
    },
    {
     "data": {
      "application/javascript": [
       "\n",
       "        if (window._pyforest_update_imports_cell) { window._pyforest_update_imports_cell('import pandas as pd\\nimport matplotlib.pyplot as plt'); }\n",
       "    "
      ],
      "text/plain": [
       "<IPython.core.display.Javascript object>"
      ]
     },
     "metadata": {},
     "output_type": "display_data"
    },
    {
     "name": "stdout",
     "output_type": "stream",
     "text": [
      "ALLIANZ written to disk\n"
     ]
    },
    {
     "data": {
      "application/javascript": [
       "\n",
       "        if (window._pyforest_update_imports_cell) { window._pyforest_update_imports_cell('import pandas as pd\\nimport matplotlib.pyplot as plt'); }\n",
       "    "
      ],
      "text/plain": [
       "<IPython.core.display.Javascript object>"
      ]
     },
     "metadata": {},
     "output_type": "display_data"
    },
    {
     "name": "stdout",
     "output_type": "stream",
     "text": [
      "ZURICH INSURANCE GROUP written to disk\n"
     ]
    },
    {
     "data": {
      "application/javascript": [
       "\n",
       "        if (window._pyforest_update_imports_cell) { window._pyforest_update_imports_cell('import pandas as pd\\nimport matplotlib.pyplot as plt'); }\n",
       "    "
      ],
      "text/plain": [
       "<IPython.core.display.Javascript object>"
      ]
     },
     "metadata": {},
     "output_type": "display_data"
    },
    {
     "name": "stdout",
     "output_type": "stream",
     "text": [
      "ADMIRAL GROUP written to disk\n"
     ]
    },
    {
     "data": {
      "application/javascript": [
       "\n",
       "        if (window._pyforest_update_imports_cell) { window._pyforest_update_imports_cell('import pandas as pd\\nimport matplotlib.pyplot as plt'); }\n",
       "    "
      ],
      "text/plain": [
       "<IPython.core.display.Javascript object>"
      ]
     },
     "metadata": {},
     "output_type": "display_data"
    },
    {
     "name": "stdout",
     "output_type": "stream",
     "text": [
      "TALANX AKTGSF. written to disk\n"
     ]
    }
   ],
   "source": [
    "with pd.ExcelWriter('PROTECTOR_PAIRS_F.xlsx') as writer:\n",
    "    \n",
    "    for eqt_name in Protector_fund.columns:\n",
    "        eqt_for = Protector_fund[eqt_name]\n",
    "        pair = pd.concat([eqt_for, Protector_eqt], axis=1)\n",
    "\n",
    "        pair.to_excel(writer, sheet_name= f'{eqt_name.split(\" \")[0]} - Protector')\n",
    "        print(f'{eqt_name} written to disk')"
   ]
  },
  {
   "cell_type": "markdown",
   "id": "respiratory-murray",
   "metadata": {},
   "source": [
    "#### Storebrand"
   ]
  },
  {
   "cell_type": "code",
   "execution_count": 152,
   "id": "dietary-sudan",
   "metadata": {},
   "outputs": [
    {
     "data": {
      "application/javascript": [
       "\n",
       "        if (window._pyforest_update_imports_cell) { window._pyforest_update_imports_cell('import pandas as pd\\nimport matplotlib.pyplot as plt'); }\n",
       "    "
      ],
      "text/plain": [
       "<IPython.core.display.Javascript object>"
      ]
     },
     "metadata": {},
     "output_type": "display_data"
    },
    {
     "data": {
      "application/javascript": [
       "\n",
       "        if (window._pyforest_update_imports_cell) { window._pyforest_update_imports_cell('import pandas as pd\\nimport matplotlib.pyplot as plt'); }\n",
       "    "
      ],
      "text/plain": [
       "<IPython.core.display.Javascript object>"
      ]
     },
     "metadata": {},
     "output_type": "display_data"
    },
    {
     "data": {
      "text/plain": [
       "TOPDANMARK                0\n",
       "SAMPO 'A'                 0\n",
       "TRYG                      0\n",
       "ALLIANZ                   0\n",
       "ZURICH INSURANCE GROUP    0\n",
       "ADMIRAL GROUP             0\n",
       "TALANX AKTGSF.            0\n",
       "STOREBRAND                0\n",
       "dtype: int64"
      ]
     },
     "execution_count": 152,
     "metadata": {},
     "output_type": "execute_result"
    }
   ],
   "source": [
    "Storebrand_fund = pd.read_excel('FUND_PAIRS_CLEAN.xlsx',\n",
    "                         sheet_name = 'Gjensidige',\n",
    "                         index_col='Name')\n",
    "Storebrand_fund = Storebrand_fund[:'2022-03-01']\n",
    "Storebrand_eqt = equities_obx_100['STOREBRAND']\n",
    "Storebrand_eqt = Storebrand_eqt.reindex(Storebrand_fund.index, axis='index')\n",
    "pd.concat([Storebrand_fund, Storebrand_eqt], axis=1).isna().sum()"
   ]
  },
  {
   "cell_type": "code",
   "execution_count": 153,
   "id": "competitive-scheme",
   "metadata": {},
   "outputs": [
    {
     "data": {
      "application/javascript": [
       "\n",
       "        if (window._pyforest_update_imports_cell) { window._pyforest_update_imports_cell('import pandas as pd\\nimport matplotlib.pyplot as plt'); }\n",
       "    "
      ],
      "text/plain": [
       "<IPython.core.display.Javascript object>"
      ]
     },
     "metadata": {},
     "output_type": "display_data"
    },
    {
     "data": {
      "application/javascript": [
       "\n",
       "        if (window._pyforest_update_imports_cell) { window._pyforest_update_imports_cell('import pandas as pd\\nimport matplotlib.pyplot as plt'); }\n",
       "    "
      ],
      "text/plain": [
       "<IPython.core.display.Javascript object>"
      ]
     },
     "metadata": {},
     "output_type": "display_data"
    },
    {
     "name": "stdout",
     "output_type": "stream",
     "text": [
      "TOPDANMARK written to disk\n"
     ]
    },
    {
     "data": {
      "application/javascript": [
       "\n",
       "        if (window._pyforest_update_imports_cell) { window._pyforest_update_imports_cell('import pandas as pd\\nimport matplotlib.pyplot as plt'); }\n",
       "    "
      ],
      "text/plain": [
       "<IPython.core.display.Javascript object>"
      ]
     },
     "metadata": {},
     "output_type": "display_data"
    },
    {
     "name": "stdout",
     "output_type": "stream",
     "text": [
      "SAMPO 'A' written to disk\n"
     ]
    },
    {
     "data": {
      "application/javascript": [
       "\n",
       "        if (window._pyforest_update_imports_cell) { window._pyforest_update_imports_cell('import pandas as pd\\nimport matplotlib.pyplot as plt'); }\n",
       "    "
      ],
      "text/plain": [
       "<IPython.core.display.Javascript object>"
      ]
     },
     "metadata": {},
     "output_type": "display_data"
    },
    {
     "name": "stdout",
     "output_type": "stream",
     "text": [
      "TRYG written to disk\n"
     ]
    },
    {
     "data": {
      "application/javascript": [
       "\n",
       "        if (window._pyforest_update_imports_cell) { window._pyforest_update_imports_cell('import pandas as pd\\nimport matplotlib.pyplot as plt'); }\n",
       "    "
      ],
      "text/plain": [
       "<IPython.core.display.Javascript object>"
      ]
     },
     "metadata": {},
     "output_type": "display_data"
    },
    {
     "name": "stdout",
     "output_type": "stream",
     "text": [
      "ALLIANZ written to disk\n"
     ]
    },
    {
     "data": {
      "application/javascript": [
       "\n",
       "        if (window._pyforest_update_imports_cell) { window._pyforest_update_imports_cell('import pandas as pd\\nimport matplotlib.pyplot as plt'); }\n",
       "    "
      ],
      "text/plain": [
       "<IPython.core.display.Javascript object>"
      ]
     },
     "metadata": {},
     "output_type": "display_data"
    },
    {
     "name": "stdout",
     "output_type": "stream",
     "text": [
      "ZURICH INSURANCE GROUP written to disk\n"
     ]
    },
    {
     "data": {
      "application/javascript": [
       "\n",
       "        if (window._pyforest_update_imports_cell) { window._pyforest_update_imports_cell('import pandas as pd\\nimport matplotlib.pyplot as plt'); }\n",
       "    "
      ],
      "text/plain": [
       "<IPython.core.display.Javascript object>"
      ]
     },
     "metadata": {},
     "output_type": "display_data"
    },
    {
     "name": "stdout",
     "output_type": "stream",
     "text": [
      "ADMIRAL GROUP written to disk\n"
     ]
    },
    {
     "data": {
      "application/javascript": [
       "\n",
       "        if (window._pyforest_update_imports_cell) { window._pyforest_update_imports_cell('import pandas as pd\\nimport matplotlib.pyplot as plt'); }\n",
       "    "
      ],
      "text/plain": [
       "<IPython.core.display.Javascript object>"
      ]
     },
     "metadata": {},
     "output_type": "display_data"
    },
    {
     "name": "stdout",
     "output_type": "stream",
     "text": [
      "TALANX AKTGSF. written to disk\n"
     ]
    }
   ],
   "source": [
    "with pd.ExcelWriter('Storebrand_PAIRS_F.xlsx') as writer:\n",
    "    \n",
    "    for eqt_name in Storebrand_fund.columns:\n",
    "        eqt_for = Storebrand_fund[eqt_name]\n",
    "        pair = pd.concat([eqt_for, Storebrand_eqt], axis=1)\n",
    "\n",
    "        pair.to_excel(writer, sheet_name= f'{eqt_name.split(\" \")[0]} - Storebrand')\n",
    "        print(f'{eqt_name} written to disk')"
   ]
  },
  {
   "cell_type": "markdown",
   "id": "cardiovascular-lobby",
   "metadata": {},
   "source": [
    "#### Veidekke"
   ]
  },
  {
   "cell_type": "code",
   "execution_count": 154,
   "id": "equivalent-regular",
   "metadata": {},
   "outputs": [
    {
     "data": {
      "application/javascript": [
       "\n",
       "        if (window._pyforest_update_imports_cell) { window._pyforest_update_imports_cell('import pandas as pd\\nimport matplotlib.pyplot as plt'); }\n",
       "    "
      ],
      "text/plain": [
       "<IPython.core.display.Javascript object>"
      ]
     },
     "metadata": {},
     "output_type": "display_data"
    },
    {
     "data": {
      "application/javascript": [
       "\n",
       "        if (window._pyforest_update_imports_cell) { window._pyforest_update_imports_cell('import pandas as pd\\nimport matplotlib.pyplot as plt'); }\n",
       "    "
      ],
      "text/plain": [
       "<IPython.core.display.Javascript object>"
      ]
     },
     "metadata": {},
     "output_type": "display_data"
    },
    {
     "data": {
      "text/plain": [
       "SKANSKA B                   0\n",
       "BALFOUR BEATTY              0\n",
       "HOCHTIEF                    0\n",
       "NCC B                       0\n",
       "YIT                         0\n",
       "PEAB B                      0\n",
       "ACS ACTIV.CONSTR.Y SERV.    0\n",
       "VINCI                       0\n",
       "BOSKALIS WESTMINSTER        0\n",
       "VEIDEKKE                    0\n",
       "dtype: int64"
      ]
     },
     "execution_count": 154,
     "metadata": {},
     "output_type": "execute_result"
    }
   ],
   "source": [
    "Veidekke_fund = pd.read_excel('FUND_PAIRS_CLEAN.xlsx',\n",
    "                         sheet_name = 'AF gruppen A',\n",
    "                         index_col='Name')\n",
    "Veidekke_fund = Veidekke_fund[:'2022-03-01']\n",
    "Veidekke_eqt = equities_obx_100['VEIDEKKE']\n",
    "Veidekke_eqt = Veidekke_eqt.reindex(Veidekke_fund.index, axis='index')\n",
    "pd.concat([Veidekke_fund, Veidekke_eqt], axis=1).isna().sum()"
   ]
  },
  {
   "cell_type": "code",
   "execution_count": 155,
   "id": "assumed-payment",
   "metadata": {},
   "outputs": [
    {
     "data": {
      "application/javascript": [
       "\n",
       "        if (window._pyforest_update_imports_cell) { window._pyforest_update_imports_cell('import pandas as pd\\nimport matplotlib.pyplot as plt'); }\n",
       "    "
      ],
      "text/plain": [
       "<IPython.core.display.Javascript object>"
      ]
     },
     "metadata": {},
     "output_type": "display_data"
    },
    {
     "data": {
      "application/javascript": [
       "\n",
       "        if (window._pyforest_update_imports_cell) { window._pyforest_update_imports_cell('import pandas as pd\\nimport matplotlib.pyplot as plt'); }\n",
       "    "
      ],
      "text/plain": [
       "<IPython.core.display.Javascript object>"
      ]
     },
     "metadata": {},
     "output_type": "display_data"
    },
    {
     "name": "stdout",
     "output_type": "stream",
     "text": [
      "SKANSKA B written to disk\n"
     ]
    },
    {
     "data": {
      "application/javascript": [
       "\n",
       "        if (window._pyforest_update_imports_cell) { window._pyforest_update_imports_cell('import pandas as pd\\nimport matplotlib.pyplot as plt'); }\n",
       "    "
      ],
      "text/plain": [
       "<IPython.core.display.Javascript object>"
      ]
     },
     "metadata": {},
     "output_type": "display_data"
    },
    {
     "name": "stdout",
     "output_type": "stream",
     "text": [
      "BALFOUR BEATTY written to disk\n"
     ]
    },
    {
     "data": {
      "application/javascript": [
       "\n",
       "        if (window._pyforest_update_imports_cell) { window._pyforest_update_imports_cell('import pandas as pd\\nimport matplotlib.pyplot as plt'); }\n",
       "    "
      ],
      "text/plain": [
       "<IPython.core.display.Javascript object>"
      ]
     },
     "metadata": {},
     "output_type": "display_data"
    },
    {
     "name": "stdout",
     "output_type": "stream",
     "text": [
      "HOCHTIEF written to disk\n"
     ]
    },
    {
     "data": {
      "application/javascript": [
       "\n",
       "        if (window._pyforest_update_imports_cell) { window._pyforest_update_imports_cell('import pandas as pd\\nimport matplotlib.pyplot as plt'); }\n",
       "    "
      ],
      "text/plain": [
       "<IPython.core.display.Javascript object>"
      ]
     },
     "metadata": {},
     "output_type": "display_data"
    },
    {
     "name": "stdout",
     "output_type": "stream",
     "text": [
      "NCC B written to disk\n"
     ]
    },
    {
     "data": {
      "application/javascript": [
       "\n",
       "        if (window._pyforest_update_imports_cell) { window._pyforest_update_imports_cell('import pandas as pd\\nimport matplotlib.pyplot as plt'); }\n",
       "    "
      ],
      "text/plain": [
       "<IPython.core.display.Javascript object>"
      ]
     },
     "metadata": {},
     "output_type": "display_data"
    },
    {
     "name": "stdout",
     "output_type": "stream",
     "text": [
      "YIT written to disk\n"
     ]
    },
    {
     "data": {
      "application/javascript": [
       "\n",
       "        if (window._pyforest_update_imports_cell) { window._pyforest_update_imports_cell('import pandas as pd\\nimport matplotlib.pyplot as plt'); }\n",
       "    "
      ],
      "text/plain": [
       "<IPython.core.display.Javascript object>"
      ]
     },
     "metadata": {},
     "output_type": "display_data"
    },
    {
     "name": "stdout",
     "output_type": "stream",
     "text": [
      "PEAB B written to disk\n"
     ]
    },
    {
     "data": {
      "application/javascript": [
       "\n",
       "        if (window._pyforest_update_imports_cell) { window._pyforest_update_imports_cell('import pandas as pd\\nimport matplotlib.pyplot as plt'); }\n",
       "    "
      ],
      "text/plain": [
       "<IPython.core.display.Javascript object>"
      ]
     },
     "metadata": {},
     "output_type": "display_data"
    },
    {
     "name": "stdout",
     "output_type": "stream",
     "text": [
      "ACS ACTIV.CONSTR.Y SERV. written to disk\n"
     ]
    },
    {
     "data": {
      "application/javascript": [
       "\n",
       "        if (window._pyforest_update_imports_cell) { window._pyforest_update_imports_cell('import pandas as pd\\nimport matplotlib.pyplot as plt'); }\n",
       "    "
      ],
      "text/plain": [
       "<IPython.core.display.Javascript object>"
      ]
     },
     "metadata": {},
     "output_type": "display_data"
    },
    {
     "name": "stdout",
     "output_type": "stream",
     "text": [
      "VINCI written to disk\n"
     ]
    },
    {
     "data": {
      "application/javascript": [
       "\n",
       "        if (window._pyforest_update_imports_cell) { window._pyforest_update_imports_cell('import pandas as pd\\nimport matplotlib.pyplot as plt'); }\n",
       "    "
      ],
      "text/plain": [
       "<IPython.core.display.Javascript object>"
      ]
     },
     "metadata": {},
     "output_type": "display_data"
    },
    {
     "name": "stdout",
     "output_type": "stream",
     "text": [
      "BOSKALIS WESTMINSTER written to disk\n"
     ]
    }
   ],
   "source": [
    "with pd.ExcelWriter('VEIDEKKE_PAIRS_F.xlsx') as writer:\n",
    "    \n",
    "    for eqt_name in Veidekke_fund.columns:\n",
    "        eqt_for = Veidekke_fund[eqt_name]\n",
    "        pair = pd.concat([eqt_for, Veidekke_eqt], axis=1)\n",
    "\n",
    "        pair.to_excel(writer, sheet_name= f'{eqt_name.split(\" \")[0]} - Veidekke')\n",
    "        print(f'{eqt_name} written to disk')"
   ]
  },
  {
   "cell_type": "code",
   "execution_count": null,
   "id": "shaped-warner",
   "metadata": {},
   "outputs": [],
   "source": []
  }
 ],
 "metadata": {
  "kernelspec": {
   "display_name": "Python 3",
   "language": "python",
   "name": "python3"
  },
  "language_info": {
   "codemirror_mode": {
    "name": "ipython",
    "version": 3
   },
   "file_extension": ".py",
   "mimetype": "text/x-python",
   "name": "python",
   "nbconvert_exporter": "python",
   "pygments_lexer": "ipython3",
   "version": "3.8.5"
  }
 },
 "nbformat": 4,
 "nbformat_minor": 5
}
