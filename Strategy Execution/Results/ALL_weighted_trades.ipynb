{
 "cells": [
  {
   "cell_type": "markdown",
   "id": "forbidden-physics",
   "metadata": {},
   "source": [
    "<div style=\"background-color:#eaeffa;\n",
    "            padding:25px;\n",
    "            color: #28283e;\n",
    "            border-radius:12px\">\n",
    "  <h1 style = 'color:black'>ALL Weighted Trades Evaluated</h1>\n",
    "  <p style = 'color:3d3d5c'>\n",
    "    Including all the weighted trades, included those which did not converge\n",
    "    </p>\n",
    "    \n",
    "</div>"
   ]
  },
  {
   "cell_type": "code",
   "execution_count": 134,
   "id": "eastern-conspiracy",
   "metadata": {},
   "outputs": [],
   "source": [
    "import pandas as pd\n",
    "import numpy as np\n",
    "\n",
    "import plotly.express as px\n",
    "import plotly.graph_objects as go\n",
    "\n",
    "import json"
   ]
  },
  {
   "cell_type": "markdown",
   "id": "engaged-client",
   "metadata": {},
   "source": [
    "### Reading "
   ]
  },
  {
   "cell_type": "code",
   "execution_count": 422,
   "id": "damaged-oracle",
   "metadata": {},
   "outputs": [],
   "source": [
    "countries = ['US', 'UK', 'FRANCE', 'GERMANY', 'SPAIN', 'ITALY', 'CANADA',\n",
    "             'AUSTRALIA', 'AUSTRIA', 'CHINA', 'HK', 'JAPAN', 'SWISS',\n",
    "             'SWEDEN', 'DENMARK', 'FINLAND']\n",
    "\n",
    "COUNTRIES_EX_FOR = ['QBE INSURANCE GROUP', 'GROUPE MINOTERIES', 'SERVICE POINT SOLUTIONS']\n",
    "COUNTRIES_EX_NO = ['REC SILICON', 'NORWEGIAN AIR SHUTTLE', 'SIEM OFFSHORE', 'AWILCO DRILLING']\n",
    "\n",
    "ALL_DATA = {}\n",
    "\n",
    "for c in countries:\n",
    "    file = open(c.lower() + '_result_7.json', 'r')\n",
    "    ALL_DATA[c] = json.loads(file.read())\n",
    "    "
   ]
  },
  {
   "cell_type": "markdown",
   "id": "particular-study",
   "metadata": {},
   "source": [
    "### Country"
   ]
  },
  {
   "cell_type": "code",
   "execution_count": 493,
   "id": "printable-lawrence",
   "metadata": {},
   "outputs": [],
   "source": [
    "country = 'canada'\n",
    "fin = json.loads(open(country + '_result_7.json', 'r').read())"
   ]
  },
  {
   "cell_type": "code",
   "execution_count": 494,
   "id": "outstanding-darwin",
   "metadata": {},
   "outputs": [
    {
     "name": "stdout",
     "output_type": "stream",
     "text": [
      "************ CANADA ***************\n",
      "All returns are reported as weighted averages\n",
      "\n",
      "Anders mean: 17.18%\n",
      "Basic mean: 16.88%\n",
      "Strategy difference: 0.31%\n",
      "\n",
      "Weighted mean: 19.47%\n",
      "Normal mean: 16.48%\n",
      "Trade difference: 2.99%\n",
      "\n"
     ]
    }
   ],
   "source": [
    "###### DIVISOR IS SUM OF TOTAL PARTS (SUM THE WEIGHTS, NOT LENGTH OF LIST)\n",
    "\n",
    "fin_returns = {}\n",
    "\n",
    "div_normal_all = 0\n",
    "div_weighted_all = 0\n",
    "div_basic_all = 0\n",
    "div_tot_all = 0\n",
    "\n",
    "pair_normal_all = []\n",
    "pair_weighted_all = []\n",
    "pair_basic_all = []\n",
    "\n",
    "for pair in fin.keys():\n",
    "#     print(div_tot)\n",
    "    \n",
    "    pair_normal = [W*R for W, R in fin[pair]['normal_order_returns_with_weight']\\\n",
    "                     if pair.split('|')[0] not in COUNTRIES_EX_FOR\n",
    "                     if pair.split('|')[1] not in COUNTRIES_EX_NO]        \n",
    "    pair_weighted = [W*R for W, R in fin[pair]['weighted_order_returns']\\\n",
    "                     if pair.split('|')[0] not in COUNTRIES_EX_FOR\n",
    "                     if pair.split('|')[1] not in COUNTRIES_EX_NO]\n",
    "    \n",
    "    pair_basic = [W*R for W, R in fin[pair]['normal_order_returns_with_weight_basic']\\\n",
    "                     if pair.split('|')[0] not in COUNTRIES_EX_FOR\n",
    "                     if pair.split('|')[1] not in COUNTRIES_EX_NO]\n",
    "    \n",
    "    pair_basic_all.extend(pair_basic)\n",
    "    \n",
    "    pair_normal_all.extend(pair_normal)\n",
    "    pair_weighted_all.extend(pair_weighted)\n",
    "    \n",
    "    div_normal = sum([W for W, _ in fin[pair]['normal_order_returns_with_weight']\\\n",
    "                     if pair.split('|')[0] not in COUNTRIES_EX_FOR\n",
    "                     if pair.split('|')[1] not in COUNTRIES_EX_NO])\n",
    "    div_weighted = sum([W for W, R in fin[pair]['weighted_order_returns']\\\n",
    "                     if pair.split('|')[0] not in COUNTRIES_EX_FOR\n",
    "                     if pair.split('|')[1] not in COUNTRIES_EX_NO])\n",
    "    div_basic = sum([W for W, R in fin[pair]['normal_order_returns_with_weight_basic']\\\n",
    "                     if pair.split('|')[0] not in COUNTRIES_EX_FOR\n",
    "                     if pair.split('|')[1] not in COUNTRIES_EX_NO])\n",
    "    div_tot = div_normal + div_weighted\n",
    "    \n",
    "    div_normal_all += div_normal\n",
    "    div_weighted_all += div_weighted\n",
    "    div_basic_all += div_basic\n",
    "    div_tot_all += div_tot\n",
    "\n",
    "    assert div_tot == div_normal + div_weighted, \"ERROR\"\n",
    "    \n",
    "#     print(pair, '\\n', sum(pair_normal), sum(pair_weighted), len_normal, len_tot)\n",
    "    \n",
    "    if div_tot == 0:\n",
    "        pair_return_Anders = 0\n",
    "    else:\n",
    "        pair_return_Anders = (sum(pair_normal) + sum(pair_weighted)) / div_tot\n",
    "    \n",
    "    if div_normal == 0:\n",
    "        pair_return_basic = 0\n",
    "    else:\n",
    "        pair_return_basic = sum(pair_normal) / div_normal\n",
    "        \n",
    "    if div_weighted == 0:\n",
    "        pair_return_weighted = 0\n",
    "    else:\n",
    "        pair_return_weighted = sum(pair_weighted) / div_weighted\n",
    "        \n",
    "    fin_returns[pair] = {'A': pair_return_Anders,\n",
    "                         'B / N': pair_return_basic,\n",
    "                         'W': pair_return_weighted}\n",
    "    \n",
    "\n",
    "Anders_mean = (sum(pair_normal_all + pair_weighted_all) / div_tot_all)-0.01\n",
    "Basic_mean = ((sum(pair_basic_all) / div_basic_all)-0.01)\n",
    "Strategy_difference = (sum(pair_normal_all + pair_weighted_all) / div_tot_all) - (sum(pair_basic_all) / div_basic_all)\n",
    "Normal_mean = (sum(pair_normal_all) / div_normal_all)-0.01\n",
    "Weighted_mean = (sum(pair_weighted_all) / div_weighted_all)-0.01\n",
    "Trade_difference = (sum(pair_weighted_all) / div_weighted_all) - (sum(pair_normal_all) / div_normal_all)\n",
    "\n",
    "print('*'*12, country.upper(), '*'*15 + '\\nAll returns are reported as weighted averages\\n')\n",
    "print(f'Anders mean: {Anders_mean:.2%}')\n",
    "print(f'Basic mean: {Basic_mean:.2%}')\n",
    "print(f'Strategy difference: {Strategy_difference :.2%}\\n')\n",
    "print(f'Weighted mean: {Weighted_mean:.2%}')\n",
    "print(f'Normal mean: {Normal_mean:.2%}')\n",
    "print(f'Trade difference: {Trade_difference:.2%}\\n')\n"
   ]
  },
  {
   "cell_type": "code",
   "execution_count": 431,
   "id": "private-incidence",
   "metadata": {},
   "outputs": [],
   "source": [
    "# df_country_data = pd.DataFrame()"
   ]
  },
  {
   "cell_type": "code",
   "execution_count": 495,
   "id": "continued-approval",
   "metadata": {},
   "outputs": [],
   "source": [
    "### Anders_mean, Basic_mean, Strategy_difference, Normal_mean, Weighted_mean, Trade_difference\n",
    "df_country_data[country.upper()] = [Anders_mean, Basic_mean, Strategy_difference, Normal_mean, Weighted_mean, Trade_difference]"
   ]
  },
  {
   "cell_type": "code",
   "execution_count": 435,
   "id": "royal-heating",
   "metadata": {},
   "outputs": [],
   "source": [
    "# df_country_data.index = ['Anders_mean', 'Basic_mean', 'Strategy_difference', 'Normal_mean',\n",
    "#                          'Weighted_mean', 'Trade_difference']"
   ]
  },
  {
   "cell_type": "code",
   "execution_count": 496,
   "id": "operational-campus",
   "metadata": {},
   "outputs": [
    {
     "data": {
      "text/html": [
       "<div>\n",
       "<style scoped>\n",
       "    .dataframe tbody tr th:only-of-type {\n",
       "        vertical-align: middle;\n",
       "    }\n",
       "\n",
       "    .dataframe tbody tr th {\n",
       "        vertical-align: top;\n",
       "    }\n",
       "\n",
       "    .dataframe thead th {\n",
       "        text-align: right;\n",
       "    }\n",
       "</style>\n",
       "<table border=\"1\" class=\"dataframe\">\n",
       "  <thead>\n",
       "    <tr style=\"text-align: right;\">\n",
       "      <th></th>\n",
       "      <th>Anders_mean</th>\n",
       "      <th>Basic_mean</th>\n",
       "      <th>Strategy_difference</th>\n",
       "      <th>Normal_mean</th>\n",
       "      <th>Weighted_mean</th>\n",
       "      <th>Trade_difference</th>\n",
       "    </tr>\n",
       "  </thead>\n",
       "  <tbody>\n",
       "    <tr>\n",
       "      <th>FINLAND</th>\n",
       "      <td>0.046010</td>\n",
       "      <td>0.036658</td>\n",
       "      <td>0.009352</td>\n",
       "      <td>0.032878</td>\n",
       "      <td>0.147901</td>\n",
       "      <td>0.115023</td>\n",
       "    </tr>\n",
       "    <tr>\n",
       "      <th>SWEDEN</th>\n",
       "      <td>0.067141</td>\n",
       "      <td>0.058798</td>\n",
       "      <td>0.008343</td>\n",
       "      <td>0.056703</td>\n",
       "      <td>0.097105</td>\n",
       "      <td>0.040401</td>\n",
       "    </tr>\n",
       "    <tr>\n",
       "      <th>DENMARK</th>\n",
       "      <td>0.290149</td>\n",
       "      <td>0.270960</td>\n",
       "      <td>0.019188</td>\n",
       "      <td>0.246666</td>\n",
       "      <td>0.449145</td>\n",
       "      <td>0.202479</td>\n",
       "    </tr>\n",
       "    <tr>\n",
       "      <th>HK</th>\n",
       "      <td>0.126943</td>\n",
       "      <td>0.117533</td>\n",
       "      <td>0.009411</td>\n",
       "      <td>0.110903</td>\n",
       "      <td>0.216844</td>\n",
       "      <td>0.105941</td>\n",
       "    </tr>\n",
       "    <tr>\n",
       "      <th>JAPAN</th>\n",
       "      <td>0.010334</td>\n",
       "      <td>0.008084</td>\n",
       "      <td>0.002250</td>\n",
       "      <td>0.010591</td>\n",
       "      <td>0.009446</td>\n",
       "      <td>-0.001145</td>\n",
       "    </tr>\n",
       "    <tr>\n",
       "      <th>AUSTRIA</th>\n",
       "      <td>0.207012</td>\n",
       "      <td>0.198761</td>\n",
       "      <td>0.008251</td>\n",
       "      <td>0.181895</td>\n",
       "      <td>0.385807</td>\n",
       "      <td>0.203913</td>\n",
       "    </tr>\n",
       "    <tr>\n",
       "      <th>AUSTRALIA</th>\n",
       "      <td>0.134113</td>\n",
       "      <td>0.128734</td>\n",
       "      <td>0.005379</td>\n",
       "      <td>0.125977</td>\n",
       "      <td>0.166889</td>\n",
       "      <td>0.040913</td>\n",
       "    </tr>\n",
       "    <tr>\n",
       "      <th>SWISS</th>\n",
       "      <td>0.066761</td>\n",
       "      <td>0.063939</td>\n",
       "      <td>0.002822</td>\n",
       "      <td>0.070005</td>\n",
       "      <td>0.055579</td>\n",
       "      <td>-0.014425</td>\n",
       "    </tr>\n",
       "    <tr>\n",
       "      <th>GERMANY</th>\n",
       "      <td>0.000834</td>\n",
       "      <td>0.001179</td>\n",
       "      <td>-0.000345</td>\n",
       "      <td>0.003410</td>\n",
       "      <td>-0.013152</td>\n",
       "      <td>-0.016561</td>\n",
       "    </tr>\n",
       "    <tr>\n",
       "      <th>UK</th>\n",
       "      <td>0.260367</td>\n",
       "      <td>0.218082</td>\n",
       "      <td>0.042284</td>\n",
       "      <td>0.197301</td>\n",
       "      <td>0.438855</td>\n",
       "      <td>0.241555</td>\n",
       "    </tr>\n",
       "    <tr>\n",
       "      <th>US</th>\n",
       "      <td>0.062033</td>\n",
       "      <td>0.057019</td>\n",
       "      <td>0.005014</td>\n",
       "      <td>0.055192</td>\n",
       "      <td>0.083030</td>\n",
       "      <td>0.027838</td>\n",
       "    </tr>\n",
       "    <tr>\n",
       "      <th>ITALY</th>\n",
       "      <td>0.082812</td>\n",
       "      <td>0.086287</td>\n",
       "      <td>-0.003476</td>\n",
       "      <td>0.085909</td>\n",
       "      <td>0.070323</td>\n",
       "      <td>-0.015586</td>\n",
       "    </tr>\n",
       "    <tr>\n",
       "      <th>SPAIN</th>\n",
       "      <td>0.283656</td>\n",
       "      <td>0.290115</td>\n",
       "      <td>-0.006459</td>\n",
       "      <td>0.289840</td>\n",
       "      <td>0.238294</td>\n",
       "      <td>-0.051545</td>\n",
       "    </tr>\n",
       "    <tr>\n",
       "      <th>FRANCE</th>\n",
       "      <td>-0.013523</td>\n",
       "      <td>-0.007174</td>\n",
       "      <td>-0.006349</td>\n",
       "      <td>-0.003461</td>\n",
       "      <td>-0.058722</td>\n",
       "      <td>-0.055261</td>\n",
       "    </tr>\n",
       "    <tr>\n",
       "      <th>CHINA</th>\n",
       "      <td>0.147392</td>\n",
       "      <td>0.140833</td>\n",
       "      <td>0.006559</td>\n",
       "      <td>0.136071</td>\n",
       "      <td>0.190071</td>\n",
       "      <td>0.054001</td>\n",
       "    </tr>\n",
       "    <tr>\n",
       "      <th>CANADA</th>\n",
       "      <td>0.171845</td>\n",
       "      <td>0.168774</td>\n",
       "      <td>0.003071</td>\n",
       "      <td>0.164821</td>\n",
       "      <td>0.194709</td>\n",
       "      <td>0.029888</td>\n",
       "    </tr>\n",
       "  </tbody>\n",
       "</table>\n",
       "</div>"
      ],
      "text/plain": [
       "           Anders_mean  Basic_mean  Strategy_difference  Normal_mean  \\\n",
       "FINLAND       0.046010    0.036658             0.009352     0.032878   \n",
       "SWEDEN        0.067141    0.058798             0.008343     0.056703   \n",
       "DENMARK       0.290149    0.270960             0.019188     0.246666   \n",
       "HK            0.126943    0.117533             0.009411     0.110903   \n",
       "JAPAN         0.010334    0.008084             0.002250     0.010591   \n",
       "AUSTRIA       0.207012    0.198761             0.008251     0.181895   \n",
       "AUSTRALIA     0.134113    0.128734             0.005379     0.125977   \n",
       "SWISS         0.066761    0.063939             0.002822     0.070005   \n",
       "GERMANY       0.000834    0.001179            -0.000345     0.003410   \n",
       "UK            0.260367    0.218082             0.042284     0.197301   \n",
       "US            0.062033    0.057019             0.005014     0.055192   \n",
       "ITALY         0.082812    0.086287            -0.003476     0.085909   \n",
       "SPAIN         0.283656    0.290115            -0.006459     0.289840   \n",
       "FRANCE       -0.013523   -0.007174            -0.006349    -0.003461   \n",
       "CHINA         0.147392    0.140833             0.006559     0.136071   \n",
       "CANADA        0.171845    0.168774             0.003071     0.164821   \n",
       "\n",
       "           Weighted_mean  Trade_difference  \n",
       "FINLAND         0.147901          0.115023  \n",
       "SWEDEN          0.097105          0.040401  \n",
       "DENMARK         0.449145          0.202479  \n",
       "HK              0.216844          0.105941  \n",
       "JAPAN           0.009446         -0.001145  \n",
       "AUSTRIA         0.385807          0.203913  \n",
       "AUSTRALIA       0.166889          0.040913  \n",
       "SWISS           0.055579         -0.014425  \n",
       "GERMANY        -0.013152         -0.016561  \n",
       "UK              0.438855          0.241555  \n",
       "US              0.083030          0.027838  \n",
       "ITALY           0.070323         -0.015586  \n",
       "SPAIN           0.238294         -0.051545  \n",
       "FRANCE         -0.058722         -0.055261  \n",
       "CHINA           0.190071          0.054001  \n",
       "CANADA          0.194709          0.029888  "
      ]
     },
     "execution_count": 496,
     "metadata": {},
     "output_type": "execute_result"
    }
   ],
   "source": [
    "df_country_data.T"
   ]
  },
  {
   "cell_type": "code",
   "execution_count": 497,
   "id": "finite-modeling",
   "metadata": {},
   "outputs": [],
   "source": [
    "df_country_data.T.to_excel(\"PT_COUNTRY_DATA_2.xlsx\",\n",
    "             sheet_name='Sheet_1')  "
   ]
  },
  {
   "cell_type": "markdown",
   "id": "processed-confirmation",
   "metadata": {},
   "source": [
    "### Sector"
   ]
  },
  {
   "cell_type": "code",
   "execution_count": 383,
   "id": "inclusive-disclosure",
   "metadata": {},
   "outputs": [],
   "source": [
    "SALMON = ['AUSTEVOLL SEAFOOD', 'SALMAR', 'NORWAY ROYAL SALMON',\n",
    "          'LEROY SEAFOOD GROUP', 'MOWI', 'GRIEG SEAFOOD',\n",
    "          'BAKKAFROST']\n",
    "\n",
    "BANK = ['TOTENS SPAREBANK', 'DNB BANK', 'GJENSIDIGE FORSIKRING',\n",
    "        'SPAREBANK 1 SR-BANK', 'STOREBRAND']\n",
    "\n",
    "TECH = ['CONTEXTVISION', 'BOUVET', 'ATEA', 'NORDIC SEMICONDUCTOR',\n",
    "        'OTELLO CORPORATION', 'SCHIBSTED A', 'TECHSTEP', '']\n",
    "\n",
    "OIL = ['PANORO ENERGY', 'AKASTOR', 'AKER BP', 'ARCHER', 'DNO', 'DOF', 'EIDSVIK OFFSHORE',\n",
    "       'EQUINOR', 'HUNTER GROUP', 'PGS']\n",
    "\n",
    "REAL_ESTATE = ['OLAV THON EIEP.', 'SELVAAG BOLIG']\n",
    "\n",
    "INDUSTRY = ['VEIDEKKE', 'AF GRUPPEN A', 'BELSHIPS',\n",
    "            'BONHEUR', 'ENSURGE MICROPOWER', 'FRONTLINE',\n",
    "            'HEXAGON COMPOSITES', 'KITRON', 'KONGSBERG GRUPPEN',\n",
    "            'NEKKAR', 'NRC GROUP', 'PHILLY SHIPYARD',\n",
    "            'Q-FREE', 'TOMRA SYSTEMS', 'BW OFFSHORE',\n",
    "            'BORREGAARD', 'NORSK HYDRO']\n",
    "\n",
    "HEALTH_CARE = ['PHOTOCURE', 'ARCTICZYMES TECHNOLOGIES']\n",
    "\n",
    "RENEWABLE = ['NEL', 'MAGNORA','HEXAGON COMPOSITES', 'TOMRA SYSTEMS']"
   ]
  },
  {
   "cell_type": "code",
   "execution_count": 528,
   "id": "noble-family",
   "metadata": {},
   "outputs": [
    {
     "name": "stdout",
     "output_type": "stream",
     "text": [
      "TOMRA SYSTEMS\n",
      "TOMRA SYSTEMS\n",
      "TOMRA SYSTEMS\n",
      "TOMRA SYSTEMS\n",
      "TOMRA SYSTEMS\n",
      "TOMRA SYSTEMS\n",
      "TOMRA SYSTEMS\n",
      "TOMRA SYSTEMS\n",
      "TOMRA SYSTEMS\n",
      "TOMRA SYSTEMS\n",
      "NEL\n",
      "TOMRA SYSTEMS\n",
      "TOMRA SYSTEMS\n",
      "HEXAGON COMPOSITES\n",
      "MAGNORA\n",
      "MAGNORA\n",
      "TOMRA SYSTEMS\n",
      "TOMRA SYSTEMS\n",
      "TOMRA SYSTEMS\n",
      "TOMRA SYSTEMS\n",
      "HEXAGON COMPOSITES\n",
      "TOMRA SYSTEMS\n",
      "HEXAGON COMPOSITES\n",
      "TOMRA SYSTEMS\n",
      "Anders mean: 8.50%\n",
      "Basic mean: 8.19%\n",
      "Strategy difference: 0.31%\n",
      "\n",
      "Weighted mean: 13.50%\n",
      "Normal mean: 7.84%\n",
      "Trade difference: 5.66%\n",
      "\n"
     ]
    }
   ],
   "source": [
    "### MIAN CODE FOR SECTOR\n",
    "\n",
    "sector_returns = {}\n",
    "\n",
    "div_normal_all = 0\n",
    "div_weighted_all = 0\n",
    "div_basic_all = 0\n",
    "div_tot_all = 0\n",
    "\n",
    "pair_normal_all = []\n",
    "pair_weighted_all = []\n",
    "pair_basic_all = []\n",
    "\n",
    "for country in countries:\n",
    "    for pair in ALL_DATA[country].keys():\n",
    "        if (pair.split('|')[1] in RENEWABLE) & (pair.split('|')[0] not in COUNTRIES_EX_FOR):\n",
    "            print(pair.split('|')[1])\n",
    "    #     print(div_tot)\n",
    "\n",
    "            pair_normal = [W*R for W, R in ALL_DATA[country][pair]['normal_order_returns_with_weight']]        \n",
    "            pair_weighted = [W*R for W, R in ALL_DATA[country][pair]['weighted_order_returns']]\n",
    "\n",
    "            pair_basic = [W*R for W, R in ALL_DATA[country][pair]['normal_order_returns_with_weight_basic']]\n",
    "            pair_basic_all.extend(pair_basic)\n",
    "\n",
    "            pair_normal_all.extend(pair_normal)\n",
    "            pair_weighted_all.extend(pair_weighted)\n",
    "\n",
    "            div_normal = sum([W for W, _ in ALL_DATA[country][pair]['normal_order_returns_with_weight']])\n",
    "            div_weighted = sum([W for W, R in ALL_DATA[country][pair]['weighted_order_returns']])\n",
    "            div_basic = sum([W for W, R in ALL_DATA[country][pair]['normal_order_returns_with_weight_basic']])\n",
    "            div_tot = div_normal + div_weighted\n",
    "\n",
    "            div_normal_all += div_normal\n",
    "            div_weighted_all += div_weighted\n",
    "            div_basic_all += div_basic\n",
    "            div_tot_all += div_tot\n",
    "\n",
    "            assert div_tot == div_normal + div_weighted, \"ERROR\"\n",
    "\n",
    "        #     print(pair, '\\n', sum(pair_normal), sum(pair_weighted), len_normal, len_tot)\n",
    "\n",
    "            if div_tot == 0:\n",
    "                pair_return_Anders = 0\n",
    "            else:\n",
    "                pair_return_Anders = (sum(pair_normal) + sum(pair_weighted)) / div_tot\n",
    "\n",
    "            if div_normal == 0:\n",
    "                pair_return_basic = 0\n",
    "            else:\n",
    "                pair_return_basic = sum(pair_normal) / div_normal\n",
    "\n",
    "            if div_weighted == 0:\n",
    "                pair_return_weighted = 0\n",
    "            else:\n",
    "                pair_return_weighted = sum(pair_weighted) / div_weighted\n",
    "\n",
    "            sector_returns[pair] = {'A': pair_return_Anders,\n",
    "                                    'B / N': pair_return_basic,\n",
    "                                    'W': pair_return_weighted}\n",
    "\n",
    "\n",
    "Anders_mean = (sum(pair_normal_all + pair_weighted_all) / div_tot_all)-0.01\n",
    "Basic_mean = ((sum(pair_basic_all) / div_basic_all)-0.01)\n",
    "Strategy_difference = (sum(pair_normal_all + pair_weighted_all) / div_tot_all) - (sum(pair_basic_all) / div_basic_all)\n",
    "Normal_mean = (sum(pair_normal_all) / div_normal_all)-0.01\n",
    "Weighted_mean = (sum(pair_weighted_all) / div_weighted_all)-0.01\n",
    "Trade_difference = (sum(pair_weighted_all) / div_weighted_all) - (sum(pair_normal_all) / div_normal_all)\n",
    "\n",
    "# print('*'*12, country.upper(), '*'*15 + '\\nAll returns are reported as weighted averages\\n')\n",
    "print(f'Anders mean: {Anders_mean:.2%}')\n",
    "print(f'Basic mean: {Basic_mean:.2%}')\n",
    "print(f'Strategy difference: {Strategy_difference :.2%}\\n')\n",
    "print(f'Weighted mean: {Weighted_mean:.2%}')\n",
    "print(f'Normal mean: {Normal_mean:.2%}')\n",
    "print(f'Trade difference: {Trade_difference:.2%}\\n')"
   ]
  },
  {
   "cell_type": "code",
   "execution_count": 499,
   "id": "expensive-evening",
   "metadata": {},
   "outputs": [],
   "source": [
    "# df_sector_data = pd.DataFrame()"
   ]
  },
  {
   "cell_type": "code",
   "execution_count": 529,
   "id": "suspected-calculation",
   "metadata": {},
   "outputs": [],
   "source": [
    "### Anders_mean, Basic_mean, Strategy_difference, Normal_mean, Weighted_mean, Trade_difference\n",
    "df_sector_data['RENEWABLE'] = [Anders_mean, Basic_mean, Strategy_difference, Normal_mean, Weighted_mean, Trade_difference]"
   ]
  },
  {
   "cell_type": "code",
   "execution_count": 530,
   "id": "residential-vegetable",
   "metadata": {
    "scrolled": true
   },
   "outputs": [
    {
     "data": {
      "text/html": [
       "<div>\n",
       "<style scoped>\n",
       "    .dataframe tbody tr th:only-of-type {\n",
       "        vertical-align: middle;\n",
       "    }\n",
       "\n",
       "    .dataframe tbody tr th {\n",
       "        vertical-align: top;\n",
       "    }\n",
       "\n",
       "    .dataframe thead th {\n",
       "        text-align: right;\n",
       "    }\n",
       "</style>\n",
       "<table border=\"1\" class=\"dataframe\">\n",
       "  <thead>\n",
       "    <tr style=\"text-align: right;\">\n",
       "      <th></th>\n",
       "      <th>Anders_mean</th>\n",
       "      <th>Basic_mean</th>\n",
       "      <th>Strategy_difference</th>\n",
       "      <th>Normal_mean</th>\n",
       "      <th>Weighted_mean</th>\n",
       "      <th>Trade_difference</th>\n",
       "    </tr>\n",
       "  </thead>\n",
       "  <tbody>\n",
       "    <tr>\n",
       "      <th>SALMON</th>\n",
       "      <td>0.079402</td>\n",
       "      <td>0.066250</td>\n",
       "      <td>0.013152</td>\n",
       "      <td>0.057451</td>\n",
       "      <td>0.116795</td>\n",
       "      <td>0.059344</td>\n",
       "    </tr>\n",
       "    <tr>\n",
       "      <th>BANK</th>\n",
       "      <td>0.062521</td>\n",
       "      <td>0.065928</td>\n",
       "      <td>-0.003407</td>\n",
       "      <td>0.068660</td>\n",
       "      <td>0.032309</td>\n",
       "      <td>-0.036350</td>\n",
       "    </tr>\n",
       "    <tr>\n",
       "      <th>TECH</th>\n",
       "      <td>0.089349</td>\n",
       "      <td>0.079230</td>\n",
       "      <td>0.010119</td>\n",
       "      <td>0.070414</td>\n",
       "      <td>0.157408</td>\n",
       "      <td>0.086993</td>\n",
       "    </tr>\n",
       "    <tr>\n",
       "      <th>OIL</th>\n",
       "      <td>0.515040</td>\n",
       "      <td>0.472298</td>\n",
       "      <td>0.042742</td>\n",
       "      <td>0.448476</td>\n",
       "      <td>0.763815</td>\n",
       "      <td>0.315340</td>\n",
       "    </tr>\n",
       "    <tr>\n",
       "      <th>REAL_ESTATE</th>\n",
       "      <td>0.139345</td>\n",
       "      <td>0.139054</td>\n",
       "      <td>0.000291</td>\n",
       "      <td>0.137940</td>\n",
       "      <td>0.147997</td>\n",
       "      <td>0.010056</td>\n",
       "    </tr>\n",
       "    <tr>\n",
       "      <th>INDUSTRY</th>\n",
       "      <td>0.097546</td>\n",
       "      <td>0.082040</td>\n",
       "      <td>0.015505</td>\n",
       "      <td>0.074121</td>\n",
       "      <td>0.181822</td>\n",
       "      <td>0.107701</td>\n",
       "    </tr>\n",
       "    <tr>\n",
       "      <th>HEALTH_CARE</th>\n",
       "      <td>-0.248318</td>\n",
       "      <td>-0.251377</td>\n",
       "      <td>0.003059</td>\n",
       "      <td>-0.262063</td>\n",
       "      <td>-0.198014</td>\n",
       "      <td>0.064050</td>\n",
       "    </tr>\n",
       "    <tr>\n",
       "      <th>RENEWABLE</th>\n",
       "      <td>0.085020</td>\n",
       "      <td>0.081911</td>\n",
       "      <td>0.003109</td>\n",
       "      <td>0.078415</td>\n",
       "      <td>0.135040</td>\n",
       "      <td>0.056625</td>\n",
       "    </tr>\n",
       "  </tbody>\n",
       "</table>\n",
       "</div>"
      ],
      "text/plain": [
       "             Anders_mean  Basic_mean  Strategy_difference  Normal_mean  \\\n",
       "SALMON          0.079402    0.066250             0.013152     0.057451   \n",
       "BANK            0.062521    0.065928            -0.003407     0.068660   \n",
       "TECH            0.089349    0.079230             0.010119     0.070414   \n",
       "OIL             0.515040    0.472298             0.042742     0.448476   \n",
       "REAL_ESTATE     0.139345    0.139054             0.000291     0.137940   \n",
       "INDUSTRY        0.097546    0.082040             0.015505     0.074121   \n",
       "HEALTH_CARE    -0.248318   -0.251377             0.003059    -0.262063   \n",
       "RENEWABLE       0.085020    0.081911             0.003109     0.078415   \n",
       "\n",
       "             Weighted_mean  Trade_difference  \n",
       "SALMON            0.116795          0.059344  \n",
       "BANK              0.032309         -0.036350  \n",
       "TECH              0.157408          0.086993  \n",
       "OIL               0.763815          0.315340  \n",
       "REAL_ESTATE       0.147997          0.010056  \n",
       "INDUSTRY          0.181822          0.107701  \n",
       "HEALTH_CARE      -0.198014          0.064050  \n",
       "RENEWABLE         0.135040          0.056625  "
      ]
     },
     "execution_count": 530,
     "metadata": {},
     "output_type": "execute_result"
    }
   ],
   "source": [
    "df_sector_data.T\n",
    "# df_sector_data.index = ['Anders_mean', 'Basic_mean', 'Strategy_difference', 'Normal_mean',\n",
    "#                          'Weighted_mean', 'Trade_difference']"
   ]
  },
  {
   "cell_type": "code",
   "execution_count": 531,
   "id": "assured-hopkins",
   "metadata": {},
   "outputs": [],
   "source": [
    "df_sector_data.T.to_excel(\"PT_SECTOR_DATA_2.xlsx\",\n",
    "             sheet_name='Sheet_1')  "
   ]
  },
  {
   "cell_type": "markdown",
   "id": "pleasant-locator",
   "metadata": {},
   "source": [
    "### Aggregating (weighted means) ALL"
   ]
  },
  {
   "cell_type": "code",
   "execution_count": 539,
   "id": "corrected-secretariat",
   "metadata": {},
   "outputs": [],
   "source": [
    "div_normal_ALL = 0\n",
    "div_weighted_ALL = 0\n",
    "div_basic_ALL = 0\n",
    "div_tot_ALL = 0\n",
    "\n",
    "pair_normal_ALL = []\n",
    "pair_weighted_ALL = []\n",
    "pair_basic_ALL = []\n",
    "\n",
    "for c in countries:\n",
    "    for p in ALL_DATA[c].keys():\n",
    "        \n",
    "        for W, R in ALL_DATA[c][p]['normal_order_returns_with_weight']:\n",
    "            pair_normal_ALL.append(W*R)\n",
    "            div_normal_ALL += W\n",
    "            div_tot_ALL += W\n",
    "            \n",
    "        for W, R in ALL_DATA[c][p]['normal_order_returns_with_weight_basic']:\n",
    "            pair_basic_ALL.append(W*R)\n",
    "            div_basic_ALL += W\n",
    "            \n",
    "        for W, R in ALL_DATA[c][p]['weighted_order_returns']:\n",
    "            pair_weighted_ALL.append(W*R)\n",
    "            div_weighted_ALL += W\n",
    "            div_tot_ALL += W\n",
    "                "
   ]
  },
  {
   "cell_type": "code",
   "execution_count": 548,
   "id": "miniature-angel",
   "metadata": {},
   "outputs": [
    {
     "name": "stdout",
     "output_type": "stream",
     "text": [
      "9.96%\n"
     ]
    }
   ],
   "source": [
    "print(f'{sum(pair_normal_ALL + pair_weighted_ALL) / div_tot_ALL-0.01:.2%}')"
   ]
  },
  {
   "cell_type": "code",
   "execution_count": 138,
   "id": "located-essex",
   "metadata": {},
   "outputs": [
    {
     "name": "stdout",
     "output_type": "stream",
     "text": [
      "mean normal trade: 6.97%\n",
      "mean weighted trade: 8.59%\n",
      "Difference: 1.62%\n"
     ]
    }
   ],
   "source": [
    "avg_trade_normal = [ALL_DATA[c][p]['normal_order_mean'] for c in countries for p in ALL_DATA[c].keys()\n",
    "                    if p.split('|')[0] not in COMP_EX_FOR\n",
    "                    if p.split('|')[1] not in COMP_EX_NO]\n",
    "avg_trade_weighted = [ALL_DATA[c][p]['weighted_order_mean'] for c in countries for p in ALL_DATA[c].keys()\n",
    "                    if p.split('|')[0] not in COMP_EX_FOR\n",
    "                    if p.split('|')[1] not in COMP_EX_NO]\n",
    "\n",
    "avg_trade_normal_2 = [ALL_DATA[c][p]['normal_order_mean'] - 0.01 for c in countries for p in ALL_DATA[c].keys()\n",
    "                    if p.split('|')[0] not in COMP_EX_FOR\n",
    "                    if p.split('|')[1] not in COMP_EX_NO]\n",
    "avg_trade_weighted_2 = [ALL_DATA[c][p]['weighted_order_mean'] - 0.01 for c in countries for p in ALL_DATA[c].keys()\n",
    "                    if p.split('|')[0] not in COMP_EX_FOR\n",
    "                    if p.split('|')[1] not in COMP_EX_NO]\n",
    "\n",
    "### removing outlier\n",
    "avg_trade_weighted_3 = [p for p in avg_trade_weighted_2 if p < 2]\n",
    "\n",
    "weighted = pd.DataFrame(avg_trade_weighted)\n",
    "weighted.columns = ['weighted']\n",
    "normal = pd.DataFrame(avg_trade_normal)\n",
    "normal.columns = ['normal']\n",
    "\n",
    "all_trades = pd.concat([weighted, normal], axis=1)\n",
    "\n",
    "print(f'mean normal trade: {np.mean(avg_trade_normal) - 0.01:.2%}')\n",
    "print(f'mean weighted trade: {np.mean(avg_trade_weighted) - 0.01:.2%}')\n",
    "print(f'Difference: {np.mean(avg_trade_weighted) - np.mean(avg_trade_normal):.2%}')"
   ]
  },
  {
   "cell_type": "markdown",
   "id": "bored-candle",
   "metadata": {},
   "source": [
    "### Aggregating (pure returns)"
   ]
  },
  {
   "cell_type": "code",
   "execution_count": 557,
   "id": "creative-hawaiian",
   "metadata": {},
   "outputs": [],
   "source": [
    "pair_normal_ALL_return_list = []\n",
    "pair_weighted_ALL_return_list = []\n",
    "pair_basic_ALL_return_list = []\n",
    "pair_Anders_ALL_return_list = []\n",
    "\n",
    "for c in countries:\n",
    "    for p in ALL_DATA[c].keys():\n",
    "        \n",
    "        for _, R in ALL_DATA[c][p]['normal_order_returns_with_weight']:\n",
    "            pair_normal_ALL_return_list.append(R)\n",
    "            pair_Anders_ALL_return_list.append(R)\n",
    "\n",
    "        for _, R in ALL_DATA[c][p]['weighted_order_returns']:\n",
    "            pair_weighted_ALL_return_list.append(R)\n",
    "            pair_Anders_ALL_return_list.append(R)\n",
    "            \n",
    "        for _, R in ALL_DATA[c][p]['normal_order_returns_with_weight_basic']:\n",
    "            pair_basic_ALL_return_list.append(R)\n",
    "            "
   ]
  },
  {
   "cell_type": "markdown",
   "id": "pending-leonard",
   "metadata": {},
   "source": [
    "### Aggregating (weighted means) for each strategy run"
   ]
  },
  {
   "cell_type": "code",
   "execution_count": 786,
   "id": "ongoing-trustee",
   "metadata": {},
   "outputs": [],
   "source": [
    "###### DIVISOR IS SUM OF TOTAL PARTS (SUM THE WEIGHTS, NOT LENGTH OF LIST)\n",
    "\n",
    "returns = {}\n",
    "\n",
    "pair_Anders_all_sequrities = []\n",
    "pair_normal_all_sequrities = []\n",
    "pair_weighted_all_sequrities = []\n",
    "pair_basic_all_sequrities = []\n",
    "\n",
    "for c in countries:\n",
    "    for pair in ALL_DATA[c].keys():\n",
    "    \n",
    "        pair_normal = [W*R for W, R in ALL_DATA[c][pair]['normal_order_returns_with_weight']\\\n",
    "                         if pair.split('|')[0] not in COUNTRIES_EX_FOR\n",
    "                         if pair.split('|')[1] not in COUNTRIES_EX_NO]        \n",
    "        pair_weighted = [W*R for W, R in ALL_DATA[c][pair]['weighted_order_returns']\\\n",
    "                         if pair.split('|')[0] not in COUNTRIES_EX_FOR\n",
    "                         if pair.split('|')[1] not in COUNTRIES_EX_NO]\n",
    "\n",
    "        pair_basic = [W*R for W, R in ALL_DATA[c][pair]['normal_order_returns_with_weight_basic']\\\n",
    "                         if pair.split('|')[0] not in COUNTRIES_EX_FOR\n",
    "                         if pair.split('|')[1] not in COUNTRIES_EX_NO]\n",
    "\n",
    "\n",
    "        div_normal = sum([W for W, _ in ALL_DATA[c][pair]['normal_order_returns_with_weight']\\\n",
    "                         if pair.split('|')[0] not in COUNTRIES_EX_FOR\n",
    "                         if pair.split('|')[1] not in COUNTRIES_EX_NO])\n",
    "        div_weighted = sum([W for W, R in ALL_DATA[c][pair]['weighted_order_returns']\\\n",
    "                         if pair.split('|')[0] not in COUNTRIES_EX_FOR\n",
    "                         if pair.split('|')[1] not in COUNTRIES_EX_NO])\n",
    "        div_basic = sum([W for W, R in ALL_DATA[c][pair]['normal_order_returns_with_weight_basic']\\\n",
    "                         if pair.split('|')[0] not in COUNTRIES_EX_FOR\n",
    "                         if pair.split('|')[1] not in COUNTRIES_EX_NO])\n",
    "        div_total = div_normal + div_weighted\n",
    "\n",
    "        if div_total == 0:\n",
    "            pair_return_Anders = 0\n",
    "        else:\n",
    "            pair_return_Anders = (sum(pair_normal) + sum(pair_weighted)) / div_total\n",
    "            \n",
    "        if div_basic == 0:\n",
    "            pair_return_basic = 0\n",
    "        else:\n",
    "            pair_return_basic = sum(pair_basic) / div_basic\n",
    "\n",
    "        if div_normal == 0:\n",
    "            pair_return_normal = 0\n",
    "        else:\n",
    "            pair_return_normal = sum(pair_normal) / div_normal\n",
    "\n",
    "        if div_weighted == 0:\n",
    "            pair_return_weighted = 0\n",
    "        else:\n",
    "            pair_return_weighted = sum(pair_weighted) / div_weighted\n",
    "        \n",
    "        if pair_return_Anders == 0:\n",
    "            pair_Anders_all_sequrities.append(pair_return_Anders)\n",
    "        else:\n",
    "            pair_Anders_all_sequrities.append(pair_return_Anders-0.01)\n",
    "        \n",
    "        if pair_return_weighted == 0:\n",
    "            pair_weighted_all_sequrities.append(pair_return_weighted)\n",
    "        else:\n",
    "            pair_weighted_all_sequrities.append(pair_return_weighted-0.01)\n",
    "        if pair_return_basic == 0:\n",
    "            pair_basic_all_sequrities.append(pair_return_basic)\n",
    "        else:\n",
    "            pair_basic_all_sequrities.append(pair_return_basic-0.01)\n",
    "        if pair_return_normal == 0:\n",
    "            pair_normal_all_sequrities.append(pair_return_normal)\n",
    "        else:\n",
    "            pair_normal_all_sequrities.append(pair_return_normal-0.01)\n",
    "    \n",
    "pair_Anders_all_sequrities = pd.Series(pair_Anders_all_sequrities)\n",
    "pair_weighted_all_sequrities = pd.Series(pair_weighted_all_sequrities)\n",
    "pair_basic_all_sequrities = pd.Series(pair_basic_all_sequrities)\n",
    "pair_normal_all_sequrities = pd.Series(pair_normal_all_sequrities)"
   ]
  },
  {
   "cell_type": "code",
   "execution_count": 809,
   "id": "demanding-crisis",
   "metadata": {},
   "outputs": [
    {
     "data": {
      "text/plain": [
       "0.10904866515125371"
      ]
     },
     "execution_count": 809,
     "metadata": {},
     "output_type": "execute_result"
    }
   ],
   "source": [
    "# np.median(pair_Anders_all_sequrities[pair_Anders_all_sequrities !=0])\n",
    "np.median(pair_Anders_all_sequrities[pair_Anders_all_sequrities !=0])"
   ]
  },
  {
   "cell_type": "code",
   "execution_count": 810,
   "id": "viral-boost",
   "metadata": {},
   "outputs": [
    {
     "data": {
      "text/plain": [
       "0.007257734705746227"
      ]
     },
     "execution_count": 810,
     "metadata": {},
     "output_type": "execute_result"
    }
   ],
   "source": [
    "9.96 - 0.10179093044550748"
   ]
  },
  {
   "cell_type": "markdown",
   "id": "dense-tonight",
   "metadata": {},
   "source": [
    "### percentage positive, negative, neutral"
   ]
  },
  {
   "cell_type": "code",
   "execution_count": 788,
   "id": "killing-cylinder",
   "metadata": {},
   "outputs": [
    {
     "data": {
      "text/plain": [
       "positiv     0.50939\n",
       "negative    0.27230\n",
       "neutral     0.21831\n",
       "dtype: float64"
      ]
     },
     "execution_count": 788,
     "metadata": {},
     "output_type": "execute_result"
    }
   ],
   "source": [
    "pd.Series(np.select([pair_Anders_all_sequrities > 0,\n",
    "           pair_Anders_all_sequrities == 0,\n",
    "           pair_Anders_all_sequrities < 0], ['positiv', 'neutral', 'negative'])).value_counts(normalize=True)"
   ]
  },
  {
   "cell_type": "code",
   "execution_count": 789,
   "id": "challenging-hazard",
   "metadata": {},
   "outputs": [
    {
     "data": {
      "text/plain": [
       "positiv     0.507042\n",
       "negative    0.274648\n",
       "neutral     0.218310\n",
       "dtype: float64"
      ]
     },
     "execution_count": 789,
     "metadata": {},
     "output_type": "execute_result"
    }
   ],
   "source": [
    "pd.Series(np.select([pair_basic_all_sequrities > 0,\n",
    "           pair_basic_all_sequrities == 0,\n",
    "           pair_basic_all_sequrities < 0], ['positiv', 'neutral', 'negative'])).value_counts(normalize=True)"
   ]
  },
  {
   "cell_type": "code",
   "execution_count": 790,
   "id": "defined-statement",
   "metadata": {},
   "outputs": [
    {
     "data": {
      "text/plain": [
       "neutral     0.406103\n",
       "positiv     0.382629\n",
       "negative    0.211268\n",
       "dtype: float64"
      ]
     },
     "execution_count": 790,
     "metadata": {},
     "output_type": "execute_result"
    }
   ],
   "source": [
    "### Exclude neutral for trades investigation\n",
    "pd.Series(np.select([pair_weighted_all_sequrities > 0,\n",
    "           pair_weighted_all_sequrities == 0,\n",
    "           pair_weighted_all_sequrities < 0], ['positiv', 'neutral', 'negative'])).value_counts(normalize=True)"
   ]
  },
  {
   "cell_type": "code",
   "execution_count": 791,
   "id": "christian-heading",
   "metadata": {},
   "outputs": [
    {
     "data": {
      "text/plain": [
       "positiv     0.492958\n",
       "negative    0.281690\n",
       "neutral     0.225352\n",
       "dtype: float64"
      ]
     },
     "execution_count": 791,
     "metadata": {},
     "output_type": "execute_result"
    }
   ],
   "source": [
    "### Exclude neutral for trades investigation\n",
    "pd.Series(np.select([pair_normal_all_sequrities > 0,\n",
    "           pair_normal_all_sequrities == 0,\n",
    "           pair_normal_all_sequrities < 0], ['positiv', 'neutral', 'negative'])).value_counts(normalize=True)"
   ]
  },
  {
   "cell_type": "code",
   "execution_count": 622,
   "id": "correct-murder",
   "metadata": {},
   "outputs": [
    {
     "data": {
      "application/vnd.plotly.v1+json": {
       "config": {
        "plotlyServerURL": "https://plot.ly"
       },
       "data": [
        {
         "alignmentgroup": "True",
         "hovertemplate": "variable=0<br>index=%{x}<br>value=%{y}<extra></extra>",
         "legendgroup": "0",
         "marker": {
          "color": "#636efa",
          "pattern": {
           "shape": ""
          }
         },
         "name": "0",
         "offsetgroup": "0",
         "orientation": "v",
         "showlegend": true,
         "textposition": "auto",
         "type": "bar",
         "x": [
          0,
          1,
          2,
          3,
          4,
          5,
          6,
          7,
          8,
          9,
          10,
          11,
          12,
          13,
          14,
          15,
          16,
          17,
          18,
          19,
          20,
          21,
          22,
          23,
          24,
          25,
          26,
          27,
          28,
          29,
          30,
          31,
          32,
          33,
          34,
          35,
          36,
          37,
          38,
          39,
          40,
          41,
          42,
          43,
          44,
          45,
          46,
          47,
          48,
          49,
          50,
          51,
          52,
          53,
          54,
          55,
          56,
          57,
          58,
          59,
          60,
          61,
          62,
          63,
          64,
          65,
          66,
          67,
          68,
          69,
          70,
          71,
          72,
          73,
          74,
          75,
          76,
          77,
          78,
          79,
          80,
          81,
          82,
          83,
          84,
          85,
          86,
          87,
          88,
          89,
          90,
          91,
          92,
          93,
          94,
          95,
          96,
          97,
          98,
          99,
          100,
          101,
          102,
          103,
          104,
          105,
          106,
          107,
          108,
          109,
          110,
          111,
          112,
          113,
          114,
          115,
          116,
          117,
          118,
          119,
          120,
          121,
          122,
          123,
          124,
          125,
          126,
          127,
          128,
          129,
          130,
          131,
          132,
          133,
          134,
          135,
          136,
          137,
          138,
          139,
          140,
          141,
          142,
          143,
          144,
          145,
          146,
          147,
          148,
          149,
          150,
          151,
          152,
          153,
          154,
          155,
          156,
          157,
          158,
          159,
          160,
          161,
          162,
          163,
          164,
          165,
          166,
          167,
          168,
          169,
          170,
          171,
          172,
          173,
          174,
          175,
          176,
          177,
          178,
          179,
          180,
          181,
          182,
          183,
          184,
          185,
          186,
          187,
          188,
          189,
          190,
          191,
          192,
          193,
          194,
          195,
          196,
          197,
          198,
          199,
          200,
          201,
          202,
          203,
          204,
          205,
          206,
          207,
          208,
          209,
          210,
          211,
          212,
          213,
          214,
          215,
          216,
          217,
          218,
          219,
          220,
          221,
          222,
          223,
          224,
          225,
          226,
          227,
          228,
          229,
          230,
          231,
          232,
          233,
          234,
          235,
          236,
          237,
          238,
          239,
          240,
          241,
          242,
          243,
          244,
          245,
          246,
          247,
          248,
          249,
          250,
          251,
          252,
          253,
          254,
          255,
          256,
          257,
          258,
          259,
          260,
          261,
          262,
          263,
          264,
          265,
          266,
          267,
          268,
          269,
          270,
          271,
          272,
          273,
          274,
          275,
          276,
          277,
          278,
          279,
          280,
          281,
          282,
          283,
          284,
          285,
          286,
          287,
          288,
          289,
          290,
          291,
          292,
          293,
          294,
          295,
          296,
          297,
          298,
          299,
          300,
          301,
          302,
          303,
          304,
          305,
          306,
          307,
          308,
          309,
          310,
          311,
          312,
          313,
          314,
          315,
          316,
          317,
          318,
          319,
          320,
          321,
          322,
          323,
          324,
          325,
          326,
          327,
          328,
          329,
          330,
          331,
          332,
          333,
          334,
          335,
          336,
          337,
          338,
          339,
          340,
          341,
          342,
          343,
          344,
          345,
          346,
          347,
          348,
          349,
          350,
          351,
          352,
          353,
          354,
          355,
          356,
          357,
          358,
          359,
          360,
          361,
          362,
          363,
          364,
          365,
          366,
          367,
          368,
          369,
          370,
          371,
          372,
          373,
          374,
          375,
          376,
          377,
          378,
          379,
          380,
          381,
          382,
          383,
          384,
          385,
          386,
          387,
          388,
          389,
          390,
          391,
          392,
          393,
          394,
          395,
          396,
          397,
          398,
          399,
          400,
          401,
          402,
          403,
          404,
          405,
          406,
          407,
          408,
          409,
          410,
          411,
          412,
          413,
          414,
          415,
          416,
          417,
          418,
          419,
          420,
          421,
          422,
          423,
          424,
          425
         ],
         "xaxis": "x",
         "y": [
          -0.8350366142642504,
          -0.8231531315688521,
          -0.8217610956364648,
          -0.6915274435393047,
          -0.6634941882172103,
          -0.5972648729559971,
          -0.5271351966923835,
          -0.5044814686830994,
          -0.47407661849110083,
          -0.4490563511732777,
          -0.43078596022376514,
          -0.4099407096214112,
          -0.4085303161823867,
          -0.4045382921760868,
          -0.4012630889174884,
          -0.3974082085214874,
          -0.38948220767850317,
          -0.3704398045478235,
          -0.3474036464729216,
          -0.3463886893148471,
          -0.3407787480345312,
          -0.3334912391258537,
          -0.31337981944937077,
          -0.3089175910515268,
          -0.29701093257160227,
          -0.29421819221860557,
          -0.27605152965505475,
          -0.26892916527447613,
          -0.26467477217235946,
          -0.26413440183444975,
          -0.25968433300148636,
          -0.2544700390641471,
          -0.24762367285994302,
          -0.22995216409098318,
          -0.22793020319777965,
          -0.22375154019781526,
          -0.22288014895654232,
          -0.21628755444348308,
          -0.2151934881731648,
          -0.21452861415662555,
          -0.2092349499390266,
          -0.20679496353735813,
          -0.20575761819450497,
          -0.20531351546533158,
          -0.20357003423088194,
          -0.20340289589933605,
          -0.20093370024320265,
          -0.19636578650483577,
          -0.19087693087944899,
          -0.18567849961858776,
          -0.18315703199123684,
          -0.18201967387455403,
          -0.17960930261974692,
          -0.17633748594886,
          -0.1759283613914627,
          -0.17551719836297194,
          -0.17367959483853523,
          -0.17319269643902463,
          -0.16461385343908738,
          -0.15841192776361324,
          -0.1582520342477601,
          -0.1514836935494133,
          -0.1493021710607235,
          -0.14744244635245882,
          -0.14237602937267024,
          -0.1412487105963344,
          -0.14080385534123382,
          -0.13180543833100497,
          -0.12976196082256902,
          -0.12784297022320879,
          -0.12713087170567292,
          -0.12203101811243347,
          -0.1132842247068423,
          -0.10956899444858935,
          -0.10771704892059912,
          -0.10592828301105676,
          -0.09933999907577791,
          -0.09824876296527678,
          -0.09338271066204454,
          -0.08550339925350507,
          -0.0840381234657969,
          -0.08324285974324584,
          -0.08269688738830464,
          -0.07934745243033792,
          -0.07657626750178737,
          -0.07430431005026236,
          -0.07252242834536726,
          -0.07128060886332863,
          -0.0712695890456236,
          -0.07125033926882161,
          -0.06897956371641094,
          -0.06635720367724672,
          -0.06558461991829907,
          -0.06390915037450258,
          -0.059617956046965216,
          -0.059362469892141355,
          -0.05578865836739958,
          -0.05456384689265107,
          -0.04358822426486607,
          -0.04301491394012386,
          -0.036824788669398506,
          -0.030650228819893044,
          -0.030472006364753064,
          -0.029110732287366384,
          -0.027452466383089943,
          -0.023526157475591728,
          -0.01687866616662835,
          -0.016511290054872275,
          -0.010848122300955866,
          -0.00892162733298163,
          -7.068707467143547e-05,
          0,
          0,
          0,
          0,
          0,
          0,
          0,
          0,
          0,
          0,
          0,
          0,
          0,
          0,
          0,
          0,
          0,
          0,
          0,
          0,
          0,
          0,
          0,
          0,
          0,
          0,
          0,
          0,
          0,
          0,
          0,
          0,
          0,
          0,
          0,
          0,
          0,
          0,
          0,
          0,
          0,
          0,
          0,
          0,
          0,
          0,
          0,
          0,
          0,
          0,
          0,
          0,
          0,
          0,
          0,
          0,
          0,
          0,
          0,
          0,
          0,
          0,
          0,
          0,
          0,
          0,
          0,
          0,
          0,
          0,
          0,
          0,
          0,
          0,
          0,
          0,
          0,
          0,
          0,
          0,
          0,
          0,
          0,
          0,
          0,
          0,
          0,
          0,
          0,
          0,
          0,
          0,
          0,
          9.944274973878326e-05,
          0.0034109401043916085,
          0.004415676884518038,
          0.00735196252209032,
          0.009419507223522252,
          0.01034233514823749,
          0.013046026619203862,
          0.018639062012206404,
          0.018673063381114203,
          0.020777455288835782,
          0.02099746035857053,
          0.022592909852286295,
          0.022636792638400047,
          0.02410012540227665,
          0.025238272065090675,
          0.028258966803959607,
          0.030766554357783575,
          0.03223098744746543,
          0.03270043168364363,
          0.03566715322527962,
          0.041520647768235844,
          0.0427138502302258,
          0.045412655119917544,
          0.04688101383736434,
          0.04829102176074219,
          0.050498843017655046,
          0.054082428373862276,
          0.05410521574774304,
          0.05785536948116359,
          0.057924798522280996,
          0.061204194750928434,
          0.06153569036220362,
          0.06507587991142541,
          0.06639310930618267,
          0.06703286611082789,
          0.0719276110825676,
          0.07947845163110233,
          0.07994134808945047,
          0.08194551100984315,
          0.08208882524326885,
          0.08335791612035985,
          0.08547363209102053,
          0.08734022197270906,
          0.09285529765029109,
          0.09532373779318591,
          0.09629615484642842,
          0.09665600437951624,
          0.09819102597367933,
          0.10308249879533618,
          0.1088156713907517,
          0.11163757719337207,
          0.11203599307542124,
          0.11350202249013945,
          0.11534325297870218,
          0.11804487599718531,
          0.1190486651512537,
          0.11937825480098264,
          0.12079567762299555,
          0.12722291468986163,
          0.12922828414818485,
          0.1294134989465236,
          0.1296007236812107,
          0.13131709687392767,
          0.13354342356781376,
          0.13422213559230028,
          0.1350586367705707,
          0.13671196016126147,
          0.13857482327891074,
          0.13930752777268474,
          0.13937499332464867,
          0.13954906283193827,
          0.14045404777001766,
          0.14405465998685327,
          0.14729103372482893,
          0.14735409456657106,
          0.14863236064115762,
          0.14925789851036528,
          0.1496563449071604,
          0.1514745397345707,
          0.15291448792318363,
          0.1531346461859531,
          0.15503022864347582,
          0.15537137011072397,
          0.1560028142388305,
          0.15885125342542578,
          0.1589546369032002,
          0.16110836963547537,
          0.16341979130041623,
          0.16482472554172117,
          0.16597690770885506,
          0.1670399816440098,
          0.16781535283475524,
          0.16843756503161092,
          0.1711505198143846,
          0.17300297456703842,
          0.17329835639142568,
          0.17443616854170682,
          0.17463038244764292,
          0.1771923202518543,
          0.17897384466402472,
          0.1795086341732689,
          0.1832183221249631,
          0.1862565978795828,
          0.18929235476045045,
          0.19470671104037462,
          0.19489099985165773,
          0.1952894825648577,
          0.1996317257122676,
          0.20089626514705525,
          0.20351280450219086,
          0.20747736056093005,
          0.20879552862256737,
          0.21146109989740117,
          0.21341360596534828,
          0.2166447033494618,
          0.2172454283967482,
          0.22188052978534767,
          0.2220534912750679,
          0.22421604905639717,
          0.22752073615681398,
          0.22862197461232414,
          0.23094373800238743,
          0.2315267821154192,
          0.23245843743500821,
          0.23283552685751877,
          0.23484504923976707,
          0.23891402627467312,
          0.2428268231606983,
          0.2461574181726927,
          0.2503943017995578,
          0.2523259181586084,
          0.25330989202526494,
          0.2644759245702732,
          0.2645901858388619,
          0.2672972982609701,
          0.2692086959350224,
          0.26957321142631036,
          0.2696629186935415,
          0.27209503028059595,
          0.2725652932568515,
          0.2745796636903485,
          0.2776085607295009,
          0.2787894487385112,
          0.280146624388174,
          0.2830830931882654,
          0.2854294923271742,
          0.2856822116275537,
          0.289992356394407,
          0.290970310619974,
          0.2943157073731822,
          0.29804011905363925,
          0.3001924665651268,
          0.3019310731263141,
          0.30672329893635963,
          0.3087115313494334,
          0.30998097856312795,
          0.31319831562451483,
          0.3145028555833333,
          0.3166817134163197,
          0.3167001896182688,
          0.31692433216982313,
          0.32920939242697,
          0.3409860286116219,
          0.3411990650952998,
          0.34421016023633266,
          0.3533060107530245,
          0.3533731635024949,
          0.35990326210768997,
          0.3607155979398408,
          0.3685079832878609,
          0.37240870678271043,
          0.37391874353370075,
          0.37512086388521965,
          0.3779192693367694,
          0.3821394861063525,
          0.38427519985275366,
          0.3892651460375784,
          0.3894917768407293,
          0.3909761955015718,
          0.399431860954667,
          0.40137270014926923,
          0.4048947075783601,
          0.4074046784119455,
          0.41518096460097975,
          0.41786187528923446,
          0.41885446214288,
          0.41938584400402545,
          0.43481553090734215,
          0.4359207474025837,
          0.4409772437474716,
          0.4684989899878184,
          0.4747221250109923,
          0.47800593989122697,
          0.480206650571211,
          0.4842900119338104,
          0.48519818796720404,
          0.512671366033801,
          0.5269608746445478,
          0.5389601700152477,
          0.5700808109469069,
          0.5746148001197215,
          0.6195625573216822,
          0.6227632233696478,
          0.6268912735313248,
          0.6672744624359996,
          0.6978123669914805,
          0.7142965051251979,
          0.8165948007034904,
          0.8625612439908021,
          0.915455516137592,
          0.9183474694268641,
          0.9280608515042523,
          0.9545915204831864,
          0.9936888980151195,
          1.1849066069535685,
          1.22331219241666,
          1.277843242516186,
          1.3185774318896444,
          1.3758311660517615,
          1.411298671732275,
          1.49126560593806,
          1.6741052348610115
         ],
         "yaxis": "y"
        }
       ],
       "layout": {
        "barmode": "relative",
        "legend": {
         "title": {
          "text": "variable"
         },
         "tracegroupgap": 0
        },
        "margin": {
         "t": 60
        },
        "template": {
         "data": {
          "bar": [
           {
            "error_x": {
             "color": "#2a3f5f"
            },
            "error_y": {
             "color": "#2a3f5f"
            },
            "marker": {
             "line": {
              "color": "#E5ECF6",
              "width": 0.5
             },
             "pattern": {
              "fillmode": "overlay",
              "size": 10,
              "solidity": 0.2
             }
            },
            "type": "bar"
           }
          ],
          "barpolar": [
           {
            "marker": {
             "line": {
              "color": "#E5ECF6",
              "width": 0.5
             },
             "pattern": {
              "fillmode": "overlay",
              "size": 10,
              "solidity": 0.2
             }
            },
            "type": "barpolar"
           }
          ],
          "carpet": [
           {
            "aaxis": {
             "endlinecolor": "#2a3f5f",
             "gridcolor": "white",
             "linecolor": "white",
             "minorgridcolor": "white",
             "startlinecolor": "#2a3f5f"
            },
            "baxis": {
             "endlinecolor": "#2a3f5f",
             "gridcolor": "white",
             "linecolor": "white",
             "minorgridcolor": "white",
             "startlinecolor": "#2a3f5f"
            },
            "type": "carpet"
           }
          ],
          "choropleth": [
           {
            "colorbar": {
             "outlinewidth": 0,
             "ticks": ""
            },
            "type": "choropleth"
           }
          ],
          "contour": [
           {
            "colorbar": {
             "outlinewidth": 0,
             "ticks": ""
            },
            "colorscale": [
             [
              0,
              "#0d0887"
             ],
             [
              0.1111111111111111,
              "#46039f"
             ],
             [
              0.2222222222222222,
              "#7201a8"
             ],
             [
              0.3333333333333333,
              "#9c179e"
             ],
             [
              0.4444444444444444,
              "#bd3786"
             ],
             [
              0.5555555555555556,
              "#d8576b"
             ],
             [
              0.6666666666666666,
              "#ed7953"
             ],
             [
              0.7777777777777778,
              "#fb9f3a"
             ],
             [
              0.8888888888888888,
              "#fdca26"
             ],
             [
              1,
              "#f0f921"
             ]
            ],
            "type": "contour"
           }
          ],
          "contourcarpet": [
           {
            "colorbar": {
             "outlinewidth": 0,
             "ticks": ""
            },
            "type": "contourcarpet"
           }
          ],
          "heatmap": [
           {
            "colorbar": {
             "outlinewidth": 0,
             "ticks": ""
            },
            "colorscale": [
             [
              0,
              "#0d0887"
             ],
             [
              0.1111111111111111,
              "#46039f"
             ],
             [
              0.2222222222222222,
              "#7201a8"
             ],
             [
              0.3333333333333333,
              "#9c179e"
             ],
             [
              0.4444444444444444,
              "#bd3786"
             ],
             [
              0.5555555555555556,
              "#d8576b"
             ],
             [
              0.6666666666666666,
              "#ed7953"
             ],
             [
              0.7777777777777778,
              "#fb9f3a"
             ],
             [
              0.8888888888888888,
              "#fdca26"
             ],
             [
              1,
              "#f0f921"
             ]
            ],
            "type": "heatmap"
           }
          ],
          "heatmapgl": [
           {
            "colorbar": {
             "outlinewidth": 0,
             "ticks": ""
            },
            "colorscale": [
             [
              0,
              "#0d0887"
             ],
             [
              0.1111111111111111,
              "#46039f"
             ],
             [
              0.2222222222222222,
              "#7201a8"
             ],
             [
              0.3333333333333333,
              "#9c179e"
             ],
             [
              0.4444444444444444,
              "#bd3786"
             ],
             [
              0.5555555555555556,
              "#d8576b"
             ],
             [
              0.6666666666666666,
              "#ed7953"
             ],
             [
              0.7777777777777778,
              "#fb9f3a"
             ],
             [
              0.8888888888888888,
              "#fdca26"
             ],
             [
              1,
              "#f0f921"
             ]
            ],
            "type": "heatmapgl"
           }
          ],
          "histogram": [
           {
            "marker": {
             "pattern": {
              "fillmode": "overlay",
              "size": 10,
              "solidity": 0.2
             }
            },
            "type": "histogram"
           }
          ],
          "histogram2d": [
           {
            "colorbar": {
             "outlinewidth": 0,
             "ticks": ""
            },
            "colorscale": [
             [
              0,
              "#0d0887"
             ],
             [
              0.1111111111111111,
              "#46039f"
             ],
             [
              0.2222222222222222,
              "#7201a8"
             ],
             [
              0.3333333333333333,
              "#9c179e"
             ],
             [
              0.4444444444444444,
              "#bd3786"
             ],
             [
              0.5555555555555556,
              "#d8576b"
             ],
             [
              0.6666666666666666,
              "#ed7953"
             ],
             [
              0.7777777777777778,
              "#fb9f3a"
             ],
             [
              0.8888888888888888,
              "#fdca26"
             ],
             [
              1,
              "#f0f921"
             ]
            ],
            "type": "histogram2d"
           }
          ],
          "histogram2dcontour": [
           {
            "colorbar": {
             "outlinewidth": 0,
             "ticks": ""
            },
            "colorscale": [
             [
              0,
              "#0d0887"
             ],
             [
              0.1111111111111111,
              "#46039f"
             ],
             [
              0.2222222222222222,
              "#7201a8"
             ],
             [
              0.3333333333333333,
              "#9c179e"
             ],
             [
              0.4444444444444444,
              "#bd3786"
             ],
             [
              0.5555555555555556,
              "#d8576b"
             ],
             [
              0.6666666666666666,
              "#ed7953"
             ],
             [
              0.7777777777777778,
              "#fb9f3a"
             ],
             [
              0.8888888888888888,
              "#fdca26"
             ],
             [
              1,
              "#f0f921"
             ]
            ],
            "type": "histogram2dcontour"
           }
          ],
          "mesh3d": [
           {
            "colorbar": {
             "outlinewidth": 0,
             "ticks": ""
            },
            "type": "mesh3d"
           }
          ],
          "parcoords": [
           {
            "line": {
             "colorbar": {
              "outlinewidth": 0,
              "ticks": ""
             }
            },
            "type": "parcoords"
           }
          ],
          "pie": [
           {
            "automargin": true,
            "type": "pie"
           }
          ],
          "scatter": [
           {
            "marker": {
             "colorbar": {
              "outlinewidth": 0,
              "ticks": ""
             }
            },
            "type": "scatter"
           }
          ],
          "scatter3d": [
           {
            "line": {
             "colorbar": {
              "outlinewidth": 0,
              "ticks": ""
             }
            },
            "marker": {
             "colorbar": {
              "outlinewidth": 0,
              "ticks": ""
             }
            },
            "type": "scatter3d"
           }
          ],
          "scattercarpet": [
           {
            "marker": {
             "colorbar": {
              "outlinewidth": 0,
              "ticks": ""
             }
            },
            "type": "scattercarpet"
           }
          ],
          "scattergeo": [
           {
            "marker": {
             "colorbar": {
              "outlinewidth": 0,
              "ticks": ""
             }
            },
            "type": "scattergeo"
           }
          ],
          "scattergl": [
           {
            "marker": {
             "colorbar": {
              "outlinewidth": 0,
              "ticks": ""
             }
            },
            "type": "scattergl"
           }
          ],
          "scattermapbox": [
           {
            "marker": {
             "colorbar": {
              "outlinewidth": 0,
              "ticks": ""
             }
            },
            "type": "scattermapbox"
           }
          ],
          "scatterpolar": [
           {
            "marker": {
             "colorbar": {
              "outlinewidth": 0,
              "ticks": ""
             }
            },
            "type": "scatterpolar"
           }
          ],
          "scatterpolargl": [
           {
            "marker": {
             "colorbar": {
              "outlinewidth": 0,
              "ticks": ""
             }
            },
            "type": "scatterpolargl"
           }
          ],
          "scatterternary": [
           {
            "marker": {
             "colorbar": {
              "outlinewidth": 0,
              "ticks": ""
             }
            },
            "type": "scatterternary"
           }
          ],
          "surface": [
           {
            "colorbar": {
             "outlinewidth": 0,
             "ticks": ""
            },
            "colorscale": [
             [
              0,
              "#0d0887"
             ],
             [
              0.1111111111111111,
              "#46039f"
             ],
             [
              0.2222222222222222,
              "#7201a8"
             ],
             [
              0.3333333333333333,
              "#9c179e"
             ],
             [
              0.4444444444444444,
              "#bd3786"
             ],
             [
              0.5555555555555556,
              "#d8576b"
             ],
             [
              0.6666666666666666,
              "#ed7953"
             ],
             [
              0.7777777777777778,
              "#fb9f3a"
             ],
             [
              0.8888888888888888,
              "#fdca26"
             ],
             [
              1,
              "#f0f921"
             ]
            ],
            "type": "surface"
           }
          ],
          "table": [
           {
            "cells": {
             "fill": {
              "color": "#EBF0F8"
             },
             "line": {
              "color": "white"
             }
            },
            "header": {
             "fill": {
              "color": "#C8D4E3"
             },
             "line": {
              "color": "white"
             }
            },
            "type": "table"
           }
          ]
         },
         "layout": {
          "annotationdefaults": {
           "arrowcolor": "#2a3f5f",
           "arrowhead": 0,
           "arrowwidth": 1
          },
          "autotypenumbers": "strict",
          "coloraxis": {
           "colorbar": {
            "outlinewidth": 0,
            "ticks": ""
           }
          },
          "colorscale": {
           "diverging": [
            [
             0,
             "#8e0152"
            ],
            [
             0.1,
             "#c51b7d"
            ],
            [
             0.2,
             "#de77ae"
            ],
            [
             0.3,
             "#f1b6da"
            ],
            [
             0.4,
             "#fde0ef"
            ],
            [
             0.5,
             "#f7f7f7"
            ],
            [
             0.6,
             "#e6f5d0"
            ],
            [
             0.7,
             "#b8e186"
            ],
            [
             0.8,
             "#7fbc41"
            ],
            [
             0.9,
             "#4d9221"
            ],
            [
             1,
             "#276419"
            ]
           ],
           "sequential": [
            [
             0,
             "#0d0887"
            ],
            [
             0.1111111111111111,
             "#46039f"
            ],
            [
             0.2222222222222222,
             "#7201a8"
            ],
            [
             0.3333333333333333,
             "#9c179e"
            ],
            [
             0.4444444444444444,
             "#bd3786"
            ],
            [
             0.5555555555555556,
             "#d8576b"
            ],
            [
             0.6666666666666666,
             "#ed7953"
            ],
            [
             0.7777777777777778,
             "#fb9f3a"
            ],
            [
             0.8888888888888888,
             "#fdca26"
            ],
            [
             1,
             "#f0f921"
            ]
           ],
           "sequentialminus": [
            [
             0,
             "#0d0887"
            ],
            [
             0.1111111111111111,
             "#46039f"
            ],
            [
             0.2222222222222222,
             "#7201a8"
            ],
            [
             0.3333333333333333,
             "#9c179e"
            ],
            [
             0.4444444444444444,
             "#bd3786"
            ],
            [
             0.5555555555555556,
             "#d8576b"
            ],
            [
             0.6666666666666666,
             "#ed7953"
            ],
            [
             0.7777777777777778,
             "#fb9f3a"
            ],
            [
             0.8888888888888888,
             "#fdca26"
            ],
            [
             1,
             "#f0f921"
            ]
           ]
          },
          "colorway": [
           "#636efa",
           "#EF553B",
           "#00cc96",
           "#ab63fa",
           "#FFA15A",
           "#19d3f3",
           "#FF6692",
           "#B6E880",
           "#FF97FF",
           "#FECB52"
          ],
          "font": {
           "color": "#2a3f5f"
          },
          "geo": {
           "bgcolor": "white",
           "lakecolor": "white",
           "landcolor": "#E5ECF6",
           "showlakes": true,
           "showland": true,
           "subunitcolor": "white"
          },
          "hoverlabel": {
           "align": "left"
          },
          "hovermode": "closest",
          "mapbox": {
           "style": "light"
          },
          "paper_bgcolor": "white",
          "plot_bgcolor": "#E5ECF6",
          "polar": {
           "angularaxis": {
            "gridcolor": "white",
            "linecolor": "white",
            "ticks": ""
           },
           "bgcolor": "#E5ECF6",
           "radialaxis": {
            "gridcolor": "white",
            "linecolor": "white",
            "ticks": ""
           }
          },
          "scene": {
           "xaxis": {
            "backgroundcolor": "#E5ECF6",
            "gridcolor": "white",
            "gridwidth": 2,
            "linecolor": "white",
            "showbackground": true,
            "ticks": "",
            "zerolinecolor": "white"
           },
           "yaxis": {
            "backgroundcolor": "#E5ECF6",
            "gridcolor": "white",
            "gridwidth": 2,
            "linecolor": "white",
            "showbackground": true,
            "ticks": "",
            "zerolinecolor": "white"
           },
           "zaxis": {
            "backgroundcolor": "#E5ECF6",
            "gridcolor": "white",
            "gridwidth": 2,
            "linecolor": "white",
            "showbackground": true,
            "ticks": "",
            "zerolinecolor": "white"
           }
          },
          "shapedefaults": {
           "line": {
            "color": "#2a3f5f"
           }
          },
          "ternary": {
           "aaxis": {
            "gridcolor": "white",
            "linecolor": "white",
            "ticks": ""
           },
           "baxis": {
            "gridcolor": "white",
            "linecolor": "white",
            "ticks": ""
           },
           "bgcolor": "#E5ECF6",
           "caxis": {
            "gridcolor": "white",
            "linecolor": "white",
            "ticks": ""
           }
          },
          "title": {
           "x": 0.05
          },
          "xaxis": {
           "automargin": true,
           "gridcolor": "white",
           "linecolor": "white",
           "ticks": "",
           "title": {
            "standoff": 15
           },
           "zerolinecolor": "white",
           "zerolinewidth": 2
          },
          "yaxis": {
           "automargin": true,
           "gridcolor": "white",
           "linecolor": "white",
           "ticks": "",
           "title": {
            "standoff": 15
           },
           "zerolinecolor": "white",
           "zerolinewidth": 2
          }
         }
        },
        "xaxis": {
         "anchor": "y",
         "domain": [
          0,
          1
         ],
         "title": {
          "text": "index"
         }
        },
        "yaxis": {
         "anchor": "x",
         "domain": [
          0,
          1
         ],
         "title": {
          "text": "value"
         }
        }
       }
      },
      "text/html": [
       "<div>                            <div id=\"134f5d69-05c4-4966-a535-e74ddd2f1d4b\" class=\"plotly-graph-div\" style=\"height:525px; width:100%;\"></div>            <script type=\"text/javascript\">                require([\"plotly\"], function(Plotly) {                    window.PLOTLYENV=window.PLOTLYENV || {};                                    if (document.getElementById(\"134f5d69-05c4-4966-a535-e74ddd2f1d4b\")) {                    Plotly.newPlot(                        \"134f5d69-05c4-4966-a535-e74ddd2f1d4b\",                        [{\"alignmentgroup\":\"True\",\"hovertemplate\":\"variable=0<br>index=%{x}<br>value=%{y}<extra></extra>\",\"legendgroup\":\"0\",\"marker\":{\"color\":\"#636efa\",\"pattern\":{\"shape\":\"\"}},\"name\":\"0\",\"offsetgroup\":\"0\",\"orientation\":\"v\",\"showlegend\":true,\"textposition\":\"auto\",\"type\":\"bar\",\"x\":[0,1,2,3,4,5,6,7,8,9,10,11,12,13,14,15,16,17,18,19,20,21,22,23,24,25,26,27,28,29,30,31,32,33,34,35,36,37,38,39,40,41,42,43,44,45,46,47,48,49,50,51,52,53,54,55,56,57,58,59,60,61,62,63,64,65,66,67,68,69,70,71,72,73,74,75,76,77,78,79,80,81,82,83,84,85,86,87,88,89,90,91,92,93,94,95,96,97,98,99,100,101,102,103,104,105,106,107,108,109,110,111,112,113,114,115,116,117,118,119,120,121,122,123,124,125,126,127,128,129,130,131,132,133,134,135,136,137,138,139,140,141,142,143,144,145,146,147,148,149,150,151,152,153,154,155,156,157,158,159,160,161,162,163,164,165,166,167,168,169,170,171,172,173,174,175,176,177,178,179,180,181,182,183,184,185,186,187,188,189,190,191,192,193,194,195,196,197,198,199,200,201,202,203,204,205,206,207,208,209,210,211,212,213,214,215,216,217,218,219,220,221,222,223,224,225,226,227,228,229,230,231,232,233,234,235,236,237,238,239,240,241,242,243,244,245,246,247,248,249,250,251,252,253,254,255,256,257,258,259,260,261,262,263,264,265,266,267,268,269,270,271,272,273,274,275,276,277,278,279,280,281,282,283,284,285,286,287,288,289,290,291,292,293,294,295,296,297,298,299,300,301,302,303,304,305,306,307,308,309,310,311,312,313,314,315,316,317,318,319,320,321,322,323,324,325,326,327,328,329,330,331,332,333,334,335,336,337,338,339,340,341,342,343,344,345,346,347,348,349,350,351,352,353,354,355,356,357,358,359,360,361,362,363,364,365,366,367,368,369,370,371,372,373,374,375,376,377,378,379,380,381,382,383,384,385,386,387,388,389,390,391,392,393,394,395,396,397,398,399,400,401,402,403,404,405,406,407,408,409,410,411,412,413,414,415,416,417,418,419,420,421,422,423,424,425],\"xaxis\":\"x\",\"y\":[-0.8350366142642504,-0.8231531315688521,-0.8217610956364648,-0.6915274435393047,-0.6634941882172103,-0.5972648729559971,-0.5271351966923835,-0.5044814686830994,-0.47407661849110083,-0.4490563511732777,-0.43078596022376514,-0.4099407096214112,-0.4085303161823867,-0.4045382921760868,-0.4012630889174884,-0.3974082085214874,-0.38948220767850317,-0.3704398045478235,-0.3474036464729216,-0.3463886893148471,-0.3407787480345312,-0.3334912391258537,-0.31337981944937077,-0.3089175910515268,-0.29701093257160227,-0.29421819221860557,-0.27605152965505475,-0.26892916527447613,-0.26467477217235946,-0.26413440183444975,-0.25968433300148636,-0.2544700390641471,-0.24762367285994302,-0.22995216409098318,-0.22793020319777965,-0.22375154019781526,-0.22288014895654232,-0.21628755444348308,-0.2151934881731648,-0.21452861415662555,-0.2092349499390266,-0.20679496353735813,-0.20575761819450497,-0.20531351546533158,-0.20357003423088194,-0.20340289589933605,-0.20093370024320265,-0.19636578650483577,-0.19087693087944899,-0.18567849961858776,-0.18315703199123684,-0.18201967387455403,-0.17960930261974692,-0.17633748594886,-0.1759283613914627,-0.17551719836297194,-0.17367959483853523,-0.17319269643902463,-0.16461385343908738,-0.15841192776361324,-0.1582520342477601,-0.1514836935494133,-0.1493021710607235,-0.14744244635245882,-0.14237602937267024,-0.1412487105963344,-0.14080385534123382,-0.13180543833100497,-0.12976196082256902,-0.12784297022320879,-0.12713087170567292,-0.12203101811243347,-0.1132842247068423,-0.10956899444858935,-0.10771704892059912,-0.10592828301105676,-0.09933999907577791,-0.09824876296527678,-0.09338271066204454,-0.08550339925350507,-0.0840381234657969,-0.08324285974324584,-0.08269688738830464,-0.07934745243033792,-0.07657626750178737,-0.07430431005026236,-0.07252242834536726,-0.07128060886332863,-0.0712695890456236,-0.07125033926882161,-0.06897956371641094,-0.06635720367724672,-0.06558461991829907,-0.06390915037450258,-0.059617956046965216,-0.059362469892141355,-0.05578865836739958,-0.05456384689265107,-0.04358822426486607,-0.04301491394012386,-0.036824788669398506,-0.030650228819893044,-0.030472006364753064,-0.029110732287366384,-0.027452466383089943,-0.023526157475591728,-0.01687866616662835,-0.016511290054872275,-0.010848122300955866,-0.00892162733298163,-7.068707467143547e-05,0.0,0.0,0.0,0.0,0.0,0.0,0.0,0.0,0.0,0.0,0.0,0.0,0.0,0.0,0.0,0.0,0.0,0.0,0.0,0.0,0.0,0.0,0.0,0.0,0.0,0.0,0.0,0.0,0.0,0.0,0.0,0.0,0.0,0.0,0.0,0.0,0.0,0.0,0.0,0.0,0.0,0.0,0.0,0.0,0.0,0.0,0.0,0.0,0.0,0.0,0.0,0.0,0.0,0.0,0.0,0.0,0.0,0.0,0.0,0.0,0.0,0.0,0.0,0.0,0.0,0.0,0.0,0.0,0.0,0.0,0.0,0.0,0.0,0.0,0.0,0.0,0.0,0.0,0.0,0.0,0.0,0.0,0.0,0.0,0.0,0.0,0.0,0.0,0.0,0.0,0.0,0.0,0.0,9.944274973878326e-05,0.0034109401043916085,0.004415676884518038,0.00735196252209032,0.009419507223522252,0.01034233514823749,0.013046026619203862,0.018639062012206404,0.018673063381114203,0.020777455288835782,0.02099746035857053,0.022592909852286295,0.022636792638400047,0.02410012540227665,0.025238272065090675,0.028258966803959607,0.030766554357783575,0.03223098744746543,0.03270043168364363,0.03566715322527962,0.041520647768235844,0.0427138502302258,0.045412655119917544,0.04688101383736434,0.04829102176074219,0.050498843017655046,0.054082428373862276,0.05410521574774304,0.05785536948116359,0.057924798522280996,0.061204194750928434,0.06153569036220362,0.06507587991142541,0.06639310930618267,0.06703286611082789,0.0719276110825676,0.07947845163110233,0.07994134808945047,0.08194551100984315,0.08208882524326885,0.08335791612035985,0.08547363209102053,0.08734022197270906,0.09285529765029109,0.09532373779318591,0.09629615484642842,0.09665600437951624,0.09819102597367933,0.10308249879533618,0.1088156713907517,0.11163757719337207,0.11203599307542124,0.11350202249013945,0.11534325297870218,0.11804487599718531,0.1190486651512537,0.11937825480098264,0.12079567762299555,0.12722291468986163,0.12922828414818485,0.1294134989465236,0.1296007236812107,0.13131709687392767,0.13354342356781376,0.13422213559230028,0.1350586367705707,0.13671196016126147,0.13857482327891074,0.13930752777268474,0.13937499332464867,0.13954906283193827,0.14045404777001766,0.14405465998685327,0.14729103372482893,0.14735409456657106,0.14863236064115762,0.14925789851036528,0.1496563449071604,0.1514745397345707,0.15291448792318363,0.1531346461859531,0.15503022864347582,0.15537137011072397,0.1560028142388305,0.15885125342542578,0.1589546369032002,0.16110836963547537,0.16341979130041623,0.16482472554172117,0.16597690770885506,0.1670399816440098,0.16781535283475524,0.16843756503161092,0.1711505198143846,0.17300297456703842,0.17329835639142568,0.17443616854170682,0.17463038244764292,0.1771923202518543,0.17897384466402472,0.1795086341732689,0.1832183221249631,0.1862565978795828,0.18929235476045045,0.19470671104037462,0.19489099985165773,0.1952894825648577,0.1996317257122676,0.20089626514705525,0.20351280450219086,0.20747736056093005,0.20879552862256737,0.21146109989740117,0.21341360596534828,0.2166447033494618,0.2172454283967482,0.22188052978534767,0.2220534912750679,0.22421604905639717,0.22752073615681398,0.22862197461232414,0.23094373800238743,0.2315267821154192,0.23245843743500821,0.23283552685751877,0.23484504923976707,0.23891402627467312,0.2428268231606983,0.2461574181726927,0.2503943017995578,0.2523259181586084,0.25330989202526494,0.2644759245702732,0.2645901858388619,0.2672972982609701,0.2692086959350224,0.26957321142631036,0.2696629186935415,0.27209503028059595,0.2725652932568515,0.2745796636903485,0.2776085607295009,0.2787894487385112,0.280146624388174,0.2830830931882654,0.2854294923271742,0.2856822116275537,0.289992356394407,0.290970310619974,0.2943157073731822,0.29804011905363925,0.3001924665651268,0.3019310731263141,0.30672329893635963,0.3087115313494334,0.30998097856312795,0.31319831562451483,0.3145028555833333,0.3166817134163197,0.3167001896182688,0.31692433216982313,0.32920939242697,0.3409860286116219,0.3411990650952998,0.34421016023633266,0.3533060107530245,0.3533731635024949,0.35990326210768997,0.3607155979398408,0.3685079832878609,0.37240870678271043,0.37391874353370075,0.37512086388521965,0.3779192693367694,0.3821394861063525,0.38427519985275366,0.3892651460375784,0.3894917768407293,0.3909761955015718,0.399431860954667,0.40137270014926923,0.4048947075783601,0.4074046784119455,0.41518096460097975,0.41786187528923446,0.41885446214288,0.41938584400402545,0.43481553090734215,0.4359207474025837,0.4409772437474716,0.4684989899878184,0.4747221250109923,0.47800593989122697,0.480206650571211,0.4842900119338104,0.48519818796720404,0.512671366033801,0.5269608746445478,0.5389601700152477,0.5700808109469069,0.5746148001197215,0.6195625573216822,0.6227632233696478,0.6268912735313248,0.6672744624359996,0.6978123669914805,0.7142965051251979,0.8165948007034904,0.8625612439908021,0.915455516137592,0.9183474694268641,0.9280608515042523,0.9545915204831864,0.9936888980151195,1.1849066069535685,1.22331219241666,1.277843242516186,1.3185774318896444,1.3758311660517615,1.411298671732275,1.49126560593806,1.6741052348610115],\"yaxis\":\"y\"}],                        {\"barmode\":\"relative\",\"legend\":{\"title\":{\"text\":\"variable\"},\"tracegroupgap\":0},\"margin\":{\"t\":60},\"template\":{\"data\":{\"bar\":[{\"error_x\":{\"color\":\"#2a3f5f\"},\"error_y\":{\"color\":\"#2a3f5f\"},\"marker\":{\"line\":{\"color\":\"#E5ECF6\",\"width\":0.5},\"pattern\":{\"fillmode\":\"overlay\",\"size\":10,\"solidity\":0.2}},\"type\":\"bar\"}],\"barpolar\":[{\"marker\":{\"line\":{\"color\":\"#E5ECF6\",\"width\":0.5},\"pattern\":{\"fillmode\":\"overlay\",\"size\":10,\"solidity\":0.2}},\"type\":\"barpolar\"}],\"carpet\":[{\"aaxis\":{\"endlinecolor\":\"#2a3f5f\",\"gridcolor\":\"white\",\"linecolor\":\"white\",\"minorgridcolor\":\"white\",\"startlinecolor\":\"#2a3f5f\"},\"baxis\":{\"endlinecolor\":\"#2a3f5f\",\"gridcolor\":\"white\",\"linecolor\":\"white\",\"minorgridcolor\":\"white\",\"startlinecolor\":\"#2a3f5f\"},\"type\":\"carpet\"}],\"choropleth\":[{\"colorbar\":{\"outlinewidth\":0,\"ticks\":\"\"},\"type\":\"choropleth\"}],\"contour\":[{\"colorbar\":{\"outlinewidth\":0,\"ticks\":\"\"},\"colorscale\":[[0.0,\"#0d0887\"],[0.1111111111111111,\"#46039f\"],[0.2222222222222222,\"#7201a8\"],[0.3333333333333333,\"#9c179e\"],[0.4444444444444444,\"#bd3786\"],[0.5555555555555556,\"#d8576b\"],[0.6666666666666666,\"#ed7953\"],[0.7777777777777778,\"#fb9f3a\"],[0.8888888888888888,\"#fdca26\"],[1.0,\"#f0f921\"]],\"type\":\"contour\"}],\"contourcarpet\":[{\"colorbar\":{\"outlinewidth\":0,\"ticks\":\"\"},\"type\":\"contourcarpet\"}],\"heatmap\":[{\"colorbar\":{\"outlinewidth\":0,\"ticks\":\"\"},\"colorscale\":[[0.0,\"#0d0887\"],[0.1111111111111111,\"#46039f\"],[0.2222222222222222,\"#7201a8\"],[0.3333333333333333,\"#9c179e\"],[0.4444444444444444,\"#bd3786\"],[0.5555555555555556,\"#d8576b\"],[0.6666666666666666,\"#ed7953\"],[0.7777777777777778,\"#fb9f3a\"],[0.8888888888888888,\"#fdca26\"],[1.0,\"#f0f921\"]],\"type\":\"heatmap\"}],\"heatmapgl\":[{\"colorbar\":{\"outlinewidth\":0,\"ticks\":\"\"},\"colorscale\":[[0.0,\"#0d0887\"],[0.1111111111111111,\"#46039f\"],[0.2222222222222222,\"#7201a8\"],[0.3333333333333333,\"#9c179e\"],[0.4444444444444444,\"#bd3786\"],[0.5555555555555556,\"#d8576b\"],[0.6666666666666666,\"#ed7953\"],[0.7777777777777778,\"#fb9f3a\"],[0.8888888888888888,\"#fdca26\"],[1.0,\"#f0f921\"]],\"type\":\"heatmapgl\"}],\"histogram\":[{\"marker\":{\"pattern\":{\"fillmode\":\"overlay\",\"size\":10,\"solidity\":0.2}},\"type\":\"histogram\"}],\"histogram2d\":[{\"colorbar\":{\"outlinewidth\":0,\"ticks\":\"\"},\"colorscale\":[[0.0,\"#0d0887\"],[0.1111111111111111,\"#46039f\"],[0.2222222222222222,\"#7201a8\"],[0.3333333333333333,\"#9c179e\"],[0.4444444444444444,\"#bd3786\"],[0.5555555555555556,\"#d8576b\"],[0.6666666666666666,\"#ed7953\"],[0.7777777777777778,\"#fb9f3a\"],[0.8888888888888888,\"#fdca26\"],[1.0,\"#f0f921\"]],\"type\":\"histogram2d\"}],\"histogram2dcontour\":[{\"colorbar\":{\"outlinewidth\":0,\"ticks\":\"\"},\"colorscale\":[[0.0,\"#0d0887\"],[0.1111111111111111,\"#46039f\"],[0.2222222222222222,\"#7201a8\"],[0.3333333333333333,\"#9c179e\"],[0.4444444444444444,\"#bd3786\"],[0.5555555555555556,\"#d8576b\"],[0.6666666666666666,\"#ed7953\"],[0.7777777777777778,\"#fb9f3a\"],[0.8888888888888888,\"#fdca26\"],[1.0,\"#f0f921\"]],\"type\":\"histogram2dcontour\"}],\"mesh3d\":[{\"colorbar\":{\"outlinewidth\":0,\"ticks\":\"\"},\"type\":\"mesh3d\"}],\"parcoords\":[{\"line\":{\"colorbar\":{\"outlinewidth\":0,\"ticks\":\"\"}},\"type\":\"parcoords\"}],\"pie\":[{\"automargin\":true,\"type\":\"pie\"}],\"scatter\":[{\"marker\":{\"colorbar\":{\"outlinewidth\":0,\"ticks\":\"\"}},\"type\":\"scatter\"}],\"scatter3d\":[{\"line\":{\"colorbar\":{\"outlinewidth\":0,\"ticks\":\"\"}},\"marker\":{\"colorbar\":{\"outlinewidth\":0,\"ticks\":\"\"}},\"type\":\"scatter3d\"}],\"scattercarpet\":[{\"marker\":{\"colorbar\":{\"outlinewidth\":0,\"ticks\":\"\"}},\"type\":\"scattercarpet\"}],\"scattergeo\":[{\"marker\":{\"colorbar\":{\"outlinewidth\":0,\"ticks\":\"\"}},\"type\":\"scattergeo\"}],\"scattergl\":[{\"marker\":{\"colorbar\":{\"outlinewidth\":0,\"ticks\":\"\"}},\"type\":\"scattergl\"}],\"scattermapbox\":[{\"marker\":{\"colorbar\":{\"outlinewidth\":0,\"ticks\":\"\"}},\"type\":\"scattermapbox\"}],\"scatterpolar\":[{\"marker\":{\"colorbar\":{\"outlinewidth\":0,\"ticks\":\"\"}},\"type\":\"scatterpolar\"}],\"scatterpolargl\":[{\"marker\":{\"colorbar\":{\"outlinewidth\":0,\"ticks\":\"\"}},\"type\":\"scatterpolargl\"}],\"scatterternary\":[{\"marker\":{\"colorbar\":{\"outlinewidth\":0,\"ticks\":\"\"}},\"type\":\"scatterternary\"}],\"surface\":[{\"colorbar\":{\"outlinewidth\":0,\"ticks\":\"\"},\"colorscale\":[[0.0,\"#0d0887\"],[0.1111111111111111,\"#46039f\"],[0.2222222222222222,\"#7201a8\"],[0.3333333333333333,\"#9c179e\"],[0.4444444444444444,\"#bd3786\"],[0.5555555555555556,\"#d8576b\"],[0.6666666666666666,\"#ed7953\"],[0.7777777777777778,\"#fb9f3a\"],[0.8888888888888888,\"#fdca26\"],[1.0,\"#f0f921\"]],\"type\":\"surface\"}],\"table\":[{\"cells\":{\"fill\":{\"color\":\"#EBF0F8\"},\"line\":{\"color\":\"white\"}},\"header\":{\"fill\":{\"color\":\"#C8D4E3\"},\"line\":{\"color\":\"white\"}},\"type\":\"table\"}]},\"layout\":{\"annotationdefaults\":{\"arrowcolor\":\"#2a3f5f\",\"arrowhead\":0,\"arrowwidth\":1},\"autotypenumbers\":\"strict\",\"coloraxis\":{\"colorbar\":{\"outlinewidth\":0,\"ticks\":\"\"}},\"colorscale\":{\"diverging\":[[0,\"#8e0152\"],[0.1,\"#c51b7d\"],[0.2,\"#de77ae\"],[0.3,\"#f1b6da\"],[0.4,\"#fde0ef\"],[0.5,\"#f7f7f7\"],[0.6,\"#e6f5d0\"],[0.7,\"#b8e186\"],[0.8,\"#7fbc41\"],[0.9,\"#4d9221\"],[1,\"#276419\"]],\"sequential\":[[0.0,\"#0d0887\"],[0.1111111111111111,\"#46039f\"],[0.2222222222222222,\"#7201a8\"],[0.3333333333333333,\"#9c179e\"],[0.4444444444444444,\"#bd3786\"],[0.5555555555555556,\"#d8576b\"],[0.6666666666666666,\"#ed7953\"],[0.7777777777777778,\"#fb9f3a\"],[0.8888888888888888,\"#fdca26\"],[1.0,\"#f0f921\"]],\"sequentialminus\":[[0.0,\"#0d0887\"],[0.1111111111111111,\"#46039f\"],[0.2222222222222222,\"#7201a8\"],[0.3333333333333333,\"#9c179e\"],[0.4444444444444444,\"#bd3786\"],[0.5555555555555556,\"#d8576b\"],[0.6666666666666666,\"#ed7953\"],[0.7777777777777778,\"#fb9f3a\"],[0.8888888888888888,\"#fdca26\"],[1.0,\"#f0f921\"]]},\"colorway\":[\"#636efa\",\"#EF553B\",\"#00cc96\",\"#ab63fa\",\"#FFA15A\",\"#19d3f3\",\"#FF6692\",\"#B6E880\",\"#FF97FF\",\"#FECB52\"],\"font\":{\"color\":\"#2a3f5f\"},\"geo\":{\"bgcolor\":\"white\",\"lakecolor\":\"white\",\"landcolor\":\"#E5ECF6\",\"showlakes\":true,\"showland\":true,\"subunitcolor\":\"white\"},\"hoverlabel\":{\"align\":\"left\"},\"hovermode\":\"closest\",\"mapbox\":{\"style\":\"light\"},\"paper_bgcolor\":\"white\",\"plot_bgcolor\":\"#E5ECF6\",\"polar\":{\"angularaxis\":{\"gridcolor\":\"white\",\"linecolor\":\"white\",\"ticks\":\"\"},\"bgcolor\":\"#E5ECF6\",\"radialaxis\":{\"gridcolor\":\"white\",\"linecolor\":\"white\",\"ticks\":\"\"}},\"scene\":{\"xaxis\":{\"backgroundcolor\":\"#E5ECF6\",\"gridcolor\":\"white\",\"gridwidth\":2,\"linecolor\":\"white\",\"showbackground\":true,\"ticks\":\"\",\"zerolinecolor\":\"white\"},\"yaxis\":{\"backgroundcolor\":\"#E5ECF6\",\"gridcolor\":\"white\",\"gridwidth\":2,\"linecolor\":\"white\",\"showbackground\":true,\"ticks\":\"\",\"zerolinecolor\":\"white\"},\"zaxis\":{\"backgroundcolor\":\"#E5ECF6\",\"gridcolor\":\"white\",\"gridwidth\":2,\"linecolor\":\"white\",\"showbackground\":true,\"ticks\":\"\",\"zerolinecolor\":\"white\"}},\"shapedefaults\":{\"line\":{\"color\":\"#2a3f5f\"}},\"ternary\":{\"aaxis\":{\"gridcolor\":\"white\",\"linecolor\":\"white\",\"ticks\":\"\"},\"baxis\":{\"gridcolor\":\"white\",\"linecolor\":\"white\",\"ticks\":\"\"},\"bgcolor\":\"#E5ECF6\",\"caxis\":{\"gridcolor\":\"white\",\"linecolor\":\"white\",\"ticks\":\"\"}},\"title\":{\"x\":0.05},\"xaxis\":{\"automargin\":true,\"gridcolor\":\"white\",\"linecolor\":\"white\",\"ticks\":\"\",\"title\":{\"standoff\":15},\"zerolinecolor\":\"white\",\"zerolinewidth\":2},\"yaxis\":{\"automargin\":true,\"gridcolor\":\"white\",\"linecolor\":\"white\",\"ticks\":\"\",\"title\":{\"standoff\":15},\"zerolinecolor\":\"white\",\"zerolinewidth\":2}}},\"xaxis\":{\"anchor\":\"y\",\"domain\":[0.0,1.0],\"title\":{\"text\":\"index\"}},\"yaxis\":{\"anchor\":\"x\",\"domain\":[0.0,1.0],\"title\":{\"text\":\"value\"}}},                        {\"responsive\": true}                    ).then(function(){\n",
       "                            \n",
       "var gd = document.getElementById('134f5d69-05c4-4966-a535-e74ddd2f1d4b');\n",
       "var x = new MutationObserver(function (mutations, observer) {{\n",
       "        var display = window.getComputedStyle(gd).display;\n",
       "        if (!display || display === 'none') {{\n",
       "            console.log([gd, 'removed!']);\n",
       "            Plotly.purge(gd);\n",
       "            observer.disconnect();\n",
       "        }}\n",
       "}});\n",
       "\n",
       "// Listen for the removal of the full notebook cells\n",
       "var notebookContainer = gd.closest('#notebook-container');\n",
       "if (notebookContainer) {{\n",
       "    x.observe(notebookContainer, {childList: true});\n",
       "}}\n",
       "\n",
       "// Listen for the clearing of the current output cell\n",
       "var outputEl = gd.closest('.output');\n",
       "if (outputEl) {{\n",
       "    x.observe(outputEl, {childList: true});\n",
       "}}\n",
       "\n",
       "                        })                };                });            </script>        </div>"
      ]
     },
     "metadata": {},
     "output_type": "display_data"
    }
   ],
   "source": [
    "### Anders\n",
    "px.bar(sorted(pair_Anders_all_sequrities[pair_Anders_all_sequrities < 4]))"
   ]
  },
  {
   "cell_type": "code",
   "execution_count": 793,
   "id": "located-warrant",
   "metadata": {},
   "outputs": [
    {
     "data": {
      "application/vnd.plotly.v1+json": {
       "config": {
        "plotlyServerURL": "https://plot.ly"
       },
       "data": [
        {
         "marker": {
          "color": "#6666ff"
         },
         "type": "bar",
         "y": [
          -0.8450366142642504,
          -0.8331531315688521,
          -0.8317610956364648,
          -0.7015274435393047,
          -0.6734941882172103,
          -0.6072648729559971,
          -0.5371351966923835,
          -0.5144814686830994,
          -0.48407661849110084,
          -0.4590563511732777,
          -0.44078596022376515,
          -0.4199407096214112,
          -0.41853031618238673,
          -0.4145382921760868,
          -0.4112630889174884,
          -0.4074082085214874,
          -0.3994822076785032,
          -0.3804398045478235,
          -0.3574036464729216,
          -0.35638868931484713,
          -0.3507787480345312,
          -0.3434912391258537,
          -0.3233798194493708,
          -0.3189175910515268,
          -0.3070109325716023,
          -0.3042181922186056,
          -0.28605152965505476,
          -0.27892916527447614,
          -0.27467477217235947,
          -0.27413440183444976,
          -0.26968433300148636,
          -0.2644700390641471,
          -0.25762367285994303,
          -0.2399521640909832,
          -0.23793020319777966,
          -0.23375154019781527,
          -0.23288014895654233,
          -0.22628755444348309,
          -0.2251934881731648,
          -0.22452861415662556,
          -0.21923494993902662,
          -0.21679496353735814,
          -0.21575761819450498,
          -0.2153135154653316,
          -0.21357003423088194,
          -0.21340289589933606,
          -0.21093370024320265,
          -0.20636578650483578,
          -0.200876930879449,
          -0.19567849961858777,
          -0.19315703199123685,
          -0.19201967387455404,
          -0.18960930261974693,
          -0.18633748594886002,
          -0.1859283613914627,
          -0.18551719836297195,
          -0.18367959483853524,
          -0.18319269643902464,
          -0.1746138534390874,
          -0.16841192776361325,
          -0.1682520342477601,
          -0.1614836935494133,
          -0.1593021710607235,
          -0.15744244635245883,
          -0.15237602937267025,
          -0.1512487105963344,
          -0.15080385534123383,
          -0.14180543833100498,
          -0.13976196082256903,
          -0.1378429702232088,
          -0.13713087170567292,
          -0.13203101811243348,
          -0.12328422470684229,
          -0.11956899444858934,
          -0.11771704892059912,
          -0.11592828301105676,
          -0.1093399990757779,
          -0.10824876296527677,
          -0.10338271066204453,
          -0.09550339925350507,
          -0.09403812346579689,
          -0.09324285974324584,
          -0.09269688738830463,
          -0.08934745243033791,
          -0.08657626750178736,
          -0.08430431005026236,
          -0.08252242834536726,
          -0.08128060886332862,
          -0.08126958904562359,
          -0.08125033926882161,
          -0.07897956371641093,
          -0.07635720367724672,
          -0.07558461991829907,
          -0.07390915037450257,
          -0.06961795604696522,
          -0.06936246989214136,
          -0.06578865836739958,
          -0.06456384689265107,
          -0.05358822426486607,
          -0.053014913940123864,
          -0.04682478866939851,
          -0.040650228819893046,
          -0.040472006364753066,
          -0.03911073228736638,
          -0.037452466383089945,
          -0.03352615747559173,
          -0.026878666166628352,
          -0.026511290054872273,
          -0.020848122300955868,
          -0.018921627332981632,
          -0.010070687074671436,
          -0.009900557250261217,
          -0.006589059895608392,
          -0.005584323115481962,
          -0.0026480374779096804,
          -0.0005804927764777486,
          0,
          0,
          0,
          0,
          0,
          0,
          0,
          0,
          0,
          0,
          0,
          0,
          0,
          0,
          0,
          0,
          0,
          0,
          0,
          0,
          0,
          0,
          0,
          0,
          0,
          0,
          0,
          0,
          0,
          0,
          0,
          0,
          0,
          0,
          0,
          0,
          0,
          0,
          0,
          0,
          0,
          0,
          0,
          0,
          0,
          0,
          0,
          0,
          0,
          0,
          0,
          0,
          0,
          0,
          0,
          0,
          0,
          0,
          0,
          0,
          0,
          0,
          0,
          0,
          0,
          0,
          0,
          0,
          0,
          0,
          0,
          0,
          0,
          0,
          0,
          0,
          0,
          0,
          0,
          0,
          0,
          0,
          0,
          0,
          0,
          0,
          0,
          0,
          0,
          0,
          0,
          0,
          0,
          0.00034233514823748916,
          0.003046026619203862,
          0.008639062012206404,
          0.008673063381114203,
          0.010777455288835782,
          0.01099746035857053,
          0.012592909852286295,
          0.012636792638400047,
          0.01410012540227665,
          0.015238272065090675,
          0.01825896680395961,
          0.020766554357783573,
          0.022230987447465426,
          0.022700431683643628,
          0.02566715322527962,
          0.03152064776823584,
          0.0327138502302258,
          0.03541265511991754,
          0.036881013837364335,
          0.038291021760742186,
          0.040498843017655044,
          0.044082428373862274,
          0.04410521574774304,
          0.04785536948116359,
          0.047924798522280994,
          0.05120419475092843,
          0.051535690362203616,
          0.05507587991142541,
          0.056393109306182666,
          0.05703286611082788,
          0.06192761108256759,
          0.06947845163110233,
          0.06994134808945048,
          0.07194551100984316,
          0.07208882524326886,
          0.07335791612035986,
          0.07547363209102054,
          0.07734022197270907,
          0.0828552976502911,
          0.08532373779318592,
          0.08629615484642843,
          0.08665600437951625,
          0.08819102597367934,
          0.09308249879533619,
          0.0988156713907517,
          0.10163757719337208,
          0.10203599307542124,
          0.10350202249013946,
          0.10534325297870219,
          0.10804487599718532,
          0.10904866515125371,
          0.10937825480098265,
          0.11079567762299555,
          0.11722291468986164,
          0.11922828414818486,
          0.1194134989465236,
          0.1196007236812107,
          0.12131709687392768,
          0.12354342356781377,
          0.12422213559230029,
          0.1250586367705707,
          0.12671196016126146,
          0.12857482327891073,
          0.12930752777268473,
          0.12937499332464866,
          0.12954906283193826,
          0.13045404777001765,
          0.13405465998685326,
          0.13729103372482893,
          0.13735409456657105,
          0.1386323606411576,
          0.13925789851036527,
          0.1396563449071604,
          0.1414745397345707,
          0.14291448792318362,
          0.1431346461859531,
          0.1450302286434758,
          0.14537137011072396,
          0.1460028142388305,
          0.14885125342542577,
          0.14895463690320018,
          0.15110836963547536,
          0.15341979130041622,
          0.15482472554172116,
          0.15597690770885506,
          0.15703998164400979,
          0.15781535283475523,
          0.1584375650316109,
          0.16115051981438458,
          0.1630029745670384,
          0.16329835639142568,
          0.1644361685417068,
          0.16463038244764291,
          0.1671923202518543,
          0.1689738446640247,
          0.1695086341732689,
          0.1732183221249631,
          0.17625659787958278,
          0.17929235476045044,
          0.18470671104037462,
          0.18489099985165772,
          0.1852894825648577,
          0.18963172571226758,
          0.19089626514705524,
          0.19351280450219085,
          0.19747736056093004,
          0.19879552862256736,
          0.20146109989740116,
          0.20341360596534827,
          0.20664470334946178,
          0.2072454283967482,
          0.21188052978534766,
          0.2120534912750679,
          0.21421604905639716,
          0.21752073615681397,
          0.21862197461232413,
          0.22094373800238742,
          0.22152678211541918,
          0.2224584374350082,
          0.22283552685751876,
          0.22484504923976706,
          0.2289140262746731,
          0.2328268231606983,
          0.2361574181726927,
          0.24039430179955779,
          0.24232591815860838,
          0.24330989202526493,
          0.2544759245702732,
          0.2545901858388619,
          0.2572972982609701,
          0.2592086959350224,
          0.25957321142631035,
          0.25966291869354147,
          0.26209503028059594,
          0.2625652932568515,
          0.26457966369034847,
          0.2676085607295009,
          0.2687894487385112,
          0.270146624388174,
          0.2730830931882654,
          0.2754294923271742,
          0.2756822116275537,
          0.279992356394407,
          0.280970310619974,
          0.2843157073731822,
          0.28804011905363924,
          0.2901924665651268,
          0.2919310731263141,
          0.2967232989363596,
          0.2987115313494334,
          0.29998097856312794,
          0.3031983156245148,
          0.3045028555833333,
          0.30668171341631967,
          0.3067001896182688,
          0.3069243321698231,
          0.31920939242697,
          0.3309860286116219,
          0.3311990650952998,
          0.33421016023633265,
          0.34330601075302447,
          0.3433731635024949,
          0.34990326210768996,
          0.3507155979398408,
          0.3585079832878609,
          0.3624087067827104,
          0.36391874353370074,
          0.36512086388521964,
          0.3679192693367694,
          0.3721394861063525,
          0.37427519985275365,
          0.3792651460375784,
          0.37949177684072927,
          0.3809761955015718,
          0.389431860954667,
          0.3913727001492692,
          0.3948947075783601,
          0.3974046784119455,
          0.40518096460097974,
          0.40786187528923445,
          0.40885446214288,
          0.40938584400402545,
          0.42481553090734214,
          0.4259207474025837,
          0.4309772437474716,
          0.4584989899878184,
          0.4647221250109923,
          0.46800593989122696,
          0.47020665057121097,
          0.4742900119338104,
          0.47519818796720403,
          0.502671366033801,
          0.5169608746445478,
          0.5289601700152476,
          0.5600808109469069,
          0.5646148001197215,
          0.6095625573216822,
          0.6127632233696478,
          0.6168912735313248,
          0.6572744624359996,
          0.6878123669914805,
          0.7042965051251979,
          0.8065948007034904,
          0.8525612439908021,
          0.905455516137592,
          0.9083474694268641,
          0.9180608515042523,
          0.9445915204831864,
          0.9836888980151195,
          1.1749066069535685,
          1.2133121924166599,
          1.267843242516186,
          1.3085774318896444,
          1.3658311660517615,
          1.401298671732275,
          1.48126560593806,
          1.6641052348610115
         ]
        }
       ],
       "layout": {
        "annotations": [
         {
          "font": {
           "color": "#404040",
           "size": 18
          },
          "showarrow": false,
          "text": "Positive returns",
          "x": 210,
          "xanchor": "left",
          "xref": "x",
          "y": 1,
          "yanchor": "top",
          "yref": "y domain"
         },
         {
          "font": {
           "color": "#404040",
           "size": 18
          },
          "showarrow": false,
          "text": "Negative returns",
          "x": 0,
          "xanchor": "left",
          "xref": "x",
          "y": 1,
          "yanchor": "top",
          "yref": "y domain"
         }
        ],
        "height": 600,
        "plot_bgcolor": "white",
        "shapes": [
         {
          "fillcolor": "#6666ff",
          "line": {
           "width": 0
          },
          "opacity": 0.12,
          "type": "rect",
          "x0": 210,
          "x1": 426,
          "xref": "x",
          "y0": 0,
          "y1": 1,
          "yref": "y domain"
         },
         {
          "fillcolor": "#ff6666",
          "line": {
           "width": 0
          },
          "opacity": 0.12,
          "type": "rect",
          "x0": 0,
          "x1": 115,
          "xref": "x",
          "y0": 0,
          "y1": 1,
          "yref": "y domain"
         }
        ],
        "showlegend": false,
        "template": {
         "data": {
          "bar": [
           {
            "error_x": {
             "color": "#2a3f5f"
            },
            "error_y": {
             "color": "#2a3f5f"
            },
            "marker": {
             "line": {
              "color": "#E5ECF6",
              "width": 0.5
             },
             "pattern": {
              "fillmode": "overlay",
              "size": 10,
              "solidity": 0.2
             }
            },
            "type": "bar"
           }
          ],
          "barpolar": [
           {
            "marker": {
             "line": {
              "color": "#E5ECF6",
              "width": 0.5
             },
             "pattern": {
              "fillmode": "overlay",
              "size": 10,
              "solidity": 0.2
             }
            },
            "type": "barpolar"
           }
          ],
          "carpet": [
           {
            "aaxis": {
             "endlinecolor": "#2a3f5f",
             "gridcolor": "white",
             "linecolor": "white",
             "minorgridcolor": "white",
             "startlinecolor": "#2a3f5f"
            },
            "baxis": {
             "endlinecolor": "#2a3f5f",
             "gridcolor": "white",
             "linecolor": "white",
             "minorgridcolor": "white",
             "startlinecolor": "#2a3f5f"
            },
            "type": "carpet"
           }
          ],
          "choropleth": [
           {
            "colorbar": {
             "outlinewidth": 0,
             "ticks": ""
            },
            "type": "choropleth"
           }
          ],
          "contour": [
           {
            "colorbar": {
             "outlinewidth": 0,
             "ticks": ""
            },
            "colorscale": [
             [
              0,
              "#0d0887"
             ],
             [
              0.1111111111111111,
              "#46039f"
             ],
             [
              0.2222222222222222,
              "#7201a8"
             ],
             [
              0.3333333333333333,
              "#9c179e"
             ],
             [
              0.4444444444444444,
              "#bd3786"
             ],
             [
              0.5555555555555556,
              "#d8576b"
             ],
             [
              0.6666666666666666,
              "#ed7953"
             ],
             [
              0.7777777777777778,
              "#fb9f3a"
             ],
             [
              0.8888888888888888,
              "#fdca26"
             ],
             [
              1,
              "#f0f921"
             ]
            ],
            "type": "contour"
           }
          ],
          "contourcarpet": [
           {
            "colorbar": {
             "outlinewidth": 0,
             "ticks": ""
            },
            "type": "contourcarpet"
           }
          ],
          "heatmap": [
           {
            "colorbar": {
             "outlinewidth": 0,
             "ticks": ""
            },
            "colorscale": [
             [
              0,
              "#0d0887"
             ],
             [
              0.1111111111111111,
              "#46039f"
             ],
             [
              0.2222222222222222,
              "#7201a8"
             ],
             [
              0.3333333333333333,
              "#9c179e"
             ],
             [
              0.4444444444444444,
              "#bd3786"
             ],
             [
              0.5555555555555556,
              "#d8576b"
             ],
             [
              0.6666666666666666,
              "#ed7953"
             ],
             [
              0.7777777777777778,
              "#fb9f3a"
             ],
             [
              0.8888888888888888,
              "#fdca26"
             ],
             [
              1,
              "#f0f921"
             ]
            ],
            "type": "heatmap"
           }
          ],
          "heatmapgl": [
           {
            "colorbar": {
             "outlinewidth": 0,
             "ticks": ""
            },
            "colorscale": [
             [
              0,
              "#0d0887"
             ],
             [
              0.1111111111111111,
              "#46039f"
             ],
             [
              0.2222222222222222,
              "#7201a8"
             ],
             [
              0.3333333333333333,
              "#9c179e"
             ],
             [
              0.4444444444444444,
              "#bd3786"
             ],
             [
              0.5555555555555556,
              "#d8576b"
             ],
             [
              0.6666666666666666,
              "#ed7953"
             ],
             [
              0.7777777777777778,
              "#fb9f3a"
             ],
             [
              0.8888888888888888,
              "#fdca26"
             ],
             [
              1,
              "#f0f921"
             ]
            ],
            "type": "heatmapgl"
           }
          ],
          "histogram": [
           {
            "marker": {
             "pattern": {
              "fillmode": "overlay",
              "size": 10,
              "solidity": 0.2
             }
            },
            "type": "histogram"
           }
          ],
          "histogram2d": [
           {
            "colorbar": {
             "outlinewidth": 0,
             "ticks": ""
            },
            "colorscale": [
             [
              0,
              "#0d0887"
             ],
             [
              0.1111111111111111,
              "#46039f"
             ],
             [
              0.2222222222222222,
              "#7201a8"
             ],
             [
              0.3333333333333333,
              "#9c179e"
             ],
             [
              0.4444444444444444,
              "#bd3786"
             ],
             [
              0.5555555555555556,
              "#d8576b"
             ],
             [
              0.6666666666666666,
              "#ed7953"
             ],
             [
              0.7777777777777778,
              "#fb9f3a"
             ],
             [
              0.8888888888888888,
              "#fdca26"
             ],
             [
              1,
              "#f0f921"
             ]
            ],
            "type": "histogram2d"
           }
          ],
          "histogram2dcontour": [
           {
            "colorbar": {
             "outlinewidth": 0,
             "ticks": ""
            },
            "colorscale": [
             [
              0,
              "#0d0887"
             ],
             [
              0.1111111111111111,
              "#46039f"
             ],
             [
              0.2222222222222222,
              "#7201a8"
             ],
             [
              0.3333333333333333,
              "#9c179e"
             ],
             [
              0.4444444444444444,
              "#bd3786"
             ],
             [
              0.5555555555555556,
              "#d8576b"
             ],
             [
              0.6666666666666666,
              "#ed7953"
             ],
             [
              0.7777777777777778,
              "#fb9f3a"
             ],
             [
              0.8888888888888888,
              "#fdca26"
             ],
             [
              1,
              "#f0f921"
             ]
            ],
            "type": "histogram2dcontour"
           }
          ],
          "mesh3d": [
           {
            "colorbar": {
             "outlinewidth": 0,
             "ticks": ""
            },
            "type": "mesh3d"
           }
          ],
          "parcoords": [
           {
            "line": {
             "colorbar": {
              "outlinewidth": 0,
              "ticks": ""
             }
            },
            "type": "parcoords"
           }
          ],
          "pie": [
           {
            "automargin": true,
            "type": "pie"
           }
          ],
          "scatter": [
           {
            "marker": {
             "colorbar": {
              "outlinewidth": 0,
              "ticks": ""
             }
            },
            "type": "scatter"
           }
          ],
          "scatter3d": [
           {
            "line": {
             "colorbar": {
              "outlinewidth": 0,
              "ticks": ""
             }
            },
            "marker": {
             "colorbar": {
              "outlinewidth": 0,
              "ticks": ""
             }
            },
            "type": "scatter3d"
           }
          ],
          "scattercarpet": [
           {
            "marker": {
             "colorbar": {
              "outlinewidth": 0,
              "ticks": ""
             }
            },
            "type": "scattercarpet"
           }
          ],
          "scattergeo": [
           {
            "marker": {
             "colorbar": {
              "outlinewidth": 0,
              "ticks": ""
             }
            },
            "type": "scattergeo"
           }
          ],
          "scattergl": [
           {
            "marker": {
             "colorbar": {
              "outlinewidth": 0,
              "ticks": ""
             }
            },
            "type": "scattergl"
           }
          ],
          "scattermapbox": [
           {
            "marker": {
             "colorbar": {
              "outlinewidth": 0,
              "ticks": ""
             }
            },
            "type": "scattermapbox"
           }
          ],
          "scatterpolar": [
           {
            "marker": {
             "colorbar": {
              "outlinewidth": 0,
              "ticks": ""
             }
            },
            "type": "scatterpolar"
           }
          ],
          "scatterpolargl": [
           {
            "marker": {
             "colorbar": {
              "outlinewidth": 0,
              "ticks": ""
             }
            },
            "type": "scatterpolargl"
           }
          ],
          "scatterternary": [
           {
            "marker": {
             "colorbar": {
              "outlinewidth": 0,
              "ticks": ""
             }
            },
            "type": "scatterternary"
           }
          ],
          "surface": [
           {
            "colorbar": {
             "outlinewidth": 0,
             "ticks": ""
            },
            "colorscale": [
             [
              0,
              "#0d0887"
             ],
             [
              0.1111111111111111,
              "#46039f"
             ],
             [
              0.2222222222222222,
              "#7201a8"
             ],
             [
              0.3333333333333333,
              "#9c179e"
             ],
             [
              0.4444444444444444,
              "#bd3786"
             ],
             [
              0.5555555555555556,
              "#d8576b"
             ],
             [
              0.6666666666666666,
              "#ed7953"
             ],
             [
              0.7777777777777778,
              "#fb9f3a"
             ],
             [
              0.8888888888888888,
              "#fdca26"
             ],
             [
              1,
              "#f0f921"
             ]
            ],
            "type": "surface"
           }
          ],
          "table": [
           {
            "cells": {
             "fill": {
              "color": "#EBF0F8"
             },
             "line": {
              "color": "white"
             }
            },
            "header": {
             "fill": {
              "color": "#C8D4E3"
             },
             "line": {
              "color": "white"
             }
            },
            "type": "table"
           }
          ]
         },
         "layout": {
          "annotationdefaults": {
           "arrowcolor": "#2a3f5f",
           "arrowhead": 0,
           "arrowwidth": 1
          },
          "autotypenumbers": "strict",
          "coloraxis": {
           "colorbar": {
            "outlinewidth": 0,
            "ticks": ""
           }
          },
          "colorscale": {
           "diverging": [
            [
             0,
             "#8e0152"
            ],
            [
             0.1,
             "#c51b7d"
            ],
            [
             0.2,
             "#de77ae"
            ],
            [
             0.3,
             "#f1b6da"
            ],
            [
             0.4,
             "#fde0ef"
            ],
            [
             0.5,
             "#f7f7f7"
            ],
            [
             0.6,
             "#e6f5d0"
            ],
            [
             0.7,
             "#b8e186"
            ],
            [
             0.8,
             "#7fbc41"
            ],
            [
             0.9,
             "#4d9221"
            ],
            [
             1,
             "#276419"
            ]
           ],
           "sequential": [
            [
             0,
             "#0d0887"
            ],
            [
             0.1111111111111111,
             "#46039f"
            ],
            [
             0.2222222222222222,
             "#7201a8"
            ],
            [
             0.3333333333333333,
             "#9c179e"
            ],
            [
             0.4444444444444444,
             "#bd3786"
            ],
            [
             0.5555555555555556,
             "#d8576b"
            ],
            [
             0.6666666666666666,
             "#ed7953"
            ],
            [
             0.7777777777777778,
             "#fb9f3a"
            ],
            [
             0.8888888888888888,
             "#fdca26"
            ],
            [
             1,
             "#f0f921"
            ]
           ],
           "sequentialminus": [
            [
             0,
             "#0d0887"
            ],
            [
             0.1111111111111111,
             "#46039f"
            ],
            [
             0.2222222222222222,
             "#7201a8"
            ],
            [
             0.3333333333333333,
             "#9c179e"
            ],
            [
             0.4444444444444444,
             "#bd3786"
            ],
            [
             0.5555555555555556,
             "#d8576b"
            ],
            [
             0.6666666666666666,
             "#ed7953"
            ],
            [
             0.7777777777777778,
             "#fb9f3a"
            ],
            [
             0.8888888888888888,
             "#fdca26"
            ],
            [
             1,
             "#f0f921"
            ]
           ]
          },
          "colorway": [
           "#636efa",
           "#EF553B",
           "#00cc96",
           "#ab63fa",
           "#FFA15A",
           "#19d3f3",
           "#FF6692",
           "#B6E880",
           "#FF97FF",
           "#FECB52"
          ],
          "font": {
           "color": "#2a3f5f"
          },
          "geo": {
           "bgcolor": "white",
           "lakecolor": "white",
           "landcolor": "#E5ECF6",
           "showlakes": true,
           "showland": true,
           "subunitcolor": "white"
          },
          "hoverlabel": {
           "align": "left"
          },
          "hovermode": "closest",
          "mapbox": {
           "style": "light"
          },
          "paper_bgcolor": "white",
          "plot_bgcolor": "#E5ECF6",
          "polar": {
           "angularaxis": {
            "gridcolor": "white",
            "linecolor": "white",
            "ticks": ""
           },
           "bgcolor": "#E5ECF6",
           "radialaxis": {
            "gridcolor": "white",
            "linecolor": "white",
            "ticks": ""
           }
          },
          "scene": {
           "xaxis": {
            "backgroundcolor": "#E5ECF6",
            "gridcolor": "white",
            "gridwidth": 2,
            "linecolor": "white",
            "showbackground": true,
            "ticks": "",
            "zerolinecolor": "white"
           },
           "yaxis": {
            "backgroundcolor": "#E5ECF6",
            "gridcolor": "white",
            "gridwidth": 2,
            "linecolor": "white",
            "showbackground": true,
            "ticks": "",
            "zerolinecolor": "white"
           },
           "zaxis": {
            "backgroundcolor": "#E5ECF6",
            "gridcolor": "white",
            "gridwidth": 2,
            "linecolor": "white",
            "showbackground": true,
            "ticks": "",
            "zerolinecolor": "white"
           }
          },
          "shapedefaults": {
           "line": {
            "color": "#2a3f5f"
           }
          },
          "ternary": {
           "aaxis": {
            "gridcolor": "white",
            "linecolor": "white",
            "ticks": ""
           },
           "baxis": {
            "gridcolor": "white",
            "linecolor": "white",
            "ticks": ""
           },
           "bgcolor": "#E5ECF6",
           "caxis": {
            "gridcolor": "white",
            "linecolor": "white",
            "ticks": ""
           }
          },
          "title": {
           "x": 0.05
          },
          "xaxis": {
           "automargin": true,
           "gridcolor": "white",
           "linecolor": "white",
           "ticks": "",
           "title": {
            "standoff": 15
           },
           "zerolinecolor": "white",
           "zerolinewidth": 2
          },
          "yaxis": {
           "automargin": true,
           "gridcolor": "white",
           "linecolor": "white",
           "ticks": "",
           "title": {
            "standoff": 15
           },
           "zerolinecolor": "white",
           "zerolinewidth": 2
          }
         }
        },
        "xaxis": {
         "linecolor": "rgb(204, 204, 204)",
         "linewidth": 2,
         "showgrid": true,
         "showline": true,
         "showticklabels": true,
         "tickfont": {
          "color": "rgb(82, 82, 82)",
          "family": "Arial",
          "size": 12
         },
         "ticks": "outside"
        },
        "yaxis": {
         "gridcolor": "rgb(204, 204, 204)",
         "gridwidth": 1,
         "showgrid": false,
         "showline": true,
         "showticklabels": true,
         "zeroline": false
        }
       }
      },
      "text/html": [
       "<div>                            <div id=\"ed2a9d23-94ef-47be-8744-0a1fa717580b\" class=\"plotly-graph-div\" style=\"height:600px; width:100%;\"></div>            <script type=\"text/javascript\">                require([\"plotly\"], function(Plotly) {                    window.PLOTLYENV=window.PLOTLYENV || {};                                    if (document.getElementById(\"ed2a9d23-94ef-47be-8744-0a1fa717580b\")) {                    Plotly.newPlot(                        \"ed2a9d23-94ef-47be-8744-0a1fa717580b\",                        [{\"marker\":{\"color\":\"#6666ff\"},\"type\":\"bar\",\"y\":[-0.8450366142642504,-0.8331531315688521,-0.8317610956364648,-0.7015274435393047,-0.6734941882172103,-0.6072648729559971,-0.5371351966923835,-0.5144814686830994,-0.48407661849110084,-0.4590563511732777,-0.44078596022376515,-0.4199407096214112,-0.41853031618238673,-0.4145382921760868,-0.4112630889174884,-0.4074082085214874,-0.3994822076785032,-0.3804398045478235,-0.3574036464729216,-0.35638868931484713,-0.3507787480345312,-0.3434912391258537,-0.3233798194493708,-0.3189175910515268,-0.3070109325716023,-0.3042181922186056,-0.28605152965505476,-0.27892916527447614,-0.27467477217235947,-0.27413440183444976,-0.26968433300148636,-0.2644700390641471,-0.25762367285994303,-0.2399521640909832,-0.23793020319777966,-0.23375154019781527,-0.23288014895654233,-0.22628755444348309,-0.2251934881731648,-0.22452861415662556,-0.21923494993902662,-0.21679496353735814,-0.21575761819450498,-0.2153135154653316,-0.21357003423088194,-0.21340289589933606,-0.21093370024320265,-0.20636578650483578,-0.200876930879449,-0.19567849961858777,-0.19315703199123685,-0.19201967387455404,-0.18960930261974693,-0.18633748594886002,-0.1859283613914627,-0.18551719836297195,-0.18367959483853524,-0.18319269643902464,-0.1746138534390874,-0.16841192776361325,-0.1682520342477601,-0.1614836935494133,-0.1593021710607235,-0.15744244635245883,-0.15237602937267025,-0.1512487105963344,-0.15080385534123383,-0.14180543833100498,-0.13976196082256903,-0.1378429702232088,-0.13713087170567292,-0.13203101811243348,-0.12328422470684229,-0.11956899444858934,-0.11771704892059912,-0.11592828301105676,-0.1093399990757779,-0.10824876296527677,-0.10338271066204453,-0.09550339925350507,-0.09403812346579689,-0.09324285974324584,-0.09269688738830463,-0.08934745243033791,-0.08657626750178736,-0.08430431005026236,-0.08252242834536726,-0.08128060886332862,-0.08126958904562359,-0.08125033926882161,-0.07897956371641093,-0.07635720367724672,-0.07558461991829907,-0.07390915037450257,-0.06961795604696522,-0.06936246989214136,-0.06578865836739958,-0.06456384689265107,-0.05358822426486607,-0.053014913940123864,-0.04682478866939851,-0.040650228819893046,-0.040472006364753066,-0.03911073228736638,-0.037452466383089945,-0.03352615747559173,-0.026878666166628352,-0.026511290054872273,-0.020848122300955868,-0.018921627332981632,-0.010070687074671436,-0.009900557250261217,-0.006589059895608392,-0.005584323115481962,-0.0026480374779096804,-0.0005804927764777486,0.0,0.0,0.0,0.0,0.0,0.0,0.0,0.0,0.0,0.0,0.0,0.0,0.0,0.0,0.0,0.0,0.0,0.0,0.0,0.0,0.0,0.0,0.0,0.0,0.0,0.0,0.0,0.0,0.0,0.0,0.0,0.0,0.0,0.0,0.0,0.0,0.0,0.0,0.0,0.0,0.0,0.0,0.0,0.0,0.0,0.0,0.0,0.0,0.0,0.0,0.0,0.0,0.0,0.0,0.0,0.0,0.0,0.0,0.0,0.0,0.0,0.0,0.0,0.0,0.0,0.0,0.0,0.0,0.0,0.0,0.0,0.0,0.0,0.0,0.0,0.0,0.0,0.0,0.0,0.0,0.0,0.0,0.0,0.0,0.0,0.0,0.0,0.0,0.0,0.0,0.0,0.0,0.0,0.00034233514823748916,0.003046026619203862,0.008639062012206404,0.008673063381114203,0.010777455288835782,0.01099746035857053,0.012592909852286295,0.012636792638400047,0.01410012540227665,0.015238272065090675,0.01825896680395961,0.020766554357783573,0.022230987447465426,0.022700431683643628,0.02566715322527962,0.03152064776823584,0.0327138502302258,0.03541265511991754,0.036881013837364335,0.038291021760742186,0.040498843017655044,0.044082428373862274,0.04410521574774304,0.04785536948116359,0.047924798522280994,0.05120419475092843,0.051535690362203616,0.05507587991142541,0.056393109306182666,0.05703286611082788,0.06192761108256759,0.06947845163110233,0.06994134808945048,0.07194551100984316,0.07208882524326886,0.07335791612035986,0.07547363209102054,0.07734022197270907,0.0828552976502911,0.08532373779318592,0.08629615484642843,0.08665600437951625,0.08819102597367934,0.09308249879533619,0.0988156713907517,0.10163757719337208,0.10203599307542124,0.10350202249013946,0.10534325297870219,0.10804487599718532,0.10904866515125371,0.10937825480098265,0.11079567762299555,0.11722291468986164,0.11922828414818486,0.1194134989465236,0.1196007236812107,0.12131709687392768,0.12354342356781377,0.12422213559230029,0.1250586367705707,0.12671196016126146,0.12857482327891073,0.12930752777268473,0.12937499332464866,0.12954906283193826,0.13045404777001765,0.13405465998685326,0.13729103372482893,0.13735409456657105,0.1386323606411576,0.13925789851036527,0.1396563449071604,0.1414745397345707,0.14291448792318362,0.1431346461859531,0.1450302286434758,0.14537137011072396,0.1460028142388305,0.14885125342542577,0.14895463690320018,0.15110836963547536,0.15341979130041622,0.15482472554172116,0.15597690770885506,0.15703998164400979,0.15781535283475523,0.1584375650316109,0.16115051981438458,0.1630029745670384,0.16329835639142568,0.1644361685417068,0.16463038244764291,0.1671923202518543,0.1689738446640247,0.1695086341732689,0.1732183221249631,0.17625659787958278,0.17929235476045044,0.18470671104037462,0.18489099985165772,0.1852894825648577,0.18963172571226758,0.19089626514705524,0.19351280450219085,0.19747736056093004,0.19879552862256736,0.20146109989740116,0.20341360596534827,0.20664470334946178,0.2072454283967482,0.21188052978534766,0.2120534912750679,0.21421604905639716,0.21752073615681397,0.21862197461232413,0.22094373800238742,0.22152678211541918,0.2224584374350082,0.22283552685751876,0.22484504923976706,0.2289140262746731,0.2328268231606983,0.2361574181726927,0.24039430179955779,0.24232591815860838,0.24330989202526493,0.2544759245702732,0.2545901858388619,0.2572972982609701,0.2592086959350224,0.25957321142631035,0.25966291869354147,0.26209503028059594,0.2625652932568515,0.26457966369034847,0.2676085607295009,0.2687894487385112,0.270146624388174,0.2730830931882654,0.2754294923271742,0.2756822116275537,0.279992356394407,0.280970310619974,0.2843157073731822,0.28804011905363924,0.2901924665651268,0.2919310731263141,0.2967232989363596,0.2987115313494334,0.29998097856312794,0.3031983156245148,0.3045028555833333,0.30668171341631967,0.3067001896182688,0.3069243321698231,0.31920939242697,0.3309860286116219,0.3311990650952998,0.33421016023633265,0.34330601075302447,0.3433731635024949,0.34990326210768996,0.3507155979398408,0.3585079832878609,0.3624087067827104,0.36391874353370074,0.36512086388521964,0.3679192693367694,0.3721394861063525,0.37427519985275365,0.3792651460375784,0.37949177684072927,0.3809761955015718,0.389431860954667,0.3913727001492692,0.3948947075783601,0.3974046784119455,0.40518096460097974,0.40786187528923445,0.40885446214288,0.40938584400402545,0.42481553090734214,0.4259207474025837,0.4309772437474716,0.4584989899878184,0.4647221250109923,0.46800593989122696,0.47020665057121097,0.4742900119338104,0.47519818796720403,0.502671366033801,0.5169608746445478,0.5289601700152476,0.5600808109469069,0.5646148001197215,0.6095625573216822,0.6127632233696478,0.6168912735313248,0.6572744624359996,0.6878123669914805,0.7042965051251979,0.8065948007034904,0.8525612439908021,0.905455516137592,0.9083474694268641,0.9180608515042523,0.9445915204831864,0.9836888980151195,1.1749066069535685,1.2133121924166599,1.267843242516186,1.3085774318896444,1.3658311660517615,1.401298671732275,1.48126560593806,1.6641052348610115]}],                        {\"annotations\":[{\"font\":{\"color\":\"#404040\",\"size\":18},\"showarrow\":false,\"text\":\"Positive returns\",\"x\":210,\"xanchor\":\"left\",\"xref\":\"x\",\"y\":1,\"yanchor\":\"top\",\"yref\":\"y domain\"},{\"font\":{\"color\":\"#404040\",\"size\":18},\"showarrow\":false,\"text\":\"Negative returns\",\"x\":0,\"xanchor\":\"left\",\"xref\":\"x\",\"y\":1,\"yanchor\":\"top\",\"yref\":\"y domain\"}],\"height\":600,\"plot_bgcolor\":\"white\",\"shapes\":[{\"fillcolor\":\"#6666ff\",\"line\":{\"width\":0},\"opacity\":0.12,\"type\":\"rect\",\"x0\":210,\"x1\":426,\"xref\":\"x\",\"y0\":0,\"y1\":1,\"yref\":\"y domain\"},{\"fillcolor\":\"#ff6666\",\"line\":{\"width\":0},\"opacity\":0.12,\"type\":\"rect\",\"x0\":0,\"x1\":115,\"xref\":\"x\",\"y0\":0,\"y1\":1,\"yref\":\"y domain\"}],\"showlegend\":false,\"template\":{\"data\":{\"bar\":[{\"error_x\":{\"color\":\"#2a3f5f\"},\"error_y\":{\"color\":\"#2a3f5f\"},\"marker\":{\"line\":{\"color\":\"#E5ECF6\",\"width\":0.5},\"pattern\":{\"fillmode\":\"overlay\",\"size\":10,\"solidity\":0.2}},\"type\":\"bar\"}],\"barpolar\":[{\"marker\":{\"line\":{\"color\":\"#E5ECF6\",\"width\":0.5},\"pattern\":{\"fillmode\":\"overlay\",\"size\":10,\"solidity\":0.2}},\"type\":\"barpolar\"}],\"carpet\":[{\"aaxis\":{\"endlinecolor\":\"#2a3f5f\",\"gridcolor\":\"white\",\"linecolor\":\"white\",\"minorgridcolor\":\"white\",\"startlinecolor\":\"#2a3f5f\"},\"baxis\":{\"endlinecolor\":\"#2a3f5f\",\"gridcolor\":\"white\",\"linecolor\":\"white\",\"minorgridcolor\":\"white\",\"startlinecolor\":\"#2a3f5f\"},\"type\":\"carpet\"}],\"choropleth\":[{\"colorbar\":{\"outlinewidth\":0,\"ticks\":\"\"},\"type\":\"choropleth\"}],\"contour\":[{\"colorbar\":{\"outlinewidth\":0,\"ticks\":\"\"},\"colorscale\":[[0.0,\"#0d0887\"],[0.1111111111111111,\"#46039f\"],[0.2222222222222222,\"#7201a8\"],[0.3333333333333333,\"#9c179e\"],[0.4444444444444444,\"#bd3786\"],[0.5555555555555556,\"#d8576b\"],[0.6666666666666666,\"#ed7953\"],[0.7777777777777778,\"#fb9f3a\"],[0.8888888888888888,\"#fdca26\"],[1.0,\"#f0f921\"]],\"type\":\"contour\"}],\"contourcarpet\":[{\"colorbar\":{\"outlinewidth\":0,\"ticks\":\"\"},\"type\":\"contourcarpet\"}],\"heatmap\":[{\"colorbar\":{\"outlinewidth\":0,\"ticks\":\"\"},\"colorscale\":[[0.0,\"#0d0887\"],[0.1111111111111111,\"#46039f\"],[0.2222222222222222,\"#7201a8\"],[0.3333333333333333,\"#9c179e\"],[0.4444444444444444,\"#bd3786\"],[0.5555555555555556,\"#d8576b\"],[0.6666666666666666,\"#ed7953\"],[0.7777777777777778,\"#fb9f3a\"],[0.8888888888888888,\"#fdca26\"],[1.0,\"#f0f921\"]],\"type\":\"heatmap\"}],\"heatmapgl\":[{\"colorbar\":{\"outlinewidth\":0,\"ticks\":\"\"},\"colorscale\":[[0.0,\"#0d0887\"],[0.1111111111111111,\"#46039f\"],[0.2222222222222222,\"#7201a8\"],[0.3333333333333333,\"#9c179e\"],[0.4444444444444444,\"#bd3786\"],[0.5555555555555556,\"#d8576b\"],[0.6666666666666666,\"#ed7953\"],[0.7777777777777778,\"#fb9f3a\"],[0.8888888888888888,\"#fdca26\"],[1.0,\"#f0f921\"]],\"type\":\"heatmapgl\"}],\"histogram\":[{\"marker\":{\"pattern\":{\"fillmode\":\"overlay\",\"size\":10,\"solidity\":0.2}},\"type\":\"histogram\"}],\"histogram2d\":[{\"colorbar\":{\"outlinewidth\":0,\"ticks\":\"\"},\"colorscale\":[[0.0,\"#0d0887\"],[0.1111111111111111,\"#46039f\"],[0.2222222222222222,\"#7201a8\"],[0.3333333333333333,\"#9c179e\"],[0.4444444444444444,\"#bd3786\"],[0.5555555555555556,\"#d8576b\"],[0.6666666666666666,\"#ed7953\"],[0.7777777777777778,\"#fb9f3a\"],[0.8888888888888888,\"#fdca26\"],[1.0,\"#f0f921\"]],\"type\":\"histogram2d\"}],\"histogram2dcontour\":[{\"colorbar\":{\"outlinewidth\":0,\"ticks\":\"\"},\"colorscale\":[[0.0,\"#0d0887\"],[0.1111111111111111,\"#46039f\"],[0.2222222222222222,\"#7201a8\"],[0.3333333333333333,\"#9c179e\"],[0.4444444444444444,\"#bd3786\"],[0.5555555555555556,\"#d8576b\"],[0.6666666666666666,\"#ed7953\"],[0.7777777777777778,\"#fb9f3a\"],[0.8888888888888888,\"#fdca26\"],[1.0,\"#f0f921\"]],\"type\":\"histogram2dcontour\"}],\"mesh3d\":[{\"colorbar\":{\"outlinewidth\":0,\"ticks\":\"\"},\"type\":\"mesh3d\"}],\"parcoords\":[{\"line\":{\"colorbar\":{\"outlinewidth\":0,\"ticks\":\"\"}},\"type\":\"parcoords\"}],\"pie\":[{\"automargin\":true,\"type\":\"pie\"}],\"scatter\":[{\"marker\":{\"colorbar\":{\"outlinewidth\":0,\"ticks\":\"\"}},\"type\":\"scatter\"}],\"scatter3d\":[{\"line\":{\"colorbar\":{\"outlinewidth\":0,\"ticks\":\"\"}},\"marker\":{\"colorbar\":{\"outlinewidth\":0,\"ticks\":\"\"}},\"type\":\"scatter3d\"}],\"scattercarpet\":[{\"marker\":{\"colorbar\":{\"outlinewidth\":0,\"ticks\":\"\"}},\"type\":\"scattercarpet\"}],\"scattergeo\":[{\"marker\":{\"colorbar\":{\"outlinewidth\":0,\"ticks\":\"\"}},\"type\":\"scattergeo\"}],\"scattergl\":[{\"marker\":{\"colorbar\":{\"outlinewidth\":0,\"ticks\":\"\"}},\"type\":\"scattergl\"}],\"scattermapbox\":[{\"marker\":{\"colorbar\":{\"outlinewidth\":0,\"ticks\":\"\"}},\"type\":\"scattermapbox\"}],\"scatterpolar\":[{\"marker\":{\"colorbar\":{\"outlinewidth\":0,\"ticks\":\"\"}},\"type\":\"scatterpolar\"}],\"scatterpolargl\":[{\"marker\":{\"colorbar\":{\"outlinewidth\":0,\"ticks\":\"\"}},\"type\":\"scatterpolargl\"}],\"scatterternary\":[{\"marker\":{\"colorbar\":{\"outlinewidth\":0,\"ticks\":\"\"}},\"type\":\"scatterternary\"}],\"surface\":[{\"colorbar\":{\"outlinewidth\":0,\"ticks\":\"\"},\"colorscale\":[[0.0,\"#0d0887\"],[0.1111111111111111,\"#46039f\"],[0.2222222222222222,\"#7201a8\"],[0.3333333333333333,\"#9c179e\"],[0.4444444444444444,\"#bd3786\"],[0.5555555555555556,\"#d8576b\"],[0.6666666666666666,\"#ed7953\"],[0.7777777777777778,\"#fb9f3a\"],[0.8888888888888888,\"#fdca26\"],[1.0,\"#f0f921\"]],\"type\":\"surface\"}],\"table\":[{\"cells\":{\"fill\":{\"color\":\"#EBF0F8\"},\"line\":{\"color\":\"white\"}},\"header\":{\"fill\":{\"color\":\"#C8D4E3\"},\"line\":{\"color\":\"white\"}},\"type\":\"table\"}]},\"layout\":{\"annotationdefaults\":{\"arrowcolor\":\"#2a3f5f\",\"arrowhead\":0,\"arrowwidth\":1},\"autotypenumbers\":\"strict\",\"coloraxis\":{\"colorbar\":{\"outlinewidth\":0,\"ticks\":\"\"}},\"colorscale\":{\"diverging\":[[0,\"#8e0152\"],[0.1,\"#c51b7d\"],[0.2,\"#de77ae\"],[0.3,\"#f1b6da\"],[0.4,\"#fde0ef\"],[0.5,\"#f7f7f7\"],[0.6,\"#e6f5d0\"],[0.7,\"#b8e186\"],[0.8,\"#7fbc41\"],[0.9,\"#4d9221\"],[1,\"#276419\"]],\"sequential\":[[0.0,\"#0d0887\"],[0.1111111111111111,\"#46039f\"],[0.2222222222222222,\"#7201a8\"],[0.3333333333333333,\"#9c179e\"],[0.4444444444444444,\"#bd3786\"],[0.5555555555555556,\"#d8576b\"],[0.6666666666666666,\"#ed7953\"],[0.7777777777777778,\"#fb9f3a\"],[0.8888888888888888,\"#fdca26\"],[1.0,\"#f0f921\"]],\"sequentialminus\":[[0.0,\"#0d0887\"],[0.1111111111111111,\"#46039f\"],[0.2222222222222222,\"#7201a8\"],[0.3333333333333333,\"#9c179e\"],[0.4444444444444444,\"#bd3786\"],[0.5555555555555556,\"#d8576b\"],[0.6666666666666666,\"#ed7953\"],[0.7777777777777778,\"#fb9f3a\"],[0.8888888888888888,\"#fdca26\"],[1.0,\"#f0f921\"]]},\"colorway\":[\"#636efa\",\"#EF553B\",\"#00cc96\",\"#ab63fa\",\"#FFA15A\",\"#19d3f3\",\"#FF6692\",\"#B6E880\",\"#FF97FF\",\"#FECB52\"],\"font\":{\"color\":\"#2a3f5f\"},\"geo\":{\"bgcolor\":\"white\",\"lakecolor\":\"white\",\"landcolor\":\"#E5ECF6\",\"showlakes\":true,\"showland\":true,\"subunitcolor\":\"white\"},\"hoverlabel\":{\"align\":\"left\"},\"hovermode\":\"closest\",\"mapbox\":{\"style\":\"light\"},\"paper_bgcolor\":\"white\",\"plot_bgcolor\":\"#E5ECF6\",\"polar\":{\"angularaxis\":{\"gridcolor\":\"white\",\"linecolor\":\"white\",\"ticks\":\"\"},\"bgcolor\":\"#E5ECF6\",\"radialaxis\":{\"gridcolor\":\"white\",\"linecolor\":\"white\",\"ticks\":\"\"}},\"scene\":{\"xaxis\":{\"backgroundcolor\":\"#E5ECF6\",\"gridcolor\":\"white\",\"gridwidth\":2,\"linecolor\":\"white\",\"showbackground\":true,\"ticks\":\"\",\"zerolinecolor\":\"white\"},\"yaxis\":{\"backgroundcolor\":\"#E5ECF6\",\"gridcolor\":\"white\",\"gridwidth\":2,\"linecolor\":\"white\",\"showbackground\":true,\"ticks\":\"\",\"zerolinecolor\":\"white\"},\"zaxis\":{\"backgroundcolor\":\"#E5ECF6\",\"gridcolor\":\"white\",\"gridwidth\":2,\"linecolor\":\"white\",\"showbackground\":true,\"ticks\":\"\",\"zerolinecolor\":\"white\"}},\"shapedefaults\":{\"line\":{\"color\":\"#2a3f5f\"}},\"ternary\":{\"aaxis\":{\"gridcolor\":\"white\",\"linecolor\":\"white\",\"ticks\":\"\"},\"baxis\":{\"gridcolor\":\"white\",\"linecolor\":\"white\",\"ticks\":\"\"},\"bgcolor\":\"#E5ECF6\",\"caxis\":{\"gridcolor\":\"white\",\"linecolor\":\"white\",\"ticks\":\"\"}},\"title\":{\"x\":0.05},\"xaxis\":{\"automargin\":true,\"gridcolor\":\"white\",\"linecolor\":\"white\",\"ticks\":\"\",\"title\":{\"standoff\":15},\"zerolinecolor\":\"white\",\"zerolinewidth\":2},\"yaxis\":{\"automargin\":true,\"gridcolor\":\"white\",\"linecolor\":\"white\",\"ticks\":\"\",\"title\":{\"standoff\":15},\"zerolinecolor\":\"white\",\"zerolinewidth\":2}}},\"xaxis\":{\"linecolor\":\"rgb(204, 204, 204)\",\"linewidth\":2,\"showgrid\":true,\"showline\":true,\"showticklabels\":true,\"tickfont\":{\"color\":\"rgb(82, 82, 82)\",\"family\":\"Arial\",\"size\":12},\"ticks\":\"outside\"},\"yaxis\":{\"gridcolor\":\"rgb(204, 204, 204)\",\"gridwidth\":1,\"showgrid\":false,\"showline\":true,\"showticklabels\":true,\"zeroline\":false}},                        {\"responsive\": true}                    ).then(function(){\n",
       "                            \n",
       "var gd = document.getElementById('ed2a9d23-94ef-47be-8744-0a1fa717580b');\n",
       "var x = new MutationObserver(function (mutations, observer) {{\n",
       "        var display = window.getComputedStyle(gd).display;\n",
       "        if (!display || display === 'none') {{\n",
       "            console.log([gd, 'removed!']);\n",
       "            Plotly.purge(gd);\n",
       "            observer.disconnect();\n",
       "        }}\n",
       "}});\n",
       "\n",
       "// Listen for the removal of the full notebook cells\n",
       "var notebookContainer = gd.closest('#notebook-container');\n",
       "if (notebookContainer) {{\n",
       "    x.observe(notebookContainer, {childList: true});\n",
       "}}\n",
       "\n",
       "// Listen for the clearing of the current output cell\n",
       "var outputEl = gd.closest('.output');\n",
       "if (outputEl) {{\n",
       "    x.observe(outputEl, {childList: true});\n",
       "}}\n",
       "\n",
       "                        })                };                });            </script>        </div>"
      ]
     },
     "metadata": {},
     "output_type": "display_data"
    }
   ],
   "source": [
    "fig = go.Figure()\n",
    "# fig.add_bar(y = sorted(avg_trade_p_basic_2), marker_color='#ff6666')\n",
    "fig.add_bar(y = sorted(pair_Anders_all_sequrities[pair_Anders_all_sequrities < 4]), marker_color='#6666ff')\n",
    "\n",
    "\n",
    "\n",
    "\n",
    "fig.update_layout(\n",
    "    xaxis=dict(\n",
    "        showline=True,\n",
    "        showgrid=True,        # hide grid x-lines\n",
    "        showticklabels=True,\n",
    "        linecolor='rgb(204, 204, 204)',\n",
    "        linewidth=2,\n",
    "        ticks='outside',\n",
    "        tickfont=dict(\n",
    "            family='Arial',\n",
    "            size=12,\n",
    "            color='rgb(82, 82, 82)'\n",
    "        ),\n",
    "        \n",
    "    ),\n",
    "    yaxis=dict(\n",
    "        showgrid=False,\n",
    "        gridcolor = 'rgb(204, 204, 204)',\n",
    "        gridwidth = 1,\n",
    "        zeroline=False,\n",
    "        showline=True,\n",
    "        showticklabels=True\n",
    "    ),\n",
    "#     autosize=False,\n",
    "    showlegend=False,\n",
    "    plot_bgcolor='white'\n",
    "\n",
    ")\n",
    "\n",
    "fig.add_vrect(x0=210, x1=len(pair_Anders_all_sequrities), \n",
    "              annotation_text=\"Positive returns\", annotation_position=\"top left\",\n",
    "              fillcolor='#6666ff', opacity=0.12, line_width=0,\n",
    "              annotation_font_size=18,\n",
    "              annotation_font_color='#404040')\n",
    "fig.add_vrect(x0=0, x1=115, \n",
    "              annotation_text=\"Negative returns\", annotation_position=\"top left\",\n",
    "              fillcolor='#ff6666', opacity=0.12, line_width=0,\n",
    "              annotation_font_size=18,\n",
    "              annotation_font_color='#404040')\n",
    "\n",
    "\n",
    "fig.update_layout(height=600)\n",
    "fig.show()"
   ]
  },
  {
   "cell_type": "code",
   "execution_count": 794,
   "id": "wanted-watershed",
   "metadata": {
    "scrolled": false
   },
   "outputs": [
    {
     "data": {
      "application/javascript": [
       "\n",
       "        if (window._pyforest_update_imports_cell) { window._pyforest_update_imports_cell('import matplotlib.pyplot as plt\\nimport seaborn as sns'); }\n",
       "    "
      ],
      "text/plain": [
       "<IPython.core.display.Javascript object>"
      ]
     },
     "metadata": {},
     "output_type": "display_data"
    },
    {
     "data": {
      "application/javascript": [
       "\n",
       "        if (window._pyforest_update_imports_cell) { window._pyforest_update_imports_cell('import matplotlib.pyplot as plt\\nimport seaborn as sns'); }\n",
       "    "
      ],
      "text/plain": [
       "<IPython.core.display.Javascript object>"
      ]
     },
     "metadata": {},
     "output_type": "display_data"
    },
    {
     "data": {
      "application/javascript": [
       "\n",
       "        if (window._pyforest_update_imports_cell) { window._pyforest_update_imports_cell('import matplotlib.pyplot as plt\\nimport seaborn as sns'); }\n",
       "    "
      ],
      "text/plain": [
       "<IPython.core.display.Javascript object>"
      ]
     },
     "metadata": {},
     "output_type": "display_data"
    },
    {
     "data": {
      "application/javascript": [
       "\n",
       "        if (window._pyforest_update_imports_cell) { window._pyforest_update_imports_cell('import matplotlib.pyplot as plt\\nimport seaborn as sns'); }\n",
       "    "
      ],
      "text/plain": [
       "<IPython.core.display.Javascript object>"
      ]
     },
     "metadata": {},
     "output_type": "display_data"
    },
    {
     "data": {
      "application/javascript": [
       "\n",
       "        if (window._pyforest_update_imports_cell) { window._pyforest_update_imports_cell('import matplotlib.pyplot as plt\\nimport seaborn as sns'); }\n",
       "    "
      ],
      "text/plain": [
       "<IPython.core.display.Javascript object>"
      ]
     },
     "metadata": {},
     "output_type": "display_data"
    },
    {
     "data": {
      "application/javascript": [
       "\n",
       "        if (window._pyforest_update_imports_cell) { window._pyforest_update_imports_cell('import matplotlib.pyplot as plt\\nimport seaborn as sns'); }\n",
       "    "
      ],
      "text/plain": [
       "<IPython.core.display.Javascript object>"
      ]
     },
     "metadata": {},
     "output_type": "display_data"
    },
    {
     "data": {
      "application/javascript": [
       "\n",
       "        if (window._pyforest_update_imports_cell) { window._pyforest_update_imports_cell('import matplotlib.pyplot as plt\\nimport seaborn as sns'); }\n",
       "    "
      ],
      "text/plain": [
       "<IPython.core.display.Javascript object>"
      ]
     },
     "metadata": {},
     "output_type": "display_data"
    },
    {
     "data": {
      "application/javascript": [
       "\n",
       "        if (window._pyforest_update_imports_cell) { window._pyforest_update_imports_cell('import matplotlib.pyplot as plt\\nimport seaborn as sns'); }\n",
       "    "
      ],
      "text/plain": [
       "<IPython.core.display.Javascript object>"
      ]
     },
     "metadata": {},
     "output_type": "display_data"
    },
    {
     "data": {
      "application/javascript": [
       "\n",
       "        if (window._pyforest_update_imports_cell) { window._pyforest_update_imports_cell('import matplotlib.pyplot as plt\\nimport seaborn as sns'); }\n",
       "    "
      ],
      "text/plain": [
       "<IPython.core.display.Javascript object>"
      ]
     },
     "metadata": {},
     "output_type": "display_data"
    },
    {
     "data": {
      "application/javascript": [
       "\n",
       "        if (window._pyforest_update_imports_cell) { window._pyforest_update_imports_cell('import matplotlib.pyplot as plt\\nimport seaborn as sns'); }\n",
       "    "
      ],
      "text/plain": [
       "<IPython.core.display.Javascript object>"
      ]
     },
     "metadata": {},
     "output_type": "display_data"
    },
    {
     "data": {
      "image/png": "[encoded data removed]",
      "text/plain": [
       "<Figure size 1152x576 with 3 Axes>"
      ]
     },
     "metadata": {},
     "output_type": "display_data"
    }
   ],
   "source": [
    "sns.set(rc={'figure.figsize': (16,8)})\n",
    "sns.set_style(\"darkgrid\")\n",
    "\n",
    "c_1 = '#ff6666'\n",
    "c_2 = '#6666ff'\n",
    "\n",
    "f, (ax_box1, ax_box2, ax_hist) = plt.subplots(3, sharex=True, gridspec_kw={\"height_ratios\": (.15, .15, .85)})\n",
    "\n",
    "sns.boxplot(x = pair_Anders_all_sequrities[pair_Anders_all_sequrities<2], ax = ax_box1, color = c_2)\n",
    "# sns.swarmplot(x = avg_trade_p_Anders_2, ax = ax_box1)\n",
    "sns.boxplot(x = pair_basic_all_sequrities[pair_basic_all_sequrities<2], ax = ax_box2, color = c_1)\n",
    "\n",
    "\n",
    "sns.histplot(x = pair_basic_all_sequrities[pair_basic_all_sequrities<2], bins=60,ax=ax_hist, kde=True, color = c_1).set_ylabel('Return count')\n",
    "sns.histplot(x = pair_Anders_all_sequrities[pair_Anders_all_sequrities<2], bins=60, ax=ax_hist, kde=True, color = c_2)\n",
    "\n",
    "# sns.despine(left=True)\n",
    "# sns.despine(bottom=True, left=True, ax=ax_box1)\n",
    "# sns.despine(bottom=True, left=True, ax=ax_box2)\n",
    "\n",
    "plt.legend(title = '', loc=2, fontsize = 14, labels = ['Basic - returns', 'Reinforced - returns']).\\\n",
    "                                                get_frame().set_facecolor('white')\n",
    "plt.savefig('strategy_return_subplot', bbox_inches='tight', pad_inches = 0.3)\n",
    "plt.show()"
   ]
  },
  {
   "cell_type": "code",
   "execution_count": 800,
   "id": "fresh-dance",
   "metadata": {},
   "outputs": [
    {
     "data": {
      "text/plain": [
       "1.338734939985778"
      ]
     },
     "execution_count": 800,
     "metadata": {},
     "output_type": "execute_result"
    }
   ],
   "source": [
    "from scipy.stats import skew, kurtosis\n",
    "skew(pair_basic_all_sequrities)\n",
    "# skew(pair_basic_all_sequrities[pair_basic_all_sequrities<2])\n",
    "# kurtosis(pair_Anders_all_sequrities)\n",
    "# kurtosis(pair_basic_all_sequrities[pair_basic_all_sequrities<2])"
   ]
  },
  {
   "cell_type": "code",
   "execution_count": 603,
   "id": "sealed-remedy",
   "metadata": {},
   "outputs": [
    {
     "data": {
      "application/vnd.plotly.v1+json": {
       "config": {
        "plotlyServerURL": "https://plot.ly"
       },
       "data": [
        {
         "alignmentgroup": "True",
         "hovertemplate": "variable=0<br>index=%{x}<br>value=%{y}<extra></extra>",
         "legendgroup": "0",
         "marker": {
          "color": "#636efa",
          "pattern": {
           "shape": ""
          }
         },
         "name": "0",
         "offsetgroup": "0",
         "orientation": "v",
         "showlegend": true,
         "textposition": "auto",
         "type": "bar",
         "x": [
          0,
          1,
          2,
          3,
          4,
          5,
          6,
          7,
          8,
          9,
          10,
          11,
          12,
          13,
          14,
          15,
          16,
          17,
          18,
          19,
          20,
          21,
          22,
          23,
          24,
          25,
          26,
          27,
          28,
          29,
          30,
          31,
          32,
          33,
          34,
          35,
          36,
          37,
          38,
          39,
          40,
          41,
          42,
          43,
          44,
          45,
          46,
          47,
          48,
          49,
          50,
          51,
          52,
          53,
          54,
          55,
          56,
          57,
          58,
          59,
          60,
          61,
          62,
          63,
          64,
          65,
          66,
          67,
          68,
          69,
          70,
          71,
          72,
          73,
          74,
          75,
          76,
          77,
          78,
          79,
          80,
          81,
          82,
          83,
          84,
          85,
          86,
          87,
          88,
          89,
          90,
          91,
          92,
          93,
          94,
          95,
          96,
          97,
          98,
          99,
          100,
          101,
          102,
          103,
          104,
          105,
          106,
          107,
          108,
          109,
          110,
          111,
          112,
          113,
          114,
          115,
          116,
          117,
          118,
          119,
          120,
          121,
          122,
          123,
          124,
          125,
          126,
          127,
          128,
          129,
          130,
          131,
          132,
          133,
          134,
          135,
          136,
          137,
          138,
          139,
          140,
          141,
          142,
          143,
          144,
          145,
          146,
          147,
          148,
          149,
          150,
          151,
          152,
          153,
          154,
          155,
          156,
          157,
          158,
          159,
          160,
          161,
          162,
          163,
          164,
          165,
          166,
          167,
          168,
          169,
          170,
          171,
          172,
          173,
          174,
          175,
          176,
          177,
          178,
          179,
          180,
          181,
          182,
          183,
          184,
          185,
          186,
          187,
          188,
          189,
          190,
          191,
          192,
          193,
          194,
          195,
          196,
          197,
          198,
          199,
          200,
          201,
          202,
          203,
          204,
          205,
          206,
          207,
          208,
          209,
          210,
          211,
          212,
          213,
          214,
          215,
          216,
          217,
          218,
          219,
          220,
          221,
          222,
          223,
          224,
          225,
          226,
          227,
          228,
          229,
          230,
          231,
          232,
          233,
          234,
          235,
          236,
          237,
          238,
          239,
          240,
          241,
          242,
          243,
          244,
          245,
          246,
          247,
          248,
          249,
          250,
          251,
          252,
          253,
          254,
          255,
          256,
          257,
          258,
          259,
          260,
          261,
          262,
          263,
          264,
          265,
          266,
          267,
          268,
          269,
          270,
          271,
          272,
          273,
          274,
          275,
          276,
          277,
          278,
          279,
          280,
          281,
          282,
          283,
          284,
          285,
          286,
          287,
          288,
          289,
          290,
          291,
          292,
          293,
          294,
          295,
          296,
          297,
          298,
          299,
          300,
          301,
          302,
          303,
          304,
          305,
          306,
          307,
          308,
          309,
          310,
          311,
          312,
          313,
          314,
          315,
          316,
          317,
          318,
          319,
          320,
          321,
          322,
          323,
          324,
          325,
          326,
          327,
          328,
          329,
          330,
          331,
          332,
          333,
          334,
          335,
          336,
          337,
          338,
          339,
          340,
          341,
          342,
          343,
          344,
          345,
          346,
          347,
          348,
          349,
          350,
          351,
          352,
          353,
          354,
          355,
          356,
          357,
          358,
          359,
          360,
          361,
          362,
          363,
          364,
          365,
          366,
          367,
          368,
          369,
          370,
          371,
          372,
          373,
          374,
          375,
          376,
          377,
          378,
          379,
          380,
          381,
          382,
          383,
          384,
          385,
          386,
          387,
          388,
          389,
          390,
          391,
          392,
          393,
          394,
          395,
          396,
          397,
          398,
          399,
          400,
          401,
          402,
          403,
          404,
          405,
          406,
          407,
          408,
          409,
          410,
          411,
          412,
          413,
          414,
          415,
          416,
          417,
          418,
          419,
          420,
          421,
          422,
          423,
          424,
          425
         ],
         "xaxis": "x",
         "y": [
          -0.8350366142642504,
          -0.8231220603818088,
          -0.8227789172548713,
          -0.6915450502898083,
          -0.6398387070881639,
          -0.5972648729559971,
          -0.5044814686830994,
          -0.4496979181354284,
          -0.4409892330805935,
          -0.43078596022376514,
          -0.4112485768518058,
          -0.4085303161823867,
          -0.40754442047812733,
          -0.3974082085214874,
          -0.3960557939036472,
          -0.377767355721016,
          -0.3759580512608542,
          -0.3662763164103202,
          -0.34602112045544825,
          -0.3391847226147782,
          -0.3330105718843541,
          -0.3299783581321942,
          -0.31337981944937077,
          -0.30873017635908606,
          -0.29701093257160227,
          -0.29207560997826276,
          -0.27605152965505475,
          -0.27428022310978906,
          -0.2689853475943712,
          -0.26892916527447613,
          -0.2648457226530144,
          -0.25188002663150694,
          -0.25109574576694893,
          -0.24762367285994302,
          -0.23067264918443892,
          -0.22793020319777965,
          -0.22217694335135635,
          -0.2215019805207201,
          -0.21633761297307535,
          -0.21628755444348308,
          -0.21147394679768536,
          -0.2069679614179766,
          -0.205010223612259,
          -0.20340289589933605,
          -0.2029209939017634,
          -0.20084506639787691,
          -0.20001393570334053,
          -0.19961781735070788,
          -0.19198433810259355,
          -0.18364652785967875,
          -0.1826536951967578,
          -0.17960930261974692,
          -0.17633748594886,
          -0.17612556393339973,
          -0.1758848666665599,
          -0.17551719836297194,
          -0.1738438797086566,
          -0.17367959483853523,
          -0.17155007653953752,
          -0.1691021319738489,
          -0.15878559883695503,
          -0.15841192776361324,
          -0.15238865883391792,
          -0.15207060257914265,
          -0.13607115629277197,
          -0.13409474184840373,
          -0.1315798041520559,
          -0.12827999547334926,
          -0.12817027961053062,
          -0.12794035301399556,
          -0.12538676165572682,
          -0.123010803799412,
          -0.1155391122831441,
          -0.11311835934301351,
          -0.11235504724906574,
          -0.11152011955677836,
          -0.10956899444858935,
          -0.10592828301105676,
          -0.09824876296527678,
          -0.09338271066204454,
          -0.0916563063303021,
          -0.08324285974324584,
          -0.08206978907006977,
          -0.07485392159012784,
          -0.07252242834536726,
          -0.07089435358346724,
          -0.07019068064156957,
          -0.07016965514322318,
          -0.06897956371641094,
          -0.06727764593134547,
          -0.06635720367724672,
          -0.06525862130260322,
          -0.06252067474811712,
          -0.05987335258273532,
          -0.059617956046965216,
          -0.0563001282303718,
          -0.05578865836739958,
          -0.05577915307196093,
          -0.049165915510111034,
          -0.04697489801687936,
          -0.04619297888867395,
          -0.03807040805959004,
          -0.03550984694588383,
          -0.035461698870104294,
          -0.0297132539464848,
          -0.027452466383089943,
          -0.026672324899173035,
          -0.02585987111783523,
          -0.02259598886780207,
          -0.018344350408949446,
          -0.01570756484896699,
          -0.011359431522611436,
          -0.00892162733298163,
          -0.00892079182524497,
          -0.002083451005947771,
          -0.0002943977679185128,
          0,
          0,
          0,
          0,
          0,
          0,
          0,
          0,
          0,
          0,
          0,
          0,
          0,
          0,
          0,
          0,
          0,
          0,
          0,
          0,
          0,
          0,
          0,
          0,
          0,
          0,
          0,
          0,
          0,
          0,
          0,
          0,
          0,
          0,
          0,
          0,
          0,
          0,
          0,
          0,
          0,
          0,
          0,
          0,
          0,
          0,
          0,
          0,
          0,
          0,
          0,
          0,
          0,
          0,
          0,
          0,
          0,
          0,
          0,
          0,
          0,
          0,
          0,
          0,
          0,
          0,
          0,
          0,
          0,
          0,
          0,
          0,
          0,
          0,
          0,
          0,
          0,
          0,
          0,
          0,
          0,
          0,
          0,
          0,
          0,
          0,
          0,
          0,
          0,
          0,
          0,
          0,
          0,
          0.009419507223522252,
          0.010132045609923222,
          0.014311257780307549,
          0.018639062012206404,
          0.018673063381114203,
          0.01896350280206012,
          0.019545569816783754,
          0.02099746035857053,
          0.03105775016214895,
          0.03158225405930412,
          0.03383781809984036,
          0.03463425802347745,
          0.034637023298840885,
          0.0353703076139155,
          0.036870381582753194,
          0.03857900011909967,
          0.04181017869759336,
          0.045412655119917544,
          0.045827323383729246,
          0.04641230928747029,
          0.050938783169152346,
          0.054175106737294094,
          0.054440655796505866,
          0.05615121437995725,
          0.05764199045596404,
          0.0581218206574211,
          0.058869095196942424,
          0.06144096172125195,
          0.06153569036220362,
          0.061833837509678545,
          0.06305262666993192,
          0.06604806507688459,
          0.0667349521603481,
          0.0703690155274687,
          0.07830093717424744,
          0.07930010654812608,
          0.07947845163110233,
          0.07994134808945047,
          0.08208882524326885,
          0.08327055981113879,
          0.08336280961693295,
          0.09329105119046009,
          0.09330936067397243,
          0.09622748344100272,
          0.09692410957270318,
          0.1017217544815001,
          0.10587020367080156,
          0.10694485296257412,
          0.10696992849335413,
          0.11025257119654151,
          0.11179093044550747,
          0.11303602593481599,
          0.11467931835881703,
          0.11513095087348196,
          0.11804487599718531,
          0.11900687655471283,
          0.11937825480098264,
          0.11992598262536139,
          0.12026395066365862,
          0.12032251761858068,
          0.12187070703415454,
          0.12301427955342628,
          0.12869092544651994,
          0.13218720908079928,
          0.13262692343884538,
          0.13399053530338173,
          0.1366576176380909,
          0.13727877983392908,
          0.13740296894480875,
          0.1377425525094457,
          0.1382568938148615,
          0.13906159252357864,
          0.13961841451757245,
          0.14127133368965308,
          0.1441011720974546,
          0.14479207043442194,
          0.1488958437137493,
          0.15055335922229132,
          0.15083422305131633,
          0.15236483835894643,
          0.15291448792318363,
          0.1531346461859531,
          0.15313591114794212,
          0.15503022864347582,
          0.15634497991759855,
          0.16150243119469046,
          0.16205433043756792,
          0.16364829964083405,
          0.16614107031379152,
          0.16626537477335726,
          0.17063638213370566,
          0.17333015713455754,
          0.1771923202518543,
          0.17862090321321353,
          0.17895052719393742,
          0.17897384466402472,
          0.18746245811625423,
          0.18929235476045045,
          0.19293337664270807,
          0.19338474170656933,
          0.19470671104037462,
          0.19983231828278925,
          0.19995529067833903,
          0.200091155215344,
          0.20174627491332522,
          0.20204589906374018,
          0.2055489667179146,
          0.20719567500249406,
          0.20965437456031236,
          0.21146109989740117,
          0.21289132029371266,
          0.2142832406877653,
          0.21718932079123462,
          0.2172454283967482,
          0.2220534912750679,
          0.22292718030597675,
          0.2275597933696548,
          0.23037541067045406,
          0.23283552685751877,
          0.23484504923976707,
          0.23488723606681564,
          0.24249856854830612,
          0.2428268231606983,
          0.24561278924058402,
          0.2461574181726927,
          0.25330989202526494,
          0.2591159372950449,
          0.26037410783139653,
          0.2632390395113254,
          0.265137916935744,
          0.2661181646185187,
          0.26847257884427417,
          0.2687465881144278,
          0.26957321142631036,
          0.2696571126944446,
          0.2696629186935415,
          0.270446337786445,
          0.27151425757218567,
          0.2718172700221699,
          0.27811110904447056,
          0.2799923922088293,
          0.280146624388174,
          0.28149491031921975,
          0.2830830931882654,
          0.2845214177546322,
          0.28684661274136464,
          0.293938381669399,
          0.29472489072516145,
          0.29804011905363925,
          0.3007672770120479,
          0.30280042029407184,
          0.30406527186682114,
          0.30998097856312795,
          0.31039108725719894,
          0.31329423311222987,
          0.31457168541785974,
          0.3157429672030163,
          0.34374184746318937,
          0.3440069803915872,
          0.3442282372228004,
          0.34926777401766784,
          0.350830796856729,
          0.3508616805926441,
          0.3533731635024949,
          0.35992605138579703,
          0.3685079832878609,
          0.37130830897437095,
          0.3722406110870603,
          0.37249334110174104,
          0.37391874353370075,
          0.3779192693367694,
          0.3821394861063525,
          0.38652671039421543,
          0.3894917768407293,
          0.39087730881451216,
          0.3925479941114618,
          0.399431860954667,
          0.4003552311043657,
          0.40075728689572676,
          0.40556625416461095,
          0.4073569806324165,
          0.41786187528923446,
          0.41938584400402545,
          0.429032297871204,
          0.43550670716312645,
          0.45249120426632183,
          0.4679412135586696,
          0.4684989899878184,
          0.4807935238876029,
          0.4842900119338104,
          0.49902626013256907,
          0.512671366033801,
          0.5246048838686763,
          0.5254790059990812,
          0.5302961070907268,
          0.5746148001197215,
          0.6057904226588486,
          0.6214038346623046,
          0.6604039208017223,
          0.6672744624359996,
          0.7025618408727278,
          0.7142965051251979,
          0.8165948007034904,
          0.8294860730377286,
          0.8625612439908021,
          0.8940619172801268,
          0.9264185854318022,
          0.9279111188527126,
          0.9289562643034657,
          1.1849066069535688,
          1.248350015100609,
          1.2996736919350143,
          1.3185774318896444,
          1.359087825280492,
          1.4223405334144803,
          1.49126560593806,
          1.586428523562458
         ],
         "yaxis": "y"
        }
       ],
       "layout": {
        "barmode": "relative",
        "legend": {
         "title": {
          "text": "variable"
         },
         "tracegroupgap": 0
        },
        "margin": {
         "t": 60
        },
        "template": {
         "data": {
          "bar": [
           {
            "error_x": {
             "color": "#2a3f5f"
            },
            "error_y": {
             "color": "#2a3f5f"
            },
            "marker": {
             "line": {
              "color": "#E5ECF6",
              "width": 0.5
             },
             "pattern": {
              "fillmode": "overlay",
              "size": 10,
              "solidity": 0.2
             }
            },
            "type": "bar"
           }
          ],
          "barpolar": [
           {
            "marker": {
             "line": {
              "color": "#E5ECF6",
              "width": 0.5
             },
             "pattern": {
              "fillmode": "overlay",
              "size": 10,
              "solidity": 0.2
             }
            },
            "type": "barpolar"
           }
          ],
          "carpet": [
           {
            "aaxis": {
             "endlinecolor": "#2a3f5f",
             "gridcolor": "white",
             "linecolor": "white",
             "minorgridcolor": "white",
             "startlinecolor": "#2a3f5f"
            },
            "baxis": {
             "endlinecolor": "#2a3f5f",
             "gridcolor": "white",
             "linecolor": "white",
             "minorgridcolor": "white",
             "startlinecolor": "#2a3f5f"
            },
            "type": "carpet"
           }
          ],
          "choropleth": [
           {
            "colorbar": {
             "outlinewidth": 0,
             "ticks": ""
            },
            "type": "choropleth"
           }
          ],
          "contour": [
           {
            "colorbar": {
             "outlinewidth": 0,
             "ticks": ""
            },
            "colorscale": [
             [
              0,
              "#0d0887"
             ],
             [
              0.1111111111111111,
              "#46039f"
             ],
             [
              0.2222222222222222,
              "#7201a8"
             ],
             [
              0.3333333333333333,
              "#9c179e"
             ],
             [
              0.4444444444444444,
              "#bd3786"
             ],
             [
              0.5555555555555556,
              "#d8576b"
             ],
             [
              0.6666666666666666,
              "#ed7953"
             ],
             [
              0.7777777777777778,
              "#fb9f3a"
             ],
             [
              0.8888888888888888,
              "#fdca26"
             ],
             [
              1,
              "#f0f921"
             ]
            ],
            "type": "contour"
           }
          ],
          "contourcarpet": [
           {
            "colorbar": {
             "outlinewidth": 0,
             "ticks": ""
            },
            "type": "contourcarpet"
           }
          ],
          "heatmap": [
           {
            "colorbar": {
             "outlinewidth": 0,
             "ticks": ""
            },
            "colorscale": [
             [
              0,
              "#0d0887"
             ],
             [
              0.1111111111111111,
              "#46039f"
             ],
             [
              0.2222222222222222,
              "#7201a8"
             ],
             [
              0.3333333333333333,
              "#9c179e"
             ],
             [
              0.4444444444444444,
              "#bd3786"
             ],
             [
              0.5555555555555556,
              "#d8576b"
             ],
             [
              0.6666666666666666,
              "#ed7953"
             ],
             [
              0.7777777777777778,
              "#fb9f3a"
             ],
             [
              0.8888888888888888,
              "#fdca26"
             ],
             [
              1,
              "#f0f921"
             ]
            ],
            "type": "heatmap"
           }
          ],
          "heatmapgl": [
           {
            "colorbar": {
             "outlinewidth": 0,
             "ticks": ""
            },
            "colorscale": [
             [
              0,
              "#0d0887"
             ],
             [
              0.1111111111111111,
              "#46039f"
             ],
             [
              0.2222222222222222,
              "#7201a8"
             ],
             [
              0.3333333333333333,
              "#9c179e"
             ],
             [
              0.4444444444444444,
              "#bd3786"
             ],
             [
              0.5555555555555556,
              "#d8576b"
             ],
             [
              0.6666666666666666,
              "#ed7953"
             ],
             [
              0.7777777777777778,
              "#fb9f3a"
             ],
             [
              0.8888888888888888,
              "#fdca26"
             ],
             [
              1,
              "#f0f921"
             ]
            ],
            "type": "heatmapgl"
           }
          ],
          "histogram": [
           {
            "marker": {
             "pattern": {
              "fillmode": "overlay",
              "size": 10,
              "solidity": 0.2
             }
            },
            "type": "histogram"
           }
          ],
          "histogram2d": [
           {
            "colorbar": {
             "outlinewidth": 0,
             "ticks": ""
            },
            "colorscale": [
             [
              0,
              "#0d0887"
             ],
             [
              0.1111111111111111,
              "#46039f"
             ],
             [
              0.2222222222222222,
              "#7201a8"
             ],
             [
              0.3333333333333333,
              "#9c179e"
             ],
             [
              0.4444444444444444,
              "#bd3786"
             ],
             [
              0.5555555555555556,
              "#d8576b"
             ],
             [
              0.6666666666666666,
              "#ed7953"
             ],
             [
              0.7777777777777778,
              "#fb9f3a"
             ],
             [
              0.8888888888888888,
              "#fdca26"
             ],
             [
              1,
              "#f0f921"
             ]
            ],
            "type": "histogram2d"
           }
          ],
          "histogram2dcontour": [
           {
            "colorbar": {
             "outlinewidth": 0,
             "ticks": ""
            },
            "colorscale": [
             [
              0,
              "#0d0887"
             ],
             [
              0.1111111111111111,
              "#46039f"
             ],
             [
              0.2222222222222222,
              "#7201a8"
             ],
             [
              0.3333333333333333,
              "#9c179e"
             ],
             [
              0.4444444444444444,
              "#bd3786"
             ],
             [
              0.5555555555555556,
              "#d8576b"
             ],
             [
              0.6666666666666666,
              "#ed7953"
             ],
             [
              0.7777777777777778,
              "#fb9f3a"
             ],
             [
              0.8888888888888888,
              "#fdca26"
             ],
             [
              1,
              "#f0f921"
             ]
            ],
            "type": "histogram2dcontour"
           }
          ],
          "mesh3d": [
           {
            "colorbar": {
             "outlinewidth": 0,
             "ticks": ""
            },
            "type": "mesh3d"
           }
          ],
          "parcoords": [
           {
            "line": {
             "colorbar": {
              "outlinewidth": 0,
              "ticks": ""
             }
            },
            "type": "parcoords"
           }
          ],
          "pie": [
           {
            "automargin": true,
            "type": "pie"
           }
          ],
          "scatter": [
           {
            "marker": {
             "colorbar": {
              "outlinewidth": 0,
              "ticks": ""
             }
            },
            "type": "scatter"
           }
          ],
          "scatter3d": [
           {
            "line": {
             "colorbar": {
              "outlinewidth": 0,
              "ticks": ""
             }
            },
            "marker": {
             "colorbar": {
              "outlinewidth": 0,
              "ticks": ""
             }
            },
            "type": "scatter3d"
           }
          ],
          "scattercarpet": [
           {
            "marker": {
             "colorbar": {
              "outlinewidth": 0,
              "ticks": ""
             }
            },
            "type": "scattercarpet"
           }
          ],
          "scattergeo": [
           {
            "marker": {
             "colorbar": {
              "outlinewidth": 0,
              "ticks": ""
             }
            },
            "type": "scattergeo"
           }
          ],
          "scattergl": [
           {
            "marker": {
             "colorbar": {
              "outlinewidth": 0,
              "ticks": ""
             }
            },
            "type": "scattergl"
           }
          ],
          "scattermapbox": [
           {
            "marker": {
             "colorbar": {
              "outlinewidth": 0,
              "ticks": ""
             }
            },
            "type": "scattermapbox"
           }
          ],
          "scatterpolar": [
           {
            "marker": {
             "colorbar": {
              "outlinewidth": 0,
              "ticks": ""
             }
            },
            "type": "scatterpolar"
           }
          ],
          "scatterpolargl": [
           {
            "marker": {
             "colorbar": {
              "outlinewidth": 0,
              "ticks": ""
             }
            },
            "type": "scatterpolargl"
           }
          ],
          "scatterternary": [
           {
            "marker": {
             "colorbar": {
              "outlinewidth": 0,
              "ticks": ""
             }
            },
            "type": "scatterternary"
           }
          ],
          "surface": [
           {
            "colorbar": {
             "outlinewidth": 0,
             "ticks": ""
            },
            "colorscale": [
             [
              0,
              "#0d0887"
             ],
             [
              0.1111111111111111,
              "#46039f"
             ],
             [
              0.2222222222222222,
              "#7201a8"
             ],
             [
              0.3333333333333333,
              "#9c179e"
             ],
             [
              0.4444444444444444,
              "#bd3786"
             ],
             [
              0.5555555555555556,
              "#d8576b"
             ],
             [
              0.6666666666666666,
              "#ed7953"
             ],
             [
              0.7777777777777778,
              "#fb9f3a"
             ],
             [
              0.8888888888888888,
              "#fdca26"
             ],
             [
              1,
              "#f0f921"
             ]
            ],
            "type": "surface"
           }
          ],
          "table": [
           {
            "cells": {
             "fill": {
              "color": "#EBF0F8"
             },
             "line": {
              "color": "white"
             }
            },
            "header": {
             "fill": {
              "color": "#C8D4E3"
             },
             "line": {
              "color": "white"
             }
            },
            "type": "table"
           }
          ]
         },
         "layout": {
          "annotationdefaults": {
           "arrowcolor": "#2a3f5f",
           "arrowhead": 0,
           "arrowwidth": 1
          },
          "autotypenumbers": "strict",
          "coloraxis": {
           "colorbar": {
            "outlinewidth": 0,
            "ticks": ""
           }
          },
          "colorscale": {
           "diverging": [
            [
             0,
             "#8e0152"
            ],
            [
             0.1,
             "#c51b7d"
            ],
            [
             0.2,
             "#de77ae"
            ],
            [
             0.3,
             "#f1b6da"
            ],
            [
             0.4,
             "#fde0ef"
            ],
            [
             0.5,
             "#f7f7f7"
            ],
            [
             0.6,
             "#e6f5d0"
            ],
            [
             0.7,
             "#b8e186"
            ],
            [
             0.8,
             "#7fbc41"
            ],
            [
             0.9,
             "#4d9221"
            ],
            [
             1,
             "#276419"
            ]
           ],
           "sequential": [
            [
             0,
             "#0d0887"
            ],
            [
             0.1111111111111111,
             "#46039f"
            ],
            [
             0.2222222222222222,
             "#7201a8"
            ],
            [
             0.3333333333333333,
             "#9c179e"
            ],
            [
             0.4444444444444444,
             "#bd3786"
            ],
            [
             0.5555555555555556,
             "#d8576b"
            ],
            [
             0.6666666666666666,
             "#ed7953"
            ],
            [
             0.7777777777777778,
             "#fb9f3a"
            ],
            [
             0.8888888888888888,
             "#fdca26"
            ],
            [
             1,
             "#f0f921"
            ]
           ],
           "sequentialminus": [
            [
             0,
             "#0d0887"
            ],
            [
             0.1111111111111111,
             "#46039f"
            ],
            [
             0.2222222222222222,
             "#7201a8"
            ],
            [
             0.3333333333333333,
             "#9c179e"
            ],
            [
             0.4444444444444444,
             "#bd3786"
            ],
            [
             0.5555555555555556,
             "#d8576b"
            ],
            [
             0.6666666666666666,
             "#ed7953"
            ],
            [
             0.7777777777777778,
             "#fb9f3a"
            ],
            [
             0.8888888888888888,
             "#fdca26"
            ],
            [
             1,
             "#f0f921"
            ]
           ]
          },
          "colorway": [
           "#636efa",
           "#EF553B",
           "#00cc96",
           "#ab63fa",
           "#FFA15A",
           "#19d3f3",
           "#FF6692",
           "#B6E880",
           "#FF97FF",
           "#FECB52"
          ],
          "font": {
           "color": "#2a3f5f"
          },
          "geo": {
           "bgcolor": "white",
           "lakecolor": "white",
           "landcolor": "#E5ECF6",
           "showlakes": true,
           "showland": true,
           "subunitcolor": "white"
          },
          "hoverlabel": {
           "align": "left"
          },
          "hovermode": "closest",
          "mapbox": {
           "style": "light"
          },
          "paper_bgcolor": "white",
          "plot_bgcolor": "#E5ECF6",
          "polar": {
           "angularaxis": {
            "gridcolor": "white",
            "linecolor": "white",
            "ticks": ""
           },
           "bgcolor": "#E5ECF6",
           "radialaxis": {
            "gridcolor": "white",
            "linecolor": "white",
            "ticks": ""
           }
          },
          "scene": {
           "xaxis": {
            "backgroundcolor": "#E5ECF6",
            "gridcolor": "white",
            "gridwidth": 2,
            "linecolor": "white",
            "showbackground": true,
            "ticks": "",
            "zerolinecolor": "white"
           },
           "yaxis": {
            "backgroundcolor": "#E5ECF6",
            "gridcolor": "white",
            "gridwidth": 2,
            "linecolor": "white",
            "showbackground": true,
            "ticks": "",
            "zerolinecolor": "white"
           },
           "zaxis": {
            "backgroundcolor": "#E5ECF6",
            "gridcolor": "white",
            "gridwidth": 2,
            "linecolor": "white",
            "showbackground": true,
            "ticks": "",
            "zerolinecolor": "white"
           }
          },
          "shapedefaults": {
           "line": {
            "color": "#2a3f5f"
           }
          },
          "ternary": {
           "aaxis": {
            "gridcolor": "white",
            "linecolor": "white",
            "ticks": ""
           },
           "baxis": {
            "gridcolor": "white",
            "linecolor": "white",
            "ticks": ""
           },
           "bgcolor": "#E5ECF6",
           "caxis": {
            "gridcolor": "white",
            "linecolor": "white",
            "ticks": ""
           }
          },
          "title": {
           "x": 0.05
          },
          "xaxis": {
           "automargin": true,
           "gridcolor": "white",
           "linecolor": "white",
           "ticks": "",
           "title": {
            "standoff": 15
           },
           "zerolinecolor": "white",
           "zerolinewidth": 2
          },
          "yaxis": {
           "automargin": true,
           "gridcolor": "white",
           "linecolor": "white",
           "ticks": "",
           "title": {
            "standoff": 15
           },
           "zerolinecolor": "white",
           "zerolinewidth": 2
          }
         }
        },
        "xaxis": {
         "anchor": "y",
         "domain": [
          0,
          1
         ],
         "title": {
          "text": "index"
         }
        },
        "yaxis": {
         "anchor": "x",
         "domain": [
          0,
          1
         ],
         "title": {
          "text": "value"
         }
        }
       }
      },
      "text/html": [
       "<div>                            <div id=\"0e007633-7018-40c1-b6be-1db02014c47b\" class=\"plotly-graph-div\" style=\"height:525px; width:100%;\"></div>            <script type=\"text/javascript\">                require([\"plotly\"], function(Plotly) {                    window.PLOTLYENV=window.PLOTLYENV || {};                                    if (document.getElementById(\"0e007633-7018-40c1-b6be-1db02014c47b\")) {                    Plotly.newPlot(                        \"0e007633-7018-40c1-b6be-1db02014c47b\",                        [{\"alignmentgroup\":\"True\",\"hovertemplate\":\"variable=0<br>index=%{x}<br>value=%{y}<extra></extra>\",\"legendgroup\":\"0\",\"marker\":{\"color\":\"#636efa\",\"pattern\":{\"shape\":\"\"}},\"name\":\"0\",\"offsetgroup\":\"0\",\"orientation\":\"v\",\"showlegend\":true,\"textposition\":\"auto\",\"type\":\"bar\",\"x\":[0,1,2,3,4,5,6,7,8,9,10,11,12,13,14,15,16,17,18,19,20,21,22,23,24,25,26,27,28,29,30,31,32,33,34,35,36,37,38,39,40,41,42,43,44,45,46,47,48,49,50,51,52,53,54,55,56,57,58,59,60,61,62,63,64,65,66,67,68,69,70,71,72,73,74,75,76,77,78,79,80,81,82,83,84,85,86,87,88,89,90,91,92,93,94,95,96,97,98,99,100,101,102,103,104,105,106,107,108,109,110,111,112,113,114,115,116,117,118,119,120,121,122,123,124,125,126,127,128,129,130,131,132,133,134,135,136,137,138,139,140,141,142,143,144,145,146,147,148,149,150,151,152,153,154,155,156,157,158,159,160,161,162,163,164,165,166,167,168,169,170,171,172,173,174,175,176,177,178,179,180,181,182,183,184,185,186,187,188,189,190,191,192,193,194,195,196,197,198,199,200,201,202,203,204,205,206,207,208,209,210,211,212,213,214,215,216,217,218,219,220,221,222,223,224,225,226,227,228,229,230,231,232,233,234,235,236,237,238,239,240,241,242,243,244,245,246,247,248,249,250,251,252,253,254,255,256,257,258,259,260,261,262,263,264,265,266,267,268,269,270,271,272,273,274,275,276,277,278,279,280,281,282,283,284,285,286,287,288,289,290,291,292,293,294,295,296,297,298,299,300,301,302,303,304,305,306,307,308,309,310,311,312,313,314,315,316,317,318,319,320,321,322,323,324,325,326,327,328,329,330,331,332,333,334,335,336,337,338,339,340,341,342,343,344,345,346,347,348,349,350,351,352,353,354,355,356,357,358,359,360,361,362,363,364,365,366,367,368,369,370,371,372,373,374,375,376,377,378,379,380,381,382,383,384,385,386,387,388,389,390,391,392,393,394,395,396,397,398,399,400,401,402,403,404,405,406,407,408,409,410,411,412,413,414,415,416,417,418,419,420,421,422,423,424,425],\"xaxis\":\"x\",\"y\":[-0.8350366142642504,-0.8231220603818088,-0.8227789172548713,-0.6915450502898083,-0.6398387070881639,-0.5972648729559971,-0.5044814686830994,-0.4496979181354284,-0.4409892330805935,-0.43078596022376514,-0.4112485768518058,-0.4085303161823867,-0.40754442047812733,-0.3974082085214874,-0.3960557939036472,-0.377767355721016,-0.3759580512608542,-0.3662763164103202,-0.34602112045544825,-0.3391847226147782,-0.3330105718843541,-0.3299783581321942,-0.31337981944937077,-0.30873017635908606,-0.29701093257160227,-0.29207560997826276,-0.27605152965505475,-0.27428022310978906,-0.2689853475943712,-0.26892916527447613,-0.2648457226530144,-0.25188002663150694,-0.25109574576694893,-0.24762367285994302,-0.23067264918443892,-0.22793020319777965,-0.22217694335135635,-0.2215019805207201,-0.21633761297307535,-0.21628755444348308,-0.21147394679768536,-0.2069679614179766,-0.205010223612259,-0.20340289589933605,-0.2029209939017634,-0.20084506639787691,-0.20001393570334053,-0.19961781735070788,-0.19198433810259355,-0.18364652785967875,-0.1826536951967578,-0.17960930261974692,-0.17633748594886,-0.17612556393339973,-0.1758848666665599,-0.17551719836297194,-0.1738438797086566,-0.17367959483853523,-0.17155007653953752,-0.1691021319738489,-0.15878559883695503,-0.15841192776361324,-0.15238865883391792,-0.15207060257914265,-0.13607115629277197,-0.13409474184840373,-0.1315798041520559,-0.12827999547334926,-0.12817027961053062,-0.12794035301399556,-0.12538676165572682,-0.123010803799412,-0.1155391122831441,-0.11311835934301351,-0.11235504724906574,-0.11152011955677836,-0.10956899444858935,-0.10592828301105676,-0.09824876296527678,-0.09338271066204454,-0.0916563063303021,-0.08324285974324584,-0.08206978907006977,-0.07485392159012784,-0.07252242834536726,-0.07089435358346724,-0.07019068064156957,-0.07016965514322318,-0.06897956371641094,-0.06727764593134547,-0.06635720367724672,-0.06525862130260322,-0.06252067474811712,-0.05987335258273532,-0.059617956046965216,-0.0563001282303718,-0.05578865836739958,-0.05577915307196093,-0.049165915510111034,-0.04697489801687936,-0.04619297888867395,-0.03807040805959004,-0.03550984694588383,-0.035461698870104294,-0.0297132539464848,-0.027452466383089943,-0.026672324899173035,-0.02585987111783523,-0.02259598886780207,-0.018344350408949446,-0.01570756484896699,-0.011359431522611436,-0.00892162733298163,-0.00892079182524497,-0.002083451005947771,-0.0002943977679185128,0.0,0.0,0.0,0.0,0.0,0.0,0.0,0.0,0.0,0.0,0.0,0.0,0.0,0.0,0.0,0.0,0.0,0.0,0.0,0.0,0.0,0.0,0.0,0.0,0.0,0.0,0.0,0.0,0.0,0.0,0.0,0.0,0.0,0.0,0.0,0.0,0.0,0.0,0.0,0.0,0.0,0.0,0.0,0.0,0.0,0.0,0.0,0.0,0.0,0.0,0.0,0.0,0.0,0.0,0.0,0.0,0.0,0.0,0.0,0.0,0.0,0.0,0.0,0.0,0.0,0.0,0.0,0.0,0.0,0.0,0.0,0.0,0.0,0.0,0.0,0.0,0.0,0.0,0.0,0.0,0.0,0.0,0.0,0.0,0.0,0.0,0.0,0.0,0.0,0.0,0.0,0.0,0.0,0.009419507223522252,0.010132045609923222,0.014311257780307549,0.018639062012206404,0.018673063381114203,0.01896350280206012,0.019545569816783754,0.02099746035857053,0.03105775016214895,0.03158225405930412,0.03383781809984036,0.03463425802347745,0.034637023298840885,0.0353703076139155,0.036870381582753194,0.03857900011909967,0.04181017869759336,0.045412655119917544,0.045827323383729246,0.04641230928747029,0.050938783169152346,0.054175106737294094,0.054440655796505866,0.05615121437995725,0.05764199045596404,0.0581218206574211,0.058869095196942424,0.06144096172125195,0.06153569036220362,0.061833837509678545,0.06305262666993192,0.06604806507688459,0.0667349521603481,0.0703690155274687,0.07830093717424744,0.07930010654812608,0.07947845163110233,0.07994134808945047,0.08208882524326885,0.08327055981113879,0.08336280961693295,0.09329105119046009,0.09330936067397243,0.09622748344100272,0.09692410957270318,0.1017217544815001,0.10587020367080156,0.10694485296257412,0.10696992849335413,0.11025257119654151,0.11179093044550747,0.11303602593481599,0.11467931835881703,0.11513095087348196,0.11804487599718531,0.11900687655471283,0.11937825480098264,0.11992598262536139,0.12026395066365862,0.12032251761858068,0.12187070703415454,0.12301427955342628,0.12869092544651994,0.13218720908079928,0.13262692343884538,0.13399053530338173,0.1366576176380909,0.13727877983392908,0.13740296894480875,0.1377425525094457,0.1382568938148615,0.13906159252357864,0.13961841451757245,0.14127133368965308,0.1441011720974546,0.14479207043442194,0.1488958437137493,0.15055335922229132,0.15083422305131633,0.15236483835894643,0.15291448792318363,0.1531346461859531,0.15313591114794212,0.15503022864347582,0.15634497991759855,0.16150243119469046,0.16205433043756792,0.16364829964083405,0.16614107031379152,0.16626537477335726,0.17063638213370566,0.17333015713455754,0.1771923202518543,0.17862090321321353,0.17895052719393742,0.17897384466402472,0.18746245811625423,0.18929235476045045,0.19293337664270807,0.19338474170656933,0.19470671104037462,0.19983231828278925,0.19995529067833903,0.200091155215344,0.20174627491332522,0.20204589906374018,0.2055489667179146,0.20719567500249406,0.20965437456031236,0.21146109989740117,0.21289132029371266,0.2142832406877653,0.21718932079123462,0.2172454283967482,0.2220534912750679,0.22292718030597675,0.2275597933696548,0.23037541067045406,0.23283552685751877,0.23484504923976707,0.23488723606681564,0.24249856854830612,0.2428268231606983,0.24561278924058402,0.2461574181726927,0.25330989202526494,0.2591159372950449,0.26037410783139653,0.2632390395113254,0.265137916935744,0.2661181646185187,0.26847257884427417,0.2687465881144278,0.26957321142631036,0.2696571126944446,0.2696629186935415,0.270446337786445,0.27151425757218567,0.2718172700221699,0.27811110904447056,0.2799923922088293,0.280146624388174,0.28149491031921975,0.2830830931882654,0.2845214177546322,0.28684661274136464,0.293938381669399,0.29472489072516145,0.29804011905363925,0.3007672770120479,0.30280042029407184,0.30406527186682114,0.30998097856312795,0.31039108725719894,0.31329423311222987,0.31457168541785974,0.3157429672030163,0.34374184746318937,0.3440069803915872,0.3442282372228004,0.34926777401766784,0.350830796856729,0.3508616805926441,0.3533731635024949,0.35992605138579703,0.3685079832878609,0.37130830897437095,0.3722406110870603,0.37249334110174104,0.37391874353370075,0.3779192693367694,0.3821394861063525,0.38652671039421543,0.3894917768407293,0.39087730881451216,0.3925479941114618,0.399431860954667,0.4003552311043657,0.40075728689572676,0.40556625416461095,0.4073569806324165,0.41786187528923446,0.41938584400402545,0.429032297871204,0.43550670716312645,0.45249120426632183,0.4679412135586696,0.4684989899878184,0.4807935238876029,0.4842900119338104,0.49902626013256907,0.512671366033801,0.5246048838686763,0.5254790059990812,0.5302961070907268,0.5746148001197215,0.6057904226588486,0.6214038346623046,0.6604039208017223,0.6672744624359996,0.7025618408727278,0.7142965051251979,0.8165948007034904,0.8294860730377286,0.8625612439908021,0.8940619172801268,0.9264185854318022,0.9279111188527126,0.9289562643034657,1.1849066069535688,1.248350015100609,1.2996736919350143,1.3185774318896444,1.359087825280492,1.4223405334144803,1.49126560593806,1.586428523562458],\"yaxis\":\"y\"}],                        {\"barmode\":\"relative\",\"legend\":{\"title\":{\"text\":\"variable\"},\"tracegroupgap\":0},\"margin\":{\"t\":60},\"template\":{\"data\":{\"bar\":[{\"error_x\":{\"color\":\"#2a3f5f\"},\"error_y\":{\"color\":\"#2a3f5f\"},\"marker\":{\"line\":{\"color\":\"#E5ECF6\",\"width\":0.5},\"pattern\":{\"fillmode\":\"overlay\",\"size\":10,\"solidity\":0.2}},\"type\":\"bar\"}],\"barpolar\":[{\"marker\":{\"line\":{\"color\":\"#E5ECF6\",\"width\":0.5},\"pattern\":{\"fillmode\":\"overlay\",\"size\":10,\"solidity\":0.2}},\"type\":\"barpolar\"}],\"carpet\":[{\"aaxis\":{\"endlinecolor\":\"#2a3f5f\",\"gridcolor\":\"white\",\"linecolor\":\"white\",\"minorgridcolor\":\"white\",\"startlinecolor\":\"#2a3f5f\"},\"baxis\":{\"endlinecolor\":\"#2a3f5f\",\"gridcolor\":\"white\",\"linecolor\":\"white\",\"minorgridcolor\":\"white\",\"startlinecolor\":\"#2a3f5f\"},\"type\":\"carpet\"}],\"choropleth\":[{\"colorbar\":{\"outlinewidth\":0,\"ticks\":\"\"},\"type\":\"choropleth\"}],\"contour\":[{\"colorbar\":{\"outlinewidth\":0,\"ticks\":\"\"},\"colorscale\":[[0.0,\"#0d0887\"],[0.1111111111111111,\"#46039f\"],[0.2222222222222222,\"#7201a8\"],[0.3333333333333333,\"#9c179e\"],[0.4444444444444444,\"#bd3786\"],[0.5555555555555556,\"#d8576b\"],[0.6666666666666666,\"#ed7953\"],[0.7777777777777778,\"#fb9f3a\"],[0.8888888888888888,\"#fdca26\"],[1.0,\"#f0f921\"]],\"type\":\"contour\"}],\"contourcarpet\":[{\"colorbar\":{\"outlinewidth\":0,\"ticks\":\"\"},\"type\":\"contourcarpet\"}],\"heatmap\":[{\"colorbar\":{\"outlinewidth\":0,\"ticks\":\"\"},\"colorscale\":[[0.0,\"#0d0887\"],[0.1111111111111111,\"#46039f\"],[0.2222222222222222,\"#7201a8\"],[0.3333333333333333,\"#9c179e\"],[0.4444444444444444,\"#bd3786\"],[0.5555555555555556,\"#d8576b\"],[0.6666666666666666,\"#ed7953\"],[0.7777777777777778,\"#fb9f3a\"],[0.8888888888888888,\"#fdca26\"],[1.0,\"#f0f921\"]],\"type\":\"heatmap\"}],\"heatmapgl\":[{\"colorbar\":{\"outlinewidth\":0,\"ticks\":\"\"},\"colorscale\":[[0.0,\"#0d0887\"],[0.1111111111111111,\"#46039f\"],[0.2222222222222222,\"#7201a8\"],[0.3333333333333333,\"#9c179e\"],[0.4444444444444444,\"#bd3786\"],[0.5555555555555556,\"#d8576b\"],[0.6666666666666666,\"#ed7953\"],[0.7777777777777778,\"#fb9f3a\"],[0.8888888888888888,\"#fdca26\"],[1.0,\"#f0f921\"]],\"type\":\"heatmapgl\"}],\"histogram\":[{\"marker\":{\"pattern\":{\"fillmode\":\"overlay\",\"size\":10,\"solidity\":0.2}},\"type\":\"histogram\"}],\"histogram2d\":[{\"colorbar\":{\"outlinewidth\":0,\"ticks\":\"\"},\"colorscale\":[[0.0,\"#0d0887\"],[0.1111111111111111,\"#46039f\"],[0.2222222222222222,\"#7201a8\"],[0.3333333333333333,\"#9c179e\"],[0.4444444444444444,\"#bd3786\"],[0.5555555555555556,\"#d8576b\"],[0.6666666666666666,\"#ed7953\"],[0.7777777777777778,\"#fb9f3a\"],[0.8888888888888888,\"#fdca26\"],[1.0,\"#f0f921\"]],\"type\":\"histogram2d\"}],\"histogram2dcontour\":[{\"colorbar\":{\"outlinewidth\":0,\"ticks\":\"\"},\"colorscale\":[[0.0,\"#0d0887\"],[0.1111111111111111,\"#46039f\"],[0.2222222222222222,\"#7201a8\"],[0.3333333333333333,\"#9c179e\"],[0.4444444444444444,\"#bd3786\"],[0.5555555555555556,\"#d8576b\"],[0.6666666666666666,\"#ed7953\"],[0.7777777777777778,\"#fb9f3a\"],[0.8888888888888888,\"#fdca26\"],[1.0,\"#f0f921\"]],\"type\":\"histogram2dcontour\"}],\"mesh3d\":[{\"colorbar\":{\"outlinewidth\":0,\"ticks\":\"\"},\"type\":\"mesh3d\"}],\"parcoords\":[{\"line\":{\"colorbar\":{\"outlinewidth\":0,\"ticks\":\"\"}},\"type\":\"parcoords\"}],\"pie\":[{\"automargin\":true,\"type\":\"pie\"}],\"scatter\":[{\"marker\":{\"colorbar\":{\"outlinewidth\":0,\"ticks\":\"\"}},\"type\":\"scatter\"}],\"scatter3d\":[{\"line\":{\"colorbar\":{\"outlinewidth\":0,\"ticks\":\"\"}},\"marker\":{\"colorbar\":{\"outlinewidth\":0,\"ticks\":\"\"}},\"type\":\"scatter3d\"}],\"scattercarpet\":[{\"marker\":{\"colorbar\":{\"outlinewidth\":0,\"ticks\":\"\"}},\"type\":\"scattercarpet\"}],\"scattergeo\":[{\"marker\":{\"colorbar\":{\"outlinewidth\":0,\"ticks\":\"\"}},\"type\":\"scattergeo\"}],\"scattergl\":[{\"marker\":{\"colorbar\":{\"outlinewidth\":0,\"ticks\":\"\"}},\"type\":\"scattergl\"}],\"scattermapbox\":[{\"marker\":{\"colorbar\":{\"outlinewidth\":0,\"ticks\":\"\"}},\"type\":\"scattermapbox\"}],\"scatterpolar\":[{\"marker\":{\"colorbar\":{\"outlinewidth\":0,\"ticks\":\"\"}},\"type\":\"scatterpolar\"}],\"scatterpolargl\":[{\"marker\":{\"colorbar\":{\"outlinewidth\":0,\"ticks\":\"\"}},\"type\":\"scatterpolargl\"}],\"scatterternary\":[{\"marker\":{\"colorbar\":{\"outlinewidth\":0,\"ticks\":\"\"}},\"type\":\"scatterternary\"}],\"surface\":[{\"colorbar\":{\"outlinewidth\":0,\"ticks\":\"\"},\"colorscale\":[[0.0,\"#0d0887\"],[0.1111111111111111,\"#46039f\"],[0.2222222222222222,\"#7201a8\"],[0.3333333333333333,\"#9c179e\"],[0.4444444444444444,\"#bd3786\"],[0.5555555555555556,\"#d8576b\"],[0.6666666666666666,\"#ed7953\"],[0.7777777777777778,\"#fb9f3a\"],[0.8888888888888888,\"#fdca26\"],[1.0,\"#f0f921\"]],\"type\":\"surface\"}],\"table\":[{\"cells\":{\"fill\":{\"color\":\"#EBF0F8\"},\"line\":{\"color\":\"white\"}},\"header\":{\"fill\":{\"color\":\"#C8D4E3\"},\"line\":{\"color\":\"white\"}},\"type\":\"table\"}]},\"layout\":{\"annotationdefaults\":{\"arrowcolor\":\"#2a3f5f\",\"arrowhead\":0,\"arrowwidth\":1},\"autotypenumbers\":\"strict\",\"coloraxis\":{\"colorbar\":{\"outlinewidth\":0,\"ticks\":\"\"}},\"colorscale\":{\"diverging\":[[0,\"#8e0152\"],[0.1,\"#c51b7d\"],[0.2,\"#de77ae\"],[0.3,\"#f1b6da\"],[0.4,\"#fde0ef\"],[0.5,\"#f7f7f7\"],[0.6,\"#e6f5d0\"],[0.7,\"#b8e186\"],[0.8,\"#7fbc41\"],[0.9,\"#4d9221\"],[1,\"#276419\"]],\"sequential\":[[0.0,\"#0d0887\"],[0.1111111111111111,\"#46039f\"],[0.2222222222222222,\"#7201a8\"],[0.3333333333333333,\"#9c179e\"],[0.4444444444444444,\"#bd3786\"],[0.5555555555555556,\"#d8576b\"],[0.6666666666666666,\"#ed7953\"],[0.7777777777777778,\"#fb9f3a\"],[0.8888888888888888,\"#fdca26\"],[1.0,\"#f0f921\"]],\"sequentialminus\":[[0.0,\"#0d0887\"],[0.1111111111111111,\"#46039f\"],[0.2222222222222222,\"#7201a8\"],[0.3333333333333333,\"#9c179e\"],[0.4444444444444444,\"#bd3786\"],[0.5555555555555556,\"#d8576b\"],[0.6666666666666666,\"#ed7953\"],[0.7777777777777778,\"#fb9f3a\"],[0.8888888888888888,\"#fdca26\"],[1.0,\"#f0f921\"]]},\"colorway\":[\"#636efa\",\"#EF553B\",\"#00cc96\",\"#ab63fa\",\"#FFA15A\",\"#19d3f3\",\"#FF6692\",\"#B6E880\",\"#FF97FF\",\"#FECB52\"],\"font\":{\"color\":\"#2a3f5f\"},\"geo\":{\"bgcolor\":\"white\",\"lakecolor\":\"white\",\"landcolor\":\"#E5ECF6\",\"showlakes\":true,\"showland\":true,\"subunitcolor\":\"white\"},\"hoverlabel\":{\"align\":\"left\"},\"hovermode\":\"closest\",\"mapbox\":{\"style\":\"light\"},\"paper_bgcolor\":\"white\",\"plot_bgcolor\":\"#E5ECF6\",\"polar\":{\"angularaxis\":{\"gridcolor\":\"white\",\"linecolor\":\"white\",\"ticks\":\"\"},\"bgcolor\":\"#E5ECF6\",\"radialaxis\":{\"gridcolor\":\"white\",\"linecolor\":\"white\",\"ticks\":\"\"}},\"scene\":{\"xaxis\":{\"backgroundcolor\":\"#E5ECF6\",\"gridcolor\":\"white\",\"gridwidth\":2,\"linecolor\":\"white\",\"showbackground\":true,\"ticks\":\"\",\"zerolinecolor\":\"white\"},\"yaxis\":{\"backgroundcolor\":\"#E5ECF6\",\"gridcolor\":\"white\",\"gridwidth\":2,\"linecolor\":\"white\",\"showbackground\":true,\"ticks\":\"\",\"zerolinecolor\":\"white\"},\"zaxis\":{\"backgroundcolor\":\"#E5ECF6\",\"gridcolor\":\"white\",\"gridwidth\":2,\"linecolor\":\"white\",\"showbackground\":true,\"ticks\":\"\",\"zerolinecolor\":\"white\"}},\"shapedefaults\":{\"line\":{\"color\":\"#2a3f5f\"}},\"ternary\":{\"aaxis\":{\"gridcolor\":\"white\",\"linecolor\":\"white\",\"ticks\":\"\"},\"baxis\":{\"gridcolor\":\"white\",\"linecolor\":\"white\",\"ticks\":\"\"},\"bgcolor\":\"#E5ECF6\",\"caxis\":{\"gridcolor\":\"white\",\"linecolor\":\"white\",\"ticks\":\"\"}},\"title\":{\"x\":0.05},\"xaxis\":{\"automargin\":true,\"gridcolor\":\"white\",\"linecolor\":\"white\",\"ticks\":\"\",\"title\":{\"standoff\":15},\"zerolinecolor\":\"white\",\"zerolinewidth\":2},\"yaxis\":{\"automargin\":true,\"gridcolor\":\"white\",\"linecolor\":\"white\",\"ticks\":\"\",\"title\":{\"standoff\":15},\"zerolinecolor\":\"white\",\"zerolinewidth\":2}}},\"xaxis\":{\"anchor\":\"y\",\"domain\":[0.0,1.0],\"title\":{\"text\":\"index\"}},\"yaxis\":{\"anchor\":\"x\",\"domain\":[0.0,1.0],\"title\":{\"text\":\"value\"}}},                        {\"responsive\": true}                    ).then(function(){\n",
       "                            \n",
       "var gd = document.getElementById('0e007633-7018-40c1-b6be-1db02014c47b');\n",
       "var x = new MutationObserver(function (mutations, observer) {{\n",
       "        var display = window.getComputedStyle(gd).display;\n",
       "        if (!display || display === 'none') {{\n",
       "            console.log([gd, 'removed!']);\n",
       "            Plotly.purge(gd);\n",
       "            observer.disconnect();\n",
       "        }}\n",
       "}});\n",
       "\n",
       "// Listen for the removal of the full notebook cells\n",
       "var notebookContainer = gd.closest('#notebook-container');\n",
       "if (notebookContainer) {{\n",
       "    x.observe(notebookContainer, {childList: true});\n",
       "}}\n",
       "\n",
       "// Listen for the clearing of the current output cell\n",
       "var outputEl = gd.closest('.output');\n",
       "if (outputEl) {{\n",
       "    x.observe(outputEl, {childList: true});\n",
       "}}\n",
       "\n",
       "                        })                };                });            </script>        </div>"
      ]
     },
     "metadata": {},
     "output_type": "display_data"
    }
   ],
   "source": [
    "### Basic\n",
    "px.bar(sorted(pair_basic_all_sequrities))"
   ]
  },
  {
   "cell_type": "code",
   "execution_count": 611,
   "id": "extended-pencil",
   "metadata": {},
   "outputs": [
    {
     "data": {
      "application/vnd.plotly.v1+json": {
       "config": {
        "plotlyServerURL": "https://plot.ly"
       },
       "data": [
        {
         "alignmentgroup": "True",
         "hovertemplate": "variable=0<br>index=%{x}<br>value=%{y}<extra></extra>",
         "legendgroup": "0",
         "marker": {
          "color": "#636efa",
          "pattern": {
           "shape": ""
          }
         },
         "name": "0",
         "offsetgroup": "0",
         "orientation": "v",
         "showlegend": true,
         "textposition": "auto",
         "type": "bar",
         "x": [
          0,
          1,
          2,
          3,
          4,
          5,
          6,
          7,
          8,
          9,
          10,
          11,
          12,
          13,
          14,
          15,
          16,
          17,
          18,
          19,
          20,
          21,
          22,
          23,
          24,
          25,
          26,
          27,
          28,
          29,
          30,
          31,
          32,
          33,
          34,
          35,
          36,
          37,
          38,
          39,
          40,
          41,
          42,
          43,
          44,
          45,
          46,
          47,
          48,
          49,
          50,
          51,
          52,
          53,
          54,
          55,
          56,
          57,
          58,
          59,
          60,
          61,
          62,
          63,
          64,
          65,
          66,
          67,
          68,
          69,
          70,
          71,
          72,
          73,
          74,
          75,
          76,
          77,
          78,
          79,
          80,
          81,
          82,
          83,
          84,
          85,
          86,
          87,
          88,
          89,
          90,
          91,
          92,
          93,
          94,
          95,
          96,
          97,
          98,
          99,
          100,
          101,
          102,
          103,
          104,
          105,
          106,
          107,
          108,
          109,
          110,
          111,
          112,
          113,
          114,
          115,
          116,
          117,
          118,
          119,
          120,
          121,
          122,
          123,
          124,
          125,
          126,
          127,
          128,
          129,
          130,
          131,
          132,
          133,
          134,
          135,
          136,
          137,
          138,
          139,
          140,
          141,
          142,
          143,
          144,
          145,
          146,
          147,
          148,
          149,
          150,
          151,
          152,
          153,
          154,
          155,
          156,
          157,
          158,
          159,
          160,
          161,
          162,
          163,
          164,
          165,
          166,
          167,
          168,
          169,
          170,
          171,
          172,
          173,
          174,
          175,
          176,
          177,
          178,
          179,
          180,
          181,
          182,
          183,
          184,
          185,
          186,
          187,
          188,
          189,
          190,
          191,
          192,
          193,
          194,
          195,
          196,
          197,
          198,
          199,
          200,
          201,
          202,
          203,
          204,
          205,
          206,
          207,
          208,
          209,
          210,
          211,
          212,
          213,
          214,
          215,
          216,
          217,
          218,
          219,
          220,
          221,
          222,
          223,
          224,
          225,
          226,
          227,
          228,
          229,
          230,
          231,
          232,
          233,
          234,
          235,
          236,
          237,
          238,
          239,
          240,
          241,
          242,
          243,
          244,
          245,
          246,
          247,
          248,
          249,
          250,
          251,
          252,
          253,
          254,
          255,
          256,
          257,
          258,
          259,
          260,
          261,
          262,
          263,
          264,
          265,
          266,
          267,
          268,
          269,
          270,
          271,
          272,
          273,
          274,
          275,
          276,
          277,
          278,
          279,
          280,
          281,
          282,
          283,
          284,
          285,
          286,
          287,
          288,
          289,
          290,
          291,
          292,
          293,
          294,
          295,
          296,
          297,
          298,
          299,
          300,
          301,
          302,
          303,
          304,
          305,
          306,
          307,
          308,
          309,
          310,
          311,
          312,
          313,
          314,
          315,
          316,
          317,
          318,
          319,
          320,
          321,
          322,
          323,
          324,
          325,
          326,
          327,
          328,
          329,
          330,
          331,
          332,
          333,
          334,
          335,
          336,
          337,
          338,
          339,
          340,
          341,
          342,
          343,
          344,
          345,
          346,
          347,
          348,
          349,
          350,
          351,
          352,
          353,
          354,
          355,
          356,
          357,
          358,
          359,
          360,
          361,
          362,
          363,
          364,
          365,
          366,
          367,
          368,
          369,
          370,
          371,
          372,
          373,
          374,
          375,
          376,
          377,
          378,
          379,
          380,
          381,
          382,
          383,
          384,
          385,
          386,
          387,
          388,
          389,
          390,
          391,
          392,
          393,
          394,
          395,
          396,
          397,
          398,
          399,
          400,
          401,
          402,
          403,
          404,
          405,
          406,
          407,
          408,
          409,
          410,
          411,
          412,
          413,
          414,
          415,
          416,
          417,
          418,
          419,
          420,
          421,
          422,
          423,
          424
         ],
         "xaxis": "x",
         "y": [
          -0.8325232937715971,
          -0.82378997579007,
          -0.8195398672212058,
          -0.816671987544433,
          -0.69759029795533,
          -0.6850195549317928,
          -0.4459034309229574,
          -0.4452069494003731,
          -0.4425302419700714,
          -0.4377141540143764,
          -0.42151620163703557,
          -0.40270468717185864,
          -0.3783547233759493,
          -0.37185145263523944,
          -0.3653949649010588,
          -0.3428485709826702,
          -0.31135885014134757,
          -0.31049603618049143,
          -0.2936707314411013,
          -0.28716118091373466,
          -0.27168325169233964,
          -0.2629057723071425,
          -0.25709856662833663,
          -0.25310892914669747,
          -0.249366428735486,
          -0.24247454452882256,
          -0.24224928425514292,
          -0.2355133596182467,
          -0.23433633781232913,
          -0.2265298598970681,
          -0.2264427567212495,
          -0.2156230674865835,
          -0.21546186257917357,
          -0.20231787927114517,
          -0.19873112600595794,
          -0.1798390460231895,
          -0.17852544391922462,
          -0.17547907338547378,
          -0.1740485453417421,
          -0.17372163476878288,
          -0.17150538156834988,
          -0.16636268211596245,
          -0.16561651832359955,
          -0.16179347700546354,
          -0.16023307637606332,
          -0.1550506467125906,
          -0.15455699456478703,
          -0.15284677903422908,
          -0.14927412205119,
          -0.14840301963008617,
          -0.14741021174211275,
          -0.14569696233023233,
          -0.1431952769869696,
          -0.13699502444683387,
          -0.13678528216859628,
          -0.12550578324432637,
          -0.12137415100184577,
          -0.11913534667829775,
          -0.11850783419333548,
          -0.08969809044214261,
          -0.08834077225241849,
          -0.08691034297174444,
          -0.0856282461370832,
          -0.08245935118131131,
          -0.08085129299029481,
          -0.08032340467445588,
          -0.07808064855551221,
          -0.07765054621426382,
          -0.07379135459131025,
          -0.07336988744008645,
          -0.07080059776943248,
          -0.054608257050693276,
          -0.05171707407626447,
          -0.05153638034973634,
          -0.04549598116011576,
          -0.04501429953518704,
          -0.03992247165590276,
          -0.03658722331382079,
          -0.036387765805038,
          -0.03601354113762961,
          -0.025483118502509585,
          -0.015474661182448278,
          -0.011063825822692351,
          -0.010076899639542756,
          -0.0059940514224344765,
          -0.0041760693998454945,
          -0.0019015152781322617,
          -0.001342797542925021,
          0,
          0,
          0,
          0,
          0,
          0,
          0,
          0,
          0,
          0,
          0,
          0,
          0,
          0,
          0,
          0,
          0,
          0,
          0,
          0,
          0,
          0,
          0,
          0,
          0,
          0,
          0,
          0,
          0,
          0,
          0,
          0,
          0,
          0,
          0,
          0,
          0,
          0,
          0,
          0,
          0,
          0,
          0,
          0,
          0,
          0,
          0,
          0,
          0,
          0,
          0,
          0,
          0,
          0,
          0,
          0,
          0,
          0,
          0,
          0,
          0,
          0,
          0,
          0,
          0,
          0,
          0,
          0,
          0,
          0,
          0,
          0,
          0,
          0,
          0,
          0,
          0,
          0,
          0,
          0,
          0,
          0,
          0,
          0,
          0,
          0,
          0,
          0,
          0,
          0,
          0,
          0,
          0,
          0,
          0,
          0,
          0,
          0,
          0,
          0,
          0,
          0,
          0,
          0,
          0,
          0,
          0,
          0,
          0,
          0,
          0,
          0,
          0,
          0,
          0,
          0,
          0,
          0,
          0,
          0,
          0,
          0,
          0,
          0,
          0,
          0,
          0,
          0,
          0,
          0,
          0,
          0,
          0,
          0,
          0,
          0,
          0,
          0,
          0,
          0,
          0,
          0,
          0,
          0,
          0,
          0,
          0,
          0,
          0,
          0,
          0,
          0,
          0,
          0,
          0,
          0,
          0,
          0,
          0,
          0,
          0,
          0,
          0,
          0,
          0,
          0,
          0,
          0,
          0,
          0,
          0,
          0,
          0,
          0.0004385345113067096,
          0.0027094425728193057,
          0.012717109349426381,
          0.0200251845781233,
          0.02203303572989168,
          0.028743307767727592,
          0.028791963384796483,
          0.042712612164387924,
          0.047800588763336815,
          0.0488403096185073,
          0.05147162740049924,
          0.05433795909598734,
          0.056922923414408744,
          0.05794612727543247,
          0.06549768478625555,
          0.0788397444931679,
          0.08592601000481725,
          0.08837247196786857,
          0.09056778103629846,
          0.09314794886734831,
          0.09316779966507682,
          0.09768636182647744,
          0.09816727018412415,
          0.09989365415700051,
          0.10148646427285923,
          0.10836644615593341,
          0.11125607932099152,
          0.11274999938241655,
          0.11665003007087177,
          0.11762538977829735,
          0.11825280214696476,
          0.12256152455618996,
          0.129230477797595,
          0.13532969498112468,
          0.13627332175999923,
          0.14201253245137915,
          0.14792410590370453,
          0.15225080894523085,
          0.15245689901329199,
          0.15375309759890982,
          0.15653434933854196,
          0.15711989396992396,
          0.15823992721583668,
          0.1589783374341398,
          0.16036135648987893,
          0.16513723587422327,
          0.1729886554983406,
          0.1753982402401064,
          0.18001592854732418,
          0.18916548458035512,
          0.18982497519141783,
          0.190509293259623,
          0.19232148601579335,
          0.19489759105676727,
          0.19513562959455166,
          0.19536478801909873,
          0.19542538115333907,
          0.19636608925337587,
          0.19745833254650025,
          0.1991820871631136,
          0.19927287853975995,
          0.21094908436127494,
          0.21111092855087055,
          0.21252718254379213,
          0.21662258017768748,
          0.21663214121010044,
          0.21697303889852768,
          0.2200761309210722,
          0.22039104763985806,
          0.22426015608103125,
          0.22615312498643614,
          0.22699750219476514,
          0.22992611736879007,
          0.2328068232034172,
          0.23378274715913916,
          0.24068605852183378,
          0.2444942349599828,
          0.24657953338969577,
          0.2542929676482527,
          0.25463135043151525,
          0.2553791131837433,
          0.2607881773776186,
          0.2624405897802844,
          0.26394192071665024,
          0.2641757279108318,
          0.2660370591246406,
          0.26959470235741956,
          0.26978817964655655,
          0.2725453811128426,
          0.27382929818784113,
          0.2756429560124139,
          0.2769089554001818,
          0.2769883895348431,
          0.2774738267969134,
          0.27752663670572475,
          0.2827597380574517,
          0.2842648043920907,
          0.2876895327980819,
          0.2917731478738086,
          0.29195623106300567,
          0.29410694861649467,
          0.29639722593595985,
          0.2967555792910385,
          0.29787618234427765,
          0.29804011905363925,
          0.2994593094045057,
          0.3012368495247024,
          0.30281035350195773,
          0.3053054517481739,
          0.31352591628662246,
          0.3148009471801082,
          0.3239016106388394,
          0.32477065077339207,
          0.3261458638631385,
          0.32785712689523616,
          0.3280717882918007,
          0.33403325054299227,
          0.3371912254029746,
          0.33850205107010756,
          0.3535062947714185,
          0.35869752454404,
          0.36467750963006235,
          0.3650770225868999,
          0.3726273097951598,
          0.37539167770925014,
          0.4022719326478315,
          0.4129666246299738,
          0.4158714118862662,
          0.42252819014454546,
          0.4346050158405641,
          0.43670048890126817,
          0.4397917279162933,
          0.4415420899304042,
          0.4417173107549843,
          0.4548024847525413,
          0.46145767291066264,
          0.47512371079649557,
          0.47661488415891856,
          0.48096555832428883,
          0.4935849900978493,
          0.49666341485818566,
          0.5251260739119274,
          0.5424588210020196,
          0.5481647916273902,
          0.5549100376565606,
          0.5916018320173851,
          0.6045048537885033,
          0.6409106761871628,
          0.6445211988489989,
          0.6606377317326528,
          0.6997433221635135,
          0.7640787552992027,
          0.7882353568313332,
          0.8165948007034904,
          0.8214940773676062,
          0.9240314939077918,
          1.0790368127943601,
          1.1248106604357015,
          1.1758517279648633,
          1.1849066069535685,
          1.21696190612546,
          1.4071201901580044,
          1.4842958344252262,
          1.729171662545661
         ],
         "yaxis": "y"
        }
       ],
       "layout": {
        "barmode": "relative",
        "legend": {
         "title": {
          "text": "variable"
         },
         "tracegroupgap": 0
        },
        "margin": {
         "t": 60
        },
        "template": {
         "data": {
          "bar": [
           {
            "error_x": {
             "color": "#2a3f5f"
            },
            "error_y": {
             "color": "#2a3f5f"
            },
            "marker": {
             "line": {
              "color": "#E5ECF6",
              "width": 0.5
             },
             "pattern": {
              "fillmode": "overlay",
              "size": 10,
              "solidity": 0.2
             }
            },
            "type": "bar"
           }
          ],
          "barpolar": [
           {
            "marker": {
             "line": {
              "color": "#E5ECF6",
              "width": 0.5
             },
             "pattern": {
              "fillmode": "overlay",
              "size": 10,
              "solidity": 0.2
             }
            },
            "type": "barpolar"
           }
          ],
          "carpet": [
           {
            "aaxis": {
             "endlinecolor": "#2a3f5f",
             "gridcolor": "white",
             "linecolor": "white",
             "minorgridcolor": "white",
             "startlinecolor": "#2a3f5f"
            },
            "baxis": {
             "endlinecolor": "#2a3f5f",
             "gridcolor": "white",
             "linecolor": "white",
             "minorgridcolor": "white",
             "startlinecolor": "#2a3f5f"
            },
            "type": "carpet"
           }
          ],
          "choropleth": [
           {
            "colorbar": {
             "outlinewidth": 0,
             "ticks": ""
            },
            "type": "choropleth"
           }
          ],
          "contour": [
           {
            "colorbar": {
             "outlinewidth": 0,
             "ticks": ""
            },
            "colorscale": [
             [
              0,
              "#0d0887"
             ],
             [
              0.1111111111111111,
              "#46039f"
             ],
             [
              0.2222222222222222,
              "#7201a8"
             ],
             [
              0.3333333333333333,
              "#9c179e"
             ],
             [
              0.4444444444444444,
              "#bd3786"
             ],
             [
              0.5555555555555556,
              "#d8576b"
             ],
             [
              0.6666666666666666,
              "#ed7953"
             ],
             [
              0.7777777777777778,
              "#fb9f3a"
             ],
             [
              0.8888888888888888,
              "#fdca26"
             ],
             [
              1,
              "#f0f921"
             ]
            ],
            "type": "contour"
           }
          ],
          "contourcarpet": [
           {
            "colorbar": {
             "outlinewidth": 0,
             "ticks": ""
            },
            "type": "contourcarpet"
           }
          ],
          "heatmap": [
           {
            "colorbar": {
             "outlinewidth": 0,
             "ticks": ""
            },
            "colorscale": [
             [
              0,
              "#0d0887"
             ],
             [
              0.1111111111111111,
              "#46039f"
             ],
             [
              0.2222222222222222,
              "#7201a8"
             ],
             [
              0.3333333333333333,
              "#9c179e"
             ],
             [
              0.4444444444444444,
              "#bd3786"
             ],
             [
              0.5555555555555556,
              "#d8576b"
             ],
             [
              0.6666666666666666,
              "#ed7953"
             ],
             [
              0.7777777777777778,
              "#fb9f3a"
             ],
             [
              0.8888888888888888,
              "#fdca26"
             ],
             [
              1,
              "#f0f921"
             ]
            ],
            "type": "heatmap"
           }
          ],
          "heatmapgl": [
           {
            "colorbar": {
             "outlinewidth": 0,
             "ticks": ""
            },
            "colorscale": [
             [
              0,
              "#0d0887"
             ],
             [
              0.1111111111111111,
              "#46039f"
             ],
             [
              0.2222222222222222,
              "#7201a8"
             ],
             [
              0.3333333333333333,
              "#9c179e"
             ],
             [
              0.4444444444444444,
              "#bd3786"
             ],
             [
              0.5555555555555556,
              "#d8576b"
             ],
             [
              0.6666666666666666,
              "#ed7953"
             ],
             [
              0.7777777777777778,
              "#fb9f3a"
             ],
             [
              0.8888888888888888,
              "#fdca26"
             ],
             [
              1,
              "#f0f921"
             ]
            ],
            "type": "heatmapgl"
           }
          ],
          "histogram": [
           {
            "marker": {
             "pattern": {
              "fillmode": "overlay",
              "size": 10,
              "solidity": 0.2
             }
            },
            "type": "histogram"
           }
          ],
          "histogram2d": [
           {
            "colorbar": {
             "outlinewidth": 0,
             "ticks": ""
            },
            "colorscale": [
             [
              0,
              "#0d0887"
             ],
             [
              0.1111111111111111,
              "#46039f"
             ],
             [
              0.2222222222222222,
              "#7201a8"
             ],
             [
              0.3333333333333333,
              "#9c179e"
             ],
             [
              0.4444444444444444,
              "#bd3786"
             ],
             [
              0.5555555555555556,
              "#d8576b"
             ],
             [
              0.6666666666666666,
              "#ed7953"
             ],
             [
              0.7777777777777778,
              "#fb9f3a"
             ],
             [
              0.8888888888888888,
              "#fdca26"
             ],
             [
              1,
              "#f0f921"
             ]
            ],
            "type": "histogram2d"
           }
          ],
          "histogram2dcontour": [
           {
            "colorbar": {
             "outlinewidth": 0,
             "ticks": ""
            },
            "colorscale": [
             [
              0,
              "#0d0887"
             ],
             [
              0.1111111111111111,
              "#46039f"
             ],
             [
              0.2222222222222222,
              "#7201a8"
             ],
             [
              0.3333333333333333,
              "#9c179e"
             ],
             [
              0.4444444444444444,
              "#bd3786"
             ],
             [
              0.5555555555555556,
              "#d8576b"
             ],
             [
              0.6666666666666666,
              "#ed7953"
             ],
             [
              0.7777777777777778,
              "#fb9f3a"
             ],
             [
              0.8888888888888888,
              "#fdca26"
             ],
             [
              1,
              "#f0f921"
             ]
            ],
            "type": "histogram2dcontour"
           }
          ],
          "mesh3d": [
           {
            "colorbar": {
             "outlinewidth": 0,
             "ticks": ""
            },
            "type": "mesh3d"
           }
          ],
          "parcoords": [
           {
            "line": {
             "colorbar": {
              "outlinewidth": 0,
              "ticks": ""
             }
            },
            "type": "parcoords"
           }
          ],
          "pie": [
           {
            "automargin": true,
            "type": "pie"
           }
          ],
          "scatter": [
           {
            "marker": {
             "colorbar": {
              "outlinewidth": 0,
              "ticks": ""
             }
            },
            "type": "scatter"
           }
          ],
          "scatter3d": [
           {
            "line": {
             "colorbar": {
              "outlinewidth": 0,
              "ticks": ""
             }
            },
            "marker": {
             "colorbar": {
              "outlinewidth": 0,
              "ticks": ""
             }
            },
            "type": "scatter3d"
           }
          ],
          "scattercarpet": [
           {
            "marker": {
             "colorbar": {
              "outlinewidth": 0,
              "ticks": ""
             }
            },
            "type": "scattercarpet"
           }
          ],
          "scattergeo": [
           {
            "marker": {
             "colorbar": {
              "outlinewidth": 0,
              "ticks": ""
             }
            },
            "type": "scattergeo"
           }
          ],
          "scattergl": [
           {
            "marker": {
             "colorbar": {
              "outlinewidth": 0,
              "ticks": ""
             }
            },
            "type": "scattergl"
           }
          ],
          "scattermapbox": [
           {
            "marker": {
             "colorbar": {
              "outlinewidth": 0,
              "ticks": ""
             }
            },
            "type": "scattermapbox"
           }
          ],
          "scatterpolar": [
           {
            "marker": {
             "colorbar": {
              "outlinewidth": 0,
              "ticks": ""
             }
            },
            "type": "scatterpolar"
           }
          ],
          "scatterpolargl": [
           {
            "marker": {
             "colorbar": {
              "outlinewidth": 0,
              "ticks": ""
             }
            },
            "type": "scatterpolargl"
           }
          ],
          "scatterternary": [
           {
            "marker": {
             "colorbar": {
              "outlinewidth": 0,
              "ticks": ""
             }
            },
            "type": "scatterternary"
           }
          ],
          "surface": [
           {
            "colorbar": {
             "outlinewidth": 0,
             "ticks": ""
            },
            "colorscale": [
             [
              0,
              "#0d0887"
             ],
             [
              0.1111111111111111,
              "#46039f"
             ],
             [
              0.2222222222222222,
              "#7201a8"
             ],
             [
              0.3333333333333333,
              "#9c179e"
             ],
             [
              0.4444444444444444,
              "#bd3786"
             ],
             [
              0.5555555555555556,
              "#d8576b"
             ],
             [
              0.6666666666666666,
              "#ed7953"
             ],
             [
              0.7777777777777778,
              "#fb9f3a"
             ],
             [
              0.8888888888888888,
              "#fdca26"
             ],
             [
              1,
              "#f0f921"
             ]
            ],
            "type": "surface"
           }
          ],
          "table": [
           {
            "cells": {
             "fill": {
              "color": "#EBF0F8"
             },
             "line": {
              "color": "white"
             }
            },
            "header": {
             "fill": {
              "color": "#C8D4E3"
             },
             "line": {
              "color": "white"
             }
            },
            "type": "table"
           }
          ]
         },
         "layout": {
          "annotationdefaults": {
           "arrowcolor": "#2a3f5f",
           "arrowhead": 0,
           "arrowwidth": 1
          },
          "autotypenumbers": "strict",
          "coloraxis": {
           "colorbar": {
            "outlinewidth": 0,
            "ticks": ""
           }
          },
          "colorscale": {
           "diverging": [
            [
             0,
             "#8e0152"
            ],
            [
             0.1,
             "#c51b7d"
            ],
            [
             0.2,
             "#de77ae"
            ],
            [
             0.3,
             "#f1b6da"
            ],
            [
             0.4,
             "#fde0ef"
            ],
            [
             0.5,
             "#f7f7f7"
            ],
            [
             0.6,
             "#e6f5d0"
            ],
            [
             0.7,
             "#b8e186"
            ],
            [
             0.8,
             "#7fbc41"
            ],
            [
             0.9,
             "#4d9221"
            ],
            [
             1,
             "#276419"
            ]
           ],
           "sequential": [
            [
             0,
             "#0d0887"
            ],
            [
             0.1111111111111111,
             "#46039f"
            ],
            [
             0.2222222222222222,
             "#7201a8"
            ],
            [
             0.3333333333333333,
             "#9c179e"
            ],
            [
             0.4444444444444444,
             "#bd3786"
            ],
            [
             0.5555555555555556,
             "#d8576b"
            ],
            [
             0.6666666666666666,
             "#ed7953"
            ],
            [
             0.7777777777777778,
             "#fb9f3a"
            ],
            [
             0.8888888888888888,
             "#fdca26"
            ],
            [
             1,
             "#f0f921"
            ]
           ],
           "sequentialminus": [
            [
             0,
             "#0d0887"
            ],
            [
             0.1111111111111111,
             "#46039f"
            ],
            [
             0.2222222222222222,
             "#7201a8"
            ],
            [
             0.3333333333333333,
             "#9c179e"
            ],
            [
             0.4444444444444444,
             "#bd3786"
            ],
            [
             0.5555555555555556,
             "#d8576b"
            ],
            [
             0.6666666666666666,
             "#ed7953"
            ],
            [
             0.7777777777777778,
             "#fb9f3a"
            ],
            [
             0.8888888888888888,
             "#fdca26"
            ],
            [
             1,
             "#f0f921"
            ]
           ]
          },
          "colorway": [
           "#636efa",
           "#EF553B",
           "#00cc96",
           "#ab63fa",
           "#FFA15A",
           "#19d3f3",
           "#FF6692",
           "#B6E880",
           "#FF97FF",
           "#FECB52"
          ],
          "font": {
           "color": "#2a3f5f"
          },
          "geo": {
           "bgcolor": "white",
           "lakecolor": "white",
           "landcolor": "#E5ECF6",
           "showlakes": true,
           "showland": true,
           "subunitcolor": "white"
          },
          "hoverlabel": {
           "align": "left"
          },
          "hovermode": "closest",
          "mapbox": {
           "style": "light"
          },
          "paper_bgcolor": "white",
          "plot_bgcolor": "#E5ECF6",
          "polar": {
           "angularaxis": {
            "gridcolor": "white",
            "linecolor": "white",
            "ticks": ""
           },
           "bgcolor": "#E5ECF6",
           "radialaxis": {
            "gridcolor": "white",
            "linecolor": "white",
            "ticks": ""
           }
          },
          "scene": {
           "xaxis": {
            "backgroundcolor": "#E5ECF6",
            "gridcolor": "white",
            "gridwidth": 2,
            "linecolor": "white",
            "showbackground": true,
            "ticks": "",
            "zerolinecolor": "white"
           },
           "yaxis": {
            "backgroundcolor": "#E5ECF6",
            "gridcolor": "white",
            "gridwidth": 2,
            "linecolor": "white",
            "showbackground": true,
            "ticks": "",
            "zerolinecolor": "white"
           },
           "zaxis": {
            "backgroundcolor": "#E5ECF6",
            "gridcolor": "white",
            "gridwidth": 2,
            "linecolor": "white",
            "showbackground": true,
            "ticks": "",
            "zerolinecolor": "white"
           }
          },
          "shapedefaults": {
           "line": {
            "color": "#2a3f5f"
           }
          },
          "ternary": {
           "aaxis": {
            "gridcolor": "white",
            "linecolor": "white",
            "ticks": ""
           },
           "baxis": {
            "gridcolor": "white",
            "linecolor": "white",
            "ticks": ""
           },
           "bgcolor": "#E5ECF6",
           "caxis": {
            "gridcolor": "white",
            "linecolor": "white",
            "ticks": ""
           }
          },
          "title": {
           "x": 0.05
          },
          "xaxis": {
           "automargin": true,
           "gridcolor": "white",
           "linecolor": "white",
           "ticks": "",
           "title": {
            "standoff": 15
           },
           "zerolinecolor": "white",
           "zerolinewidth": 2
          },
          "yaxis": {
           "automargin": true,
           "gridcolor": "white",
           "linecolor": "white",
           "ticks": "",
           "title": {
            "standoff": 15
           },
           "zerolinecolor": "white",
           "zerolinewidth": 2
          }
         }
        },
        "xaxis": {
         "anchor": "y",
         "domain": [
          0,
          1
         ],
         "title": {
          "text": "index"
         }
        },
        "yaxis": {
         "anchor": "x",
         "domain": [
          0,
          1
         ],
         "title": {
          "text": "value"
         }
        }
       }
      },
      "text/html": [
       "<div>                            <div id=\"4648ce53-0be0-4a7e-aa7c-ca09280999a2\" class=\"plotly-graph-div\" style=\"height:525px; width:100%;\"></div>            <script type=\"text/javascript\">                require([\"plotly\"], function(Plotly) {                    window.PLOTLYENV=window.PLOTLYENV || {};                                    if (document.getElementById(\"4648ce53-0be0-4a7e-aa7c-ca09280999a2\")) {                    Plotly.newPlot(                        \"4648ce53-0be0-4a7e-aa7c-ca09280999a2\",                        [{\"alignmentgroup\":\"True\",\"hovertemplate\":\"variable=0<br>index=%{x}<br>value=%{y}<extra></extra>\",\"legendgroup\":\"0\",\"marker\":{\"color\":\"#636efa\",\"pattern\":{\"shape\":\"\"}},\"name\":\"0\",\"offsetgroup\":\"0\",\"orientation\":\"v\",\"showlegend\":true,\"textposition\":\"auto\",\"type\":\"bar\",\"x\":[0,1,2,3,4,5,6,7,8,9,10,11,12,13,14,15,16,17,18,19,20,21,22,23,24,25,26,27,28,29,30,31,32,33,34,35,36,37,38,39,40,41,42,43,44,45,46,47,48,49,50,51,52,53,54,55,56,57,58,59,60,61,62,63,64,65,66,67,68,69,70,71,72,73,74,75,76,77,78,79,80,81,82,83,84,85,86,87,88,89,90,91,92,93,94,95,96,97,98,99,100,101,102,103,104,105,106,107,108,109,110,111,112,113,114,115,116,117,118,119,120,121,122,123,124,125,126,127,128,129,130,131,132,133,134,135,136,137,138,139,140,141,142,143,144,145,146,147,148,149,150,151,152,153,154,155,156,157,158,159,160,161,162,163,164,165,166,167,168,169,170,171,172,173,174,175,176,177,178,179,180,181,182,183,184,185,186,187,188,189,190,191,192,193,194,195,196,197,198,199,200,201,202,203,204,205,206,207,208,209,210,211,212,213,214,215,216,217,218,219,220,221,222,223,224,225,226,227,228,229,230,231,232,233,234,235,236,237,238,239,240,241,242,243,244,245,246,247,248,249,250,251,252,253,254,255,256,257,258,259,260,261,262,263,264,265,266,267,268,269,270,271,272,273,274,275,276,277,278,279,280,281,282,283,284,285,286,287,288,289,290,291,292,293,294,295,296,297,298,299,300,301,302,303,304,305,306,307,308,309,310,311,312,313,314,315,316,317,318,319,320,321,322,323,324,325,326,327,328,329,330,331,332,333,334,335,336,337,338,339,340,341,342,343,344,345,346,347,348,349,350,351,352,353,354,355,356,357,358,359,360,361,362,363,364,365,366,367,368,369,370,371,372,373,374,375,376,377,378,379,380,381,382,383,384,385,386,387,388,389,390,391,392,393,394,395,396,397,398,399,400,401,402,403,404,405,406,407,408,409,410,411,412,413,414,415,416,417,418,419,420,421,422,423,424],\"xaxis\":\"x\",\"y\":[-0.8325232937715971,-0.82378997579007,-0.8195398672212058,-0.816671987544433,-0.69759029795533,-0.6850195549317928,-0.4459034309229574,-0.4452069494003731,-0.4425302419700714,-0.4377141540143764,-0.42151620163703557,-0.40270468717185864,-0.3783547233759493,-0.37185145263523944,-0.3653949649010588,-0.3428485709826702,-0.31135885014134757,-0.31049603618049143,-0.2936707314411013,-0.28716118091373466,-0.27168325169233964,-0.2629057723071425,-0.25709856662833663,-0.25310892914669747,-0.249366428735486,-0.24247454452882256,-0.24224928425514292,-0.2355133596182467,-0.23433633781232913,-0.2265298598970681,-0.2264427567212495,-0.2156230674865835,-0.21546186257917357,-0.20231787927114517,-0.19873112600595794,-0.1798390460231895,-0.17852544391922462,-0.17547907338547378,-0.1740485453417421,-0.17372163476878288,-0.17150538156834988,-0.16636268211596245,-0.16561651832359955,-0.16179347700546354,-0.16023307637606332,-0.1550506467125906,-0.15455699456478703,-0.15284677903422908,-0.14927412205119,-0.14840301963008617,-0.14741021174211275,-0.14569696233023233,-0.1431952769869696,-0.13699502444683387,-0.13678528216859628,-0.12550578324432637,-0.12137415100184577,-0.11913534667829775,-0.11850783419333548,-0.08969809044214261,-0.08834077225241849,-0.08691034297174444,-0.0856282461370832,-0.08245935118131131,-0.08085129299029481,-0.08032340467445588,-0.07808064855551221,-0.07765054621426382,-0.07379135459131025,-0.07336988744008645,-0.07080059776943248,-0.054608257050693276,-0.05171707407626447,-0.05153638034973634,-0.04549598116011576,-0.04501429953518704,-0.03992247165590276,-0.03658722331382079,-0.036387765805038,-0.03601354113762961,-0.025483118502509585,-0.015474661182448278,-0.011063825822692351,-0.010076899639542756,-0.0059940514224344765,-0.0041760693998454945,-0.0019015152781322617,-0.001342797542925021,0.0,0.0,0.0,0.0,0.0,0.0,0.0,0.0,0.0,0.0,0.0,0.0,0.0,0.0,0.0,0.0,0.0,0.0,0.0,0.0,0.0,0.0,0.0,0.0,0.0,0.0,0.0,0.0,0.0,0.0,0.0,0.0,0.0,0.0,0.0,0.0,0.0,0.0,0.0,0.0,0.0,0.0,0.0,0.0,0.0,0.0,0.0,0.0,0.0,0.0,0.0,0.0,0.0,0.0,0.0,0.0,0.0,0.0,0.0,0.0,0.0,0.0,0.0,0.0,0.0,0.0,0.0,0.0,0.0,0.0,0.0,0.0,0.0,0.0,0.0,0.0,0.0,0.0,0.0,0.0,0.0,0.0,0.0,0.0,0.0,0.0,0.0,0.0,0.0,0.0,0.0,0.0,0.0,0.0,0.0,0.0,0.0,0.0,0.0,0.0,0.0,0.0,0.0,0.0,0.0,0.0,0.0,0.0,0.0,0.0,0.0,0.0,0.0,0.0,0.0,0.0,0.0,0.0,0.0,0.0,0.0,0.0,0.0,0.0,0.0,0.0,0.0,0.0,0.0,0.0,0.0,0.0,0.0,0.0,0.0,0.0,0.0,0.0,0.0,0.0,0.0,0.0,0.0,0.0,0.0,0.0,0.0,0.0,0.0,0.0,0.0,0.0,0.0,0.0,0.0,0.0,0.0,0.0,0.0,0.0,0.0,0.0,0.0,0.0,0.0,0.0,0.0,0.0,0.0,0.0,0.0,0.0,0.0,0.0004385345113067096,0.0027094425728193057,0.012717109349426381,0.0200251845781233,0.02203303572989168,0.028743307767727592,0.028791963384796483,0.042712612164387924,0.047800588763336815,0.0488403096185073,0.05147162740049924,0.05433795909598734,0.056922923414408744,0.05794612727543247,0.06549768478625555,0.0788397444931679,0.08592601000481725,0.08837247196786857,0.09056778103629846,0.09314794886734831,0.09316779966507682,0.09768636182647744,0.09816727018412415,0.09989365415700051,0.10148646427285923,0.10836644615593341,0.11125607932099152,0.11274999938241655,0.11665003007087177,0.11762538977829735,0.11825280214696476,0.12256152455618996,0.129230477797595,0.13532969498112468,0.13627332175999923,0.14201253245137915,0.14792410590370453,0.15225080894523085,0.15245689901329199,0.15375309759890982,0.15653434933854196,0.15711989396992396,0.15823992721583668,0.1589783374341398,0.16036135648987893,0.16513723587422327,0.1729886554983406,0.1753982402401064,0.18001592854732418,0.18916548458035512,0.18982497519141783,0.190509293259623,0.19232148601579335,0.19489759105676727,0.19513562959455166,0.19536478801909873,0.19542538115333907,0.19636608925337587,0.19745833254650025,0.1991820871631136,0.19927287853975995,0.21094908436127494,0.21111092855087055,0.21252718254379213,0.21662258017768748,0.21663214121010044,0.21697303889852768,0.2200761309210722,0.22039104763985806,0.22426015608103125,0.22615312498643614,0.22699750219476514,0.22992611736879007,0.2328068232034172,0.23378274715913916,0.24068605852183378,0.2444942349599828,0.24657953338969577,0.2542929676482527,0.25463135043151525,0.2553791131837433,0.2607881773776186,0.2624405897802844,0.26394192071665024,0.2641757279108318,0.2660370591246406,0.26959470235741956,0.26978817964655655,0.2725453811128426,0.27382929818784113,0.2756429560124139,0.2769089554001818,0.2769883895348431,0.2774738267969134,0.27752663670572475,0.2827597380574517,0.2842648043920907,0.2876895327980819,0.2917731478738086,0.29195623106300567,0.29410694861649467,0.29639722593595985,0.2967555792910385,0.29787618234427765,0.29804011905363925,0.2994593094045057,0.3012368495247024,0.30281035350195773,0.3053054517481739,0.31352591628662246,0.3148009471801082,0.3239016106388394,0.32477065077339207,0.3261458638631385,0.32785712689523616,0.3280717882918007,0.33403325054299227,0.3371912254029746,0.33850205107010756,0.3535062947714185,0.35869752454404,0.36467750963006235,0.3650770225868999,0.3726273097951598,0.37539167770925014,0.4022719326478315,0.4129666246299738,0.4158714118862662,0.42252819014454546,0.4346050158405641,0.43670048890126817,0.4397917279162933,0.4415420899304042,0.4417173107549843,0.4548024847525413,0.46145767291066264,0.47512371079649557,0.47661488415891856,0.48096555832428883,0.4935849900978493,0.49666341485818566,0.5251260739119274,0.5424588210020196,0.5481647916273902,0.5549100376565606,0.5916018320173851,0.6045048537885033,0.6409106761871628,0.6445211988489989,0.6606377317326528,0.6997433221635135,0.7640787552992027,0.7882353568313332,0.8165948007034904,0.8214940773676062,0.9240314939077918,1.0790368127943601,1.1248106604357015,1.1758517279648633,1.1849066069535685,1.21696190612546,1.4071201901580044,1.4842958344252262,1.729171662545661],\"yaxis\":\"y\"}],                        {\"barmode\":\"relative\",\"legend\":{\"title\":{\"text\":\"variable\"},\"tracegroupgap\":0},\"margin\":{\"t\":60},\"template\":{\"data\":{\"bar\":[{\"error_x\":{\"color\":\"#2a3f5f\"},\"error_y\":{\"color\":\"#2a3f5f\"},\"marker\":{\"line\":{\"color\":\"#E5ECF6\",\"width\":0.5},\"pattern\":{\"fillmode\":\"overlay\",\"size\":10,\"solidity\":0.2}},\"type\":\"bar\"}],\"barpolar\":[{\"marker\":{\"line\":{\"color\":\"#E5ECF6\",\"width\":0.5},\"pattern\":{\"fillmode\":\"overlay\",\"size\":10,\"solidity\":0.2}},\"type\":\"barpolar\"}],\"carpet\":[{\"aaxis\":{\"endlinecolor\":\"#2a3f5f\",\"gridcolor\":\"white\",\"linecolor\":\"white\",\"minorgridcolor\":\"white\",\"startlinecolor\":\"#2a3f5f\"},\"baxis\":{\"endlinecolor\":\"#2a3f5f\",\"gridcolor\":\"white\",\"linecolor\":\"white\",\"minorgridcolor\":\"white\",\"startlinecolor\":\"#2a3f5f\"},\"type\":\"carpet\"}],\"choropleth\":[{\"colorbar\":{\"outlinewidth\":0,\"ticks\":\"\"},\"type\":\"choropleth\"}],\"contour\":[{\"colorbar\":{\"outlinewidth\":0,\"ticks\":\"\"},\"colorscale\":[[0.0,\"#0d0887\"],[0.1111111111111111,\"#46039f\"],[0.2222222222222222,\"#7201a8\"],[0.3333333333333333,\"#9c179e\"],[0.4444444444444444,\"#bd3786\"],[0.5555555555555556,\"#d8576b\"],[0.6666666666666666,\"#ed7953\"],[0.7777777777777778,\"#fb9f3a\"],[0.8888888888888888,\"#fdca26\"],[1.0,\"#f0f921\"]],\"type\":\"contour\"}],\"contourcarpet\":[{\"colorbar\":{\"outlinewidth\":0,\"ticks\":\"\"},\"type\":\"contourcarpet\"}],\"heatmap\":[{\"colorbar\":{\"outlinewidth\":0,\"ticks\":\"\"},\"colorscale\":[[0.0,\"#0d0887\"],[0.1111111111111111,\"#46039f\"],[0.2222222222222222,\"#7201a8\"],[0.3333333333333333,\"#9c179e\"],[0.4444444444444444,\"#bd3786\"],[0.5555555555555556,\"#d8576b\"],[0.6666666666666666,\"#ed7953\"],[0.7777777777777778,\"#fb9f3a\"],[0.8888888888888888,\"#fdca26\"],[1.0,\"#f0f921\"]],\"type\":\"heatmap\"}],\"heatmapgl\":[{\"colorbar\":{\"outlinewidth\":0,\"ticks\":\"\"},\"colorscale\":[[0.0,\"#0d0887\"],[0.1111111111111111,\"#46039f\"],[0.2222222222222222,\"#7201a8\"],[0.3333333333333333,\"#9c179e\"],[0.4444444444444444,\"#bd3786\"],[0.5555555555555556,\"#d8576b\"],[0.6666666666666666,\"#ed7953\"],[0.7777777777777778,\"#fb9f3a\"],[0.8888888888888888,\"#fdca26\"],[1.0,\"#f0f921\"]],\"type\":\"heatmapgl\"}],\"histogram\":[{\"marker\":{\"pattern\":{\"fillmode\":\"overlay\",\"size\":10,\"solidity\":0.2}},\"type\":\"histogram\"}],\"histogram2d\":[{\"colorbar\":{\"outlinewidth\":0,\"ticks\":\"\"},\"colorscale\":[[0.0,\"#0d0887\"],[0.1111111111111111,\"#46039f\"],[0.2222222222222222,\"#7201a8\"],[0.3333333333333333,\"#9c179e\"],[0.4444444444444444,\"#bd3786\"],[0.5555555555555556,\"#d8576b\"],[0.6666666666666666,\"#ed7953\"],[0.7777777777777778,\"#fb9f3a\"],[0.8888888888888888,\"#fdca26\"],[1.0,\"#f0f921\"]],\"type\":\"histogram2d\"}],\"histogram2dcontour\":[{\"colorbar\":{\"outlinewidth\":0,\"ticks\":\"\"},\"colorscale\":[[0.0,\"#0d0887\"],[0.1111111111111111,\"#46039f\"],[0.2222222222222222,\"#7201a8\"],[0.3333333333333333,\"#9c179e\"],[0.4444444444444444,\"#bd3786\"],[0.5555555555555556,\"#d8576b\"],[0.6666666666666666,\"#ed7953\"],[0.7777777777777778,\"#fb9f3a\"],[0.8888888888888888,\"#fdca26\"],[1.0,\"#f0f921\"]],\"type\":\"histogram2dcontour\"}],\"mesh3d\":[{\"colorbar\":{\"outlinewidth\":0,\"ticks\":\"\"},\"type\":\"mesh3d\"}],\"parcoords\":[{\"line\":{\"colorbar\":{\"outlinewidth\":0,\"ticks\":\"\"}},\"type\":\"parcoords\"}],\"pie\":[{\"automargin\":true,\"type\":\"pie\"}],\"scatter\":[{\"marker\":{\"colorbar\":{\"outlinewidth\":0,\"ticks\":\"\"}},\"type\":\"scatter\"}],\"scatter3d\":[{\"line\":{\"colorbar\":{\"outlinewidth\":0,\"ticks\":\"\"}},\"marker\":{\"colorbar\":{\"outlinewidth\":0,\"ticks\":\"\"}},\"type\":\"scatter3d\"}],\"scattercarpet\":[{\"marker\":{\"colorbar\":{\"outlinewidth\":0,\"ticks\":\"\"}},\"type\":\"scattercarpet\"}],\"scattergeo\":[{\"marker\":{\"colorbar\":{\"outlinewidth\":0,\"ticks\":\"\"}},\"type\":\"scattergeo\"}],\"scattergl\":[{\"marker\":{\"colorbar\":{\"outlinewidth\":0,\"ticks\":\"\"}},\"type\":\"scattergl\"}],\"scattermapbox\":[{\"marker\":{\"colorbar\":{\"outlinewidth\":0,\"ticks\":\"\"}},\"type\":\"scattermapbox\"}],\"scatterpolar\":[{\"marker\":{\"colorbar\":{\"outlinewidth\":0,\"ticks\":\"\"}},\"type\":\"scatterpolar\"}],\"scatterpolargl\":[{\"marker\":{\"colorbar\":{\"outlinewidth\":0,\"ticks\":\"\"}},\"type\":\"scatterpolargl\"}],\"scatterternary\":[{\"marker\":{\"colorbar\":{\"outlinewidth\":0,\"ticks\":\"\"}},\"type\":\"scatterternary\"}],\"surface\":[{\"colorbar\":{\"outlinewidth\":0,\"ticks\":\"\"},\"colorscale\":[[0.0,\"#0d0887\"],[0.1111111111111111,\"#46039f\"],[0.2222222222222222,\"#7201a8\"],[0.3333333333333333,\"#9c179e\"],[0.4444444444444444,\"#bd3786\"],[0.5555555555555556,\"#d8576b\"],[0.6666666666666666,\"#ed7953\"],[0.7777777777777778,\"#fb9f3a\"],[0.8888888888888888,\"#fdca26\"],[1.0,\"#f0f921\"]],\"type\":\"surface\"}],\"table\":[{\"cells\":{\"fill\":{\"color\":\"#EBF0F8\"},\"line\":{\"color\":\"white\"}},\"header\":{\"fill\":{\"color\":\"#C8D4E3\"},\"line\":{\"color\":\"white\"}},\"type\":\"table\"}]},\"layout\":{\"annotationdefaults\":{\"arrowcolor\":\"#2a3f5f\",\"arrowhead\":0,\"arrowwidth\":1},\"autotypenumbers\":\"strict\",\"coloraxis\":{\"colorbar\":{\"outlinewidth\":0,\"ticks\":\"\"}},\"colorscale\":{\"diverging\":[[0,\"#8e0152\"],[0.1,\"#c51b7d\"],[0.2,\"#de77ae\"],[0.3,\"#f1b6da\"],[0.4,\"#fde0ef\"],[0.5,\"#f7f7f7\"],[0.6,\"#e6f5d0\"],[0.7,\"#b8e186\"],[0.8,\"#7fbc41\"],[0.9,\"#4d9221\"],[1,\"#276419\"]],\"sequential\":[[0.0,\"#0d0887\"],[0.1111111111111111,\"#46039f\"],[0.2222222222222222,\"#7201a8\"],[0.3333333333333333,\"#9c179e\"],[0.4444444444444444,\"#bd3786\"],[0.5555555555555556,\"#d8576b\"],[0.6666666666666666,\"#ed7953\"],[0.7777777777777778,\"#fb9f3a\"],[0.8888888888888888,\"#fdca26\"],[1.0,\"#f0f921\"]],\"sequentialminus\":[[0.0,\"#0d0887\"],[0.1111111111111111,\"#46039f\"],[0.2222222222222222,\"#7201a8\"],[0.3333333333333333,\"#9c179e\"],[0.4444444444444444,\"#bd3786\"],[0.5555555555555556,\"#d8576b\"],[0.6666666666666666,\"#ed7953\"],[0.7777777777777778,\"#fb9f3a\"],[0.8888888888888888,\"#fdca26\"],[1.0,\"#f0f921\"]]},\"colorway\":[\"#636efa\",\"#EF553B\",\"#00cc96\",\"#ab63fa\",\"#FFA15A\",\"#19d3f3\",\"#FF6692\",\"#B6E880\",\"#FF97FF\",\"#FECB52\"],\"font\":{\"color\":\"#2a3f5f\"},\"geo\":{\"bgcolor\":\"white\",\"lakecolor\":\"white\",\"landcolor\":\"#E5ECF6\",\"showlakes\":true,\"showland\":true,\"subunitcolor\":\"white\"},\"hoverlabel\":{\"align\":\"left\"},\"hovermode\":\"closest\",\"mapbox\":{\"style\":\"light\"},\"paper_bgcolor\":\"white\",\"plot_bgcolor\":\"#E5ECF6\",\"polar\":{\"angularaxis\":{\"gridcolor\":\"white\",\"linecolor\":\"white\",\"ticks\":\"\"},\"bgcolor\":\"#E5ECF6\",\"radialaxis\":{\"gridcolor\":\"white\",\"linecolor\":\"white\",\"ticks\":\"\"}},\"scene\":{\"xaxis\":{\"backgroundcolor\":\"#E5ECF6\",\"gridcolor\":\"white\",\"gridwidth\":2,\"linecolor\":\"white\",\"showbackground\":true,\"ticks\":\"\",\"zerolinecolor\":\"white\"},\"yaxis\":{\"backgroundcolor\":\"#E5ECF6\",\"gridcolor\":\"white\",\"gridwidth\":2,\"linecolor\":\"white\",\"showbackground\":true,\"ticks\":\"\",\"zerolinecolor\":\"white\"},\"zaxis\":{\"backgroundcolor\":\"#E5ECF6\",\"gridcolor\":\"white\",\"gridwidth\":2,\"linecolor\":\"white\",\"showbackground\":true,\"ticks\":\"\",\"zerolinecolor\":\"white\"}},\"shapedefaults\":{\"line\":{\"color\":\"#2a3f5f\"}},\"ternary\":{\"aaxis\":{\"gridcolor\":\"white\",\"linecolor\":\"white\",\"ticks\":\"\"},\"baxis\":{\"gridcolor\":\"white\",\"linecolor\":\"white\",\"ticks\":\"\"},\"bgcolor\":\"#E5ECF6\",\"caxis\":{\"gridcolor\":\"white\",\"linecolor\":\"white\",\"ticks\":\"\"}},\"title\":{\"x\":0.05},\"xaxis\":{\"automargin\":true,\"gridcolor\":\"white\",\"linecolor\":\"white\",\"ticks\":\"\",\"title\":{\"standoff\":15},\"zerolinecolor\":\"white\",\"zerolinewidth\":2},\"yaxis\":{\"automargin\":true,\"gridcolor\":\"white\",\"linecolor\":\"white\",\"ticks\":\"\",\"title\":{\"standoff\":15},\"zerolinecolor\":\"white\",\"zerolinewidth\":2}}},\"xaxis\":{\"anchor\":\"y\",\"domain\":[0.0,1.0],\"title\":{\"text\":\"index\"}},\"yaxis\":{\"anchor\":\"x\",\"domain\":[0.0,1.0],\"title\":{\"text\":\"value\"}}},                        {\"responsive\": true}                    ).then(function(){\n",
       "                            \n",
       "var gd = document.getElementById('4648ce53-0be0-4a7e-aa7c-ca09280999a2');\n",
       "var x = new MutationObserver(function (mutations, observer) {{\n",
       "        var display = window.getComputedStyle(gd).display;\n",
       "        if (!display || display === 'none') {{\n",
       "            console.log([gd, 'removed!']);\n",
       "            Plotly.purge(gd);\n",
       "            observer.disconnect();\n",
       "        }}\n",
       "}});\n",
       "\n",
       "// Listen for the removal of the full notebook cells\n",
       "var notebookContainer = gd.closest('#notebook-container');\n",
       "if (notebookContainer) {{\n",
       "    x.observe(notebookContainer, {childList: true});\n",
       "}}\n",
       "\n",
       "// Listen for the clearing of the current output cell\n",
       "var outputEl = gd.closest('.output');\n",
       "if (outputEl) {{\n",
       "    x.observe(outputEl, {childList: true});\n",
       "}}\n",
       "\n",
       "                        })                };                });            </script>        </div>"
      ]
     },
     "metadata": {},
     "output_type": "display_data"
    }
   ],
   "source": [
    "### Weighted\n",
    "px.bar(sorted(pair_weighted_all_sequrities[pair_weighted_all_sequrities < 2]))"
   ]
  },
  {
   "cell_type": "code",
   "execution_count": 605,
   "id": "foreign-completion",
   "metadata": {},
   "outputs": [
    {
     "data": {
      "application/vnd.plotly.v1+json": {
       "config": {
        "plotlyServerURL": "https://plot.ly"
       },
       "data": [
        {
         "alignmentgroup": "True",
         "hovertemplate": "variable=0<br>index=%{x}<br>value=%{y}<extra></extra>",
         "legendgroup": "0",
         "marker": {
          "color": "#636efa",
          "pattern": {
           "shape": ""
          }
         },
         "name": "0",
         "offsetgroup": "0",
         "orientation": "v",
         "showlegend": true,
         "textposition": "auto",
         "type": "bar",
         "x": [
          0,
          1,
          2,
          3,
          4,
          5,
          6,
          7,
          8,
          9,
          10,
          11,
          12,
          13,
          14,
          15,
          16,
          17,
          18,
          19,
          20,
          21,
          22,
          23,
          24,
          25,
          26,
          27,
          28,
          29,
          30,
          31,
          32,
          33,
          34,
          35,
          36,
          37,
          38,
          39,
          40,
          41,
          42,
          43,
          44,
          45,
          46,
          47,
          48,
          49,
          50,
          51,
          52,
          53,
          54,
          55,
          56,
          57,
          58,
          59,
          60,
          61,
          62,
          63,
          64,
          65,
          66,
          67,
          68,
          69,
          70,
          71,
          72,
          73,
          74,
          75,
          76,
          77,
          78,
          79,
          80,
          81,
          82,
          83,
          84,
          85,
          86,
          87,
          88,
          89,
          90,
          91,
          92,
          93,
          94,
          95,
          96,
          97,
          98,
          99,
          100,
          101,
          102,
          103,
          104,
          105,
          106,
          107,
          108,
          109,
          110,
          111,
          112,
          113,
          114,
          115,
          116,
          117,
          118,
          119,
          120,
          121,
          122,
          123,
          124,
          125,
          126,
          127,
          128,
          129,
          130,
          131,
          132,
          133,
          134,
          135,
          136,
          137,
          138,
          139,
          140,
          141,
          142,
          143,
          144,
          145,
          146,
          147,
          148,
          149,
          150,
          151,
          152,
          153,
          154,
          155,
          156,
          157,
          158,
          159,
          160,
          161,
          162,
          163,
          164,
          165,
          166,
          167,
          168,
          169,
          170,
          171,
          172,
          173,
          174,
          175,
          176,
          177,
          178,
          179,
          180,
          181,
          182,
          183,
          184,
          185,
          186,
          187,
          188,
          189,
          190,
          191,
          192,
          193,
          194,
          195,
          196,
          197,
          198,
          199,
          200,
          201,
          202,
          203,
          204,
          205,
          206,
          207,
          208,
          209,
          210,
          211,
          212,
          213,
          214,
          215,
          216,
          217,
          218,
          219,
          220,
          221,
          222,
          223,
          224,
          225,
          226,
          227,
          228,
          229,
          230,
          231,
          232,
          233,
          234,
          235,
          236,
          237,
          238,
          239,
          240,
          241,
          242,
          243,
          244,
          245,
          246,
          247,
          248,
          249,
          250,
          251,
          252,
          253,
          254,
          255,
          256,
          257,
          258,
          259,
          260,
          261,
          262,
          263,
          264,
          265,
          266,
          267,
          268,
          269,
          270,
          271,
          272,
          273,
          274,
          275,
          276,
          277,
          278,
          279,
          280,
          281,
          282,
          283,
          284,
          285,
          286,
          287,
          288,
          289,
          290,
          291,
          292,
          293,
          294,
          295,
          296,
          297,
          298,
          299,
          300,
          301,
          302,
          303,
          304,
          305,
          306,
          307,
          308,
          309,
          310,
          311,
          312,
          313,
          314,
          315,
          316,
          317,
          318,
          319,
          320,
          321,
          322,
          323,
          324,
          325,
          326,
          327,
          328,
          329,
          330,
          331,
          332,
          333,
          334,
          335,
          336,
          337,
          338,
          339,
          340,
          341,
          342,
          343,
          344,
          345,
          346,
          347,
          348,
          349,
          350,
          351,
          352,
          353,
          354,
          355,
          356,
          357,
          358,
          359,
          360,
          361,
          362,
          363,
          364,
          365,
          366,
          367,
          368,
          369,
          370,
          371,
          372,
          373,
          374,
          375,
          376,
          377,
          378,
          379,
          380,
          381,
          382,
          383,
          384,
          385,
          386,
          387,
          388,
          389,
          390,
          391,
          392,
          393,
          394,
          395,
          396,
          397,
          398,
          399,
          400,
          401,
          402,
          403,
          404,
          405,
          406,
          407,
          408,
          409,
          410,
          411,
          412,
          413,
          414,
          415,
          416,
          417,
          418,
          419,
          420,
          421,
          422,
          423,
          424,
          425
         ],
         "xaxis": "x",
         "y": [
          -0.8350366142642504,
          -0.8243056496824808,
          -0.8220250075198375,
          -0.6889177801167545,
          -0.6308025375194382,
          -0.5972648729559971,
          -0.5044814686830994,
          -0.4602020851537161,
          -0.4505961118824395,
          -0.43078596022376514,
          -0.4188908455102636,
          -0.4085303161823867,
          -0.4083613946896765,
          -0.4053578066348809,
          -0.3974082085214874,
          -0.38911273388519235,
          -0.38423542133040023,
          -0.37081954601962597,
          -0.34303777483879505,
          -0.3291070521505637,
          -0.3222500199461434,
          -0.320063611634059,
          -0.31337981944937077,
          -0.3082255035719038,
          -0.30075177543305615,
          -0.29701093257160227,
          -0.2893208613835364,
          -0.2766431134048241,
          -0.27605152965505475,
          -0.26892916527447613,
          -0.2656551566879328,
          -0.24762367285994302,
          -0.24519073249685214,
          -0.24452117062073506,
          -0.24259074015601229,
          -0.23177739299440453,
          -0.22793020319777965,
          -0.22699160752414851,
          -0.225421742195531,
          -0.22082607077109534,
          -0.22010084261096735,
          -0.21628755444348308,
          -0.2139178820968248,
          -0.20340289589933605,
          -0.20157418541568256,
          -0.20001301146552575,
          -0.19235430176933443,
          -0.18966917711814812,
          -0.1872254354532381,
          -0.18693744262709222,
          -0.1857786533363864,
          -0.18483631818256654,
          -0.18446956117098115,
          -0.17960930261974692,
          -0.17633748594886,
          -0.1760049445743017,
          -0.17551719836297194,
          -0.17367959483853523,
          -0.16413501798042127,
          -0.15986682656813045,
          -0.15953258926182792,
          -0.15843481434260734,
          -0.15841192776361324,
          -0.15509070969014535,
          -0.1547472575708755,
          -0.13969900824169407,
          -0.13133365777502054,
          -0.129667731676851,
          -0.1295160699569077,
          -0.1280462038735464,
          -0.12755113034693008,
          -0.1270104362615377,
          -0.12667100113070578,
          -0.12648169522920724,
          -0.12405182609182666,
          -0.10970293453465835,
          -0.10956899444858935,
          -0.10592828301105676,
          -0.10322974140315097,
          -0.09824876296527678,
          -0.09338271066204454,
          -0.08897445427540907,
          -0.08324285974324584,
          -0.08128591617227618,
          -0.07252242834536726,
          -0.07244263731380454,
          -0.07061682764883787,
          -0.06897956371641094,
          -0.06783518462547632,
          -0.06635720367724672,
          -0.06489059657534864,
          -0.0648891562048146,
          -0.059617956046965216,
          -0.05880809016263508,
          -0.058192108661427426,
          -0.056081098673967295,
          -0.05578865836739958,
          -0.050926017394228196,
          -0.04883586179875708,
          -0.048496849351397094,
          -0.04593757738993681,
          -0.044834592486896085,
          -0.039713415047811444,
          -0.03547521951857594,
          -0.034614484701176465,
          -0.02889829764538185,
          -0.028763152664999823,
          -0.02781607548687825,
          -0.027452466383089943,
          -0.02498642653686867,
          -0.020192387062310833,
          -0.01499986559595858,
          -0.014448485630621266,
          -0.01299448595599509,
          -0.010875935140571072,
          -0.00892162733298163,
          -0.004437552115021506,
          0,
          0,
          0,
          0,
          0,
          0,
          0,
          0,
          0,
          0,
          0,
          0,
          0,
          0,
          0,
          0,
          0,
          0,
          0,
          0,
          0,
          0,
          0,
          0,
          0,
          0,
          0,
          0,
          0,
          0,
          0,
          0,
          0,
          0,
          0,
          0,
          0,
          0,
          0,
          0,
          0,
          0,
          0,
          0,
          0,
          0,
          0,
          0,
          0,
          0,
          0,
          0,
          0,
          0,
          0,
          0,
          0,
          0,
          0,
          0,
          0,
          0,
          0,
          0,
          0,
          0,
          0,
          0,
          0,
          0,
          0,
          0,
          0,
          0,
          0,
          0,
          0,
          0,
          0,
          0,
          0,
          0,
          0,
          0,
          0,
          0,
          0,
          0,
          0,
          0,
          0,
          0,
          0,
          0,
          0,
          0,
          0.006875243305433077,
          0.007347660463430938,
          0.009419507223522252,
          0.015005263692457749,
          0.018365279243411352,
          0.018639062012206404,
          0.018673063381114203,
          0.02099746035857053,
          0.022563460398669397,
          0.024890713543758995,
          0.025497777266925217,
          0.025938901988118664,
          0.027320472372022408,
          0.030877109072172264,
          0.031796461308026644,
          0.03827414799980568,
          0.03914983795268187,
          0.04295855289300081,
          0.0445489054327964,
          0.04533769240557009,
          0.045412655119917544,
          0.049138089261329974,
          0.05333399494118042,
          0.05806392037328812,
          0.06030851285733759,
          0.06120525323584589,
          0.06153569036220362,
          0.06238185616768573,
          0.06350852319713297,
          0.06454589741716384,
          0.06664890917735904,
          0.06882501597489936,
          0.07030062361323125,
          0.07392757490521894,
          0.074007515710286,
          0.07473673622112556,
          0.07687062860763737,
          0.07874138735396496,
          0.0788650621725858,
          0.07947845163110233,
          0.07981152497310565,
          0.07994134808945047,
          0.08208882524326885,
          0.0906737287247281,
          0.09262269088398249,
          0.09400287458879643,
          0.09554937049930354,
          0.09699314514248511,
          0.09748793480372349,
          0.10012721784720753,
          0.10203501361688722,
          0.10256770956055446,
          0.10634995921474272,
          0.10652172347601872,
          0.10670814100075467,
          0.10924913684604931,
          0.10999208746301804,
          0.11271136012102528,
          0.11490578197400597,
          0.11510427571220067,
          0.11652900800656345,
          0.11804487599718531,
          0.11937825480098264,
          0.12038733060743526,
          0.12663297002262397,
          0.12921436805929715,
          0.12945448179254548,
          0.13049730722417519,
          0.13430773780951033,
          0.13562516734071062,
          0.13649866697314098,
          0.1395947207439292,
          0.14008220571536642,
          0.1407720875386477,
          0.14638335855481938,
          0.14899227419175037,
          0.14934923144618029,
          0.15113351343369957,
          0.15262373571015736,
          0.15291448792318363,
          0.1531346461859531,
          0.15503022864347582,
          0.15669757032839862,
          0.1592797242353192,
          0.16160237916330203,
          0.16236547512233668,
          0.16379696623754966,
          0.16565667697750874,
          0.16733950886101925,
          0.16897440680078565,
          0.17143375939481473,
          0.17171034796081264,
          0.17322393318637694,
          0.1771923202518543,
          0.1783510789568776,
          0.17897384466402472,
          0.18275634579093983,
          0.18418436733385524,
          0.18929235476045045,
          0.19110652224861657,
          0.19287602890275563,
          0.19470671104037462,
          0.19818353786259546,
          0.19845756088480412,
          0.19920745959831976,
          0.2003327831387557,
          0.20283516656604264,
          0.20694734694439915,
          0.21146109989740117,
          0.21234154590251722,
          0.2172454283967482,
          0.2220534912750679,
          0.22285738899098853,
          0.22304786719267813,
          0.22383696114313892,
          0.2239357970621797,
          0.2315942931629834,
          0.23169920870453262,
          0.23283552685751877,
          0.23484504923976707,
          0.23561508116272972,
          0.23816152453227893,
          0.2428268231606983,
          0.2461574181726927,
          0.2462495175211756,
          0.24765405928564382,
          0.24826362377565978,
          0.25330989202526494,
          0.2593221898503567,
          0.26295049328139714,
          0.26326843042403175,
          0.26482874064823053,
          0.2660768023347313,
          0.26662362772279674,
          0.2677360245028614,
          0.26823011466788094,
          0.26908108388163693,
          0.26957321142631036,
          0.2696629186935415,
          0.2711059959830829,
          0.2754924457906579,
          0.27601487740931807,
          0.2764895579644887,
          0.280146624388174,
          0.28194963660329897,
          0.2830830931882654,
          0.2831733990634974,
          0.28321151700165004,
          0.28429774345496367,
          0.29082860928280496,
          0.29179795759887084,
          0.2985713623087026,
          0.3031040063931179,
          0.30388710425376897,
          0.30998097856312795,
          0.3171654481785353,
          0.3174525720898629,
          0.3214388193895561,
          0.3239897491956599,
          0.32683851578226125,
          0.33359222672375005,
          0.3446522452606964,
          0.3449954366020006,
          0.34749974312050097,
          0.3533731635024949,
          0.35885845183504944,
          0.36121907169469175,
          0.3685079832878609,
          0.36930277772180276,
          0.37391874353370075,
          0.3779192693367694,
          0.3792065476603781,
          0.3821394861063525,
          0.3894917768407293,
          0.399431860954667,
          0.39945545116707915,
          0.4032438836759936,
          0.4094434330624327,
          0.4108661486283203,
          0.41786187528923446,
          0.41938584400402545,
          0.42549078120618,
          0.4350289684252913,
          0.4394820462996762,
          0.45453840866223016,
          0.4684989899878184,
          0.4756547491280681,
          0.4842900119338104,
          0.4966743173212328,
          0.5100803693335193,
          0.512671366033801,
          0.5216598953988372,
          0.5746148001197215,
          0.5778957443285112,
          0.6326459234487173,
          0.6378469116119708,
          0.6672744624359996,
          0.705628958404972,
          0.7075374801768914,
          0.7142965051251979,
          0.7823598247668581,
          0.7924353924231591,
          0.856413532806618,
          0.8625612439908021,
          0.9303633415593726,
          0.9474034870446413,
          1.2090257118798395,
          1.3185774318896444,
          1.3360605814824333,
          1.3774019050197965,
          1.432120468047291,
          1.49126560593806,
          1.552959093954782
         ],
         "yaxis": "y"
        }
       ],
       "layout": {
        "barmode": "relative",
        "legend": {
         "title": {
          "text": "variable"
         },
         "tracegroupgap": 0
        },
        "margin": {
         "t": 60
        },
        "template": {
         "data": {
          "bar": [
           {
            "error_x": {
             "color": "#2a3f5f"
            },
            "error_y": {
             "color": "#2a3f5f"
            },
            "marker": {
             "line": {
              "color": "#E5ECF6",
              "width": 0.5
             },
             "pattern": {
              "fillmode": "overlay",
              "size": 10,
              "solidity": 0.2
             }
            },
            "type": "bar"
           }
          ],
          "barpolar": [
           {
            "marker": {
             "line": {
              "color": "#E5ECF6",
              "width": 0.5
             },
             "pattern": {
              "fillmode": "overlay",
              "size": 10,
              "solidity": 0.2
             }
            },
            "type": "barpolar"
           }
          ],
          "carpet": [
           {
            "aaxis": {
             "endlinecolor": "#2a3f5f",
             "gridcolor": "white",
             "linecolor": "white",
             "minorgridcolor": "white",
             "startlinecolor": "#2a3f5f"
            },
            "baxis": {
             "endlinecolor": "#2a3f5f",
             "gridcolor": "white",
             "linecolor": "white",
             "minorgridcolor": "white",
             "startlinecolor": "#2a3f5f"
            },
            "type": "carpet"
           }
          ],
          "choropleth": [
           {
            "colorbar": {
             "outlinewidth": 0,
             "ticks": ""
            },
            "type": "choropleth"
           }
          ],
          "contour": [
           {
            "colorbar": {
             "outlinewidth": 0,
             "ticks": ""
            },
            "colorscale": [
             [
              0,
              "#0d0887"
             ],
             [
              0.1111111111111111,
              "#46039f"
             ],
             [
              0.2222222222222222,
              "#7201a8"
             ],
             [
              0.3333333333333333,
              "#9c179e"
             ],
             [
              0.4444444444444444,
              "#bd3786"
             ],
             [
              0.5555555555555556,
              "#d8576b"
             ],
             [
              0.6666666666666666,
              "#ed7953"
             ],
             [
              0.7777777777777778,
              "#fb9f3a"
             ],
             [
              0.8888888888888888,
              "#fdca26"
             ],
             [
              1,
              "#f0f921"
             ]
            ],
            "type": "contour"
           }
          ],
          "contourcarpet": [
           {
            "colorbar": {
             "outlinewidth": 0,
             "ticks": ""
            },
            "type": "contourcarpet"
           }
          ],
          "heatmap": [
           {
            "colorbar": {
             "outlinewidth": 0,
             "ticks": ""
            },
            "colorscale": [
             [
              0,
              "#0d0887"
             ],
             [
              0.1111111111111111,
              "#46039f"
             ],
             [
              0.2222222222222222,
              "#7201a8"
             ],
             [
              0.3333333333333333,
              "#9c179e"
             ],
             [
              0.4444444444444444,
              "#bd3786"
             ],
             [
              0.5555555555555556,
              "#d8576b"
             ],
             [
              0.6666666666666666,
              "#ed7953"
             ],
             [
              0.7777777777777778,
              "#fb9f3a"
             ],
             [
              0.8888888888888888,
              "#fdca26"
             ],
             [
              1,
              "#f0f921"
             ]
            ],
            "type": "heatmap"
           }
          ],
          "heatmapgl": [
           {
            "colorbar": {
             "outlinewidth": 0,
             "ticks": ""
            },
            "colorscale": [
             [
              0,
              "#0d0887"
             ],
             [
              0.1111111111111111,
              "#46039f"
             ],
             [
              0.2222222222222222,
              "#7201a8"
             ],
             [
              0.3333333333333333,
              "#9c179e"
             ],
             [
              0.4444444444444444,
              "#bd3786"
             ],
             [
              0.5555555555555556,
              "#d8576b"
             ],
             [
              0.6666666666666666,
              "#ed7953"
             ],
             [
              0.7777777777777778,
              "#fb9f3a"
             ],
             [
              0.8888888888888888,
              "#fdca26"
             ],
             [
              1,
              "#f0f921"
             ]
            ],
            "type": "heatmapgl"
           }
          ],
          "histogram": [
           {
            "marker": {
             "pattern": {
              "fillmode": "overlay",
              "size": 10,
              "solidity": 0.2
             }
            },
            "type": "histogram"
           }
          ],
          "histogram2d": [
           {
            "colorbar": {
             "outlinewidth": 0,
             "ticks": ""
            },
            "colorscale": [
             [
              0,
              "#0d0887"
             ],
             [
              0.1111111111111111,
              "#46039f"
             ],
             [
              0.2222222222222222,
              "#7201a8"
             ],
             [
              0.3333333333333333,
              "#9c179e"
             ],
             [
              0.4444444444444444,
              "#bd3786"
             ],
             [
              0.5555555555555556,
              "#d8576b"
             ],
             [
              0.6666666666666666,
              "#ed7953"
             ],
             [
              0.7777777777777778,
              "#fb9f3a"
             ],
             [
              0.8888888888888888,
              "#fdca26"
             ],
             [
              1,
              "#f0f921"
             ]
            ],
            "type": "histogram2d"
           }
          ],
          "histogram2dcontour": [
           {
            "colorbar": {
             "outlinewidth": 0,
             "ticks": ""
            },
            "colorscale": [
             [
              0,
              "#0d0887"
             ],
             [
              0.1111111111111111,
              "#46039f"
             ],
             [
              0.2222222222222222,
              "#7201a8"
             ],
             [
              0.3333333333333333,
              "#9c179e"
             ],
             [
              0.4444444444444444,
              "#bd3786"
             ],
             [
              0.5555555555555556,
              "#d8576b"
             ],
             [
              0.6666666666666666,
              "#ed7953"
             ],
             [
              0.7777777777777778,
              "#fb9f3a"
             ],
             [
              0.8888888888888888,
              "#fdca26"
             ],
             [
              1,
              "#f0f921"
             ]
            ],
            "type": "histogram2dcontour"
           }
          ],
          "mesh3d": [
           {
            "colorbar": {
             "outlinewidth": 0,
             "ticks": ""
            },
            "type": "mesh3d"
           }
          ],
          "parcoords": [
           {
            "line": {
             "colorbar": {
              "outlinewidth": 0,
              "ticks": ""
             }
            },
            "type": "parcoords"
           }
          ],
          "pie": [
           {
            "automargin": true,
            "type": "pie"
           }
          ],
          "scatter": [
           {
            "marker": {
             "colorbar": {
              "outlinewidth": 0,
              "ticks": ""
             }
            },
            "type": "scatter"
           }
          ],
          "scatter3d": [
           {
            "line": {
             "colorbar": {
              "outlinewidth": 0,
              "ticks": ""
             }
            },
            "marker": {
             "colorbar": {
              "outlinewidth": 0,
              "ticks": ""
             }
            },
            "type": "scatter3d"
           }
          ],
          "scattercarpet": [
           {
            "marker": {
             "colorbar": {
              "outlinewidth": 0,
              "ticks": ""
             }
            },
            "type": "scattercarpet"
           }
          ],
          "scattergeo": [
           {
            "marker": {
             "colorbar": {
              "outlinewidth": 0,
              "ticks": ""
             }
            },
            "type": "scattergeo"
           }
          ],
          "scattergl": [
           {
            "marker": {
             "colorbar": {
              "outlinewidth": 0,
              "ticks": ""
             }
            },
            "type": "scattergl"
           }
          ],
          "scattermapbox": [
           {
            "marker": {
             "colorbar": {
              "outlinewidth": 0,
              "ticks": ""
             }
            },
            "type": "scattermapbox"
           }
          ],
          "scatterpolar": [
           {
            "marker": {
             "colorbar": {
              "outlinewidth": 0,
              "ticks": ""
             }
            },
            "type": "scatterpolar"
           }
          ],
          "scatterpolargl": [
           {
            "marker": {
             "colorbar": {
              "outlinewidth": 0,
              "ticks": ""
             }
            },
            "type": "scatterpolargl"
           }
          ],
          "scatterternary": [
           {
            "marker": {
             "colorbar": {
              "outlinewidth": 0,
              "ticks": ""
             }
            },
            "type": "scatterternary"
           }
          ],
          "surface": [
           {
            "colorbar": {
             "outlinewidth": 0,
             "ticks": ""
            },
            "colorscale": [
             [
              0,
              "#0d0887"
             ],
             [
              0.1111111111111111,
              "#46039f"
             ],
             [
              0.2222222222222222,
              "#7201a8"
             ],
             [
              0.3333333333333333,
              "#9c179e"
             ],
             [
              0.4444444444444444,
              "#bd3786"
             ],
             [
              0.5555555555555556,
              "#d8576b"
             ],
             [
              0.6666666666666666,
              "#ed7953"
             ],
             [
              0.7777777777777778,
              "#fb9f3a"
             ],
             [
              0.8888888888888888,
              "#fdca26"
             ],
             [
              1,
              "#f0f921"
             ]
            ],
            "type": "surface"
           }
          ],
          "table": [
           {
            "cells": {
             "fill": {
              "color": "#EBF0F8"
             },
             "line": {
              "color": "white"
             }
            },
            "header": {
             "fill": {
              "color": "#C8D4E3"
             },
             "line": {
              "color": "white"
             }
            },
            "type": "table"
           }
          ]
         },
         "layout": {
          "annotationdefaults": {
           "arrowcolor": "#2a3f5f",
           "arrowhead": 0,
           "arrowwidth": 1
          },
          "autotypenumbers": "strict",
          "coloraxis": {
           "colorbar": {
            "outlinewidth": 0,
            "ticks": ""
           }
          },
          "colorscale": {
           "diverging": [
            [
             0,
             "#8e0152"
            ],
            [
             0.1,
             "#c51b7d"
            ],
            [
             0.2,
             "#de77ae"
            ],
            [
             0.3,
             "#f1b6da"
            ],
            [
             0.4,
             "#fde0ef"
            ],
            [
             0.5,
             "#f7f7f7"
            ],
            [
             0.6,
             "#e6f5d0"
            ],
            [
             0.7,
             "#b8e186"
            ],
            [
             0.8,
             "#7fbc41"
            ],
            [
             0.9,
             "#4d9221"
            ],
            [
             1,
             "#276419"
            ]
           ],
           "sequential": [
            [
             0,
             "#0d0887"
            ],
            [
             0.1111111111111111,
             "#46039f"
            ],
            [
             0.2222222222222222,
             "#7201a8"
            ],
            [
             0.3333333333333333,
             "#9c179e"
            ],
            [
             0.4444444444444444,
             "#bd3786"
            ],
            [
             0.5555555555555556,
             "#d8576b"
            ],
            [
             0.6666666666666666,
             "#ed7953"
            ],
            [
             0.7777777777777778,
             "#fb9f3a"
            ],
            [
             0.8888888888888888,
             "#fdca26"
            ],
            [
             1,
             "#f0f921"
            ]
           ],
           "sequentialminus": [
            [
             0,
             "#0d0887"
            ],
            [
             0.1111111111111111,
             "#46039f"
            ],
            [
             0.2222222222222222,
             "#7201a8"
            ],
            [
             0.3333333333333333,
             "#9c179e"
            ],
            [
             0.4444444444444444,
             "#bd3786"
            ],
            [
             0.5555555555555556,
             "#d8576b"
            ],
            [
             0.6666666666666666,
             "#ed7953"
            ],
            [
             0.7777777777777778,
             "#fb9f3a"
            ],
            [
             0.8888888888888888,
             "#fdca26"
            ],
            [
             1,
             "#f0f921"
            ]
           ]
          },
          "colorway": [
           "#636efa",
           "#EF553B",
           "#00cc96",
           "#ab63fa",
           "#FFA15A",
           "#19d3f3",
           "#FF6692",
           "#B6E880",
           "#FF97FF",
           "#FECB52"
          ],
          "font": {
           "color": "#2a3f5f"
          },
          "geo": {
           "bgcolor": "white",
           "lakecolor": "white",
           "landcolor": "#E5ECF6",
           "showlakes": true,
           "showland": true,
           "subunitcolor": "white"
          },
          "hoverlabel": {
           "align": "left"
          },
          "hovermode": "closest",
          "mapbox": {
           "style": "light"
          },
          "paper_bgcolor": "white",
          "plot_bgcolor": "#E5ECF6",
          "polar": {
           "angularaxis": {
            "gridcolor": "white",
            "linecolor": "white",
            "ticks": ""
           },
           "bgcolor": "#E5ECF6",
           "radialaxis": {
            "gridcolor": "white",
            "linecolor": "white",
            "ticks": ""
           }
          },
          "scene": {
           "xaxis": {
            "backgroundcolor": "#E5ECF6",
            "gridcolor": "white",
            "gridwidth": 2,
            "linecolor": "white",
            "showbackground": true,
            "ticks": "",
            "zerolinecolor": "white"
           },
           "yaxis": {
            "backgroundcolor": "#E5ECF6",
            "gridcolor": "white",
            "gridwidth": 2,
            "linecolor": "white",
            "showbackground": true,
            "ticks": "",
            "zerolinecolor": "white"
           },
           "zaxis": {
            "backgroundcolor": "#E5ECF6",
            "gridcolor": "white",
            "gridwidth": 2,
            "linecolor": "white",
            "showbackground": true,
            "ticks": "",
            "zerolinecolor": "white"
           }
          },
          "shapedefaults": {
           "line": {
            "color": "#2a3f5f"
           }
          },
          "ternary": {
           "aaxis": {
            "gridcolor": "white",
            "linecolor": "white",
            "ticks": ""
           },
           "baxis": {
            "gridcolor": "white",
            "linecolor": "white",
            "ticks": ""
           },
           "bgcolor": "#E5ECF6",
           "caxis": {
            "gridcolor": "white",
            "linecolor": "white",
            "ticks": ""
           }
          },
          "title": {
           "x": 0.05
          },
          "xaxis": {
           "automargin": true,
           "gridcolor": "white",
           "linecolor": "white",
           "ticks": "",
           "title": {
            "standoff": 15
           },
           "zerolinecolor": "white",
           "zerolinewidth": 2
          },
          "yaxis": {
           "automargin": true,
           "gridcolor": "white",
           "linecolor": "white",
           "ticks": "",
           "title": {
            "standoff": 15
           },
           "zerolinecolor": "white",
           "zerolinewidth": 2
          }
         }
        },
        "xaxis": {
         "anchor": "y",
         "domain": [
          0,
          1
         ],
         "title": {
          "text": "index"
         }
        },
        "yaxis": {
         "anchor": "x",
         "domain": [
          0,
          1
         ],
         "title": {
          "text": "value"
         }
        }
       }
      },
      "text/html": [
       "<div>                            <div id=\"b3b170d2-6154-4098-b635-59db707dbb29\" class=\"plotly-graph-div\" style=\"height:525px; width:100%;\"></div>            <script type=\"text/javascript\">                require([\"plotly\"], function(Plotly) {                    window.PLOTLYENV=window.PLOTLYENV || {};                                    if (document.getElementById(\"b3b170d2-6154-4098-b635-59db707dbb29\")) {                    Plotly.newPlot(                        \"b3b170d2-6154-4098-b635-59db707dbb29\",                        [{\"alignmentgroup\":\"True\",\"hovertemplate\":\"variable=0<br>index=%{x}<br>value=%{y}<extra></extra>\",\"legendgroup\":\"0\",\"marker\":{\"color\":\"#636efa\",\"pattern\":{\"shape\":\"\"}},\"name\":\"0\",\"offsetgroup\":\"0\",\"orientation\":\"v\",\"showlegend\":true,\"textposition\":\"auto\",\"type\":\"bar\",\"x\":[0,1,2,3,4,5,6,7,8,9,10,11,12,13,14,15,16,17,18,19,20,21,22,23,24,25,26,27,28,29,30,31,32,33,34,35,36,37,38,39,40,41,42,43,44,45,46,47,48,49,50,51,52,53,54,55,56,57,58,59,60,61,62,63,64,65,66,67,68,69,70,71,72,73,74,75,76,77,78,79,80,81,82,83,84,85,86,87,88,89,90,91,92,93,94,95,96,97,98,99,100,101,102,103,104,105,106,107,108,109,110,111,112,113,114,115,116,117,118,119,120,121,122,123,124,125,126,127,128,129,130,131,132,133,134,135,136,137,138,139,140,141,142,143,144,145,146,147,148,149,150,151,152,153,154,155,156,157,158,159,160,161,162,163,164,165,166,167,168,169,170,171,172,173,174,175,176,177,178,179,180,181,182,183,184,185,186,187,188,189,190,191,192,193,194,195,196,197,198,199,200,201,202,203,204,205,206,207,208,209,210,211,212,213,214,215,216,217,218,219,220,221,222,223,224,225,226,227,228,229,230,231,232,233,234,235,236,237,238,239,240,241,242,243,244,245,246,247,248,249,250,251,252,253,254,255,256,257,258,259,260,261,262,263,264,265,266,267,268,269,270,271,272,273,274,275,276,277,278,279,280,281,282,283,284,285,286,287,288,289,290,291,292,293,294,295,296,297,298,299,300,301,302,303,304,305,306,307,308,309,310,311,312,313,314,315,316,317,318,319,320,321,322,323,324,325,326,327,328,329,330,331,332,333,334,335,336,337,338,339,340,341,342,343,344,345,346,347,348,349,350,351,352,353,354,355,356,357,358,359,360,361,362,363,364,365,366,367,368,369,370,371,372,373,374,375,376,377,378,379,380,381,382,383,384,385,386,387,388,389,390,391,392,393,394,395,396,397,398,399,400,401,402,403,404,405,406,407,408,409,410,411,412,413,414,415,416,417,418,419,420,421,422,423,424,425],\"xaxis\":\"x\",\"y\":[-0.8350366142642504,-0.8243056496824808,-0.8220250075198375,-0.6889177801167545,-0.6308025375194382,-0.5972648729559971,-0.5044814686830994,-0.4602020851537161,-0.4505961118824395,-0.43078596022376514,-0.4188908455102636,-0.4085303161823867,-0.4083613946896765,-0.4053578066348809,-0.3974082085214874,-0.38911273388519235,-0.38423542133040023,-0.37081954601962597,-0.34303777483879505,-0.3291070521505637,-0.3222500199461434,-0.320063611634059,-0.31337981944937077,-0.3082255035719038,-0.30075177543305615,-0.29701093257160227,-0.2893208613835364,-0.2766431134048241,-0.27605152965505475,-0.26892916527447613,-0.2656551566879328,-0.24762367285994302,-0.24519073249685214,-0.24452117062073506,-0.24259074015601229,-0.23177739299440453,-0.22793020319777965,-0.22699160752414851,-0.225421742195531,-0.22082607077109534,-0.22010084261096735,-0.21628755444348308,-0.2139178820968248,-0.20340289589933605,-0.20157418541568256,-0.20001301146552575,-0.19235430176933443,-0.18966917711814812,-0.1872254354532381,-0.18693744262709222,-0.1857786533363864,-0.18483631818256654,-0.18446956117098115,-0.17960930261974692,-0.17633748594886,-0.1760049445743017,-0.17551719836297194,-0.17367959483853523,-0.16413501798042127,-0.15986682656813045,-0.15953258926182792,-0.15843481434260734,-0.15841192776361324,-0.15509070969014535,-0.1547472575708755,-0.13969900824169407,-0.13133365777502054,-0.129667731676851,-0.1295160699569077,-0.1280462038735464,-0.12755113034693008,-0.1270104362615377,-0.12667100113070578,-0.12648169522920724,-0.12405182609182666,-0.10970293453465835,-0.10956899444858935,-0.10592828301105676,-0.10322974140315097,-0.09824876296527678,-0.09338271066204454,-0.08897445427540907,-0.08324285974324584,-0.08128591617227618,-0.07252242834536726,-0.07244263731380454,-0.07061682764883787,-0.06897956371641094,-0.06783518462547632,-0.06635720367724672,-0.06489059657534864,-0.0648891562048146,-0.059617956046965216,-0.05880809016263508,-0.058192108661427426,-0.056081098673967295,-0.05578865836739958,-0.050926017394228196,-0.04883586179875708,-0.048496849351397094,-0.04593757738993681,-0.044834592486896085,-0.039713415047811444,-0.03547521951857594,-0.034614484701176465,-0.02889829764538185,-0.028763152664999823,-0.02781607548687825,-0.027452466383089943,-0.02498642653686867,-0.020192387062310833,-0.01499986559595858,-0.014448485630621266,-0.01299448595599509,-0.010875935140571072,-0.00892162733298163,-0.004437552115021506,0.0,0.0,0.0,0.0,0.0,0.0,0.0,0.0,0.0,0.0,0.0,0.0,0.0,0.0,0.0,0.0,0.0,0.0,0.0,0.0,0.0,0.0,0.0,0.0,0.0,0.0,0.0,0.0,0.0,0.0,0.0,0.0,0.0,0.0,0.0,0.0,0.0,0.0,0.0,0.0,0.0,0.0,0.0,0.0,0.0,0.0,0.0,0.0,0.0,0.0,0.0,0.0,0.0,0.0,0.0,0.0,0.0,0.0,0.0,0.0,0.0,0.0,0.0,0.0,0.0,0.0,0.0,0.0,0.0,0.0,0.0,0.0,0.0,0.0,0.0,0.0,0.0,0.0,0.0,0.0,0.0,0.0,0.0,0.0,0.0,0.0,0.0,0.0,0.0,0.0,0.0,0.0,0.0,0.0,0.0,0.0,0.006875243305433077,0.007347660463430938,0.009419507223522252,0.015005263692457749,0.018365279243411352,0.018639062012206404,0.018673063381114203,0.02099746035857053,0.022563460398669397,0.024890713543758995,0.025497777266925217,0.025938901988118664,0.027320472372022408,0.030877109072172264,0.031796461308026644,0.03827414799980568,0.03914983795268187,0.04295855289300081,0.0445489054327964,0.04533769240557009,0.045412655119917544,0.049138089261329974,0.05333399494118042,0.05806392037328812,0.06030851285733759,0.06120525323584589,0.06153569036220362,0.06238185616768573,0.06350852319713297,0.06454589741716384,0.06664890917735904,0.06882501597489936,0.07030062361323125,0.07392757490521894,0.074007515710286,0.07473673622112556,0.07687062860763737,0.07874138735396496,0.0788650621725858,0.07947845163110233,0.07981152497310565,0.07994134808945047,0.08208882524326885,0.0906737287247281,0.09262269088398249,0.09400287458879643,0.09554937049930354,0.09699314514248511,0.09748793480372349,0.10012721784720753,0.10203501361688722,0.10256770956055446,0.10634995921474272,0.10652172347601872,0.10670814100075467,0.10924913684604931,0.10999208746301804,0.11271136012102528,0.11490578197400597,0.11510427571220067,0.11652900800656345,0.11804487599718531,0.11937825480098264,0.12038733060743526,0.12663297002262397,0.12921436805929715,0.12945448179254548,0.13049730722417519,0.13430773780951033,0.13562516734071062,0.13649866697314098,0.1395947207439292,0.14008220571536642,0.1407720875386477,0.14638335855481938,0.14899227419175037,0.14934923144618029,0.15113351343369957,0.15262373571015736,0.15291448792318363,0.1531346461859531,0.15503022864347582,0.15669757032839862,0.1592797242353192,0.16160237916330203,0.16236547512233668,0.16379696623754966,0.16565667697750874,0.16733950886101925,0.16897440680078565,0.17143375939481473,0.17171034796081264,0.17322393318637694,0.1771923202518543,0.1783510789568776,0.17897384466402472,0.18275634579093983,0.18418436733385524,0.18929235476045045,0.19110652224861657,0.19287602890275563,0.19470671104037462,0.19818353786259546,0.19845756088480412,0.19920745959831976,0.2003327831387557,0.20283516656604264,0.20694734694439915,0.21146109989740117,0.21234154590251722,0.2172454283967482,0.2220534912750679,0.22285738899098853,0.22304786719267813,0.22383696114313892,0.2239357970621797,0.2315942931629834,0.23169920870453262,0.23283552685751877,0.23484504923976707,0.23561508116272972,0.23816152453227893,0.2428268231606983,0.2461574181726927,0.2462495175211756,0.24765405928564382,0.24826362377565978,0.25330989202526494,0.2593221898503567,0.26295049328139714,0.26326843042403175,0.26482874064823053,0.2660768023347313,0.26662362772279674,0.2677360245028614,0.26823011466788094,0.26908108388163693,0.26957321142631036,0.2696629186935415,0.2711059959830829,0.2754924457906579,0.27601487740931807,0.2764895579644887,0.280146624388174,0.28194963660329897,0.2830830931882654,0.2831733990634974,0.28321151700165004,0.28429774345496367,0.29082860928280496,0.29179795759887084,0.2985713623087026,0.3031040063931179,0.30388710425376897,0.30998097856312795,0.3171654481785353,0.3174525720898629,0.3214388193895561,0.3239897491956599,0.32683851578226125,0.33359222672375005,0.3446522452606964,0.3449954366020006,0.34749974312050097,0.3533731635024949,0.35885845183504944,0.36121907169469175,0.3685079832878609,0.36930277772180276,0.37391874353370075,0.3779192693367694,0.3792065476603781,0.3821394861063525,0.3894917768407293,0.399431860954667,0.39945545116707915,0.4032438836759936,0.4094434330624327,0.4108661486283203,0.41786187528923446,0.41938584400402545,0.42549078120618,0.4350289684252913,0.4394820462996762,0.45453840866223016,0.4684989899878184,0.4756547491280681,0.4842900119338104,0.4966743173212328,0.5100803693335193,0.512671366033801,0.5216598953988372,0.5746148001197215,0.5778957443285112,0.6326459234487173,0.6378469116119708,0.6672744624359996,0.705628958404972,0.7075374801768914,0.7142965051251979,0.7823598247668581,0.7924353924231591,0.856413532806618,0.8625612439908021,0.9303633415593726,0.9474034870446413,1.2090257118798395,1.3185774318896444,1.3360605814824333,1.3774019050197965,1.432120468047291,1.49126560593806,1.552959093954782],\"yaxis\":\"y\"}],                        {\"barmode\":\"relative\",\"legend\":{\"title\":{\"text\":\"variable\"},\"tracegroupgap\":0},\"margin\":{\"t\":60},\"template\":{\"data\":{\"bar\":[{\"error_x\":{\"color\":\"#2a3f5f\"},\"error_y\":{\"color\":\"#2a3f5f\"},\"marker\":{\"line\":{\"color\":\"#E5ECF6\",\"width\":0.5},\"pattern\":{\"fillmode\":\"overlay\",\"size\":10,\"solidity\":0.2}},\"type\":\"bar\"}],\"barpolar\":[{\"marker\":{\"line\":{\"color\":\"#E5ECF6\",\"width\":0.5},\"pattern\":{\"fillmode\":\"overlay\",\"size\":10,\"solidity\":0.2}},\"type\":\"barpolar\"}],\"carpet\":[{\"aaxis\":{\"endlinecolor\":\"#2a3f5f\",\"gridcolor\":\"white\",\"linecolor\":\"white\",\"minorgridcolor\":\"white\",\"startlinecolor\":\"#2a3f5f\"},\"baxis\":{\"endlinecolor\":\"#2a3f5f\",\"gridcolor\":\"white\",\"linecolor\":\"white\",\"minorgridcolor\":\"white\",\"startlinecolor\":\"#2a3f5f\"},\"type\":\"carpet\"}],\"choropleth\":[{\"colorbar\":{\"outlinewidth\":0,\"ticks\":\"\"},\"type\":\"choropleth\"}],\"contour\":[{\"colorbar\":{\"outlinewidth\":0,\"ticks\":\"\"},\"colorscale\":[[0.0,\"#0d0887\"],[0.1111111111111111,\"#46039f\"],[0.2222222222222222,\"#7201a8\"],[0.3333333333333333,\"#9c179e\"],[0.4444444444444444,\"#bd3786\"],[0.5555555555555556,\"#d8576b\"],[0.6666666666666666,\"#ed7953\"],[0.7777777777777778,\"#fb9f3a\"],[0.8888888888888888,\"#fdca26\"],[1.0,\"#f0f921\"]],\"type\":\"contour\"}],\"contourcarpet\":[{\"colorbar\":{\"outlinewidth\":0,\"ticks\":\"\"},\"type\":\"contourcarpet\"}],\"heatmap\":[{\"colorbar\":{\"outlinewidth\":0,\"ticks\":\"\"},\"colorscale\":[[0.0,\"#0d0887\"],[0.1111111111111111,\"#46039f\"],[0.2222222222222222,\"#7201a8\"],[0.3333333333333333,\"#9c179e\"],[0.4444444444444444,\"#bd3786\"],[0.5555555555555556,\"#d8576b\"],[0.6666666666666666,\"#ed7953\"],[0.7777777777777778,\"#fb9f3a\"],[0.8888888888888888,\"#fdca26\"],[1.0,\"#f0f921\"]],\"type\":\"heatmap\"}],\"heatmapgl\":[{\"colorbar\":{\"outlinewidth\":0,\"ticks\":\"\"},\"colorscale\":[[0.0,\"#0d0887\"],[0.1111111111111111,\"#46039f\"],[0.2222222222222222,\"#7201a8\"],[0.3333333333333333,\"#9c179e\"],[0.4444444444444444,\"#bd3786\"],[0.5555555555555556,\"#d8576b\"],[0.6666666666666666,\"#ed7953\"],[0.7777777777777778,\"#fb9f3a\"],[0.8888888888888888,\"#fdca26\"],[1.0,\"#f0f921\"]],\"type\":\"heatmapgl\"}],\"histogram\":[{\"marker\":{\"pattern\":{\"fillmode\":\"overlay\",\"size\":10,\"solidity\":0.2}},\"type\":\"histogram\"}],\"histogram2d\":[{\"colorbar\":{\"outlinewidth\":0,\"ticks\":\"\"},\"colorscale\":[[0.0,\"#0d0887\"],[0.1111111111111111,\"#46039f\"],[0.2222222222222222,\"#7201a8\"],[0.3333333333333333,\"#9c179e\"],[0.4444444444444444,\"#bd3786\"],[0.5555555555555556,\"#d8576b\"],[0.6666666666666666,\"#ed7953\"],[0.7777777777777778,\"#fb9f3a\"],[0.8888888888888888,\"#fdca26\"],[1.0,\"#f0f921\"]],\"type\":\"histogram2d\"}],\"histogram2dcontour\":[{\"colorbar\":{\"outlinewidth\":0,\"ticks\":\"\"},\"colorscale\":[[0.0,\"#0d0887\"],[0.1111111111111111,\"#46039f\"],[0.2222222222222222,\"#7201a8\"],[0.3333333333333333,\"#9c179e\"],[0.4444444444444444,\"#bd3786\"],[0.5555555555555556,\"#d8576b\"],[0.6666666666666666,\"#ed7953\"],[0.7777777777777778,\"#fb9f3a\"],[0.8888888888888888,\"#fdca26\"],[1.0,\"#f0f921\"]],\"type\":\"histogram2dcontour\"}],\"mesh3d\":[{\"colorbar\":{\"outlinewidth\":0,\"ticks\":\"\"},\"type\":\"mesh3d\"}],\"parcoords\":[{\"line\":{\"colorbar\":{\"outlinewidth\":0,\"ticks\":\"\"}},\"type\":\"parcoords\"}],\"pie\":[{\"automargin\":true,\"type\":\"pie\"}],\"scatter\":[{\"marker\":{\"colorbar\":{\"outlinewidth\":0,\"ticks\":\"\"}},\"type\":\"scatter\"}],\"scatter3d\":[{\"line\":{\"colorbar\":{\"outlinewidth\":0,\"ticks\":\"\"}},\"marker\":{\"colorbar\":{\"outlinewidth\":0,\"ticks\":\"\"}},\"type\":\"scatter3d\"}],\"scattercarpet\":[{\"marker\":{\"colorbar\":{\"outlinewidth\":0,\"ticks\":\"\"}},\"type\":\"scattercarpet\"}],\"scattergeo\":[{\"marker\":{\"colorbar\":{\"outlinewidth\":0,\"ticks\":\"\"}},\"type\":\"scattergeo\"}],\"scattergl\":[{\"marker\":{\"colorbar\":{\"outlinewidth\":0,\"ticks\":\"\"}},\"type\":\"scattergl\"}],\"scattermapbox\":[{\"marker\":{\"colorbar\":{\"outlinewidth\":0,\"ticks\":\"\"}},\"type\":\"scattermapbox\"}],\"scatterpolar\":[{\"marker\":{\"colorbar\":{\"outlinewidth\":0,\"ticks\":\"\"}},\"type\":\"scatterpolar\"}],\"scatterpolargl\":[{\"marker\":{\"colorbar\":{\"outlinewidth\":0,\"ticks\":\"\"}},\"type\":\"scatterpolargl\"}],\"scatterternary\":[{\"marker\":{\"colorbar\":{\"outlinewidth\":0,\"ticks\":\"\"}},\"type\":\"scatterternary\"}],\"surface\":[{\"colorbar\":{\"outlinewidth\":0,\"ticks\":\"\"},\"colorscale\":[[0.0,\"#0d0887\"],[0.1111111111111111,\"#46039f\"],[0.2222222222222222,\"#7201a8\"],[0.3333333333333333,\"#9c179e\"],[0.4444444444444444,\"#bd3786\"],[0.5555555555555556,\"#d8576b\"],[0.6666666666666666,\"#ed7953\"],[0.7777777777777778,\"#fb9f3a\"],[0.8888888888888888,\"#fdca26\"],[1.0,\"#f0f921\"]],\"type\":\"surface\"}],\"table\":[{\"cells\":{\"fill\":{\"color\":\"#EBF0F8\"},\"line\":{\"color\":\"white\"}},\"header\":{\"fill\":{\"color\":\"#C8D4E3\"},\"line\":{\"color\":\"white\"}},\"type\":\"table\"}]},\"layout\":{\"annotationdefaults\":{\"arrowcolor\":\"#2a3f5f\",\"arrowhead\":0,\"arrowwidth\":1},\"autotypenumbers\":\"strict\",\"coloraxis\":{\"colorbar\":{\"outlinewidth\":0,\"ticks\":\"\"}},\"colorscale\":{\"diverging\":[[0,\"#8e0152\"],[0.1,\"#c51b7d\"],[0.2,\"#de77ae\"],[0.3,\"#f1b6da\"],[0.4,\"#fde0ef\"],[0.5,\"#f7f7f7\"],[0.6,\"#e6f5d0\"],[0.7,\"#b8e186\"],[0.8,\"#7fbc41\"],[0.9,\"#4d9221\"],[1,\"#276419\"]],\"sequential\":[[0.0,\"#0d0887\"],[0.1111111111111111,\"#46039f\"],[0.2222222222222222,\"#7201a8\"],[0.3333333333333333,\"#9c179e\"],[0.4444444444444444,\"#bd3786\"],[0.5555555555555556,\"#d8576b\"],[0.6666666666666666,\"#ed7953\"],[0.7777777777777778,\"#fb9f3a\"],[0.8888888888888888,\"#fdca26\"],[1.0,\"#f0f921\"]],\"sequentialminus\":[[0.0,\"#0d0887\"],[0.1111111111111111,\"#46039f\"],[0.2222222222222222,\"#7201a8\"],[0.3333333333333333,\"#9c179e\"],[0.4444444444444444,\"#bd3786\"],[0.5555555555555556,\"#d8576b\"],[0.6666666666666666,\"#ed7953\"],[0.7777777777777778,\"#fb9f3a\"],[0.8888888888888888,\"#fdca26\"],[1.0,\"#f0f921\"]]},\"colorway\":[\"#636efa\",\"#EF553B\",\"#00cc96\",\"#ab63fa\",\"#FFA15A\",\"#19d3f3\",\"#FF6692\",\"#B6E880\",\"#FF97FF\",\"#FECB52\"],\"font\":{\"color\":\"#2a3f5f\"},\"geo\":{\"bgcolor\":\"white\",\"lakecolor\":\"white\",\"landcolor\":\"#E5ECF6\",\"showlakes\":true,\"showland\":true,\"subunitcolor\":\"white\"},\"hoverlabel\":{\"align\":\"left\"},\"hovermode\":\"closest\",\"mapbox\":{\"style\":\"light\"},\"paper_bgcolor\":\"white\",\"plot_bgcolor\":\"#E5ECF6\",\"polar\":{\"angularaxis\":{\"gridcolor\":\"white\",\"linecolor\":\"white\",\"ticks\":\"\"},\"bgcolor\":\"#E5ECF6\",\"radialaxis\":{\"gridcolor\":\"white\",\"linecolor\":\"white\",\"ticks\":\"\"}},\"scene\":{\"xaxis\":{\"backgroundcolor\":\"#E5ECF6\",\"gridcolor\":\"white\",\"gridwidth\":2,\"linecolor\":\"white\",\"showbackground\":true,\"ticks\":\"\",\"zerolinecolor\":\"white\"},\"yaxis\":{\"backgroundcolor\":\"#E5ECF6\",\"gridcolor\":\"white\",\"gridwidth\":2,\"linecolor\":\"white\",\"showbackground\":true,\"ticks\":\"\",\"zerolinecolor\":\"white\"},\"zaxis\":{\"backgroundcolor\":\"#E5ECF6\",\"gridcolor\":\"white\",\"gridwidth\":2,\"linecolor\":\"white\",\"showbackground\":true,\"ticks\":\"\",\"zerolinecolor\":\"white\"}},\"shapedefaults\":{\"line\":{\"color\":\"#2a3f5f\"}},\"ternary\":{\"aaxis\":{\"gridcolor\":\"white\",\"linecolor\":\"white\",\"ticks\":\"\"},\"baxis\":{\"gridcolor\":\"white\",\"linecolor\":\"white\",\"ticks\":\"\"},\"bgcolor\":\"#E5ECF6\",\"caxis\":{\"gridcolor\":\"white\",\"linecolor\":\"white\",\"ticks\":\"\"}},\"title\":{\"x\":0.05},\"xaxis\":{\"automargin\":true,\"gridcolor\":\"white\",\"linecolor\":\"white\",\"ticks\":\"\",\"title\":{\"standoff\":15},\"zerolinecolor\":\"white\",\"zerolinewidth\":2},\"yaxis\":{\"automargin\":true,\"gridcolor\":\"white\",\"linecolor\":\"white\",\"ticks\":\"\",\"title\":{\"standoff\":15},\"zerolinecolor\":\"white\",\"zerolinewidth\":2}}},\"xaxis\":{\"anchor\":\"y\",\"domain\":[0.0,1.0],\"title\":{\"text\":\"index\"}},\"yaxis\":{\"anchor\":\"x\",\"domain\":[0.0,1.0],\"title\":{\"text\":\"value\"}}},                        {\"responsive\": true}                    ).then(function(){\n",
       "                            \n",
       "var gd = document.getElementById('b3b170d2-6154-4098-b635-59db707dbb29');\n",
       "var x = new MutationObserver(function (mutations, observer) {{\n",
       "        var display = window.getComputedStyle(gd).display;\n",
       "        if (!display || display === 'none') {{\n",
       "            console.log([gd, 'removed!']);\n",
       "            Plotly.purge(gd);\n",
       "            observer.disconnect();\n",
       "        }}\n",
       "}});\n",
       "\n",
       "// Listen for the removal of the full notebook cells\n",
       "var notebookContainer = gd.closest('#notebook-container');\n",
       "if (notebookContainer) {{\n",
       "    x.observe(notebookContainer, {childList: true});\n",
       "}}\n",
       "\n",
       "// Listen for the clearing of the current output cell\n",
       "var outputEl = gd.closest('.output');\n",
       "if (outputEl) {{\n",
       "    x.observe(outputEl, {childList: true});\n",
       "}}\n",
       "\n",
       "                        })                };                });            </script>        </div>"
      ]
     },
     "metadata": {},
     "output_type": "display_data"
    }
   ],
   "source": [
    "### Weighted\n",
    "px.bar(sorted(pair_normal_all_sequrities))"
   ]
  },
  {
   "cell_type": "markdown",
   "id": "running-arrest",
   "metadata": {},
   "source": [
    "### Plotting"
   ]
  },
  {
   "cell_type": "code",
   "execution_count": 146,
   "id": "floppy-surprise",
   "metadata": {},
   "outputs": [
    {
     "data": {
      "application/javascript": [
       "\n",
       "        if (window._pyforest_update_imports_cell) { window._pyforest_update_imports_cell('import matplotlib.pyplot as plt\\nimport seaborn as sns'); }\n",
       "    "
      ],
      "text/plain": [
       "<IPython.core.display.Javascript object>"
      ]
     },
     "metadata": {},
     "output_type": "display_data"
    },
    {
     "data": {
      "application/javascript": [
       "\n",
       "        if (window._pyforest_update_imports_cell) { window._pyforest_update_imports_cell('import matplotlib.pyplot as plt\\nimport seaborn as sns'); }\n",
       "    "
      ],
      "text/plain": [
       "<IPython.core.display.Javascript object>"
      ]
     },
     "metadata": {},
     "output_type": "display_data"
    },
    {
     "data": {
      "application/javascript": [
       "\n",
       "        if (window._pyforest_update_imports_cell) { window._pyforest_update_imports_cell('import matplotlib.pyplot as plt\\nimport seaborn as sns'); }\n",
       "    "
      ],
      "text/plain": [
       "<IPython.core.display.Javascript object>"
      ]
     },
     "metadata": {},
     "output_type": "display_data"
    },
    {
     "data": {
      "application/javascript": [
       "\n",
       "        if (window._pyforest_update_imports_cell) { window._pyforest_update_imports_cell('import matplotlib.pyplot as plt\\nimport seaborn as sns'); }\n",
       "    "
      ],
      "text/plain": [
       "<IPython.core.display.Javascript object>"
      ]
     },
     "metadata": {},
     "output_type": "display_data"
    },
    {
     "data": {
      "application/javascript": [
       "\n",
       "        if (window._pyforest_update_imports_cell) { window._pyforest_update_imports_cell('import matplotlib.pyplot as plt\\nimport seaborn as sns'); }\n",
       "    "
      ],
      "text/plain": [
       "<IPython.core.display.Javascript object>"
      ]
     },
     "metadata": {},
     "output_type": "display_data"
    },
    {
     "data": {
      "application/javascript": [
       "\n",
       "        if (window._pyforest_update_imports_cell) { window._pyforest_update_imports_cell('import matplotlib.pyplot as plt\\nimport seaborn as sns'); }\n",
       "    "
      ],
      "text/plain": [
       "<IPython.core.display.Javascript object>"
      ]
     },
     "metadata": {},
     "output_type": "display_data"
    },
    {
     "data": {
      "application/javascript": [
       "\n",
       "        if (window._pyforest_update_imports_cell) { window._pyforest_update_imports_cell('import matplotlib.pyplot as plt\\nimport seaborn as sns'); }\n",
       "    "
      ],
      "text/plain": [
       "<IPython.core.display.Javascript object>"
      ]
     },
     "metadata": {},
     "output_type": "display_data"
    },
    {
     "data": {
      "application/javascript": [
       "\n",
       "        if (window._pyforest_update_imports_cell) { window._pyforest_update_imports_cell('import matplotlib.pyplot as plt\\nimport seaborn as sns'); }\n",
       "    "
      ],
      "text/plain": [
       "<IPython.core.display.Javascript object>"
      ]
     },
     "metadata": {},
     "output_type": "display_data"
    },
    {
     "data": {
      "application/javascript": [
       "\n",
       "        if (window._pyforest_update_imports_cell) { window._pyforest_update_imports_cell('import matplotlib.pyplot as plt\\nimport seaborn as sns'); }\n",
       "    "
      ],
      "text/plain": [
       "<IPython.core.display.Javascript object>"
      ]
     },
     "metadata": {},
     "output_type": "display_data"
    },
    {
     "data": {
      "application/javascript": [
       "\n",
       "        if (window._pyforest_update_imports_cell) { window._pyforest_update_imports_cell('import matplotlib.pyplot as plt\\nimport seaborn as sns'); }\n",
       "    "
      ],
      "text/plain": [
       "<IPython.core.display.Javascript object>"
      ]
     },
     "metadata": {},
     "output_type": "display_data"
    },
    {
     "data": {
      "image/png": "[encoded data removed]",
      "text/plain": [
       "<Figure size 1152x576 with 3 Axes>"
      ]
     },
     "metadata": {},
     "output_type": "display_data"
    }
   ],
   "source": [
    "sns.set(rc={'figure.figsize': (16,8)})\n",
    "sns.set_style(\"darkgrid\")\n",
    "\n",
    "c_1 = '#cc33ff'\n",
    "c_2 = '#00cc99'\n",
    "\n",
    "f, (ax_box1, ax_box2, ax_hist) = plt.subplots(3, sharex=True, gridspec_kw={\"height_ratios\": (.15, .15, .85)})\n",
    "\n",
    "sns.boxplot(x = avg_trade_weighted_3, ax = ax_box1, color = c_2)\n",
    "# sns.swarmplot(x = avg_trade_p_Anders_2, ax = ax_box1)\n",
    "sns.boxplot(x = avg_trade_normal_2, ax = ax_box2, color = c_1)\n",
    "\n",
    "\n",
    "sns.histplot(x = avg_trade_weighted_3, ax=ax_hist, kde=True, color = c_1).set_ylabel('Return count')\n",
    "sns.histplot(x = avg_trade_normal_2, ax=ax_hist, kde=True, color = c_2)\n",
    "\n",
    "# sns.despine(left=True)\n",
    "# sns.despine(bottom=True, left=True, ax=ax_box1)\n",
    "# sns.despine(bottom=True, left=True, ax=ax_box2)\n",
    "\n",
    "plt.legend(title = '', loc=2, fontsize = 14, labels = ['Normal trades', 'Weighted trades']).\\\n",
    "                                                get_frame().set_facecolor('white')\n",
    "plt.savefig('strategy_return_subplot', bbox_inches='tight', pad_inches = 0.3)\n",
    "plt.show()"
   ]
  },
  {
   "cell_type": "code",
   "execution_count": null,
   "id": "amateur-tobago",
   "metadata": {},
   "outputs": [],
   "source": []
  },
  {
   "cell_type": "code",
   "execution_count": null,
   "id": "manufactured-possibility",
   "metadata": {},
   "outputs": [],
   "source": []
  },
  {
   "cell_type": "markdown",
   "id": "arbitrary-excitement",
   "metadata": {},
   "source": [
    "### Fundamental"
   ]
  },
  {
   "cell_type": "code",
   "execution_count": 725,
   "id": "pointed-polls",
   "metadata": {},
   "outputs": [
    {
     "data": {
      "text/plain": [
       "dict_keys(['DFDS|WALLENIUS WILHELMSEN'])"
      ]
     },
     "execution_count": 725,
     "metadata": {},
     "output_type": "execute_result"
    }
   ],
   "source": [
    "EQT = 'WAWI'\n",
    "file = open('7_' + EQT + '.json', 'r')\n",
    "data_fund = json.loads(file.read())\n",
    "data_fund.keys()"
   ]
  },
  {
   "cell_type": "code",
   "execution_count": null,
   "id": "homeless-twenty",
   "metadata": {},
   "outputs": [],
   "source": []
  },
  {
   "cell_type": "code",
   "execution_count": 726,
   "id": "maritime-attempt",
   "metadata": {},
   "outputs": [
    {
     "name": "stdout",
     "output_type": "stream",
     "text": [
      "************ WAWI ***************\n",
      "All returns are reported as weighted averages\n",
      "\n",
      "Anders mean: 88.13%\n",
      "Basic mean: 89.27%\n",
      "Strategy difference: -1.15%\n",
      "\n",
      "Weighted mean: 61.76%\n",
      "Normal mean: 90.52%\n",
      "Trade difference: -28.77%\n",
      "\n"
     ]
    }
   ],
   "source": [
    "###### DIVISOR IS SUM OF TOTAL PARTS (SUM THE WEIGHTS, NOT LENGTH OF LIST)\n",
    "\n",
    "fund_returns = {}\n",
    "\n",
    "div_normal_all = 0\n",
    "div_weighted_all = 0\n",
    "div_basic_all = 0\n",
    "div_tot_all = 0\n",
    "\n",
    "pair_normal_all = []\n",
    "pair_weighted_all = []\n",
    "pair_basic_all = []\n",
    "\n",
    "for pair in data_fund.keys():\n",
    "#     print(pair)\n",
    "    \n",
    "    pair_normal = [W*R for W, R in data_fund[pair]['normal_order_returns_with_weight']\\\n",
    "                     if pair.split('|')[0] not in COUNTRIES_EX_FOR\n",
    "                     if pair.split('|')[1] not in COUNTRIES_EX_NO]        \n",
    "    pair_weighted = [W*R for W, R in data_fund[pair]['weighted_order_returns']\\\n",
    "                     if pair.split('|')[0] not in COUNTRIES_EX_FOR\n",
    "                     if pair.split('|')[1] not in COUNTRIES_EX_NO]\n",
    "    \n",
    "    pair_basic = [W*R for W, R in data_fund[pair]['normal_order_returns_with_weight_basic']\\\n",
    "                     if pair.split('|')[0] not in COUNTRIES_EX_FOR\n",
    "                     if pair.split('|')[1] not in COUNTRIES_EX_NO]\n",
    "    \n",
    "    pair_basic_all.extend(pair_basic)\n",
    "    \n",
    "    pair_normal_all.extend(pair_normal)\n",
    "    pair_weighted_all.extend(pair_weighted)\n",
    "    \n",
    "    div_normal = sum([W for W, _ in data_fund[pair]['normal_order_returns_with_weight']\\\n",
    "                     if pair.split('|')[0] not in COUNTRIES_EX_FOR\n",
    "                     if pair.split('|')[1] not in COUNTRIES_EX_NO])\n",
    "    div_weighted = sum([W for W, R in data_fund[pair]['weighted_order_returns']\\\n",
    "                     if pair.split('|')[0] not in COUNTRIES_EX_FOR\n",
    "                     if pair.split('|')[1] not in COUNTRIES_EX_NO])\n",
    "    div_basic = sum([W for W, R in data_fund[pair]['normal_order_returns_with_weight_basic']\\\n",
    "                     if pair.split('|')[0] not in COUNTRIES_EX_FOR\n",
    "                     if pair.split('|')[1] not in COUNTRIES_EX_NO])\n",
    "    div_tot = div_normal + div_weighted\n",
    "    \n",
    "    div_normal_all += div_normal\n",
    "    div_weighted_all += div_weighted\n",
    "    div_basic_all += div_basic\n",
    "    div_tot_all += div_tot\n",
    "\n",
    "    \n",
    "#     print(pair, '\\n', sum(pair_normal), sum(pair_weighted), len_normal, len_tot)\n",
    "    \n",
    "    if div_tot == 0:\n",
    "        pair_return_Anders = 0\n",
    "    else:\n",
    "        pair_return_Anders = (sum(pair_normal) + sum(pair_weighted)) / div_tot\n",
    "    \n",
    "    if div_normal == 0:\n",
    "        pair_return_basic = 0\n",
    "    else:\n",
    "        pair_return_basic = sum(pair_normal) / div_normal\n",
    "        \n",
    "    if div_weighted == 0:\n",
    "        pair_return_weighted = 0\n",
    "    else:\n",
    "        pair_return_weighted = sum(pair_weighted) / div_weighted\n",
    "        \n",
    "    fin_returns[pair] = {'A': pair_return_Anders,\n",
    "                         'B / N': pair_return_basic,\n",
    "                         'W': pair_return_weighted}\n",
    "    \n",
    "\n",
    "Anders_mean_fund = (sum(pair_normal_all + pair_weighted_all) / div_tot_all)-0.01\n",
    "Basic_mean_fund = ((sum(pair_basic_all) / div_basic_all)-0.01)\n",
    "Strategy_difference_fund = (sum(pair_normal_all + pair_weighted_all) / div_tot_all) - (sum(pair_basic_all) / div_basic_all)\n",
    "Normal_mean_fund = (sum(pair_normal_all) / div_normal_all)-0.01\n",
    "if div_weighted_all == 0:\n",
    "    Weighted_mean_fund = 0\n",
    "    Trade_difference_fund = 0\n",
    "else:\n",
    "    Weighted_mean_fund = (sum(pair_weighted_all) / div_weighted_all)-0.01\n",
    "    Trade_difference_fund = (sum(pair_weighted_all) / div_weighted_all) - (sum(pair_normal_all) / div_normal_all)\n",
    "\n",
    "print('*'*12, EQT.upper(), '*'*15 + '\\nAll returns are reported as weighted averages\\n')\n",
    "print(f'Anders mean: {Anders_mean_fund:.2%}')\n",
    "print(f'Basic mean: {Basic_mean_fund:.2%}')\n",
    "print(f'Strategy difference: {Strategy_difference_fund :.2%}\\n')\n",
    "print(f'Weighted mean: {Weighted_mean_fund:.2%}')\n",
    "print(f'Normal mean: {Normal_mean_fund:.2%}')\n",
    "print(f'Trade difference: {Trade_difference_fund:.2%}\\n')\n"
   ]
  },
  {
   "cell_type": "code",
   "execution_count": 632,
   "id": "technical-western",
   "metadata": {},
   "outputs": [],
   "source": [
    "# df_fund_data = pd.DataFrame()"
   ]
  },
  {
   "cell_type": "code",
   "execution_count": 727,
   "id": "banned-moldova",
   "metadata": {},
   "outputs": [],
   "source": [
    "df_fund_data[EQT] = [Anders_mean_fund, Basic_mean_fund, Strategy_difference_fund,\n",
    "                     Normal_mean_fund, Weighted_mean_fund, Trade_difference_fund]"
   ]
  },
  {
   "cell_type": "code",
   "execution_count": 636,
   "id": "cardiovascular-semester",
   "metadata": {},
   "outputs": [],
   "source": [
    "# df_fund_data.index = ['Anders_mean', 'Basic_mean', 'Strategy_difference', 'Normal_mean',\n",
    "#                          'Weighted_mean', 'Trade_difference']"
   ]
  },
  {
   "cell_type": "code",
   "execution_count": 728,
   "id": "dominican-password",
   "metadata": {},
   "outputs": [
    {
     "data": {
      "text/html": [
       "<div>\n",
       "<style scoped>\n",
       "    .dataframe tbody tr th:only-of-type {\n",
       "        vertical-align: middle;\n",
       "    }\n",
       "\n",
       "    .dataframe tbody tr th {\n",
       "        vertical-align: top;\n",
       "    }\n",
       "\n",
       "    .dataframe thead th {\n",
       "        text-align: right;\n",
       "    }\n",
       "</style>\n",
       "<table border=\"1\" class=\"dataframe\">\n",
       "  <thead>\n",
       "    <tr style=\"text-align: right;\">\n",
       "      <th></th>\n",
       "      <th>Anders_mean</th>\n",
       "      <th>Basic_mean</th>\n",
       "      <th>Strategy_difference</th>\n",
       "      <th>Normal_mean</th>\n",
       "      <th>Weighted_mean</th>\n",
       "      <th>Trade_difference</th>\n",
       "    </tr>\n",
       "  </thead>\n",
       "  <tbody>\n",
       "    <tr>\n",
       "      <th>EQUINOR</th>\n",
       "      <td>-0.122073</td>\n",
       "      <td>-0.122426</td>\n",
       "      <td>0.000353</td>\n",
       "      <td>-0.122820</td>\n",
       "      <td>-0.115687</td>\n",
       "      <td>0.007133</td>\n",
       "    </tr>\n",
       "    <tr>\n",
       "      <th>DNB</th>\n",
       "      <td>-0.242863</td>\n",
       "      <td>-0.238600</td>\n",
       "      <td>-0.004263</td>\n",
       "      <td>-0.235688</td>\n",
       "      <td>-0.285912</td>\n",
       "      <td>-0.050225</td>\n",
       "    </tr>\n",
       "    <tr>\n",
       "      <th>TELENOR</th>\n",
       "      <td>0.025028</td>\n",
       "      <td>0.019366</td>\n",
       "      <td>0.005662</td>\n",
       "      <td>0.013165</td>\n",
       "      <td>0.138911</td>\n",
       "      <td>0.125746</td>\n",
       "    </tr>\n",
       "    <tr>\n",
       "      <th>HYDRO</th>\n",
       "      <td>0.058357</td>\n",
       "      <td>0.080308</td>\n",
       "      <td>-0.021951</td>\n",
       "      <td>0.100064</td>\n",
       "      <td>-0.275300</td>\n",
       "      <td>-0.375363</td>\n",
       "    </tr>\n",
       "    <tr>\n",
       "      <th>AKERBP</th>\n",
       "      <td>0.173209</td>\n",
       "      <td>0.173209</td>\n",
       "      <td>0.000000</td>\n",
       "      <td>0.173209</td>\n",
       "      <td>0.000000</td>\n",
       "      <td>0.000000</td>\n",
       "    </tr>\n",
       "    <tr>\n",
       "      <th>YARA</th>\n",
       "      <td>0.389493</td>\n",
       "      <td>0.389493</td>\n",
       "      <td>0.000000</td>\n",
       "      <td>0.389493</td>\n",
       "      <td>0.000000</td>\n",
       "      <td>0.000000</td>\n",
       "    </tr>\n",
       "    <tr>\n",
       "      <th>GJENSIDIGE</th>\n",
       "      <td>0.101965</td>\n",
       "      <td>0.093137</td>\n",
       "      <td>0.008828</td>\n",
       "      <td>0.080905</td>\n",
       "      <td>0.179002</td>\n",
       "      <td>0.098096</td>\n",
       "    </tr>\n",
       "    <tr>\n",
       "      <th>ORKLA</th>\n",
       "      <td>-0.015213</td>\n",
       "      <td>-0.017867</td>\n",
       "      <td>0.002654</td>\n",
       "      <td>-0.021020</td>\n",
       "      <td>0.030011</td>\n",
       "      <td>0.051031</td>\n",
       "    </tr>\n",
       "    <tr>\n",
       "      <th>SCHIBSTED_A</th>\n",
       "      <td>0.170309</td>\n",
       "      <td>0.180231</td>\n",
       "      <td>-0.009922</td>\n",
       "      <td>0.182972</td>\n",
       "      <td>0.151978</td>\n",
       "      <td>-0.030995</td>\n",
       "    </tr>\n",
       "    <tr>\n",
       "      <th>AF_GRUPPEN</th>\n",
       "      <td>-0.173968</td>\n",
       "      <td>-0.162219</td>\n",
       "      <td>-0.011749</td>\n",
       "      <td>-0.151914</td>\n",
       "      <td>-0.249777</td>\n",
       "      <td>-0.097862</td>\n",
       "    </tr>\n",
       "    <tr>\n",
       "      <th>AFK</th>\n",
       "      <td>0.461824</td>\n",
       "      <td>0.456992</td>\n",
       "      <td>0.004832</td>\n",
       "      <td>0.443704</td>\n",
       "      <td>0.510143</td>\n",
       "      <td>0.066439</td>\n",
       "    </tr>\n",
       "    <tr>\n",
       "      <th>ATEA</th>\n",
       "      <td>-0.093411</td>\n",
       "      <td>-0.098303</td>\n",
       "      <td>0.004892</td>\n",
       "      <td>-0.101692</td>\n",
       "      <td>0.130184</td>\n",
       "      <td>0.231876</td>\n",
       "    </tr>\n",
       "    <tr>\n",
       "      <th>BOUVET</th>\n",
       "      <td>-0.215913</td>\n",
       "      <td>-0.215913</td>\n",
       "      <td>0.000000</td>\n",
       "      <td>-0.215913</td>\n",
       "      <td>0.000000</td>\n",
       "      <td>0.000000</td>\n",
       "    </tr>\n",
       "    <tr>\n",
       "      <th>BORREGAARD</th>\n",
       "      <td>-0.507581</td>\n",
       "      <td>-0.482350</td>\n",
       "      <td>-0.025231</td>\n",
       "      <td>-0.414121</td>\n",
       "      <td>-0.557294</td>\n",
       "      <td>-0.143173</td>\n",
       "    </tr>\n",
       "    <tr>\n",
       "      <th>KONGSBERGGRUPPEN</th>\n",
       "      <td>0.165338</td>\n",
       "      <td>0.143498</td>\n",
       "      <td>0.021840</td>\n",
       "      <td>0.112816</td>\n",
       "      <td>0.240554</td>\n",
       "      <td>0.127737</td>\n",
       "    </tr>\n",
       "    <tr>\n",
       "      <th>NORDIC_SEMI</th>\n",
       "      <td>0.120622</td>\n",
       "      <td>0.112271</td>\n",
       "      <td>0.008352</td>\n",
       "      <td>0.109565</td>\n",
       "      <td>0.152694</td>\n",
       "      <td>0.043130</td>\n",
       "    </tr>\n",
       "    <tr>\n",
       "      <th>PROTECTOR</th>\n",
       "      <td>0.650525</td>\n",
       "      <td>0.645910</td>\n",
       "      <td>0.004615</td>\n",
       "      <td>0.643374</td>\n",
       "      <td>0.677438</td>\n",
       "      <td>0.034064</td>\n",
       "    </tr>\n",
       "    <tr>\n",
       "      <th>STOREBRAND</th>\n",
       "      <td>0.301810</td>\n",
       "      <td>0.289351</td>\n",
       "      <td>0.012459</td>\n",
       "      <td>0.277280</td>\n",
       "      <td>0.381501</td>\n",
       "      <td>0.104222</td>\n",
       "    </tr>\n",
       "    <tr>\n",
       "      <th>SUBSEA_7</th>\n",
       "      <td>0.705245</td>\n",
       "      <td>0.701569</td>\n",
       "      <td>0.003677</td>\n",
       "      <td>0.697806</td>\n",
       "      <td>1.021430</td>\n",
       "      <td>0.323624</td>\n",
       "    </tr>\n",
       "    <tr>\n",
       "      <th>VEIDEKKE</th>\n",
       "      <td>-0.122750</td>\n",
       "      <td>-0.109927</td>\n",
       "      <td>-0.012823</td>\n",
       "      <td>-0.106030</td>\n",
       "      <td>-0.167727</td>\n",
       "      <td>-0.061698</td>\n",
       "    </tr>\n",
       "    <tr>\n",
       "      <th>WAWI</th>\n",
       "      <td>0.881272</td>\n",
       "      <td>0.892736</td>\n",
       "      <td>-0.011464</td>\n",
       "      <td>0.905243</td>\n",
       "      <td>0.617592</td>\n",
       "      <td>-0.287650</td>\n",
       "    </tr>\n",
       "  </tbody>\n",
       "</table>\n",
       "</div>"
      ],
      "text/plain": [
       "                  Anders_mean  Basic_mean  Strategy_difference  Normal_mean  \\\n",
       "EQUINOR             -0.122073   -0.122426             0.000353    -0.122820   \n",
       "DNB                 -0.242863   -0.238600            -0.004263    -0.235688   \n",
       "TELENOR              0.025028    0.019366             0.005662     0.013165   \n",
       "HYDRO                0.058357    0.080308            -0.021951     0.100064   \n",
       "AKERBP               0.173209    0.173209             0.000000     0.173209   \n",
       "YARA                 0.389493    0.389493             0.000000     0.389493   \n",
       "GJENSIDIGE           0.101965    0.093137             0.008828     0.080905   \n",
       "ORKLA               -0.015213   -0.017867             0.002654    -0.021020   \n",
       "SCHIBSTED_A          0.170309    0.180231            -0.009922     0.182972   \n",
       "AF_GRUPPEN          -0.173968   -0.162219            -0.011749    -0.151914   \n",
       "AFK                  0.461824    0.456992             0.004832     0.443704   \n",
       "ATEA                -0.093411   -0.098303             0.004892    -0.101692   \n",
       "BOUVET              -0.215913   -0.215913             0.000000    -0.215913   \n",
       "BORREGAARD          -0.507581   -0.482350            -0.025231    -0.414121   \n",
       "KONGSBERGGRUPPEN     0.165338    0.143498             0.021840     0.112816   \n",
       "NORDIC_SEMI          0.120622    0.112271             0.008352     0.109565   \n",
       "PROTECTOR            0.650525    0.645910             0.004615     0.643374   \n",
       "STOREBRAND           0.301810    0.289351             0.012459     0.277280   \n",
       "SUBSEA_7             0.705245    0.701569             0.003677     0.697806   \n",
       "VEIDEKKE            -0.122750   -0.109927            -0.012823    -0.106030   \n",
       "WAWI                 0.881272    0.892736            -0.011464     0.905243   \n",
       "\n",
       "                  Weighted_mean  Trade_difference  \n",
       "EQUINOR               -0.115687          0.007133  \n",
       "DNB                   -0.285912         -0.050225  \n",
       "TELENOR                0.138911          0.125746  \n",
       "HYDRO                 -0.275300         -0.375363  \n",
       "AKERBP                 0.000000          0.000000  \n",
       "YARA                   0.000000          0.000000  \n",
       "GJENSIDIGE             0.179002          0.098096  \n",
       "ORKLA                  0.030011          0.051031  \n",
       "SCHIBSTED_A            0.151978         -0.030995  \n",
       "AF_GRUPPEN            -0.249777         -0.097862  \n",
       "AFK                    0.510143          0.066439  \n",
       "ATEA                   0.130184          0.231876  \n",
       "BOUVET                 0.000000          0.000000  \n",
       "BORREGAARD            -0.557294         -0.143173  \n",
       "KONGSBERGGRUPPEN       0.240554          0.127737  \n",
       "NORDIC_SEMI            0.152694          0.043130  \n",
       "PROTECTOR              0.677438          0.034064  \n",
       "STOREBRAND             0.381501          0.104222  \n",
       "SUBSEA_7               1.021430          0.323624  \n",
       "VEIDEKKE              -0.167727         -0.061698  \n",
       "WAWI                   0.617592         -0.287650  "
      ]
     },
     "execution_count": 728,
     "metadata": {},
     "output_type": "execute_result"
    }
   ],
   "source": [
    "df_fund_data.T"
   ]
  },
  {
   "cell_type": "code",
   "execution_count": 729,
   "id": "boolean-machine",
   "metadata": {},
   "outputs": [],
   "source": [
    "df_fund_data.T.to_excel(\"PT_FUNDAMENTAL_DATA_2.xlsx\",\n",
    "             sheet_name='Sheet_1')  "
   ]
  },
  {
   "cell_type": "code",
   "execution_count": 821,
   "id": "eleven-collaboration",
   "metadata": {},
   "outputs": [
    {
     "data": {
      "text/plain": [
       "37"
      ]
     },
     "execution_count": 821,
     "metadata": {},
     "output_type": "execute_result"
    }
   ],
   "source": [
    "sum_ = 0\n",
    "\n",
    "for p in ALL_DATA['DENMARK'].keys():\n",
    "    sum_ += len(ALL_DATA['DENMARK'][p]['weighted_order_returns'])\n",
    "sum_"
   ]
  },
  {
   "cell_type": "code",
   "execution_count": null,
   "id": "reverse-newcastle",
   "metadata": {},
   "outputs": [],
   "source": [
    "countries = ['US', 'UK', 'FRANCE', 'GERMANY', 'SPAIN', 'ITALY', 'CANADA',\n",
    "             'AUSTRALIA', 'AUSTRIA', 'CHINA', 'HK', 'JAPAN', 'SWISS',\n",
    "             'SWEDEN', 'DENMARK', 'FINLAND']"
   ]
  }
 ],
 "metadata": {
  "kernelspec": {
   "display_name": "Python 3",
   "language": "python",
   "name": "python3"
  },
  "language_info": {
   "codemirror_mode": {
    "name": "ipython",
    "version": 3
   },
   "file_extension": ".py",
   "mimetype": "text/x-python",
   "name": "python",
   "nbconvert_exporter": "python",
   "pygments_lexer": "ipython3",
   "version": "3.8.5"
  }
 },
 "nbformat": 4,
 "nbformat_minor": 5
}
